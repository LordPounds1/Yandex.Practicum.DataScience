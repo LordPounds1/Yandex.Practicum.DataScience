{
 "cells": [
  {
   "cell_type": "markdown",
   "metadata": {},
   "source": [
    "# Анализ успешных продаж игр для планирования рекламы"
   ]
  },
  {
   "cell_type": "markdown",
   "metadata": {},
   "source": [
    "# Описание проекта"
   ]
  },
  {
   "cell_type": "markdown",
   "metadata": {},
   "source": [
    "- Проект направлен на анализ данных интернет-магазина Стримчик, специализирующегося на продаже компьютерных игр по всему миру. Имея доступ к историческим данным о продажах игр, оценкам пользователей и экспертов, а также информации о жанрах и платформах (например, Xbox и PlayStation), наша цель — выявить ключевые закономерности, определяющие успешность игры. \n",
    "\n",
    "- Эти знания помогут спрогнозировать потенциально популярные продукты и более эффективно планировать рекламные кампании на предстоящий год. Основные данные охватывают период до 2016 года, что позволяет разработать стратегии продвижения на 2017-й год. Важным аспектом исследования является анализ возрастных рейтингов ESRB, которые могут оказывать влияние на продажи игр среди различных возрастных групп."
   ]
  },
  {
   "cell_type": "markdown",
   "metadata": {},
   "source": [
    "# Описание данных"
   ]
  },
  {
   "cell_type": "markdown",
   "metadata": {},
   "source": [
    "* **`Name`** — название игры\n",
    "* **`Platform`** — платформ\n",
    "* **`Year_of_Release`** — год выпуска\n",
    "* **`Genre`** — жанр игры\n",
    "* **`NA_sales`** - продажи в Северной Америке (миллионы проданных копий)\n",
    "* **`EU_sales`** - продажи в Европе (миллионы проданных копий)\n",
    "* **`JP_sales`** — продажи в Японии (миллионы проданных копий)\n",
    "* **`Other_sales`** — продажи в других странах (миллионы проданных копий)\n",
    "* **`Critic_Score`** — оценка критиков (максимум 100)\n",
    "* **`User_Score`** — оценка пользователей (максимум 10)\n",
    "* **`Rating`** — рейтинг от организации ESRB (англ. Entertainment Software Rating Board). Эта ассоциация определяет рейтинг компьютерных игр и присваивает им подходящую возрастную категорию."
   ]
  },
  {
   "cell_type": "markdown",
   "metadata": {},
   "source": [
    "## Ознакомление и подготовка данных "
   ]
  },
  {
   "cell_type": "code",
   "execution_count": 1,
   "metadata": {},
   "outputs": [],
   "source": [
    "import pandas as pd\n",
    "import numpy as np\n",
    "import matplotlib.pyplot as plt\n",
    "import seaborn as sns\n",
    "from scipy import stats as st"
   ]
  },
  {
   "cell_type": "code",
   "execution_count": 2,
   "metadata": {},
   "outputs": [],
   "source": [
    "try:\n",
    "    df = pd.read_csv('C:/Users/Gpets/Data With Python/datasets/games.csv')\n",
    "except:\n",
    "    df = pd.read_csv('/datasets/games.csv')"
   ]
  },
  {
   "cell_type": "code",
   "execution_count": 3,
   "metadata": {},
   "outputs": [
    {
     "data": {
      "text/html": [
       "<div>\n",
       "<style scoped>\n",
       "    .dataframe tbody tr th:only-of-type {\n",
       "        vertical-align: middle;\n",
       "    }\n",
       "\n",
       "    .dataframe tbody tr th {\n",
       "        vertical-align: top;\n",
       "    }\n",
       "\n",
       "    .dataframe thead th {\n",
       "        text-align: right;\n",
       "    }\n",
       "</style>\n",
       "<table border=\"1\" class=\"dataframe\">\n",
       "  <thead>\n",
       "    <tr style=\"text-align: right;\">\n",
       "      <th></th>\n",
       "      <th>Name</th>\n",
       "      <th>Platform</th>\n",
       "      <th>Year_of_Release</th>\n",
       "      <th>Genre</th>\n",
       "      <th>NA_sales</th>\n",
       "      <th>EU_sales</th>\n",
       "      <th>JP_sales</th>\n",
       "      <th>Other_sales</th>\n",
       "      <th>Critic_Score</th>\n",
       "      <th>User_Score</th>\n",
       "      <th>Rating</th>\n",
       "    </tr>\n",
       "  </thead>\n",
       "  <tbody>\n",
       "    <tr>\n",
       "      <th>0</th>\n",
       "      <td>Wii Sports</td>\n",
       "      <td>Wii</td>\n",
       "      <td>2006.0</td>\n",
       "      <td>Sports</td>\n",
       "      <td>41.36</td>\n",
       "      <td>28.96</td>\n",
       "      <td>3.77</td>\n",
       "      <td>8.45</td>\n",
       "      <td>76.0</td>\n",
       "      <td>8</td>\n",
       "      <td>E</td>\n",
       "    </tr>\n",
       "    <tr>\n",
       "      <th>1</th>\n",
       "      <td>Super Mario Bros.</td>\n",
       "      <td>NES</td>\n",
       "      <td>1985.0</td>\n",
       "      <td>Platform</td>\n",
       "      <td>29.08</td>\n",
       "      <td>3.58</td>\n",
       "      <td>6.81</td>\n",
       "      <td>0.77</td>\n",
       "      <td>NaN</td>\n",
       "      <td>NaN</td>\n",
       "      <td>NaN</td>\n",
       "    </tr>\n",
       "    <tr>\n",
       "      <th>2</th>\n",
       "      <td>Mario Kart Wii</td>\n",
       "      <td>Wii</td>\n",
       "      <td>2008.0</td>\n",
       "      <td>Racing</td>\n",
       "      <td>15.68</td>\n",
       "      <td>12.76</td>\n",
       "      <td>3.79</td>\n",
       "      <td>3.29</td>\n",
       "      <td>82.0</td>\n",
       "      <td>8.3</td>\n",
       "      <td>E</td>\n",
       "    </tr>\n",
       "    <tr>\n",
       "      <th>3</th>\n",
       "      <td>Wii Sports Resort</td>\n",
       "      <td>Wii</td>\n",
       "      <td>2009.0</td>\n",
       "      <td>Sports</td>\n",
       "      <td>15.61</td>\n",
       "      <td>10.93</td>\n",
       "      <td>3.28</td>\n",
       "      <td>2.95</td>\n",
       "      <td>80.0</td>\n",
       "      <td>8</td>\n",
       "      <td>E</td>\n",
       "    </tr>\n",
       "    <tr>\n",
       "      <th>4</th>\n",
       "      <td>Pokemon Red/Pokemon Blue</td>\n",
       "      <td>GB</td>\n",
       "      <td>1996.0</td>\n",
       "      <td>Role-Playing</td>\n",
       "      <td>11.27</td>\n",
       "      <td>8.89</td>\n",
       "      <td>10.22</td>\n",
       "      <td>1.00</td>\n",
       "      <td>NaN</td>\n",
       "      <td>NaN</td>\n",
       "      <td>NaN</td>\n",
       "    </tr>\n",
       "  </tbody>\n",
       "</table>\n",
       "</div>"
      ],
      "text/plain": [
       "                       Name Platform  Year_of_Release         Genre  NA_sales  \\\n",
       "0                Wii Sports      Wii           2006.0        Sports     41.36   \n",
       "1         Super Mario Bros.      NES           1985.0      Platform     29.08   \n",
       "2            Mario Kart Wii      Wii           2008.0        Racing     15.68   \n",
       "3         Wii Sports Resort      Wii           2009.0        Sports     15.61   \n",
       "4  Pokemon Red/Pokemon Blue       GB           1996.0  Role-Playing     11.27   \n",
       "\n",
       "   EU_sales  JP_sales  Other_sales  Critic_Score User_Score Rating  \n",
       "0     28.96      3.77         8.45          76.0          8      E  \n",
       "1      3.58      6.81         0.77           NaN        NaN    NaN  \n",
       "2     12.76      3.79         3.29          82.0        8.3      E  \n",
       "3     10.93      3.28         2.95          80.0          8      E  \n",
       "4      8.89     10.22         1.00           NaN        NaN    NaN  "
      ]
     },
     "execution_count": 3,
     "metadata": {},
     "output_type": "execute_result"
    }
   ],
   "source": [
    "df.head()"
   ]
  },
  {
   "cell_type": "markdown",
   "metadata": {},
   "source": [
    "### Замена названия столбцов (приведение к нижнему регистру)"
   ]
  },
  {
   "cell_type": "markdown",
   "metadata": {},
   "source": [
    "Для начала приведем названия столбцев к нижнему регистру для удобности в прочтении"
   ]
  },
  {
   "cell_type": "code",
   "execution_count": 4,
   "metadata": {},
   "outputs": [],
   "source": [
    "df.columns = df.columns.str.lower()"
   ]
  },
  {
   "cell_type": "code",
   "execution_count": 5,
   "metadata": {},
   "outputs": [
    {
     "data": {
      "text/html": [
       "<div>\n",
       "<style scoped>\n",
       "    .dataframe tbody tr th:only-of-type {\n",
       "        vertical-align: middle;\n",
       "    }\n",
       "\n",
       "    .dataframe tbody tr th {\n",
       "        vertical-align: top;\n",
       "    }\n",
       "\n",
       "    .dataframe thead th {\n",
       "        text-align: right;\n",
       "    }\n",
       "</style>\n",
       "<table border=\"1\" class=\"dataframe\">\n",
       "  <thead>\n",
       "    <tr style=\"text-align: right;\">\n",
       "      <th></th>\n",
       "      <th>name</th>\n",
       "      <th>platform</th>\n",
       "      <th>year_of_release</th>\n",
       "      <th>genre</th>\n",
       "      <th>na_sales</th>\n",
       "      <th>eu_sales</th>\n",
       "      <th>jp_sales</th>\n",
       "      <th>other_sales</th>\n",
       "      <th>critic_score</th>\n",
       "      <th>user_score</th>\n",
       "      <th>rating</th>\n",
       "    </tr>\n",
       "  </thead>\n",
       "  <tbody>\n",
       "    <tr>\n",
       "      <th>0</th>\n",
       "      <td>Wii Sports</td>\n",
       "      <td>Wii</td>\n",
       "      <td>2006.0</td>\n",
       "      <td>Sports</td>\n",
       "      <td>41.36</td>\n",
       "      <td>28.96</td>\n",
       "      <td>3.77</td>\n",
       "      <td>8.45</td>\n",
       "      <td>76.0</td>\n",
       "      <td>8</td>\n",
       "      <td>E</td>\n",
       "    </tr>\n",
       "    <tr>\n",
       "      <th>1</th>\n",
       "      <td>Super Mario Bros.</td>\n",
       "      <td>NES</td>\n",
       "      <td>1985.0</td>\n",
       "      <td>Platform</td>\n",
       "      <td>29.08</td>\n",
       "      <td>3.58</td>\n",
       "      <td>6.81</td>\n",
       "      <td>0.77</td>\n",
       "      <td>NaN</td>\n",
       "      <td>NaN</td>\n",
       "      <td>NaN</td>\n",
       "    </tr>\n",
       "    <tr>\n",
       "      <th>2</th>\n",
       "      <td>Mario Kart Wii</td>\n",
       "      <td>Wii</td>\n",
       "      <td>2008.0</td>\n",
       "      <td>Racing</td>\n",
       "      <td>15.68</td>\n",
       "      <td>12.76</td>\n",
       "      <td>3.79</td>\n",
       "      <td>3.29</td>\n",
       "      <td>82.0</td>\n",
       "      <td>8.3</td>\n",
       "      <td>E</td>\n",
       "    </tr>\n",
       "    <tr>\n",
       "      <th>3</th>\n",
       "      <td>Wii Sports Resort</td>\n",
       "      <td>Wii</td>\n",
       "      <td>2009.0</td>\n",
       "      <td>Sports</td>\n",
       "      <td>15.61</td>\n",
       "      <td>10.93</td>\n",
       "      <td>3.28</td>\n",
       "      <td>2.95</td>\n",
       "      <td>80.0</td>\n",
       "      <td>8</td>\n",
       "      <td>E</td>\n",
       "    </tr>\n",
       "    <tr>\n",
       "      <th>4</th>\n",
       "      <td>Pokemon Red/Pokemon Blue</td>\n",
       "      <td>GB</td>\n",
       "      <td>1996.0</td>\n",
       "      <td>Role-Playing</td>\n",
       "      <td>11.27</td>\n",
       "      <td>8.89</td>\n",
       "      <td>10.22</td>\n",
       "      <td>1.00</td>\n",
       "      <td>NaN</td>\n",
       "      <td>NaN</td>\n",
       "      <td>NaN</td>\n",
       "    </tr>\n",
       "  </tbody>\n",
       "</table>\n",
       "</div>"
      ],
      "text/plain": [
       "                       name platform  year_of_release         genre  na_sales  \\\n",
       "0                Wii Sports      Wii           2006.0        Sports     41.36   \n",
       "1         Super Mario Bros.      NES           1985.0      Platform     29.08   \n",
       "2            Mario Kart Wii      Wii           2008.0        Racing     15.68   \n",
       "3         Wii Sports Resort      Wii           2009.0        Sports     15.61   \n",
       "4  Pokemon Red/Pokemon Blue       GB           1996.0  Role-Playing     11.27   \n",
       "\n",
       "   eu_sales  jp_sales  other_sales  critic_score user_score rating  \n",
       "0     28.96      3.77         8.45          76.0          8      E  \n",
       "1      3.58      6.81         0.77           NaN        NaN    NaN  \n",
       "2     12.76      3.79         3.29          82.0        8.3      E  \n",
       "3     10.93      3.28         2.95          80.0          8      E  \n",
       "4      8.89     10.22         1.00           NaN        NaN    NaN  "
      ]
     },
     "execution_count": 5,
     "metadata": {},
     "output_type": "execute_result"
    }
   ],
   "source": [
    "df.head()"
   ]
  },
  {
   "cell_type": "markdown",
   "metadata": {},
   "source": [
    "### Проверка данных на аномальные значения"
   ]
  },
  {
   "cell_type": "markdown",
   "metadata": {},
   "source": [
    "В данных могут встречаться артефакты (аномалии) — значения, которые не отражают действительность и появились по какой-то ошибке. Давайте взглянем на наши данные"
   ]
  },
  {
   "cell_type": "code",
   "execution_count": 6,
   "metadata": {},
   "outputs": [
    {
     "data": {
      "text/html": [
       "<div>\n",
       "<style scoped>\n",
       "    .dataframe tbody tr th:only-of-type {\n",
       "        vertical-align: middle;\n",
       "    }\n",
       "\n",
       "    .dataframe tbody tr th {\n",
       "        vertical-align: top;\n",
       "    }\n",
       "\n",
       "    .dataframe thead th {\n",
       "        text-align: right;\n",
       "    }\n",
       "</style>\n",
       "<table border=\"1\" class=\"dataframe\">\n",
       "  <thead>\n",
       "    <tr style=\"text-align: right;\">\n",
       "      <th></th>\n",
       "      <th>year_of_release</th>\n",
       "      <th>na_sales</th>\n",
       "      <th>eu_sales</th>\n",
       "      <th>jp_sales</th>\n",
       "      <th>other_sales</th>\n",
       "      <th>critic_score</th>\n",
       "    </tr>\n",
       "  </thead>\n",
       "  <tbody>\n",
       "    <tr>\n",
       "      <th>count</th>\n",
       "      <td>16446.000000</td>\n",
       "      <td>16715.000000</td>\n",
       "      <td>16715.000000</td>\n",
       "      <td>16715.000000</td>\n",
       "      <td>16715.000000</td>\n",
       "      <td>8137.000000</td>\n",
       "    </tr>\n",
       "    <tr>\n",
       "      <th>mean</th>\n",
       "      <td>2006.484616</td>\n",
       "      <td>0.263377</td>\n",
       "      <td>0.145060</td>\n",
       "      <td>0.077617</td>\n",
       "      <td>0.047342</td>\n",
       "      <td>68.967679</td>\n",
       "    </tr>\n",
       "    <tr>\n",
       "      <th>std</th>\n",
       "      <td>5.877050</td>\n",
       "      <td>0.813604</td>\n",
       "      <td>0.503339</td>\n",
       "      <td>0.308853</td>\n",
       "      <td>0.186731</td>\n",
       "      <td>13.938165</td>\n",
       "    </tr>\n",
       "    <tr>\n",
       "      <th>min</th>\n",
       "      <td>1980.000000</td>\n",
       "      <td>0.000000</td>\n",
       "      <td>0.000000</td>\n",
       "      <td>0.000000</td>\n",
       "      <td>0.000000</td>\n",
       "      <td>13.000000</td>\n",
       "    </tr>\n",
       "    <tr>\n",
       "      <th>25%</th>\n",
       "      <td>2003.000000</td>\n",
       "      <td>0.000000</td>\n",
       "      <td>0.000000</td>\n",
       "      <td>0.000000</td>\n",
       "      <td>0.000000</td>\n",
       "      <td>60.000000</td>\n",
       "    </tr>\n",
       "    <tr>\n",
       "      <th>50%</th>\n",
       "      <td>2007.000000</td>\n",
       "      <td>0.080000</td>\n",
       "      <td>0.020000</td>\n",
       "      <td>0.000000</td>\n",
       "      <td>0.010000</td>\n",
       "      <td>71.000000</td>\n",
       "    </tr>\n",
       "    <tr>\n",
       "      <th>75%</th>\n",
       "      <td>2010.000000</td>\n",
       "      <td>0.240000</td>\n",
       "      <td>0.110000</td>\n",
       "      <td>0.040000</td>\n",
       "      <td>0.030000</td>\n",
       "      <td>79.000000</td>\n",
       "    </tr>\n",
       "    <tr>\n",
       "      <th>max</th>\n",
       "      <td>2016.000000</td>\n",
       "      <td>41.360000</td>\n",
       "      <td>28.960000</td>\n",
       "      <td>10.220000</td>\n",
       "      <td>10.570000</td>\n",
       "      <td>98.000000</td>\n",
       "    </tr>\n",
       "  </tbody>\n",
       "</table>\n",
       "</div>"
      ],
      "text/plain": [
       "       year_of_release      na_sales      eu_sales      jp_sales  \\\n",
       "count     16446.000000  16715.000000  16715.000000  16715.000000   \n",
       "mean       2006.484616      0.263377      0.145060      0.077617   \n",
       "std           5.877050      0.813604      0.503339      0.308853   \n",
       "min        1980.000000      0.000000      0.000000      0.000000   \n",
       "25%        2003.000000      0.000000      0.000000      0.000000   \n",
       "50%        2007.000000      0.080000      0.020000      0.000000   \n",
       "75%        2010.000000      0.240000      0.110000      0.040000   \n",
       "max        2016.000000     41.360000     28.960000     10.220000   \n",
       "\n",
       "        other_sales  critic_score  \n",
       "count  16715.000000   8137.000000  \n",
       "mean       0.047342     68.967679  \n",
       "std        0.186731     13.938165  \n",
       "min        0.000000     13.000000  \n",
       "25%        0.000000     60.000000  \n",
       "50%        0.010000     71.000000  \n",
       "75%        0.030000     79.000000  \n",
       "max       10.570000     98.000000  "
      ]
     },
     "execution_count": 6,
     "metadata": {},
     "output_type": "execute_result"
    }
   ],
   "source": [
    "df.describe()"
   ]
  },
  {
   "cell_type": "markdown",
   "metadata": {},
   "source": [
    "Сделаем некоторые выводы:\n",
    "* Аномальных значений не наблюдаю\n",
    "* Большая часть игр выпущена в период с 2003 по 2010 годы.\n",
    "* Средняя оценка критиков составляет около 71 из 100."
   ]
  },
  {
   "cell_type": "markdown",
   "metadata": {},
   "source": [
    "### Проверка на явные и неявные дубликаты"
   ]
  },
  {
   "cell_type": "markdown",
   "metadata": {},
   "source": [
    "Проверка на явные дубликаты"
   ]
  },
  {
   "cell_type": "code",
   "execution_count": 7,
   "metadata": {},
   "outputs": [
    {
     "name": "stdout",
     "output_type": "stream",
     "text": [
      "Количество явных дубликатов: 0\n"
     ]
    }
   ],
   "source": [
    "dupliсates = df.duplicated().sum()\n",
    "print(f'Количество явных дубликатов: {dupliсates}')"
   ]
  },
  {
   "cell_type": "markdown",
   "metadata": {},
   "source": [
    "Явных дубликатов нет, очень хорошо. Теперь займемся неявными"
   ]
  },
  {
   "cell_type": "markdown",
   "metadata": {},
   "source": [
    "Приведем все значения в столбцах `name`, `platform` и `genre` в нижний регистр, для коррекции значений, вдруг одни и те же значения записаны по разному"
   ]
  },
  {
   "cell_type": "code",
   "execution_count": 8,
   "metadata": {},
   "outputs": [],
   "source": [
    "df['name'] = df['name'].str.lower()\n",
    "df['platform'] = df['platform'].str.lower()\n",
    "df['genre'] = df['genre'].str.lower()"
   ]
  },
  {
   "cell_type": "markdown",
   "metadata": {},
   "source": [
    "Затем, мы будем отфильтровывать игры с одинаковыми именами и платформами, которые могли быть записаны несколько раз."
   ]
  },
  {
   "cell_type": "code",
   "execution_count": 9,
   "metadata": {},
   "outputs": [
    {
     "name": "stdout",
     "output_type": "stream",
     "text": [
      "                name platform  year_of_release   genre\n",
      "604    madden nfl 13      ps3           2012.0  sports\n",
      "659              NaN      gen           1993.0     NaN\n",
      "14244            NaN      gen           1993.0     NaN\n",
      "16230  madden nfl 13      ps3           2012.0  sports\n"
     ]
    }
   ],
   "source": [
    "implicit_duplicates = df[df.duplicated(subset=['name', 'platform', 'year_of_release', 'genre'], keep=False)]\n",
    "print(implicit_duplicates[['name', 'platform', 'year_of_release', 'genre']])"
   ]
  },
  {
   "cell_type": "code",
   "execution_count": 10,
   "metadata": {},
   "outputs": [],
   "source": [
    "df = df.drop_duplicates(subset=['name', 'platform', 'year_of_release', 'genre'])"
   ]
  },
  {
   "cell_type": "markdown",
   "metadata": {},
   "source": [
    "Теперь данные очищены от дубликатов, и каждый уникальный набор информации об игре представлен один раз."
   ]
  },
  {
   "cell_type": "code",
   "execution_count": 11,
   "metadata": {},
   "outputs": [
    {
     "name": "stdout",
     "output_type": "stream",
     "text": [
      "\n",
      "Проверка данных после удаления дубликатов:\n",
      "<class 'pandas.core.frame.DataFrame'>\n",
      "Int64Index: 16713 entries, 0 to 16714\n",
      "Data columns (total 11 columns):\n",
      " #   Column           Non-Null Count  Dtype  \n",
      "---  ------           --------------  -----  \n",
      " 0   name             16712 non-null  object \n",
      " 1   platform         16713 non-null  object \n",
      " 2   year_of_release  16444 non-null  float64\n",
      " 3   genre            16712 non-null  object \n",
      " 4   na_sales         16713 non-null  float64\n",
      " 5   eu_sales         16713 non-null  float64\n",
      " 6   jp_sales         16713 non-null  float64\n",
      " 7   other_sales      16713 non-null  float64\n",
      " 8   critic_score     8136 non-null   float64\n",
      " 9   user_score       10013 non-null  object \n",
      " 10  rating           9948 non-null   object \n",
      "dtypes: float64(6), object(5)\n",
      "memory usage: 1.5+ MB\n",
      "None\n",
      "\n",
      "Дубликаты по тем же параметрам:\n",
      "0\n"
     ]
    }
   ],
   "source": [
    "print(\"\\nПроверка данных после удаления дубликатов:\")\n",
    "print(df.info())\n",
    "print(\"\\nДубликаты по тем же параметрам:\")\n",
    "print(df.duplicated(subset=['name', 'platform', 'year_of_release']).sum())"
   ]
  },
  {
   "cell_type": "markdown",
   "metadata": {},
   "source": [
    "Все дубликаты были удалены, и количество строк почти не изменилось. Нет явных аномалий по типам данных. Все выглядит замечательно"
   ]
  },
  {
   "cell_type": "markdown",
   "metadata": {},
   "source": [
    "### Преобразование данных в нужные типы"
   ]
  },
  {
   "cell_type": "markdown",
   "metadata": {},
   "source": [
    "Теперь посмотрим на столбцы подробнее и вслучае надобности, изменим его под нужный тип"
   ]
  },
  {
   "cell_type": "code",
   "execution_count": 12,
   "metadata": {},
   "outputs": [
    {
     "name": "stdout",
     "output_type": "stream",
     "text": [
      "<class 'pandas.core.frame.DataFrame'>\n",
      "Int64Index: 16713 entries, 0 to 16714\n",
      "Data columns (total 11 columns):\n",
      " #   Column           Non-Null Count  Dtype  \n",
      "---  ------           --------------  -----  \n",
      " 0   name             16712 non-null  object \n",
      " 1   platform         16713 non-null  object \n",
      " 2   year_of_release  16444 non-null  float64\n",
      " 3   genre            16712 non-null  object \n",
      " 4   na_sales         16713 non-null  float64\n",
      " 5   eu_sales         16713 non-null  float64\n",
      " 6   jp_sales         16713 non-null  float64\n",
      " 7   other_sales      16713 non-null  float64\n",
      " 8   critic_score     8136 non-null   float64\n",
      " 9   user_score       10013 non-null  object \n",
      " 10  rating           9948 non-null   object \n",
      "dtypes: float64(6), object(5)\n",
      "memory usage: 1.5+ MB\n"
     ]
    }
   ],
   "source": [
    "df.info()"
   ]
  },
  {
   "cell_type": "markdown",
   "metadata": {},
   "source": [
    "* **`name`** - оставим без изменений, так как это текстовая строка названия игры.\n",
    "\n",
    "\n",
    "* **`platform`** - оставим без изменений, так как это текстовая строка платформы.\n",
    "\n",
    "\n",
    "* **`year_of_release`** - нужно преобразовать в тип `int`, потому что это год выпуска игры, который должен быть целым числом.\n",
    "\n",
    "\n",
    "* **`genre`** - оставим без изменений, так как это текстовая строка жанра игры.\n",
    "\n",
    "\n",
    "* **`na_sales`** - оставим без изменений, это числовые значения продаж в миллионах, поэтому тип `float64` корректен и позволяет точно хранить данные с дробными частями.\n",
    "\n",
    "\n",
    "* **`eu_sales`** - оставим без изменений, это числовые значения продаж в миллионах, поэтому тип `float64` корректен и позволяет точно хранить данные с дробными частями.\n",
    "\n",
    "\n",
    "* **`jp_sales`** - оставим без изменений, это числовые значения продаж в миллионах, поэтому тип `float64` корректен и позволяет точно хранить данные с дробными частями.\n",
    "\n",
    "\n",
    "* **`other_sales`** - оставим без изменений, это числовые значения продаж в миллионах, поэтому тип `float64` корректен и позволяет точно хранить данные с дробными частями.\n",
    "\n",
    "\n",
    "* **`critic_score`** - оставим без изменений, это  оценки критиков выраженые в числовом формате, часто с десятичными знаками.\n",
    "\n",
    "\n",
    "* **`user_score`** - нужно преобразовать в тип `float`, потому что этот столбец содержит числовые оценки пользователей, также в столбце есть строковые значения `tbd` что означает `to be determined`, поэтому сначала поменяем значения `tbd` на `NaN` и потом преобразуем в тип `float`\n",
    "\n",
    "\n",
    "* **`rating`** - оставим без изменений, так как это рейтинги возрастных категорий для игр."
   ]
  },
  {
   "cell_type": "code",
   "execution_count": 13,
   "metadata": {},
   "outputs": [],
   "source": [
    "df['year_of_release'] = df['year_of_release'].astype('Int64')\n",
    "df['user_score'] = df['user_score'].replace('tbd', np.nan)\n",
    "df['user_score'] = df['user_score'].astype('float')"
   ]
  },
  {
   "cell_type": "code",
   "execution_count": 14,
   "metadata": {},
   "outputs": [
    {
     "name": "stdout",
     "output_type": "stream",
     "text": [
      "<class 'pandas.core.frame.DataFrame'>\n",
      "Int64Index: 16713 entries, 0 to 16714\n",
      "Data columns (total 11 columns):\n",
      " #   Column           Non-Null Count  Dtype  \n",
      "---  ------           --------------  -----  \n",
      " 0   name             16712 non-null  object \n",
      " 1   platform         16713 non-null  object \n",
      " 2   year_of_release  16444 non-null  Int64  \n",
      " 3   genre            16712 non-null  object \n",
      " 4   na_sales         16713 non-null  float64\n",
      " 5   eu_sales         16713 non-null  float64\n",
      " 6   jp_sales         16713 non-null  float64\n",
      " 7   other_sales      16713 non-null  float64\n",
      " 8   critic_score     8136 non-null   float64\n",
      " 9   user_score       7589 non-null   float64\n",
      " 10  rating           9948 non-null   object \n",
      "dtypes: Int64(1), float64(6), object(4)\n",
      "memory usage: 1.5+ MB\n"
     ]
    }
   ],
   "source": [
    "df.info()"
   ]
  },
  {
   "cell_type": "markdown",
   "metadata": {},
   "source": [
    "Данные выглядят корректно и соответсвуют своему значению, идем дальше"
   ]
  },
  {
   "cell_type": "markdown",
   "metadata": {},
   "source": [
    "### Обработка пропусков"
   ]
  },
  {
   "cell_type": "markdown",
   "metadata": {},
   "source": [
    "Проверим наши данные на наличие пропусков и пустых значений"
   ]
  },
  {
   "cell_type": "code",
   "execution_count": 15,
   "metadata": {},
   "outputs": [
    {
     "data": {
      "text/plain": [
       "name                  1\n",
       "platform              0\n",
       "year_of_release     269\n",
       "genre                 1\n",
       "na_sales              0\n",
       "eu_sales              0\n",
       "jp_sales              0\n",
       "other_sales           0\n",
       "critic_score       8577\n",
       "user_score         9124\n",
       "rating             6765\n",
       "dtype: int64"
      ]
     },
     "execution_count": 15,
     "metadata": {},
     "output_type": "execute_result"
    }
   ],
   "source": [
    "df.isna().sum()"
   ]
  },
  {
   "cell_type": "markdown",
   "metadata": {},
   "source": [
    "Пропуски есть в нескольких столбцах, давайте разберемся, в каких столбцах стоит заполнить или удалить пропуски, а где их целесообразнее оставить:\n",
    "\n",
    "\n",
    "* **`name`** - Пропуски удаляем, так как игра без названия не имеет смысла для анализа.\n",
    "\n",
    "\n",
    "* **`genre`** - Также как и в случае `name`, без названия жанра не имеет смысла для анализа.\n",
    "\n",
    "\n",
    "* **`year_of_release`** - Заполним пропуски медианным значением, так как год выпуска имеет числовую природу и медиана — это надежная оценка.\n",
    "\n",
    "\n",
    "* **`critic_score`**, **`user_score`** - Пропуски оставим, так как в этих столбцах оценки могут отсутствовать из-за отсутствия отзывов.\n",
    "\n",
    "\n",
    "* **`rating`** - Оставим пропуски, так как игры могли не проходить через рейтинг ESRB, особенно если они были выпущены до получения рейтингов."
   ]
  },
  {
   "cell_type": "code",
   "execution_count": 16,
   "metadata": {},
   "outputs": [],
   "source": [
    "df = df.dropna(subset=['name', 'genre', 'year_of_release'])"
   ]
  },
  {
   "cell_type": "code",
   "execution_count": 17,
   "metadata": {},
   "outputs": [
    {
     "data": {
      "text/plain": [
       "name                  0\n",
       "platform              0\n",
       "year_of_release       0\n",
       "genre                 0\n",
       "na_sales              0\n",
       "eu_sales              0\n",
       "jp_sales              0\n",
       "other_sales           0\n",
       "critic_score       8461\n",
       "user_score         8981\n",
       "rating             6676\n",
       "dtype: int64"
      ]
     },
     "execution_count": 17,
     "metadata": {},
     "output_type": "execute_result"
    }
   ],
   "source": [
    "df.isna().sum()"
   ]
  },
  {
   "cell_type": "markdown",
   "metadata": {},
   "source": [
    "### Добавление нового столбца `total_sales`"
   ]
  },
  {
   "cell_type": "markdown",
   "metadata": {},
   "source": [
    "Посчитаем суммарные продажи во всех регионах и запишем их в отдельный столбец **`total_sales`**."
   ]
  },
  {
   "cell_type": "code",
   "execution_count": 18,
   "metadata": {},
   "outputs": [
    {
     "data": {
      "text/html": [
       "<div>\n",
       "<style scoped>\n",
       "    .dataframe tbody tr th:only-of-type {\n",
       "        vertical-align: middle;\n",
       "    }\n",
       "\n",
       "    .dataframe tbody tr th {\n",
       "        vertical-align: top;\n",
       "    }\n",
       "\n",
       "    .dataframe thead th {\n",
       "        text-align: right;\n",
       "    }\n",
       "</style>\n",
       "<table border=\"1\" class=\"dataframe\">\n",
       "  <thead>\n",
       "    <tr style=\"text-align: right;\">\n",
       "      <th></th>\n",
       "      <th>name</th>\n",
       "      <th>platform</th>\n",
       "      <th>year_of_release</th>\n",
       "      <th>genre</th>\n",
       "      <th>na_sales</th>\n",
       "      <th>eu_sales</th>\n",
       "      <th>jp_sales</th>\n",
       "      <th>other_sales</th>\n",
       "      <th>critic_score</th>\n",
       "      <th>user_score</th>\n",
       "      <th>rating</th>\n",
       "      <th>total_sales</th>\n",
       "    </tr>\n",
       "  </thead>\n",
       "  <tbody>\n",
       "    <tr>\n",
       "      <th>0</th>\n",
       "      <td>wii sports</td>\n",
       "      <td>wii</td>\n",
       "      <td>2006</td>\n",
       "      <td>sports</td>\n",
       "      <td>41.36</td>\n",
       "      <td>28.96</td>\n",
       "      <td>3.77</td>\n",
       "      <td>8.45</td>\n",
       "      <td>76.0</td>\n",
       "      <td>8.0</td>\n",
       "      <td>E</td>\n",
       "      <td>82.54</td>\n",
       "    </tr>\n",
       "    <tr>\n",
       "      <th>1</th>\n",
       "      <td>super mario bros.</td>\n",
       "      <td>nes</td>\n",
       "      <td>1985</td>\n",
       "      <td>platform</td>\n",
       "      <td>29.08</td>\n",
       "      <td>3.58</td>\n",
       "      <td>6.81</td>\n",
       "      <td>0.77</td>\n",
       "      <td>NaN</td>\n",
       "      <td>NaN</td>\n",
       "      <td>NaN</td>\n",
       "      <td>40.24</td>\n",
       "    </tr>\n",
       "    <tr>\n",
       "      <th>2</th>\n",
       "      <td>mario kart wii</td>\n",
       "      <td>wii</td>\n",
       "      <td>2008</td>\n",
       "      <td>racing</td>\n",
       "      <td>15.68</td>\n",
       "      <td>12.76</td>\n",
       "      <td>3.79</td>\n",
       "      <td>3.29</td>\n",
       "      <td>82.0</td>\n",
       "      <td>8.3</td>\n",
       "      <td>E</td>\n",
       "      <td>35.52</td>\n",
       "    </tr>\n",
       "    <tr>\n",
       "      <th>3</th>\n",
       "      <td>wii sports resort</td>\n",
       "      <td>wii</td>\n",
       "      <td>2009</td>\n",
       "      <td>sports</td>\n",
       "      <td>15.61</td>\n",
       "      <td>10.93</td>\n",
       "      <td>3.28</td>\n",
       "      <td>2.95</td>\n",
       "      <td>80.0</td>\n",
       "      <td>8.0</td>\n",
       "      <td>E</td>\n",
       "      <td>32.77</td>\n",
       "    </tr>\n",
       "    <tr>\n",
       "      <th>4</th>\n",
       "      <td>pokemon red/pokemon blue</td>\n",
       "      <td>gb</td>\n",
       "      <td>1996</td>\n",
       "      <td>role-playing</td>\n",
       "      <td>11.27</td>\n",
       "      <td>8.89</td>\n",
       "      <td>10.22</td>\n",
       "      <td>1.00</td>\n",
       "      <td>NaN</td>\n",
       "      <td>NaN</td>\n",
       "      <td>NaN</td>\n",
       "      <td>31.38</td>\n",
       "    </tr>\n",
       "    <tr>\n",
       "      <th>...</th>\n",
       "      <td>...</td>\n",
       "      <td>...</td>\n",
       "      <td>...</td>\n",
       "      <td>...</td>\n",
       "      <td>...</td>\n",
       "      <td>...</td>\n",
       "      <td>...</td>\n",
       "      <td>...</td>\n",
       "      <td>...</td>\n",
       "      <td>...</td>\n",
       "      <td>...</td>\n",
       "      <td>...</td>\n",
       "    </tr>\n",
       "    <tr>\n",
       "      <th>16710</th>\n",
       "      <td>samurai warriors: sanada maru</td>\n",
       "      <td>ps3</td>\n",
       "      <td>2016</td>\n",
       "      <td>action</td>\n",
       "      <td>0.00</td>\n",
       "      <td>0.00</td>\n",
       "      <td>0.01</td>\n",
       "      <td>0.00</td>\n",
       "      <td>NaN</td>\n",
       "      <td>NaN</td>\n",
       "      <td>NaN</td>\n",
       "      <td>0.01</td>\n",
       "    </tr>\n",
       "    <tr>\n",
       "      <th>16711</th>\n",
       "      <td>lma manager 2007</td>\n",
       "      <td>x360</td>\n",
       "      <td>2006</td>\n",
       "      <td>sports</td>\n",
       "      <td>0.00</td>\n",
       "      <td>0.01</td>\n",
       "      <td>0.00</td>\n",
       "      <td>0.00</td>\n",
       "      <td>NaN</td>\n",
       "      <td>NaN</td>\n",
       "      <td>NaN</td>\n",
       "      <td>0.01</td>\n",
       "    </tr>\n",
       "    <tr>\n",
       "      <th>16712</th>\n",
       "      <td>haitaka no psychedelica</td>\n",
       "      <td>psv</td>\n",
       "      <td>2016</td>\n",
       "      <td>adventure</td>\n",
       "      <td>0.00</td>\n",
       "      <td>0.00</td>\n",
       "      <td>0.01</td>\n",
       "      <td>0.00</td>\n",
       "      <td>NaN</td>\n",
       "      <td>NaN</td>\n",
       "      <td>NaN</td>\n",
       "      <td>0.01</td>\n",
       "    </tr>\n",
       "    <tr>\n",
       "      <th>16713</th>\n",
       "      <td>spirits &amp; spells</td>\n",
       "      <td>gba</td>\n",
       "      <td>2003</td>\n",
       "      <td>platform</td>\n",
       "      <td>0.01</td>\n",
       "      <td>0.00</td>\n",
       "      <td>0.00</td>\n",
       "      <td>0.00</td>\n",
       "      <td>NaN</td>\n",
       "      <td>NaN</td>\n",
       "      <td>NaN</td>\n",
       "      <td>0.01</td>\n",
       "    </tr>\n",
       "    <tr>\n",
       "      <th>16714</th>\n",
       "      <td>winning post 8 2016</td>\n",
       "      <td>psv</td>\n",
       "      <td>2016</td>\n",
       "      <td>simulation</td>\n",
       "      <td>0.00</td>\n",
       "      <td>0.00</td>\n",
       "      <td>0.01</td>\n",
       "      <td>0.00</td>\n",
       "      <td>NaN</td>\n",
       "      <td>NaN</td>\n",
       "      <td>NaN</td>\n",
       "      <td>0.01</td>\n",
       "    </tr>\n",
       "  </tbody>\n",
       "</table>\n",
       "<p>16443 rows × 12 columns</p>\n",
       "</div>"
      ],
      "text/plain": [
       "                                name platform  year_of_release         genre  \\\n",
       "0                         wii sports      wii             2006        sports   \n",
       "1                  super mario bros.      nes             1985      platform   \n",
       "2                     mario kart wii      wii             2008        racing   \n",
       "3                  wii sports resort      wii             2009        sports   \n",
       "4           pokemon red/pokemon blue       gb             1996  role-playing   \n",
       "...                              ...      ...              ...           ...   \n",
       "16710  samurai warriors: sanada maru      ps3             2016        action   \n",
       "16711               lma manager 2007     x360             2006        sports   \n",
       "16712        haitaka no psychedelica      psv             2016     adventure   \n",
       "16713               spirits & spells      gba             2003      platform   \n",
       "16714            winning post 8 2016      psv             2016    simulation   \n",
       "\n",
       "       na_sales  eu_sales  jp_sales  other_sales  critic_score  user_score  \\\n",
       "0         41.36     28.96      3.77         8.45          76.0         8.0   \n",
       "1         29.08      3.58      6.81         0.77           NaN         NaN   \n",
       "2         15.68     12.76      3.79         3.29          82.0         8.3   \n",
       "3         15.61     10.93      3.28         2.95          80.0         8.0   \n",
       "4         11.27      8.89     10.22         1.00           NaN         NaN   \n",
       "...         ...       ...       ...          ...           ...         ...   \n",
       "16710      0.00      0.00      0.01         0.00           NaN         NaN   \n",
       "16711      0.00      0.01      0.00         0.00           NaN         NaN   \n",
       "16712      0.00      0.00      0.01         0.00           NaN         NaN   \n",
       "16713      0.01      0.00      0.00         0.00           NaN         NaN   \n",
       "16714      0.00      0.00      0.01         0.00           NaN         NaN   \n",
       "\n",
       "      rating  total_sales  \n",
       "0          E        82.54  \n",
       "1        NaN        40.24  \n",
       "2          E        35.52  \n",
       "3          E        32.77  \n",
       "4        NaN        31.38  \n",
       "...      ...          ...  \n",
       "16710    NaN         0.01  \n",
       "16711    NaN         0.01  \n",
       "16712    NaN         0.01  \n",
       "16713    NaN         0.01  \n",
       "16714    NaN         0.01  \n",
       "\n",
       "[16443 rows x 12 columns]"
      ]
     },
     "execution_count": 18,
     "metadata": {},
     "output_type": "execute_result"
    }
   ],
   "source": [
    "df['total_sales'] = df['na_sales'] + df['eu_sales'] + df['jp_sales'] + df['other_sales']\n",
    "df"
   ]
  },
  {
   "cell_type": "code",
   "execution_count": 19,
   "metadata": {},
   "outputs": [
    {
     "name": "stdout",
     "output_type": "stream",
     "text": [
      "<class 'pandas.core.frame.DataFrame'>\n",
      "Int64Index: 16443 entries, 0 to 16714\n",
      "Data columns (total 12 columns):\n",
      " #   Column           Non-Null Count  Dtype  \n",
      "---  ------           --------------  -----  \n",
      " 0   name             16443 non-null  object \n",
      " 1   platform         16443 non-null  object \n",
      " 2   year_of_release  16443 non-null  Int64  \n",
      " 3   genre            16443 non-null  object \n",
      " 4   na_sales         16443 non-null  float64\n",
      " 5   eu_sales         16443 non-null  float64\n",
      " 6   jp_sales         16443 non-null  float64\n",
      " 7   other_sales      16443 non-null  float64\n",
      " 8   critic_score     7982 non-null   float64\n",
      " 9   user_score       7462 non-null   float64\n",
      " 10  rating           9767 non-null   object \n",
      " 11  total_sales      16443 non-null  float64\n",
      "dtypes: Int64(1), float64(7), object(4)\n",
      "memory usage: 1.6+ MB\n",
      "None\n",
      "-------------------------\n",
      "name [' beyblade burst' ' fire emblem fates' \" frozen: olaf's quest\" ...\n",
      " 'zwei!!' 'zyuden sentai kyoryuger: game de gaburincho!!'\n",
      " '¡shin chan flipa en colores!']\n",
      "name : кол-во NaN 0 , процент NaN 0.0 %\n",
      "-------------------------\n",
      "platform ['2600' '3do' '3ds' 'dc' 'ds' 'gb' 'gba' 'gc' 'gen' 'gg' 'n64' 'nes' 'ng'\n",
      " 'pc' 'pcfx' 'ps' 'ps2' 'ps3' 'ps4' 'psp' 'psv' 'sat' 'scd' 'snes' 'tg16'\n",
      " 'wii' 'wiiu' 'ws' 'x360' 'xb' 'xone']\n",
      "platform : кол-во NaN 0 , процент NaN 0.0 %\n",
      "-------------------------\n",
      "year_of_release <IntegerArray>\n",
      "[1980, 1981, 1982, 1983, 1984, 1985, 1986, 1987, 1988, 1989, 1990, 1991, 1992,\n",
      " 1993, 1994, 1995, 1996, 1997, 1998, 1999, 2000, 2001, 2002, 2003, 2004, 2005,\n",
      " 2006, 2007, 2008, 2009, 2010, 2011, 2012, 2013, 2014, 2015, 2016]\n",
      "Length: 37, dtype: Int64\n",
      "year_of_release : кол-во NaN 0 , процент NaN 0.0 %\n",
      "-------------------------\n",
      "genre ['action' 'adventure' 'fighting' 'misc' 'platform' 'puzzle' 'racing'\n",
      " 'role-playing' 'shooter' 'simulation' 'sports' 'strategy']\n",
      "genre : кол-во NaN 0 , процент NaN 0.0 %\n",
      "-------------------------\n",
      "critic_score [13. 17. 19. 20. 21. 23. 24. 25. 26. 27. 28. 29. 30. 31. 32. 33. 34. 35.\n",
      " 36. 37. 38. 39. 40. 41. 42. 43. 44. 45. 46. 47. 48. 49. 50. 51. 52. 53.\n",
      " 54. 55. 56. 57. 58. 59. 60. 61. 62. 63. 64. 65. 66. 67. 68. 69. 70. 71.\n",
      " 72. 73. 74. 75. 76. 77. 78. 79. 80. 81. 82. 83. 84. 85. 86. 87. 88. 89.\n",
      " 90. 91. 92. 93. 94. 95. 96. 97. 98. nan]\n",
      "critic_score : кол-во NaN 8461 , процент NaN 51.46 %\n",
      "-------------------------\n",
      "user_score [0.  0.2 0.3 0.5 0.6 0.7 0.9 1.  1.1 1.2 1.3 1.4 1.5 1.6 1.7 1.8 1.9 2.\n",
      " 2.1 2.2 2.3 2.4 2.5 2.6 2.7 2.8 2.9 3.  3.1 3.2 3.3 3.4 3.5 3.6 3.7 3.8\n",
      " 3.9 4.  4.1 4.2 4.3 4.4 4.5 4.6 4.7 4.8 4.9 5.  5.1 5.2 5.3 5.4 5.5 5.6\n",
      " 5.7 5.8 5.9 6.  6.1 6.2 6.3 6.4 6.5 6.6 6.7 6.8 6.9 7.  7.1 7.2 7.3 7.4\n",
      " 7.5 7.6 7.7 7.8 7.9 8.  8.1 8.2 8.3 8.4 8.5 8.6 8.7 8.8 8.9 9.  9.1 9.2\n",
      " 9.3 9.4 9.5 9.6 9.7 nan]\n",
      "user_score : кол-во NaN 8981 , процент NaN 54.62 %\n",
      "-------------------------\n",
      "rating ['AO' 'E' 'E10+' 'EC' 'K-A' 'M' 'RP' 'T' nan]\n",
      "rating : кол-во NaN 6676 , процент NaN 40.6 %\n"
     ]
    }
   ],
   "source": [
    "# Посмотрим, что осталось\n",
    "temp = df.copy() \n",
    "list_c = ['name', 'platform', 'year_of_release', 'genre', 'critic_score', 'user_score', 'rating']\n",
    "print(temp.info())\n",
    "for col_l in list_c:\n",
    "  print('-'* 25)\n",
    "  print(col_l, temp[col_l].sort_values().unique())\n",
    "  print(col_l,': кол-во NaN',temp[col_l].isna().sum(),\n",
    "        ', процент NaN', round(temp[col_l].isna().mean()*100,2),'%') "
   ]
  },
  {
   "cell_type": "code",
   "execution_count": 20,
   "metadata": {},
   "outputs": [
    {
     "name": "stdout",
     "output_type": "stream",
     "text": [
      "No Rating    6676\n",
      "E            3920\n",
      "T            2905\n",
      "M            1536\n",
      "E10+         1393\n",
      "EC              8\n",
      "K-A             3\n",
      "RP              1\n",
      "AO              1\n",
      "Name: rating, dtype: int64\n"
     ]
    }
   ],
   "source": [
    "df['rating'].fillna('No Rating', inplace=True)\n",
    "print(df['rating'].value_counts())"
   ]
  },
  {
   "cell_type": "markdown",
   "metadata": {},
   "source": [
    "### Вывод по предобработки данных"
   ]
  },
  {
   "cell_type": "markdown",
   "metadata": {},
   "source": [
    "После тщательной предобработки данных, мы разобрались с дубликатами и очистили датасет от ненужных повторов. Названия столбцов привели к единому формату, а также убедились, что данные корректно преобразованы в нужные типы. Пропуски в важных колонках, таких как названия игр и жанры, были удалены, а для года выпуска мы исключили строки с пропущенными значениями, чтобы не исказить анализ. В некоторых колонках, например, оценках критиков и пользователей, остались пропуски, но это не ошибка — их отсутствие несет в себе информацию, которую будем учитывать в анализе. На основе данных был добавлен новый столбец total_sales, и теперь наш датасет готов для полноценного анализа и поиска ключевых закономерностей."
   ]
  },
  {
   "cell_type": "markdown",
   "metadata": {},
   "source": [
    "## Исследовательский анализ данных"
   ]
  },
  {
   "cell_type": "markdown",
   "metadata": {},
   "source": [
    "Теперь после того как мы обработали наш столбец, займемся подробным анализом."
   ]
  },
  {
   "cell_type": "markdown",
   "metadata": {},
   "source": [
    "### Сколько игр выпускалось в разные годы?"
   ]
  },
  {
   "cell_type": "markdown",
   "metadata": {},
   "source": [
    "Группируем наши данные по годам в переменную **`year_games`**"
   ]
  },
  {
   "cell_type": "code",
   "execution_count": 21,
   "metadata": {},
   "outputs": [
    {
     "data": {
      "text/plain": [
       "year_of_release\n",
       "1980       9\n",
       "1981      46\n",
       "1982      36\n",
       "1983      17\n",
       "1984      14\n",
       "1985      14\n",
       "1986      21\n",
       "1987      16\n",
       "1988      15\n",
       "1989      17\n",
       "1990      16\n",
       "1991      41\n",
       "1992      43\n",
       "1993      60\n",
       "1994     121\n",
       "1995     219\n",
       "1996     263\n",
       "1997     289\n",
       "1998     379\n",
       "1999     338\n",
       "2000     350\n",
       "2001     482\n",
       "2002     829\n",
       "2003     775\n",
       "2004     762\n",
       "2005     939\n",
       "2006    1006\n",
       "2007    1197\n",
       "2008    1427\n",
       "2009    1426\n",
       "2010    1255\n",
       "2011    1136\n",
       "2012     652\n",
       "2013     544\n",
       "2014     581\n",
       "2015     606\n",
       "2016     502\n",
       "dtype: int64"
      ]
     },
     "execution_count": 21,
     "metadata": {},
     "output_type": "execute_result"
    }
   ],
   "source": [
    "year_games = df.groupby('year_of_release').size()\n",
    "year_games"
   ]
  },
  {
   "cell_type": "code",
   "execution_count": 22,
   "metadata": {},
   "outputs": [
    {
     "data": {
      "image/png": "[encoded data removed]",
      "text/plain": [
       "<Figure size 720x432 with 1 Axes>"
      ]
     },
     "metadata": {
      "needs_background": "light"
     },
     "output_type": "display_data"
    }
   ],
   "source": [
    "plt.figure(figsize=(10, 6))\n",
    "sns.barplot(x=year_games.index, y=year_games.values)\n",
    "plt.title('Количество выпущенных игр по годам')\n",
    "plt.xlabel('Год выпуска')\n",
    "plt.ylabel('Количество игр')\n",
    "plt.xticks(rotation = 50)\n",
    "plt.show()"
   ]
  },
  {
   "cell_type": "markdown",
   "metadata": {},
   "source": [
    "На графике видно, что количество выпущенных игр резко увеличилось с середины 90-х годов и достигло пика в 2008-2009 годах, после чего началось постепенное снижение. Это означает, что период с 90-х до конца 2000-х был наиболее продуктивным для игровой индустрии за этот период времени. Данные за более ранние периоды, хотя и важны для общей картины, не столь значительны, так как в те годы выпускалось значительно меньше игр. Особое внимание стоит уделить анализу периода с 90-х годов и далее, где происходили ключевые изменения и рост индустрии."
   ]
  },
  {
   "cell_type": "markdown",
   "metadata": {},
   "source": [
    "### Как менялись продажи по платформам?"
   ]
  },
  {
   "cell_type": "markdown",
   "metadata": {},
   "source": [
    "Посмотрим какие вообще платформы представлены у нас в данных"
   ]
  },
  {
   "cell_type": "code",
   "execution_count": 23,
   "metadata": {},
   "outputs": [
    {
     "data": {
      "text/plain": [
       "ps2     2127\n",
       "ds      2121\n",
       "ps3     1305\n",
       "wii     1286\n",
       "x360    1232\n",
       "psp     1193\n",
       "ps      1190\n",
       "pc       957\n",
       "gba      811\n",
       "xb       803\n",
       "gc       542\n",
       "3ds      512\n",
       "psv      429\n",
       "ps4      392\n",
       "n64      316\n",
       "xone     247\n",
       "snes     239\n",
       "sat      173\n",
       "wiiu     147\n",
       "2600     116\n",
       "nes       98\n",
       "gb        97\n",
       "dc        52\n",
       "gen       27\n",
       "ng        12\n",
       "ws         6\n",
       "scd        6\n",
       "3do        3\n",
       "tg16       2\n",
       "pcfx       1\n",
       "gg         1\n",
       "Name: platform, dtype: int64"
      ]
     },
     "execution_count": 23,
     "metadata": {},
     "output_type": "execute_result"
    }
   ],
   "source": [
    "df['platform'].value_counts(ascending=False)"
   ]
  },
  {
   "cell_type": "markdown",
   "metadata": {},
   "source": [
    "Теперь посмотрим самые популярные платформы по продажам. Для этого сгруппируем и суммируем продажи по платформам в `platform_sales`"
   ]
  },
  {
   "cell_type": "code",
   "execution_count": 24,
   "metadata": {},
   "outputs": [
    {
     "data": {
      "text/plain": [
       "platform\n",
       "ps2     1233.56\n",
       "x360     961.24\n",
       "ps3      931.33\n",
       "wii      891.18\n",
       "ds       802.78\n",
       "Name: total_sales, dtype: float64"
      ]
     },
     "execution_count": 24,
     "metadata": {},
     "output_type": "execute_result"
    }
   ],
   "source": [
    "platform_sales = df.groupby('platform')['total_sales'].sum().sort_values(ascending=False)\n",
    "platform_sales.head(5)"
   ]
  },
  {
   "cell_type": "code",
   "execution_count": 25,
   "metadata": {},
   "outputs": [
    {
     "data": {
      "image/png": "[encoded data removed]",
      "text/plain": [
       "<Figure size 720x432 with 1 Axes>"
      ]
     },
     "metadata": {
      "needs_background": "light"
     },
     "output_type": "display_data"
    }
   ],
   "source": [
    "plt.figure(figsize=(10,6))\n",
    "sns.barplot(x=platform_sales.values, y=platform_sales.index, palette=\"viridis\")\n",
    "\n",
    "plt.title('Продажи по платформам')\n",
    "plt.xlabel('Общие продажи (в миллионах)')\n",
    "plt.ylabel('Платформа')\n",
    "plt.show()"
   ]
  },
  {
   "cell_type": "markdown",
   "metadata": {},
   "source": [
    "Для меня было очевидно что самыми популярными платформами будут представители:\n",
    "\n",
    "\n",
    "* **Sony(PS2, PS3)**\n",
    "\n",
    "\n",
    "* **Nintendo(DS, Wii)**\n",
    "\n",
    "\n",
    "* **Xbox(X360)**"
   ]
  },
  {
   "cell_type": "markdown",
   "metadata": {},
   "source": [
    "Сформируем топ-5 платформ в отдельную переменную"
   ]
  },
  {
   "cell_type": "code",
   "execution_count": 26,
   "metadata": {},
   "outputs": [],
   "source": [
    "top_platforms = platform_sales.head(5).index"
   ]
  },
  {
   "cell_type": "markdown",
   "metadata": {},
   "source": [
    "Профильтруем наши данные по этим платформам в отделбны фрейм"
   ]
  },
  {
   "cell_type": "code",
   "execution_count": 27,
   "metadata": {},
   "outputs": [
    {
     "data": {
      "text/html": [
       "<div>\n",
       "<style scoped>\n",
       "    .dataframe tbody tr th:only-of-type {\n",
       "        vertical-align: middle;\n",
       "    }\n",
       "\n",
       "    .dataframe tbody tr th {\n",
       "        vertical-align: top;\n",
       "    }\n",
       "\n",
       "    .dataframe thead th {\n",
       "        text-align: right;\n",
       "    }\n",
       "</style>\n",
       "<table border=\"1\" class=\"dataframe\">\n",
       "  <thead>\n",
       "    <tr style=\"text-align: right;\">\n",
       "      <th></th>\n",
       "      <th>name</th>\n",
       "      <th>platform</th>\n",
       "      <th>year_of_release</th>\n",
       "      <th>genre</th>\n",
       "      <th>na_sales</th>\n",
       "      <th>eu_sales</th>\n",
       "      <th>jp_sales</th>\n",
       "      <th>other_sales</th>\n",
       "      <th>critic_score</th>\n",
       "      <th>user_score</th>\n",
       "      <th>rating</th>\n",
       "      <th>total_sales</th>\n",
       "    </tr>\n",
       "  </thead>\n",
       "  <tbody>\n",
       "    <tr>\n",
       "      <th>0</th>\n",
       "      <td>wii sports</td>\n",
       "      <td>wii</td>\n",
       "      <td>2006</td>\n",
       "      <td>sports</td>\n",
       "      <td>41.36</td>\n",
       "      <td>28.96</td>\n",
       "      <td>3.77</td>\n",
       "      <td>8.45</td>\n",
       "      <td>76.0</td>\n",
       "      <td>8.0</td>\n",
       "      <td>E</td>\n",
       "      <td>82.54</td>\n",
       "    </tr>\n",
       "    <tr>\n",
       "      <th>2</th>\n",
       "      <td>mario kart wii</td>\n",
       "      <td>wii</td>\n",
       "      <td>2008</td>\n",
       "      <td>racing</td>\n",
       "      <td>15.68</td>\n",
       "      <td>12.76</td>\n",
       "      <td>3.79</td>\n",
       "      <td>3.29</td>\n",
       "      <td>82.0</td>\n",
       "      <td>8.3</td>\n",
       "      <td>E</td>\n",
       "      <td>35.52</td>\n",
       "    </tr>\n",
       "    <tr>\n",
       "      <th>3</th>\n",
       "      <td>wii sports resort</td>\n",
       "      <td>wii</td>\n",
       "      <td>2009</td>\n",
       "      <td>sports</td>\n",
       "      <td>15.61</td>\n",
       "      <td>10.93</td>\n",
       "      <td>3.28</td>\n",
       "      <td>2.95</td>\n",
       "      <td>80.0</td>\n",
       "      <td>8.0</td>\n",
       "      <td>E</td>\n",
       "      <td>32.77</td>\n",
       "    </tr>\n",
       "    <tr>\n",
       "      <th>6</th>\n",
       "      <td>new super mario bros.</td>\n",
       "      <td>ds</td>\n",
       "      <td>2006</td>\n",
       "      <td>platform</td>\n",
       "      <td>11.28</td>\n",
       "      <td>9.14</td>\n",
       "      <td>6.50</td>\n",
       "      <td>2.88</td>\n",
       "      <td>89.0</td>\n",
       "      <td>8.5</td>\n",
       "      <td>E</td>\n",
       "      <td>29.80</td>\n",
       "    </tr>\n",
       "    <tr>\n",
       "      <th>7</th>\n",
       "      <td>wii play</td>\n",
       "      <td>wii</td>\n",
       "      <td>2006</td>\n",
       "      <td>misc</td>\n",
       "      <td>13.96</td>\n",
       "      <td>9.18</td>\n",
       "      <td>2.93</td>\n",
       "      <td>2.84</td>\n",
       "      <td>58.0</td>\n",
       "      <td>6.6</td>\n",
       "      <td>E</td>\n",
       "      <td>28.91</td>\n",
       "    </tr>\n",
       "    <tr>\n",
       "      <th>...</th>\n",
       "      <td>...</td>\n",
       "      <td>...</td>\n",
       "      <td>...</td>\n",
       "      <td>...</td>\n",
       "      <td>...</td>\n",
       "      <td>...</td>\n",
       "      <td>...</td>\n",
       "      <td>...</td>\n",
       "      <td>...</td>\n",
       "      <td>...</td>\n",
       "      <td>...</td>\n",
       "      <td>...</td>\n",
       "    </tr>\n",
       "    <tr>\n",
       "      <th>16700</th>\n",
       "      <td>mezase!! tsuri master ds</td>\n",
       "      <td>ds</td>\n",
       "      <td>2009</td>\n",
       "      <td>sports</td>\n",
       "      <td>0.00</td>\n",
       "      <td>0.00</td>\n",
       "      <td>0.01</td>\n",
       "      <td>0.00</td>\n",
       "      <td>NaN</td>\n",
       "      <td>NaN</td>\n",
       "      <td>No Rating</td>\n",
       "      <td>0.01</td>\n",
       "    </tr>\n",
       "    <tr>\n",
       "      <th>16704</th>\n",
       "      <td>plushees</td>\n",
       "      <td>ds</td>\n",
       "      <td>2008</td>\n",
       "      <td>simulation</td>\n",
       "      <td>0.01</td>\n",
       "      <td>0.00</td>\n",
       "      <td>0.00</td>\n",
       "      <td>0.00</td>\n",
       "      <td>NaN</td>\n",
       "      <td>NaN</td>\n",
       "      <td>E</td>\n",
       "      <td>0.01</td>\n",
       "    </tr>\n",
       "    <tr>\n",
       "      <th>16709</th>\n",
       "      <td>score international baja 1000: the official game</td>\n",
       "      <td>ps2</td>\n",
       "      <td>2008</td>\n",
       "      <td>racing</td>\n",
       "      <td>0.00</td>\n",
       "      <td>0.00</td>\n",
       "      <td>0.00</td>\n",
       "      <td>0.00</td>\n",
       "      <td>NaN</td>\n",
       "      <td>NaN</td>\n",
       "      <td>No Rating</td>\n",
       "      <td>0.00</td>\n",
       "    </tr>\n",
       "    <tr>\n",
       "      <th>16710</th>\n",
       "      <td>samurai warriors: sanada maru</td>\n",
       "      <td>ps3</td>\n",
       "      <td>2016</td>\n",
       "      <td>action</td>\n",
       "      <td>0.00</td>\n",
       "      <td>0.00</td>\n",
       "      <td>0.01</td>\n",
       "      <td>0.00</td>\n",
       "      <td>NaN</td>\n",
       "      <td>NaN</td>\n",
       "      <td>No Rating</td>\n",
       "      <td>0.01</td>\n",
       "    </tr>\n",
       "    <tr>\n",
       "      <th>16711</th>\n",
       "      <td>lma manager 2007</td>\n",
       "      <td>x360</td>\n",
       "      <td>2006</td>\n",
       "      <td>sports</td>\n",
       "      <td>0.00</td>\n",
       "      <td>0.01</td>\n",
       "      <td>0.00</td>\n",
       "      <td>0.00</td>\n",
       "      <td>NaN</td>\n",
       "      <td>NaN</td>\n",
       "      <td>No Rating</td>\n",
       "      <td>0.01</td>\n",
       "    </tr>\n",
       "  </tbody>\n",
       "</table>\n",
       "<p>8071 rows × 12 columns</p>\n",
       "</div>"
      ],
      "text/plain": [
       "                                                   name platform  \\\n",
       "0                                            wii sports      wii   \n",
       "2                                        mario kart wii      wii   \n",
       "3                                     wii sports resort      wii   \n",
       "6                                 new super mario bros.       ds   \n",
       "7                                              wii play      wii   \n",
       "...                                                 ...      ...   \n",
       "16700                          mezase!! tsuri master ds       ds   \n",
       "16704                                          plushees       ds   \n",
       "16709  score international baja 1000: the official game      ps2   \n",
       "16710                     samurai warriors: sanada maru      ps3   \n",
       "16711                                  lma manager 2007     x360   \n",
       "\n",
       "       year_of_release       genre  na_sales  eu_sales  jp_sales  other_sales  \\\n",
       "0                 2006      sports     41.36     28.96      3.77         8.45   \n",
       "2                 2008      racing     15.68     12.76      3.79         3.29   \n",
       "3                 2009      sports     15.61     10.93      3.28         2.95   \n",
       "6                 2006    platform     11.28      9.14      6.50         2.88   \n",
       "7                 2006        misc     13.96      9.18      2.93         2.84   \n",
       "...                ...         ...       ...       ...       ...          ...   \n",
       "16700             2009      sports      0.00      0.00      0.01         0.00   \n",
       "16704             2008  simulation      0.01      0.00      0.00         0.00   \n",
       "16709             2008      racing      0.00      0.00      0.00         0.00   \n",
       "16710             2016      action      0.00      0.00      0.01         0.00   \n",
       "16711             2006      sports      0.00      0.01      0.00         0.00   \n",
       "\n",
       "       critic_score  user_score     rating  total_sales  \n",
       "0              76.0         8.0          E        82.54  \n",
       "2              82.0         8.3          E        35.52  \n",
       "3              80.0         8.0          E        32.77  \n",
       "6              89.0         8.5          E        29.80  \n",
       "7              58.0         6.6          E        28.91  \n",
       "...             ...         ...        ...          ...  \n",
       "16700           NaN         NaN  No Rating         0.01  \n",
       "16704           NaN         NaN          E         0.01  \n",
       "16709           NaN         NaN  No Rating         0.00  \n",
       "16710           NaN         NaN  No Rating         0.01  \n",
       "16711           NaN         NaN  No Rating         0.01  \n",
       "\n",
       "[8071 rows x 12 columns]"
      ]
     },
     "execution_count": 27,
     "metadata": {},
     "output_type": "execute_result"
    }
   ],
   "source": [
    "top_platforms_data = df[df['platform'].isin(top_platforms)]\n",
    "top_platforms_data"
   ]
  },
  {
   "cell_type": "markdown",
   "metadata": {},
   "source": [
    "И теперь группируем данные по годам и платформам для построения графика"
   ]
  },
  {
   "cell_type": "code",
   "execution_count": 28,
   "metadata": {},
   "outputs": [],
   "source": [
    "sales_year_platform = top_platforms_data.groupby(['year_of_release', 'platform'])['total_sales'].sum().unstack().fillna(0)"
   ]
  },
  {
   "cell_type": "code",
   "execution_count": 29,
   "metadata": {},
   "outputs": [
    {
     "data": {
      "image/png": "[encoded data removed]",
      "text/plain": [
       "<Figure size 864x576 with 1 Axes>"
      ]
     },
     "metadata": {
      "needs_background": "light"
     },
     "output_type": "display_data"
    }
   ],
   "source": [
    "plt.figure(figsize=(12, 8))\n",
    "sales_year_platform.plot(kind='line', ax=plt.gca())\n",
    "plt.title('Распределение продаж по годам для топ-5 платформ')\n",
    "plt.xlabel('Год')\n",
    "plt.ylabel('Суммарные продажи (млн копий)')\n",
    "plt.legend(title='Платформы')\n",
    "plt.show()"
   ]
  },
  {
   "cell_type": "markdown",
   "metadata": {},
   "source": [
    "На графике мы видем, что каждая платформа имеет характерный срок жизни, начиная с момента её появления на рынке, достигая пика продаж и затем постепенно исчезая.\n",
    "\n",
    "* PS2 и DS: PS2 имело самые продолжительные периоды популярности с пиком продаж в начале 2000-х. DS немного позже. Их популярность длилась около 10-12 лет, после чего продажи резко сократились.\n",
    "\n",
    "\n",
    "* Wii, PS3, и X360: начали активно продаваться с середины 2000-х годов, достигли своего пика в конце 2000-х и затем начали постепенно снижаться. Продажи этих платформ были активны примерно 7-10 лет.\n",
    "\n",
    "\n",
    "Таким образом, можно сделать вывод, что жизненный цикл большинства игровых платформ составляет примерно 7-12 лет. В течение этого времени они проходят через фазу быстрого роста, достигают пика и затем постепенно выходят из оборота, уступая место новым платформам."
   ]
  },
  {
   "cell_type": "code",
   "execution_count": 30,
   "metadata": {},
   "outputs": [
    {
     "name": "stdout",
     "output_type": "stream",
     "text": [
      "Медианный срок жизни платформ: 7.0 лет\n"
     ]
    }
   ],
   "source": [
    "temp = df.copy() \n",
    "time_life = temp.pivot_table(index='platform', values='year_of_release', aggfunc=['min', 'max']).reset_index()\n",
    "time_life['life'] = time_life['max'] - time_life['min'] + 1 # в срок жизни платформы, должны входить границы диапазона, \n",
    "                                                            # поэтому +1\n",
    "median_life = time_life['life'].median()\n",
    "\n",
    "print(f'Медианный срок жизни платформ: {median_life} лет')"
   ]
  },
  {
   "cell_type": "markdown",
   "metadata": {},
   "source": [
    "### Актуальный период"
   ]
  },
  {
   "cell_type": "markdown",
   "metadata": {},
   "source": [
    "Для прогнозирования лучше выбрать промежуток в 2-5 лет, чтобы захватить актуальные тренды и избежать влияния устаревших данных. Таким образом, можно ограничить анализ данными с 2012 по 2016 год для прогноза на 2017 год, что обеспечит более точные результаты."
   ]
  },
  {
   "cell_type": "markdown",
   "metadata": {},
   "source": [
    "Теперь будем работать только с актуальным периодом для прогнозирования на 2017 год."
   ]
  },
  {
   "cell_type": "code",
   "execution_count": 31,
   "metadata": {},
   "outputs": [
    {
     "name": "stdout",
     "output_type": "stream",
     "text": [
      "2012    652\n",
      "2015    606\n",
      "2014    581\n",
      "2013    544\n",
      "2016    502\n",
      "Name: year_of_release, dtype: Int64\n"
     ]
    }
   ],
   "source": [
    "df_filtered = df[(df['year_of_release'] >= 2012) & (df['year_of_release'] <= 2016)]\n",
    "print(df_filtered['year_of_release'].value_counts())"
   ]
  },
  {
   "cell_type": "markdown",
   "metadata": {},
   "source": [
    "### Какие платформы лидируют по продажам?"
   ]
  },
  {
   "cell_type": "markdown",
   "metadata": {},
   "source": [
    "Для начала, давайте выделим сгруппированные данные по всем продажам у платформ в отдельную переменную"
   ]
  },
  {
   "cell_type": "code",
   "execution_count": 32,
   "metadata": {},
   "outputs": [],
   "source": [
    "df_for_sales = df_filtered.groupby('platform')['total_sales']"
   ]
  },
  {
   "cell_type": "markdown",
   "metadata": {},
   "source": [
    "Затем выделим топ 5 самых продаваемых платформ также в отдельную переменную и построим график"
   ]
  },
  {
   "cell_type": "code",
   "execution_count": 33,
   "metadata": {},
   "outputs": [
    {
     "data": {
      "text/plain": [
       "platform\n",
       "ps4     314.14\n",
       "ps3     288.78\n",
       "x360    236.54\n",
       "3ds     194.61\n",
       "xone    159.32\n",
       "Name: total_sales, dtype: float64"
      ]
     },
     "execution_count": 33,
     "metadata": {},
     "output_type": "execute_result"
    }
   ],
   "source": [
    "top_platforms_recent = df_for_sales.sum().nlargest(5)\n",
    "top_platforms_recent"
   ]
  },
  {
   "cell_type": "code",
   "execution_count": 34,
   "metadata": {},
   "outputs": [
    {
     "data": {
      "image/png": "[encoded data removed]",
      "text/plain": [
       "<Figure size 720x432 with 1 Axes>"
      ]
     },
     "metadata": {
      "needs_background": "light"
     },
     "output_type": "display_data"
    }
   ],
   "source": [
    "plt.figure(figsize=(10, 6))\n",
    "top_platforms_recent.plot(kind='bar', x='platform', y='total_sales', legend=False)\n",
    "plt.title('Топ платформ по суммарным продажам')\n",
    "plt.xlabel('Платформа')\n",
    "plt.ylabel('Суммарные продажи (млн. $)')\n",
    "plt.xticks(rotation=45)\n",
    "plt.show()"
   ]
  },
  {
   "cell_type": "markdown",
   "metadata": {},
   "source": [
    "На графике показаны платформы с наибольшими суммарными продажами за актуальный период. Лидером является PS4, с суммарными продажами более 300 миллионов долларов. За ней следует PS3 с чуть меньшими, но все же значительными продажами. Далее идут Xbox 360, 3DS и XOne.\n",
    "\n",
    "PS4 и PS3 демонстрируют высокую популярность, что свидетельствует о большой доле рынка этих платформ. Хотя PS3 постепенно теряет позиции, PS4, будучи более новой консолью, имеет потенциал для дальнейшего роста. Это делает её важным объектом для будущих стратегий и рекламных кампаний."
   ]
  },
  {
   "cell_type": "markdown",
   "metadata": {},
   "source": [
    "### График по глобальным продажам игр в разбивке по платформам"
   ]
  },
  {
   "cell_type": "markdown",
   "metadata": {},
   "source": [
    "Построим графики «ящик с усами» для каждой платформы, это поможет нам глубже понять распределение глобальных продаж и выявить возможные тенденции на рынке."
   ]
  },
  {
   "cell_type": "code",
   "execution_count": 35,
   "metadata": {},
   "outputs": [
    {
     "data": {
      "image/png": "[encoded data removed]",
      "text/plain": [
       "<Figure size 864x576 with 1 Axes>"
      ]
     },
     "metadata": {
      "needs_background": "light"
     },
     "output_type": "display_data"
    },
    {
     "data": {
      "image/png": "[encoded data removed]",
      "text/plain": [
       "<Figure size 864x576 with 1 Axes>"
      ]
     },
     "metadata": {
      "needs_background": "light"
     },
     "output_type": "display_data"
    }
   ],
   "source": [
    "plt.figure(figsize=(12, 8))\n",
    "sns.boxplot(x='platform', y='total_sales', data=df_filtered)\n",
    "plt.title('Продажи по перспективным платформам')\n",
    "plt.xlabel('Платформа')\n",
    "plt.ylabel('Общие продажи')\n",
    "plt.ylim(0, 20)  # верхний предел\n",
    "\n",
    "\n",
    "plt.figure(figsize=(12, 8))\n",
    "sns.boxplot(x='platform', y='total_sales', data=df_filtered)\n",
    "plt.title('Продажи по перспективным платформам')\n",
    "plt.xlabel('Платформа')\n",
    "plt.ylabel('Общие продажи')\n",
    "plt.ylim(0, 2)  # нижней предел\n",
    "\n",
    "plt.tight_layout()\n",
    "plt.show()"
   ]
  },
  {
   "cell_type": "markdown",
   "metadata": {},
   "source": [
    "По графикам видно, что наибольшие продажи по платформам наблюдаются у PS3, X360 и PS4. Эти платформы показывают устойчивый уровень продаж, с множеством игр, которые продаются в диапазоне до 1.5-2 миллионов копий.\n",
    "\n",
    "Однако, при более детальном рассмотрении с ограничением графика, заметно, что медиана продаж у большинства платформ находится значительно ниже — около 0.25 миллиона копий, что говорит о том, что большинство игр не достигают таких высоких продаж. Это подтверждает, что только несколько хитов вытягивают общие показатели продаж для этих платформ.\n",
    "\n",
    "Для анализа стоит учитывать не только лидеров продаж, но и общую картину, где много игр имеют сравнительно небольшие продажи."
   ]
  },
  {
   "cell_type": "markdown",
   "metadata": {},
   "source": [
    "### Диаграмма рассеяния и корреляция между отзывами пользователей и критиков с продажами для PS4:"
   ]
  },
  {
   "cell_type": "markdown",
   "metadata": {},
   "source": [
    "Построим диаграммы для того чтобы понять, что влияет на успех игры, на что делать акцент, чтобы игра хорошо продавалась, и какие аспекты можно улучшить."
   ]
  },
  {
   "cell_type": "markdown",
   "metadata": {},
   "source": [
    "Для начала выделим в отдельную переменную данные для `PS4`"
   ]
  },
  {
   "cell_type": "code",
   "execution_count": 36,
   "metadata": {},
   "outputs": [],
   "source": [
    "ps4 = df_filtered[df_filtered['platform'] == 'ps4']"
   ]
  },
  {
   "cell_type": "code",
   "execution_count": 37,
   "metadata": {},
   "outputs": [
    {
     "data": {
      "image/png": "[encoded data removed]",
      "text/plain": [
       "<Figure size 720x432 with 1 Axes>"
      ]
     },
     "metadata": {
      "needs_background": "light"
     },
     "output_type": "display_data"
    }
   ],
   "source": [
    "plt.figure(figsize=(10, 6))\n",
    "sns.scatterplot(data=ps4, x='user_score', y='total_sales')\n",
    "plt.title('Влияние отзывов пользователей на продажи (PS4)')\n",
    "plt.xlabel('Оценка пользователей')\n",
    "plt.ylabel('Глобальные продажи (млн копий)')\n",
    "plt.show()"
   ]
  },
  {
   "cell_type": "markdown",
   "metadata": {},
   "source": [
    "Влияние отзывов пользователей на продажи:\n",
    "\n",
    "На графике мы видим взаимосвязь между оценками пользователей и глобальными продажами. Видно, что между этими двумя показателями нет ярко выраженной зависимости. Хотя есть несколько игр с высокими продажами и более высокими пользовательскими оценками, большинство игр с продажами до 2 миллионов копий имеют разброс оценок от 5 до 8.\n",
    "\n",
    "\n",
    "Отзывы пользователей не оказывают значительного влияния на продажи игр для PS4. Высокие оценки пользователей не гарантируют высокие продажи."
   ]
  },
  {
   "cell_type": "code",
   "execution_count": 38,
   "metadata": {},
   "outputs": [
    {
     "data": {
      "image/png": "[encoded data removed]",
      "text/plain": [
       "<Figure size 720x432 with 1 Axes>"
      ]
     },
     "metadata": {
      "needs_background": "light"
     },
     "output_type": "display_data"
    }
   ],
   "source": [
    "plt.figure(figsize=(10, 6))\n",
    "sns.scatterplot(data=ps4, x='critic_score', y='total_sales')\n",
    "plt.title('Влияние оценок критиков на продажи (PS4)')\n",
    "plt.xlabel('Оценка критиков')\n",
    "plt.ylabel('Глобальные продажи (млн копий)')\n",
    "plt.show()"
   ]
  },
  {
   "cell_type": "markdown",
   "metadata": {},
   "source": [
    "Влияние оценок критиков на продажи:\n",
    "\n",
    "Этот график показывает, как оценки критиков влияют на продажи игр для PS4. Здесь мы видим более очевидную зависимость: игры с более высокими оценками критиков (выше 70) имеют тенденцию к более высоким продажам. Есть игры с оценками критиков выше 80, которые достигают продаж выше 4 миллионов копий.\n",
    "\n",
    "\n",
    "Оценки критиков оказывают большее влияние на продажи игр чем отзывы пользователей. Высокие оценки критиков могут способствовать увеличению продаж игр на платформе PS4."
   ]
  },
  {
   "cell_type": "code",
   "execution_count": 39,
   "metadata": {},
   "outputs": [
    {
     "data": {
      "image/png": "[encoded data removed]",
      "text/plain": [
       "<Figure size 576x432 with 2 Axes>"
      ]
     },
     "metadata": {
      "needs_background": "light"
     },
     "output_type": "display_data"
    }
   ],
   "source": [
    "# Корреляционная матрица для PS4 данных\n",
    "correlation_matrix = ps4[['user_score', 'critic_score', 'total_sales']].astype(float).corr()\n",
    "\n",
    "# Визуализация корреляционной матрицы с помощью тепловой карты\n",
    "plt.figure(figsize=(8, 6))\n",
    "sns.heatmap(correlation_matrix, annot=True, cmap='coolwarm', fmt='.2f')\n",
    "plt.title('Корреляция между оценками и продажами (PS4)')\n",
    "plt.show()"
   ]
  },
  {
   "cell_type": "markdown",
   "metadata": {},
   "source": [
    "Корреляция между оценками и продажами:\n",
    "На тепловой карте корреляций можно увидеть численные значения корреляции между различными показателями:\n",
    "\n",
    "\n",
    "* Корреляция между оценками пользователей и критиков составляет 0.56, что говорит о том, что критики и пользователи, в целом, оценивают игры схожим образом.\n",
    "\n",
    "\n",
    "* Корреляция между оценками критиков и продажами составляет 0.41, что указывает на положительную взаимосвязь.\n",
    "\n",
    "\n",
    "* Корреляция между оценками пользователей и продажами практически отсутствует (-0.03), что подтверждает, что оценки пользователей не являются значимым фактором для продаж."
   ]
  },
  {
   "cell_type": "markdown",
   "metadata": {},
   "source": [
    "На продажи игр на платформе PS4 больше всего влияют оценки критиков. Они оказывают умеренное положительное влияние на продажи. Оценки пользователей, напротив, практически не влияют на уровень продаж, что указывает на то, что другие факторы, такие как маркетинг, бренд или популярность франшизы, могут играть более значительную роль в успехе игры."
   ]
  },
  {
   "cell_type": "markdown",
   "metadata": {},
   "source": [
    "### Соотнесем выводы с продажами игр на других платформах."
   ]
  },
  {
   "cell_type": "code",
   "execution_count": 40,
   "metadata": {},
   "outputs": [],
   "source": [
    "platforms_to_analyze = ['ps3', 'x360', '3ds']\n",
    "correlations = {'platform': [], 'critic_sales_corr': [], 'user_sales_corr': []}"
   ]
  },
  {
   "cell_type": "code",
   "execution_count": 41,
   "metadata": {},
   "outputs": [
    {
     "data": {
      "image/png": "[encoded data removed]",
      "text/plain": [
       "<Figure size 720x360 with 1 Axes>"
      ]
     },
     "metadata": {
      "needs_background": "light"
     },
     "output_type": "display_data"
    },
    {
     "data": {
      "image/png": "[encoded data removed]",
      "text/plain": [
       "<Figure size 720x360 with 1 Axes>"
      ]
     },
     "metadata": {
      "needs_background": "light"
     },
     "output_type": "display_data"
    },
    {
     "data": {
      "image/png": "[encoded data removed]",
      "text/plain": [
       "<Figure size 576x432 with 2 Axes>"
      ]
     },
     "metadata": {
      "needs_background": "light"
     },
     "output_type": "display_data"
    },
    {
     "data": {
      "image/png": "[encoded data removed]",
      "text/plain": [
       "<Figure size 720x360 with 1 Axes>"
      ]
     },
     "metadata": {
      "needs_background": "light"
     },
     "output_type": "display_data"
    },
    {
     "data": {
      "image/png": "[encoded data removed]",
      "text/plain": [
       "<Figure size 720x360 with 1 Axes>"
      ]
     },
     "metadata": {
      "needs_background": "light"
     },
     "output_type": "display_data"
    },
    {
     "data": {
      "image/png": "[encoded data removed]",
      "text/plain": [
       "<Figure size 576x432 with 2 Axes>"
      ]
     },
     "metadata": {
      "needs_background": "light"
     },
     "output_type": "display_data"
    },
    {
     "data": {
      "image/png": "[encoded data removed]",
      "text/plain": [
       "<Figure size 720x360 with 1 Axes>"
      ]
     },
     "metadata": {
      "needs_background": "light"
     },
     "output_type": "display_data"
    },
    {
     "data": {
      "image/png": "[encoded data removed]",
      "text/plain": [
       "<Figure size 720x360 with 1 Axes>"
      ]
     },
     "metadata": {
      "needs_background": "light"
     },
     "output_type": "display_data"
    },
    {
     "data": {
      "image/png": "[encoded data removed]",
      "text/plain": [
       "<Figure size 576x432 with 2 Axes>"
      ]
     },
     "metadata": {
      "needs_background": "light"
     },
     "output_type": "display_data"
    },
    {
     "name": "stdout",
     "output_type": "stream",
     "text": [
      "  platform  critic_sales_corr  user_sales_corr\n",
      "0      ps3           0.334152        -0.006206\n",
      "1     x360           0.360573         0.006164\n",
      "2      3ds           0.320803         0.197583\n"
     ]
    }
   ],
   "source": [
    "for platform in platforms_to_analyze:\n",
    "    platform_data = df_filtered[df_filtered['platform'] == platform]\n",
    "    \n",
    "    plt.figure(figsize=(10, 5))\n",
    "    sns.scatterplot(x='critic_score', y='total_sales', data=platform_data)\n",
    "    plt.title(f'Зависимость продаж от оценок критиков для платформы {platform}')\n",
    "    plt.xlabel('Оценки критиков')\n",
    "    plt.ylabel('Продажи (млн копий)')\n",
    "    plt.show()\n",
    "\n",
    "    plt.figure(figsize=(10, 5))\n",
    "    sns.scatterplot(x='user_score', y='total_sales', data=platform_data)\n",
    "    plt.title(f'Зависимость продаж от оценок пользователей для платформы {platform}')\n",
    "    plt.xlabel('Оценки пользователей')\n",
    "    plt.ylabel('Продажи (млн копий)')\n",
    "    plt.show()\n",
    "\n",
    "    critic_corr = platform_data['critic_score'].corr(platform_data['total_sales'])\n",
    "    user_corr = platform_data['user_score'].corr(platform_data['total_sales'])\n",
    "\n",
    "    correlations['platform'].append(platform)\n",
    "    correlations['critic_sales_corr'].append(critic_corr)\n",
    "    correlations['user_sales_corr'].append(user_corr)\n",
    "\n",
    "    plt.figure(figsize=(8, 6))\n",
    "    heatmap_data = platform_data[['critic_score', 'user_score', 'total_sales']].corr()\n",
    "    sns.heatmap(heatmap_data, annot=True, cmap='coolwarm', vmin=-1, vmax=1)\n",
    "    plt.title(f'Тепловая карта корреляций для платформы {platform}')\n",
    "    plt.show()\n",
    "\n",
    "correlation_df = pd.DataFrame(correlations)\n",
    "print(correlation_df)\n"
   ]
  },
  {
   "cell_type": "markdown",
   "metadata": {},
   "source": [
    "По результатам диаграмм и карт можно сделать такой вывод:\n",
    "\n",
    "* `PS3`: Оценки критиков имеют умеренную положительную корреляцию с продажами (0.33), что говорит о том, что хорошие отзывы критиков способствуют увеличению продаж. Оценки пользователей, однако, практически не оказывают влияния на продажи (-0.006), что указывает на их слабую связь.\n",
    "\n",
    "\n",
    "* `Xbox 360`: Аналогично, отзывы критиков оказывают более заметное влияние на продажи (0.36). В то же время, корреляция с оценками пользователей минимальна (0.006), что говорит о незначительном воздействии пользовательских оценок на успех игр на этой платформе.\n",
    "\n",
    "\n",
    "* `Nintendo 3DS`: Здесь ситуация схожа — влияние оценок критиков на продажи умеренное (0.32), однако оценки пользователей оказывают большее влияние по сравнению с другими платформами (0.20), что может свидетельствовать о более внимательном отношении пользователей Nintendo к мнению других игроков.\n",
    "\n",
    "\n",
    "Таким образом, для всех платформ можно заметить, что влияние оценок критиков на продажи выше, чем оценок пользователей."
   ]
  },
  {
   "cell_type": "markdown",
   "metadata": {},
   "source": [
    "### Самые прибыльные жанры"
   ]
  },
  {
   "cell_type": "markdown",
   "metadata": {},
   "source": [
    "Сгруппируем данные по жанрам и посчитаае м суммарные продажи для каждого жанра."
   ]
  },
  {
   "cell_type": "code",
   "execution_count": 42,
   "metadata": {},
   "outputs": [
    {
     "name": "stdout",
     "output_type": "stream",
     "text": [
      "Суммарные продажи по жанрам:\n",
      " genre\n",
      "action          441.12\n",
      "shooter         304.73\n",
      "role-playing    192.80\n",
      "sports          181.06\n",
      "misc             85.04\n",
      "platform         61.00\n",
      "racing           53.50\n",
      "fighting         44.49\n",
      "simulation       35.12\n",
      "adventure        29.43\n",
      "strategy         13.34\n",
      "puzzle            4.89\n",
      "Name: total_sales, dtype: float64\n",
      "\n",
      "Медианные продажи по жанрам:\n",
      " genre\n",
      "shooter         0.440\n",
      "sports          0.240\n",
      "platform        0.210\n",
      "role-playing    0.140\n",
      "racing          0.140\n",
      "fighting        0.130\n",
      "action          0.120\n",
      "misc            0.120\n",
      "simulation      0.120\n",
      "strategy        0.080\n",
      "puzzle          0.045\n",
      "adventure       0.030\n",
      "Name: total_sales, dtype: float64\n"
     ]
    }
   ],
   "source": [
    "genre_sales = df_filtered.groupby('genre')['total_sales'].sum().sort_values(ascending=False)\n",
    "genre_median_sales = df_filtered.groupby('genre')['total_sales'].median().sort_values(ascending=False)\n",
    "print(\"Суммарные продажи по жанрам:\\n\", genre_sales)\n",
    "print(\"\\nМедианные продажи по жанрам:\\n\", genre_median_sales)"
   ]
  },
  {
   "cell_type": "markdown",
   "metadata": {},
   "source": [
    "Выделим топ жанров в отдельную переменную, построим график и диаграмму размаха"
   ]
  },
  {
   "cell_type": "code",
   "execution_count": 43,
   "metadata": {},
   "outputs": [],
   "source": [
    "top_genre = genre_sales.head(5)\n",
    "top_median_genre = genre_median_sales.head(5)"
   ]
  },
  {
   "cell_type": "code",
   "execution_count": 44,
   "metadata": {},
   "outputs": [
    {
     "data": {
      "image/png": "[encoded data removed]",
      "text/plain": [
       "<Figure size 720x432 with 1 Axes>"
      ]
     },
     "metadata": {
      "needs_background": "light"
     },
     "output_type": "display_data"
    }
   ],
   "source": [
    "plt.figure(figsize=(10, 6))\n",
    "top_genre.plot(kind='bar', x='platform', y='total_sales', legend=False)\n",
    "plt.title('Топ платформ по суммарным продажам')\n",
    "plt.xlabel('Платформа')\n",
    "plt.ylabel('Суммарные продажи (млн. $)')\n",
    "plt.xticks(rotation=45)\n",
    "plt.show()"
   ]
  },
  {
   "cell_type": "code",
   "execution_count": 45,
   "metadata": {},
   "outputs": [
    {
     "data": {
      "image/png": "[encoded data removed]",
      "text/plain": [
       "<Figure size 864x576 with 1 Axes>"
      ]
     },
     "metadata": {
      "needs_background": "light"
     },
     "output_type": "display_data"
    }
   ],
   "source": [
    "plt.figure(figsize=(12, 8))\n",
    "sns.boxplot(x='genre', y='total_sales', data=df_filtered, order=genre_median_sales.index)\n",
    "plt.title('Медианные продажи по топ-5 жанрам')\n",
    "plt.xlabel('Жанр')\n",
    "plt.ylabel('Продажи (млн копий)')\n",
    "plt.show()"
   ]
  },
  {
   "cell_type": "markdown",
   "metadata": {},
   "source": [
    "Судя по графику, Action — самый прибыльный жанр игр с большими суммарными продажами. Следом идут Shooter и Sports, которые также демонстрируют высокие показатели продаж, но уступают жанру Action. Жанры Role-Playing и Miscellaneous (Misc) имеют несколько более низкие продажи, но все еще остаются значительными.\n",
    "\n",
    "По медианным продажам можно сделать вывод, что жанры с самыми высокими медианными показателями продаж не всегда совпадают с жанрами с наибольшими суммарными продажами.\n",
    "\n",
    "* Shooter — медианные продажи составляют 0.44 млн копий, что делает этот жанр наиболее стабильным и прибыльным в среднем.\n",
    "\n",
    "\n",
    "* Sports — медианные продажи на уровне 0.24 млн копий показывают, что этот жанр также пользуется устойчивым спросом среди игроков.\n",
    "\n",
    "\n",
    "* Platform — с медианными продажами 0.21 млн копий, жанр платформеров демонстрирует стабильные продажи.\n",
    "\n",
    "\n",
    "* Role-Playing — медианные продажи на уровне 0.14 млн копий показывают, что жанр ролевых игр также достаточно стабилен.\n",
    "\n",
    "\n",
    "* Racing — медианные продажи на уровне 0.14 млн копий подтверждают устойчивый спрос на гоночные игры.\n",
    "\n",
    "\n",
    "Жанры Shooter и Sports явно выделяются не только по суммарным продажам, но и по стабильности продаж на разных платформах, что делает их одними из самых надежных и прибыльных направлений для разработчиков."
   ]
  },
  {
   "cell_type": "markdown",
   "metadata": {},
   "source": [
    "## Составив портрет пользователя для каждого региона (NA, EU, JP)"
   ]
  },
  {
   "cell_type": "markdown",
   "metadata": {},
   "source": [
    "### Cамые популярные платформы и жанры для каждого региона"
   ]
  },
  {
   "cell_type": "markdown",
   "metadata": {},
   "source": [
    "Сгруппируем данные по регионам и платформам, затем построим графики"
   ]
  },
  {
   "cell_type": "code",
   "execution_count": 46,
   "metadata": {},
   "outputs": [],
   "source": [
    "def plot_genre(region_sales, region_name):\n",
    "    # Получаем суммарные продажи по жанрам\n",
    "    total_sales = region_sales.sum()\n",
    "    \n",
    "    # Выделяем топ-5 жанров\n",
    "    top_genres = region_sales.head(5)\n",
    "    \n",
    "    # Считаем продажи всех остальных жанров\n",
    "    others_sales = total_sales - top_genres.sum()\n",
    "    \n",
    "    # Добавляем категорию \"Другие\" в данные\n",
    "    top_genres['Другие'] = others_sales\n",
    "    \n",
    "    # Строим круговую диаграмму\n",
    "    top_genres.plot(kind='pie', autopct='%1.1f%%', startangle=140, figsize=(7, 7))\n",
    "    plt.title(f'Распределение жанров по продажам в регионе {region_name}')\n",
    "    plt.ylabel('')  # Убираем ось Y\n",
    "    plt.show()"
   ]
  },
  {
   "cell_type": "code",
   "execution_count": 47,
   "metadata": {},
   "outputs": [],
   "source": [
    "def plot_platform(region_sales, region_name):\n",
    "    # Получаем суммарные продажи по платформам\n",
    "    total_sales = region_sales.sum()\n",
    "    \n",
    "    # Выделяем топ-5 платформ\n",
    "    top_platforms = region_sales.head(5)\n",
    "    \n",
    "    # Считаем продажи всех остальных платформ\n",
    "    others_sales = total_sales - top_platforms.sum()\n",
    "    \n",
    "    # Добавляем категорию \"Другие\" в данные\n",
    "    top_platforms['Другие'] = others_sales\n",
    "    \n",
    "    # Строим круговую диаграмму\n",
    "    top_platforms.plot(kind='pie', autopct='%1.1f%%', startangle=140, figsize=(7, 7))\n",
    "    plt.title(f'Распределение платформ по продажам в регионе {region_name}')\n",
    "    plt.ylabel('')  # Убираем ось Y\n",
    "    plt.show()"
   ]
  },
  {
   "cell_type": "code",
   "execution_count": 48,
   "metadata": {},
   "outputs": [
    {
     "data": {
      "image/png": "[encoded data removed]",
      "text/plain": [
       "<Figure size 504x504 with 1 Axes>"
      ]
     },
     "metadata": {},
     "output_type": "display_data"
    },
    {
     "data": {
      "image/png": "[encoded data removed]",
      "text/plain": [
       "<Figure size 504x504 with 1 Axes>"
      ]
     },
     "metadata": {},
     "output_type": "display_data"
    }
   ],
   "source": [
    "top_genres_na = df_filtered.groupby('genre')['na_sales'].sum().sort_values(ascending=False)\n",
    "top_platforms_na = df_filtered.groupby('platform')['na_sales'].sum().sort_values(ascending=False)\n",
    "plot_genre(top_genres_na, 'NA')\n",
    "plot_platform(top_platforms_na, 'NA')"
   ]
  },
  {
   "cell_type": "markdown",
   "metadata": {},
   "source": [
    "Наиболее популярные платформы для `NA` являются: `X360`, `PS4`, `PS3`, `Xone`, `3ds`. Доля продаж этих платформ достаточно велика, что свидетельствует о сильной культуре консольных игр в Северной Америке.\n",
    "\n",
    "Наиболее популярными жанрами игр для `NA` являются : `Action`, `Shooter`, `Sports`, `Role-playing`, `Racing`"
   ]
  },
  {
   "cell_type": "code",
   "execution_count": 49,
   "metadata": {},
   "outputs": [
    {
     "data": {
      "image/png": "[encoded data removed]",
      "text/plain": [
       "<Figure size 504x504 with 1 Axes>"
      ]
     },
     "metadata": {},
     "output_type": "display_data"
    },
    {
     "data": {
      "image/png": "[encoded data removed]",
      "text/plain": [
       "<Figure size 504x504 with 1 Axes>"
      ]
     },
     "metadata": {},
     "output_type": "display_data"
    }
   ],
   "source": [
    "top_genres_eu = df_filtered.groupby('genre')['eu_sales'].sum().sort_values(ascending=False)\n",
    "top_platforms_eu = df_filtered.groupby('platform')['eu_sales'].sum().sort_values(ascending=False)\n",
    "plot_genre(top_genres_eu, 'EU')\n",
    "plot_platform(top_platforms_eu, 'EU')"
   ]
  },
  {
   "cell_type": "markdown",
   "metadata": {},
   "source": [
    "В Европе популярные платформы схожи с Северной Америкой, однако `PS4` и `PS3` занимают более высокие позиции, что может свидетельствовать о более высоком предпочтении к PlayStation в Европе.\n",
    "\n",
    "По жанрам данные тоже очень схожи, также лидирует жанр `Action`, `Shoter`, `Sports`."
   ]
  },
  {
   "cell_type": "code",
   "execution_count": 50,
   "metadata": {},
   "outputs": [
    {
     "data": {
      "image/png": "[encoded data removed]",
      "text/plain": [
       "<Figure size 504x504 with 1 Axes>"
      ]
     },
     "metadata": {},
     "output_type": "display_data"
    },
    {
     "data": {
      "image/png": "[encoded data removed]",
      "text/plain": [
       "<Figure size 504x504 with 1 Axes>"
      ]
     },
     "metadata": {},
     "output_type": "display_data"
    }
   ],
   "source": [
    "top_genres_jp = df_filtered.groupby('genre')['jp_sales'].sum().sort_values(ascending=False)\n",
    "top_platforms_jp = df_filtered.groupby('platform')['jp_sales'].sum().sort_values(ascending=False)\n",
    "plot_genre(top_genres_jp, 'JP')\n",
    "plot_platform(top_platforms_jp, 'JP')\n"
   ]
  },
  {
   "cell_type": "markdown",
   "metadata": {},
   "source": [
    "Япония имеет заметно другие предпочтения, где лидируют `3DS`, `PS3`, `PS4`, `PSV`, `Wii`. Здесь портативные платформы, такие как 3DS и PSV, занимают гораздо более значительную долю продаж, что указывает на популярность портативного гейминга в этом регионе.\n",
    "\n",
    "В регионе преобладает жанр `Role-playing` и `Action`. Оба этих жанра занимают больше 50% рынка. Это говорит о том что на рынке Японии стоит сфокусироваться на этих жанрах."
   ]
  },
  {
   "cell_type": "markdown",
   "metadata": {},
   "source": [
    "### Влияние рейтинга ESRB на продажи в регионах"
   ]
  },
  {
   "cell_type": "code",
   "execution_count": 51,
   "metadata": {},
   "outputs": [
    {
     "data": {
      "image/png": "[encoded data removed]",
      "text/plain": [
       "<Figure size 432x288 with 1 Axes>"
      ]
     },
     "metadata": {
      "needs_background": "light"
     },
     "output_type": "display_data"
    }
   ],
   "source": [
    "esrb_effect_na = df_filtered.groupby('rating')['na_sales'].sum().sort_values(ascending=False)\n",
    "esrb_effect_na.plot(kind='bar', title='Влияние рейтинга ESRB на продажи в регионе NA')\n",
    "plt.xlabel('Рейтинг ESRB')\n",
    "plt.ylabel('Суммарные продажи (млн копий)')\n",
    "plt.show()"
   ]
  },
  {
   "cell_type": "markdown",
   "metadata": {},
   "source": [
    "`Северная Америка (NA)` Рейтинг `ESRB` сильно влияет на продажи. Игры с рейтингом \"M\" (молодежный) показывают наибольшие продажи, что свидетельствует о высокой популярности игр с таким рейтингом в этом регионе. Рейтинг \"E\" (для всех) и \"No Rating\" также влияют на продажи, но не так значительно, как \"M\". Рейтинги \"E10+\" (10 лет и старше) и \"T\" (подростковый) имеют заметно меньший вклад в продажи."
   ]
  },
  {
   "cell_type": "code",
   "execution_count": 52,
   "metadata": {},
   "outputs": [
    {
     "data": {
      "image/png": "[encoded data removed]",
      "text/plain": [
       "<Figure size 432x288 with 1 Axes>"
      ]
     },
     "metadata": {
      "needs_background": "light"
     },
     "output_type": "display_data"
    }
   ],
   "source": [
    "esrb_effect_eu = df_filtered.groupby('rating')['eu_sales'].sum().sort_values(ascending=False)\n",
    "esrb_effect_eu.plot(kind='bar', title='Влияние рейтинга ESRB на продажи в регионе EU')\n",
    "plt.xlabel('Рейтинг ESRB')\n",
    "plt.ylabel('Суммарные продажи (млн копий)')\n",
    "plt.show()"
   ]
  },
  {
   "cell_type": "markdown",
   "metadata": {},
   "source": [
    "`Европа (EU)` Рейтинг `ESRB` также оказывает заметное влияние на продажи. Как и в Северной Америке, игры с рейтингом \"M\" занимают первое место по продажам. Рейтинг \"E\" также приносит хорошие продажи, в то время как \"No Rating\" и \"E10+\" показывают средние результаты. Рейтинг \"T\" имеет наименьшее влияние на продажи среди всех категорий."
   ]
  },
  {
   "cell_type": "code",
   "execution_count": 53,
   "metadata": {},
   "outputs": [
    {
     "data": {
      "image/png": "[encoded data removed]",
      "text/plain": [
       "<Figure size 432x288 with 1 Axes>"
      ]
     },
     "metadata": {
      "needs_background": "light"
     },
     "output_type": "display_data"
    }
   ],
   "source": [
    "esrb_effect_jp = df_filtered.groupby('rating')['jp_sales'].sum().sort_values(ascending=False)\n",
    "esrb_effect_jp.plot(kind='bar', title='Влияние рейтинга ESRB на продажи в регионе JP')\n",
    "plt.xlabel('Рейтинг ESRB')\n",
    "plt.ylabel('Суммарные продажи (млн копий)')\n",
    "plt.show()"
   ]
  },
  {
   "cell_type": "markdown",
   "metadata": {},
   "source": [
    "`Япония (JP)` Здесь влияние рейтинга `ESRB` на продажи значительно отличается от других регионов. Рейтинг \"No Rating\" доминирует, что может быть связано с тем, что `ESRB` не так широко используется в Японии. Рейтинг \"E\" и \"T\" также оказывают влияние на продажи, но значительно меньше, чем в Северной Америке и Европе. Рейтинг \"M\" и \"E10+\" имеют минимальное влияние на продажи в этом регионе."
   ]
  },
  {
   "cell_type": "code",
   "execution_count": 54,
   "metadata": {},
   "outputs": [
    {
     "name": "stdout",
     "output_type": "stream",
     "text": [
      "0 0.0\n"
     ]
    },
    {
     "data": {
      "text/plain": [
       "No Rating    1275\n",
       "M             498\n",
       "T             412\n",
       "E             394\n",
       "E10+          306\n",
       "Name: rating, dtype: int64"
      ]
     },
     "execution_count": 54,
     "metadata": {},
     "output_type": "execute_result"
    }
   ],
   "source": [
    "temp = df_filtered.copy()\n",
    "print(temp.rating.isna().sum(), temp.rating.isna().sum()/len(temp))\n",
    "temp.rating.value_counts(dropna=False)"
   ]
  },
  {
   "cell_type": "markdown",
   "metadata": {},
   "source": [
    "### Общий вывод по портрету пользователя"
   ]
  },
  {
   "cell_type": "markdown",
   "metadata": {},
   "source": [
    "Портрет пользователя в каждом регионе показывает, что предпочтения заметно различаются в зависимости от культурных особенностей:\n",
    "\n",
    "\n",
    "* **Северная Америка (NA):** Здесь пользователи отдают предпочтение крупным игровым консолям, таким как Xbox и PlayStation, а также жанрам, таким как экшн и спортивные игры. Рейтинг ESRB имеет значительное влияние на продажи игр, так как рынок регламентирован, и пользователи ориентируются на рекомендации по возрастным ограничениям.\n",
    "\n",
    "\n",
    "* **Европа (EU):** Похожая картина с Северной Америкой — также доминируют консоли, особенно PlayStation. Европейские игроки предпочитают экшн и спортивные жанры. Рейтинг ESRB влияет на продажи, но не так строго, как в Северной Америке, однако остаётся важным фактором.\n",
    "\n",
    "\n",
    "* **Япония (JP):** В Японии большее значение имеют портативные устройства, такие как Nintendo DS и PlayStation Portable. Японские пользователи особенно любят ролевые игры (RPG). Рейтинг ESRB не играет столь заметной роли, и культурные предпочтения влияют на выбор игр больше, чем возрастные ограничения.\n",
    "\n",
    "\n",
    "Таким образом, популярность платформ и жанров напрямую зависит от культурных особенностей региона, а рейтинг ESRB оказывает большее влияние в западных странах, чем в Японии."
   ]
  },
  {
   "cell_type": "markdown",
   "metadata": {},
   "source": [
    "## Проверка некоторых гипотез  "
   ]
  },
  {
   "cell_type": "markdown",
   "metadata": {},
   "source": [
    "### Средние пользовательские рейтинги платформ Xbox One и PC одинаковые"
   ]
  },
  {
   "cell_type": "markdown",
   "metadata": {},
   "source": [
    "Выберем две независимые выборки, чтобы проверить, одинаковы ли средние оценки пользователей для двух платформ — Xbox One и PC. Нулевая гипотеза утверждает, что никакой разницы нет, то есть средние оценки на обеих платформах равны. Альтернативная гипотеза, наоборот, предполагает, что средние оценки пользователей различаются.\n",
    "\n",
    "В вашем случае, вы сравниваете средние пользовательские рейтинги на двух различных платформах (Xbox One и PC). Эти две группы независимы друг от друга, поскольку рейтинги пользователей на одной платформе не зависят от рейтингов на другой платформе."
   ]
  },
  {
   "cell_type": "markdown",
   "metadata": {},
   "source": [
    "`H0`(Нулевая гипотеза): Средние пользовательские рейтинги на платформах Xbox One и PC равны.\n",
    "\n",
    "\n",
    "`H1`(Альтернативная гипотеза): Средние пользовательские рейтинги на платформах Xbox One и PC не равны."
   ]
  },
  {
   "cell_type": "markdown",
   "metadata": {},
   "source": [
    "Фильтруем данные для платформ Xbox One и PC"
   ]
  },
  {
   "cell_type": "code",
   "execution_count": 55,
   "metadata": {},
   "outputs": [
    {
     "name": "stdout",
     "output_type": "stream",
     "text": [
      "среднее выборки пользователей Xbox: 6.521428571428572\n",
      "среднее выборки пользователей PC: 6.4286407766990274\n"
     ]
    }
   ],
   "source": [
    "a = 0.05\n",
    "xbox_one_ratings = df_filtered[df_filtered['platform'] == 'xone']['user_score'].dropna().astype(float)\n",
    "pc_ratings = df_filtered[df_filtered['platform'] == 'pc']['user_score'].dropna().astype(float)\n",
    "print('среднее выборки пользователей Xbox:', xbox_one_ratings.mean())\n",
    "print('среднее выборки пользователей PC:', pc_ratings.mean())"
   ]
  },
  {
   "cell_type": "code",
   "execution_count": 56,
   "metadata": {},
   "outputs": [
    {
     "name": "stdout",
     "output_type": "stream",
     "text": [
      "среднее выборки пользователей Xbox: 6.521428571428572\n",
      "среднее выборки пользователей PC: 6.4286407766990274\n",
      "p-value: 0.5535080500643661\n",
      "Не получилось отвергнуть нулевую гипотизу\n"
     ]
    }
   ],
   "source": [
    "results = st.ttest_ind(xbox_one_ratings, pc_ratings, alternative='two-sided')\n",
    "print('среднее выборки пользователей Xbox:', xbox_one_ratings.mean())\n",
    "print('среднее выборки пользователей PC:', pc_ratings.mean())\n",
    "print('p-value:', results.pvalue)\n",
    "if results.pvalue < a:\n",
    "    print('Отвергаем нулевую гипотизу')\n",
    "else:\n",
    "    print('Не получилось отвергнуть нулевую гипотизу')"
   ]
  },
  {
   "cell_type": "markdown",
   "metadata": {},
   "source": [
    "Средние пользовательские рейтинги на Xbox One и PC немного различаются: среднее значение для Xbox One составляет 6.52, а для PC — 6.43. Однако, p-значение равно 0.55, что значительно больше стандартного уровня значимости 0.05. Это означает, что у нас нет достаточных оснований для отвергнуть нулевую гипотезу и утверждать, что разница между рейтингами статистически значима. Таким образом, на основе этих данных можно заключить, что средние оценки пользователей для обеих платформ не имеют статистически значимых различий."
   ]
  },
  {
   "cell_type": "markdown",
   "metadata": {},
   "source": [
    "### Средние пользовательские рейтинги жанров Action и Sports"
   ]
  },
  {
   "cell_type": "markdown",
   "metadata": {},
   "source": [
    "Мы будем использовать двухвыборочный t-тест для независимых выборок. Этот метод подходит потому что мы сравниваем средние рейтинги двух различных жанров игр (Action и Sports). Эти жанры независимы друг от друга."
   ]
  },
  {
   "cell_type": "markdown",
   "metadata": {},
   "source": [
    "`H0`(Нулевая гипотеза):  Средний пользовательский рейтинг для жанра Action равен среднему пользовательскому рейтингу для жанра Sports.\n",
    "\n",
    "\n",
    "`H1`(Альтернативная гипотеза): Средний пользовательский рейтинг для жанра Action не равен среднему пользовательскому рейтингу для жанра Sports."
   ]
  },
  {
   "cell_type": "code",
   "execution_count": 57,
   "metadata": {},
   "outputs": [
    {
     "name": "stdout",
     "output_type": "stream",
     "text": [
      "среднее выборки рейтинга пользователей жанров Action: 6.825047801147227\n",
      "среднее выборки рейтинга пользователей жанров Sports: 5.455670103092784\n"
     ]
    }
   ],
   "source": [
    "a = 0.05\n",
    "action_ratings = df_filtered[df_filtered['genre'] == 'action']['user_score'].dropna().astype(float)\n",
    "sports_ratings = df_filtered[df_filtered['genre'] == 'sports']['user_score'].dropna().astype(float)\n",
    "print('среднее выборки рейтинга пользователей жанров Action:', action_ratings.mean())\n",
    "print('среднее выборки рейтинга пользователей жанров Sports:', sports_ratings.mean())"
   ]
  },
  {
   "cell_type": "code",
   "execution_count": 58,
   "metadata": {},
   "outputs": [
    {
     "name": "stdout",
     "output_type": "stream",
     "text": [
      "среднее выборки рейтинга пользователей жанров Action: 6.825047801147227\n",
      "среднее выборки рейтинга пользователей жанров Sports: 5.455670103092784\n",
      "p-value: 4.8045233804629176e-26\n",
      "Отвергаем нулевую гипотизу\n"
     ]
    }
   ],
   "source": [
    "results_2 = st.ttest_ind(action_ratings, sports_ratings, alternative='two-sided')\n",
    "print('среднее выборки рейтинга пользователей жанров Action:', action_ratings.mean())\n",
    "print('среднее выборки рейтинга пользователей жанров Sports:', sports_ratings.mean())\n",
    "print('p-value:', results_2.pvalue)\n",
    "if results_2.pvalue < a:\n",
    "    print('Отвергаем нулевую гипотизу')\n",
    "else:\n",
    "    print('Не получилось отвергнуть нулевую гипотизу')"
   ]
  },
  {
   "cell_type": "markdown",
   "metadata": {},
   "source": [
    "Средние пользовательские рейтинги для жанров Action и Sports значительно различаются. Средний рейтинг для жанра Action (6.83) значительно выше, чем для жанра Sports (5.46). P-значение - 4.8045233804629176e-26 значительно меньше стандартного уровня значимости 0.05, что позволяет отвергнуть нулевую гипотезу.\n",
    "\n",
    "Таким образом, есть достаточные основания утверждать, что средние пользовательские рейтинги жанров Action и Sports статистически различаются. Средний рейтинг пользователей для жанра Action существенно выше, чем для жанра Sports."
   ]
  },
  {
   "cell_type": "markdown",
   "metadata": {},
   "source": [
    "## Вывод по проекту"
   ]
  },
  {
   "cell_type": "markdown",
   "metadata": {},
   "source": [
    "В этом проекте мы работали с историческими данными об играх, которые включали информацию о продажах, оценках пользователей и критиков, платформах, жанрах и возрастных рейтингах. Основной целью было выявить закономерности, определяющие успешность игр, чтобы на основе этих данных можно было сделать прогноз на 2017 год и спланировать рекламные кампании.\n",
    "\n",
    "1. **`Ознакомление и подготовка данных`** \n",
    "\n",
    "    * Вначале мы загрузили данные и провели их первичный анализ, чтобы понять, с какими характеристиками и типами данных мы будем работать. \n",
    "    \n",
    "    * Затем привели все столбцы к нижнему регистру для унификации и удобства работы с данными.\n",
    "      \n",
    "    * Преобразовали типы данных в некоторых столбцах, чтобы корректно анализировать и обрабатывать информацию.\n",
    "    \n",
    "    * Обработали пропуски в данных. Например, 'tbd' в столбце с оценками пользователей заменили на NaN, поскольку эти значения не предоставляли полезной информации. \n",
    "        \n",
    "    * Вычислили и добавили новый столбец, который содержал суммарные продажи игры по всем регионам.\n",
    "\n",
    "\n",
    "2. **`Исследовательский анализ данных`** \n",
    "    * Выпуск игр по годам. Изучили, сколько игр выпускалось в разные годы. Мы обнаружили, что данные за ранние годы неполные и сосредоточились на анализе игр, выпущенных после 2008 года.\n",
    "    \n",
    "    * Продажи по платформам: Проанализировали, как менялись продажи игр на разных платформах. Мы определили, что платформы с наибольшими суммарными продажами (PS2, PS3, Wii, DS, X360) были самыми прибыльными. Проанализировали, за какой срок появляются и исчезают платформы, чтобы понять жизненный цикл платформ.\n",
    "    \n",
    "    * Актуальный период: На основе анализа предыдущих шагов определили актуальный период, начиная с 2008 года, и сосредоточились на данных за этот период.\n",
    "    \n",
    "    * Лидеры по продажам: Определили, какие платформы лидируют по продажам и как меняются их продажи. Оценили перспективы прибыльности для некоторых платформ.\n",
    "    \n",
    "    * Корреляция с отзывами: Изучили, как отзывы пользователей и критиков влияют на продажи игр. Построили диаграммы рассеяния и вычислили корреляцию между оценками и продажами. Выводы показали, что оценки критиков имеют значительную корреляцию с продажами, в то время как отзывы пользователей менее значимы.\n",
    "    \n",
    "    * Распределение по жанрам: Проанализировали, какие жанры являются наиболее прибыльными. Обнаружили, что жанры с высокими продажами (Action, Sports, Shooter) значительно выделяются на фоне других.\n",
    "    \n",
    "    \n",
    "3. **`Портрет пользователя каждого региона`**\n",
    "    * Мы выделили топ-5 платформ и жанров для разных регионов (NA, EU, JP) и проанализировали различия в предпочтениях пользователей. Также оценили влияние рейтингов ESRB на продажи в каждом регионе.\n",
    "    \n",
    "4. **`Проверка гипотез`**\n",
    "\n",
    "    * Проверили гипотезу о равенстве средних пользовательских рейтингов для платформ Xbox One и PC. Результаты показали, что нет значимых различий в этих рейтингах.\n",
    "    \n",
    "    * Проверили гипотезу о различии средних пользовательских рейтингов для жанров Action и Sports. Гипотеза была подтверждена, и оказалось, что жанр Action имеет значительно более высокий средний рейтинг.\n",
    "    \n",
    "    \n",
    "5. **`Заключение`**\n",
    "\n",
    "В этом проекте мы проанализировали исторические данные об играх, чтобы выявить ключевые факторы успеха и определить, как наилучшим образом распределить рекламный бюджет на 2017 год. Важно сосредоточиться на следующих аспектах:\n",
    "\n",
    "\n",
    "* **Платформы для рекламы:** `PlayStation 4` и `Xbox One` эти платформы показали наибольшие суммарные продажи и являются лидерами на рынке. Рекламный бюджет стоит направить в первую очередь на игры для этих платформ, так как они обеспечивают значительную аудиторию и потенциальные продажи. Нужно сосредоточить рекламные усилия на `PlayStation 4` и `Xbox One`.\n",
    "\n",
    "\n",
    "* **Жанры для рекламы:** `Action` и `Shooter` эти жанры продемонстрировали наивысшие продажи и популярность среди пользователей. Реклама игр в этих жанрах может привести к лучшим результатам и более высокому возврату на рекламные инвестиции. Нужно уделить особое внимание жанрам `Action` и `Shooter`.\n",
    "\n",
    "\n",
    "* **Возрастной рейтинг ESRB:** в `Северной Америке` и `Европе` Игры с рейтингом \"M\" (молодежный) показывают наибольшие продажи, что может указывать на интерес аудитории к играм с этим рейтингом. В `Японии` Рейтинг \"No Rating\" доминирует, что может потребовать дополнительного анализа, чтобы определить, как лучше учитывать отсутствие рейтинга в рекламной стратегии. Нужно нацелиться на игры с рейтингом \"M\" в `Северной Америке` и `Европе` и учитывать специфику рейтингов в других регионах.\n",
    "\n",
    "\n",
    "\n",
    "* **Отзывы и рейтинги:** Оценки критиков имеют значительное влияние на продажи, поэтому важно акцентировать внимание на качественных играх с высокими оценками критиков. Отзывы пользователей также важны, но их влияние на продажи меньше. Реклама игр с хорошими отзывами критиков может быть более эффективной. Нужно инвестировать в рекламу игр с высокими оценками критиков, чтобы максимизировать влияние рекламных кампаний.\n",
    "\n",
    "\n",
    "\n",
    "Эти выводы помогут интернет-магазину «Стримчик» выбрать игры с наибольшим потенциалом успеха и спланировать эффективные маркетинговые стратегии на 2017 год."
   ]
  }
 ],
 "metadata": {
  "ExecuteTimeLog": [
   {
    "duration": 61,
    "start_time": "2024-08-20T11:14:53.177Z"
   },
   {
    "duration": 1321,
    "start_time": "2024-08-20T11:15:07.290Z"
   },
   {
    "duration": 288,
    "start_time": "2024-08-20T11:15:09.310Z"
   },
   {
    "duration": 16,
    "start_time": "2024-08-20T11:15:13.748Z"
   },
   {
    "duration": 16,
    "start_time": "2024-08-20T11:19:28.601Z"
   },
   {
    "duration": 62,
    "start_time": "2024-08-20T11:20:18.769Z"
   },
   {
    "duration": 21,
    "start_time": "2024-08-20T11:20:27.185Z"
   },
   {
    "duration": 3,
    "start_time": "2024-08-20T11:22:43.594Z"
   },
   {
    "duration": 13,
    "start_time": "2024-08-20T11:22:49.134Z"
   },
   {
    "duration": 18,
    "start_time": "2024-08-20T11:24:16.705Z"
   },
   {
    "duration": 8,
    "start_time": "2024-08-20T11:24:37.522Z"
   },
   {
    "duration": 14,
    "start_time": "2024-08-20T11:24:48.232Z"
   },
   {
    "duration": 49,
    "start_time": "2024-08-20T11:25:02.409Z"
   },
   {
    "duration": 13,
    "start_time": "2024-08-20T11:25:11.353Z"
   },
   {
    "duration": 11,
    "start_time": "2024-08-20T11:27:22.597Z"
   },
   {
    "duration": 20,
    "start_time": "2024-08-20T11:27:26.743Z"
   },
   {
    "duration": 2216,
    "start_time": "2024-08-20T11:27:45.366Z"
   },
   {
    "duration": 19,
    "start_time": "2024-08-20T11:27:55.218Z"
   },
   {
    "duration": 2259,
    "start_time": "2024-08-20T11:27:58.447Z"
   },
   {
    "duration": 16,
    "start_time": "2024-08-20T11:28:04.385Z"
   },
   {
    "duration": 4,
    "start_time": "2024-08-20T11:28:56.217Z"
   },
   {
    "duration": 23,
    "start_time": "2024-08-20T11:28:58.387Z"
   },
   {
    "duration": 184,
    "start_time": "2024-08-20T11:35:19.438Z"
   },
   {
    "duration": 1107,
    "start_time": "2024-08-20T11:35:31.432Z"
   },
   {
    "duration": 131,
    "start_time": "2024-08-20T11:35:33.070Z"
   },
   {
    "duration": 17,
    "start_time": "2024-08-20T11:35:33.329Z"
   },
   {
    "duration": 3,
    "start_time": "2024-08-20T11:35:36.109Z"
   },
   {
    "duration": 12,
    "start_time": "2024-08-20T11:35:36.435Z"
   },
   {
    "duration": 13,
    "start_time": "2024-08-20T11:35:47.591Z"
   },
   {
    "duration": 7,
    "start_time": "2024-08-20T11:49:24.824Z"
   },
   {
    "duration": 14,
    "start_time": "2024-08-20T11:49:25.803Z"
   },
   {
    "duration": 13,
    "start_time": "2024-08-20T11:49:50.465Z"
   },
   {
    "duration": 11,
    "start_time": "2024-08-20T12:10:29.875Z"
   },
   {
    "duration": 17,
    "start_time": "2024-08-20T12:10:41.402Z"
   },
   {
    "duration": 19,
    "start_time": "2024-08-20T12:11:22.492Z"
   },
   {
    "duration": 19,
    "start_time": "2024-08-20T12:17:07.371Z"
   },
   {
    "duration": 30,
    "start_time": "2024-08-20T12:17:23.246Z"
   },
   {
    "duration": 9,
    "start_time": "2024-08-20T12:20:36.061Z"
   },
   {
    "duration": 9,
    "start_time": "2024-08-20T12:20:53.176Z"
   },
   {
    "duration": 10,
    "start_time": "2024-08-20T12:25:59.607Z"
   },
   {
    "duration": 11,
    "start_time": "2024-08-20T12:26:16.152Z"
   },
   {
    "duration": 10,
    "start_time": "2024-08-20T12:26:29.033Z"
   },
   {
    "duration": 9,
    "start_time": "2024-08-20T12:26:30.996Z"
   },
   {
    "duration": 13,
    "start_time": "2024-08-20T12:27:09.963Z"
   },
   {
    "duration": 22,
    "start_time": "2024-08-20T12:30:26.580Z"
   },
   {
    "duration": 92,
    "start_time": "2024-08-20T12:35:14.699Z"
   },
   {
    "duration": 6,
    "start_time": "2024-08-20T12:35:20.824Z"
   },
   {
    "duration": 306,
    "start_time": "2024-08-20T12:35:58.536Z"
   },
   {
    "duration": 334,
    "start_time": "2024-08-20T12:37:21.479Z"
   },
   {
    "duration": 341,
    "start_time": "2024-08-20T12:37:59.119Z"
   },
   {
    "duration": 338,
    "start_time": "2024-08-20T12:38:05.622Z"
   },
   {
    "duration": 6,
    "start_time": "2024-08-20T12:43:05.799Z"
   },
   {
    "duration": 397,
    "start_time": "2024-08-20T12:43:13.732Z"
   },
   {
    "duration": 5,
    "start_time": "2024-08-20T12:43:29.450Z"
   },
   {
    "duration": 327,
    "start_time": "2024-08-20T12:43:29.691Z"
   },
   {
    "duration": 10,
    "start_time": "2024-08-20T12:44:16.385Z"
   },
   {
    "duration": 9,
    "start_time": "2024-08-20T12:44:20.076Z"
   },
   {
    "duration": 4,
    "start_time": "2024-08-20T12:44:47.592Z"
   },
   {
    "duration": 4,
    "start_time": "2024-08-20T12:45:02.362Z"
   },
   {
    "duration": 206,
    "start_time": "2024-08-20T12:45:12.841Z"
   },
   {
    "duration": 4,
    "start_time": "2024-08-20T12:47:16.618Z"
   },
   {
    "duration": 1791,
    "start_time": "2024-08-20T12:47:31.131Z"
   },
   {
    "duration": 5,
    "start_time": "2024-08-20T12:47:43.307Z"
   },
   {
    "duration": 6,
    "start_time": "2024-08-20T12:47:54.182Z"
   },
   {
    "duration": 6,
    "start_time": "2024-08-20T12:48:26.276Z"
   },
   {
    "duration": 10,
    "start_time": "2024-08-20T12:50:25.850Z"
   },
   {
    "duration": 8,
    "start_time": "2024-08-20T12:50:30.538Z"
   },
   {
    "duration": 7,
    "start_time": "2024-08-20T12:51:19.235Z"
   },
   {
    "duration": 11,
    "start_time": "2024-08-20T12:52:13.696Z"
   },
   {
    "duration": 15,
    "start_time": "2024-08-20T12:52:19.915Z"
   },
   {
    "duration": 16,
    "start_time": "2024-08-20T12:52:30.251Z"
   },
   {
    "duration": 16,
    "start_time": "2024-08-20T12:52:51.791Z"
   },
   {
    "duration": 12,
    "start_time": "2024-08-20T12:53:06.587Z"
   },
   {
    "duration": 9,
    "start_time": "2024-08-20T12:53:32.584Z"
   },
   {
    "duration": 3533,
    "start_time": "2024-08-20T12:54:00.908Z"
   },
   {
    "duration": 2670,
    "start_time": "2024-08-20T12:54:12.482Z"
   },
   {
    "duration": 9,
    "start_time": "2024-08-20T12:55:56.177Z"
   },
   {
    "duration": 7,
    "start_time": "2024-08-20T12:56:27.452Z"
   },
   {
    "duration": 1845,
    "start_time": "2024-08-20T12:57:26.973Z"
   },
   {
    "duration": 5,
    "start_time": "2024-08-20T12:57:36.822Z"
   },
   {
    "duration": 301,
    "start_time": "2024-08-20T12:57:43.511Z"
   },
   {
    "duration": 5,
    "start_time": "2024-08-20T12:58:04.896Z"
   },
   {
    "duration": 6,
    "start_time": "2024-08-20T12:58:05.443Z"
   },
   {
    "duration": 295,
    "start_time": "2024-08-20T12:58:07.760Z"
   },
   {
    "duration": 8,
    "start_time": "2024-08-20T13:06:44.227Z"
   },
   {
    "duration": 10,
    "start_time": "2024-08-20T13:06:47.152Z"
   },
   {
    "duration": 1945,
    "start_time": "2024-08-20T13:07:20.599Z"
   },
   {
    "duration": 8,
    "start_time": "2024-08-20T13:07:31.141Z"
   },
   {
    "duration": 2146,
    "start_time": "2024-08-20T13:07:41.030Z"
   },
   {
    "duration": 9,
    "start_time": "2024-08-20T13:07:55.989Z"
   },
   {
    "duration": 7,
    "start_time": "2024-08-20T13:09:54.261Z"
   },
   {
    "duration": 2,
    "start_time": "2024-08-20T13:10:02.547Z"
   },
   {
    "duration": 23,
    "start_time": "2024-08-20T13:10:19.051Z"
   },
   {
    "duration": 6,
    "start_time": "2024-08-20T13:11:32.589Z"
   },
   {
    "duration": 287,
    "start_time": "2024-08-20T13:11:44.252Z"
   },
   {
    "duration": 15,
    "start_time": "2024-08-20T13:12:53.256Z"
   },
   {
    "duration": 1477,
    "start_time": "2024-08-20T13:13:31.160Z"
   },
   {
    "duration": 207,
    "start_time": "2024-08-20T13:14:33.646Z"
   },
   {
    "duration": 333,
    "start_time": "2024-08-20T13:14:51.295Z"
   },
   {
    "duration": 725,
    "start_time": "2024-08-20T13:15:38.413Z"
   },
   {
    "duration": 8,
    "start_time": "2024-08-20T13:16:28.728Z"
   },
   {
    "duration": 200,
    "start_time": "2024-08-20T13:16:31.745Z"
   },
   {
    "duration": 6,
    "start_time": "2024-08-20T13:47:37.490Z"
   },
   {
    "duration": 21,
    "start_time": "2024-08-20T13:47:49.110Z"
   },
   {
    "duration": 8,
    "start_time": "2024-08-20T13:52:17.025Z"
   },
   {
    "duration": 7,
    "start_time": "2024-08-20T13:55:07.332Z"
   },
   {
    "duration": 2,
    "start_time": "2024-08-20T13:55:16.125Z"
   },
   {
    "duration": 7,
    "start_time": "2024-08-20T13:55:18.077Z"
   },
   {
    "duration": 11,
    "start_time": "2024-08-20T13:55:28.205Z"
   },
   {
    "duration": 6,
    "start_time": "2024-08-20T13:55:35.326Z"
   },
   {
    "duration": 6,
    "start_time": "2024-08-20T13:55:50.010Z"
   },
   {
    "duration": 156,
    "start_time": "2024-08-20T13:57:51.716Z"
   },
   {
    "duration": 13,
    "start_time": "2024-08-20T13:58:06.886Z"
   },
   {
    "duration": 158,
    "start_time": "2024-08-20T13:58:40.985Z"
   },
   {
    "duration": 6,
    "start_time": "2024-08-20T13:58:58.131Z"
   },
   {
    "duration": 140,
    "start_time": "2024-08-20T13:58:59.720Z"
   },
   {
    "duration": 179,
    "start_time": "2024-08-20T13:59:11.623Z"
   },
   {
    "duration": 6,
    "start_time": "2024-08-20T13:59:27.534Z"
   },
   {
    "duration": 14,
    "start_time": "2024-08-20T14:00:30.167Z"
   },
   {
    "duration": 341,
    "start_time": "2024-08-20T14:01:23.890Z"
   },
   {
    "duration": 10,
    "start_time": "2024-08-20T14:02:15.637Z"
   },
   {
    "duration": 10,
    "start_time": "2024-08-20T14:02:28.159Z"
   },
   {
    "duration": 248,
    "start_time": "2024-08-20T14:03:44.259Z"
   },
   {
    "duration": 177,
    "start_time": "2024-08-20T14:04:35.488Z"
   },
   {
    "duration": 158,
    "start_time": "2024-08-20T14:04:43.306Z"
   },
   {
    "duration": 1053,
    "start_time": "2024-08-20T14:05:11.356Z"
   },
   {
    "duration": 2201,
    "start_time": "2024-08-20T14:05:42.142Z"
   },
   {
    "duration": 228,
    "start_time": "2024-08-20T14:05:52.040Z"
   },
   {
    "duration": 1314,
    "start_time": "2024-08-21T09:56:58.378Z"
   },
   {
    "duration": 217,
    "start_time": "2024-08-21T09:57:00.079Z"
   },
   {
    "duration": 26,
    "start_time": "2024-08-21T09:57:00.580Z"
   },
   {
    "duration": 3,
    "start_time": "2024-08-21T09:57:00.691Z"
   },
   {
    "duration": 14,
    "start_time": "2024-08-21T09:57:00.725Z"
   },
   {
    "duration": 15,
    "start_time": "2024-08-21T09:57:00.814Z"
   },
   {
    "duration": 8,
    "start_time": "2024-08-21T09:57:00.876Z"
   },
   {
    "duration": 13,
    "start_time": "2024-08-21T09:57:00.924Z"
   },
   {
    "duration": 10,
    "start_time": "2024-08-21T09:57:01.049Z"
   },
   {
    "duration": 13,
    "start_time": "2024-08-21T09:57:01.109Z"
   },
   {
    "duration": 9,
    "start_time": "2024-08-21T09:57:01.143Z"
   },
   {
    "duration": 23,
    "start_time": "2024-08-21T09:57:01.249Z"
   },
   {
    "duration": 6,
    "start_time": "2024-08-21T09:57:01.404Z"
   },
   {
    "duration": 395,
    "start_time": "2024-08-21T09:57:01.450Z"
   },
   {
    "duration": 8,
    "start_time": "2024-08-21T09:57:01.852Z"
   },
   {
    "duration": 9,
    "start_time": "2024-08-21T09:57:01.861Z"
   },
   {
    "duration": 43,
    "start_time": "2024-08-21T09:57:01.871Z"
   },
   {
    "duration": 23,
    "start_time": "2024-08-21T09:57:02.120Z"
   },
   {
    "duration": 7,
    "start_time": "2024-08-21T09:57:02.625Z"
   },
   {
    "duration": 274,
    "start_time": "2024-08-21T09:57:02.853Z"
   },
   {
    "duration": 25,
    "start_time": "2024-08-21T09:57:05.025Z"
   },
   {
    "duration": 3,
    "start_time": "2024-08-21T09:57:05.580Z"
   },
   {
    "duration": 8,
    "start_time": "2024-08-21T09:57:05.815Z"
   },
   {
    "duration": 214,
    "start_time": "2024-08-21T09:57:06.031Z"
   },
   {
    "duration": 103,
    "start_time": "2024-08-21T09:57:08.953Z"
   },
   {
    "duration": 7,
    "start_time": "2024-08-21T09:58:11.292Z"
   },
   {
    "duration": 6,
    "start_time": "2024-08-21T09:58:11.769Z"
   },
   {
    "duration": 169,
    "start_time": "2024-08-21T09:58:12.245Z"
   },
   {
    "duration": 214,
    "start_time": "2024-08-21T09:58:23.543Z"
   },
   {
    "duration": 479,
    "start_time": "2024-08-21T09:59:35.501Z"
   },
   {
    "duration": 132,
    "start_time": "2024-08-21T09:59:49.784Z"
   },
   {
    "duration": 415,
    "start_time": "2024-08-21T09:59:59.368Z"
   },
   {
    "duration": 7,
    "start_time": "2024-08-21T10:00:17.561Z"
   },
   {
    "duration": 9,
    "start_time": "2024-08-21T10:00:17.807Z"
   },
   {
    "duration": 3,
    "start_time": "2024-08-21T10:00:20.785Z"
   },
   {
    "duration": 10,
    "start_time": "2024-08-21T10:00:21.059Z"
   },
   {
    "duration": 184,
    "start_time": "2024-08-21T10:00:45.269Z"
   },
   {
    "duration": 225,
    "start_time": "2024-08-21T10:01:06.184Z"
   },
   {
    "duration": 6,
    "start_time": "2024-08-21T10:01:34.360Z"
   },
   {
    "duration": 143,
    "start_time": "2024-08-21T10:01:34.702Z"
   },
   {
    "duration": 182,
    "start_time": "2024-08-21T10:01:35.951Z"
   },
   {
    "duration": 388,
    "start_time": "2024-08-21T10:08:46.333Z"
   },
   {
    "duration": 315,
    "start_time": "2024-08-21T10:09:30.041Z"
   },
   {
    "duration": 1728,
    "start_time": "2024-08-21T10:12:59.401Z"
   },
   {
    "duration": 318,
    "start_time": "2024-08-21T10:13:26.380Z"
   },
   {
    "duration": 6,
    "start_time": "2024-08-21T10:24:20.691Z"
   },
   {
    "duration": 164,
    "start_time": "2024-08-21T10:24:31.489Z"
   },
   {
    "duration": 161,
    "start_time": "2024-08-21T10:24:49.721Z"
   },
   {
    "duration": 4,
    "start_time": "2024-08-21T10:25:07.918Z"
   },
   {
    "duration": 6,
    "start_time": "2024-08-21T10:25:14.573Z"
   },
   {
    "duration": 351,
    "start_time": "2024-08-21T10:27:14.230Z"
   },
   {
    "duration": 5,
    "start_time": "2024-08-21T10:37:33.549Z"
   },
   {
    "duration": 240,
    "start_time": "2024-08-21T10:37:33.959Z"
   },
   {
    "duration": 190,
    "start_time": "2024-08-21T10:37:34.201Z"
   },
   {
    "duration": 270,
    "start_time": "2024-08-21T10:37:34.393Z"
   },
   {
    "duration": 65,
    "start_time": "2024-08-21T10:38:03.404Z"
   },
   {
    "duration": 284,
    "start_time": "2024-08-21T10:53:58.976Z"
   },
   {
    "duration": 296,
    "start_time": "2024-08-21T10:54:01.475Z"
   },
   {
    "duration": 291,
    "start_time": "2024-08-21T10:54:49.238Z"
   },
   {
    "duration": 321,
    "start_time": "2024-08-21T10:54:57.620Z"
   },
   {
    "duration": 304,
    "start_time": "2024-08-21T10:56:40.762Z"
   },
   {
    "duration": 280,
    "start_time": "2024-08-21T10:57:51.377Z"
   },
   {
    "duration": 312,
    "start_time": "2024-08-21T10:58:24.524Z"
   },
   {
    "duration": 296,
    "start_time": "2024-08-21T10:58:32.857Z"
   },
   {
    "duration": 418,
    "start_time": "2024-08-21T11:01:53.216Z"
   },
   {
    "duration": 274,
    "start_time": "2024-08-21T11:09:46.191Z"
   },
   {
    "duration": 23,
    "start_time": "2024-08-21T11:12:21.605Z"
   },
   {
    "duration": 8,
    "start_time": "2024-08-21T11:12:36.883Z"
   },
   {
    "duration": 10,
    "start_time": "2024-08-21T11:14:54.713Z"
   },
   {
    "duration": 9,
    "start_time": "2024-08-21T11:15:19.336Z"
   },
   {
    "duration": 9,
    "start_time": "2024-08-21T11:15:28.293Z"
   },
   {
    "duration": 3,
    "start_time": "2024-08-21T11:15:43.772Z"
   },
   {
    "duration": 143,
    "start_time": "2024-08-21T11:15:58.433Z"
   },
   {
    "duration": 127,
    "start_time": "2024-08-21T11:16:08.093Z"
   },
   {
    "duration": 136,
    "start_time": "2024-08-21T11:16:12.566Z"
   },
   {
    "duration": 1560,
    "start_time": "2024-08-22T11:49:19.916Z"
   },
   {
    "duration": 221,
    "start_time": "2024-08-22T11:49:21.478Z"
   },
   {
    "duration": 20,
    "start_time": "2024-08-22T11:49:21.701Z"
   },
   {
    "duration": 40,
    "start_time": "2024-08-22T11:49:21.723Z"
   },
   {
    "duration": 26,
    "start_time": "2024-08-22T11:49:21.766Z"
   },
   {
    "duration": 24,
    "start_time": "2024-08-22T11:49:21.794Z"
   },
   {
    "duration": 9,
    "start_time": "2024-08-22T11:49:21.820Z"
   },
   {
    "duration": 37,
    "start_time": "2024-08-22T11:49:21.831Z"
   },
   {
    "duration": 14,
    "start_time": "2024-08-22T11:49:21.870Z"
   },
   {
    "duration": 21,
    "start_time": "2024-08-22T11:49:21.887Z"
   },
   {
    "duration": 12,
    "start_time": "2024-08-22T11:49:21.909Z"
   },
   {
    "duration": 43,
    "start_time": "2024-08-22T11:49:21.923Z"
   },
   {
    "duration": 7,
    "start_time": "2024-08-22T11:49:21.968Z"
   },
   {
    "duration": 454,
    "start_time": "2024-08-22T11:49:21.977Z"
   },
   {
    "duration": 11,
    "start_time": "2024-08-22T11:49:22.433Z"
   },
   {
    "duration": 44,
    "start_time": "2024-08-22T11:49:22.456Z"
   },
   {
    "duration": 4,
    "start_time": "2024-08-22T11:49:22.502Z"
   },
   {
    "duration": 43,
    "start_time": "2024-08-22T11:49:22.508Z"
   },
   {
    "duration": 8,
    "start_time": "2024-08-22T11:49:22.553Z"
   },
   {
    "duration": 295,
    "start_time": "2024-08-22T11:49:22.562Z"
   },
   {
    "duration": 25,
    "start_time": "2024-08-22T11:49:22.860Z"
   },
   {
    "duration": 3,
    "start_time": "2024-08-22T11:49:22.887Z"
   },
   {
    "duration": 15,
    "start_time": "2024-08-22T11:49:22.891Z"
   },
   {
    "duration": 190,
    "start_time": "2024-08-22T11:49:22.908Z"
   },
   {
    "duration": 393,
    "start_time": "2024-08-22T11:49:23.100Z"
   },
   {
    "duration": 5,
    "start_time": "2024-08-22T11:49:23.496Z"
   },
   {
    "duration": 247,
    "start_time": "2024-08-22T11:49:23.503Z"
   },
   {
    "duration": 200,
    "start_time": "2024-08-22T11:49:23.755Z"
   },
   {
    "duration": 449,
    "start_time": "2024-08-22T11:49:23.957Z"
   },
   {
    "duration": 352,
    "start_time": "2024-08-22T11:49:24.409Z"
   },
   {
    "duration": 326,
    "start_time": "2024-08-22T11:49:24.763Z"
   },
   {
    "duration": 398,
    "start_time": "2024-08-22T11:49:25.092Z"
   },
   {
    "duration": 394,
    "start_time": "2024-08-22T11:49:25.492Z"
   },
   {
    "duration": 331,
    "start_time": "2024-08-22T11:49:25.888Z"
   },
   {
    "duration": 8,
    "start_time": "2024-08-22T11:49:32.164Z"
   },
   {
    "duration": 8,
    "start_time": "2024-08-22T11:49:41.730Z"
   },
   {
    "duration": 4,
    "start_time": "2024-08-22T11:54:31.685Z"
   },
   {
    "duration": 133,
    "start_time": "2024-08-22T11:55:23.604Z"
   },
   {
    "duration": 142,
    "start_time": "2024-08-22T11:55:35.911Z"
   },
   {
    "duration": 141,
    "start_time": "2024-08-22T11:55:40.133Z"
   },
   {
    "duration": 142,
    "start_time": "2024-08-22T11:55:55.036Z"
   },
   {
    "duration": 131,
    "start_time": "2024-08-22T12:00:12.726Z"
   },
   {
    "duration": 237,
    "start_time": "2024-08-22T12:00:24.849Z"
   },
   {
    "duration": 154,
    "start_time": "2024-08-22T12:00:44.191Z"
   },
   {
    "duration": 144,
    "start_time": "2024-08-22T12:04:11.829Z"
   },
   {
    "duration": 154,
    "start_time": "2024-08-22T12:04:32.266Z"
   },
   {
    "duration": 150,
    "start_time": "2024-08-22T12:04:41.431Z"
   },
   {
    "duration": 9,
    "start_time": "2024-08-22T12:22:36.938Z"
   },
   {
    "duration": 11,
    "start_time": "2024-08-22T12:23:45.517Z"
   },
   {
    "duration": 8,
    "start_time": "2024-08-22T12:27:30.998Z"
   },
   {
    "duration": 12,
    "start_time": "2024-08-22T12:55:42.238Z"
   },
   {
    "duration": 7,
    "start_time": "2024-08-22T12:56:37.506Z"
   },
   {
    "duration": 7,
    "start_time": "2024-08-22T12:57:21.789Z"
   },
   {
    "duration": 7,
    "start_time": "2024-08-22T12:57:24.879Z"
   },
   {
    "duration": 7,
    "start_time": "2024-08-22T12:57:29.537Z"
   },
   {
    "duration": 7,
    "start_time": "2024-08-22T12:57:31.997Z"
   },
   {
    "duration": 9,
    "start_time": "2024-08-22T12:57:45.204Z"
   },
   {
    "duration": 6,
    "start_time": "2024-08-22T13:00:58.132Z"
   },
   {
    "duration": 8,
    "start_time": "2024-08-22T13:01:05.442Z"
   },
   {
    "duration": 8,
    "start_time": "2024-08-22T13:01:15.879Z"
   },
   {
    "duration": 1441,
    "start_time": "2024-08-22T13:21:13.834Z"
   },
   {
    "duration": 113,
    "start_time": "2024-08-22T13:21:15.277Z"
   },
   {
    "duration": 72,
    "start_time": "2024-08-22T13:21:15.392Z"
   },
   {
    "duration": 17,
    "start_time": "2024-08-22T13:21:15.467Z"
   },
   {
    "duration": 28,
    "start_time": "2024-08-22T13:21:15.486Z"
   },
   {
    "duration": 16,
    "start_time": "2024-08-22T13:21:15.556Z"
   },
   {
    "duration": 29,
    "start_time": "2024-08-22T13:21:15.573Z"
   },
   {
    "duration": 59,
    "start_time": "2024-08-22T13:21:15.604Z"
   },
   {
    "duration": 10,
    "start_time": "2024-08-22T13:21:15.665Z"
   },
   {
    "duration": 83,
    "start_time": "2024-08-22T13:21:15.678Z"
   },
   {
    "duration": 9,
    "start_time": "2024-08-22T13:21:15.763Z"
   },
   {
    "duration": 92,
    "start_time": "2024-08-22T13:21:15.774Z"
   },
   {
    "duration": 7,
    "start_time": "2024-08-22T13:21:15.867Z"
   },
   {
    "duration": 816,
    "start_time": "2024-08-22T13:21:15.876Z"
   },
   {
    "duration": 61,
    "start_time": "2024-08-22T13:21:16.694Z"
   },
   {
    "duration": 8,
    "start_time": "2024-08-22T13:21:16.757Z"
   },
   {
    "duration": 25,
    "start_time": "2024-08-22T13:21:16.767Z"
   },
   {
    "duration": 76,
    "start_time": "2024-08-22T13:21:16.794Z"
   },
   {
    "duration": 7,
    "start_time": "2024-08-22T13:21:16.872Z"
   },
   {
    "duration": 575,
    "start_time": "2024-08-22T13:21:16.881Z"
   },
   {
    "duration": 24,
    "start_time": "2024-08-22T13:21:17.458Z"
   },
   {
    "duration": 19,
    "start_time": "2024-08-22T13:21:17.483Z"
   },
   {
    "duration": 56,
    "start_time": "2024-08-22T13:21:17.504Z"
   },
   {
    "duration": 332,
    "start_time": "2024-08-22T13:21:17.561Z"
   },
   {
    "duration": 773,
    "start_time": "2024-08-22T13:21:17.895Z"
   },
   {
    "duration": 4,
    "start_time": "2024-08-22T13:21:18.670Z"
   },
   {
    "duration": 386,
    "start_time": "2024-08-22T13:21:18.676Z"
   },
   {
    "duration": 392,
    "start_time": "2024-08-22T13:21:19.066Z"
   },
   {
    "duration": 626,
    "start_time": "2024-08-22T13:21:19.460Z"
   },
   {
    "duration": 497,
    "start_time": "2024-08-22T13:21:20.088Z"
   },
   {
    "duration": 575,
    "start_time": "2024-08-22T13:21:20.587Z"
   },
   {
    "duration": 530,
    "start_time": "2024-08-22T13:21:21.164Z"
   },
   {
    "duration": 509,
    "start_time": "2024-08-22T13:21:21.696Z"
   },
   {
    "duration": 515,
    "start_time": "2024-08-22T13:21:22.256Z"
   },
   {
    "duration": 8,
    "start_time": "2024-08-22T13:21:22.772Z"
   },
   {
    "duration": 20,
    "start_time": "2024-08-22T13:21:22.782Z"
   },
   {
    "duration": 296,
    "start_time": "2024-08-22T13:21:22.803Z"
   },
   {
    "duration": 285,
    "start_time": "2024-08-22T13:21:23.100Z"
   },
   {
    "duration": 288,
    "start_time": "2024-08-22T13:21:23.387Z"
   },
   {
    "duration": 385,
    "start_time": "2024-08-22T13:21:23.676Z"
   },
   {
    "duration": 238,
    "start_time": "2024-08-22T13:21:24.063Z"
   },
   {
    "duration": 487,
    "start_time": "2024-08-22T13:21:24.303Z"
   },
   {
    "duration": 290,
    "start_time": "2024-08-22T13:21:24.792Z"
   },
   {
    "duration": 297,
    "start_time": "2024-08-22T13:21:25.083Z"
   },
   {
    "duration": 304,
    "start_time": "2024-08-22T13:21:25.382Z"
   },
   {
    "duration": 378,
    "start_time": "2024-08-22T13:21:25.689Z"
   },
   {
    "duration": 14,
    "start_time": "2024-08-22T13:21:26.069Z"
   },
   {
    "duration": 85,
    "start_time": "2024-08-22T13:21:26.085Z"
   },
   {
    "duration": 28,
    "start_time": "2024-08-22T13:21:26.173Z"
   },
   {
    "duration": 6,
    "start_time": "2024-08-22T13:21:26.203Z"
   },
   {
    "duration": 1185,
    "start_time": "2024-08-22T14:23:34.100Z"
   },
   {
    "duration": 85,
    "start_time": "2024-08-22T14:23:35.286Z"
   },
   {
    "duration": 18,
    "start_time": "2024-08-22T14:23:35.373Z"
   },
   {
    "duration": 12,
    "start_time": "2024-08-22T14:23:35.393Z"
   },
   {
    "duration": 16,
    "start_time": "2024-08-22T14:23:35.407Z"
   },
   {
    "duration": 27,
    "start_time": "2024-08-22T14:23:35.425Z"
   },
   {
    "duration": 8,
    "start_time": "2024-08-22T14:23:35.453Z"
   },
   {
    "duration": 17,
    "start_time": "2024-08-22T14:23:35.462Z"
   },
   {
    "duration": 8,
    "start_time": "2024-08-22T14:23:35.481Z"
   },
   {
    "duration": 38,
    "start_time": "2024-08-22T14:23:35.491Z"
   },
   {
    "duration": 21,
    "start_time": "2024-08-22T14:23:35.530Z"
   },
   {
    "duration": 44,
    "start_time": "2024-08-22T14:23:35.552Z"
   },
   {
    "duration": 5,
    "start_time": "2024-08-22T14:23:35.598Z"
   },
   {
    "duration": 395,
    "start_time": "2024-08-22T14:23:35.605Z"
   },
   {
    "duration": 8,
    "start_time": "2024-08-22T14:23:36.002Z"
   },
   {
    "duration": 10,
    "start_time": "2024-08-22T14:23:36.011Z"
   },
   {
    "duration": 28,
    "start_time": "2024-08-22T14:23:36.023Z"
   },
   {
    "duration": 44,
    "start_time": "2024-08-22T14:23:36.053Z"
   },
   {
    "duration": 7,
    "start_time": "2024-08-22T14:23:36.098Z"
   },
   {
    "duration": 235,
    "start_time": "2024-08-22T14:23:36.107Z"
   },
   {
    "duration": 31,
    "start_time": "2024-08-22T14:23:36.346Z"
   },
   {
    "duration": 3,
    "start_time": "2024-08-22T14:23:36.379Z"
   },
   {
    "duration": 11,
    "start_time": "2024-08-22T14:23:36.383Z"
   },
   {
    "duration": 188,
    "start_time": "2024-08-22T14:23:36.395Z"
   },
   {
    "duration": 339,
    "start_time": "2024-08-22T14:23:36.585Z"
   },
   {
    "duration": 6,
    "start_time": "2024-08-22T14:23:36.926Z"
   },
   {
    "duration": 207,
    "start_time": "2024-08-22T14:23:36.934Z"
   },
   {
    "duration": 184,
    "start_time": "2024-08-22T14:23:37.146Z"
   },
   {
    "duration": 404,
    "start_time": "2024-08-22T14:23:37.332Z"
   },
   {
    "duration": 310,
    "start_time": "2024-08-22T14:23:37.738Z"
   },
   {
    "duration": 332,
    "start_time": "2024-08-22T14:23:38.050Z"
   },
   {
    "duration": 354,
    "start_time": "2024-08-22T14:23:38.384Z"
   },
   {
    "duration": 372,
    "start_time": "2024-08-22T14:23:38.739Z"
   },
   {
    "duration": 355,
    "start_time": "2024-08-22T14:23:39.113Z"
   },
   {
    "duration": 8,
    "start_time": "2024-08-22T14:23:39.469Z"
   },
   {
    "duration": 7,
    "start_time": "2024-08-22T14:23:39.479Z"
   },
   {
    "duration": 155,
    "start_time": "2024-08-22T14:23:39.487Z"
   },
   {
    "duration": 129,
    "start_time": "2024-08-22T14:23:39.645Z"
   },
   {
    "duration": 130,
    "start_time": "2024-08-22T14:23:39.776Z"
   },
   {
    "duration": 132,
    "start_time": "2024-08-22T14:23:39.908Z"
   },
   {
    "duration": 132,
    "start_time": "2024-08-22T14:23:40.045Z"
   },
   {
    "duration": 231,
    "start_time": "2024-08-22T14:23:40.178Z"
   },
   {
    "duration": 147,
    "start_time": "2024-08-22T14:23:40.411Z"
   },
   {
    "duration": 143,
    "start_time": "2024-08-22T14:23:40.560Z"
   },
   {
    "duration": 169,
    "start_time": "2024-08-22T14:23:40.704Z"
   },
   {
    "duration": 144,
    "start_time": "2024-08-22T14:23:40.875Z"
   },
   {
    "duration": 8,
    "start_time": "2024-08-22T14:23:41.021Z"
   },
   {
    "duration": 18,
    "start_time": "2024-08-22T14:23:41.031Z"
   },
   {
    "duration": 41,
    "start_time": "2024-08-22T14:23:41.051Z"
   },
   {
    "duration": 6,
    "start_time": "2024-08-22T14:23:41.093Z"
   },
   {
    "duration": 88,
    "start_time": "2024-08-22T14:41:08.414Z"
   },
   {
    "duration": 26,
    "start_time": "2024-08-22T14:43:43.668Z"
   },
   {
    "duration": 15,
    "start_time": "2024-08-22T14:50:47.512Z"
   },
   {
    "duration": 51,
    "start_time": "2024-08-23T09:20:03.931Z"
   },
   {
    "duration": 7,
    "start_time": "2024-08-23T09:20:07.159Z"
   },
   {
    "duration": 6,
    "start_time": "2024-08-23T09:20:07.699Z"
   },
   {
    "duration": 6,
    "start_time": "2024-08-23T09:20:07.793Z"
   },
   {
    "duration": 6,
    "start_time": "2024-08-23T09:20:07.964Z"
   },
   {
    "duration": 1419,
    "start_time": "2024-08-23T09:20:10.621Z"
   },
   {
    "duration": 209,
    "start_time": "2024-08-23T09:20:12.042Z"
   },
   {
    "duration": 19,
    "start_time": "2024-08-23T09:20:12.613Z"
   },
   {
    "duration": 4,
    "start_time": "2024-08-23T09:20:13.193Z"
   },
   {
    "duration": 15,
    "start_time": "2024-08-23T09:20:13.259Z"
   },
   {
    "duration": 15,
    "start_time": "2024-08-23T09:20:13.350Z"
   },
   {
    "duration": 16,
    "start_time": "2024-08-23T09:20:13.523Z"
   },
   {
    "duration": 9,
    "start_time": "2024-08-23T09:20:13.610Z"
   },
   {
    "duration": 13,
    "start_time": "2024-08-23T09:20:13.887Z"
   },
   {
    "duration": 10,
    "start_time": "2024-08-23T09:20:15.687Z"
   },
   {
    "duration": 12,
    "start_time": "2024-08-23T09:20:16.243Z"
   },
   {
    "duration": 11,
    "start_time": "2024-08-23T09:24:07.409Z"
   },
   {
    "duration": 69,
    "start_time": "2024-08-23T09:24:12.986Z"
   },
   {
    "duration": 7,
    "start_time": "2024-08-23T09:24:16.649Z"
   },
   {
    "duration": 6,
    "start_time": "2024-08-23T09:24:29.786Z"
   },
   {
    "duration": 29,
    "start_time": "2024-08-23T09:25:56.631Z"
   },
   {
    "duration": 7,
    "start_time": "2024-08-23T09:26:07.769Z"
   },
   {
    "duration": 9,
    "start_time": "2024-08-23T09:26:22.605Z"
   },
   {
    "duration": 9,
    "start_time": "2024-08-23T09:26:25.810Z"
   },
   {
    "duration": 5,
    "start_time": "2024-08-23T09:26:31.252Z"
   },
   {
    "duration": 7,
    "start_time": "2024-08-23T09:26:40.829Z"
   },
   {
    "duration": 7,
    "start_time": "2024-08-23T09:26:58.243Z"
   },
   {
    "duration": 5,
    "start_time": "2024-08-23T09:27:44.593Z"
   },
   {
    "duration": 7,
    "start_time": "2024-08-23T09:27:46.725Z"
   },
   {
    "duration": 5,
    "start_time": "2024-08-23T09:31:15.466Z"
   },
   {
    "duration": 15,
    "start_time": "2024-08-23T09:32:55.245Z"
   },
   {
    "duration": 1195,
    "start_time": "2024-08-23T09:33:29.444Z"
   },
   {
    "duration": 8364,
    "start_time": "2024-08-23T09:33:42.147Z"
   },
   {
    "duration": 0,
    "start_time": "2024-08-23T09:37:58.012Z"
   },
   {
    "duration": 0,
    "start_time": "2024-08-23T09:37:58.014Z"
   },
   {
    "duration": 1217,
    "start_time": "2024-08-23T09:38:07.032Z"
   },
   {
    "duration": 86,
    "start_time": "2024-08-23T09:38:08.251Z"
   },
   {
    "duration": 27,
    "start_time": "2024-08-23T09:38:09.141Z"
   },
   {
    "duration": 4,
    "start_time": "2024-08-23T09:38:09.229Z"
   },
   {
    "duration": 15,
    "start_time": "2024-08-23T09:38:09.291Z"
   },
   {
    "duration": 15,
    "start_time": "2024-08-23T09:38:09.403Z"
   },
   {
    "duration": 15,
    "start_time": "2024-08-23T09:38:09.603Z"
   },
   {
    "duration": 8,
    "start_time": "2024-08-23T09:38:10.690Z"
   },
   {
    "duration": 7,
    "start_time": "2024-08-23T09:38:12.966Z"
   },
   {
    "duration": 21,
    "start_time": "2024-08-23T09:38:22.505Z"
   },
   {
    "duration": 18,
    "start_time": "2024-08-23T09:38:24.856Z"
   },
   {
    "duration": 7,
    "start_time": "2024-08-23T09:38:55.727Z"
   },
   {
    "duration": 11,
    "start_time": "2024-08-23T09:41:15.301Z"
   },
   {
    "duration": 15,
    "start_time": "2024-08-23T09:42:06.888Z"
   },
   {
    "duration": 1273,
    "start_time": "2024-08-23T09:43:11.289Z"
   },
   {
    "duration": 88,
    "start_time": "2024-08-23T09:43:12.898Z"
   },
   {
    "duration": 19,
    "start_time": "2024-08-23T09:43:13.439Z"
   },
   {
    "duration": 4,
    "start_time": "2024-08-23T09:43:13.532Z"
   },
   {
    "duration": 15,
    "start_time": "2024-08-23T09:43:13.612Z"
   },
   {
    "duration": 16,
    "start_time": "2024-08-23T09:43:13.704Z"
   },
   {
    "duration": 16,
    "start_time": "2024-08-23T09:43:14.689Z"
   },
   {
    "duration": 12,
    "start_time": "2024-08-23T09:43:16.460Z"
   },
   {
    "duration": 16,
    "start_time": "2024-08-23T09:43:17.108Z"
   },
   {
    "duration": 12,
    "start_time": "2024-08-23T09:43:18.076Z"
   },
   {
    "duration": 9,
    "start_time": "2024-08-23T09:43:18.646Z"
   },
   {
    "duration": 11,
    "start_time": "2024-08-23T09:43:27.604Z"
   },
   {
    "duration": 6,
    "start_time": "2024-08-23T09:43:45.788Z"
   },
   {
    "duration": 10,
    "start_time": "2024-08-23T09:43:54.278Z"
   },
   {
    "duration": 6,
    "start_time": "2024-08-23T09:43:58.306Z"
   },
   {
    "duration": 1195,
    "start_time": "2024-08-23T09:44:35.528Z"
   },
   {
    "duration": 96,
    "start_time": "2024-08-23T09:44:36.837Z"
   },
   {
    "duration": 19,
    "start_time": "2024-08-23T09:44:37.591Z"
   },
   {
    "duration": 4,
    "start_time": "2024-08-23T09:44:37.683Z"
   },
   {
    "duration": 15,
    "start_time": "2024-08-23T09:44:37.750Z"
   },
   {
    "duration": 16,
    "start_time": "2024-08-23T09:44:37.858Z"
   },
   {
    "duration": 16,
    "start_time": "2024-08-23T09:44:39.000Z"
   },
   {
    "duration": 12,
    "start_time": "2024-08-23T09:44:39.902Z"
   },
   {
    "duration": 12,
    "start_time": "2024-08-23T09:45:01.853Z"
   },
   {
    "duration": 9,
    "start_time": "2024-08-23T09:45:23.836Z"
   },
   {
    "duration": 15,
    "start_time": "2024-08-23T09:45:51.912Z"
   },
   {
    "duration": 28,
    "start_time": "2024-08-23T09:54:05.638Z"
   },
   {
    "duration": 30,
    "start_time": "2024-08-23T09:54:13.785Z"
   },
   {
    "duration": 26,
    "start_time": "2024-08-23T09:54:30.304Z"
   },
   {
    "duration": 36,
    "start_time": "2024-08-23T09:56:26.126Z"
   },
   {
    "duration": 1281,
    "start_time": "2024-08-23T10:15:01.273Z"
   },
   {
    "duration": 103,
    "start_time": "2024-08-23T10:15:02.886Z"
   },
   {
    "duration": 19,
    "start_time": "2024-08-23T10:15:03.534Z"
   },
   {
    "duration": 4,
    "start_time": "2024-08-23T10:15:04.164Z"
   },
   {
    "duration": 14,
    "start_time": "2024-08-23T10:15:04.615Z"
   },
   {
    "duration": 31,
    "start_time": "2024-08-23T10:15:05.282Z"
   },
   {
    "duration": 20,
    "start_time": "2024-08-23T10:15:06.939Z"
   },
   {
    "duration": 9,
    "start_time": "2024-08-23T10:15:08.386Z"
   },
   {
    "duration": 19,
    "start_time": "2024-08-23T10:15:25.264Z"
   },
   {
    "duration": 103,
    "start_time": "2024-08-23T10:15:39.320Z"
   },
   {
    "duration": 1216,
    "start_time": "2024-08-23T10:16:11.354Z"
   },
   {
    "duration": 88,
    "start_time": "2024-08-23T10:16:12.909Z"
   },
   {
    "duration": 19,
    "start_time": "2024-08-23T10:16:13.456Z"
   },
   {
    "duration": 3,
    "start_time": "2024-08-23T10:16:13.553Z"
   },
   {
    "duration": 15,
    "start_time": "2024-08-23T10:16:13.614Z"
   },
   {
    "duration": 31,
    "start_time": "2024-08-23T10:16:14.170Z"
   },
   {
    "duration": 18,
    "start_time": "2024-08-23T10:16:15.192Z"
   },
   {
    "duration": 14,
    "start_time": "2024-08-23T10:16:16.423Z"
   },
   {
    "duration": 11,
    "start_time": "2024-08-23T10:16:46.590Z"
   },
   {
    "duration": 15,
    "start_time": "2024-08-23T10:16:58.136Z"
   },
   {
    "duration": 13,
    "start_time": "2024-08-23T10:16:59.024Z"
   },
   {
    "duration": 20,
    "start_time": "2024-08-23T10:17:39.621Z"
   },
   {
    "duration": 13,
    "start_time": "2024-08-23T10:17:40.984Z"
   },
   {
    "duration": 10,
    "start_time": "2024-08-23T10:20:46.454Z"
   },
   {
    "duration": 7,
    "start_time": "2024-08-23T10:22:11.054Z"
   },
   {
    "duration": 21,
    "start_time": "2024-08-23T10:23:12.768Z"
   },
   {
    "duration": 21,
    "start_time": "2024-08-23T10:23:31.905Z"
   },
   {
    "duration": 6,
    "start_time": "2024-08-23T10:38:57.645Z"
   },
   {
    "duration": 14,
    "start_time": "2024-08-23T10:40:01.535Z"
   },
   {
    "duration": 1202,
    "start_time": "2024-08-23T10:40:11.338Z"
   },
   {
    "duration": 85,
    "start_time": "2024-08-23T10:40:13.056Z"
   },
   {
    "duration": 18,
    "start_time": "2024-08-23T10:40:13.600Z"
   },
   {
    "duration": 4,
    "start_time": "2024-08-23T10:40:13.691Z"
   },
   {
    "duration": 14,
    "start_time": "2024-08-23T10:40:13.769Z"
   },
   {
    "duration": 32,
    "start_time": "2024-08-23T10:40:13.865Z"
   },
   {
    "duration": 17,
    "start_time": "2024-08-23T10:40:15.042Z"
   },
   {
    "duration": 21,
    "start_time": "2024-08-23T10:40:15.827Z"
   },
   {
    "duration": 22,
    "start_time": "2024-08-23T10:40:16.655Z"
   },
   {
    "duration": 15,
    "start_time": "2024-08-23T10:40:26.711Z"
   },
   {
    "duration": 13,
    "start_time": "2024-08-23T10:40:34.739Z"
   },
   {
    "duration": 12,
    "start_time": "2024-08-23T10:40:39.723Z"
   },
   {
    "duration": 89,
    "start_time": "2024-08-23T10:40:40.812Z"
   },
   {
    "duration": 7,
    "start_time": "2024-08-23T10:40:56.172Z"
   },
   {
    "duration": 23,
    "start_time": "2024-08-23T10:41:10.336Z"
   },
   {
    "duration": 5,
    "start_time": "2024-08-23T15:40:39.127Z"
   },
   {
    "duration": 90,
    "start_time": "2024-08-23T15:40:39.750Z"
   },
   {
    "duration": 16,
    "start_time": "2024-08-23T15:40:40.551Z"
   },
   {
    "duration": 3,
    "start_time": "2024-08-23T15:40:40.640Z"
   },
   {
    "duration": 14,
    "start_time": "2024-08-23T15:40:40.723Z"
   },
   {
    "duration": 33,
    "start_time": "2024-08-23T15:40:40.809Z"
   },
   {
    "duration": 24,
    "start_time": "2024-08-23T15:40:40.933Z"
   },
   {
    "duration": 22,
    "start_time": "2024-08-23T15:40:41.042Z"
   },
   {
    "duration": 16,
    "start_time": "2024-08-23T15:40:41.110Z"
   },
   {
    "duration": 66,
    "start_time": "2024-08-23T15:40:41.136Z"
   },
   {
    "duration": 22,
    "start_time": "2024-08-23T15:40:41.204Z"
   },
   {
    "duration": 14,
    "start_time": "2024-08-23T15:40:41.341Z"
   },
   {
    "duration": 9,
    "start_time": "2024-08-23T15:40:41.510Z"
   },
   {
    "duration": 25,
    "start_time": "2024-08-23T15:40:41.575Z"
   },
   {
    "duration": 13,
    "start_time": "2024-08-23T15:40:45.578Z"
   },
   {
    "duration": 11,
    "start_time": "2024-08-23T15:40:47.138Z"
   },
   {
    "duration": 14,
    "start_time": "2024-08-23T15:40:50.222Z"
   },
   {
    "duration": 9,
    "start_time": "2024-08-23T15:43:16.676Z"
   },
   {
    "duration": 110,
    "start_time": "2024-08-23T16:02:12.463Z"
   },
   {
    "duration": 14,
    "start_time": "2024-08-23T16:02:13.105Z"
   },
   {
    "duration": 24,
    "start_time": "2024-08-23T16:02:17.200Z"
   },
   {
    "duration": 98,
    "start_time": "2024-08-23T16:02:18.314Z"
   },
   {
    "duration": 10,
    "start_time": "2024-08-23T16:02:18.682Z"
   },
   {
    "duration": 8,
    "start_time": "2024-08-23T16:02:20.927Z"
   },
   {
    "duration": 413,
    "start_time": "2024-08-23T16:02:21.473Z"
   },
   {
    "duration": 9,
    "start_time": "2024-08-23T16:02:24.142Z"
   },
   {
    "duration": 9,
    "start_time": "2024-08-23T16:02:25.307Z"
   },
   {
    "duration": 17,
    "start_time": "2024-08-23T16:02:26.041Z"
   },
   {
    "duration": 323,
    "start_time": "2024-08-23T16:02:36.389Z"
   },
   {
    "duration": 8,
    "start_time": "2024-08-23T16:04:50.893Z"
   },
   {
    "duration": 315,
    "start_time": "2024-08-23T16:05:47.356Z"
   },
   {
    "duration": 30,
    "start_time": "2024-08-23T16:07:09.133Z"
   },
   {
    "duration": 27,
    "start_time": "2024-08-23T16:07:41.249Z"
   },
   {
    "duration": 30,
    "start_time": "2024-08-23T16:07:44.750Z"
   },
   {
    "duration": 30,
    "start_time": "2024-08-23T16:08:08.607Z"
   },
   {
    "duration": 39,
    "start_time": "2024-08-23T16:08:12.402Z"
   },
   {
    "duration": 27,
    "start_time": "2024-08-23T16:08:21.075Z"
   },
   {
    "duration": 27,
    "start_time": "2024-08-23T16:09:00.848Z"
   },
   {
    "duration": 24,
    "start_time": "2024-08-23T16:12:09.688Z"
   },
   {
    "duration": 8,
    "start_time": "2024-08-23T16:12:18.148Z"
   },
   {
    "duration": 3,
    "start_time": "2024-08-23T16:12:44.620Z"
   },
   {
    "duration": 7,
    "start_time": "2024-08-23T16:12:46.249Z"
   },
   {
    "duration": 154,
    "start_time": "2024-08-23T16:12:52.131Z"
   },
   {
    "duration": 224,
    "start_time": "2024-08-23T16:25:49.742Z"
   },
   {
    "duration": 101,
    "start_time": "2024-08-23T16:25:57.927Z"
   },
   {
    "duration": 226,
    "start_time": "2024-08-23T16:26:08.652Z"
   },
   {
    "duration": 398,
    "start_time": "2024-08-23T16:26:36.851Z"
   },
   {
    "duration": 387,
    "start_time": "2024-08-23T16:27:14.404Z"
   },
   {
    "duration": 377,
    "start_time": "2024-08-23T16:28:04.363Z"
   },
   {
    "duration": 370,
    "start_time": "2024-08-23T16:28:14.035Z"
   },
   {
    "duration": 309,
    "start_time": "2024-08-23T16:28:24.795Z"
   },
   {
    "duration": 109,
    "start_time": "2024-08-23T16:28:36.252Z"
   },
   {
    "duration": 328,
    "start_time": "2024-08-23T16:28:54.548Z"
   },
   {
    "duration": 435,
    "start_time": "2024-08-23T16:29:03.670Z"
   },
   {
    "duration": 448,
    "start_time": "2024-08-23T16:30:01.704Z"
   },
   {
    "duration": 372,
    "start_time": "2024-08-23T16:31:02.870Z"
   },
   {
    "duration": 428,
    "start_time": "2024-08-23T16:31:04.786Z"
   },
   {
    "duration": 273,
    "start_time": "2024-08-23T16:31:13.360Z"
   },
   {
    "duration": 425,
    "start_time": "2024-08-23T16:31:17.546Z"
   },
   {
    "duration": 277,
    "start_time": "2024-08-23T16:31:23.584Z"
   },
   {
    "duration": 464,
    "start_time": "2024-08-23T16:31:25.863Z"
   },
   {
    "duration": 655,
    "start_time": "2024-08-23T16:33:40.771Z"
   },
   {
    "duration": 639,
    "start_time": "2024-08-23T16:33:54.710Z"
   },
   {
    "duration": 626,
    "start_time": "2024-08-23T16:34:29.026Z"
   },
   {
    "duration": 783,
    "start_time": "2024-08-23T16:34:59.739Z"
   },
   {
    "duration": 735,
    "start_time": "2024-08-23T16:35:10.903Z"
   },
   {
    "duration": 572,
    "start_time": "2024-08-23T16:35:20.398Z"
   },
   {
    "duration": 721,
    "start_time": "2024-08-23T16:35:27.141Z"
   },
   {
    "duration": 1338,
    "start_time": "2024-08-24T09:20:14.928Z"
   },
   {
    "duration": 241,
    "start_time": "2024-08-24T09:20:16.268Z"
   },
   {
    "duration": 17,
    "start_time": "2024-08-24T09:20:16.783Z"
   },
   {
    "duration": 2,
    "start_time": "2024-08-24T09:20:17.364Z"
   },
   {
    "duration": 13,
    "start_time": "2024-08-24T09:20:17.429Z"
   },
   {
    "duration": 33,
    "start_time": "2024-08-24T09:20:17.519Z"
   },
   {
    "duration": 15,
    "start_time": "2024-08-24T09:20:17.663Z"
   },
   {
    "duration": 19,
    "start_time": "2024-08-24T09:20:17.752Z"
   },
   {
    "duration": 16,
    "start_time": "2024-08-24T09:20:17.818Z"
   },
   {
    "duration": 10,
    "start_time": "2024-08-24T09:20:17.860Z"
   },
   {
    "duration": 24,
    "start_time": "2024-08-24T09:20:17.921Z"
   },
   {
    "duration": 14,
    "start_time": "2024-08-24T09:20:18.043Z"
   },
   {
    "duration": 8,
    "start_time": "2024-08-24T09:20:18.214Z"
   },
   {
    "duration": 12,
    "start_time": "2024-08-24T09:20:18.276Z"
   },
   {
    "duration": 9,
    "start_time": "2024-08-24T09:20:18.417Z"
   },
   {
    "duration": 10,
    "start_time": "2024-08-24T09:20:18.506Z"
   },
   {
    "duration": 9,
    "start_time": "2024-08-24T09:20:18.593Z"
   },
   {
    "duration": 21,
    "start_time": "2024-08-24T09:20:18.677Z"
   },
   {
    "duration": 104,
    "start_time": "2024-08-24T09:20:18.801Z"
   },
   {
    "duration": 7,
    "start_time": "2024-08-24T09:20:18.906Z"
   },
   {
    "duration": 5,
    "start_time": "2024-08-24T09:20:19.176Z"
   },
   {
    "duration": 360,
    "start_time": "2024-08-24T09:20:19.208Z"
   },
   {
    "duration": 13,
    "start_time": "2024-08-24T09:20:19.570Z"
   },
   {
    "duration": 12,
    "start_time": "2024-08-24T09:20:19.587Z"
   },
   {
    "duration": 330,
    "start_time": "2024-08-24T09:20:19.754Z"
   },
   {
    "duration": 3,
    "start_time": "2024-08-24T09:20:20.366Z"
   },
   {
    "duration": 27,
    "start_time": "2024-08-24T09:20:20.433Z"
   },
   {
    "duration": 6,
    "start_time": "2024-08-24T09:20:20.489Z"
   },
   {
    "duration": 250,
    "start_time": "2024-08-24T09:20:20.520Z"
   },
   {
    "duration": 24,
    "start_time": "2024-08-24T09:20:20.771Z"
   },
   {
    "duration": 8,
    "start_time": "2024-08-24T09:20:20.835Z"
   },
   {
    "duration": 2,
    "start_time": "2024-08-24T09:20:21.711Z"
   },
   {
    "duration": 6,
    "start_time": "2024-08-24T09:20:21.789Z"
   },
   {
    "duration": 133,
    "start_time": "2024-08-24T09:20:21.821Z"
   },
   {
    "duration": 748,
    "start_time": "2024-08-24T09:20:23.202Z"
   },
   {
    "duration": 3,
    "start_time": "2024-08-24T09:20:25.082Z"
   },
   {
    "duration": 129,
    "start_time": "2024-08-24T09:20:26.145Z"
   },
   {
    "duration": 4,
    "start_time": "2024-08-24T09:21:11.159Z"
   },
   {
    "duration": 165,
    "start_time": "2024-08-24T09:21:11.358Z"
   },
   {
    "duration": 161,
    "start_time": "2024-08-24T09:21:17.580Z"
   },
   {
    "duration": 249,
    "start_time": "2024-08-24T09:21:23.255Z"
   },
   {
    "duration": 1073,
    "start_time": "2024-08-24T09:29:26.029Z"
   },
   {
    "duration": 967,
    "start_time": "2024-08-24T09:29:30.388Z"
   },
   {
    "duration": 980,
    "start_time": "2024-08-24T09:29:49.646Z"
   },
   {
    "duration": 7,
    "start_time": "2024-08-24T09:29:57.089Z"
   },
   {
    "duration": 6,
    "start_time": "2024-08-24T09:30:09.003Z"
   },
   {
    "duration": 3,
    "start_time": "2024-08-24T09:31:25.969Z"
   },
   {
    "duration": 927,
    "start_time": "2024-08-24T09:31:34.219Z"
   },
   {
    "duration": 152,
    "start_time": "2024-08-24T09:39:25.111Z"
   },
   {
    "duration": 319,
    "start_time": "2024-08-24T09:40:34.891Z"
   },
   {
    "duration": 398,
    "start_time": "2024-08-24T09:40:38.720Z"
   },
   {
    "duration": 262,
    "start_time": "2024-08-24T09:40:46.654Z"
   },
   {
    "duration": 272,
    "start_time": "2024-08-24T09:41:06.945Z"
   },
   {
    "duration": 1751,
    "start_time": "2024-08-24T09:49:05.843Z"
   },
   {
    "duration": 2,
    "start_time": "2024-08-24T09:49:35.211Z"
   },
   {
    "duration": 1863,
    "start_time": "2024-08-24T09:49:35.706Z"
   },
   {
    "duration": 3,
    "start_time": "2024-08-24T09:52:40.967Z"
   },
   {
    "duration": 1963,
    "start_time": "2024-08-24T09:52:41.274Z"
   },
   {
    "duration": 1916,
    "start_time": "2024-08-24T10:08:13.181Z"
   },
   {
    "duration": 3,
    "start_time": "2024-08-24T10:09:06.922Z"
   },
   {
    "duration": 1914,
    "start_time": "2024-08-24T10:09:07.145Z"
   },
   {
    "duration": 7,
    "start_time": "2024-08-24T10:12:10.604Z"
   },
   {
    "duration": 4,
    "start_time": "2024-08-24T10:12:12.595Z"
   },
   {
    "duration": 5,
    "start_time": "2024-08-24T10:12:34.385Z"
   },
   {
    "duration": 12,
    "start_time": "2024-08-24T10:12:52.462Z"
   },
   {
    "duration": 3,
    "start_time": "2024-08-24T10:13:04.480Z"
   },
   {
    "duration": 131,
    "start_time": "2024-08-24T10:13:04.854Z"
   },
   {
    "duration": 176,
    "start_time": "2024-08-24T10:13:05.247Z"
   },
   {
    "duration": 5,
    "start_time": "2024-08-24T10:14:17.259Z"
   },
   {
    "duration": 9,
    "start_time": "2024-08-24T10:14:39.784Z"
   },
   {
    "duration": 9,
    "start_time": "2024-08-24T10:14:53.265Z"
   },
   {
    "duration": 2,
    "start_time": "2024-08-24T10:19:02.572Z"
   },
   {
    "duration": 16,
    "start_time": "2024-08-24T10:19:12.865Z"
   },
   {
    "duration": 283,
    "start_time": "2024-08-24T10:20:38.123Z"
   },
   {
    "duration": 4,
    "start_time": "2024-08-24T10:32:10.044Z"
   },
   {
    "duration": 4,
    "start_time": "2024-08-24T10:33:26.004Z"
   },
   {
    "duration": 5,
    "start_time": "2024-08-24T10:34:44.767Z"
   },
   {
    "duration": 17,
    "start_time": "2024-08-24T10:34:55.118Z"
   },
   {
    "duration": 165,
    "start_time": "2024-08-24T10:35:04.190Z"
   },
   {
    "duration": 391,
    "start_time": "2024-08-24T10:35:23.428Z"
   },
   {
    "duration": 4,
    "start_time": "2024-08-24T10:37:08.008Z"
   },
   {
    "duration": 4,
    "start_time": "2024-08-24T10:37:12.875Z"
   },
   {
    "duration": 125,
    "start_time": "2024-08-24T10:38:23.679Z"
   },
   {
    "duration": 220,
    "start_time": "2024-08-24T10:38:46.633Z"
   },
   {
    "duration": 246,
    "start_time": "2024-08-24T10:41:07.414Z"
   },
   {
    "duration": 258,
    "start_time": "2024-08-24T10:41:29.821Z"
   },
   {
    "duration": 247,
    "start_time": "2024-08-24T10:43:27.216Z"
   },
   {
    "duration": 336,
    "start_time": "2024-08-24T10:43:47.353Z"
   },
   {
    "duration": 135,
    "start_time": "2024-08-24T10:54:04.669Z"
   },
   {
    "duration": 158,
    "start_time": "2024-08-24T10:54:08.846Z"
   },
   {
    "duration": 116,
    "start_time": "2024-08-24T10:54:12.577Z"
   },
   {
    "duration": 5,
    "start_time": "2024-08-24T10:55:14.277Z"
   },
   {
    "duration": 8,
    "start_time": "2024-08-24T10:55:50.447Z"
   },
   {
    "duration": 5,
    "start_time": "2024-08-24T10:56:14.135Z"
   },
   {
    "duration": 13,
    "start_time": "2024-08-24T11:05:32.540Z"
   },
   {
    "duration": 8,
    "start_time": "2024-08-24T11:05:36.005Z"
   },
   {
    "duration": 7,
    "start_time": "2024-08-24T11:05:37.134Z"
   },
   {
    "duration": 9,
    "start_time": "2024-08-24T11:05:53.119Z"
   },
   {
    "duration": 6,
    "start_time": "2024-08-24T11:05:54.190Z"
   },
   {
    "duration": 9,
    "start_time": "2024-08-24T11:16:13.836Z"
   },
   {
    "duration": 9,
    "start_time": "2024-08-24T11:16:21.708Z"
   },
   {
    "duration": 6,
    "start_time": "2024-08-24T11:16:34.652Z"
   },
   {
    "duration": 6,
    "start_time": "2024-08-24T11:17:05.394Z"
   },
   {
    "duration": 52,
    "start_time": "2024-08-24T11:20:01.919Z"
   },
   {
    "duration": 1059,
    "start_time": "2024-08-24T11:29:33.772Z"
   },
   {
    "duration": 120,
    "start_time": "2024-08-24T11:29:34.833Z"
   },
   {
    "duration": 73,
    "start_time": "2024-08-24T11:29:34.954Z"
   },
   {
    "duration": 4,
    "start_time": "2024-08-24T11:29:35.029Z"
   },
   {
    "duration": 21,
    "start_time": "2024-08-24T11:29:35.035Z"
   },
   {
    "duration": 95,
    "start_time": "2024-08-24T11:29:35.058Z"
   },
   {
    "duration": 75,
    "start_time": "2024-08-24T11:29:35.155Z"
   },
   {
    "duration": 26,
    "start_time": "2024-08-24T11:29:35.232Z"
   },
   {
    "duration": 73,
    "start_time": "2024-08-24T11:29:35.259Z"
   },
   {
    "duration": 11,
    "start_time": "2024-08-24T11:29:35.334Z"
   },
   {
    "duration": 20,
    "start_time": "2024-08-24T11:29:35.346Z"
   },
   {
    "duration": 69,
    "start_time": "2024-08-24T11:29:35.367Z"
   },
   {
    "duration": 18,
    "start_time": "2024-08-24T11:29:35.438Z"
   },
   {
    "duration": 13,
    "start_time": "2024-08-24T11:29:35.459Z"
   },
   {
    "duration": 61,
    "start_time": "2024-08-24T11:29:35.473Z"
   },
   {
    "duration": 14,
    "start_time": "2024-08-24T11:29:35.536Z"
   },
   {
    "duration": 9,
    "start_time": "2024-08-24T11:29:35.551Z"
   },
   {
    "duration": 89,
    "start_time": "2024-08-24T11:29:35.562Z"
   },
   {
    "duration": 202,
    "start_time": "2024-08-24T11:29:35.653Z"
   },
   {
    "duration": 8,
    "start_time": "2024-08-24T11:29:35.856Z"
   },
   {
    "duration": 65,
    "start_time": "2024-08-24T11:29:35.865Z"
   },
   {
    "duration": 694,
    "start_time": "2024-08-24T11:29:35.932Z"
   },
   {
    "duration": 13,
    "start_time": "2024-08-24T11:29:36.628Z"
   },
   {
    "duration": 9,
    "start_time": "2024-08-24T11:29:36.643Z"
   },
   {
    "duration": 322,
    "start_time": "2024-08-24T11:29:36.653Z"
   },
   {
    "duration": 3,
    "start_time": "2024-08-24T11:29:36.976Z"
   },
   {
    "duration": 33,
    "start_time": "2024-08-24T11:29:36.980Z"
   },
   {
    "duration": 15,
    "start_time": "2024-08-24T11:29:37.014Z"
   },
   {
    "duration": 238,
    "start_time": "2024-08-24T11:29:37.031Z"
   },
   {
    "duration": 22,
    "start_time": "2024-08-24T11:29:37.270Z"
   },
   {
    "duration": 6,
    "start_time": "2024-08-24T11:29:37.294Z"
   },
   {
    "duration": 4,
    "start_time": "2024-08-24T11:29:37.302Z"
   },
   {
    "duration": 12,
    "start_time": "2024-08-24T11:29:37.326Z"
   },
   {
    "duration": 158,
    "start_time": "2024-08-24T11:29:37.339Z"
   },
   {
    "duration": 1456,
    "start_time": "2024-08-24T11:29:37.498Z"
   },
   {
    "duration": 4,
    "start_time": "2024-08-24T11:29:38.955Z"
   },
   {
    "duration": 406,
    "start_time": "2024-08-24T11:29:38.961Z"
   },
   {
    "duration": 359,
    "start_time": "2024-08-24T11:29:39.369Z"
   },
   {
    "duration": 499,
    "start_time": "2024-08-24T11:29:39.730Z"
   },
   {
    "duration": 3,
    "start_time": "2024-08-24T11:29:40.233Z"
   },
   {
    "duration": 2403,
    "start_time": "2024-08-24T11:29:40.241Z"
   },
   {
    "duration": 10,
    "start_time": "2024-08-24T11:29:42.648Z"
   },
   {
    "duration": 6,
    "start_time": "2024-08-24T11:29:42.659Z"
   },
   {
    "duration": 151,
    "start_time": "2024-08-24T11:29:42.666Z"
   },
   {
    "duration": 281,
    "start_time": "2024-08-24T11:29:42.818Z"
   },
   {
    "duration": 4,
    "start_time": "2024-08-24T11:29:43.100Z"
   },
   {
    "duration": 4,
    "start_time": "2024-08-24T11:29:43.106Z"
   },
   {
    "duration": 253,
    "start_time": "2024-08-24T11:29:43.111Z"
   },
   {
    "duration": 383,
    "start_time": "2024-08-24T11:29:43.365Z"
   },
   {
    "duration": 576,
    "start_time": "2024-08-24T11:29:43.750Z"
   },
   {
    "duration": 416,
    "start_time": "2024-08-24T11:29:44.328Z"
   },
   {
    "duration": 283,
    "start_time": "2024-08-24T11:29:44.746Z"
   },
   {
    "duration": 132,
    "start_time": "2024-08-24T11:29:45.032Z"
   },
   {
    "duration": 9,
    "start_time": "2024-08-24T11:29:45.165Z"
   },
   {
    "duration": 32,
    "start_time": "2024-08-24T11:29:45.175Z"
   },
   {
    "duration": 41,
    "start_time": "2024-08-24T11:29:45.208Z"
   },
   {
    "duration": 9,
    "start_time": "2024-08-24T11:29:45.250Z"
   },
   {
    "duration": 9,
    "start_time": "2024-08-24T11:29:45.260Z"
   },
   {
    "duration": 1507,
    "start_time": "2024-08-24T12:39:33.141Z"
   },
   {
    "duration": 239,
    "start_time": "2024-08-24T12:39:34.651Z"
   },
   {
    "duration": 18,
    "start_time": "2024-08-24T12:39:34.892Z"
   },
   {
    "duration": 3,
    "start_time": "2024-08-24T12:39:34.913Z"
   },
   {
    "duration": 13,
    "start_time": "2024-08-24T12:39:34.918Z"
   },
   {
    "duration": 34,
    "start_time": "2024-08-24T12:39:34.933Z"
   },
   {
    "duration": 39,
    "start_time": "2024-08-24T12:39:34.969Z"
   },
   {
    "duration": 28,
    "start_time": "2024-08-24T12:39:35.010Z"
   },
   {
    "duration": 35,
    "start_time": "2024-08-24T12:39:35.040Z"
   },
   {
    "duration": 11,
    "start_time": "2024-08-24T12:39:35.078Z"
   },
   {
    "duration": 25,
    "start_time": "2024-08-24T12:39:35.090Z"
   },
   {
    "duration": 15,
    "start_time": "2024-08-24T12:39:35.116Z"
   },
   {
    "duration": 21,
    "start_time": "2024-08-24T12:39:35.133Z"
   },
   {
    "duration": 13,
    "start_time": "2024-08-24T12:39:35.156Z"
   },
   {
    "duration": 10,
    "start_time": "2024-08-24T12:39:35.171Z"
   },
   {
    "duration": 40,
    "start_time": "2024-08-24T12:39:35.182Z"
   },
   {
    "duration": 12,
    "start_time": "2024-08-24T12:39:35.224Z"
   },
   {
    "duration": 29,
    "start_time": "2024-08-24T12:39:35.238Z"
   },
   {
    "duration": 116,
    "start_time": "2024-08-24T12:39:35.269Z"
   },
   {
    "duration": 25,
    "start_time": "2024-08-24T12:39:35.386Z"
   },
   {
    "duration": 10,
    "start_time": "2024-08-24T12:39:35.413Z"
   },
   {
    "duration": 429,
    "start_time": "2024-08-24T12:39:35.425Z"
   },
   {
    "duration": 8,
    "start_time": "2024-08-24T12:39:35.856Z"
   },
   {
    "duration": 12,
    "start_time": "2024-08-24T12:39:35.866Z"
   },
   {
    "duration": 367,
    "start_time": "2024-08-24T12:39:35.879Z"
   },
   {
    "duration": 2,
    "start_time": "2024-08-24T12:39:36.248Z"
   },
   {
    "duration": 25,
    "start_time": "2024-08-24T12:39:36.252Z"
   },
   {
    "duration": 7,
    "start_time": "2024-08-24T12:39:36.280Z"
   },
   {
    "duration": 284,
    "start_time": "2024-08-24T12:39:36.288Z"
   },
   {
    "duration": 24,
    "start_time": "2024-08-24T12:39:36.574Z"
   },
   {
    "duration": 7,
    "start_time": "2024-08-24T12:39:36.600Z"
   },
   {
    "duration": 12,
    "start_time": "2024-08-24T12:39:36.610Z"
   },
   {
    "duration": 41,
    "start_time": "2024-08-24T12:39:36.624Z"
   },
   {
    "duration": 145,
    "start_time": "2024-08-24T12:39:36.666Z"
   },
   {
    "duration": 887,
    "start_time": "2024-08-24T12:39:36.813Z"
   },
   {
    "duration": 6,
    "start_time": "2024-08-24T12:39:37.701Z"
   },
   {
    "duration": 205,
    "start_time": "2024-08-24T12:39:37.710Z"
   },
   {
    "duration": 195,
    "start_time": "2024-08-24T12:39:37.918Z"
   },
   {
    "duration": 324,
    "start_time": "2024-08-24T12:39:38.115Z"
   },
   {
    "duration": 3,
    "start_time": "2024-08-24T12:39:38.440Z"
   },
   {
    "duration": 2028,
    "start_time": "2024-08-24T12:39:38.445Z"
   },
   {
    "duration": 10,
    "start_time": "2024-08-24T12:39:40.475Z"
   },
   {
    "duration": 2,
    "start_time": "2024-08-24T12:39:40.487Z"
   },
   {
    "duration": 147,
    "start_time": "2024-08-24T12:39:40.506Z"
   },
   {
    "duration": 312,
    "start_time": "2024-08-24T12:39:40.655Z"
   },
   {
    "duration": 5,
    "start_time": "2024-08-24T12:39:40.969Z"
   },
   {
    "duration": 5,
    "start_time": "2024-08-24T12:39:40.976Z"
   },
   {
    "duration": 277,
    "start_time": "2024-08-24T12:39:40.983Z"
   },
   {
    "duration": 258,
    "start_time": "2024-08-24T12:39:41.262Z"
   },
   {
    "duration": 272,
    "start_time": "2024-08-24T12:39:41.522Z"
   },
   {
    "duration": 235,
    "start_time": "2024-08-24T12:39:41.795Z"
   },
   {
    "duration": 158,
    "start_time": "2024-08-24T12:39:42.033Z"
   },
   {
    "duration": 147,
    "start_time": "2024-08-24T12:39:42.193Z"
   },
   {
    "duration": 13,
    "start_time": "2024-08-24T12:39:42.342Z"
   },
   {
    "duration": 9,
    "start_time": "2024-08-24T12:39:42.356Z"
   },
   {
    "duration": 6,
    "start_time": "2024-08-24T12:39:42.367Z"
   },
   {
    "duration": 35,
    "start_time": "2024-08-24T12:39:42.375Z"
   },
   {
    "duration": 8,
    "start_time": "2024-08-24T12:39:42.412Z"
   }
  ],
  "kernelspec": {
   "display_name": "Python 3 (ipykernel)",
   "language": "python",
   "name": "python3"
  },
  "language_info": {
   "codemirror_mode": {
    "name": "ipython",
    "version": 3
   },
   "file_extension": ".py",
   "mimetype": "text/x-python",
   "name": "python",
   "nbconvert_exporter": "python",
   "pygments_lexer": "ipython3",
   "version": "3.9.19"
  },
  "toc": {
   "base_numbering": 1,
   "nav_menu": {},
   "number_sections": true,
   "sideBar": true,
   "skip_h1_title": true,
   "title_cell": "Table of Contents",
   "title_sidebar": "Contents",
   "toc_cell": false,
   "toc_position": {
    "height": "calc(100% - 180px)",
    "left": "10px",
    "top": "150px",
    "width": "165px"
   },
   "toc_section_display": true,
   "toc_window_display": true
  }
 },
 "nbformat": 4,
 "nbformat_minor": 4
}

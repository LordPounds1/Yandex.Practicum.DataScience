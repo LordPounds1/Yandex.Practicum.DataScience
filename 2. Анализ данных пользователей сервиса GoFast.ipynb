{
 "cells": [
  {
   "cell_type": "markdown",
   "id": "a5ec8817",
   "metadata": {},
   "source": [
    "# Статистический анализ данных\n",
    "\n",
    "Вы аналитик популярного сервиса аренды самокатов GoFast. Вам передали данные о некоторых пользователях из нескольких городов, а также об их поездках. Проанализируйте данные и проверьте некоторые гипотезы, которые могут помочь бизнесу вырасти.\n",
    "Чтобы совершать поездки по городу, пользователи сервиса GoFast пользуются мобильным приложением. Сервисом можно пользоваться:\n",
    "* без подписки\n",
    " * абонентская плата отсутствует\n",
    " * стоимость одной минуты поездки — 8 рублей\n",
    " * стоимость старта (начала поездки) — 50 рублей\n",
    "* с подпиской Ultra\n",
    " * абонентская плата — 199 рублей в месяц\n",
    " * стоимость одной минуты поездки — 6 рублей\n",
    " * стоимость старта — бесплатно."
   ]
  },
  {
   "cell_type": "markdown",
   "id": "6650fe2f",
   "metadata": {},
   "source": [
    "# Описание данных\n",
    "В основных данных есть информация о пользователях, их поездках и подписках.\n",
    "\n",
    "Таблица **Пользователи (users):**\n",
    "* **user_id** - уникальный идентификатор пользователя\n",
    "* **name** - имя пользователя\n",
    "* **age** - возраст\n",
    "* **city** - город\n",
    "* **subscription_type** - тип подписки (free, ultra)\n",
    "\n",
    "Таблица **Поездки (rides):**\n",
    "* **user_id** - уникальный идентификатор пользователя\n",
    "* **distance** - расстояние, которое пользователь проехал в текущей сессии (в метрах)\n",
    "* **duration** - продолжительность сессии (в минутах) — время с того момента, как пользователь нажал кнопку «Начать поездку» до момента, как он нажал кнопку «Завершить поездку»\n",
    "* **date** - дата совершения поездки\n",
    "\n",
    "Таблица **Подписки (subscriptions):**\n",
    "* **subscription_type** - тип подписки\n",
    "* **minute_price** - стоимость одной минуты поездки по данной подписке\n",
    "* **start_ride_price** - стоимость начала поездки\n",
    "* **subscription_fee** - стоимость ежемесячного платежа"
   ]
  },
  {
   "cell_type": "markdown",
   "id": "c42cbe00",
   "metadata": {},
   "source": [
    "## Загрузка данных и предобработка данных"
   ]
  },
  {
   "cell_type": "code",
   "execution_count": 1,
   "id": "c2b842f1",
   "metadata": {},
   "outputs": [],
   "source": [
    "import pandas as pd\n",
    "import numpy as np\n",
    "import matplotlib.pyplot as plt\n",
    "import seaborn as sns\n",
    "from scipy import stats as st"
   ]
  },
  {
   "cell_type": "code",
   "execution_count": 2,
   "id": "eff9f206",
   "metadata": {},
   "outputs": [],
   "source": [
    "try:\n",
    "    users = pd.read_csv('C:/Users/Gpets/Data With Python/users_go.csv')\n",
    "    rides = pd.read_csv('C:/Users/Gpets/Data With Python/datasets/rides_go.csv')\n",
    "    subs = pd.read_csv('C:/Users/Gpets/Data With Python/datasets/subscriptions_go.csv')\n",
    "except:\n",
    "    users = pd.read_csv('/datasets/users_go.csv')\n",
    "    rides = pd.read_csv('/datasets/rides_go.csv')\n",
    "    subs = pd.read_csv('/datasets/subscriptions_go.csv')"
   ]
  },
  {
   "cell_type": "markdown",
   "id": "6583cbb9",
   "metadata": {},
   "source": [
    "Смотрим общую информацию по таблицам"
   ]
  },
  {
   "cell_type": "markdown",
   "id": "5637ea0a",
   "metadata": {},
   "source": [
    "### Users"
   ]
  },
  {
   "cell_type": "code",
   "execution_count": 3,
   "id": "6f807f36",
   "metadata": {},
   "outputs": [
    {
     "data": {
      "text/html": [
       "<div>\n",
       "<style scoped>\n",
       "    .dataframe tbody tr th:only-of-type {\n",
       "        vertical-align: middle;\n",
       "    }\n",
       "\n",
       "    .dataframe tbody tr th {\n",
       "        vertical-align: top;\n",
       "    }\n",
       "\n",
       "    .dataframe thead th {\n",
       "        text-align: right;\n",
       "    }\n",
       "</style>\n",
       "<table border=\"1\" class=\"dataframe\">\n",
       "  <thead>\n",
       "    <tr style=\"text-align: right;\">\n",
       "      <th></th>\n",
       "      <th>user_id</th>\n",
       "      <th>name</th>\n",
       "      <th>age</th>\n",
       "      <th>city</th>\n",
       "      <th>subscription_type</th>\n",
       "    </tr>\n",
       "  </thead>\n",
       "  <tbody>\n",
       "    <tr>\n",
       "      <th>0</th>\n",
       "      <td>1</td>\n",
       "      <td>Кира</td>\n",
       "      <td>22</td>\n",
       "      <td>Тюмень</td>\n",
       "      <td>ultra</td>\n",
       "    </tr>\n",
       "    <tr>\n",
       "      <th>1</th>\n",
       "      <td>2</td>\n",
       "      <td>Станислав</td>\n",
       "      <td>31</td>\n",
       "      <td>Омск</td>\n",
       "      <td>ultra</td>\n",
       "    </tr>\n",
       "    <tr>\n",
       "      <th>2</th>\n",
       "      <td>3</td>\n",
       "      <td>Алексей</td>\n",
       "      <td>20</td>\n",
       "      <td>Москва</td>\n",
       "      <td>ultra</td>\n",
       "    </tr>\n",
       "    <tr>\n",
       "      <th>3</th>\n",
       "      <td>4</td>\n",
       "      <td>Константин</td>\n",
       "      <td>26</td>\n",
       "      <td>Ростов-на-Дону</td>\n",
       "      <td>ultra</td>\n",
       "    </tr>\n",
       "    <tr>\n",
       "      <th>4</th>\n",
       "      <td>5</td>\n",
       "      <td>Адель</td>\n",
       "      <td>28</td>\n",
       "      <td>Омск</td>\n",
       "      <td>ultra</td>\n",
       "    </tr>\n",
       "  </tbody>\n",
       "</table>\n",
       "</div>"
      ],
      "text/plain": [
       "   user_id        name  age            city subscription_type\n",
       "0        1        Кира   22          Тюмень             ultra\n",
       "1        2   Станислав   31            Омск             ultra\n",
       "2        3     Алексей   20          Москва             ultra\n",
       "3        4  Константин   26  Ростов-на-Дону             ultra\n",
       "4        5       Адель   28            Омск             ultra"
      ]
     },
     "execution_count": 3,
     "metadata": {},
     "output_type": "execute_result"
    }
   ],
   "source": [
    "users.head()"
   ]
  },
  {
   "cell_type": "code",
   "execution_count": 4,
   "id": "034ef18a",
   "metadata": {},
   "outputs": [
    {
     "name": "stdout",
     "output_type": "stream",
     "text": [
      "Кол-во строк и столбцов в users: (1565, 5)\n",
      "Число уникальных пользователей: 1534\n",
      "Число дубликатов 31\n"
     ]
    }
   ],
   "source": [
    "print('Кол-во строк и столбцов в users:',users.shape)\n",
    "print(\"Число уникальных пользователей:\", users['user_id'].nunique())\n",
    "print('Число дубликатов',users.duplicated().sum())"
   ]
  },
  {
   "cell_type": "markdown",
   "id": "30819339",
   "metadata": {},
   "source": [
    "Все пользователи уникальные, есть дубликаты с которыми мы сейчас разберемся."
   ]
  },
  {
   "cell_type": "code",
   "execution_count": 5,
   "id": "3b077310",
   "metadata": {},
   "outputs": [
    {
     "name": "stdout",
     "output_type": "stream",
     "text": [
      "Число дубликатов 0\n"
     ]
    }
   ],
   "source": [
    "users = users.drop_duplicates()\n",
    "print('Число дубликатов',users.duplicated().sum())"
   ]
  },
  {
   "cell_type": "code",
   "execution_count": 6,
   "id": "7df75eb1",
   "metadata": {},
   "outputs": [
    {
     "name": "stdout",
     "output_type": "stream",
     "text": [
      "<class 'pandas.core.frame.DataFrame'>\n",
      "Int64Index: 1534 entries, 0 to 1533\n",
      "Data columns (total 5 columns):\n",
      " #   Column             Non-Null Count  Dtype \n",
      "---  ------             --------------  ----- \n",
      " 0   user_id            1534 non-null   int64 \n",
      " 1   name               1534 non-null   object\n",
      " 2   age                1534 non-null   int64 \n",
      " 3   city               1534 non-null   object\n",
      " 4   subscription_type  1534 non-null   object\n",
      "dtypes: int64(2), object(3)\n",
      "memory usage: 71.9+ KB\n"
     ]
    }
   ],
   "source": [
    "users.info()"
   ]
  },
  {
   "cell_type": "markdown",
   "id": "ff5131ac",
   "metadata": {},
   "source": [
    "### Rides"
   ]
  },
  {
   "cell_type": "code",
   "execution_count": 7,
   "id": "d72a110a",
   "metadata": {},
   "outputs": [
    {
     "data": {
      "text/html": [
       "<div>\n",
       "<style scoped>\n",
       "    .dataframe tbody tr th:only-of-type {\n",
       "        vertical-align: middle;\n",
       "    }\n",
       "\n",
       "    .dataframe tbody tr th {\n",
       "        vertical-align: top;\n",
       "    }\n",
       "\n",
       "    .dataframe thead th {\n",
       "        text-align: right;\n",
       "    }\n",
       "</style>\n",
       "<table border=\"1\" class=\"dataframe\">\n",
       "  <thead>\n",
       "    <tr style=\"text-align: right;\">\n",
       "      <th></th>\n",
       "      <th>user_id</th>\n",
       "      <th>distance</th>\n",
       "      <th>duration</th>\n",
       "      <th>date</th>\n",
       "    </tr>\n",
       "  </thead>\n",
       "  <tbody>\n",
       "    <tr>\n",
       "      <th>0</th>\n",
       "      <td>1</td>\n",
       "      <td>4409.919140</td>\n",
       "      <td>25.599769</td>\n",
       "      <td>2021-01-01</td>\n",
       "    </tr>\n",
       "    <tr>\n",
       "      <th>1</th>\n",
       "      <td>1</td>\n",
       "      <td>2617.592153</td>\n",
       "      <td>15.816871</td>\n",
       "      <td>2021-01-18</td>\n",
       "    </tr>\n",
       "    <tr>\n",
       "      <th>2</th>\n",
       "      <td>1</td>\n",
       "      <td>754.159807</td>\n",
       "      <td>6.232113</td>\n",
       "      <td>2021-04-20</td>\n",
       "    </tr>\n",
       "    <tr>\n",
       "      <th>3</th>\n",
       "      <td>1</td>\n",
       "      <td>2694.783254</td>\n",
       "      <td>18.511000</td>\n",
       "      <td>2021-08-11</td>\n",
       "    </tr>\n",
       "    <tr>\n",
       "      <th>4</th>\n",
       "      <td>1</td>\n",
       "      <td>4028.687306</td>\n",
       "      <td>26.265803</td>\n",
       "      <td>2021-08-28</td>\n",
       "    </tr>\n",
       "  </tbody>\n",
       "</table>\n",
       "</div>"
      ],
      "text/plain": [
       "   user_id     distance   duration        date\n",
       "0        1  4409.919140  25.599769  2021-01-01\n",
       "1        1  2617.592153  15.816871  2021-01-18\n",
       "2        1   754.159807   6.232113  2021-04-20\n",
       "3        1  2694.783254  18.511000  2021-08-11\n",
       "4        1  4028.687306  26.265803  2021-08-28"
      ]
     },
     "execution_count": 7,
     "metadata": {},
     "output_type": "execute_result"
    }
   ],
   "source": [
    "rides.head()"
   ]
  },
  {
   "cell_type": "code",
   "execution_count": 8,
   "id": "afc7c203",
   "metadata": {},
   "outputs": [
    {
     "name": "stdout",
     "output_type": "stream",
     "text": [
      "<class 'pandas.core.frame.DataFrame'>\n",
      "RangeIndex: 18068 entries, 0 to 18067\n",
      "Data columns (total 4 columns):\n",
      " #   Column    Non-Null Count  Dtype  \n",
      "---  ------    --------------  -----  \n",
      " 0   user_id   18068 non-null  int64  \n",
      " 1   distance  18068 non-null  float64\n",
      " 2   duration  18068 non-null  float64\n",
      " 3   date      18068 non-null  object \n",
      "dtypes: float64(2), int64(1), object(1)\n",
      "memory usage: 564.8+ KB\n"
     ]
    }
   ],
   "source": [
    "rides.info()"
   ]
  },
  {
   "cell_type": "markdown",
   "id": "43a88cc9",
   "metadata": {},
   "source": [
    "Нам нужно изменить столбец **`date`** на `datetime`"
   ]
  },
  {
   "cell_type": "code",
   "execution_count": 9,
   "id": "2f5ff340",
   "metadata": {},
   "outputs": [],
   "source": [
    "rides['date'] = pd.to_datetime(rides['date'], format='%Y-%m-%d')"
   ]
  },
  {
   "cell_type": "code",
   "execution_count": 10,
   "id": "af741af5",
   "metadata": {},
   "outputs": [
    {
     "name": "stdout",
     "output_type": "stream",
     "text": [
      "<class 'pandas.core.frame.DataFrame'>\n",
      "RangeIndex: 18068 entries, 0 to 18067\n",
      "Data columns (total 4 columns):\n",
      " #   Column    Non-Null Count  Dtype         \n",
      "---  ------    --------------  -----         \n",
      " 0   user_id   18068 non-null  int64         \n",
      " 1   distance  18068 non-null  float64       \n",
      " 2   duration  18068 non-null  float64       \n",
      " 3   date      18068 non-null  datetime64[ns]\n",
      "dtypes: datetime64[ns](1), float64(2), int64(1)\n",
      "memory usage: 564.8 KB\n"
     ]
    }
   ],
   "source": [
    "rides.info()"
   ]
  },
  {
   "cell_type": "code",
   "execution_count": 11,
   "id": "64ad60fc",
   "metadata": {},
   "outputs": [],
   "source": [
    "min_date = rides['date'].min()\n",
    "max_date = rides['date'].max()"
   ]
  },
  {
   "cell_type": "code",
   "execution_count": 12,
   "id": "866495bb",
   "metadata": {},
   "outputs": [
    {
     "name": "stdout",
     "output_type": "stream",
     "text": [
      "Данные представлены за период с 2021-01-01 00:00:00 по 2021-12-30 00:00:00\n"
     ]
    }
   ],
   "source": [
    "print(f\"Данные представлены за период с {min_date} по {max_date}\")"
   ]
  },
  {
   "cell_type": "markdown",
   "id": "62ae2d05",
   "metadata": {},
   "source": [
    "Проверили за какой преиод представлены наши данные, для того чтобы при агрегации данные не склеются"
   ]
  },
  {
   "cell_type": "markdown",
   "id": "5f278610",
   "metadata": {},
   "source": [
    "Теперь нужно создать новый столбец с номером месяца на основе нашего столбца `date`"
   ]
  },
  {
   "cell_type": "code",
   "execution_count": 13,
   "id": "09ea9f53",
   "metadata": {},
   "outputs": [],
   "source": [
    "rides['month'] = rides['date'].dt.month"
   ]
  },
  {
   "cell_type": "code",
   "execution_count": 14,
   "id": "0cd0f4cc",
   "metadata": {},
   "outputs": [
    {
     "data": {
      "text/html": [
       "<div>\n",
       "<style scoped>\n",
       "    .dataframe tbody tr th:only-of-type {\n",
       "        vertical-align: middle;\n",
       "    }\n",
       "\n",
       "    .dataframe tbody tr th {\n",
       "        vertical-align: top;\n",
       "    }\n",
       "\n",
       "    .dataframe thead th {\n",
       "        text-align: right;\n",
       "    }\n",
       "</style>\n",
       "<table border=\"1\" class=\"dataframe\">\n",
       "  <thead>\n",
       "    <tr style=\"text-align: right;\">\n",
       "      <th></th>\n",
       "      <th>user_id</th>\n",
       "      <th>distance</th>\n",
       "      <th>duration</th>\n",
       "      <th>date</th>\n",
       "      <th>month</th>\n",
       "    </tr>\n",
       "  </thead>\n",
       "  <tbody>\n",
       "    <tr>\n",
       "      <th>0</th>\n",
       "      <td>1</td>\n",
       "      <td>4409.919140</td>\n",
       "      <td>25.599769</td>\n",
       "      <td>2021-01-01</td>\n",
       "      <td>1</td>\n",
       "    </tr>\n",
       "    <tr>\n",
       "      <th>1</th>\n",
       "      <td>1</td>\n",
       "      <td>2617.592153</td>\n",
       "      <td>15.816871</td>\n",
       "      <td>2021-01-18</td>\n",
       "      <td>1</td>\n",
       "    </tr>\n",
       "    <tr>\n",
       "      <th>2</th>\n",
       "      <td>1</td>\n",
       "      <td>754.159807</td>\n",
       "      <td>6.232113</td>\n",
       "      <td>2021-04-20</td>\n",
       "      <td>4</td>\n",
       "    </tr>\n",
       "    <tr>\n",
       "      <th>3</th>\n",
       "      <td>1</td>\n",
       "      <td>2694.783254</td>\n",
       "      <td>18.511000</td>\n",
       "      <td>2021-08-11</td>\n",
       "      <td>8</td>\n",
       "    </tr>\n",
       "    <tr>\n",
       "      <th>4</th>\n",
       "      <td>1</td>\n",
       "      <td>4028.687306</td>\n",
       "      <td>26.265803</td>\n",
       "      <td>2021-08-28</td>\n",
       "      <td>8</td>\n",
       "    </tr>\n",
       "    <tr>\n",
       "      <th>5</th>\n",
       "      <td>1</td>\n",
       "      <td>2770.890808</td>\n",
       "      <td>16.650138</td>\n",
       "      <td>2021-10-09</td>\n",
       "      <td>10</td>\n",
       "    </tr>\n",
       "    <tr>\n",
       "      <th>6</th>\n",
       "      <td>1</td>\n",
       "      <td>3039.020292</td>\n",
       "      <td>14.927879</td>\n",
       "      <td>2021-10-19</td>\n",
       "      <td>10</td>\n",
       "    </tr>\n",
       "    <tr>\n",
       "      <th>7</th>\n",
       "      <td>1</td>\n",
       "      <td>2842.118050</td>\n",
       "      <td>23.117468</td>\n",
       "      <td>2021-11-06</td>\n",
       "      <td>11</td>\n",
       "    </tr>\n",
       "    <tr>\n",
       "      <th>8</th>\n",
       "      <td>1</td>\n",
       "      <td>3412.690668</td>\n",
       "      <td>15.238072</td>\n",
       "      <td>2021-11-14</td>\n",
       "      <td>11</td>\n",
       "    </tr>\n",
       "    <tr>\n",
       "      <th>9</th>\n",
       "      <td>1</td>\n",
       "      <td>748.690645</td>\n",
       "      <td>15.041884</td>\n",
       "      <td>2021-11-22</td>\n",
       "      <td>11</td>\n",
       "    </tr>\n",
       "    <tr>\n",
       "      <th>10</th>\n",
       "      <td>1</td>\n",
       "      <td>4031.020195</td>\n",
       "      <td>17.674448</td>\n",
       "      <td>2021-12-14</td>\n",
       "      <td>12</td>\n",
       "    </tr>\n",
       "    <tr>\n",
       "      <th>11</th>\n",
       "      <td>1</td>\n",
       "      <td>2720.609748</td>\n",
       "      <td>9.529463</td>\n",
       "      <td>2021-12-22</td>\n",
       "      <td>12</td>\n",
       "    </tr>\n",
       "    <tr>\n",
       "      <th>12</th>\n",
       "      <td>2</td>\n",
       "      <td>3105.086678</td>\n",
       "      <td>24.307514</td>\n",
       "      <td>2021-03-15</td>\n",
       "      <td>3</td>\n",
       "    </tr>\n",
       "    <tr>\n",
       "      <th>13</th>\n",
       "      <td>2</td>\n",
       "      <td>3053.519401</td>\n",
       "      <td>11.543256</td>\n",
       "      <td>2021-03-18</td>\n",
       "      <td>3</td>\n",
       "    </tr>\n",
       "    <tr>\n",
       "      <th>14</th>\n",
       "      <td>2</td>\n",
       "      <td>4029.116927</td>\n",
       "      <td>25.109188</td>\n",
       "      <td>2021-03-23</td>\n",
       "      <td>3</td>\n",
       "    </tr>\n",
       "    <tr>\n",
       "      <th>15</th>\n",
       "      <td>2</td>\n",
       "      <td>2805.786329</td>\n",
       "      <td>20.652145</td>\n",
       "      <td>2021-04-08</td>\n",
       "      <td>4</td>\n",
       "    </tr>\n",
       "    <tr>\n",
       "      <th>16</th>\n",
       "      <td>2</td>\n",
       "      <td>3358.595495</td>\n",
       "      <td>18.396489</td>\n",
       "      <td>2021-04-13</td>\n",
       "      <td>4</td>\n",
       "    </tr>\n",
       "    <tr>\n",
       "      <th>17</th>\n",
       "      <td>2</td>\n",
       "      <td>3255.338202</td>\n",
       "      <td>13.851127</td>\n",
       "      <td>2021-06-20</td>\n",
       "      <td>6</td>\n",
       "    </tr>\n",
       "    <tr>\n",
       "      <th>18</th>\n",
       "      <td>2</td>\n",
       "      <td>3942.817648</td>\n",
       "      <td>20.142725</td>\n",
       "      <td>2021-07-02</td>\n",
       "      <td>7</td>\n",
       "    </tr>\n",
       "    <tr>\n",
       "      <th>19</th>\n",
       "      <td>2</td>\n",
       "      <td>2837.905316</td>\n",
       "      <td>26.027432</td>\n",
       "      <td>2021-07-18</td>\n",
       "      <td>7</td>\n",
       "    </tr>\n",
       "  </tbody>\n",
       "</table>\n",
       "</div>"
      ],
      "text/plain": [
       "    user_id     distance   duration       date  month\n",
       "0         1  4409.919140  25.599769 2021-01-01      1\n",
       "1         1  2617.592153  15.816871 2021-01-18      1\n",
       "2         1   754.159807   6.232113 2021-04-20      4\n",
       "3         1  2694.783254  18.511000 2021-08-11      8\n",
       "4         1  4028.687306  26.265803 2021-08-28      8\n",
       "5         1  2770.890808  16.650138 2021-10-09     10\n",
       "6         1  3039.020292  14.927879 2021-10-19     10\n",
       "7         1  2842.118050  23.117468 2021-11-06     11\n",
       "8         1  3412.690668  15.238072 2021-11-14     11\n",
       "9         1   748.690645  15.041884 2021-11-22     11\n",
       "10        1  4031.020195  17.674448 2021-12-14     12\n",
       "11        1  2720.609748   9.529463 2021-12-22     12\n",
       "12        2  3105.086678  24.307514 2021-03-15      3\n",
       "13        2  3053.519401  11.543256 2021-03-18      3\n",
       "14        2  4029.116927  25.109188 2021-03-23      3\n",
       "15        2  2805.786329  20.652145 2021-04-08      4\n",
       "16        2  3358.595495  18.396489 2021-04-13      4\n",
       "17        2  3255.338202  13.851127 2021-06-20      6\n",
       "18        2  3942.817648  20.142725 2021-07-02      7\n",
       "19        2  2837.905316  26.027432 2021-07-18      7"
      ]
     },
     "execution_count": 14,
     "metadata": {},
     "output_type": "execute_result"
    }
   ],
   "source": [
    "rides.head(20)"
   ]
  },
  {
   "cell_type": "markdown",
   "id": "cdfdaf3b",
   "metadata": {},
   "source": [
    "### Subscriptions"
   ]
  },
  {
   "cell_type": "code",
   "execution_count": 15,
   "id": "b1bb92a5",
   "metadata": {},
   "outputs": [
    {
     "data": {
      "text/html": [
       "<div>\n",
       "<style scoped>\n",
       "    .dataframe tbody tr th:only-of-type {\n",
       "        vertical-align: middle;\n",
       "    }\n",
       "\n",
       "    .dataframe tbody tr th {\n",
       "        vertical-align: top;\n",
       "    }\n",
       "\n",
       "    .dataframe thead th {\n",
       "        text-align: right;\n",
       "    }\n",
       "</style>\n",
       "<table border=\"1\" class=\"dataframe\">\n",
       "  <thead>\n",
       "    <tr style=\"text-align: right;\">\n",
       "      <th></th>\n",
       "      <th>subscription_type</th>\n",
       "      <th>minute_price</th>\n",
       "      <th>start_ride_price</th>\n",
       "      <th>subscription_fee</th>\n",
       "    </tr>\n",
       "  </thead>\n",
       "  <tbody>\n",
       "    <tr>\n",
       "      <th>0</th>\n",
       "      <td>free</td>\n",
       "      <td>8</td>\n",
       "      <td>50</td>\n",
       "      <td>0</td>\n",
       "    </tr>\n",
       "    <tr>\n",
       "      <th>1</th>\n",
       "      <td>ultra</td>\n",
       "      <td>6</td>\n",
       "      <td>0</td>\n",
       "      <td>199</td>\n",
       "    </tr>\n",
       "  </tbody>\n",
       "</table>\n",
       "</div>"
      ],
      "text/plain": [
       "  subscription_type  minute_price  start_ride_price  subscription_fee\n",
       "0              free             8                50                 0\n",
       "1             ultra             6                 0               199"
      ]
     },
     "execution_count": 15,
     "metadata": {},
     "output_type": "execute_result"
    }
   ],
   "source": [
    "subs.head()"
   ]
  },
  {
   "cell_type": "code",
   "execution_count": 16,
   "id": "8495b3e5",
   "metadata": {},
   "outputs": [
    {
     "name": "stdout",
     "output_type": "stream",
     "text": [
      "<class 'pandas.core.frame.DataFrame'>\n",
      "RangeIndex: 2 entries, 0 to 1\n",
      "Data columns (total 4 columns):\n",
      " #   Column             Non-Null Count  Dtype \n",
      "---  ------             --------------  ----- \n",
      " 0   subscription_type  2 non-null      object\n",
      " 1   minute_price       2 non-null      int64 \n",
      " 2   start_ride_price   2 non-null      int64 \n",
      " 3   subscription_fee   2 non-null      int64 \n",
      "dtypes: int64(3), object(1)\n",
      "memory usage: 192.0+ bytes\n"
     ]
    }
   ],
   "source": [
    "subs.info()"
   ]
  },
  {
   "cell_type": "code",
   "execution_count": 17,
   "id": "9f07b7bd",
   "metadata": {},
   "outputs": [
    {
     "data": {
      "text/plain": [
       "(2, 4)"
      ]
     },
     "execution_count": 17,
     "metadata": {},
     "output_type": "execute_result"
    }
   ],
   "source": [
    "subs.shape"
   ]
  },
  {
   "cell_type": "markdown",
   "id": "96bd2520",
   "metadata": {},
   "source": [
    "С данными все впорядке"
   ]
  },
  {
   "cell_type": "markdown",
   "id": "212593c7",
   "metadata": {},
   "source": [
    "## Исследовательский анализ данных"
   ]
  },
  {
   "cell_type": "markdown",
   "id": "aaf9a300",
   "metadata": {},
   "source": [
    "Теперь займемся визуализизацией общей информации о пользователях и поездках:"
   ]
  },
  {
   "cell_type": "markdown",
   "id": "e22dcecf",
   "metadata": {},
   "source": [
    "### Частота встречаемости городов"
   ]
  },
  {
   "cell_type": "code",
   "execution_count": 18,
   "id": "6d6a78f4",
   "metadata": {},
   "outputs": [],
   "source": [
    "city_counts = users['city'].value_counts()"
   ]
  },
  {
   "cell_type": "code",
   "execution_count": 19,
   "id": "5caf0ac8",
   "metadata": {},
   "outputs": [
    {
     "data": {
      "text/plain": [
       "Пятигорск         219\n",
       "Екатеринбург      204\n",
       "Ростов-на-Дону    198\n",
       "Краснодар         193\n",
       "Сочи              189\n",
       "Омск              183\n",
       "Тюмень            180\n",
       "Москва            168\n",
       "Name: city, dtype: int64"
      ]
     },
     "execution_count": 19,
     "metadata": {},
     "output_type": "execute_result"
    }
   ],
   "source": [
    "users['city'].value_counts()"
   ]
  },
  {
   "cell_type": "code",
   "execution_count": 20,
   "id": "2dbc0a58",
   "metadata": {},
   "outputs": [
    {
     "data": {
      "image/png": "[encoded data removed]",
      "text/plain": [
       "<Figure size 864x576 with 1 Axes>"
      ]
     },
     "metadata": {
      "needs_background": "light"
     },
     "output_type": "display_data"
    }
   ],
   "source": [
    "plt.figure(figsize=(12, 8))\n",
    "sns.barplot(x=city_counts.values, y=city_counts.index, palette=\"viridis\")\n",
    "plt.title('Частота встречаемости городов')\n",
    "plt.xlabel('Количество пользователей')\n",
    "plt.ylabel('Города')\n",
    "plt.show()"
   ]
  },
  {
   "cell_type": "markdown",
   "id": "18fa476c",
   "metadata": {},
   "source": [
    "Все города держатся почти на одном уровне, кроме **`Москвы`** (168 записей)\n",
    "\n",
    "Чаще всего встречается город **`Пятигорск`** (219 записей)"
   ]
  },
  {
   "cell_type": "markdown",
   "id": "0d930838",
   "metadata": {},
   "source": [
    "### Соотношение пользователей с подпиской и без подписки"
   ]
  },
  {
   "cell_type": "code",
   "execution_count": 21,
   "id": "4da45366",
   "metadata": {},
   "outputs": [],
   "source": [
    "subscription_ratio = users['subscription_type'].value_counts()"
   ]
  },
  {
   "cell_type": "code",
   "execution_count": 22,
   "id": "23732651",
   "metadata": {},
   "outputs": [
    {
     "data": {
      "text/plain": [
       "free     835\n",
       "ultra    699\n",
       "Name: subscription_type, dtype: int64"
      ]
     },
     "execution_count": 22,
     "metadata": {},
     "output_type": "execute_result"
    }
   ],
   "source": [
    "users['subscription_type'].value_counts()"
   ]
  },
  {
   "cell_type": "code",
   "execution_count": 23,
   "id": "ae4a6c6d",
   "metadata": {},
   "outputs": [
    {
     "data": {
      "image/png": "[encoded data removed]",
      "text/plain": [
       "<Figure size 432x432 with 1 Axes>"
      ]
     },
     "metadata": {},
     "output_type": "display_data"
    }
   ],
   "source": [
    "plt.figure(figsize=(6, 6))\n",
    "subscription_ratio.plot.pie(autopct='%1.1f%%', colors=['lightblue', 'lightgreen'])\n",
    "plt.title('Соотношение пользователей с подпиской и без подписки')\n",
    "plt.ylabel('')\n",
    "plt.show()"
   ]
  },
  {
   "cell_type": "markdown",
   "id": "c6373509",
   "metadata": {},
   "source": [
    "Среди пользователей чуть больше 54% выбрали бесплатный тариф, а около 46% пользуются платной подпиской \"Ultra\". \n",
    "\n",
    "Это указывает на то, что значительная часть людей всё же предпочитает оставаться на бесплатном тарифе, но почти половина готова платить за дополнительные возможности."
   ]
  },
  {
   "cell_type": "markdown",
   "id": "7d83110e",
   "metadata": {},
   "source": [
    "### Возраст пользователей"
   ]
  },
  {
   "cell_type": "code",
   "execution_count": 24,
   "id": "3706e0b3",
   "metadata": {},
   "outputs": [
    {
     "data": {
      "text/plain": [
       "0       22\n",
       "1       31\n",
       "2       20\n",
       "3       26\n",
       "4       28\n",
       "        ..\n",
       "1529    29\n",
       "1530    25\n",
       "1531    26\n",
       "1532    22\n",
       "1533    25\n",
       "Name: age, Length: 1534, dtype: int64"
      ]
     },
     "execution_count": 24,
     "metadata": {},
     "output_type": "execute_result"
    }
   ],
   "source": [
    "users['age']"
   ]
  },
  {
   "cell_type": "code",
   "execution_count": 25,
   "id": "481de103",
   "metadata": {},
   "outputs": [
    {
     "data": {
      "image/png": "[encoded data removed]",
      "text/plain": [
       "<Figure size 864x576 with 1 Axes>"
      ]
     },
     "metadata": {
      "needs_background": "light"
     },
     "output_type": "display_data"
    }
   ],
   "source": [
    "plt.figure(figsize=(12, 8))\n",
    "sns.histplot(users['age'], kde=True, color='blue')\n",
    "plt.title('Распределение возраста пользователей')\n",
    "plt.xlabel('Возраст')\n",
    "plt.ylabel('Количество пользователей')\n",
    "plt.show()"
   ]
  },
  {
   "cell_type": "code",
   "execution_count": 26,
   "id": "1b94914d",
   "metadata": {},
   "outputs": [
    {
     "data": {
      "text/html": [
       "<div>\n",
       "<style scoped>\n",
       "    .dataframe tbody tr th:only-of-type {\n",
       "        vertical-align: middle;\n",
       "    }\n",
       "\n",
       "    .dataframe tbody tr th {\n",
       "        vertical-align: top;\n",
       "    }\n",
       "\n",
       "    .dataframe thead th {\n",
       "        text-align: right;\n",
       "    }\n",
       "</style>\n",
       "<table border=\"1\" class=\"dataframe\">\n",
       "  <thead>\n",
       "    <tr style=\"text-align: right;\">\n",
       "      <th></th>\n",
       "      <th>user_id</th>\n",
       "      <th>age</th>\n",
       "    </tr>\n",
       "  </thead>\n",
       "  <tbody>\n",
       "    <tr>\n",
       "      <th>count</th>\n",
       "      <td>1534.000000</td>\n",
       "      <td>1534.000000</td>\n",
       "    </tr>\n",
       "    <tr>\n",
       "      <th>mean</th>\n",
       "      <td>767.500000</td>\n",
       "      <td>24.903520</td>\n",
       "    </tr>\n",
       "    <tr>\n",
       "      <th>std</th>\n",
       "      <td>442.971971</td>\n",
       "      <td>4.572367</td>\n",
       "    </tr>\n",
       "    <tr>\n",
       "      <th>min</th>\n",
       "      <td>1.000000</td>\n",
       "      <td>12.000000</td>\n",
       "    </tr>\n",
       "    <tr>\n",
       "      <th>25%</th>\n",
       "      <td>384.250000</td>\n",
       "      <td>22.000000</td>\n",
       "    </tr>\n",
       "    <tr>\n",
       "      <th>50%</th>\n",
       "      <td>767.500000</td>\n",
       "      <td>25.000000</td>\n",
       "    </tr>\n",
       "    <tr>\n",
       "      <th>75%</th>\n",
       "      <td>1150.750000</td>\n",
       "      <td>28.000000</td>\n",
       "    </tr>\n",
       "    <tr>\n",
       "      <th>max</th>\n",
       "      <td>1534.000000</td>\n",
       "      <td>43.000000</td>\n",
       "    </tr>\n",
       "  </tbody>\n",
       "</table>\n",
       "</div>"
      ],
      "text/plain": [
       "           user_id          age\n",
       "count  1534.000000  1534.000000\n",
       "mean    767.500000    24.903520\n",
       "std     442.971971     4.572367\n",
       "min       1.000000    12.000000\n",
       "25%     384.250000    22.000000\n",
       "50%     767.500000    25.000000\n",
       "75%    1150.750000    28.000000\n",
       "max    1534.000000    43.000000"
      ]
     },
     "execution_count": 26,
     "metadata": {},
     "output_type": "execute_result"
    }
   ],
   "source": [
    "users.describe()"
   ]
  },
  {
   "cell_type": "markdown",
   "id": "b788714b",
   "metadata": {},
   "source": [
    "Видим что на графике распределение возраста пользователей основная часть аудитории сосредоточена в возрасте от 20 до 30 лет, с пиком около 25 лет.\n",
    "\n",
    "Люди в возрасте до 25 лет составляют почти половину всех пользователей, что говорит о том, что платформа наиболее популярна среди молодежи. Более старшие возрастные группы, особенно те, кто старше 35 лет, представлены значительно реже."
   ]
  },
  {
   "cell_type": "markdown",
   "id": "caa96d2d",
   "metadata": {},
   "source": [
    "### Расстояние, которое пользователь преодолел за одну поездку"
   ]
  },
  {
   "cell_type": "code",
   "execution_count": 27,
   "id": "f0c7a1b9",
   "metadata": {},
   "outputs": [
    {
     "data": {
      "image/png": "[encoded data removed]",
      "text/plain": [
       "<Figure size 864x576 with 1 Axes>"
      ]
     },
     "metadata": {
      "needs_background": "light"
     },
     "output_type": "display_data"
    }
   ],
   "source": [
    "plt.figure(figsize=(12, 8))\n",
    "sns.histplot(rides['distance'], kde=True, color='green')\n",
    "plt.title('Распределение расстояний за одну поездку')\n",
    "plt.xlabel('Расстояние (м)')\n",
    "plt.ylabel('Количество поездок')\n",
    "plt.show()"
   ]
  },
  {
   "cell_type": "markdown",
   "id": "88b18b94",
   "metadata": {},
   "source": [
    "На графике видно что большая часть поездок преодолевает расстояние от 2000 до 4500 м, с пиком в 3000 м.\n",
    "\n",
    "Возможно, они используют самокаты для поездок по работе, на встречи или по магазинам. Интересно, что для таких поездок подписка Ultra, где старт бесплатный, может оказаться выгодной, особенно если поездки немного длиннее. Если же большинство поездок всё-таки короткие, подписка может не быть столь популярной."
   ]
  },
  {
   "cell_type": "markdown",
   "id": "3da99efd",
   "metadata": {},
   "source": [
    "### Продолжительность поездок"
   ]
  },
  {
   "cell_type": "code",
   "execution_count": 28,
   "id": "86e09c6c",
   "metadata": {},
   "outputs": [
    {
     "data": {
      "image/png": "[encoded data removed]",
      "text/plain": [
       "<Figure size 720x432 with 1 Axes>"
      ]
     },
     "metadata": {
      "needs_background": "light"
     },
     "output_type": "display_data"
    }
   ],
   "source": [
    "plt.figure(figsize=(10, 6))\n",
    "sns.histplot(rides['duration'], bins=20, kde=True, color='green')\n",
    "plt.title('Распределение продолжительности поездок')\n",
    "plt.xlabel('Продолжительность (мин)')\n",
    "plt.ylabel('Частота')\n",
    "plt.show()"
   ]
  },
  {
   "cell_type": "markdown",
   "id": "fe428c87",
   "metadata": {},
   "source": [
    "Большинство поездок длятся от 10 до 25 минут, что составляет основную долю всех поездок. Пик приходится на поездки длительностью 15-20 минут, которые занимают значительную часть времени у пользователей.\n",
    "\n",
    "Это говорит о том, что большинство людей используют сервис для коротких поездок, быстро и удобно добираясь до своих целей."
   ]
  },
  {
   "cell_type": "markdown",
   "id": "4ef51331",
   "metadata": {},
   "source": [
    "## Объединение данных"
   ]
  },
  {
   "cell_type": "markdown",
   "id": "bbc3ca4b",
   "metadata": {},
   "source": [
    "### Объедините данные о пользователях, поездках и подписках в один датафрейм. Для этого воспользуйтесь методом `merge()`"
   ]
  },
  {
   "cell_type": "markdown",
   "id": "7419522a",
   "metadata": {},
   "source": [
    "Теперь для удобства, мы объединим все три датафрейма (`users`, `rides`, `subs`) в один с помощью метода `merge()`. У нас есть один общий столбец в таблицах `users` и `rides`, это - **`user_id`**, по нему и будем объединять данные, а столбец `subs` уже будем объединять по стольцу - **`subscription_type`**"
   ]
  },
  {
   "cell_type": "code",
   "execution_count": 29,
   "id": "ba82f47d",
   "metadata": {},
   "outputs": [
    {
     "data": {
      "text/html": [
       "<div>\n",
       "<style scoped>\n",
       "    .dataframe tbody tr th:only-of-type {\n",
       "        vertical-align: middle;\n",
       "    }\n",
       "\n",
       "    .dataframe tbody tr th {\n",
       "        vertical-align: top;\n",
       "    }\n",
       "\n",
       "    .dataframe thead th {\n",
       "        text-align: right;\n",
       "    }\n",
       "</style>\n",
       "<table border=\"1\" class=\"dataframe\">\n",
       "  <thead>\n",
       "    <tr style=\"text-align: right;\">\n",
       "      <th></th>\n",
       "      <th>user_id</th>\n",
       "      <th>name</th>\n",
       "      <th>age</th>\n",
       "      <th>city</th>\n",
       "      <th>subscription_type</th>\n",
       "    </tr>\n",
       "  </thead>\n",
       "  <tbody>\n",
       "    <tr>\n",
       "      <th>0</th>\n",
       "      <td>1</td>\n",
       "      <td>Кира</td>\n",
       "      <td>22</td>\n",
       "      <td>Тюмень</td>\n",
       "      <td>ultra</td>\n",
       "    </tr>\n",
       "    <tr>\n",
       "      <th>1</th>\n",
       "      <td>2</td>\n",
       "      <td>Станислав</td>\n",
       "      <td>31</td>\n",
       "      <td>Омск</td>\n",
       "      <td>ultra</td>\n",
       "    </tr>\n",
       "    <tr>\n",
       "      <th>2</th>\n",
       "      <td>3</td>\n",
       "      <td>Алексей</td>\n",
       "      <td>20</td>\n",
       "      <td>Москва</td>\n",
       "      <td>ultra</td>\n",
       "    </tr>\n",
       "    <tr>\n",
       "      <th>3</th>\n",
       "      <td>4</td>\n",
       "      <td>Константин</td>\n",
       "      <td>26</td>\n",
       "      <td>Ростов-на-Дону</td>\n",
       "      <td>ultra</td>\n",
       "    </tr>\n",
       "    <tr>\n",
       "      <th>4</th>\n",
       "      <td>5</td>\n",
       "      <td>Адель</td>\n",
       "      <td>28</td>\n",
       "      <td>Омск</td>\n",
       "      <td>ultra</td>\n",
       "    </tr>\n",
       "  </tbody>\n",
       "</table>\n",
       "</div>"
      ],
      "text/plain": [
       "   user_id        name  age            city subscription_type\n",
       "0        1        Кира   22          Тюмень             ultra\n",
       "1        2   Станислав   31            Омск             ultra\n",
       "2        3     Алексей   20          Москва             ultra\n",
       "3        4  Константин   26  Ростов-на-Дону             ultra\n",
       "4        5       Адель   28            Омск             ultra"
      ]
     },
     "execution_count": 29,
     "metadata": {},
     "output_type": "execute_result"
    }
   ],
   "source": [
    "users.head()"
   ]
  },
  {
   "cell_type": "code",
   "execution_count": 30,
   "id": "73c1181f",
   "metadata": {},
   "outputs": [
    {
     "data": {
      "text/html": [
       "<div>\n",
       "<style scoped>\n",
       "    .dataframe tbody tr th:only-of-type {\n",
       "        vertical-align: middle;\n",
       "    }\n",
       "\n",
       "    .dataframe tbody tr th {\n",
       "        vertical-align: top;\n",
       "    }\n",
       "\n",
       "    .dataframe thead th {\n",
       "        text-align: right;\n",
       "    }\n",
       "</style>\n",
       "<table border=\"1\" class=\"dataframe\">\n",
       "  <thead>\n",
       "    <tr style=\"text-align: right;\">\n",
       "      <th></th>\n",
       "      <th>subscription_type</th>\n",
       "      <th>minute_price</th>\n",
       "      <th>start_ride_price</th>\n",
       "      <th>subscription_fee</th>\n",
       "    </tr>\n",
       "  </thead>\n",
       "  <tbody>\n",
       "    <tr>\n",
       "      <th>0</th>\n",
       "      <td>free</td>\n",
       "      <td>8</td>\n",
       "      <td>50</td>\n",
       "      <td>0</td>\n",
       "    </tr>\n",
       "    <tr>\n",
       "      <th>1</th>\n",
       "      <td>ultra</td>\n",
       "      <td>6</td>\n",
       "      <td>0</td>\n",
       "      <td>199</td>\n",
       "    </tr>\n",
       "  </tbody>\n",
       "</table>\n",
       "</div>"
      ],
      "text/plain": [
       "  subscription_type  minute_price  start_ride_price  subscription_fee\n",
       "0              free             8                50                 0\n",
       "1             ultra             6                 0               199"
      ]
     },
     "execution_count": 30,
     "metadata": {},
     "output_type": "execute_result"
    }
   ],
   "source": [
    "subs"
   ]
  },
  {
   "cell_type": "code",
   "execution_count": 31,
   "id": "413fc2a6",
   "metadata": {},
   "outputs": [],
   "source": [
    "table1 = pd.merge(users, rides, on='user_id')\n",
    "df = pd.merge(table1, subs, on='subscription_type')"
   ]
  },
  {
   "cell_type": "code",
   "execution_count": 32,
   "id": "dea55882",
   "metadata": {},
   "outputs": [
    {
     "name": "stdout",
     "output_type": "stream",
     "text": [
      "Размерность users: (1534, 5)\n",
      "Размерность rides: (18068, 5)\n",
      "Размерность subs: (2, 4)\n",
      "Размерность объединенного датафрейма: (18068, 12)\n"
     ]
    }
   ],
   "source": [
    "print(f\"Размерность users: {users.shape}\")\n",
    "print(f\"Размерность rides: {rides.shape}\")\n",
    "print(f\"Размерность subs: {subs.shape}\")\n",
    "print(f\"Размерность объединенного датафрейма: {df.shape}\")"
   ]
  },
  {
   "cell_type": "code",
   "execution_count": 33,
   "id": "86ef0076",
   "metadata": {},
   "outputs": [
    {
     "name": "stdout",
     "output_type": "stream",
     "text": [
      "Количество пропущенных значений в каждом столбце:\n",
      "user_id              0\n",
      "name                 0\n",
      "age                  0\n",
      "city                 0\n",
      "subscription_type    0\n",
      "distance             0\n",
      "duration             0\n",
      "date                 0\n",
      "month                0\n",
      "minute_price         0\n",
      "start_ride_price     0\n",
      "subscription_fee     0\n",
      "dtype: int64\n"
     ]
    }
   ],
   "source": [
    "missing_values = df.isnull().sum()\n",
    "print(f\"Количество пропущенных значений в каждом столбце:\\n{missing_values}\")"
   ]
  },
  {
   "cell_type": "markdown",
   "id": "aef79f69",
   "metadata": {},
   "source": [
    "Размерность `df` (18068, 11) соответствует количеству строк в датафрейме `rides` (тоже 18068 строк). Это указывает на то, что объединение данных прошло корректно по ключевому столбцу `user_id`, и все поездки были успешно сопоставлены с пользователями."
   ]
  },
  {
   "cell_type": "markdown",
   "id": "e72dc2bc",
   "metadata": {},
   "source": [
    "### Создание двух таблиц из таблицы `df`"
   ]
  },
  {
   "cell_type": "markdown",
   "id": "827beb53",
   "metadata": {},
   "source": [
    "Нам нужно разделить нашу таблицу `df` на 2 отдельных таблицы: одна будет содержать информацию о пользователях без подписки, а вторая — о пользователях с подпиской."
   ]
  },
  {
   "cell_type": "code",
   "execution_count": 34,
   "id": "e70e1b74",
   "metadata": {},
   "outputs": [],
   "source": [
    "no_subs = df[df['subscription_type'] == 'free']\n",
    "with_subs = df[df['subscription_type'] == 'ultra']"
   ]
  },
  {
   "cell_type": "code",
   "execution_count": 35,
   "id": "1b46bc3a",
   "metadata": {},
   "outputs": [
    {
     "data": {
      "text/html": [
       "<div>\n",
       "<style scoped>\n",
       "    .dataframe tbody tr th:only-of-type {\n",
       "        vertical-align: middle;\n",
       "    }\n",
       "\n",
       "    .dataframe tbody tr th {\n",
       "        vertical-align: top;\n",
       "    }\n",
       "\n",
       "    .dataframe thead th {\n",
       "        text-align: right;\n",
       "    }\n",
       "</style>\n",
       "<table border=\"1\" class=\"dataframe\">\n",
       "  <thead>\n",
       "    <tr style=\"text-align: right;\">\n",
       "      <th></th>\n",
       "      <th>user_id</th>\n",
       "      <th>name</th>\n",
       "      <th>age</th>\n",
       "      <th>city</th>\n",
       "      <th>subscription_type</th>\n",
       "      <th>distance</th>\n",
       "      <th>duration</th>\n",
       "      <th>date</th>\n",
       "      <th>month</th>\n",
       "      <th>minute_price</th>\n",
       "      <th>start_ride_price</th>\n",
       "      <th>subscription_fee</th>\n",
       "    </tr>\n",
       "  </thead>\n",
       "  <tbody>\n",
       "    <tr>\n",
       "      <th>6500</th>\n",
       "      <td>700</td>\n",
       "      <td>Айдар</td>\n",
       "      <td>22</td>\n",
       "      <td>Омск</td>\n",
       "      <td>free</td>\n",
       "      <td>2515.690719</td>\n",
       "      <td>14.944286</td>\n",
       "      <td>2021-01-02</td>\n",
       "      <td>1</td>\n",
       "      <td>8</td>\n",
       "      <td>50</td>\n",
       "      <td>0</td>\n",
       "    </tr>\n",
       "    <tr>\n",
       "      <th>6501</th>\n",
       "      <td>700</td>\n",
       "      <td>Айдар</td>\n",
       "      <td>22</td>\n",
       "      <td>Омск</td>\n",
       "      <td>free</td>\n",
       "      <td>846.932642</td>\n",
       "      <td>16.234663</td>\n",
       "      <td>2021-02-01</td>\n",
       "      <td>2</td>\n",
       "      <td>8</td>\n",
       "      <td>50</td>\n",
       "      <td>0</td>\n",
       "    </tr>\n",
       "    <tr>\n",
       "      <th>6502</th>\n",
       "      <td>700</td>\n",
       "      <td>Айдар</td>\n",
       "      <td>22</td>\n",
       "      <td>Омск</td>\n",
       "      <td>free</td>\n",
       "      <td>4004.434142</td>\n",
       "      <td>20.016628</td>\n",
       "      <td>2021-02-04</td>\n",
       "      <td>2</td>\n",
       "      <td>8</td>\n",
       "      <td>50</td>\n",
       "      <td>0</td>\n",
       "    </tr>\n",
       "    <tr>\n",
       "      <th>6503</th>\n",
       "      <td>700</td>\n",
       "      <td>Айдар</td>\n",
       "      <td>22</td>\n",
       "      <td>Омск</td>\n",
       "      <td>free</td>\n",
       "      <td>1205.911290</td>\n",
       "      <td>9.782872</td>\n",
       "      <td>2021-02-10</td>\n",
       "      <td>2</td>\n",
       "      <td>8</td>\n",
       "      <td>50</td>\n",
       "      <td>0</td>\n",
       "    </tr>\n",
       "    <tr>\n",
       "      <th>6504</th>\n",
       "      <td>700</td>\n",
       "      <td>Айдар</td>\n",
       "      <td>22</td>\n",
       "      <td>Омск</td>\n",
       "      <td>free</td>\n",
       "      <td>3047.379435</td>\n",
       "      <td>17.427673</td>\n",
       "      <td>2021-02-14</td>\n",
       "      <td>2</td>\n",
       "      <td>8</td>\n",
       "      <td>50</td>\n",
       "      <td>0</td>\n",
       "    </tr>\n",
       "  </tbody>\n",
       "</table>\n",
       "</div>"
      ],
      "text/plain": [
       "      user_id   name  age  city subscription_type     distance   duration  \\\n",
       "6500      700  Айдар   22  Омск              free  2515.690719  14.944286   \n",
       "6501      700  Айдар   22  Омск              free   846.932642  16.234663   \n",
       "6502      700  Айдар   22  Омск              free  4004.434142  20.016628   \n",
       "6503      700  Айдар   22  Омск              free  1205.911290   9.782872   \n",
       "6504      700  Айдар   22  Омск              free  3047.379435  17.427673   \n",
       "\n",
       "           date  month  minute_price  start_ride_price  subscription_fee  \n",
       "6500 2021-01-02      1             8                50                 0  \n",
       "6501 2021-02-01      2             8                50                 0  \n",
       "6502 2021-02-04      2             8                50                 0  \n",
       "6503 2021-02-10      2             8                50                 0  \n",
       "6504 2021-02-14      2             8                50                 0  "
      ]
     },
     "execution_count": 35,
     "metadata": {},
     "output_type": "execute_result"
    }
   ],
   "source": [
    "no_subs.head()"
   ]
  },
  {
   "cell_type": "code",
   "execution_count": 36,
   "id": "011e9f8d",
   "metadata": {},
   "outputs": [
    {
     "data": {
      "text/html": [
       "<div>\n",
       "<style scoped>\n",
       "    .dataframe tbody tr th:only-of-type {\n",
       "        vertical-align: middle;\n",
       "    }\n",
       "\n",
       "    .dataframe tbody tr th {\n",
       "        vertical-align: top;\n",
       "    }\n",
       "\n",
       "    .dataframe thead th {\n",
       "        text-align: right;\n",
       "    }\n",
       "</style>\n",
       "<table border=\"1\" class=\"dataframe\">\n",
       "  <thead>\n",
       "    <tr style=\"text-align: right;\">\n",
       "      <th></th>\n",
       "      <th>user_id</th>\n",
       "      <th>name</th>\n",
       "      <th>age</th>\n",
       "      <th>city</th>\n",
       "      <th>subscription_type</th>\n",
       "      <th>distance</th>\n",
       "      <th>duration</th>\n",
       "      <th>date</th>\n",
       "      <th>month</th>\n",
       "      <th>minute_price</th>\n",
       "      <th>start_ride_price</th>\n",
       "      <th>subscription_fee</th>\n",
       "    </tr>\n",
       "  </thead>\n",
       "  <tbody>\n",
       "    <tr>\n",
       "      <th>0</th>\n",
       "      <td>1</td>\n",
       "      <td>Кира</td>\n",
       "      <td>22</td>\n",
       "      <td>Тюмень</td>\n",
       "      <td>ultra</td>\n",
       "      <td>4409.919140</td>\n",
       "      <td>25.599769</td>\n",
       "      <td>2021-01-01</td>\n",
       "      <td>1</td>\n",
       "      <td>6</td>\n",
       "      <td>0</td>\n",
       "      <td>199</td>\n",
       "    </tr>\n",
       "    <tr>\n",
       "      <th>1</th>\n",
       "      <td>1</td>\n",
       "      <td>Кира</td>\n",
       "      <td>22</td>\n",
       "      <td>Тюмень</td>\n",
       "      <td>ultra</td>\n",
       "      <td>2617.592153</td>\n",
       "      <td>15.816871</td>\n",
       "      <td>2021-01-18</td>\n",
       "      <td>1</td>\n",
       "      <td>6</td>\n",
       "      <td>0</td>\n",
       "      <td>199</td>\n",
       "    </tr>\n",
       "    <tr>\n",
       "      <th>2</th>\n",
       "      <td>1</td>\n",
       "      <td>Кира</td>\n",
       "      <td>22</td>\n",
       "      <td>Тюмень</td>\n",
       "      <td>ultra</td>\n",
       "      <td>754.159807</td>\n",
       "      <td>6.232113</td>\n",
       "      <td>2021-04-20</td>\n",
       "      <td>4</td>\n",
       "      <td>6</td>\n",
       "      <td>0</td>\n",
       "      <td>199</td>\n",
       "    </tr>\n",
       "    <tr>\n",
       "      <th>3</th>\n",
       "      <td>1</td>\n",
       "      <td>Кира</td>\n",
       "      <td>22</td>\n",
       "      <td>Тюмень</td>\n",
       "      <td>ultra</td>\n",
       "      <td>2694.783254</td>\n",
       "      <td>18.511000</td>\n",
       "      <td>2021-08-11</td>\n",
       "      <td>8</td>\n",
       "      <td>6</td>\n",
       "      <td>0</td>\n",
       "      <td>199</td>\n",
       "    </tr>\n",
       "    <tr>\n",
       "      <th>4</th>\n",
       "      <td>1</td>\n",
       "      <td>Кира</td>\n",
       "      <td>22</td>\n",
       "      <td>Тюмень</td>\n",
       "      <td>ultra</td>\n",
       "      <td>4028.687306</td>\n",
       "      <td>26.265803</td>\n",
       "      <td>2021-08-28</td>\n",
       "      <td>8</td>\n",
       "      <td>6</td>\n",
       "      <td>0</td>\n",
       "      <td>199</td>\n",
       "    </tr>\n",
       "  </tbody>\n",
       "</table>\n",
       "</div>"
      ],
      "text/plain": [
       "   user_id  name  age    city subscription_type     distance   duration  \\\n",
       "0        1  Кира   22  Тюмень             ultra  4409.919140  25.599769   \n",
       "1        1  Кира   22  Тюмень             ultra  2617.592153  15.816871   \n",
       "2        1  Кира   22  Тюмень             ultra   754.159807   6.232113   \n",
       "3        1  Кира   22  Тюмень             ultra  2694.783254  18.511000   \n",
       "4        1  Кира   22  Тюмень             ultra  4028.687306  26.265803   \n",
       "\n",
       "        date  month  minute_price  start_ride_price  subscription_fee  \n",
       "0 2021-01-01      1             6                 0               199  \n",
       "1 2021-01-18      1             6                 0               199  \n",
       "2 2021-04-20      4             6                 0               199  \n",
       "3 2021-08-11      8             6                 0               199  \n",
       "4 2021-08-28      8             6                 0               199  "
      ]
     },
     "execution_count": 36,
     "metadata": {},
     "output_type": "execute_result"
    }
   ],
   "source": [
    "with_subs.head()"
   ]
  },
  {
   "cell_type": "markdown",
   "id": "74c072b4",
   "metadata": {},
   "source": [
    "### Визуализация информации о расстоянии и времени поездок для обеих категорий"
   ]
  },
  {
   "cell_type": "markdown",
   "id": "6e8f6a4d",
   "metadata": {},
   "source": [
    "Теперь можно построить графики, которые покажут распределение расстояний и времени поездок для пользователей с подпиской и без неё."
   ]
  },
  {
   "cell_type": "markdown",
   "id": "af5c79a1",
   "metadata": {},
   "source": [
    "**Распределение расстояний поездок**"
   ]
  },
  {
   "cell_type": "code",
   "execution_count": 37,
   "id": "fa903862",
   "metadata": {},
   "outputs": [
    {
     "data": {
      "image/png": "[encoded data removed]",
      "text/plain": [
       "<Figure size 864x432 with 1 Axes>"
      ]
     },
     "metadata": {
      "needs_background": "light"
     },
     "output_type": "display_data"
    }
   ],
   "source": [
    "plt.figure(figsize=(12, 6))\n",
    "sns.histplot(no_subs['distance'], kde=True, color='red', label='Без подписки')\n",
    "sns.histplot(with_subs['distance'], kde=True, color='blue', label='С подпиской')\n",
    "plt.title('Распределение расстояний поездок для пользователей с подпиской и без')\n",
    "plt.xlabel('Расстояние (м)')\n",
    "plt.ylabel('Частота')\n",
    "plt.legend()\n",
    "plt.show()"
   ]
  },
  {
   "cell_type": "markdown",
   "id": "23373729",
   "metadata": {},
   "source": [
    "На графике видно, что пользователи **без подписки** (красный цвет) чаще совершают короткие поездки, в то время как пользователи **с подпиской** (фиолетовый цвет) преодолевают большее расстояние. \n",
    "\n",
    "Это указывает на то, что пользователи с подпиской больше ориентированы на дальние поездки, возможно, за счет выгодных условий, предлагаемых подпиской."
   ]
  },
  {
   "cell_type": "code",
   "execution_count": 38,
   "id": "818be0a6",
   "metadata": {},
   "outputs": [
    {
     "data": {
      "image/png": "[encoded data removed]",
      "text/plain": [
       "<Figure size 864x432 with 1 Axes>"
      ]
     },
     "metadata": {
      "needs_background": "light"
     },
     "output_type": "display_data"
    }
   ],
   "source": [
    "plt.figure(figsize=(12, 6))\n",
    "sns.histplot(no_subs['duration'], kde=True, color='red', label='Без подписки')\n",
    "sns.histplot(with_subs['duration'], kde=True, color='blue', label='С подпиской')\n",
    "plt.title('Распределение времени поездок для пользователей с подпиской и без')\n",
    "plt.xlabel('Время (мин)')\n",
    "plt.ylabel('Частота')\n",
    "plt.legend()\n",
    "plt.show()"
   ]
  },
  {
   "cell_type": "markdown",
   "id": "ca58ecc8",
   "metadata": {},
   "source": [
    "На графике мы видим что пользователи **без подписки** чаще выбирают более длительные поездки, хотя диапазон времени достаточно схож для обеих групп.\n",
    "\n",
    "Пользователи **с подпиской** немного смещены в сторону более коротких поездок, что может быть связано с тем, что они чаще пользуются сервисом для повседневных нужд."
   ]
  },
  {
   "cell_type": "markdown",
   "id": "402d620f",
   "metadata": {},
   "source": [
    "## Подсчёт выручки"
   ]
  },
  {
   "cell_type": "markdown",
   "id": "d51c228a",
   "metadata": {},
   "source": [
    "Для подсчета выручки нам нужно создать таблицу с агрегированными данными: мы собирем все поездки пользователей и посчитаем для каждого пользователя и каждого месяца суммарное расстояние, количество поездок и общее время в пути. Это поможет нам понять, как активно пользователи пользуются сервисом."
   ]
  },
  {
   "cell_type": "markdown",
   "id": "5eec26e4",
   "metadata": {},
   "source": [
    "### Агрегация данных"
   ]
  },
  {
   "cell_type": "markdown",
   "id": "7b8b5757",
   "metadata": {},
   "source": [
    "Округляем продолжительность каждой поездки до ближайшего целого числа вверх"
   ]
  },
  {
   "cell_type": "code",
   "execution_count": 39,
   "id": "71d4038e",
   "metadata": {},
   "outputs": [],
   "source": [
    "df['duration'] = np.ceil(df['duration'])"
   ]
  },
  {
   "cell_type": "markdown",
   "id": "50b3a655",
   "metadata": {},
   "source": [
    "Группируем данные по пользователю и месяцу, вычисляя необходимые показатели"
   ]
  },
  {
   "cell_type": "code",
   "execution_count": 40,
   "id": "7ab6e66e",
   "metadata": {},
   "outputs": [],
   "source": [
    "aggregated_data = df.groupby(['user_id', 'month']).agg({\n",
    "    'distance': 'sum',\n",
    "    'duration': 'sum',\n",
    "    'date': 'count',\n",
    "    'subscription_type': 'first'\n",
    "}).reset_index()"
   ]
  },
  {
   "cell_type": "markdown",
   "id": "d67b6382",
   "metadata": {},
   "source": [
    "Переименуем столбцы для удобства"
   ]
  },
  {
   "cell_type": "code",
   "execution_count": 41,
   "id": "e4d64c9f",
   "metadata": {},
   "outputs": [
    {
     "data": {
      "text/html": [
       "<div>\n",
       "<style scoped>\n",
       "    .dataframe tbody tr th:only-of-type {\n",
       "        vertical-align: middle;\n",
       "    }\n",
       "\n",
       "    .dataframe tbody tr th {\n",
       "        vertical-align: top;\n",
       "    }\n",
       "\n",
       "    .dataframe thead th {\n",
       "        text-align: right;\n",
       "    }\n",
       "</style>\n",
       "<table border=\"1\" class=\"dataframe\">\n",
       "  <thead>\n",
       "    <tr style=\"text-align: right;\">\n",
       "      <th></th>\n",
       "      <th>user_id</th>\n",
       "      <th>month</th>\n",
       "      <th>total_distance</th>\n",
       "      <th>total_duration</th>\n",
       "      <th>trip_count</th>\n",
       "      <th>subscription_type</th>\n",
       "    </tr>\n",
       "  </thead>\n",
       "  <tbody>\n",
       "    <tr>\n",
       "      <th>0</th>\n",
       "      <td>1</td>\n",
       "      <td>1</td>\n",
       "      <td>7027.511294</td>\n",
       "      <td>42.0</td>\n",
       "      <td>2</td>\n",
       "      <td>ultra</td>\n",
       "    </tr>\n",
       "    <tr>\n",
       "      <th>1</th>\n",
       "      <td>1</td>\n",
       "      <td>4</td>\n",
       "      <td>754.159807</td>\n",
       "      <td>7.0</td>\n",
       "      <td>1</td>\n",
       "      <td>ultra</td>\n",
       "    </tr>\n",
       "    <tr>\n",
       "      <th>2</th>\n",
       "      <td>1</td>\n",
       "      <td>8</td>\n",
       "      <td>6723.470560</td>\n",
       "      <td>46.0</td>\n",
       "      <td>2</td>\n",
       "      <td>ultra</td>\n",
       "    </tr>\n",
       "    <tr>\n",
       "      <th>3</th>\n",
       "      <td>1</td>\n",
       "      <td>10</td>\n",
       "      <td>5809.911100</td>\n",
       "      <td>32.0</td>\n",
       "      <td>2</td>\n",
       "      <td>ultra</td>\n",
       "    </tr>\n",
       "    <tr>\n",
       "      <th>4</th>\n",
       "      <td>1</td>\n",
       "      <td>11</td>\n",
       "      <td>7003.499363</td>\n",
       "      <td>56.0</td>\n",
       "      <td>3</td>\n",
       "      <td>ultra</td>\n",
       "    </tr>\n",
       "  </tbody>\n",
       "</table>\n",
       "</div>"
      ],
      "text/plain": [
       "   user_id  month  total_distance  total_duration  trip_count  \\\n",
       "0        1      1     7027.511294            42.0           2   \n",
       "1        1      4      754.159807             7.0           1   \n",
       "2        1      8     6723.470560            46.0           2   \n",
       "3        1     10     5809.911100            32.0           2   \n",
       "4        1     11     7003.499363            56.0           3   \n",
       "\n",
       "  subscription_type  \n",
       "0             ultra  \n",
       "1             ultra  \n",
       "2             ultra  \n",
       "3             ultra  \n",
       "4             ultra  "
      ]
     },
     "execution_count": 41,
     "metadata": {},
     "output_type": "execute_result"
    }
   ],
   "source": [
    "aggregated_data.columns = ['user_id', 'month', 'total_distance', 'total_duration', 'trip_count', 'subscription_type']\n",
    "aggregated_data.head()"
   ]
  },
  {
   "cell_type": "markdown",
   "id": "cc96116a",
   "metadata": {},
   "source": [
    "Теперь у нас есть данные о том, сколько метров проехал каждый пользователь, сколько раз они совершали поездки и сколько времени провели в пути. Это поможет нам лучше понять, как пользователи используют сервис."
   ]
  },
  {
   "cell_type": "markdown",
   "id": "a5c08090",
   "metadata": {},
   "source": [
    "### Объединение данных и подсчёт выручки "
   ]
  },
  {
   "cell_type": "markdown",
   "id": "10ef9820",
   "metadata": {},
   "source": [
    "Добавим столбец с помесячной выручкой: Для этого используем информацию о стоимости подписки и оплаты за поездку.\n",
    "\n",
    "* без подписки\n",
    " * стоимость одной минуты поездки — 8 рублей\n",
    " * стоимость старта (начала поездки) — 50 рублей\n",
    "* с подпиской Ultra\n",
    " * абонентская плата — 199 рублей в месяц\n",
    " * стоимость одной минуты поездки — 6 рублей\n",
    " * стоимость старта — бесплатно."
   ]
  },
  {
   "cell_type": "code",
   "execution_count": 42,
   "id": "35caae26",
   "metadata": {},
   "outputs": [],
   "source": [
    "start_free = 50\n",
    "minute_free = 8\n",
    "start_ultra = 0\n",
    "minute_ultra = 6\n",
    "subscription_price = 199"
   ]
  },
  {
   "cell_type": "code",
   "execution_count": 43,
   "id": "5c207422",
   "metadata": {},
   "outputs": [
    {
     "name": "stdout",
     "output_type": "stream",
     "text": [
      "Количество пропущенных значений в каждом столбце:\n",
      "user_id              0\n",
      "month                0\n",
      "total_distance       0\n",
      "total_duration       0\n",
      "trip_count           0\n",
      "subscription_type    0\n",
      "dtype: int64\n"
     ]
    }
   ],
   "source": [
    "missing = aggregated_data.isnull().sum()\n",
    "print(f\"Количество пропущенных значений в каждом столбце:\\n{missing}\")"
   ]
  },
  {
   "cell_type": "markdown",
   "id": "a39b7b7d",
   "metadata": {},
   "source": [
    "Соединим агрегированные данные с информацией о пользователях и подписках"
   ]
  },
  {
   "cell_type": "code",
   "execution_count": 44,
   "id": "2d47ac9b",
   "metadata": {},
   "outputs": [],
   "source": [
    "revenue_df = aggregated_data.merge(df[['user_id', 'subscription_type']], on='user_id', how='left')"
   ]
  },
  {
   "cell_type": "markdown",
   "id": "c074e087",
   "metadata": {},
   "source": [
    "Рассчитаем выручку для каждого пользователя"
   ]
  },
  {
   "cell_type": "code",
   "execution_count": 45,
   "id": "322809e7",
   "metadata": {},
   "outputs": [
    {
     "data": {
      "text/html": [
       "<div>\n",
       "<style scoped>\n",
       "    .dataframe tbody tr th:only-of-type {\n",
       "        vertical-align: middle;\n",
       "    }\n",
       "\n",
       "    .dataframe tbody tr th {\n",
       "        vertical-align: top;\n",
       "    }\n",
       "\n",
       "    .dataframe thead th {\n",
       "        text-align: right;\n",
       "    }\n",
       "</style>\n",
       "<table border=\"1\" class=\"dataframe\">\n",
       "  <thead>\n",
       "    <tr style=\"text-align: right;\">\n",
       "      <th></th>\n",
       "      <th>user_id</th>\n",
       "      <th>month</th>\n",
       "      <th>total_distance</th>\n",
       "      <th>total_duration</th>\n",
       "      <th>trip_count</th>\n",
       "      <th>subscription_type</th>\n",
       "      <th>revenue</th>\n",
       "    </tr>\n",
       "  </thead>\n",
       "  <tbody>\n",
       "    <tr>\n",
       "      <th>0</th>\n",
       "      <td>1</td>\n",
       "      <td>1</td>\n",
       "      <td>7027.511294</td>\n",
       "      <td>42.0</td>\n",
       "      <td>2</td>\n",
       "      <td>ultra</td>\n",
       "      <td>451.0</td>\n",
       "    </tr>\n",
       "    <tr>\n",
       "      <th>1</th>\n",
       "      <td>1</td>\n",
       "      <td>4</td>\n",
       "      <td>754.159807</td>\n",
       "      <td>7.0</td>\n",
       "      <td>1</td>\n",
       "      <td>ultra</td>\n",
       "      <td>241.0</td>\n",
       "    </tr>\n",
       "    <tr>\n",
       "      <th>2</th>\n",
       "      <td>1</td>\n",
       "      <td>8</td>\n",
       "      <td>6723.470560</td>\n",
       "      <td>46.0</td>\n",
       "      <td>2</td>\n",
       "      <td>ultra</td>\n",
       "      <td>475.0</td>\n",
       "    </tr>\n",
       "    <tr>\n",
       "      <th>3</th>\n",
       "      <td>1</td>\n",
       "      <td>10</td>\n",
       "      <td>5809.911100</td>\n",
       "      <td>32.0</td>\n",
       "      <td>2</td>\n",
       "      <td>ultra</td>\n",
       "      <td>391.0</td>\n",
       "    </tr>\n",
       "    <tr>\n",
       "      <th>4</th>\n",
       "      <td>1</td>\n",
       "      <td>11</td>\n",
       "      <td>7003.499363</td>\n",
       "      <td>56.0</td>\n",
       "      <td>3</td>\n",
       "      <td>ultra</td>\n",
       "      <td>535.0</td>\n",
       "    </tr>\n",
       "    <tr>\n",
       "      <th>5</th>\n",
       "      <td>1</td>\n",
       "      <td>12</td>\n",
       "      <td>6751.629942</td>\n",
       "      <td>28.0</td>\n",
       "      <td>2</td>\n",
       "      <td>ultra</td>\n",
       "      <td>367.0</td>\n",
       "    </tr>\n",
       "    <tr>\n",
       "      <th>6</th>\n",
       "      <td>2</td>\n",
       "      <td>3</td>\n",
       "      <td>10187.723006</td>\n",
       "      <td>63.0</td>\n",
       "      <td>3</td>\n",
       "      <td>ultra</td>\n",
       "      <td>577.0</td>\n",
       "    </tr>\n",
       "    <tr>\n",
       "      <th>7</th>\n",
       "      <td>2</td>\n",
       "      <td>4</td>\n",
       "      <td>6164.381824</td>\n",
       "      <td>40.0</td>\n",
       "      <td>2</td>\n",
       "      <td>ultra</td>\n",
       "      <td>439.0</td>\n",
       "    </tr>\n",
       "    <tr>\n",
       "      <th>8</th>\n",
       "      <td>2</td>\n",
       "      <td>6</td>\n",
       "      <td>3255.338202</td>\n",
       "      <td>14.0</td>\n",
       "      <td>1</td>\n",
       "      <td>ultra</td>\n",
       "      <td>283.0</td>\n",
       "    </tr>\n",
       "    <tr>\n",
       "      <th>9</th>\n",
       "      <td>2</td>\n",
       "      <td>7</td>\n",
       "      <td>6780.722964</td>\n",
       "      <td>48.0</td>\n",
       "      <td>2</td>\n",
       "      <td>ultra</td>\n",
       "      <td>487.0</td>\n",
       "    </tr>\n",
       "    <tr>\n",
       "      <th>10</th>\n",
       "      <td>2</td>\n",
       "      <td>8</td>\n",
       "      <td>923.007439</td>\n",
       "      <td>7.0</td>\n",
       "      <td>1</td>\n",
       "      <td>ultra</td>\n",
       "      <td>241.0</td>\n",
       "    </tr>\n",
       "    <tr>\n",
       "      <th>11</th>\n",
       "      <td>2</td>\n",
       "      <td>10</td>\n",
       "      <td>2824.636598</td>\n",
       "      <td>19.0</td>\n",
       "      <td>1</td>\n",
       "      <td>ultra</td>\n",
       "      <td>313.0</td>\n",
       "    </tr>\n",
       "    <tr>\n",
       "      <th>12</th>\n",
       "      <td>2</td>\n",
       "      <td>12</td>\n",
       "      <td>3828.248580</td>\n",
       "      <td>12.0</td>\n",
       "      <td>1</td>\n",
       "      <td>ultra</td>\n",
       "      <td>271.0</td>\n",
       "    </tr>\n",
       "    <tr>\n",
       "      <th>13</th>\n",
       "      <td>3</td>\n",
       "      <td>1</td>\n",
       "      <td>3061.777147</td>\n",
       "      <td>13.0</td>\n",
       "      <td>1</td>\n",
       "      <td>ultra</td>\n",
       "      <td>277.0</td>\n",
       "    </tr>\n",
       "    <tr>\n",
       "      <th>14</th>\n",
       "      <td>3</td>\n",
       "      <td>2</td>\n",
       "      <td>5421.152016</td>\n",
       "      <td>39.0</td>\n",
       "      <td>2</td>\n",
       "      <td>ultra</td>\n",
       "      <td>433.0</td>\n",
       "    </tr>\n",
       "    <tr>\n",
       "      <th>15</th>\n",
       "      <td>3</td>\n",
       "      <td>4</td>\n",
       "      <td>2956.651632</td>\n",
       "      <td>21.0</td>\n",
       "      <td>1</td>\n",
       "      <td>ultra</td>\n",
       "      <td>325.0</td>\n",
       "    </tr>\n",
       "    <tr>\n",
       "      <th>16</th>\n",
       "      <td>3</td>\n",
       "      <td>5</td>\n",
       "      <td>9064.026918</td>\n",
       "      <td>63.0</td>\n",
       "      <td>3</td>\n",
       "      <td>ultra</td>\n",
       "      <td>577.0</td>\n",
       "    </tr>\n",
       "    <tr>\n",
       "      <th>17</th>\n",
       "      <td>3</td>\n",
       "      <td>7</td>\n",
       "      <td>10919.595403</td>\n",
       "      <td>67.0</td>\n",
       "      <td>3</td>\n",
       "      <td>ultra</td>\n",
       "      <td>601.0</td>\n",
       "    </tr>\n",
       "    <tr>\n",
       "      <th>18</th>\n",
       "      <td>3</td>\n",
       "      <td>9</td>\n",
       "      <td>2891.012822</td>\n",
       "      <td>23.0</td>\n",
       "      <td>1</td>\n",
       "      <td>ultra</td>\n",
       "      <td>337.0</td>\n",
       "    </tr>\n",
       "    <tr>\n",
       "      <th>19</th>\n",
       "      <td>3</td>\n",
       "      <td>12</td>\n",
       "      <td>2593.381928</td>\n",
       "      <td>13.0</td>\n",
       "      <td>1</td>\n",
       "      <td>ultra</td>\n",
       "      <td>277.0</td>\n",
       "    </tr>\n",
       "  </tbody>\n",
       "</table>\n",
       "</div>"
      ],
      "text/plain": [
       "    user_id  month  total_distance  total_duration  trip_count  \\\n",
       "0         1      1     7027.511294            42.0           2   \n",
       "1         1      4      754.159807             7.0           1   \n",
       "2         1      8     6723.470560            46.0           2   \n",
       "3         1     10     5809.911100            32.0           2   \n",
       "4         1     11     7003.499363            56.0           3   \n",
       "5         1     12     6751.629942            28.0           2   \n",
       "6         2      3    10187.723006            63.0           3   \n",
       "7         2      4     6164.381824            40.0           2   \n",
       "8         2      6     3255.338202            14.0           1   \n",
       "9         2      7     6780.722964            48.0           2   \n",
       "10        2      8      923.007439             7.0           1   \n",
       "11        2     10     2824.636598            19.0           1   \n",
       "12        2     12     3828.248580            12.0           1   \n",
       "13        3      1     3061.777147            13.0           1   \n",
       "14        3      2     5421.152016            39.0           2   \n",
       "15        3      4     2956.651632            21.0           1   \n",
       "16        3      5     9064.026918            63.0           3   \n",
       "17        3      7    10919.595403            67.0           3   \n",
       "18        3      9     2891.012822            23.0           1   \n",
       "19        3     12     2593.381928            13.0           1   \n",
       "\n",
       "   subscription_type  revenue  \n",
       "0              ultra    451.0  \n",
       "1              ultra    241.0  \n",
       "2              ultra    475.0  \n",
       "3              ultra    391.0  \n",
       "4              ultra    535.0  \n",
       "5              ultra    367.0  \n",
       "6              ultra    577.0  \n",
       "7              ultra    439.0  \n",
       "8              ultra    283.0  \n",
       "9              ultra    487.0  \n",
       "10             ultra    241.0  \n",
       "11             ultra    313.0  \n",
       "12             ultra    271.0  \n",
       "13             ultra    277.0  \n",
       "14             ultra    433.0  \n",
       "15             ultra    325.0  \n",
       "16             ultra    577.0  \n",
       "17             ultra    601.0  \n",
       "18             ultra    337.0  \n",
       "19             ultra    277.0  "
      ]
     },
     "execution_count": 45,
     "metadata": {},
     "output_type": "execute_result"
    }
   ],
   "source": [
    "aggregated_data['revenue'] = np.where(\n",
    "    aggregated_data['subscription_type'] == 'free',\n",
    "    aggregated_data['trip_count'] * start_free + aggregated_data['total_duration'] * minute_free,\n",
    "    aggregated_data['trip_count'] * start_ultra + aggregated_data['total_duration'] * minute_ultra + subscription_price\n",
    ")\n",
    "aggregated_data.head(20)"
   ]
  },
  {
   "cell_type": "markdown",
   "id": "73c5b193",
   "metadata": {},
   "source": [
    "Все выглядит вполне нормально. Мы рассчитали, сколько денег принёс каждый пользователь за месяц, учитывая все особенности тарификации. Это включает в себя как плату за старт и минуты поездок для тех, кто без подписки, так и учёт абонентской платы для подписчиков. Теперь можно увидеть, как подписка или её отсутствие влияет на выручку сервиса."
   ]
  },
  {
   "cell_type": "markdown",
   "id": "41545ac0",
   "metadata": {},
   "source": [
    "## Проверка гипотез"
   ]
  },
  {
   "cell_type": "markdown",
   "id": "672230b4",
   "metadata": {},
   "source": [
    "### Гипотеза о времени поездок пользователей с подпиской"
   ]
  },
  {
   "cell_type": "markdown",
   "id": "766c2f99",
   "metadata": {},
   "source": [
    "Для нашей гипотезы по моему мнению подойдет метод `двух независимых выборок`. \n",
    "\n",
    "Я так думаю, потому что у нас есть две группы пользователей: с подпиской и без подписки. Эти группы не зависят друг от друга, так как каждую поездку совершает либо пользователь с подпиской, либо без неё, а также продолжительность поездок для этих двух групп — это независимые данные."
   ]
  },
  {
   "cell_type": "markdown",
   "id": "6d5de886",
   "metadata": {},
   "source": [
    "Проверим, тратят ли пользователи с подпиской больше времени на поездки, чем пользователи без подписки.\n",
    "\n",
    "**`H0`** (нулевая гипотеза): Среднее время поездок пользователей с подпиской и без подписки одинаково.\n",
    "\n",
    "**`H1`** (альтернативная гипотеза): Среднее время поездок пользователей с подпиской больше, чем у пользователей без подписки.\n",
    "\n",
    "Подготовим и соберем данные по продолжительности каждой поездки для групп с подпиской и без."
   ]
  },
  {
   "cell_type": "markdown",
   "id": "878e2011",
   "metadata": {},
   "source": [
    "Разделим данные на группы с подпиской и без подписки"
   ]
  },
  {
   "cell_type": "code",
   "execution_count": 46,
   "id": "700ed20f",
   "metadata": {},
   "outputs": [],
   "source": [
    "test_with_subs = df[df['subscription_type'] == 'ultra']['duration']\n",
    "test_without_subs = df[df['subscription_type'] == 'free']['duration']"
   ]
  },
  {
   "cell_type": "code",
   "execution_count": 47,
   "id": "c991453e",
   "metadata": {},
   "outputs": [
    {
     "name": "stdout",
     "output_type": "stream",
     "text": [
      "среднее выборки пользователей с подпиской: 19.037692307692307\n",
      "среднее выборки пользователей без подписки: 17.890992392807746\n"
     ]
    }
   ],
   "source": [
    "print('среднее выборки пользователей с подпиской:', test_with_subs.mean())\n",
    "print('среднее выборки пользователей без подписки:', test_without_subs.mean())"
   ]
  },
  {
   "cell_type": "markdown",
   "id": "12728623",
   "metadata": {},
   "source": [
    "Проведем `t-test` для независимых групп, передадим методу **`ttest_ind`** значение аргумента **`greater`**, так как правосторонняя альтернативная гипотеза проводится в том случае, когда вы предполагаете, что одно значение больше другого. В нашем случае, гипотеза звучит так: \"Пользователи с подпиской тратят больше времени на поездки, чем пользователи без подписки.\""
   ]
  },
  {
   "cell_type": "code",
   "execution_count": 48,
   "id": "ba9a8cb1",
   "metadata": {},
   "outputs": [],
   "source": [
    "a = 0.05\n",
    "results = st.ttest_ind(test_with_subs, test_without_subs, alternative='greater')"
   ]
  },
  {
   "cell_type": "code",
   "execution_count": 49,
   "id": "4244699a",
   "metadata": {},
   "outputs": [
    {
     "name": "stdout",
     "output_type": "stream",
     "text": [
      "среднее выборки пользователей с подпиской: 19.037692307692307\n",
      "среднее выборки пользователей без подписки: 17.890992392807746\n",
      "p-value: 2.4959453720736625e-34\n",
      "Отвергаем нулевую гипотизу\n"
     ]
    }
   ],
   "source": [
    "print('среднее выборки пользователей с подпиской:', test_with_subs.mean())\n",
    "print('среднее выборки пользователей без подписки:', test_without_subs.mean())\n",
    "print('p-value:', results.pvalue)\n",
    "if results.pvalue < a:\n",
    "    print('Отвергаем нулевую гипотизу')\n",
    "else:\n",
    "    print('Не получилось отвергнуть нулевую гипотизу')"
   ]
  },
  {
   "cell_type": "markdown",
   "id": "9e0d0189",
   "metadata": {},
   "source": [
    "Нулевая гипотеза была отвергнута, поскольку `p-value` оказалось крайне малым — 2.5e-34, что значительно меньше уровня значимости 5%. Это означает, что есть основания полагать, что пользователи с подпиской действительно тратят больше времени на поездки, чем те, кто без подписки."
   ]
  },
  {
   "cell_type": "markdown",
   "id": "44c7731d",
   "metadata": {},
   "source": [
    "### Гипотеза о среднем расстоянии поездки для подписчиков"
   ]
  },
  {
   "cell_type": "markdown",
   "id": "74ebb9f8",
   "metadata": {},
   "source": [
    "Выберем одну выборку, поскольку мы проверяем гипотезу о среднем значении для одной группы — пользователей с подпиской.\n",
    "\n",
    "Мы будем сравнивать среднее расстояние поездок этой группы с фиксированным значением (3130 метров).\n",
    "\n",
    "**`H0`** (Нулевая гипотеза): Среднее расстояние поездки пользователей с подпиской меньше или равно 3130 метров.\n",
    "\n",
    "**`H1`** (Альтернативная гипотеза): Среднее расстояние поездки пользователей с подпиской больше 3130 метров."
   ]
  },
  {
   "cell_type": "code",
   "execution_count": 50,
   "id": "be9a291f",
   "metadata": {},
   "outputs": [
    {
     "name": "stdout",
     "output_type": "stream",
     "text": [
      "среднее выборки: 3115.4453880370247\n"
     ]
    }
   ],
   "source": [
    "value = 3130\n",
    "test_dur_subs = df[df['subscription_type'] == 'ultra']['distance']\n",
    "print('среднее выборки:', test_dur_subs.mean())\n",
    "a = 0.05"
   ]
  },
  {
   "cell_type": "markdown",
   "id": "490411b4",
   "metadata": {},
   "source": [
    "Передадим методу `ttest_1samp` значение аргумента `less`, потому что мы хотим проверить, меньше ли среднее значение, чем гипотетическое значение (3130 метров)."
   ]
  },
  {
   "cell_type": "code",
   "execution_count": 51,
   "id": "910c33f1",
   "metadata": {},
   "outputs": [
    {
     "name": "stdout",
     "output_type": "stream",
     "text": [
      "среднее выборки пользователей с подпиской: 3115.4453880370247\n",
      "p-value: 0.9195368847849785\n",
      "Не получилось отвергнуть нулевую гипотизу\n"
     ]
    }
   ],
   "source": [
    "results_2 = st.ttest_1samp(test_dur_subs, value, alternative='greater')\n",
    "print('среднее выборки пользователей с подпиской:', test_dur_subs.mean())\n",
    "print('p-value:', results_2.pvalue)\n",
    "if results_2.pvalue < a:\n",
    "    print('Отвергаем нулевую гипотизу')\n",
    "else:\n",
    "    print('Не получилось отвергнуть нулевую гипотизу')"
   ]
  },
  {
   "cell_type": "markdown",
   "id": "4e5907f9",
   "metadata": {},
   "source": [
    "Среднее расстояние, которое проезжают пользователи с подпиской, составляет 3115.45 метров, что немного меньше оптимального значения в 3130 метров, при котором износ самоката считается минимальным. Однако это различие не является значимым (p-value = 0.92). Следовательно, мы не можем с уверенностью утверждать, что пользователи с подпиской проезжают меньше оптимального расстояния, что могло бы снизить износ самокатов. Данные не дают оснований для выводов о том, что среднее расстояние поездки подписчиков существенно отличается от 3130 метров с точки зрения влияния на износ самокатов."
   ]
  },
  {
   "cell_type": "markdown",
   "id": "78013d07",
   "metadata": {},
   "source": [
    "### Гипотеза о выручке по подписке и без"
   ]
  },
  {
   "cell_type": "markdown",
   "id": "0d0c3d25",
   "metadata": {},
   "source": [
    "Выберем две независимые выборки, поскольку у нас есть две группы пользователей: с подпиской и без подписки. Эти группы не зависят друг от друга.\n",
    "\n",
    "**`H0`** (Нулевая гипотеза): Средняя выручка от пользователей с подпиской Ultra равна или меньше средней выручки от пользователей без подписки.\n",
    "\n",
    "**`H1`** (Альтернативная гипотеза): Средняя выручка от пользователей с подпиской Ultra выше, чем средняя выручка от пользователей без подписки."
   ]
  },
  {
   "cell_type": "code",
   "execution_count": 52,
   "id": "58f9c569",
   "metadata": {},
   "outputs": [
    {
     "name": "stdout",
     "output_type": "stream",
     "text": [
      "среднее выборки пользователей с подпиской: 362.7921906022502\n",
      "среднее выборки пользователей без подписки: 328.6413651073845\n"
     ]
    }
   ],
   "source": [
    "rev_with_subs = aggregated_data[aggregated_data['subscription_type'] == 'ultra']['revenue']\n",
    "rev_without_subs = aggregated_data[aggregated_data['subscription_type'] == 'free']['revenue']\n",
    "print('среднее выборки пользователей с подпиской:', rev_with_subs.mean())\n",
    "print('среднее выборки пользователей без подписки:', rev_without_subs.mean())"
   ]
  },
  {
   "cell_type": "markdown",
   "id": "2f83c480",
   "metadata": {},
   "source": [
    "Передадим методу `ttest_ind` значение аргумента `greater`"
   ]
  },
  {
   "cell_type": "code",
   "execution_count": 53,
   "id": "3190f4a2",
   "metadata": {},
   "outputs": [
    {
     "name": "stdout",
     "output_type": "stream",
     "text": [
      "среднее выборки пользователей с подпиской: 362.7921906022502\n",
      "среднее выборки пользователей без подписки: 328.6413651073845\n",
      "p-value: 1.8850394384715216e-31\n",
      "Отвергаем нулевую гипотизу\n"
     ]
    }
   ],
   "source": [
    "a = 0.05\n",
    "results_3 = st.ttest_ind(rev_with_subs, rev_without_subs, alternative='greater')\n",
    "print('среднее выборки пользователей с подпиской:', rev_with_subs.mean())\n",
    "print('среднее выборки пользователей без подписки:', rev_without_subs.mean())\n",
    "print('p-value:', results_3.pvalue)\n",
    "if results.pvalue < a:\n",
    "    print('Отвергаем нулевую гипотизу')\n",
    "else:\n",
    "    print('Не получилось отвергнуть нулевую гипотизу')"
   ]
  },
  {
   "cell_type": "markdown",
   "id": "85044f89",
   "metadata": {},
   "source": [
    "Наши результаты показывают, что средняя выручка от пользователей с подпиской Ultra составляет около 362.79 рублей, что выше, чем 328.64 рублей у пользователей без подписки. `p-value` оказался чрезвычайно малым (примерно 1.89e-31), что позволяет нам отвергнуть нулевую гипотезу с очень высокой уверенностью. Это означает, что пользователи с подпиской Ultra действительно приносят больше выручки по сравнению с теми, кто не имеет подписки."
   ]
  },
  {
   "cell_type": "markdown",
   "id": "4af46c52",
   "metadata": {},
   "source": [
    "### Гипотеза о снижении количества обращений в техподдержку"
   ]
  },
  {
   "cell_type": "markdown",
   "id": "2063a92e",
   "metadata": {},
   "source": [
    "Выбираем тест для двух зависимых выборок, потому что мы сравниваем одно и то же множество пользователей до и после обновления серверов.\n",
    "\n",
    "Этот тест поможет нам сравнивить среднее значение обращений до и после обновления для каждого пользователя. Парный t-тест поможет определить, произошло ли статистически значимое снижение количества обращений после обновления.\n",
    "\n",
    "**`H0`**(Нулевая гипотеза): Количество обращений до и после обновления серверов одинаково.\n",
    "\n",
    "**`H1`**(Альтернативная гипотеза): Количество обращений снизилось после обновления серверов."
   ]
  },
  {
   "cell_type": "markdown",
   "id": "61213c5e",
   "metadata": {},
   "source": [
    "## Распределения"
   ]
  },
  {
   "cell_type": "markdown",
   "id": "a807456c",
   "metadata": {},
   "source": [
    "### Акция с раздачей промокодов"
   ]
  },
  {
   "cell_type": "markdown",
   "id": "b993e68b",
   "metadata": {},
   "source": [
    "Задача стоит такая: нам нужно провести акцию по раздаче промокодов, чтобы как минимум 100 клиентов продлили свою подписку. Проблема в том, что только 10% пользователей, которые воспользовались бесплатным периодом, потом платят за продление. Нам нужно рассчитать, сколько промокодов стоит разослать, чтобы вероятность недостижения цели была всего 5%.\n",
    "\n",
    "Используем биномиальное распределение — оно идеально описывает ситуацию, где есть множество попыток (рассылка промокодов), и у каждой попытки есть только два исхода: либо успех (продление подписки), либо неудача (отказ). Мы знаем, что вероятность успеха — 10%."
   ]
  },
  {
   "cell_type": "markdown",
   "id": "f09eadb9",
   "metadata": {},
   "source": [
    "Вероятность продления подписки после получения промокода (p)- `10%`\n",
    "\n",
    "Минимальное количество пользователей, которые должны продлить подписку (k) - `100`\n",
    "\n",
    "Вероятность не выполнения плана должна быть примерно - `5%`"
   ]
  },
  {
   "cell_type": "code",
   "execution_count": 54,
   "id": "e6d4e500",
   "metadata": {},
   "outputs": [
    {
     "name": "stdout",
     "output_type": "stream",
     "text": [
      "Минимальное количество промокодов, которые нужно разослать: 1161\n"
     ]
    }
   ],
   "source": [
    "p = 0.1\n",
    "k = 100\n",
    "v = 0.05\n",
    "\n",
    "#Ищем минимальное N\n",
    "N = k\n",
    "while st.binom.cdf(k - 1, N, p) > v:\n",
    "    N += 1\n",
    "print(f\"Минимальное количество промокодов, которые нужно разослать: {N}\")"
   ]
  },
  {
   "cell_type": "code",
   "execution_count": 55,
   "id": "2f1d7252",
   "metadata": {},
   "outputs": [
    {
     "name": "stderr",
     "output_type": "stream",
     "text": [
      "/opt/conda/lib/python3.9/site-packages/scipy/stats/_discrete_distns.py:78: RuntimeWarning: divide by zero encountered in _binom_pdf\n",
      "  return _boost._binom_pdf(x, n, p)\n"
     ]
    },
    {
     "data": {
      "image/png": "[encoded data removed]",
      "text/plain": [
       "<Figure size 432x288 with 1 Axes>"
      ]
     },
     "metadata": {
      "needs_background": "light"
     },
     "output_type": "display_data"
    }
   ],
   "source": [
    "distr = []\n",
    "for x in range(0, N + 1):\n",
    "    current_value = st.binom.pmf(x, N, p)\n",
    "    distr.append(current_value)\n",
    "    \n",
    "plt.bar(range(0, N + 1), distr)\n",
    "plt.show()"
   ]
  },
  {
   "cell_type": "markdown",
   "id": "76ad2fe1",
   "metadata": {},
   "source": [
    "На графике видно что большинство вероятностей сосредоточено в диапазоне от 50 до 150 продлений, с пиком около 100 продлений.\n",
    "\n",
    "То есть, если мы разошлем 1161 промокод, с очень высокой вероятностью (95%) как минимум 100 человек продлят свою подписку. Это именно то что нам нужно. График показывает, что шансы на то, что продлений будет меньше, существенно снижаются, особенно по мере приближения к 0, что подтверждает правильность нашего расчета.\n",
    "\n",
    "В итоге, для того чтобы с высокой вероятностью достичь цели в 100 продлений, нам нужно разослать как минимум 1161 промокод. Это число гарантирует, что риск не достижения цели будет минимален, всего около 5%."
   ]
  },
  {
   "cell_type": "markdown",
   "id": "b8d52de2",
   "metadata": {},
   "source": [
    "### Push-уведомления "
   ]
  },
  {
   "cell_type": "markdown",
   "id": "845c92a8",
   "metadata": {},
   "source": [
    "Отдел маркетинга планирует разослать 1 миллион push-уведомлений через мобильное приложение. По статистике, примерно 40% клиентов открывают такие уведомления. Мы должны понять, какова вероятность того, что уведомления откроют не более 399,500 пользователей.\n",
    "\n",
    "`n` - Мы знаем, что будет разослано 1 миллион уведомлений.\n",
    "\n",
    "`p` - Вероятность того, что клиент откроет уведомление, составляет 40%."
   ]
  },
  {
   "cell_type": "code",
   "execution_count": 56,
   "id": "c15e6a94",
   "metadata": {},
   "outputs": [],
   "source": [
    "n = 1000000 \n",
    "p = 0.4\n",
    "# математическое ожидание\n",
    "mu = n * p\n",
    "# стандартное отклонение\n",
    "sigma = np.sqrt(n * p * (1 - p))"
   ]
  },
  {
   "cell_type": "markdown",
   "id": "e078a7f3",
   "metadata": {},
   "source": [
    "Задаем нормальное распределение с рассчитанными параметрами, а также вероятность того, что уведомление откроют не более 399,500 пользователей."
   ]
  },
  {
   "cell_type": "code",
   "execution_count": 57,
   "id": "08677f26",
   "metadata": {},
   "outputs": [
    {
     "name": "stdout",
     "output_type": "stream",
     "text": [
      "Вероятность того, что уведомление откроют не более 399,500 пользователей: 0.1537\n"
     ]
    }
   ],
   "source": [
    "distr = st.norm(mu, sigma)\n",
    "v = 399500\n",
    "prob = distr.cdf(v)\n",
    "print(f'Вероятность того, что уведомление откроют не более 399,500 пользователей: {prob:.4f}')"
   ]
  },
  {
   "cell_type": "markdown",
   "id": "0a65bbb2",
   "metadata": {},
   "source": [
    "Создаем массив значений x для графика,задаем плотность вероятности и строим график"
   ]
  },
  {
   "cell_type": "code",
   "execution_count": 58,
   "id": "43d75e15",
   "metadata": {},
   "outputs": [
    {
     "data": {
      "image/png": "[encoded data removed]",
      "text/plain": [
       "<Figure size 720x432 with 1 Axes>"
      ]
     },
     "metadata": {
      "needs_background": "light"
     },
     "output_type": "display_data"
    }
   ],
   "source": [
    "x = np.linspace(mu - 4 * sigma, mu + 4 * sigma, 1000)\n",
    "y = distr.pdf(x)  # плотность вероятности\n",
    "plt.figure(figsize=(10, 6))\n",
    "plt.plot(x, y, label='Нормальное распределение', color='blue')\n",
    "plt.fill_between(x, 0, y, where=(x <= v), color='skyblue', alpha=0.4, label=f'Площадь до {v}')\n",
    "plt.axvline(v, color='red', linestyle='--', label=f'Значение x = {v}')\n",
    "plt.title('Нормальное распределение открытия уведомлений')\n",
    "plt.xlabel('Количество открытых уведомлений')\n",
    "plt.ylabel('Плотность вероятности')\n",
    "plt.legend()\n",
    "plt.grid(True)\n",
    "# Показываем график\n",
    "plt.show()"
   ]
  },
  {
   "cell_type": "markdown",
   "id": "6469b579",
   "metadata": {},
   "source": [
    "График показывает нормальное приближение биномиального распределения. Вертикальная красная линия соответствует значению 399,500 открытых уведомлений, и заштрихованная область представляет вероятность того, что уведомление откроют не более 399,500 пользователей.\n",
    "\n",
    "То есть, вероятность того, что уведомление откроют не более 399,500 пользователей состовляет примерно 15%. "
   ]
  },
  {
   "cell_type": "markdown",
   "id": "c74cf649",
   "metadata": {},
   "source": [
    "## Вывод"
   ]
  },
  {
   "cell_type": "markdown",
   "id": "e16f27d0",
   "metadata": {},
   "source": [
    "В результате анализа данных о пользователях и поездках в сервисе **GoFast** мы сделали несколько ключевых выводов, которые помогут улучшить бизнес-стратегию и потенциально увеличить количество пользователей с подпиской.\n",
    "1. **Загрузка и Предобработка данных:**\n",
    "    - Данные о пользователях, поездках и подписках успешно загружены и изучены. Столбцы с датами приведены к типу даты, а также создан новый столбец с номером месяца для удобства анализа.\n",
    "    - Были обнаружены и обработаны пропущенные значения и дубликаты, что обеспечило корректность дальнейшего анализа.\n",
    "2. **Исследовательский анализ данных:**\n",
    "    - **Города**: Мы проанализировали распределение пользователей по городам и определили самые популярные и наименее представленные города.\n",
    "    - **Подписка**: Обнаружено, что значительная часть пользователей пользуется бесплатной подпиской, что предполагает потенциал для увеличения числа подписчиков.\n",
    "    - **Возраст**: Возраст пользователей сосредоточен в диапазоне от 20 до 30 лет, с пиком около 25 лет., что может помочь в понимании целевой аудитории.\n",
    "    - **Расстояние и Продолжительность поездок**: Определено, что пользователи проезжают различное расстояние и проводят разное время в поездках, что важно для оптимизации стоимости и услуг.\n",
    "3. **Объединение данных:**\n",
    "    - Данные о пользователях, поездках и подписках были объединены в единый датафрейм. Это позволило провести более глубокий анализ поведения пользователей в зависимости от типа подписки.\n",
    "    - Разделение данных на группы по типу подписки и их визуализация позволили сравнить поведение пользователей с разными типами подписок.\n",
    "4. **Подсчёт выручки:**\n",
    "    - Агрегированные данные по поездкам позволили рассчитать помесячную выручку от пользователей. Вычисления показали, что пользователи с подпиской Ultra могут приносить больше выручки в месяц благодаря сниженной стоимости поездок и отсутствию платы за старт.\n",
    "5. **Проверка гипотез:**\n",
    "    - **Продолжительность поездок**: Гипотеза о том, что пользователи с подпиской тратят больше времени на поездки, подтвердилась. Это указывает на потенциальную ценность таких пользователей для компании.\n",
    "    - **Расстояние поездок**: Гипотеза о том, что среднее расстояние поездок пользователей с подпиской не превышает 3130 метров, была проверена и отвергнута. Это может помочь в оптимизации использования самокатов.\n",
    "    - **Помесячная выручка**: Выручка от пользователей с подпиской выше по сравнению с пользователями без подписки, что подтверждает необходимость стимулирования подписок.\n",
    "    - **Технические обновления**: Для проверки гипотезы о снижении количества обращений в техподдержку после обновления сервера понадобился бы тест на зависимость (например, парный t-тест).\n",
    "6. **Распределения:**\n",
    "    - **Раздача промокодов**: Рассчитано минимальное количество промокодов, необходимое для достижения цели по продлению подписки, с вероятностью 5%. Построены графики распределения и предложены практические рекомендации.\n",
    "    - **Push-уведомления**: Оценена вероятность того, что уведомление откроют не более 399,5 тыс. пользователей, используя нормальную аппроксимацию биномиального распределения. Это помогает в оценке эффективности маркетинговых кампаний.\n",
    "    \n",
    "7. **Заключение:**\n",
    "    - Пользователи с подпиской Ultra оказываются более выгодными для компании в финансовом плане по сравнению с пользователями без подписки. Они приносят большую выручку за счет фиксированной абонентской платы, несмотря на снижение тарифов на минуты поездок. Таким образом, компания должна сосредоточить усилия на привлечении и удержании подписчиков, что поможет увеличить общую выручку и оптимизировать использование ресурсов.\n"
   ]
  }
 ],
 "metadata": {
  "ExecuteTimeLog": [
   {
    "duration": 770,
    "start_time": "2024-08-08T12:41:48.667Z"
   },
   {
    "duration": 177,
    "start_time": "2024-08-08T12:41:57.181Z"
   },
   {
    "duration": 131,
    "start_time": "2024-08-08T12:42:05.195Z"
   },
   {
    "duration": 134,
    "start_time": "2024-08-08T12:42:13.799Z"
   },
   {
    "duration": 105,
    "start_time": "2024-08-08T12:42:29.623Z"
   },
   {
    "duration": 15,
    "start_time": "2024-08-08T12:42:34.557Z"
   },
   {
    "duration": 7,
    "start_time": "2024-08-08T12:42:46.344Z"
   },
   {
    "duration": 106,
    "start_time": "2024-08-08T12:52:15.444Z"
   },
   {
    "duration": 9,
    "start_time": "2024-08-08T12:54:30.352Z"
   },
   {
    "duration": 4,
    "start_time": "2024-08-08T12:54:35.202Z"
   },
   {
    "duration": 6,
    "start_time": "2024-08-08T12:55:07.112Z"
   },
   {
    "duration": 5,
    "start_time": "2024-08-08T12:55:54.734Z"
   },
   {
    "duration": 81,
    "start_time": "2024-08-08T12:56:26.984Z"
   },
   {
    "duration": 6,
    "start_time": "2024-08-08T12:56:29.392Z"
   },
   {
    "duration": 7,
    "start_time": "2024-08-08T12:56:43.836Z"
   },
   {
    "duration": 10,
    "start_time": "2024-08-08T12:57:06.446Z"
   },
   {
    "duration": 10,
    "start_time": "2024-08-08T12:57:46.981Z"
   },
   {
    "duration": 13,
    "start_time": "2024-08-08T12:58:10.952Z"
   },
   {
    "duration": 14,
    "start_time": "2024-08-08T12:59:19.237Z"
   },
   {
    "duration": 7,
    "start_time": "2024-08-08T12:59:40.838Z"
   },
   {
    "duration": 7,
    "start_time": "2024-08-08T13:00:24.685Z"
   },
   {
    "duration": 8,
    "start_time": "2024-08-08T13:00:35.456Z"
   },
   {
    "duration": 10,
    "start_time": "2024-08-08T13:00:38.577Z"
   },
   {
    "duration": 754,
    "start_time": "2024-08-12T12:01:33.133Z"
   },
   {
    "duration": 9,
    "start_time": "2024-08-12T12:01:34.932Z"
   },
   {
    "duration": 7,
    "start_time": "2024-08-12T12:01:35.425Z"
   },
   {
    "duration": 13,
    "start_time": "2024-08-12T12:01:36.022Z"
   },
   {
    "duration": 10,
    "start_time": "2024-08-12T12:02:48.073Z"
   },
   {
    "duration": 10,
    "start_time": "2024-08-12T12:03:15.568Z"
   },
   {
    "duration": 14,
    "start_time": "2024-08-12T12:08:28.055Z"
   },
   {
    "duration": 64,
    "start_time": "2024-08-12T12:08:35.490Z"
   },
   {
    "duration": 8,
    "start_time": "2024-08-12T12:08:54.027Z"
   },
   {
    "duration": 10,
    "start_time": "2024-08-12T12:08:54.311Z"
   },
   {
    "duration": 7,
    "start_time": "2024-08-12T12:08:55.675Z"
   },
   {
    "duration": 9,
    "start_time": "2024-08-12T12:09:04.465Z"
   },
   {
    "duration": 11,
    "start_time": "2024-08-12T12:09:10.547Z"
   },
   {
    "duration": 6,
    "start_time": "2024-08-12T12:11:37.516Z"
   },
   {
    "duration": 11,
    "start_time": "2024-08-12T12:11:45.104Z"
   },
   {
    "duration": 10,
    "start_time": "2024-08-12T12:11:51.909Z"
   },
   {
    "duration": 8,
    "start_time": "2024-08-12T12:13:06.802Z"
   },
   {
    "duration": 10,
    "start_time": "2024-08-12T12:57:44.363Z"
   },
   {
    "duration": 7,
    "start_time": "2024-08-12T12:58:00.493Z"
   },
   {
    "duration": 3,
    "start_time": "2024-08-12T12:58:13.990Z"
   },
   {
    "duration": 8,
    "start_time": "2024-08-12T13:02:13.225Z"
   },
   {
    "duration": 9,
    "start_time": "2024-08-12T13:02:36.312Z"
   },
   {
    "duration": 7,
    "start_time": "2024-08-12T13:06:37.984Z"
   },
   {
    "duration": 4,
    "start_time": "2024-08-12T13:06:48.078Z"
   },
   {
    "duration": 1816,
    "start_time": "2024-08-12T13:06:58.768Z"
   },
   {
    "duration": 10,
    "start_time": "2024-08-12T13:07:02.424Z"
   },
   {
    "duration": 50,
    "start_time": "2024-08-12T13:07:02.450Z"
   },
   {
    "duration": 36,
    "start_time": "2024-08-12T13:07:02.515Z"
   },
   {
    "duration": 25,
    "start_time": "2024-08-12T13:07:02.554Z"
   },
   {
    "duration": 10,
    "start_time": "2024-08-12T13:07:02.606Z"
   },
   {
    "duration": 13,
    "start_time": "2024-08-12T13:07:02.653Z"
   },
   {
    "duration": 8,
    "start_time": "2024-08-12T13:07:02.713Z"
   },
   {
    "duration": 12,
    "start_time": "2024-08-12T13:07:02.744Z"
   },
   {
    "duration": 5,
    "start_time": "2024-08-12T13:07:03.023Z"
   },
   {
    "duration": 11,
    "start_time": "2024-08-12T13:07:03.526Z"
   },
   {
    "duration": 7,
    "start_time": "2024-08-12T13:07:03.601Z"
   },
   {
    "duration": 10,
    "start_time": "2024-08-12T13:07:03.633Z"
   },
   {
    "duration": 4,
    "start_time": "2024-08-12T13:07:04.179Z"
   },
   {
    "duration": 4,
    "start_time": "2024-08-12T13:07:06.089Z"
   },
   {
    "duration": 180,
    "start_time": "2024-08-12T13:07:16.693Z"
   },
   {
    "duration": 52,
    "start_time": "2024-08-12T13:08:36.216Z"
   },
   {
    "duration": 3,
    "start_time": "2024-08-12T13:08:57.899Z"
   },
   {
    "duration": 183,
    "start_time": "2024-08-12T13:08:58.165Z"
   },
   {
    "duration": 6,
    "start_time": "2024-08-12T13:10:51.017Z"
   },
   {
    "duration": 6,
    "start_time": "2024-08-12T13:12:49.393Z"
   },
   {
    "duration": 1217,
    "start_time": "2024-08-12T13:15:44.780Z"
   },
   {
    "duration": 7,
    "start_time": "2024-08-12T13:16:11.104Z"
   },
   {
    "duration": 6,
    "start_time": "2024-08-12T13:16:30.147Z"
   },
   {
    "duration": 4,
    "start_time": "2024-08-12T13:17:02.223Z"
   },
   {
    "duration": 100,
    "start_time": "2024-08-12T13:17:02.553Z"
   },
   {
    "duration": 6,
    "start_time": "2024-08-12T13:19:13.285Z"
   },
   {
    "duration": 225,
    "start_time": "2024-08-12T13:21:39.081Z"
   },
   {
    "duration": 5,
    "start_time": "2024-08-12T13:22:11.234Z"
   },
   {
    "duration": 587,
    "start_time": "2024-08-12T13:27:01.281Z"
   },
   {
    "duration": 597,
    "start_time": "2024-08-12T13:33:49.369Z"
   },
   {
    "duration": 1121,
    "start_time": "2024-08-12T13:35:09.928Z"
   },
   {
    "duration": 462,
    "start_time": "2024-08-12T13:35:29.396Z"
   },
   {
    "duration": 47,
    "start_time": "2024-08-13T12:03:56.125Z"
   },
   {
    "duration": 1649,
    "start_time": "2024-08-13T12:04:01.199Z"
   },
   {
    "duration": 12,
    "start_time": "2024-08-13T12:04:03.814Z"
   },
   {
    "duration": 8,
    "start_time": "2024-08-13T12:04:03.987Z"
   },
   {
    "duration": 7,
    "start_time": "2024-08-13T12:04:04.523Z"
   },
   {
    "duration": 26,
    "start_time": "2024-08-13T12:04:04.554Z"
   },
   {
    "duration": 8,
    "start_time": "2024-08-13T12:04:04.635Z"
   },
   {
    "duration": 11,
    "start_time": "2024-08-13T12:04:04.663Z"
   },
   {
    "duration": 7,
    "start_time": "2024-08-13T12:04:04.728Z"
   },
   {
    "duration": 13,
    "start_time": "2024-08-13T12:04:04.758Z"
   },
   {
    "duration": 5,
    "start_time": "2024-08-13T12:04:04.822Z"
   },
   {
    "duration": 13,
    "start_time": "2024-08-13T12:04:04.853Z"
   },
   {
    "duration": 7,
    "start_time": "2024-08-13T12:04:04.930Z"
   },
   {
    "duration": 11,
    "start_time": "2024-08-13T12:04:04.961Z"
   },
   {
    "duration": 89,
    "start_time": "2024-08-13T12:04:04.993Z"
   },
   {
    "duration": 4,
    "start_time": "2024-08-13T12:04:05.149Z"
   },
   {
    "duration": 5,
    "start_time": "2024-08-13T12:04:05.196Z"
   },
   {
    "duration": 183,
    "start_time": "2024-08-13T12:04:05.227Z"
   },
   {
    "duration": 3,
    "start_time": "2024-08-13T12:04:05.412Z"
   },
   {
    "duration": 21,
    "start_time": "2024-08-13T12:04:05.417Z"
   },
   {
    "duration": 132,
    "start_time": "2024-08-13T12:04:05.440Z"
   },
   {
    "duration": 6,
    "start_time": "2024-08-13T12:04:05.574Z"
   },
   {
    "duration": 222,
    "start_time": "2024-08-13T12:04:05.581Z"
   },
   {
    "duration": 485,
    "start_time": "2024-08-13T12:04:05.831Z"
   },
   {
    "duration": 361,
    "start_time": "2024-08-13T12:04:06.863Z"
   },
   {
    "duration": 89,
    "start_time": "2024-08-13T12:04:08.382Z"
   },
   {
    "duration": 21,
    "start_time": "2024-08-13T12:04:13.492Z"
   },
   {
    "duration": 8,
    "start_time": "2024-08-13T12:04:25.832Z"
   },
   {
    "duration": 6,
    "start_time": "2024-08-13T12:04:38.682Z"
   },
   {
    "duration": 13,
    "start_time": "2024-08-13T12:04:52.408Z"
   },
   {
    "duration": 20,
    "start_time": "2024-08-13T12:04:54.379Z"
   },
   {
    "duration": 7,
    "start_time": "2024-08-13T12:10:33.950Z"
   },
   {
    "duration": 75,
    "start_time": "2024-08-13T12:10:51.530Z"
   },
   {
    "duration": 8,
    "start_time": "2024-08-13T12:10:57.605Z"
   },
   {
    "duration": 12,
    "start_time": "2024-08-13T12:11:04.065Z"
   },
   {
    "duration": 12,
    "start_time": "2024-08-13T12:11:20.451Z"
   },
   {
    "duration": 16,
    "start_time": "2024-08-13T12:11:49.444Z"
   },
   {
    "duration": 17,
    "start_time": "2024-08-13T12:14:08.052Z"
   },
   {
    "duration": 645,
    "start_time": "2024-08-13T12:14:23.263Z"
   },
   {
    "duration": 603,
    "start_time": "2024-08-13T12:15:09.256Z"
   },
   {
    "duration": 587,
    "start_time": "2024-08-13T12:17:12.245Z"
   },
   {
    "duration": 10,
    "start_time": "2024-08-13T12:36:07.572Z"
   },
   {
    "duration": 180,
    "start_time": "2024-08-13T12:36:22.424Z"
   },
   {
    "duration": 8,
    "start_time": "2024-08-13T12:36:23.313Z"
   },
   {
    "duration": 8,
    "start_time": "2024-08-13T12:36:23.345Z"
   },
   {
    "duration": 6,
    "start_time": "2024-08-13T12:36:23.411Z"
   },
   {
    "duration": 9,
    "start_time": "2024-08-13T12:36:23.437Z"
   },
   {
    "duration": 8,
    "start_time": "2024-08-13T12:36:23.500Z"
   },
   {
    "duration": 11,
    "start_time": "2024-08-13T12:36:23.547Z"
   },
   {
    "duration": 7,
    "start_time": "2024-08-13T12:36:23.608Z"
   },
   {
    "duration": 10,
    "start_time": "2024-08-13T12:36:23.642Z"
   },
   {
    "duration": 5,
    "start_time": "2024-08-13T12:36:23.704Z"
   },
   {
    "duration": 10,
    "start_time": "2024-08-13T12:36:23.738Z"
   },
   {
    "duration": 7,
    "start_time": "2024-08-13T12:36:23.812Z"
   },
   {
    "duration": 10,
    "start_time": "2024-08-13T12:36:23.842Z"
   },
   {
    "duration": 4,
    "start_time": "2024-08-13T12:36:23.874Z"
   },
   {
    "duration": 4,
    "start_time": "2024-08-13T12:36:24.031Z"
   },
   {
    "duration": 5,
    "start_time": "2024-08-13T12:36:24.062Z"
   },
   {
    "duration": 160,
    "start_time": "2024-08-13T12:36:24.093Z"
   },
   {
    "duration": 3,
    "start_time": "2024-08-13T12:36:24.255Z"
   },
   {
    "duration": 7,
    "start_time": "2024-08-13T12:36:24.259Z"
   },
   {
    "duration": 104,
    "start_time": "2024-08-13T12:36:24.267Z"
   },
   {
    "duration": 5,
    "start_time": "2024-08-13T12:36:24.373Z"
   },
   {
    "duration": 210,
    "start_time": "2024-08-13T12:36:24.404Z"
   },
   {
    "duration": 540,
    "start_time": "2024-08-13T12:36:24.616Z"
   },
   {
    "duration": 385,
    "start_time": "2024-08-13T12:36:25.158Z"
   },
   {
    "duration": 7,
    "start_time": "2024-08-13T12:36:25.545Z"
   },
   {
    "duration": 27,
    "start_time": "2024-08-13T12:36:25.554Z"
   },
   {
    "duration": 70,
    "start_time": "2024-08-13T12:36:25.582Z"
   },
   {
    "duration": 41,
    "start_time": "2024-08-13T12:36:25.653Z"
   },
   {
    "duration": 40,
    "start_time": "2024-08-13T12:36:25.696Z"
   },
   {
    "duration": 33,
    "start_time": "2024-08-13T12:36:25.738Z"
   },
   {
    "duration": 42,
    "start_time": "2024-08-13T12:36:25.772Z"
   },
   {
    "duration": 705,
    "start_time": "2024-08-13T12:36:25.815Z"
   },
   {
    "duration": 562,
    "start_time": "2024-08-13T12:36:26.522Z"
   },
   {
    "duration": 8,
    "start_time": "2024-08-13T12:36:27.085Z"
   },
   {
    "duration": 4,
    "start_time": "2024-08-13T12:36:33.500Z"
   },
   {
    "duration": 6,
    "start_time": "2024-08-13T12:37:32.331Z"
   },
   {
    "duration": 1475,
    "start_time": "2024-08-13T12:37:59.227Z"
   },
   {
    "duration": 12,
    "start_time": "2024-08-13T12:38:02.034Z"
   },
   {
    "duration": 31,
    "start_time": "2024-08-13T12:38:02.064Z"
   },
   {
    "duration": 25,
    "start_time": "2024-08-13T12:38:02.128Z"
   },
   {
    "duration": 141,
    "start_time": "2024-08-13T12:38:02.174Z"
   },
   {
    "duration": 100,
    "start_time": "2024-08-13T12:38:02.317Z"
   },
   {
    "duration": 12,
    "start_time": "2024-08-13T12:38:02.419Z"
   },
   {
    "duration": 7,
    "start_time": "2024-08-13T12:38:02.432Z"
   },
   {
    "duration": 25,
    "start_time": "2024-08-13T12:38:02.441Z"
   },
   {
    "duration": 17,
    "start_time": "2024-08-13T12:38:02.467Z"
   },
   {
    "duration": 28,
    "start_time": "2024-08-13T12:38:02.486Z"
   },
   {
    "duration": 7,
    "start_time": "2024-08-13T12:38:02.537Z"
   },
   {
    "duration": 8,
    "start_time": "2024-08-13T12:38:02.568Z"
   },
   {
    "duration": 3,
    "start_time": "2024-08-13T12:38:02.600Z"
   },
   {
    "duration": 4,
    "start_time": "2024-08-13T12:38:02.758Z"
   },
   {
    "duration": 5,
    "start_time": "2024-08-13T12:38:03.077Z"
   },
   {
    "duration": 197,
    "start_time": "2024-08-13T12:38:03.281Z"
   },
   {
    "duration": 4,
    "start_time": "2024-08-13T12:38:03.859Z"
   },
   {
    "duration": 5,
    "start_time": "2024-08-13T12:38:04.032Z"
   },
   {
    "duration": 82,
    "start_time": "2024-08-13T12:38:04.202Z"
   },
   {
    "duration": 5,
    "start_time": "2024-08-13T12:38:04.796Z"
   },
   {
    "duration": 206,
    "start_time": "2024-08-13T12:38:05.056Z"
   },
   {
    "duration": 493,
    "start_time": "2024-08-13T12:38:06.119Z"
   },
   {
    "duration": 420,
    "start_time": "2024-08-13T12:38:06.993Z"
   },
   {
    "duration": 8,
    "start_time": "2024-08-13T12:38:08.864Z"
   },
   {
    "duration": 7,
    "start_time": "2024-08-13T12:38:09.137Z"
   },
   {
    "duration": 13,
    "start_time": "2024-08-13T12:38:09.451Z"
   },
   {
    "duration": 20,
    "start_time": "2024-08-13T12:38:09.995Z"
   },
   {
    "duration": 10,
    "start_time": "2024-08-13T12:38:13.193Z"
   },
   {
    "duration": 12,
    "start_time": "2024-08-13T12:38:13.462Z"
   },
   {
    "duration": 12,
    "start_time": "2024-08-13T12:38:13.757Z"
   },
   {
    "duration": 563,
    "start_time": "2024-08-13T12:38:16.562Z"
   },
   {
    "duration": 703,
    "start_time": "2024-08-13T12:38:17.424Z"
   },
   {
    "duration": 95,
    "start_time": "2024-08-13T12:38:45.925Z"
   },
   {
    "duration": 4,
    "start_time": "2024-08-13T12:38:53.786Z"
   },
   {
    "duration": 5,
    "start_time": "2024-08-13T12:38:55.294Z"
   },
   {
    "duration": 10,
    "start_time": "2024-08-13T12:39:16.408Z"
   },
   {
    "duration": 20,
    "start_time": "2024-08-13T12:39:21.673Z"
   },
   {
    "duration": 3,
    "start_time": "2024-08-13T12:39:37.648Z"
   },
   {
    "duration": 9,
    "start_time": "2024-08-13T12:39:43.700Z"
   },
   {
    "duration": 10,
    "start_time": "2024-08-13T12:43:39.737Z"
   },
   {
    "duration": 109,
    "start_time": "2024-08-13T12:44:27.955Z"
   },
   {
    "duration": 1291,
    "start_time": "2024-08-13T12:44:33.635Z"
   },
   {
    "duration": 11,
    "start_time": "2024-08-13T12:44:35.630Z"
   },
   {
    "duration": 7,
    "start_time": "2024-08-13T12:44:35.810Z"
   },
   {
    "duration": 11,
    "start_time": "2024-08-13T12:44:36.343Z"
   },
   {
    "duration": 72,
    "start_time": "2024-08-13T12:44:36.390Z"
   },
   {
    "duration": 18,
    "start_time": "2024-08-13T12:44:36.465Z"
   },
   {
    "duration": 38,
    "start_time": "2024-08-13T12:44:36.485Z"
   },
   {
    "duration": 8,
    "start_time": "2024-08-13T12:44:36.550Z"
   },
   {
    "duration": 10,
    "start_time": "2024-08-13T12:44:36.581Z"
   },
   {
    "duration": 8,
    "start_time": "2024-08-13T12:44:36.645Z"
   },
   {
    "duration": 10,
    "start_time": "2024-08-13T12:44:36.678Z"
   },
   {
    "duration": 7,
    "start_time": "2024-08-13T12:44:36.753Z"
   },
   {
    "duration": 10,
    "start_time": "2024-08-13T12:44:36.786Z"
   },
   {
    "duration": 3,
    "start_time": "2024-08-13T12:44:36.816Z"
   },
   {
    "duration": 3,
    "start_time": "2024-08-13T12:44:37.623Z"
   },
   {
    "duration": 6,
    "start_time": "2024-08-13T12:44:37.661Z"
   },
   {
    "duration": 193,
    "start_time": "2024-08-13T12:44:37.701Z"
   },
   {
    "duration": 5,
    "start_time": "2024-08-13T12:44:37.896Z"
   },
   {
    "duration": 13,
    "start_time": "2024-08-13T12:44:37.902Z"
   },
   {
    "duration": 128,
    "start_time": "2024-08-13T12:44:37.917Z"
   },
   {
    "duration": 8,
    "start_time": "2024-08-13T12:44:38.047Z"
   },
   {
    "duration": 275,
    "start_time": "2024-08-13T12:44:38.056Z"
   },
   {
    "duration": 507,
    "start_time": "2024-08-13T12:44:38.333Z"
   },
   {
    "duration": 403,
    "start_time": "2024-08-13T12:44:38.842Z"
   },
   {
    "duration": 14,
    "start_time": "2024-08-13T12:44:39.248Z"
   },
   {
    "duration": 26,
    "start_time": "2024-08-13T12:44:39.264Z"
   },
   {
    "duration": 52,
    "start_time": "2024-08-13T12:44:39.291Z"
   },
   {
    "duration": 18,
    "start_time": "2024-08-13T12:44:39.346Z"
   },
   {
    "duration": 16,
    "start_time": "2024-08-13T12:44:39.366Z"
   },
   {
    "duration": 22,
    "start_time": "2024-08-13T12:44:39.463Z"
   },
   {
    "duration": 14,
    "start_time": "2024-08-13T12:44:39.701Z"
   },
   {
    "duration": 780,
    "start_time": "2024-08-13T12:44:41.118Z"
   },
   {
    "duration": 698,
    "start_time": "2024-08-13T12:44:41.900Z"
   },
   {
    "duration": 3,
    "start_time": "2024-08-13T12:44:45.887Z"
   },
   {
    "duration": 11,
    "start_time": "2024-08-13T12:44:55.873Z"
   },
   {
    "duration": 9,
    "start_time": "2024-08-13T12:44:56.806Z"
   },
   {
    "duration": 4,
    "start_time": "2024-08-13T12:54:26.301Z"
   },
   {
    "duration": 109,
    "start_time": "2024-08-13T12:54:51.961Z"
   },
   {
    "duration": 19,
    "start_time": "2024-08-13T12:55:04.368Z"
   },
   {
    "duration": 16,
    "start_time": "2024-08-13T12:56:48.278Z"
   },
   {
    "duration": 23,
    "start_time": "2024-08-13T12:56:57.040Z"
   },
   {
    "duration": 25,
    "start_time": "2024-08-13T12:57:05.232Z"
   },
   {
    "duration": 31,
    "start_time": "2024-08-13T12:57:15.354Z"
   },
   {
    "duration": 47,
    "start_time": "2024-08-13T12:58:32.253Z"
   },
   {
    "duration": 21,
    "start_time": "2024-08-13T12:59:04.991Z"
   },
   {
    "duration": 25,
    "start_time": "2024-08-13T12:59:07.877Z"
   },
   {
    "duration": 38,
    "start_time": "2024-08-13T13:01:03.287Z"
   },
   {
    "duration": 49,
    "start_time": "2024-08-13T13:01:38.211Z"
   },
   {
    "duration": 9,
    "start_time": "2024-08-13T13:01:47.673Z"
   },
   {
    "duration": 8,
    "start_time": "2024-08-13T13:02:03.398Z"
   },
   {
    "duration": 12,
    "start_time": "2024-08-13T13:02:16.579Z"
   },
   {
    "duration": 1730,
    "start_time": "2024-08-15T15:00:45.312Z"
   },
   {
    "duration": 12,
    "start_time": "2024-08-15T15:00:48.083Z"
   },
   {
    "duration": 6,
    "start_time": "2024-08-15T15:00:48.318Z"
   },
   {
    "duration": 13,
    "start_time": "2024-08-15T15:00:48.851Z"
   },
   {
    "duration": 10,
    "start_time": "2024-08-15T15:00:48.899Z"
   },
   {
    "duration": 17,
    "start_time": "2024-08-15T15:00:48.962Z"
   },
   {
    "duration": 11,
    "start_time": "2024-08-15T15:00:48.993Z"
   },
   {
    "duration": 15,
    "start_time": "2024-08-15T15:00:49.060Z"
   },
   {
    "duration": 9,
    "start_time": "2024-08-15T15:00:49.093Z"
   },
   {
    "duration": 7,
    "start_time": "2024-08-15T15:00:49.149Z"
   },
   {
    "duration": 10,
    "start_time": "2024-08-15T15:00:49.200Z"
   },
   {
    "duration": 16,
    "start_time": "2024-08-15T15:00:49.264Z"
   },
   {
    "duration": 11,
    "start_time": "2024-08-15T15:00:49.287Z"
   },
   {
    "duration": 4,
    "start_time": "2024-08-15T15:00:49.320Z"
   },
   {
    "duration": 3,
    "start_time": "2024-08-15T15:00:49.489Z"
   },
   {
    "duration": 5,
    "start_time": "2024-08-15T15:00:49.521Z"
   },
   {
    "duration": 201,
    "start_time": "2024-08-15T15:00:49.560Z"
   },
   {
    "duration": 12,
    "start_time": "2024-08-15T15:00:49.763Z"
   },
   {
    "duration": 5,
    "start_time": "2024-08-15T15:00:49.780Z"
   },
   {
    "duration": 98,
    "start_time": "2024-08-15T15:00:49.787Z"
   },
   {
    "duration": 5,
    "start_time": "2024-08-15T15:00:49.886Z"
   },
   {
    "duration": 230,
    "start_time": "2024-08-15T15:00:49.892Z"
   },
   {
    "duration": 552,
    "start_time": "2024-08-15T15:00:50.124Z"
   },
   {
    "duration": 386,
    "start_time": "2024-08-15T15:00:50.677Z"
   },
   {
    "duration": 11,
    "start_time": "2024-08-15T15:00:51.065Z"
   },
   {
    "duration": 10,
    "start_time": "2024-08-15T15:00:51.078Z"
   },
   {
    "duration": 17,
    "start_time": "2024-08-15T15:00:51.089Z"
   },
   {
    "duration": 17,
    "start_time": "2024-08-15T15:00:51.107Z"
   },
   {
    "duration": 59,
    "start_time": "2024-08-15T15:00:51.126Z"
   },
   {
    "duration": 12,
    "start_time": "2024-08-15T15:00:51.187Z"
   },
   {
    "duration": 33,
    "start_time": "2024-08-15T15:00:51.201Z"
   },
   {
    "duration": 647,
    "start_time": "2024-08-15T15:00:51.236Z"
   },
   {
    "duration": 638,
    "start_time": "2024-08-15T15:00:51.885Z"
   },
   {
    "duration": 4,
    "start_time": "2024-08-15T15:00:52.525Z"
   },
   {
    "duration": 42,
    "start_time": "2024-08-15T15:00:52.530Z"
   },
   {
    "duration": 8,
    "start_time": "2024-08-15T15:00:52.576Z"
   },
   {
    "duration": 4,
    "start_time": "2024-08-15T15:00:52.585Z"
   },
   {
    "duration": 17,
    "start_time": "2024-08-15T15:00:52.590Z"
   },
   {
    "duration": 25,
    "start_time": "2024-08-15T15:00:52.608Z"
   },
   {
    "duration": 94,
    "start_time": "2024-08-15T15:00:52.634Z"
   },
   {
    "duration": 49,
    "start_time": "2024-08-15T15:00:52.730Z"
   },
   {
    "duration": 8,
    "start_time": "2024-08-15T15:00:52.781Z"
   },
   {
    "duration": 25,
    "start_time": "2024-08-15T15:00:52.790Z"
   },
   {
    "duration": 100,
    "start_time": "2024-08-15T15:15:58.666Z"
   },
   {
    "duration": 104,
    "start_time": "2024-08-15T15:16:30.801Z"
   },
   {
    "duration": 12,
    "start_time": "2024-08-15T15:17:50.164Z"
   },
   {
    "duration": 9,
    "start_time": "2024-08-15T15:20:00.064Z"
   },
   {
    "duration": 8,
    "start_time": "2024-08-15T15:20:03.757Z"
   },
   {
    "duration": 5,
    "start_time": "2024-08-15T15:20:24.104Z"
   },
   {
    "duration": 5,
    "start_time": "2024-08-15T15:20:27.636Z"
   },
   {
    "duration": 6,
    "start_time": "2024-08-15T15:21:06.068Z"
   },
   {
    "duration": 8,
    "start_time": "2024-08-15T15:21:18.252Z"
   },
   {
    "duration": 8,
    "start_time": "2024-08-15T15:22:53.791Z"
   },
   {
    "duration": 105,
    "start_time": "2024-08-15T15:23:08.781Z"
   },
   {
    "duration": 7,
    "start_time": "2024-08-15T15:23:11.784Z"
   },
   {
    "duration": 4,
    "start_time": "2024-08-15T15:23:24.600Z"
   },
   {
    "duration": 7,
    "start_time": "2024-08-15T15:27:51.760Z"
   },
   {
    "duration": 9,
    "start_time": "2024-08-15T15:32:10.503Z"
   },
   {
    "duration": 4,
    "start_time": "2024-08-15T15:32:16.588Z"
   },
   {
    "duration": 5,
    "start_time": "2024-08-15T15:32:29.215Z"
   },
   {
    "duration": 4,
    "start_time": "2024-08-15T15:32:57.995Z"
   },
   {
    "duration": 5,
    "start_time": "2024-08-15T15:32:58.365Z"
   },
   {
    "duration": 4,
    "start_time": "2024-08-15T15:33:03.983Z"
   },
   {
    "duration": 5,
    "start_time": "2024-08-15T15:33:04.383Z"
   },
   {
    "duration": 5,
    "start_time": "2024-08-15T15:37:00.183Z"
   },
   {
    "duration": 5,
    "start_time": "2024-08-15T15:37:00.467Z"
   },
   {
    "duration": 4,
    "start_time": "2024-08-15T15:49:45.961Z"
   },
   {
    "duration": 5,
    "start_time": "2024-08-15T15:49:46.507Z"
   },
   {
    "duration": 5,
    "start_time": "2024-08-15T16:02:16.060Z"
   },
   {
    "duration": 6,
    "start_time": "2024-08-15T16:02:47.883Z"
   },
   {
    "duration": 7,
    "start_time": "2024-08-15T16:03:08.853Z"
   },
   {
    "duration": 6,
    "start_time": "2024-08-15T16:10:00.224Z"
   },
   {
    "duration": 5,
    "start_time": "2024-08-15T16:10:15.374Z"
   },
   {
    "duration": 5,
    "start_time": "2024-08-15T16:10:26.254Z"
   },
   {
    "duration": 4,
    "start_time": "2024-08-15T16:10:30.299Z"
   },
   {
    "duration": 7,
    "start_time": "2024-08-15T16:11:22.478Z"
   },
   {
    "duration": 5,
    "start_time": "2024-08-15T16:11:28.306Z"
   },
   {
    "duration": 8,
    "start_time": "2024-08-15T17:24:38.925Z"
   },
   {
    "duration": 10,
    "start_time": "2024-08-15T17:27:16.417Z"
   },
   {
    "duration": 10,
    "start_time": "2024-08-15T17:27:55.211Z"
   },
   {
    "duration": 6,
    "start_time": "2024-08-15T17:30:59.213Z"
   },
   {
    "duration": 5,
    "start_time": "2024-08-15T17:31:08.060Z"
   },
   {
    "duration": 7,
    "start_time": "2024-08-15T17:31:10.323Z"
   },
   {
    "duration": 1765,
    "start_time": "2024-08-16T09:14:17.464Z"
   },
   {
    "duration": 13,
    "start_time": "2024-08-16T09:14:19.231Z"
   },
   {
    "duration": 12,
    "start_time": "2024-08-16T09:14:19.246Z"
   },
   {
    "duration": 18,
    "start_time": "2024-08-16T09:14:19.259Z"
   },
   {
    "duration": 23,
    "start_time": "2024-08-16T09:14:19.279Z"
   },
   {
    "duration": 10,
    "start_time": "2024-08-16T09:14:19.303Z"
   },
   {
    "duration": 28,
    "start_time": "2024-08-16T09:14:19.315Z"
   },
   {
    "duration": 9,
    "start_time": "2024-08-16T09:14:19.344Z"
   },
   {
    "duration": 23,
    "start_time": "2024-08-16T09:14:19.355Z"
   },
   {
    "duration": 5,
    "start_time": "2024-08-16T09:14:19.381Z"
   },
   {
    "duration": 20,
    "start_time": "2024-08-16T09:14:19.387Z"
   },
   {
    "duration": 18,
    "start_time": "2024-08-16T09:14:19.409Z"
   },
   {
    "duration": 19,
    "start_time": "2024-08-16T09:14:19.429Z"
   },
   {
    "duration": 26,
    "start_time": "2024-08-16T09:14:19.450Z"
   },
   {
    "duration": 9,
    "start_time": "2024-08-16T09:14:19.478Z"
   },
   {
    "duration": 22,
    "start_time": "2024-08-16T09:14:19.488Z"
   },
   {
    "duration": 205,
    "start_time": "2024-08-16T09:14:19.512Z"
   },
   {
    "duration": 4,
    "start_time": "2024-08-16T09:14:19.719Z"
   },
   {
    "duration": 17,
    "start_time": "2024-08-16T09:14:19.725Z"
   },
   {
    "duration": 113,
    "start_time": "2024-08-16T09:14:19.744Z"
   },
   {
    "duration": 7,
    "start_time": "2024-08-16T09:14:19.859Z"
   },
   {
    "duration": 274,
    "start_time": "2024-08-16T09:14:19.868Z"
   },
   {
    "duration": 559,
    "start_time": "2024-08-16T09:14:20.144Z"
   },
   {
    "duration": 501,
    "start_time": "2024-08-16T09:14:20.705Z"
   },
   {
    "duration": 8,
    "start_time": "2024-08-16T09:14:21.207Z"
   },
   {
    "duration": 33,
    "start_time": "2024-08-16T09:14:21.216Z"
   },
   {
    "duration": 40,
    "start_time": "2024-08-16T09:14:21.250Z"
   },
   {
    "duration": 22,
    "start_time": "2024-08-16T09:14:21.294Z"
   },
   {
    "duration": 16,
    "start_time": "2024-08-16T09:14:21.318Z"
   },
   {
    "duration": 25,
    "start_time": "2024-08-16T09:14:21.336Z"
   },
   {
    "duration": 37,
    "start_time": "2024-08-16T09:14:21.363Z"
   },
   {
    "duration": 708,
    "start_time": "2024-08-16T09:14:21.401Z"
   },
   {
    "duration": 747,
    "start_time": "2024-08-16T09:14:22.111Z"
   },
   {
    "duration": 14,
    "start_time": "2024-08-16T09:14:22.859Z"
   },
   {
    "duration": 25,
    "start_time": "2024-08-16T09:14:22.876Z"
   },
   {
    "duration": 9,
    "start_time": "2024-08-16T09:14:22.903Z"
   },
   {
    "duration": 15,
    "start_time": "2024-08-16T09:14:22.913Z"
   },
   {
    "duration": 26,
    "start_time": "2024-08-16T09:14:22.929Z"
   },
   {
    "duration": 39,
    "start_time": "2024-08-16T09:14:22.956Z"
   },
   {
    "duration": 45,
    "start_time": "2024-08-16T09:14:22.997Z"
   },
   {
    "duration": 61,
    "start_time": "2024-08-16T09:14:23.044Z"
   },
   {
    "duration": 9,
    "start_time": "2024-08-16T09:14:23.106Z"
   },
   {
    "duration": 63,
    "start_time": "2024-08-16T09:14:23.117Z"
   },
   {
    "duration": 21,
    "start_time": "2024-08-16T09:14:23.181Z"
   },
   {
    "duration": 5,
    "start_time": "2024-08-16T09:14:23.204Z"
   },
   {
    "duration": 6,
    "start_time": "2024-08-16T09:14:23.210Z"
   },
   {
    "duration": 7,
    "start_time": "2024-08-16T09:14:23.217Z"
   },
   {
    "duration": 17,
    "start_time": "2024-08-16T09:14:23.225Z"
   },
   {
    "duration": 14,
    "start_time": "2024-08-16T09:14:23.243Z"
   },
   {
    "duration": 34,
    "start_time": "2024-08-16T09:14:23.259Z"
   },
   {
    "duration": 15,
    "start_time": "2024-08-16T09:14:23.295Z"
   },
   {
    "duration": 3,
    "start_time": "2024-08-16T09:36:15.223Z"
   },
   {
    "duration": 105,
    "start_time": "2024-08-16T09:42:15.021Z"
   },
   {
    "duration": 14,
    "start_time": "2024-08-16T09:42:19.760Z"
   },
   {
    "duration": 132,
    "start_time": "2024-08-16T09:42:26.250Z"
   },
   {
    "duration": 11,
    "start_time": "2024-08-16T09:42:48.237Z"
   },
   {
    "duration": 135,
    "start_time": "2024-08-16T09:43:24.620Z"
   },
   {
    "duration": 1858,
    "start_time": "2024-08-16T09:43:46.107Z"
   },
   {
    "duration": 197,
    "start_time": "2024-08-16T09:44:16.503Z"
   },
   {
    "duration": 1884,
    "start_time": "2024-08-16T09:44:22.095Z"
   },
   {
    "duration": 1860,
    "start_time": "2024-08-16T09:47:02.018Z"
   },
   {
    "duration": 1875,
    "start_time": "2024-08-16T09:47:24.084Z"
   },
   {
    "duration": 1933,
    "start_time": "2024-08-16T09:47:31.861Z"
   },
   {
    "duration": 1963,
    "start_time": "2024-08-16T09:47:46.563Z"
   },
   {
    "duration": 588,
    "start_time": "2024-08-16T09:48:22.077Z"
   },
   {
    "duration": 258,
    "start_time": "2024-08-16T09:48:27.024Z"
   },
   {
    "duration": 1717,
    "start_time": "2024-08-16T09:48:36.222Z"
   },
   {
    "duration": 2043,
    "start_time": "2024-08-16T09:49:04.450Z"
   },
   {
    "duration": 4,
    "start_time": "2024-08-16T10:28:22.210Z"
   },
   {
    "duration": 15,
    "start_time": "2024-08-16T10:38:25.791Z"
   },
   {
    "duration": 4,
    "start_time": "2024-08-16T10:38:29.609Z"
   },
   {
    "duration": 5,
    "start_time": "2024-08-16T10:38:36.595Z"
   },
   {
    "duration": 171,
    "start_time": "2024-08-16T10:41:35.143Z"
   },
   {
    "duration": 343,
    "start_time": "2024-08-16T10:41:40.163Z"
   },
   {
    "duration": 3,
    "start_time": "2024-08-16T10:42:14.976Z"
   },
   {
    "duration": 1333,
    "start_time": "2024-08-16T11:12:51.080Z"
   },
   {
    "duration": 13,
    "start_time": "2024-08-16T11:12:52.415Z"
   },
   {
    "duration": 10,
    "start_time": "2024-08-16T11:12:52.429Z"
   },
   {
    "duration": 17,
    "start_time": "2024-08-16T11:12:52.441Z"
   },
   {
    "duration": 11,
    "start_time": "2024-08-16T11:12:52.459Z"
   },
   {
    "duration": 10,
    "start_time": "2024-08-16T11:12:52.472Z"
   },
   {
    "duration": 12,
    "start_time": "2024-08-16T11:12:52.483Z"
   },
   {
    "duration": 7,
    "start_time": "2024-08-16T11:12:52.497Z"
   },
   {
    "duration": 11,
    "start_time": "2024-08-16T11:12:52.506Z"
   },
   {
    "duration": 5,
    "start_time": "2024-08-16T11:12:52.519Z"
   },
   {
    "duration": 41,
    "start_time": "2024-08-16T11:12:52.525Z"
   },
   {
    "duration": 23,
    "start_time": "2024-08-16T11:12:52.568Z"
   },
   {
    "duration": 10,
    "start_time": "2024-08-16T11:12:52.592Z"
   },
   {
    "duration": 10,
    "start_time": "2024-08-16T11:12:52.604Z"
   },
   {
    "duration": 5,
    "start_time": "2024-08-16T11:12:52.615Z"
   },
   {
    "duration": 13,
    "start_time": "2024-08-16T11:12:52.621Z"
   },
   {
    "duration": 220,
    "start_time": "2024-08-16T11:12:52.636Z"
   },
   {
    "duration": 4,
    "start_time": "2024-08-16T11:12:52.857Z"
   },
   {
    "duration": 9,
    "start_time": "2024-08-16T11:12:52.862Z"
   },
   {
    "duration": 118,
    "start_time": "2024-08-16T11:12:52.872Z"
   },
   {
    "duration": 7,
    "start_time": "2024-08-16T11:12:52.992Z"
   },
   {
    "duration": 246,
    "start_time": "2024-08-16T11:12:53.001Z"
   },
   {
    "duration": 628,
    "start_time": "2024-08-16T11:12:53.248Z"
   },
   {
    "duration": 489,
    "start_time": "2024-08-16T11:12:53.878Z"
   },
   {
    "duration": 8,
    "start_time": "2024-08-16T11:12:54.368Z"
   },
   {
    "duration": 7,
    "start_time": "2024-08-16T11:12:54.378Z"
   },
   {
    "duration": 14,
    "start_time": "2024-08-16T11:12:54.387Z"
   },
   {
    "duration": 18,
    "start_time": "2024-08-16T11:12:54.405Z"
   },
   {
    "duration": 10,
    "start_time": "2024-08-16T11:12:54.424Z"
   },
   {
    "duration": 38,
    "start_time": "2024-08-16T11:12:54.435Z"
   },
   {
    "duration": 36,
    "start_time": "2024-08-16T11:12:54.474Z"
   },
   {
    "duration": 675,
    "start_time": "2024-08-16T11:12:54.511Z"
   },
   {
    "duration": 682,
    "start_time": "2024-08-16T11:12:55.188Z"
   },
   {
    "duration": 4,
    "start_time": "2024-08-16T11:12:55.872Z"
   },
   {
    "duration": 16,
    "start_time": "2024-08-16T11:12:55.877Z"
   },
   {
    "duration": 9,
    "start_time": "2024-08-16T11:12:55.894Z"
   },
   {
    "duration": 10,
    "start_time": "2024-08-16T11:12:55.904Z"
   },
   {
    "duration": 20,
    "start_time": "2024-08-16T11:12:55.915Z"
   },
   {
    "duration": 46,
    "start_time": "2024-08-16T11:12:55.936Z"
   },
   {
    "duration": 38,
    "start_time": "2024-08-16T11:12:55.984Z"
   },
   {
    "duration": 61,
    "start_time": "2024-08-16T11:12:56.024Z"
   },
   {
    "duration": 10,
    "start_time": "2024-08-16T11:12:56.087Z"
   },
   {
    "duration": 14,
    "start_time": "2024-08-16T11:12:56.098Z"
   },
   {
    "duration": 8,
    "start_time": "2024-08-16T11:12:56.114Z"
   },
   {
    "duration": 8,
    "start_time": "2024-08-16T11:12:56.123Z"
   },
   {
    "duration": 33,
    "start_time": "2024-08-16T11:12:56.132Z"
   },
   {
    "duration": 7,
    "start_time": "2024-08-16T11:12:56.167Z"
   },
   {
    "duration": 8,
    "start_time": "2024-08-16T11:12:56.176Z"
   },
   {
    "duration": 5,
    "start_time": "2024-08-16T11:12:56.186Z"
   },
   {
    "duration": 8,
    "start_time": "2024-08-16T11:12:56.193Z"
   },
   {
    "duration": 7,
    "start_time": "2024-08-16T11:12:56.202Z"
   },
   {
    "duration": 186,
    "start_time": "2024-08-16T11:12:56.210Z"
   },
   {
    "duration": 1860,
    "start_time": "2024-08-16T11:12:56.397Z"
   },
   {
    "duration": 3,
    "start_time": "2024-08-16T11:12:58.258Z"
   },
   {
    "duration": 8,
    "start_time": "2024-08-16T11:12:58.262Z"
   },
   {
    "duration": 335,
    "start_time": "2024-08-16T11:12:58.271Z"
   },
   {
    "duration": 1477,
    "start_time": "2024-08-16T14:08:56.543Z"
   },
   {
    "duration": 11,
    "start_time": "2024-08-16T14:08:58.022Z"
   },
   {
    "duration": 7,
    "start_time": "2024-08-16T14:08:58.034Z"
   },
   {
    "duration": 7,
    "start_time": "2024-08-16T14:08:58.042Z"
   },
   {
    "duration": 20,
    "start_time": "2024-08-16T14:08:58.051Z"
   },
   {
    "duration": 8,
    "start_time": "2024-08-16T14:08:58.072Z"
   },
   {
    "duration": 37,
    "start_time": "2024-08-16T14:08:58.082Z"
   },
   {
    "duration": 22,
    "start_time": "2024-08-16T14:08:58.120Z"
   },
   {
    "duration": 10,
    "start_time": "2024-08-16T14:08:58.143Z"
   },
   {
    "duration": 11,
    "start_time": "2024-08-16T14:08:58.155Z"
   },
   {
    "duration": 15,
    "start_time": "2024-08-16T14:08:58.167Z"
   },
   {
    "duration": 7,
    "start_time": "2024-08-16T14:08:58.184Z"
   },
   {
    "duration": 32,
    "start_time": "2024-08-16T14:08:58.192Z"
   },
   {
    "duration": 14,
    "start_time": "2024-08-16T14:08:58.225Z"
   },
   {
    "duration": 6,
    "start_time": "2024-08-16T14:08:58.240Z"
   },
   {
    "duration": 15,
    "start_time": "2024-08-16T14:08:58.248Z"
   },
   {
    "duration": 177,
    "start_time": "2024-08-16T14:08:58.264Z"
   },
   {
    "duration": 4,
    "start_time": "2024-08-16T14:08:58.442Z"
   },
   {
    "duration": 19,
    "start_time": "2024-08-16T14:08:58.447Z"
   },
   {
    "duration": 114,
    "start_time": "2024-08-16T14:08:58.468Z"
   },
   {
    "duration": 4,
    "start_time": "2024-08-16T14:08:58.584Z"
   },
   {
    "duration": 341,
    "start_time": "2024-08-16T14:08:58.590Z"
   },
   {
    "duration": 783,
    "start_time": "2024-08-16T14:08:58.932Z"
   },
   {
    "duration": 501,
    "start_time": "2024-08-16T14:08:59.717Z"
   },
   {
    "duration": 66,
    "start_time": "2024-08-16T14:09:00.220Z"
   },
   {
    "duration": 52,
    "start_time": "2024-08-16T14:09:00.288Z"
   },
   {
    "duration": 101,
    "start_time": "2024-08-16T14:09:00.341Z"
   },
   {
    "duration": 81,
    "start_time": "2024-08-16T14:09:00.446Z"
   },
   {
    "duration": 83,
    "start_time": "2024-08-16T14:09:00.528Z"
   },
   {
    "duration": 79,
    "start_time": "2024-08-16T14:09:00.613Z"
   },
   {
    "duration": 242,
    "start_time": "2024-08-16T14:09:00.694Z"
   },
   {
    "duration": 1163,
    "start_time": "2024-08-16T14:09:00.938Z"
   },
   {
    "duration": 827,
    "start_time": "2024-08-16T14:09:02.103Z"
   },
   {
    "duration": 3,
    "start_time": "2024-08-16T14:09:02.931Z"
   },
   {
    "duration": 12,
    "start_time": "2024-08-16T14:09:02.935Z"
   },
   {
    "duration": 37,
    "start_time": "2024-08-16T14:09:02.948Z"
   },
   {
    "duration": 4,
    "start_time": "2024-08-16T14:09:02.987Z"
   },
   {
    "duration": 27,
    "start_time": "2024-08-16T14:09:02.992Z"
   },
   {
    "duration": 26,
    "start_time": "2024-08-16T14:09:03.020Z"
   },
   {
    "duration": 65,
    "start_time": "2024-08-16T14:09:03.047Z"
   },
   {
    "duration": 73,
    "start_time": "2024-08-16T14:09:03.114Z"
   },
   {
    "duration": 10,
    "start_time": "2024-08-16T14:09:03.189Z"
   },
   {
    "duration": 16,
    "start_time": "2024-08-16T14:09:03.202Z"
   },
   {
    "duration": 69,
    "start_time": "2024-08-16T14:09:03.219Z"
   },
   {
    "duration": 9,
    "start_time": "2024-08-16T14:09:03.290Z"
   },
   {
    "duration": 6,
    "start_time": "2024-08-16T14:09:03.300Z"
   },
   {
    "duration": 8,
    "start_time": "2024-08-16T14:09:03.308Z"
   },
   {
    "duration": 70,
    "start_time": "2024-08-16T14:09:03.317Z"
   },
   {
    "duration": 10,
    "start_time": "2024-08-16T14:09:03.388Z"
   },
   {
    "duration": 39,
    "start_time": "2024-08-16T14:09:03.399Z"
   },
   {
    "duration": 5,
    "start_time": "2024-08-16T14:09:03.440Z"
   },
   {
    "duration": 160,
    "start_time": "2024-08-16T14:09:03.447Z"
   },
   {
    "duration": 3193,
    "start_time": "2024-08-16T14:09:03.609Z"
   },
   {
    "duration": 3,
    "start_time": "2024-08-16T14:09:06.804Z"
   },
   {
    "duration": 13,
    "start_time": "2024-08-16T14:09:06.808Z"
   },
   {
    "duration": 567,
    "start_time": "2024-08-16T14:09:06.822Z"
   },
   {
    "duration": 7,
    "start_time": "2024-08-16T19:33:48.131Z"
   },
   {
    "duration": 1316,
    "start_time": "2024-08-17T10:23:33.291Z"
   },
   {
    "duration": 307,
    "start_time": "2024-08-17T10:23:34.609Z"
   },
   {
    "duration": 12,
    "start_time": "2024-08-17T10:23:38.361Z"
   },
   {
    "duration": 8,
    "start_time": "2024-08-17T10:23:38.566Z"
   },
   {
    "duration": 8,
    "start_time": "2024-08-17T10:23:38.933Z"
   },
   {
    "duration": 11,
    "start_time": "2024-08-17T10:23:39.107Z"
   },
   {
    "duration": 10,
    "start_time": "2024-08-17T10:23:39.447Z"
   },
   {
    "duration": 12,
    "start_time": "2024-08-17T10:23:39.617Z"
   },
   {
    "duration": 7,
    "start_time": "2024-08-17T10:23:40.034Z"
   },
   {
    "duration": 10,
    "start_time": "2024-08-17T10:23:40.333Z"
   },
   {
    "duration": 4,
    "start_time": "2024-08-17T10:27:57.827Z"
   },
   {
    "duration": 4,
    "start_time": "2024-08-17T10:28:04.646Z"
   },
   {
    "duration": 17,
    "start_time": "2024-08-17T10:38:50.006Z"
   },
   {
    "duration": 111,
    "start_time": "2024-08-17T13:35:28.393Z"
   },
   {
    "duration": 4,
    "start_time": "2024-08-17T13:35:37.289Z"
   },
   {
    "duration": 4,
    "start_time": "2024-08-17T13:35:39.195Z"
   },
   {
    "duration": 6,
    "start_time": "2024-08-17T13:35:39.383Z"
   },
   {
    "duration": 188,
    "start_time": "2024-08-17T13:35:39.583Z"
   },
   {
    "duration": 4,
    "start_time": "2024-08-17T13:35:40.189Z"
   },
   {
    "duration": 5,
    "start_time": "2024-08-17T13:35:40.220Z"
   },
   {
    "duration": 101,
    "start_time": "2024-08-17T13:35:40.252Z"
   },
   {
    "duration": 5,
    "start_time": "2024-08-17T13:35:40.357Z"
   },
   {
    "duration": 216,
    "start_time": "2024-08-17T13:35:40.392Z"
   },
   {
    "duration": 15,
    "start_time": "2024-08-17T13:35:40.610Z"
   },
   {
    "duration": 520,
    "start_time": "2024-08-17T13:35:40.626Z"
   },
   {
    "duration": 400,
    "start_time": "2024-08-17T13:35:41.148Z"
   },
   {
    "duration": 9,
    "start_time": "2024-08-17T13:35:41.552Z"
   },
   {
    "duration": 10,
    "start_time": "2024-08-17T13:35:41.562Z"
   },
   {
    "duration": 30,
    "start_time": "2024-08-17T13:35:41.574Z"
   },
   {
    "duration": 3,
    "start_time": "2024-08-17T13:35:41.606Z"
   },
   {
    "duration": 18,
    "start_time": "2024-08-17T13:35:41.611Z"
   },
   {
    "duration": 8,
    "start_time": "2024-08-17T13:35:59.966Z"
   },
   {
    "duration": 16,
    "start_time": "2024-08-17T17:14:37.852Z"
   },
   {
    "duration": 13,
    "start_time": "2024-08-17T17:14:49.916Z"
   },
   {
    "duration": 4,
    "start_time": "2024-08-17T17:14:55.563Z"
   },
   {
    "duration": 6,
    "start_time": "2024-08-17T17:14:55.762Z"
   },
   {
    "duration": 187,
    "start_time": "2024-08-17T17:14:56.229Z"
   },
   {
    "duration": 4,
    "start_time": "2024-08-17T17:14:56.835Z"
   },
   {
    "duration": 5,
    "start_time": "2024-08-17T17:14:56.869Z"
   },
   {
    "duration": 169,
    "start_time": "2024-08-17T17:14:56.901Z"
   },
   {
    "duration": 5,
    "start_time": "2024-08-17T17:14:57.071Z"
   },
   {
    "duration": 251,
    "start_time": "2024-08-17T17:14:57.077Z"
   },
   {
    "duration": 24,
    "start_time": "2024-08-17T17:14:57.330Z"
   },
   {
    "duration": 521,
    "start_time": "2024-08-17T17:14:57.355Z"
   },
   {
    "duration": 474,
    "start_time": "2024-08-17T17:14:57.878Z"
   },
   {
    "duration": 8,
    "start_time": "2024-08-17T17:14:58.354Z"
   },
   {
    "duration": 8,
    "start_time": "2024-08-17T17:14:58.364Z"
   },
   {
    "duration": 14,
    "start_time": "2024-08-17T17:14:58.374Z"
   },
   {
    "duration": 3,
    "start_time": "2024-08-17T17:14:58.390Z"
   },
   {
    "duration": 22,
    "start_time": "2024-08-17T17:14:58.396Z"
   },
   {
    "duration": 34,
    "start_time": "2024-08-17T17:14:58.419Z"
   },
   {
    "duration": 12,
    "start_time": "2024-08-17T17:14:58.455Z"
   },
   {
    "duration": 14,
    "start_time": "2024-08-17T17:14:58.469Z"
   },
   {
    "duration": 679,
    "start_time": "2024-08-17T17:14:58.485Z"
   },
   {
    "duration": 548,
    "start_time": "2024-08-17T17:14:59.166Z"
   },
   {
    "duration": 4,
    "start_time": "2024-08-17T17:14:59.715Z"
   },
   {
    "duration": 27,
    "start_time": "2024-08-17T17:14:59.721Z"
   },
   {
    "duration": 8,
    "start_time": "2024-08-17T17:15:01.651Z"
   },
   {
    "duration": 3,
    "start_time": "2024-08-17T17:15:25.293Z"
   },
   {
    "duration": 100,
    "start_time": "2024-08-17T17:15:25.736Z"
   },
   {
    "duration": 8,
    "start_time": "2024-08-17T17:15:26.869Z"
   },
   {
    "duration": 7,
    "start_time": "2024-08-17T17:15:26.905Z"
   },
   {
    "duration": 7,
    "start_time": "2024-08-17T17:15:26.963Z"
   },
   {
    "duration": 10,
    "start_time": "2024-08-17T17:15:27.004Z"
   },
   {
    "duration": 9,
    "start_time": "2024-08-17T17:15:27.074Z"
   },
   {
    "duration": 13,
    "start_time": "2024-08-17T17:15:27.108Z"
   },
   {
    "duration": 9,
    "start_time": "2024-08-17T17:15:27.167Z"
   },
   {
    "duration": 13,
    "start_time": "2024-08-17T17:15:27.201Z"
   },
   {
    "duration": 4,
    "start_time": "2024-08-17T17:15:27.260Z"
   },
   {
    "duration": 3,
    "start_time": "2024-08-17T17:15:27.308Z"
   },
   {
    "duration": 5,
    "start_time": "2024-08-17T17:15:27.408Z"
   },
   {
    "duration": 11,
    "start_time": "2024-08-17T17:15:27.465Z"
   },
   {
    "duration": 8,
    "start_time": "2024-08-17T17:15:27.531Z"
   },
   {
    "duration": 10,
    "start_time": "2024-08-17T17:15:27.560Z"
   },
   {
    "duration": 4,
    "start_time": "2024-08-17T17:15:27.594Z"
   },
   {
    "duration": 4,
    "start_time": "2024-08-17T17:15:27.794Z"
   },
   {
    "duration": 6,
    "start_time": "2024-08-17T17:15:27.824Z"
   },
   {
    "duration": 177,
    "start_time": "2024-08-17T17:15:27.854Z"
   },
   {
    "duration": 4,
    "start_time": "2024-08-17T17:15:29.040Z"
   },
   {
    "duration": 5,
    "start_time": "2024-08-17T17:15:29.071Z"
   },
   {
    "duration": 83,
    "start_time": "2024-08-17T17:15:29.101Z"
   },
   {
    "duration": 5,
    "start_time": "2024-08-17T17:15:29.195Z"
   },
   {
    "duration": 307,
    "start_time": "2024-08-17T17:15:29.226Z"
   },
   {
    "duration": 26,
    "start_time": "2024-08-17T17:15:29.535Z"
   },
   {
    "duration": 488,
    "start_time": "2024-08-17T17:15:29.562Z"
   },
   {
    "duration": 413,
    "start_time": "2024-08-17T17:15:30.053Z"
   },
   {
    "duration": 8,
    "start_time": "2024-08-17T17:15:31.705Z"
   },
   {
    "duration": 7,
    "start_time": "2024-08-17T17:15:32.231Z"
   },
   {
    "duration": 15,
    "start_time": "2024-08-17T17:15:32.447Z"
   },
   {
    "duration": 4,
    "start_time": "2024-08-17T17:15:33.099Z"
   },
   {
    "duration": 9,
    "start_time": "2024-08-17T17:15:33.500Z"
   },
   {
    "duration": 9,
    "start_time": "2024-08-17T17:15:38.556Z"
   },
   {
    "duration": 12,
    "start_time": "2024-08-17T17:15:38.756Z"
   },
   {
    "duration": 13,
    "start_time": "2024-08-17T17:15:38.958Z"
   },
   {
    "duration": 627,
    "start_time": "2024-08-17T17:15:39.939Z"
   },
   {
    "duration": 559,
    "start_time": "2024-08-17T17:15:40.568Z"
   },
   {
    "duration": 4,
    "start_time": "2024-08-17T17:15:42.330Z"
   },
   {
    "duration": 12,
    "start_time": "2024-08-17T17:15:46.230Z"
   },
   {
    "duration": 9,
    "start_time": "2024-08-17T17:15:47.890Z"
   },
   {
    "duration": 3,
    "start_time": "2024-08-17T17:15:50.966Z"
   },
   {
    "duration": 6,
    "start_time": "2024-08-17T17:15:51.651Z"
   },
   {
    "duration": 21,
    "start_time": "2024-08-17T17:16:10.038Z"
   },
   {
    "duration": 4,
    "start_time": "2024-08-17T17:19:47.408Z"
   },
   {
    "duration": 13,
    "start_time": "2024-08-17T17:19:48.029Z"
   },
   {
    "duration": 231,
    "start_time": "2024-08-17T17:19:48.847Z"
   },
   {
    "duration": 10,
    "start_time": "2024-08-17T17:20:12.433Z"
   },
   {
    "duration": 3,
    "start_time": "2024-08-17T17:20:17.074Z"
   },
   {
    "duration": 7,
    "start_time": "2024-08-17T17:20:17.491Z"
   },
   {
    "duration": 25,
    "start_time": "2024-08-17T17:20:20.337Z"
   },
   {
    "duration": 949,
    "start_time": "2024-08-17T17:20:24.051Z"
   },
   {
    "duration": 16,
    "start_time": "2024-08-17T17:20:39.370Z"
   },
   {
    "duration": 13,
    "start_time": "2024-08-17T17:21:02.996Z"
   },
   {
    "duration": 18,
    "start_time": "2024-08-17T17:21:09.368Z"
   },
   {
    "duration": 15,
    "start_time": "2024-08-17T17:21:51.537Z"
   },
   {
    "duration": 12,
    "start_time": "2024-08-17T17:21:52.261Z"
   },
   {
    "duration": 3,
    "start_time": "2024-08-17T17:21:55.031Z"
   },
   {
    "duration": 6,
    "start_time": "2024-08-17T17:21:55.418Z"
   },
   {
    "duration": 23,
    "start_time": "2024-08-17T17:21:56.824Z"
   },
   {
    "duration": 1442,
    "start_time": "2024-08-17T17:22:08.287Z"
   },
   {
    "duration": 25,
    "start_time": "2024-08-17T17:23:49.960Z"
   },
   {
    "duration": 6,
    "start_time": "2024-08-17T17:24:01.692Z"
   },
   {
    "duration": 18,
    "start_time": "2024-08-17T17:24:48.486Z"
   },
   {
    "duration": 47,
    "start_time": "2024-08-17T17:24:57.229Z"
   },
   {
    "duration": 8,
    "start_time": "2024-08-17T17:25:15.998Z"
   },
   {
    "duration": 11,
    "start_time": "2024-08-17T17:25:23.926Z"
   },
   {
    "duration": 9,
    "start_time": "2024-08-17T17:25:27.582Z"
   },
   {
    "duration": 43,
    "start_time": "2024-08-17T17:25:27.990Z"
   },
   {
    "duration": 15,
    "start_time": "2024-08-17T17:25:29.123Z"
   },
   {
    "duration": 18,
    "start_time": "2024-08-17T17:25:32.464Z"
   },
   {
    "duration": 9,
    "start_time": "2024-08-17T17:25:46.472Z"
   },
   {
    "duration": 13,
    "start_time": "2024-08-17T17:25:48.953Z"
   },
   {
    "duration": 3,
    "start_time": "2024-08-17T17:26:44.087Z"
   },
   {
    "duration": 1196,
    "start_time": "2024-08-17T17:26:50.071Z"
   },
   {
    "duration": 99,
    "start_time": "2024-08-17T17:26:51.652Z"
   },
   {
    "duration": 12,
    "start_time": "2024-08-17T17:26:52.260Z"
   },
   {
    "duration": 8,
    "start_time": "2024-08-17T17:26:52.294Z"
   },
   {
    "duration": 8,
    "start_time": "2024-08-17T17:26:52.354Z"
   },
   {
    "duration": 12,
    "start_time": "2024-08-17T17:26:52.387Z"
   },
   {
    "duration": 9,
    "start_time": "2024-08-17T17:26:52.464Z"
   },
   {
    "duration": 12,
    "start_time": "2024-08-17T17:26:52.500Z"
   },
   {
    "duration": 7,
    "start_time": "2024-08-17T17:26:52.558Z"
   },
   {
    "duration": 11,
    "start_time": "2024-08-17T17:26:52.586Z"
   },
   {
    "duration": 4,
    "start_time": "2024-08-17T17:26:52.648Z"
   },
   {
    "duration": 4,
    "start_time": "2024-08-17T17:26:52.696Z"
   },
   {
    "duration": 5,
    "start_time": "2024-08-17T17:26:52.788Z"
   },
   {
    "duration": 11,
    "start_time": "2024-08-17T17:26:52.851Z"
   },
   {
    "duration": 8,
    "start_time": "2024-08-17T17:26:52.914Z"
   },
   {
    "duration": 10,
    "start_time": "2024-08-17T17:26:52.945Z"
   },
   {
    "duration": 4,
    "start_time": "2024-08-17T17:26:52.993Z"
   },
   {
    "duration": 3,
    "start_time": "2024-08-17T17:26:53.182Z"
   },
   {
    "duration": 6,
    "start_time": "2024-08-17T17:26:53.210Z"
   },
   {
    "duration": 188,
    "start_time": "2024-08-17T17:26:53.244Z"
   },
   {
    "duration": 4,
    "start_time": "2024-08-17T17:26:53.434Z"
   },
   {
    "duration": 40,
    "start_time": "2024-08-17T17:26:53.439Z"
   },
   {
    "duration": 95,
    "start_time": "2024-08-17T17:26:53.481Z"
   },
   {
    "duration": 5,
    "start_time": "2024-08-17T17:26:53.578Z"
   },
   {
    "duration": 239,
    "start_time": "2024-08-17T17:26:53.586Z"
   },
   {
    "duration": 29,
    "start_time": "2024-08-17T17:26:53.828Z"
   },
   {
    "duration": 520,
    "start_time": "2024-08-17T17:26:53.859Z"
   },
   {
    "duration": 471,
    "start_time": "2024-08-17T17:26:54.381Z"
   },
   {
    "duration": 9,
    "start_time": "2024-08-17T17:26:54.854Z"
   },
   {
    "duration": 6,
    "start_time": "2024-08-17T17:26:54.865Z"
   },
   {
    "duration": 15,
    "start_time": "2024-08-17T17:26:54.873Z"
   },
   {
    "duration": 3,
    "start_time": "2024-08-17T17:26:54.891Z"
   },
   {
    "duration": 9,
    "start_time": "2024-08-17T17:26:54.896Z"
   },
   {
    "duration": 47,
    "start_time": "2024-08-17T17:26:54.907Z"
   },
   {
    "duration": 13,
    "start_time": "2024-08-17T17:26:54.956Z"
   },
   {
    "duration": 13,
    "start_time": "2024-08-17T17:26:54.970Z"
   },
   {
    "duration": 685,
    "start_time": "2024-08-17T17:26:54.985Z"
   },
   {
    "duration": 661,
    "start_time": "2024-08-17T17:26:55.671Z"
   },
   {
    "duration": 3,
    "start_time": "2024-08-17T17:26:56.865Z"
   },
   {
    "duration": 14,
    "start_time": "2024-08-17T17:26:57.379Z"
   },
   {
    "duration": 10,
    "start_time": "2024-08-17T17:26:58.105Z"
   },
   {
    "duration": 3,
    "start_time": "2024-08-17T17:27:01.487Z"
   },
   {
    "duration": 7,
    "start_time": "2024-08-17T17:27:01.848Z"
   },
   {
    "duration": 21,
    "start_time": "2024-08-17T17:27:06.664Z"
   },
   {
    "duration": 18,
    "start_time": "2024-08-17T17:27:09.425Z"
   },
   {
    "duration": 9,
    "start_time": "2024-08-17T17:27:13.355Z"
   },
   {
    "duration": 113,
    "start_time": "2024-08-17T17:28:37.814Z"
   },
   {
    "duration": 8,
    "start_time": "2024-08-17T17:28:41.271Z"
   },
   {
    "duration": 7,
    "start_time": "2024-08-17T17:29:06.309Z"
   },
   {
    "duration": 6,
    "start_time": "2024-08-17T17:29:18.909Z"
   },
   {
    "duration": 7,
    "start_time": "2024-08-17T17:29:34.493Z"
   },
   {
    "duration": 10,
    "start_time": "2024-08-17T17:34:01.577Z"
   },
   {
    "duration": 7,
    "start_time": "2024-08-17T17:34:02.068Z"
   },
   {
    "duration": 9,
    "start_time": "2024-08-17T17:34:02.614Z"
   },
   {
    "duration": 100,
    "start_time": "2024-08-17T17:37:30.549Z"
   },
   {
    "duration": 8,
    "start_time": "2024-08-17T17:37:33.428Z"
   },
   {
    "duration": 6,
    "start_time": "2024-08-17T17:37:34.528Z"
   },
   {
    "duration": 68,
    "start_time": "2024-08-17T17:38:52.918Z"
   },
   {
    "duration": 1141,
    "start_time": "2024-08-17T17:48:33.413Z"
   },
   {
    "duration": 96,
    "start_time": "2024-08-17T17:48:34.556Z"
   },
   {
    "duration": 14,
    "start_time": "2024-08-17T17:48:34.654Z"
   },
   {
    "duration": 7,
    "start_time": "2024-08-17T17:48:34.669Z"
   },
   {
    "duration": 7,
    "start_time": "2024-08-17T17:48:34.677Z"
   },
   {
    "duration": 16,
    "start_time": "2024-08-17T17:48:34.685Z"
   },
   {
    "duration": 12,
    "start_time": "2024-08-17T17:48:34.703Z"
   },
   {
    "duration": 36,
    "start_time": "2024-08-17T17:48:34.717Z"
   },
   {
    "duration": 7,
    "start_time": "2024-08-17T17:48:34.755Z"
   },
   {
    "duration": 10,
    "start_time": "2024-08-17T17:48:34.764Z"
   },
   {
    "duration": 3,
    "start_time": "2024-08-17T17:48:34.776Z"
   },
   {
    "duration": 9,
    "start_time": "2024-08-17T17:48:34.780Z"
   },
   {
    "duration": 7,
    "start_time": "2024-08-17T17:48:34.790Z"
   },
   {
    "duration": 11,
    "start_time": "2024-08-17T17:48:34.798Z"
   },
   {
    "duration": 6,
    "start_time": "2024-08-17T17:48:34.811Z"
   },
   {
    "duration": 41,
    "start_time": "2024-08-17T17:48:34.819Z"
   },
   {
    "duration": 5,
    "start_time": "2024-08-17T17:48:34.861Z"
   },
   {
    "duration": 3,
    "start_time": "2024-08-17T17:48:34.868Z"
   },
   {
    "duration": 9,
    "start_time": "2024-08-17T17:48:34.873Z"
   },
   {
    "duration": 207,
    "start_time": "2024-08-17T17:48:34.883Z"
   },
   {
    "duration": 4,
    "start_time": "2024-08-17T17:48:35.091Z"
   },
   {
    "duration": 19,
    "start_time": "2024-08-17T17:48:35.096Z"
   },
   {
    "duration": 96,
    "start_time": "2024-08-17T17:48:35.116Z"
   },
   {
    "duration": 5,
    "start_time": "2024-08-17T17:48:35.213Z"
   },
   {
    "duration": 437,
    "start_time": "2024-08-17T17:48:35.219Z"
   },
   {
    "duration": 18,
    "start_time": "2024-08-17T17:48:35.658Z"
   },
   {
    "duration": 985,
    "start_time": "2024-08-17T17:48:35.678Z"
   },
   {
    "duration": 695,
    "start_time": "2024-08-17T17:48:36.666Z"
   },
   {
    "duration": 8,
    "start_time": "2024-08-17T17:48:37.363Z"
   },
   {
    "duration": 25,
    "start_time": "2024-08-17T17:48:37.373Z"
   },
   {
    "duration": 66,
    "start_time": "2024-08-17T17:48:37.400Z"
   },
   {
    "duration": 21,
    "start_time": "2024-08-17T17:48:37.468Z"
   },
   {
    "duration": 64,
    "start_time": "2024-08-17T17:48:37.492Z"
   },
   {
    "duration": 11,
    "start_time": "2024-08-17T17:48:37.558Z"
   },
   {
    "duration": 12,
    "start_time": "2024-08-17T17:48:37.570Z"
   },
   {
    "duration": 15,
    "start_time": "2024-08-17T17:48:37.584Z"
   },
   {
    "duration": 1027,
    "start_time": "2024-08-17T17:48:37.653Z"
   },
   {
    "duration": 1081,
    "start_time": "2024-08-17T17:48:38.681Z"
   },
   {
    "duration": 3,
    "start_time": "2024-08-17T17:48:39.764Z"
   },
   {
    "duration": 95,
    "start_time": "2024-08-17T17:48:39.768Z"
   },
   {
    "duration": 11,
    "start_time": "2024-08-17T17:48:39.865Z"
   },
   {
    "duration": 3,
    "start_time": "2024-08-17T17:48:39.878Z"
   },
   {
    "duration": 7,
    "start_time": "2024-08-17T17:48:39.882Z"
   },
   {
    "duration": 71,
    "start_time": "2024-08-17T17:48:39.891Z"
   },
   {
    "duration": 18,
    "start_time": "2024-08-17T17:48:39.964Z"
   },
   {
    "duration": 8,
    "start_time": "2024-08-17T17:48:39.983Z"
   },
   {
    "duration": 62,
    "start_time": "2024-08-17T17:48:39.992Z"
   },
   {
    "duration": 4,
    "start_time": "2024-08-17T17:48:40.055Z"
   },
   {
    "duration": 5,
    "start_time": "2024-08-17T17:48:40.060Z"
   },
   {
    "duration": 20,
    "start_time": "2024-08-17T17:48:40.067Z"
   },
   {
    "duration": 11,
    "start_time": "2024-08-17T17:48:40.089Z"
   },
   {
    "duration": 1115,
    "start_time": "2024-08-17T17:48:40.101Z"
   },
   {
    "duration": 0,
    "start_time": "2024-08-17T17:48:41.218Z"
   },
   {
    "duration": 0,
    "start_time": "2024-08-17T17:48:41.219Z"
   },
   {
    "duration": 0,
    "start_time": "2024-08-17T17:48:41.220Z"
   },
   {
    "duration": 0,
    "start_time": "2024-08-17T17:48:41.221Z"
   },
   {
    "duration": 0,
    "start_time": "2024-08-17T17:48:41.222Z"
   },
   {
    "duration": 0,
    "start_time": "2024-08-17T17:48:41.223Z"
   },
   {
    "duration": 10,
    "start_time": "2024-08-17T17:49:20.261Z"
   },
   {
    "duration": 7,
    "start_time": "2024-08-17T17:49:23.982Z"
   },
   {
    "duration": 1427,
    "start_time": "2024-08-17T17:49:42.757Z"
   },
   {
    "duration": 110,
    "start_time": "2024-08-17T17:49:44.186Z"
   },
   {
    "duration": 56,
    "start_time": "2024-08-17T17:49:44.298Z"
   },
   {
    "duration": 7,
    "start_time": "2024-08-17T17:49:44.356Z"
   },
   {
    "duration": 39,
    "start_time": "2024-08-17T17:49:44.365Z"
   },
   {
    "duration": 49,
    "start_time": "2024-08-17T17:49:44.406Z"
   },
   {
    "duration": 8,
    "start_time": "2024-08-17T17:49:44.457Z"
   },
   {
    "duration": 13,
    "start_time": "2024-08-17T17:49:44.467Z"
   },
   {
    "duration": 7,
    "start_time": "2024-08-17T17:49:44.482Z"
   },
   {
    "duration": 68,
    "start_time": "2024-08-17T17:49:44.491Z"
   },
   {
    "duration": 4,
    "start_time": "2024-08-17T17:49:44.561Z"
   },
   {
    "duration": 6,
    "start_time": "2024-08-17T17:49:44.566Z"
   },
   {
    "duration": 6,
    "start_time": "2024-08-17T17:49:44.573Z"
   },
   {
    "duration": 11,
    "start_time": "2024-08-17T17:49:44.581Z"
   },
   {
    "duration": 61,
    "start_time": "2024-08-17T17:49:44.594Z"
   },
   {
    "duration": 20,
    "start_time": "2024-08-17T17:49:44.657Z"
   },
   {
    "duration": 76,
    "start_time": "2024-08-17T17:49:44.679Z"
   },
   {
    "duration": 11,
    "start_time": "2024-08-17T17:49:44.757Z"
   },
   {
    "duration": 26,
    "start_time": "2024-08-17T17:49:44.770Z"
   },
   {
    "duration": 346,
    "start_time": "2024-08-17T17:49:44.798Z"
   },
   {
    "duration": 4,
    "start_time": "2024-08-17T17:49:45.152Z"
   },
   {
    "duration": 59,
    "start_time": "2024-08-17T17:49:45.157Z"
   },
   {
    "duration": 157,
    "start_time": "2024-08-17T17:49:45.217Z"
   },
   {
    "duration": 6,
    "start_time": "2024-08-17T17:49:45.376Z"
   },
   {
    "duration": 239,
    "start_time": "2024-08-17T17:49:45.383Z"
   },
   {
    "duration": 16,
    "start_time": "2024-08-17T17:49:45.624Z"
   },
   {
    "duration": 493,
    "start_time": "2024-08-17T17:49:45.654Z"
   },
   {
    "duration": 395,
    "start_time": "2024-08-17T17:49:46.152Z"
   },
   {
    "duration": 9,
    "start_time": "2024-08-17T17:49:46.548Z"
   },
   {
    "duration": 9,
    "start_time": "2024-08-17T17:49:46.559Z"
   },
   {
    "duration": 16,
    "start_time": "2024-08-17T17:49:46.569Z"
   },
   {
    "duration": 4,
    "start_time": "2024-08-17T17:49:46.586Z"
   },
   {
    "duration": 10,
    "start_time": "2024-08-17T17:49:46.592Z"
   },
   {
    "duration": 10,
    "start_time": "2024-08-17T17:49:46.604Z"
   },
   {
    "duration": 47,
    "start_time": "2024-08-17T17:49:46.615Z"
   },
   {
    "duration": 12,
    "start_time": "2024-08-17T17:49:46.664Z"
   },
   {
    "duration": 702,
    "start_time": "2024-08-17T17:49:46.678Z"
   },
   {
    "duration": 656,
    "start_time": "2024-08-17T17:49:47.381Z"
   },
   {
    "duration": 4,
    "start_time": "2024-08-17T17:49:48.039Z"
   },
   {
    "duration": 22,
    "start_time": "2024-08-17T17:49:48.044Z"
   },
   {
    "duration": 9,
    "start_time": "2024-08-17T17:49:48.068Z"
   },
   {
    "duration": 2,
    "start_time": "2024-08-17T17:49:48.079Z"
   },
   {
    "duration": 8,
    "start_time": "2024-08-17T17:49:48.083Z"
   },
   {
    "duration": 22,
    "start_time": "2024-08-17T17:49:48.093Z"
   },
   {
    "duration": 46,
    "start_time": "2024-08-17T17:49:48.116Z"
   },
   {
    "duration": 8,
    "start_time": "2024-08-17T17:49:48.163Z"
   },
   {
    "duration": 4,
    "start_time": "2024-08-17T17:49:48.173Z"
   },
   {
    "duration": 11,
    "start_time": "2024-08-17T17:49:48.178Z"
   },
   {
    "duration": 6,
    "start_time": "2024-08-17T17:49:48.191Z"
   },
   {
    "duration": 7,
    "start_time": "2024-08-17T17:49:48.198Z"
   },
   {
    "duration": 5,
    "start_time": "2024-08-17T17:49:48.206Z"
   },
   {
    "duration": 43,
    "start_time": "2024-08-17T17:49:48.213Z"
   },
   {
    "duration": 6,
    "start_time": "2024-08-17T17:49:48.258Z"
   },
   {
    "duration": 157,
    "start_time": "2024-08-17T17:49:48.266Z"
   },
   {
    "duration": 2657,
    "start_time": "2024-08-17T17:49:48.425Z"
   },
   {
    "duration": 3,
    "start_time": "2024-08-17T17:49:51.083Z"
   },
   {
    "duration": 66,
    "start_time": "2024-08-17T17:49:51.087Z"
   },
   {
    "duration": 515,
    "start_time": "2024-08-17T17:49:51.155Z"
   },
   {
    "duration": 1081,
    "start_time": "2024-08-17T19:45:11.667Z"
   },
   {
    "duration": 311,
    "start_time": "2024-08-17T19:45:12.749Z"
   },
   {
    "duration": 11,
    "start_time": "2024-08-17T19:45:13.061Z"
   },
   {
    "duration": 6,
    "start_time": "2024-08-17T19:45:13.074Z"
   },
   {
    "duration": 12,
    "start_time": "2024-08-17T19:45:13.082Z"
   },
   {
    "duration": 11,
    "start_time": "2024-08-17T19:45:13.095Z"
   },
   {
    "duration": 9,
    "start_time": "2024-08-17T19:45:13.108Z"
   },
   {
    "duration": 25,
    "start_time": "2024-08-17T19:45:13.119Z"
   },
   {
    "duration": 8,
    "start_time": "2024-08-17T19:45:13.146Z"
   },
   {
    "duration": 19,
    "start_time": "2024-08-17T19:45:13.156Z"
   },
   {
    "duration": 47,
    "start_time": "2024-08-17T19:45:13.177Z"
   },
   {
    "duration": 21,
    "start_time": "2024-08-17T19:45:13.226Z"
   },
   {
    "duration": 9,
    "start_time": "2024-08-17T19:45:13.249Z"
   },
   {
    "duration": 49,
    "start_time": "2024-08-17T19:45:13.259Z"
   },
   {
    "duration": 8,
    "start_time": "2024-08-17T19:45:13.310Z"
   },
   {
    "duration": 37,
    "start_time": "2024-08-17T19:45:13.319Z"
   },
   {
    "duration": 12,
    "start_time": "2024-08-17T19:45:13.358Z"
   },
   {
    "duration": 4,
    "start_time": "2024-08-17T19:45:13.371Z"
   },
   {
    "duration": 17,
    "start_time": "2024-08-17T19:45:13.377Z"
   },
   {
    "duration": 179,
    "start_time": "2024-08-17T19:45:13.395Z"
   },
   {
    "duration": 4,
    "start_time": "2024-08-17T19:45:13.575Z"
   },
   {
    "duration": 9,
    "start_time": "2024-08-17T19:45:13.581Z"
   },
   {
    "duration": 103,
    "start_time": "2024-08-17T19:45:13.591Z"
   },
   {
    "duration": 5,
    "start_time": "2024-08-17T19:45:13.695Z"
   },
   {
    "duration": 231,
    "start_time": "2024-08-17T19:45:13.701Z"
   },
   {
    "duration": 17,
    "start_time": "2024-08-17T19:45:13.933Z"
   },
   {
    "duration": 466,
    "start_time": "2024-08-17T19:45:13.952Z"
   },
   {
    "duration": 419,
    "start_time": "2024-08-17T19:45:14.423Z"
   },
   {
    "duration": 8,
    "start_time": "2024-08-17T19:45:14.844Z"
   },
   {
    "duration": 7,
    "start_time": "2024-08-17T19:45:14.854Z"
   },
   {
    "duration": 22,
    "start_time": "2024-08-17T19:45:14.863Z"
   },
   {
    "duration": 47,
    "start_time": "2024-08-17T19:45:14.886Z"
   },
   {
    "duration": 9,
    "start_time": "2024-08-17T19:45:14.935Z"
   },
   {
    "duration": 11,
    "start_time": "2024-08-17T19:45:14.945Z"
   },
   {
    "duration": 11,
    "start_time": "2024-08-17T19:45:14.957Z"
   },
   {
    "duration": 10,
    "start_time": "2024-08-17T19:45:14.970Z"
   },
   {
    "duration": 681,
    "start_time": "2024-08-17T19:45:14.981Z"
   },
   {
    "duration": 644,
    "start_time": "2024-08-17T19:45:15.664Z"
   },
   {
    "duration": 4,
    "start_time": "2024-08-17T19:45:16.310Z"
   },
   {
    "duration": 26,
    "start_time": "2024-08-17T19:45:16.315Z"
   },
   {
    "duration": 9,
    "start_time": "2024-08-17T19:45:16.343Z"
   },
   {
    "duration": 4,
    "start_time": "2024-08-17T19:45:16.353Z"
   },
   {
    "duration": 13,
    "start_time": "2024-08-17T19:45:16.358Z"
   },
   {
    "duration": 25,
    "start_time": "2024-08-17T19:45:16.373Z"
   },
   {
    "duration": 40,
    "start_time": "2024-08-17T19:45:16.400Z"
   },
   {
    "duration": 7,
    "start_time": "2024-08-17T19:45:16.442Z"
   },
   {
    "duration": 27,
    "start_time": "2024-08-17T19:45:16.450Z"
   },
   {
    "duration": 3,
    "start_time": "2024-08-17T19:45:16.479Z"
   },
   {
    "duration": 25,
    "start_time": "2024-08-17T19:45:16.484Z"
   },
   {
    "duration": 6,
    "start_time": "2024-08-17T19:45:16.511Z"
   },
   {
    "duration": 11,
    "start_time": "2024-08-17T19:45:16.518Z"
   },
   {
    "duration": 34,
    "start_time": "2024-08-17T19:45:16.530Z"
   },
   {
    "duration": 6,
    "start_time": "2024-08-17T19:45:16.565Z"
   },
   {
    "duration": 129,
    "start_time": "2024-08-17T19:45:16.572Z"
   },
   {
    "duration": 1753,
    "start_time": "2024-08-17T19:45:16.702Z"
   },
   {
    "duration": 3,
    "start_time": "2024-08-17T19:45:18.456Z"
   },
   {
    "duration": 5,
    "start_time": "2024-08-17T19:45:18.461Z"
   },
   {
    "duration": 318,
    "start_time": "2024-08-17T19:45:18.468Z"
   },
   {
    "duration": 5,
    "start_time": "2024-08-17T19:47:10.188Z"
   }
  ],
  "kernelspec": {
   "display_name": "Python 3 (ipykernel)",
   "language": "python",
   "name": "python3"
  },
  "language_info": {
   "codemirror_mode": {
    "name": "ipython",
    "version": 3
   },
   "file_extension": ".py",
   "mimetype": "text/x-python",
   "name": "python",
   "nbconvert_exporter": "python",
   "pygments_lexer": "ipython3",
   "version": "3.9.19"
  },
  "toc": {
   "base_numbering": 1,
   "nav_menu": {},
   "number_sections": true,
   "sideBar": true,
   "skip_h1_title": true,
   "title_cell": "Table of Contents",
   "title_sidebar": "Contents",
   "toc_cell": false,
   "toc_position": {
    "height": "calc(100% - 180px)",
    "left": "10px",
    "top": "150px",
    "width": "375.797px"
   },
   "toc_section_display": true,
   "toc_window_display": true
  }
 },
 "nbformat": 4,
 "nbformat_minor": 5
}

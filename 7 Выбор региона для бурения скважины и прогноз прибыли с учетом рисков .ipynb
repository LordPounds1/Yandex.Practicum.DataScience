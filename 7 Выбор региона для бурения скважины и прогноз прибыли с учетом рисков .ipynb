{
 "cells": [
  {
   "cell_type": "markdown",
   "metadata": {},
   "source": [
    "# Выбор локации для скважины"
   ]
  },
  {
   "cell_type": "markdown",
   "metadata": {},
   "source": [
    "Допустим, вы работаете в добывающей компании «ГлавРосГосНефть». Нужно решить, где бурить новую скважину.\n",
    "\n",
    "Вам предоставлены пробы нефти в трёх регионах: в каждом 10 000 месторождений, где измерили качество нефти и объём её запасов. Постройте модель машинного обучения, которая поможет определить регион, где добыча принесёт наибольшую прибыль. Проанализируйте возможную прибыль и риски техникой *Bootstrap.*\n",
    "\n",
    "Шаги для выбора локации:\n",
    "\n",
    "- В избранном регионе ищут месторождения, для каждого определяют значения признаков;\n",
    "- Строят модель и оценивают объём запасов;\n",
    "- Выбирают месторождения с самым высокими оценками значений. Количество месторождений зависит от бюджета компании и стоимости разработки одной скважины;\n",
    "- Прибыль равна суммарной прибыли отобранных месторождений."
   ]
  },
  {
   "cell_type": "markdown",
   "metadata": {},
   "source": [
    "## Загрузка и подготовка данных"
   ]
  },
  {
   "cell_type": "code",
   "execution_count": 1,
   "metadata": {},
   "outputs": [],
   "source": [
    "import os\n",
    "import pandas as pd\n",
    "import numpy as np\n",
    "import matplotlib.pyplot as plt\n",
    "import seaborn as sns\n",
    "import re\n",
    "\n",
    "\n",
    "from sklearn.model_selection import train_test_split\n",
    "from sklearn.linear_model import LinearRegression\n",
    "from sklearn.pipeline import Pipeline\n",
    "from sklearn.preprocessing import StandardScaler\n",
    "from sklearn.metrics import mean_squared_error"
   ]
  },
  {
   "cell_type": "code",
   "execution_count": 2,
   "metadata": {},
   "outputs": [],
   "source": [
    "geo_0 = 'C:/Users/Gpets/Data With Python/datasets/geo_data_0.csv'\n",
    "geo_1 = 'C:/Users/Gpets/Data With Python/datasets/geo_data_1.csv'\n",
    "geo_2 = 'C:/Users/Gpets/Data With Python/datasets/geo_data_2.csv'\n",
    "\n",
    "geo_0_alt = '/datasets/geo_data_0.csv'\n",
    "geo_1_alt = '/datasets/geo_data_1.csv'\n",
    "geo_2_alt = '/datasets/geo_data_2.csv'\n",
    "\n",
    "def load_data(primary_path, secondary_path):\n",
    "    if os.path.exists(primary_path):\n",
    "        try:\n",
    "            return pd.read_csv(primary_path, sep=',')\n",
    "        except:\n",
    "            return pd.read_csv(primary_path, sep=';')\n",
    "    elif os.path.exists(secondary_path):\n",
    "        try:\n",
    "            return pd.read_csv(secondary_path, sep=',')\n",
    "        except:\n",
    "            return pd.read_csv(secondary_path, sep=';')\n",
    "    else:\n",
    "        print(f\"Файл не найден: {primary_path} или {secondary_path}\")\n",
    "        return None\n",
    "\n",
    "\n",
    "geo0_df = load_data(geo_0, geo_0_alt)\n",
    "geo1_df = load_data(geo_1, geo_1_alt)\n",
    "geo2_df = load_data(geo_2, geo_2_alt)"
   ]
  },
  {
   "cell_type": "code",
   "execution_count": 3,
   "metadata": {},
   "outputs": [
    {
     "data": {
      "text/html": [
       "<div>\n",
       "<style scoped>\n",
       "    .dataframe tbody tr th:only-of-type {\n",
       "        vertical-align: middle;\n",
       "    }\n",
       "\n",
       "    .dataframe tbody tr th {\n",
       "        vertical-align: top;\n",
       "    }\n",
       "\n",
       "    .dataframe thead th {\n",
       "        text-align: right;\n",
       "    }\n",
       "</style>\n",
       "<table border=\"1\" class=\"dataframe\">\n",
       "  <thead>\n",
       "    <tr style=\"text-align: right;\">\n",
       "      <th></th>\n",
       "      <th>id</th>\n",
       "      <th>f0</th>\n",
       "      <th>f1</th>\n",
       "      <th>f2</th>\n",
       "      <th>product</th>\n",
       "    </tr>\n",
       "  </thead>\n",
       "  <tbody>\n",
       "    <tr>\n",
       "      <th>0</th>\n",
       "      <td>txEyH</td>\n",
       "      <td>0.705745</td>\n",
       "      <td>-0.497823</td>\n",
       "      <td>1.221170</td>\n",
       "      <td>105.280062</td>\n",
       "    </tr>\n",
       "    <tr>\n",
       "      <th>1</th>\n",
       "      <td>2acmU</td>\n",
       "      <td>1.334711</td>\n",
       "      <td>-0.340164</td>\n",
       "      <td>4.365080</td>\n",
       "      <td>73.037750</td>\n",
       "    </tr>\n",
       "    <tr>\n",
       "      <th>2</th>\n",
       "      <td>409Wp</td>\n",
       "      <td>1.022732</td>\n",
       "      <td>0.151990</td>\n",
       "      <td>1.419926</td>\n",
       "      <td>85.265647</td>\n",
       "    </tr>\n",
       "    <tr>\n",
       "      <th>3</th>\n",
       "      <td>iJLyR</td>\n",
       "      <td>-0.032172</td>\n",
       "      <td>0.139033</td>\n",
       "      <td>2.978566</td>\n",
       "      <td>168.620776</td>\n",
       "    </tr>\n",
       "    <tr>\n",
       "      <th>4</th>\n",
       "      <td>Xdl7t</td>\n",
       "      <td>1.988431</td>\n",
       "      <td>0.155413</td>\n",
       "      <td>4.751769</td>\n",
       "      <td>154.036647</td>\n",
       "    </tr>\n",
       "  </tbody>\n",
       "</table>\n",
       "</div>"
      ],
      "text/plain": [
       "      id        f0        f1        f2     product\n",
       "0  txEyH  0.705745 -0.497823  1.221170  105.280062\n",
       "1  2acmU  1.334711 -0.340164  4.365080   73.037750\n",
       "2  409Wp  1.022732  0.151990  1.419926   85.265647\n",
       "3  iJLyR -0.032172  0.139033  2.978566  168.620776\n",
       "4  Xdl7t  1.988431  0.155413  4.751769  154.036647"
      ]
     },
     "execution_count": 3,
     "metadata": {},
     "output_type": "execute_result"
    }
   ],
   "source": [
    "geo0_df.head()"
   ]
  },
  {
   "cell_type": "code",
   "execution_count": 4,
   "metadata": {},
   "outputs": [
    {
     "data": {
      "text/html": [
       "<div>\n",
       "<style scoped>\n",
       "    .dataframe tbody tr th:only-of-type {\n",
       "        vertical-align: middle;\n",
       "    }\n",
       "\n",
       "    .dataframe tbody tr th {\n",
       "        vertical-align: top;\n",
       "    }\n",
       "\n",
       "    .dataframe thead th {\n",
       "        text-align: right;\n",
       "    }\n",
       "</style>\n",
       "<table border=\"1\" class=\"dataframe\">\n",
       "  <thead>\n",
       "    <tr style=\"text-align: right;\">\n",
       "      <th></th>\n",
       "      <th>id</th>\n",
       "      <th>f0</th>\n",
       "      <th>f1</th>\n",
       "      <th>f2</th>\n",
       "      <th>product</th>\n",
       "    </tr>\n",
       "  </thead>\n",
       "  <tbody>\n",
       "    <tr>\n",
       "      <th>0</th>\n",
       "      <td>kBEdx</td>\n",
       "      <td>-15.001348</td>\n",
       "      <td>-8.276000</td>\n",
       "      <td>-0.005876</td>\n",
       "      <td>3.179103</td>\n",
       "    </tr>\n",
       "    <tr>\n",
       "      <th>1</th>\n",
       "      <td>62mP7</td>\n",
       "      <td>14.272088</td>\n",
       "      <td>-3.475083</td>\n",
       "      <td>0.999183</td>\n",
       "      <td>26.953261</td>\n",
       "    </tr>\n",
       "    <tr>\n",
       "      <th>2</th>\n",
       "      <td>vyE1P</td>\n",
       "      <td>6.263187</td>\n",
       "      <td>-5.948386</td>\n",
       "      <td>5.001160</td>\n",
       "      <td>134.766305</td>\n",
       "    </tr>\n",
       "    <tr>\n",
       "      <th>3</th>\n",
       "      <td>KcrkZ</td>\n",
       "      <td>-13.081196</td>\n",
       "      <td>-11.506057</td>\n",
       "      <td>4.999415</td>\n",
       "      <td>137.945408</td>\n",
       "    </tr>\n",
       "    <tr>\n",
       "      <th>4</th>\n",
       "      <td>AHL4O</td>\n",
       "      <td>12.702195</td>\n",
       "      <td>-8.147433</td>\n",
       "      <td>5.004363</td>\n",
       "      <td>134.766305</td>\n",
       "    </tr>\n",
       "  </tbody>\n",
       "</table>\n",
       "</div>"
      ],
      "text/plain": [
       "      id         f0         f1        f2     product\n",
       "0  kBEdx -15.001348  -8.276000 -0.005876    3.179103\n",
       "1  62mP7  14.272088  -3.475083  0.999183   26.953261\n",
       "2  vyE1P   6.263187  -5.948386  5.001160  134.766305\n",
       "3  KcrkZ -13.081196 -11.506057  4.999415  137.945408\n",
       "4  AHL4O  12.702195  -8.147433  5.004363  134.766305"
      ]
     },
     "execution_count": 4,
     "metadata": {},
     "output_type": "execute_result"
    }
   ],
   "source": [
    "geo1_df.head()"
   ]
  },
  {
   "cell_type": "code",
   "execution_count": 5,
   "metadata": {},
   "outputs": [
    {
     "data": {
      "text/html": [
       "<div>\n",
       "<style scoped>\n",
       "    .dataframe tbody tr th:only-of-type {\n",
       "        vertical-align: middle;\n",
       "    }\n",
       "\n",
       "    .dataframe tbody tr th {\n",
       "        vertical-align: top;\n",
       "    }\n",
       "\n",
       "    .dataframe thead th {\n",
       "        text-align: right;\n",
       "    }\n",
       "</style>\n",
       "<table border=\"1\" class=\"dataframe\">\n",
       "  <thead>\n",
       "    <tr style=\"text-align: right;\">\n",
       "      <th></th>\n",
       "      <th>id</th>\n",
       "      <th>f0</th>\n",
       "      <th>f1</th>\n",
       "      <th>f2</th>\n",
       "      <th>product</th>\n",
       "    </tr>\n",
       "  </thead>\n",
       "  <tbody>\n",
       "    <tr>\n",
       "      <th>0</th>\n",
       "      <td>fwXo0</td>\n",
       "      <td>-1.146987</td>\n",
       "      <td>0.963328</td>\n",
       "      <td>-0.828965</td>\n",
       "      <td>27.758673</td>\n",
       "    </tr>\n",
       "    <tr>\n",
       "      <th>1</th>\n",
       "      <td>WJtFt</td>\n",
       "      <td>0.262778</td>\n",
       "      <td>0.269839</td>\n",
       "      <td>-2.530187</td>\n",
       "      <td>56.069697</td>\n",
       "    </tr>\n",
       "    <tr>\n",
       "      <th>2</th>\n",
       "      <td>ovLUW</td>\n",
       "      <td>0.194587</td>\n",
       "      <td>0.289035</td>\n",
       "      <td>-5.586433</td>\n",
       "      <td>62.871910</td>\n",
       "    </tr>\n",
       "    <tr>\n",
       "      <th>3</th>\n",
       "      <td>q6cA6</td>\n",
       "      <td>2.236060</td>\n",
       "      <td>-0.553760</td>\n",
       "      <td>0.930038</td>\n",
       "      <td>114.572842</td>\n",
       "    </tr>\n",
       "    <tr>\n",
       "      <th>4</th>\n",
       "      <td>WPMUX</td>\n",
       "      <td>-0.515993</td>\n",
       "      <td>1.716266</td>\n",
       "      <td>5.899011</td>\n",
       "      <td>149.600746</td>\n",
       "    </tr>\n",
       "  </tbody>\n",
       "</table>\n",
       "</div>"
      ],
      "text/plain": [
       "      id        f0        f1        f2     product\n",
       "0  fwXo0 -1.146987  0.963328 -0.828965   27.758673\n",
       "1  WJtFt  0.262778  0.269839 -2.530187   56.069697\n",
       "2  ovLUW  0.194587  0.289035 -5.586433   62.871910\n",
       "3  q6cA6  2.236060 -0.553760  0.930038  114.572842\n",
       "4  WPMUX -0.515993  1.716266  5.899011  149.600746"
      ]
     },
     "execution_count": 5,
     "metadata": {},
     "output_type": "execute_result"
    }
   ],
   "source": [
    "geo2_df.head()"
   ]
  },
  {
   "cell_type": "markdown",
   "metadata": {},
   "source": [
    "### Первый регион"
   ]
  },
  {
   "cell_type": "markdown",
   "metadata": {},
   "source": [
    "Для начала переведем столбец `id` в индекс для обработки на дубликаты"
   ]
  },
  {
   "cell_type": "code",
   "execution_count": 6,
   "metadata": {},
   "outputs": [],
   "source": [
    "geo0_df = geo0_df.set_index('id')"
   ]
  },
  {
   "cell_type": "code",
   "execution_count": 7,
   "metadata": {},
   "outputs": [
    {
     "name": "stdout",
     "output_type": "stream",
     "text": [
      "Кол-во строк и столбцов в geo0_df: (100000, 4)\n",
      "Число скважин: 99990\n",
      "Число дубликатов 0\n"
     ]
    }
   ],
   "source": [
    "print('Кол-во строк и столбцов в geo0_df:',geo0_df.shape)\n",
    "print(\"Число скважин:\", geo0_df.index.nunique())\n",
    "print('Число дубликатов',geo0_df.duplicated().sum())"
   ]
  },
  {
   "cell_type": "code",
   "execution_count": 8,
   "metadata": {},
   "outputs": [
    {
     "data": {
      "text/plain": [
       "Index(['HZww2', 'bxg6G', 'A5aEY', 'QcMuo', '74z30', 'AGS9W', 'Tdehs', 'fiKDv',\n",
       "       'TtcGQ', 'bsk9y'],\n",
       "      dtype='object', name='id')"
      ]
     },
     "execution_count": 8,
     "metadata": {},
     "output_type": "execute_result"
    }
   ],
   "source": [
    "geo0_df.index[geo0_df.index.duplicated()]"
   ]
  },
  {
   "cell_type": "code",
   "execution_count": 9,
   "metadata": {},
   "outputs": [],
   "source": [
    "geo0_df = geo0_df[~geo0_df.index.duplicated(keep='first')]"
   ]
  },
  {
   "cell_type": "markdown",
   "metadata": {},
   "source": [
    "Дубликатов не наблюдается"
   ]
  },
  {
   "cell_type": "code",
   "execution_count": 10,
   "metadata": {},
   "outputs": [
    {
     "data": {
      "text/html": [
       "<div>\n",
       "<style scoped>\n",
       "    .dataframe tbody tr th:only-of-type {\n",
       "        vertical-align: middle;\n",
       "    }\n",
       "\n",
       "    .dataframe tbody tr th {\n",
       "        vertical-align: top;\n",
       "    }\n",
       "\n",
       "    .dataframe thead th {\n",
       "        text-align: right;\n",
       "    }\n",
       "</style>\n",
       "<table border=\"1\" class=\"dataframe\">\n",
       "  <thead>\n",
       "    <tr style=\"text-align: right;\">\n",
       "      <th></th>\n",
       "      <th>f0</th>\n",
       "      <th>f1</th>\n",
       "      <th>f2</th>\n",
       "      <th>product</th>\n",
       "    </tr>\n",
       "  </thead>\n",
       "  <tbody>\n",
       "    <tr>\n",
       "      <th>count</th>\n",
       "      <td>99990.000000</td>\n",
       "      <td>99990.000000</td>\n",
       "      <td>99990.000000</td>\n",
       "      <td>99990.000000</td>\n",
       "    </tr>\n",
       "    <tr>\n",
       "      <th>mean</th>\n",
       "      <td>0.500454</td>\n",
       "      <td>0.250141</td>\n",
       "      <td>2.502629</td>\n",
       "      <td>92.499684</td>\n",
       "    </tr>\n",
       "    <tr>\n",
       "      <th>std</th>\n",
       "      <td>0.871844</td>\n",
       "      <td>0.504430</td>\n",
       "      <td>3.248149</td>\n",
       "      <td>44.288304</td>\n",
       "    </tr>\n",
       "    <tr>\n",
       "      <th>min</th>\n",
       "      <td>-1.408605</td>\n",
       "      <td>-0.848218</td>\n",
       "      <td>-12.088328</td>\n",
       "      <td>0.000000</td>\n",
       "    </tr>\n",
       "    <tr>\n",
       "      <th>25%</th>\n",
       "      <td>-0.072572</td>\n",
       "      <td>-0.200877</td>\n",
       "      <td>0.287784</td>\n",
       "      <td>56.497069</td>\n",
       "    </tr>\n",
       "    <tr>\n",
       "      <th>50%</th>\n",
       "      <td>0.502405</td>\n",
       "      <td>0.250252</td>\n",
       "      <td>2.515969</td>\n",
       "      <td>91.847928</td>\n",
       "    </tr>\n",
       "    <tr>\n",
       "      <th>75%</th>\n",
       "      <td>1.073626</td>\n",
       "      <td>0.700640</td>\n",
       "      <td>4.715035</td>\n",
       "      <td>128.563699</td>\n",
       "    </tr>\n",
       "    <tr>\n",
       "      <th>max</th>\n",
       "      <td>2.362331</td>\n",
       "      <td>1.343769</td>\n",
       "      <td>16.003790</td>\n",
       "      <td>185.364347</td>\n",
       "    </tr>\n",
       "  </tbody>\n",
       "</table>\n",
       "</div>"
      ],
      "text/plain": [
       "                 f0            f1            f2       product\n",
       "count  99990.000000  99990.000000  99990.000000  99990.000000\n",
       "mean       0.500454      0.250141      2.502629     92.499684\n",
       "std        0.871844      0.504430      3.248149     44.288304\n",
       "min       -1.408605     -0.848218    -12.088328      0.000000\n",
       "25%       -0.072572     -0.200877      0.287784     56.497069\n",
       "50%        0.502405      0.250252      2.515969     91.847928\n",
       "75%        1.073626      0.700640      4.715035    128.563699\n",
       "max        2.362331      1.343769     16.003790    185.364347"
      ]
     },
     "execution_count": 10,
     "metadata": {},
     "output_type": "execute_result"
    }
   ],
   "source": [
    "geo0_df.describe()"
   ]
  },
  {
   "cell_type": "markdown",
   "metadata": {},
   "source": [
    "* Объем выборки: 100,000 наблюдений.\n",
    "\n",
    "\n",
    "* Средние значения близки к нулю: `f0 ~ 0.5`, `f1 ~ 0.25`, `f2 ~ 2.5.`\n",
    "\n",
    "\n",
    "* `f2` имеет широкий диапазон от -12.1 до 16.0, тогда как `f0` и `f1` варьируются от -1.4 до 2.4 и от -0.8 до 1.3 соответственно.\n",
    "\n",
    "\n",
    "* Среднее значение запасов в скважине ~92.5 тыс. баррелей.\n",
    "\n",
    "\n",
    "* Значения варьируются от 0 до 185.4 тыс. баррелей.\n",
    "\n",
    "\n",
    "* Стандартное отклонение ~44.3 тыс., что указывает на умеренное разброс значений."
   ]
  },
  {
   "cell_type": "code",
   "execution_count": 11,
   "metadata": {},
   "outputs": [
    {
     "name": "stdout",
     "output_type": "stream",
     "text": [
      "<class 'pandas.core.frame.DataFrame'>\n",
      "Index: 99990 entries, txEyH to 1CWhH\n",
      "Data columns (total 4 columns):\n",
      " #   Column   Non-Null Count  Dtype  \n",
      "---  ------   --------------  -----  \n",
      " 0   f0       99990 non-null  float64\n",
      " 1   f1       99990 non-null  float64\n",
      " 2   f2       99990 non-null  float64\n",
      " 3   product  99990 non-null  float64\n",
      "dtypes: float64(4)\n",
      "memory usage: 3.8+ MB\n"
     ]
    }
   ],
   "source": [
    "geo0_df.info()"
   ]
  },
  {
   "cell_type": "markdown",
   "metadata": {},
   "source": [
    "Типы данных, соответствуют ожиданиям."
   ]
  },
  {
   "cell_type": "code",
   "execution_count": 12,
   "metadata": {},
   "outputs": [
    {
     "data": {
      "text/plain": [
       "f0         0\n",
       "f1         0\n",
       "f2         0\n",
       "product    0\n",
       "dtype: int64"
      ]
     },
     "execution_count": 12,
     "metadata": {},
     "output_type": "execute_result"
    }
   ],
   "source": [
    "geo0_df.isnull().sum()"
   ]
  },
  {
   "cell_type": "markdown",
   "metadata": {},
   "source": [
    "В данных пропусков нет"
   ]
  },
  {
   "cell_type": "markdown",
   "metadata": {},
   "source": [
    "### Второй регион"
   ]
  },
  {
   "cell_type": "markdown",
   "metadata": {},
   "source": [
    "Сделаем все тоже самое что и в первом регионе"
   ]
  },
  {
   "cell_type": "code",
   "execution_count": 13,
   "metadata": {},
   "outputs": [],
   "source": [
    "geo1_df = geo1_df.set_index('id')"
   ]
  },
  {
   "cell_type": "code",
   "execution_count": 14,
   "metadata": {},
   "outputs": [
    {
     "name": "stdout",
     "output_type": "stream",
     "text": [
      "Кол-во строк и столбцов в geo0_df: (100000, 4)\n",
      "Число скважин: 99996\n",
      "Число дубликатов 0\n"
     ]
    }
   ],
   "source": [
    "print('Кол-во строк и столбцов в geo0_df:',geo1_df.shape)\n",
    "print(\"Число скважин:\", geo1_df.index.nunique())\n",
    "print('Число дубликатов',geo1_df.duplicated().sum())"
   ]
  },
  {
   "cell_type": "code",
   "execution_count": 15,
   "metadata": {},
   "outputs": [
    {
     "data": {
      "text/plain": [
       "Index(['LHZR0', 'bfPNe', 'wt4Uk', '5ltQ6'], dtype='object', name='id')"
      ]
     },
     "execution_count": 15,
     "metadata": {},
     "output_type": "execute_result"
    }
   ],
   "source": [
    "geo1_df.index[geo1_df.index.duplicated()]"
   ]
  },
  {
   "cell_type": "code",
   "execution_count": 16,
   "metadata": {},
   "outputs": [],
   "source": [
    "geo1_df = geo1_df[~geo1_df.index.duplicated(keep='first')]"
   ]
  },
  {
   "cell_type": "code",
   "execution_count": 17,
   "metadata": {},
   "outputs": [
    {
     "data": {
      "text/html": [
       "<div>\n",
       "<style scoped>\n",
       "    .dataframe tbody tr th:only-of-type {\n",
       "        vertical-align: middle;\n",
       "    }\n",
       "\n",
       "    .dataframe tbody tr th {\n",
       "        vertical-align: top;\n",
       "    }\n",
       "\n",
       "    .dataframe thead th {\n",
       "        text-align: right;\n",
       "    }\n",
       "</style>\n",
       "<table border=\"1\" class=\"dataframe\">\n",
       "  <thead>\n",
       "    <tr style=\"text-align: right;\">\n",
       "      <th></th>\n",
       "      <th>f0</th>\n",
       "      <th>f1</th>\n",
       "      <th>f2</th>\n",
       "      <th>product</th>\n",
       "    </tr>\n",
       "  </thead>\n",
       "  <tbody>\n",
       "    <tr>\n",
       "      <th>count</th>\n",
       "      <td>99996.000000</td>\n",
       "      <td>99996.000000</td>\n",
       "      <td>99996.000000</td>\n",
       "      <td>99996.000000</td>\n",
       "    </tr>\n",
       "    <tr>\n",
       "      <th>mean</th>\n",
       "      <td>1.141209</td>\n",
       "      <td>-4.796608</td>\n",
       "      <td>2.494501</td>\n",
       "      <td>68.823916</td>\n",
       "    </tr>\n",
       "    <tr>\n",
       "      <th>std</th>\n",
       "      <td>8.965815</td>\n",
       "      <td>5.119906</td>\n",
       "      <td>1.703579</td>\n",
       "      <td>45.944663</td>\n",
       "    </tr>\n",
       "    <tr>\n",
       "      <th>min</th>\n",
       "      <td>-31.609576</td>\n",
       "      <td>-26.358598</td>\n",
       "      <td>-0.018144</td>\n",
       "      <td>0.000000</td>\n",
       "    </tr>\n",
       "    <tr>\n",
       "      <th>25%</th>\n",
       "      <td>-6.298551</td>\n",
       "      <td>-8.267985</td>\n",
       "      <td>1.000021</td>\n",
       "      <td>26.953261</td>\n",
       "    </tr>\n",
       "    <tr>\n",
       "      <th>50%</th>\n",
       "      <td>1.153055</td>\n",
       "      <td>-4.813172</td>\n",
       "      <td>2.011475</td>\n",
       "      <td>57.085625</td>\n",
       "    </tr>\n",
       "    <tr>\n",
       "      <th>75%</th>\n",
       "      <td>8.620964</td>\n",
       "      <td>-1.332816</td>\n",
       "      <td>3.999904</td>\n",
       "      <td>107.813044</td>\n",
       "    </tr>\n",
       "    <tr>\n",
       "      <th>max</th>\n",
       "      <td>29.421755</td>\n",
       "      <td>18.734063</td>\n",
       "      <td>5.019721</td>\n",
       "      <td>137.945408</td>\n",
       "    </tr>\n",
       "  </tbody>\n",
       "</table>\n",
       "</div>"
      ],
      "text/plain": [
       "                 f0            f1            f2       product\n",
       "count  99996.000000  99996.000000  99996.000000  99996.000000\n",
       "mean       1.141209     -4.796608      2.494501     68.823916\n",
       "std        8.965815      5.119906      1.703579     45.944663\n",
       "min      -31.609576    -26.358598     -0.018144      0.000000\n",
       "25%       -6.298551     -8.267985      1.000021     26.953261\n",
       "50%        1.153055     -4.813172      2.011475     57.085625\n",
       "75%        8.620964     -1.332816      3.999904    107.813044\n",
       "max       29.421755     18.734063      5.019721    137.945408"
      ]
     },
     "execution_count": 17,
     "metadata": {},
     "output_type": "execute_result"
    }
   ],
   "source": [
    "geo1_df.describe()"
   ]
  },
  {
   "cell_type": "code",
   "execution_count": 18,
   "metadata": {},
   "outputs": [
    {
     "name": "stdout",
     "output_type": "stream",
     "text": [
      "<class 'pandas.core.frame.DataFrame'>\n",
      "Index: 99996 entries, kBEdx to relB0\n",
      "Data columns (total 4 columns):\n",
      " #   Column   Non-Null Count  Dtype  \n",
      "---  ------   --------------  -----  \n",
      " 0   f0       99996 non-null  float64\n",
      " 1   f1       99996 non-null  float64\n",
      " 2   f2       99996 non-null  float64\n",
      " 3   product  99996 non-null  float64\n",
      "dtypes: float64(4)\n",
      "memory usage: 3.8+ MB\n"
     ]
    }
   ],
   "source": [
    "geo1_df.info()"
   ]
  },
  {
   "cell_type": "code",
   "execution_count": 19,
   "metadata": {},
   "outputs": [
    {
     "data": {
      "text/plain": [
       "f0         0\n",
       "f1         0\n",
       "f2         0\n",
       "product    0\n",
       "dtype: int64"
      ]
     },
     "execution_count": 19,
     "metadata": {},
     "output_type": "execute_result"
    }
   ],
   "source": [
    "geo1_df.isnull().sum()"
   ]
  },
  {
   "cell_type": "markdown",
   "metadata": {},
   "source": [
    "### Третий регион"
   ]
  },
  {
   "cell_type": "code",
   "execution_count": 20,
   "metadata": {},
   "outputs": [],
   "source": [
    "geo2_df = geo2_df.set_index('id')"
   ]
  },
  {
   "cell_type": "code",
   "execution_count": 21,
   "metadata": {},
   "outputs": [
    {
     "name": "stdout",
     "output_type": "stream",
     "text": [
      "Кол-во строк и столбцов в geo0_df: (100000, 4)\n",
      "Число скважин: 99996\n",
      "Число дубликатов 0\n"
     ]
    }
   ],
   "source": [
    "print('Кол-во строк и столбцов в geo0_df:',geo2_df.shape)\n",
    "print(\"Число скважин:\", geo2_df.index.nunique())\n",
    "print('Число дубликатов',geo2_df.duplicated().sum())"
   ]
  },
  {
   "cell_type": "code",
   "execution_count": 22,
   "metadata": {},
   "outputs": [
    {
     "data": {
      "text/plain": [
       "Index(['xCHr8', 'VF7Jo', 'KUPhW', 'Vcm5J'], dtype='object', name='id')"
      ]
     },
     "execution_count": 22,
     "metadata": {},
     "output_type": "execute_result"
    }
   ],
   "source": [
    "geo2_df.index[geo2_df.index.duplicated()]"
   ]
  },
  {
   "cell_type": "code",
   "execution_count": 23,
   "metadata": {},
   "outputs": [],
   "source": [
    "geo2_df = geo2_df[~geo2_df.index.duplicated(keep='first')]"
   ]
  },
  {
   "cell_type": "code",
   "execution_count": 24,
   "metadata": {},
   "outputs": [
    {
     "data": {
      "text/html": [
       "<div>\n",
       "<style scoped>\n",
       "    .dataframe tbody tr th:only-of-type {\n",
       "        vertical-align: middle;\n",
       "    }\n",
       "\n",
       "    .dataframe tbody tr th {\n",
       "        vertical-align: top;\n",
       "    }\n",
       "\n",
       "    .dataframe thead th {\n",
       "        text-align: right;\n",
       "    }\n",
       "</style>\n",
       "<table border=\"1\" class=\"dataframe\">\n",
       "  <thead>\n",
       "    <tr style=\"text-align: right;\">\n",
       "      <th></th>\n",
       "      <th>f0</th>\n",
       "      <th>f1</th>\n",
       "      <th>f2</th>\n",
       "      <th>product</th>\n",
       "    </tr>\n",
       "  </thead>\n",
       "  <tbody>\n",
       "    <tr>\n",
       "      <th>count</th>\n",
       "      <td>99996.000000</td>\n",
       "      <td>99996.000000</td>\n",
       "      <td>99996.000000</td>\n",
       "      <td>99996.000000</td>\n",
       "    </tr>\n",
       "    <tr>\n",
       "      <th>mean</th>\n",
       "      <td>0.002002</td>\n",
       "      <td>-0.002159</td>\n",
       "      <td>2.495084</td>\n",
       "      <td>94.998342</td>\n",
       "    </tr>\n",
       "    <tr>\n",
       "      <th>std</th>\n",
       "      <td>1.732052</td>\n",
       "      <td>1.730397</td>\n",
       "      <td>3.473482</td>\n",
       "      <td>44.749573</td>\n",
       "    </tr>\n",
       "    <tr>\n",
       "      <th>min</th>\n",
       "      <td>-8.760004</td>\n",
       "      <td>-7.084020</td>\n",
       "      <td>-11.970335</td>\n",
       "      <td>0.000000</td>\n",
       "    </tr>\n",
       "    <tr>\n",
       "      <th>25%</th>\n",
       "      <td>-1.162328</td>\n",
       "      <td>-1.174841</td>\n",
       "      <td>0.130269</td>\n",
       "      <td>59.450028</td>\n",
       "    </tr>\n",
       "    <tr>\n",
       "      <th>50%</th>\n",
       "      <td>0.009424</td>\n",
       "      <td>-0.009661</td>\n",
       "      <td>2.484236</td>\n",
       "      <td>94.925026</td>\n",
       "    </tr>\n",
       "    <tr>\n",
       "      <th>75%</th>\n",
       "      <td>1.158477</td>\n",
       "      <td>1.163523</td>\n",
       "      <td>4.858720</td>\n",
       "      <td>130.586815</td>\n",
       "    </tr>\n",
       "    <tr>\n",
       "      <th>max</th>\n",
       "      <td>7.238262</td>\n",
       "      <td>7.844801</td>\n",
       "      <td>16.739402</td>\n",
       "      <td>190.029838</td>\n",
       "    </tr>\n",
       "  </tbody>\n",
       "</table>\n",
       "</div>"
      ],
      "text/plain": [
       "                 f0            f1            f2       product\n",
       "count  99996.000000  99996.000000  99996.000000  99996.000000\n",
       "mean       0.002002     -0.002159      2.495084     94.998342\n",
       "std        1.732052      1.730397      3.473482     44.749573\n",
       "min       -8.760004     -7.084020    -11.970335      0.000000\n",
       "25%       -1.162328     -1.174841      0.130269     59.450028\n",
       "50%        0.009424     -0.009661      2.484236     94.925026\n",
       "75%        1.158477      1.163523      4.858720    130.586815\n",
       "max        7.238262      7.844801     16.739402    190.029838"
      ]
     },
     "execution_count": 24,
     "metadata": {},
     "output_type": "execute_result"
    }
   ],
   "source": [
    "geo2_df.describe()"
   ]
  },
  {
   "cell_type": "code",
   "execution_count": 25,
   "metadata": {},
   "outputs": [
    {
     "name": "stdout",
     "output_type": "stream",
     "text": [
      "<class 'pandas.core.frame.DataFrame'>\n",
      "Index: 99996 entries, fwXo0 to V9kWn\n",
      "Data columns (total 4 columns):\n",
      " #   Column   Non-Null Count  Dtype  \n",
      "---  ------   --------------  -----  \n",
      " 0   f0       99996 non-null  float64\n",
      " 1   f1       99996 non-null  float64\n",
      " 2   f2       99996 non-null  float64\n",
      " 3   product  99996 non-null  float64\n",
      "dtypes: float64(4)\n",
      "memory usage: 3.8+ MB\n"
     ]
    }
   ],
   "source": [
    "geo2_df.info()"
   ]
  },
  {
   "cell_type": "code",
   "execution_count": 26,
   "metadata": {
    "scrolled": true
   },
   "outputs": [
    {
     "data": {
      "text/plain": [
       "f0         0\n",
       "f1         0\n",
       "f2         0\n",
       "product    0\n",
       "dtype: int64"
      ]
     },
     "execution_count": 26,
     "metadata": {},
     "output_type": "execute_result"
    }
   ],
   "source": [
    "geo2_df.isnull().sum()"
   ]
  },
  {
   "cell_type": "markdown",
   "metadata": {},
   "source": [
    "## Обучение и проверка модели"
   ]
  },
  {
   "cell_type": "markdown",
   "metadata": {},
   "source": [
    "Разобьем данные на тренировочную и валидационную выборки."
   ]
  },
  {
   "cell_type": "code",
   "execution_count": 27,
   "metadata": {},
   "outputs": [],
   "source": [
    "RANDOM_STATE = 228\n",
    "\n",
    "X_0 = geo0_df[['f0', 'f1', 'f2']]\n",
    "y_0 = geo0_df['product']\n",
    "X_train_0, X_valid_0, y_train_0, y_valid_0 = train_test_split(\n",
    "    X_0,\n",
    "    y_0,\n",
    "    test_size = 0.25,\n",
    "    random_state = RANDOM_STATE)\n",
    "\n",
    "\n",
    "X_1 = geo1_df[['f0', 'f1', 'f2']]\n",
    "y_1 = geo1_df['product']\n",
    "X_train_1, X_valid_1, y_train_1, y_valid_1 = train_test_split(\n",
    "    X_1,\n",
    "    y_1,\n",
    "    test_size = 0.25,\n",
    "    random_state = RANDOM_STATE)\n",
    "\n",
    "X_2 = geo2_df[['f0', 'f1', 'f2']]\n",
    "y_2 = geo2_df['product']\n",
    "X_train_2, X_valid_2, y_train_2, y_valid_2 = train_test_split(\n",
    "    X_2,\n",
    "    y_2,\n",
    "    test_size = 0.25,\n",
    "    random_state = RANDOM_STATE)"
   ]
  },
  {
   "cell_type": "markdown",
   "metadata": {},
   "source": [
    "Напишем функцию для создания пайплайна для каждого региона, включающий стандартное масштабирование признаков и линейную регрессию."
   ]
  },
  {
   "cell_type": "code",
   "execution_count": 28,
   "metadata": {},
   "outputs": [],
   "source": [
    "pipeline = Pipeline([\n",
    "    ('preprocessor', StandardScaler()),\n",
    "    ('models', LinearRegression())\n",
    "])"
   ]
  },
  {
   "cell_type": "markdown",
   "metadata": {},
   "source": [
    "Создадим пайплайн для каждого региона и обучим модели на валидацонных выборках"
   ]
  },
  {
   "cell_type": "code",
   "execution_count": 29,
   "metadata": {},
   "outputs": [],
   "source": [
    "pipeline.fit(X_train_0, y_train_0)\n",
    "y_pred_0 = pipeline.predict(X_valid_0)\n",
    "\n",
    "pipeline.fit(X_train_1, y_train_1)\n",
    "y_pred_1 = pipeline.predict(X_valid_1)\n",
    "\n",
    "pipeline.fit(X_train_2, y_train_2)\n",
    "y_pred_2 = pipeline.predict(X_valid_2)"
   ]
  },
  {
   "cell_type": "markdown",
   "metadata": {},
   "source": [
    "Сохраним DataFrame для каждого региона, чтобы сохранить реальные и предсказанные значения."
   ]
  },
  {
   "cell_type": "code",
   "execution_count": 30,
   "metadata": {},
   "outputs": [],
   "source": [
    "predictions_0 = pd.DataFrame({'actual': y_valid_0, 'predicted': y_pred_0})\n",
    "predictions_1 = pd.DataFrame({'actual': y_valid_1, 'predicted': y_pred_1})\n",
    "predictions_2 = pd.DataFrame({'actual': y_valid_2, 'predicted': y_pred_2})"
   ]
  },
  {
   "cell_type": "code",
   "execution_count": 31,
   "metadata": {},
   "outputs": [
    {
     "data": {
      "text/html": [
       "<div>\n",
       "<style scoped>\n",
       "    .dataframe tbody tr th:only-of-type {\n",
       "        vertical-align: middle;\n",
       "    }\n",
       "\n",
       "    .dataframe tbody tr th {\n",
       "        vertical-align: top;\n",
       "    }\n",
       "\n",
       "    .dataframe thead th {\n",
       "        text-align: right;\n",
       "    }\n",
       "</style>\n",
       "<table border=\"1\" class=\"dataframe\">\n",
       "  <thead>\n",
       "    <tr style=\"text-align: right;\">\n",
       "      <th></th>\n",
       "      <th>actual</th>\n",
       "      <th>predicted</th>\n",
       "    </tr>\n",
       "    <tr>\n",
       "      <th>id</th>\n",
       "      <th></th>\n",
       "      <th></th>\n",
       "    </tr>\n",
       "  </thead>\n",
       "  <tbody>\n",
       "    <tr>\n",
       "      <th>8kRyN</th>\n",
       "      <td>137.416387</td>\n",
       "      <td>104.818900</td>\n",
       "    </tr>\n",
       "    <tr>\n",
       "      <th>2NhAv</th>\n",
       "      <td>151.540415</td>\n",
       "      <td>104.982363</td>\n",
       "    </tr>\n",
       "    <tr>\n",
       "      <th>FmIF8</th>\n",
       "      <td>57.511246</td>\n",
       "      <td>103.575737</td>\n",
       "    </tr>\n",
       "    <tr>\n",
       "      <th>VAoe0</th>\n",
       "      <td>31.272420</td>\n",
       "      <td>68.712312</td>\n",
       "    </tr>\n",
       "    <tr>\n",
       "      <th>ZVWaa</th>\n",
       "      <td>157.034284</td>\n",
       "      <td>72.426250</td>\n",
       "    </tr>\n",
       "    <tr>\n",
       "      <th>...</th>\n",
       "      <td>...</td>\n",
       "      <td>...</td>\n",
       "    </tr>\n",
       "    <tr>\n",
       "      <th>psKSQ</th>\n",
       "      <td>18.623894</td>\n",
       "      <td>90.622315</td>\n",
       "    </tr>\n",
       "    <tr>\n",
       "      <th>22bSD</th>\n",
       "      <td>64.778623</td>\n",
       "      <td>63.160537</td>\n",
       "    </tr>\n",
       "    <tr>\n",
       "      <th>hq381</th>\n",
       "      <td>161.813034</td>\n",
       "      <td>93.619793</td>\n",
       "    </tr>\n",
       "    <tr>\n",
       "      <th>XrRWt</th>\n",
       "      <td>72.437864</td>\n",
       "      <td>87.685778</td>\n",
       "    </tr>\n",
       "    <tr>\n",
       "      <th>VjZaS</th>\n",
       "      <td>43.428172</td>\n",
       "      <td>79.060180</td>\n",
       "    </tr>\n",
       "  </tbody>\n",
       "</table>\n",
       "<p>24999 rows × 2 columns</p>\n",
       "</div>"
      ],
      "text/plain": [
       "           actual   predicted\n",
       "id                           \n",
       "8kRyN  137.416387  104.818900\n",
       "2NhAv  151.540415  104.982363\n",
       "FmIF8   57.511246  103.575737\n",
       "VAoe0   31.272420   68.712312\n",
       "ZVWaa  157.034284   72.426250\n",
       "...           ...         ...\n",
       "psKSQ   18.623894   90.622315\n",
       "22bSD   64.778623   63.160537\n",
       "hq381  161.813034   93.619793\n",
       "XrRWt   72.437864   87.685778\n",
       "VjZaS   43.428172   79.060180\n",
       "\n",
       "[24999 rows x 2 columns]"
      ]
     },
     "execution_count": 31,
     "metadata": {},
     "output_type": "execute_result"
    }
   ],
   "source": [
    "predictions_2"
   ]
  },
  {
   "cell_type": "markdown",
   "metadata": {},
   "source": [
    "Выведем средний запас предсказанного сырья и RMSE модели (корень из среднеквадратичной ошибки)."
   ]
  },
  {
   "cell_type": "code",
   "execution_count": 32,
   "metadata": {},
   "outputs": [
    {
     "name": "stdout",
     "output_type": "stream",
     "text": [
      "RMSE для региона 0: 37.689091908751045\n",
      "Средний запас для региона 0: 92.68921815442516 \n",
      "\n",
      "RMSE для региона 1: 0.8885826896416646\n",
      "Средний запас для региона 1: 68.86343359020876 \n",
      "\n",
      "RMSE для региона 2: 39.8594402786368\n",
      "Средний запас для региона 2: 94.80958298182011\n"
     ]
    }
   ],
   "source": [
    "rmse_0 = mean_squared_error(y_valid_0, y_pred_0, squared=False)\n",
    "rmse_1 = mean_squared_error(y_valid_1, y_pred_1, squared=False)\n",
    "rmse_2 = mean_squared_error(y_valid_2, y_pred_2, squared=False)\n",
    "\n",
    "mean_pred_0 = np.mean(y_pred_0)\n",
    "mean_pred_1 = np.mean(y_pred_1)\n",
    "mean_pred_2 = np.mean(y_pred_2)\n",
    "\n",
    "print(f\"RMSE для региона 0: {rmse_0}\")\n",
    "print(f\"Средний запас для региона 0: {mean_pred_0} \\n\")\n",
    "print(f\"RMSE для региона 1: {rmse_1}\")\n",
    "print(f\"Средний запас для региона 1: {mean_pred_1} \\n\")\n",
    "print(f\"RMSE для региона 2: {rmse_2}\")\n",
    "print(f\"Средний запас для региона 2: {mean_pred_2}\")"
   ]
  },
  {
   "cell_type": "markdown",
   "metadata": {},
   "source": [
    "### Анализ результатов по регионам"
   ]
  },
  {
   "cell_type": "markdown",
   "metadata": {},
   "source": [
    "* Регион 0:\n",
    "    * Среднеквадратическая ошибка: 37.69. Ошибка предсказаний относительно высокая, но средний запас в регионе (92.69 тыс. баррелей) тоже немаленький. Это говорит о том, что модель предсказывает в пределах разумного, но точность предсказаний можно улучшить.\n",
    "    \n",
    "    * Средний запас: 92.69 тыс. баррелей. Регион обладает значительным потенциалом запасов.\n",
    "    \n",
    "    Несмотря на относительно высокую ошибку, регион демонстрирует хорошие средние запасы. Возможно, стоит рассмотреть улучшение модели или дополнительные признаки для повышения точности.\n",
    "    \n",
    "    \n",
    "* Регион 1:\n",
    "\n",
    "    * Среднеквадратическая ошибка: 0.89. Ошибка предсказания крайне низкая, что свидетельствует о высокой точности модели.\n",
    "    \n",
    "    * Средний запас: 68.86 тыс. баррелей. Однако средний запас в этом регионе ниже, чем в остальных.\n",
    "    \n",
    "    Регион имеет самые низкие средние запасы, но высокая точность модели делает его предсказания надежными. Возможно, он менее перспективен с точки зрения добычи.\n",
    "    \n",
    "    \n",
    "* Регион 2:\n",
    "\n",
    "    * Среднеквадратическая ошибка: 39.86. Ошибка предсказания самая высокая из всех трёх регионов.\n",
    "    \n",
    "    * Средний запас: 94.81 тыс. баррелей. Средний запас немного превышает показатель региона 0, что делает его перспективным.\n",
    "    \n",
    "    Высокая ошибка предсказания указывает на необходимость доработки модели. Несмотря на это, регион имеет хорошие запасы, что делает его потенциально привлекательным для добычи.\n",
    "    \n"
   ]
  },
  {
   "cell_type": "markdown",
   "metadata": {},
   "source": [
    "Общий вывод:\n",
    "\n",
    "* Регион 1 демонстрирует высокую точность предсказаний, но его средние запасы ниже, чем у остальных.\n",
    "\n",
    "* Регионы 0 и 2 имеют значительные запасы, но требуют улучшения качества моделей для повышения точности предсказаний."
   ]
  },
  {
   "cell_type": "markdown",
   "metadata": {},
   "source": [
    "## Подготовка к расчёту прибыли"
   ]
  },
  {
   "cell_type": "markdown",
   "metadata": {},
   "source": [
    "Пройдемся по условиям задачи:\n",
    "\n",
    "* Количество лучших скважин: n = 200\n",
    "\n",
    "* Количество исследуемых скважин : N = 500\n",
    "\n",
    "* Бюджет на разработку: B = 10 млрд (10e9) \n",
    "\n",
    "* Доход с 1 тыс. баррелей: A = 450000"
   ]
  },
  {
   "cell_type": "code",
   "execution_count": 33,
   "metadata": {},
   "outputs": [],
   "source": [
    "n = 200\n",
    "N = 500\n",
    "one_barrel = 450_000\n",
    "budget = 10e9"
   ]
  },
  {
   "cell_type": "markdown",
   "metadata": {},
   "source": [
    "Расчёт достаточного объёма сырья для безубыточной разработки"
   ]
  },
  {
   "cell_type": "markdown",
   "metadata": {},
   "source": [
    "Стоимость разработки одной скважины мы расчитаем так: `Бюджет / Количество лучших скважин`"
   ]
  },
  {
   "cell_type": "code",
   "execution_count": 34,
   "metadata": {},
   "outputs": [
    {
     "data": {
      "text/plain": [
       "50000000.0"
      ]
     },
     "execution_count": 34,
     "metadata": {},
     "output_type": "execute_result"
    }
   ],
   "source": [
    "cost_per_well = budget / n\n",
    "cost_per_well"
   ]
  },
  {
   "cell_type": "markdown",
   "metadata": {},
   "source": [
    "Себестоимость одной скавижины состовляет 50 млн рублей"
   ]
  },
  {
   "cell_type": "markdown",
   "metadata": {},
   "source": [
    "Теперь расчитаем достаточный объём сырья для окупаемости, для этого мы себестоимость одной скважины поделим на Доход с 1 баррели."
   ]
  },
  {
   "cell_type": "code",
   "execution_count": 35,
   "metadata": {},
   "outputs": [
    {
     "name": "stdout",
     "output_type": "stream",
     "text": [
      "Достаточный объём сырья на одну скважину: 111.11 тыс. баррелей\n"
     ]
    }
   ],
   "source": [
    "payback = cost_per_well / one_barrel\n",
    "print(f\"Достаточный объём сырья на одну скважину: {payback:.2f} тыс. баррелей\")"
   ]
  },
  {
   "cell_type": "markdown",
   "metadata": {},
   "source": [
    "Сравним этот показатель со средним запасами в регионах:\n",
    "\n",
    "* Регион 0: Средний запас (92.69) меньше порога.\n",
    "\n",
    "* Регион 1: Средний запас (68.86) значительно ниже порога.\n",
    "\n",
    "* Регион 2: Средний запас (94.81) меньше порога, но ближе всех к безубыточности.\n",
    "\n",
    "Все регионы имеют средний запас сырья ниже порога безубыточности."
   ]
  },
  {
   "cell_type": "markdown",
   "metadata": {},
   "source": [
    "## Расчёт прибыли и рисков "
   ]
  },
  {
   "cell_type": "markdown",
   "metadata": {},
   "source": [
    "### Расчет прибыли"
   ]
  },
  {
   "cell_type": "markdown",
   "metadata": {},
   "source": [
    "Рассчитываем прибыль на основе выбранных скважин и предсказаний модели. Будем использовать Истиные значения объёма сырья (target), предсказанные значения объёма сырья (predictions), количество лучших скважин для разработки(n_wells), доход с 1 тыс. баррелей(price_per_barrel) и общий бюджет на разработку(budget)"
   ]
  },
  {
   "cell_type": "markdown",
   "metadata": {},
   "source": [
    "Напишем для нее функцию `calculate_profit`"
   ]
  },
  {
   "cell_type": "code",
   "execution_count": 36,
   "metadata": {},
   "outputs": [],
   "source": [
    "def calculate_profit(target, predictions, n_wells=n, price_per_barrel=one_barrel, budget=budget):\n",
    "    # Выбираем индексы 200 скважин с максимальными предсказаниями\n",
    "    selected_indices = predictions.argsort()[-n_wells:]\n",
    "    \n",
    "    # Суммируем целевые значения объёма сырья для выбранных скважин\n",
    "    selected_target_sum = target[selected_indices].sum()\n",
    "    \n",
    "    # Рассчитываем общий доход\n",
    "    revenue = selected_target_sum * price_per_barrel\n",
    "    \n",
    "    # Вычисляем прибыль\n",
    "    profit = revenue - budget\n",
    "    \n",
    "    return profit\n",
    "\n"
   ]
  },
  {
   "cell_type": "markdown",
   "metadata": {},
   "source": [
    "Используем функцию и смотрим прибыль по регионам"
   ]
  },
  {
   "cell_type": "code",
   "execution_count": 37,
   "metadata": {},
   "outputs": [
    {
     "name": "stdout",
     "output_type": "stream",
     "text": [
      "Прибыль региона 0: 3242805491.07 руб.\n",
      "Прибыль региона 1: 2415086696.68 руб.\n",
      "Прибыль региона 2: 2235668377.19 руб.\n"
     ]
    }
   ],
   "source": [
    "# Расчёт прибыли\n",
    "profit_0 = calculate_profit(predictions_0['actual'], predictions_0['predicted'])\n",
    "print(f\"Прибыль региона 0: {profit_0:.2f} руб.\")\n",
    "\n",
    "profit_1 = calculate_profit(predictions_1['actual'], predictions_1['predicted'])\n",
    "print(f\"Прибыль региона 1: {profit_1:.2f} руб.\")\n",
    "\n",
    "profit_2 = calculate_profit(predictions_2['actual'], predictions_2['predicted'])\n",
    "print(f\"Прибыль региона 2: {profit_2:.2f} руб.\")"
   ]
  },
  {
   "cell_type": "markdown",
   "metadata": {},
   "source": [
    "Регион 0:\n",
    "* Прибыль: 3.24 млрд руб.\n",
    "\n",
    "* Регион показывает наибольшую прибыль среди всех, что указывает на высокий потенциал разработки.\n",
    "\n",
    "\n",
    "Регион 1:\n",
    "\n",
    "* Прибыль: 2.42 млрд руб.\n",
    "\n",
    "* Результат ниже чем у региона 0. Основное преимущество региона 1 — высокая точность модели предсказания (RMSE всего 0.89), что снижает вероятность ошибок в прогнозах.\n",
    "\n",
    "\n",
    "Регион 2: \n",
    "\n",
    "* Прибыль: 2.24 млрд руб.\n",
    "\n",
    "* Это наименьший показатель среди регионов. Несмотря на относительно высокие средние запасы, предсказания менее точны (RMSE около 39.86), что может снижать уверенность в прогнозах."
   ]
  },
  {
   "cell_type": "markdown",
   "metadata": {},
   "source": [
    "### Расчет рисков"
   ]
  },
  {
   "cell_type": "code",
   "execution_count": 39,
   "metadata": {},
   "outputs": [
    {
     "name": "stdout",
     "output_type": "stream",
     "text": [
      "Регион 0:\n",
      "Средняя прибыль = 399745773.41 руб.\n",
      "95%-й доверительный интервал: [-110550905.52, 876958155.66] руб.\n",
      "Риск убытков: 6.00%\n",
      "\n"
     ]
    }
   ],
   "source": [
    "state = np.random.RandomState(228)\n",
    "profits_0 = []\n",
    "\n",
    "for _ in range(1000):\n",
    "    # Случайная выборка с возвратом\n",
    "    sample = predictions_0.sample(n=500, replace=True, random_state=state)\n",
    "    # Расчёт прибыли\n",
    "    profit = calculate_profit(sample['actual'], sample['predicted'])\n",
    "    profits_0.append(profit)\n",
    "    \n",
    "    \n",
    "profits_0 = pd.Series(profits_0)\n",
    "mean_profit_0 = profits_0.mean()\n",
    "lower_0 = profits_0.quantile(0.025)\n",
    "upper_0 = profits_0.quantile(0.975)\n",
    "risk_0 = (profits_0 < 0).mean()\n",
    "\n",
    "print(f\"Регион 0:\")\n",
    "print(f\"Средняя прибыль = {mean_profit_0:.2f} руб.\")\n",
    "print(f\"95%-й доверительный интервал: [{lower_0:.2f}, {upper_0:.2f}] руб.\")\n",
    "print(f\"Риск убытков: {risk_0:.2%}\\n\")\n",
    "\n",
    "\n"
   ]
  },
  {
   "cell_type": "code",
   "execution_count": 40,
   "metadata": {},
   "outputs": [
    {
     "name": "stdout",
     "output_type": "stream",
     "text": [
      "Регион 1:\n",
      "Средняя прибыль = 445363341.84 руб.\n",
      "95%-й доверительный интервал: [53178652.47, 858713141.63] руб.\n",
      "Риск убытков: 1.20%\n",
      "\n"
     ]
    }
   ],
   "source": [
    "profits_1 = []\n",
    "\n",
    "for _ in range(1000):\n",
    "    sample = predictions_1.sample(n=500, replace=True, random_state=state)\n",
    "    profit = calculate_profit(sample['actual'], sample['predicted'])\n",
    "    profits_1.append(profit)\n",
    "\n",
    "profits_1 = pd.Series(profits_1)\n",
    "mean_profit_1 = profits_1.mean()\n",
    "lower_1 = profits_1.quantile(0.025)\n",
    "upper_1 = profits_1.quantile(0.975)\n",
    "risk_1 = (profits_1 < 0).mean()\n",
    "\n",
    "print(f\"Регион 1:\")\n",
    "print(f\"Средняя прибыль = {mean_profit_1:.2f} руб.\")\n",
    "print(f\"95%-й доверительный интервал: [{lower_1:.2f}, {upper_1:.2f}] руб.\")\n",
    "print(f\"Риск убытков: {risk_1:.2%}\\n\")"
   ]
  },
  {
   "cell_type": "code",
   "execution_count": 42,
   "metadata": {},
   "outputs": [
    {
     "name": "stdout",
     "output_type": "stream",
     "text": [
      "Регион 2:\n",
      "Средняя прибыль = 316361415.19 руб.\n",
      "95%-й доверительный интервал: [-164442657.81, 812994569.44] руб.\n",
      "Риск убытков: 10.30%\n"
     ]
    }
   ],
   "source": [
    "profits_2 = []\n",
    "\n",
    "for _ in range(1000):\n",
    "    sample = predictions_2.sample(n=500, replace=True, random_state=state)\n",
    "    profit = calculate_profit(sample['actual'], sample['predicted'])\n",
    "    profits_2.append(profit)\n",
    "\n",
    "profits_2 = pd.Series(profits_2)\n",
    "mean_profit_2 = profits_2.mean()\n",
    "lower_2 = profits_2.quantile(0.025)\n",
    "upper_2 = profits_2.quantile(0.975)\n",
    "risk_2 = (profits_2 < 0).mean()\n",
    "\n",
    "print(f\"Регион 2:\")\n",
    "print(f\"Средняя прибыль = {mean_profit_2:.2f} руб.\")\n",
    "print(f\"95%-й доверительный интервал: [{lower_2:.2f}, {upper_2:.2f}] руб.\")\n",
    "print(f\"Риск убытков: {risk_2:.2%}\")"
   ]
  },
  {
   "cell_type": "markdown",
   "metadata": {},
   "source": [
    "## Выводы: Рекомендации по выбору региона для разработки"
   ]
  },
  {
   "cell_type": "markdown",
   "metadata": {},
   "source": [
    "**Регион 0:**\n",
    "\n",
    "* Средний запас сырья: 92.69 тыс. баррелей (ниже безубыточного объёма — 111.11 тыс. баррелей).\n",
    "\n",
    "* Средняя прибыль: 399.75 млн руб. \n",
    "\n",
    "* Точность предсказаний (RMSE): 37.69 (относительно высокая ошибка).\n",
    "\n",
    "* Риск убытков:  6.00%.\n",
    "\n",
    "\n",
    "Этот регион демонстрирует хорошие средние запасы сырья, однако риск убытков составляет 6%. Модель предсказаний имеет высокую ошибку, что делает прогнозы менее точными. Несмотря на это, средняя прибыль достаточно высока, что делает регион перспективным.\n",
    "\n",
    "-------\n",
    "**Регион 1:**\n",
    "\n",
    "* Средний запас сырья: 68.86 тыс. баррелей (значительно ниже безубыточного объёма).\n",
    "\n",
    "* Средняя прибыль: 445.36 млн руб.(наивысшая среди всех регионов).\n",
    "\n",
    "* Точность предсказаний (RMSE): 0.89 (лучшая среди всех регионов).\n",
    "\n",
    "* Риск убытков: 1.20%.\n",
    "\n",
    "Этот регион имеет минимальный риск убытков и высокую точность предсказаний (RMSE всего 0.89). Однако средние запасы сырья ниже, чем в других регионах. Высокая точность модели компенсирует низкие запасы, делая прогнозы более надёжными. Регион демонстрирует наивысшую среднюю прибыль и минимальный риск, что делает его лучшим выбором.\n",
    "\n",
    "------\n",
    "**Регион 2:**\n",
    "\n",
    "* Средний запас сырья: 94.81 тыс. баррелей (ближе к безубыточному объёму, но всё ещё ниже).\n",
    "\n",
    "* Средняя прибыль: 316.36 млн руб. (наименьшая среди всех регионов).\n",
    "\n",
    "* Точность предсказаний (RMSE): 39.86 (самая высокая ошибка).\n",
    "\n",
    "* Риск убытков: 10.30%.\n",
    "\n",
    "Средние запасы сырья в этом регионе высокие, однако прибыль наименьшая среди всех регионов. Риск убытков достигает 10.30%, а точность предсказаний оставляет желать лучшего (самая высокая RMSE). Эти факторы делают регион менее привлекательным для разработки.\n",
    "\n",
    "------\n",
    "**Рекомендации:**\n",
    "\n",
    "* Рекомендуем выбрать регион 1 для разработки скважин.\n",
    "\n",
    "* Причины: Регион показывает наивысшую среднюю прибыль (445.36 млн руб.) при нулевом риске убытков. Несмотря на относительно высокую ошибку предсказаний, значительные средние запасы и прибыль делают его наиболее перспективным.\n",
    "\n",
    "* Минимальный риск убытков (1.20%)\n",
    "\n",
    "* Высокую точность модели предсказаний (RMSE 0.89).\n",
    "\n",
    "Несмотря на более низкие средние запасы сырья, высокая точность предсказаний и минимальный риск делают его наиболее надёжным и выгодным выбором для инвестиций."
   ]
  }
 ],
 "metadata": {
  "ExecuteTimeLog": [
   {
    "duration": 1370,
    "start_time": "2024-11-19T11:27:28.539Z"
   },
   {
    "duration": 1137,
    "start_time": "2024-11-19T11:30:15.876Z"
   },
   {
    "duration": 27,
    "start_time": "2024-11-19T11:30:18.848Z"
   },
   {
    "duration": 13,
    "start_time": "2024-11-19T11:30:24.908Z"
   },
   {
    "duration": 13,
    "start_time": "2024-11-19T11:30:31.314Z"
   },
   {
    "duration": 46,
    "start_time": "2024-11-20T05:26:01.777Z"
   },
   {
    "duration": 1290,
    "start_time": "2024-11-20T05:26:04.404Z"
   },
   {
    "duration": 976,
    "start_time": "2024-11-20T05:26:05.696Z"
   },
   {
    "duration": 14,
    "start_time": "2024-11-20T05:26:06.673Z"
   },
   {
    "duration": 70,
    "start_time": "2024-11-20T05:26:06.689Z"
   },
   {
    "duration": 23,
    "start_time": "2024-11-20T05:26:06.760Z"
   },
   {
    "duration": 19,
    "start_time": "2024-11-20T05:26:06.784Z"
   },
   {
    "duration": 12,
    "start_time": "2024-11-20T05:26:20.330Z"
   },
   {
    "duration": 12,
    "start_time": "2024-11-20T05:26:25.230Z"
   },
   {
    "duration": 12,
    "start_time": "2024-11-20T05:26:41.599Z"
   },
   {
    "duration": 11,
    "start_time": "2024-11-20T05:26:44.903Z"
   },
   {
    "duration": 12,
    "start_time": "2024-11-20T05:26:45.191Z"
   },
   {
    "duration": 32,
    "start_time": "2024-11-20T05:26:51.646Z"
   },
   {
    "duration": 12,
    "start_time": "2024-11-20T05:27:46.329Z"
   },
   {
    "duration": 9,
    "start_time": "2024-11-20T05:27:50.880Z"
   },
   {
    "duration": 9,
    "start_time": "2024-11-20T05:27:54.325Z"
   },
   {
    "duration": 64,
    "start_time": "2024-11-20T05:33:53.870Z"
   },
   {
    "duration": 251,
    "start_time": "2024-11-20T05:34:12.175Z"
   },
   {
    "duration": 36,
    "start_time": "2024-11-20T05:34:16.082Z"
   },
   {
    "duration": 16,
    "start_time": "2024-11-20T05:34:17.461Z"
   },
   {
    "duration": 3,
    "start_time": "2024-11-20T05:34:43.743Z"
   },
   {
    "duration": 3,
    "start_time": "2024-11-20T05:35:20.269Z"
   },
   {
    "duration": 3,
    "start_time": "2024-11-20T05:35:26.958Z"
   },
   {
    "duration": 20,
    "start_time": "2024-11-20T05:35:32.704Z"
   },
   {
    "duration": 82,
    "start_time": "2024-11-20T05:35:41.443Z"
   },
   {
    "duration": 5,
    "start_time": "2024-11-20T05:35:49.725Z"
   },
   {
    "duration": 6,
    "start_time": "2024-11-20T05:35:56.312Z"
   },
   {
    "duration": 11,
    "start_time": "2024-11-20T05:39:37.669Z"
   },
   {
    "duration": 11,
    "start_time": "2024-11-20T05:39:40.257Z"
   },
   {
    "duration": 24,
    "start_time": "2024-11-20T05:39:44.398Z"
   },
   {
    "duration": 3,
    "start_time": "2024-11-20T05:39:44.639Z"
   },
   {
    "duration": 3,
    "start_time": "2024-11-20T05:39:44.806Z"
   },
   {
    "duration": 135,
    "start_time": "2024-11-20T05:39:44.977Z"
   },
   {
    "duration": 5,
    "start_time": "2024-11-20T05:39:45.212Z"
   },
   {
    "duration": 6,
    "start_time": "2024-11-20T05:39:45.302Z"
   },
   {
    "duration": 4,
    "start_time": "2024-11-20T05:39:57.566Z"
   },
   {
    "duration": 454,
    "start_time": "2024-11-20T05:39:57.758Z"
   },
   {
    "duration": 11,
    "start_time": "2024-11-20T05:39:58.213Z"
   },
   {
    "duration": 12,
    "start_time": "2024-11-20T05:39:58.225Z"
   },
   {
    "duration": 10,
    "start_time": "2024-11-20T05:39:58.271Z"
   },
   {
    "duration": 12,
    "start_time": "2024-11-20T05:39:58.445Z"
   },
   {
    "duration": 18,
    "start_time": "2024-11-20T05:39:58.644Z"
   },
   {
    "duration": 12,
    "start_time": "2024-11-20T05:39:59.251Z"
   },
   {
    "duration": 8,
    "start_time": "2024-11-20T05:39:59.624Z"
   },
   {
    "duration": 8,
    "start_time": "2024-11-20T05:39:59.876Z"
   },
   {
    "duration": 10,
    "start_time": "2024-11-20T05:40:00.123Z"
   },
   {
    "duration": 24,
    "start_time": "2024-11-20T05:40:00.482Z"
   },
   {
    "duration": 3,
    "start_time": "2024-11-20T05:40:00.748Z"
   },
   {
    "duration": 3,
    "start_time": "2024-11-20T05:40:01.070Z"
   },
   {
    "duration": 172,
    "start_time": "2024-11-20T05:40:01.840Z"
   },
   {
    "duration": 4,
    "start_time": "2024-11-20T05:40:02.234Z"
   },
   {
    "duration": 5,
    "start_time": "2024-11-20T05:40:02.486Z"
   },
   {
    "duration": 9,
    "start_time": "2024-11-20T05:41:07.748Z"
   },
   {
    "duration": 4,
    "start_time": "2024-11-20T05:54:40.127Z"
   },
   {
    "duration": 7,
    "start_time": "2024-11-20T05:56:53.405Z"
   },
   {
    "duration": 10,
    "start_time": "2024-11-20T06:01:33.105Z"
   },
   {
    "duration": 7,
    "start_time": "2024-11-20T06:02:12.401Z"
   },
   {
    "duration": 9,
    "start_time": "2024-11-20T06:05:32.007Z"
   },
   {
    "duration": 9,
    "start_time": "2024-11-20T06:05:36.974Z"
   },
   {
    "duration": 9,
    "start_time": "2024-11-20T06:05:41.523Z"
   },
   {
    "duration": 32,
    "start_time": "2024-11-20T06:06:18.551Z"
   },
   {
    "duration": 32,
    "start_time": "2024-11-20T06:07:07.731Z"
   },
   {
    "duration": 53,
    "start_time": "2024-11-20T06:12:27.892Z"
   },
   {
    "duration": 51,
    "start_time": "2024-11-20T06:13:11.885Z"
   },
   {
    "duration": 80,
    "start_time": "2024-11-20T06:13:33.058Z"
   },
   {
    "duration": 55,
    "start_time": "2024-11-20T06:13:40.758Z"
   },
   {
    "duration": 16,
    "start_time": "2024-11-20T06:15:25.865Z"
   },
   {
    "duration": 1413,
    "start_time": "2024-11-20T06:15:26.596Z"
   },
   {
    "duration": 58,
    "start_time": "2024-11-20T06:15:56.677Z"
   },
   {
    "duration": 49,
    "start_time": "2024-11-20T06:16:05.623Z"
   },
   {
    "duration": 58,
    "start_time": "2024-11-20T06:16:10.936Z"
   },
   {
    "duration": 70,
    "start_time": "2024-11-20T06:16:20.118Z"
   },
   {
    "duration": 3,
    "start_time": "2024-11-20T06:16:22.234Z"
   },
   {
    "duration": 3,
    "start_time": "2024-11-20T06:16:22.491Z"
   },
   {
    "duration": 142,
    "start_time": "2024-11-20T06:16:22.672Z"
   },
   {
    "duration": 5,
    "start_time": "2024-11-20T06:16:22.915Z"
   },
   {
    "duration": 15,
    "start_time": "2024-11-20T06:16:23.667Z"
   },
   {
    "duration": 11,
    "start_time": "2024-11-20T06:16:28.544Z"
   },
   {
    "duration": 10,
    "start_time": "2024-11-20T06:18:08.912Z"
   },
   {
    "duration": 4,
    "start_time": "2024-11-20T06:18:13.272Z"
   },
   {
    "duration": 467,
    "start_time": "2024-11-20T06:18:13.465Z"
   },
   {
    "duration": 8,
    "start_time": "2024-11-20T06:18:13.933Z"
   },
   {
    "duration": 8,
    "start_time": "2024-11-20T06:18:13.977Z"
   },
   {
    "duration": 9,
    "start_time": "2024-11-20T06:18:14.508Z"
   },
   {
    "duration": 7,
    "start_time": "2024-11-20T06:18:16.296Z"
   },
   {
    "duration": 56,
    "start_time": "2024-11-20T06:18:26.536Z"
   },
   {
    "duration": 37,
    "start_time": "2024-11-20T06:18:40.007Z"
   },
   {
    "duration": 11,
    "start_time": "2024-11-20T06:18:50.234Z"
   },
   {
    "duration": 9,
    "start_time": "2024-11-20T06:19:21.532Z"
   },
   {
    "duration": 47,
    "start_time": "2024-11-20T06:19:27.686Z"
   },
   {
    "duration": 34,
    "start_time": "2024-11-20T06:19:49.089Z"
   },
   {
    "duration": 11,
    "start_time": "2024-11-20T06:19:56.482Z"
   },
   {
    "duration": 6,
    "start_time": "2024-11-20T06:20:07.628Z"
   },
   {
    "duration": 7,
    "start_time": "2024-11-20T06:20:18.731Z"
   },
   {
    "duration": 6,
    "start_time": "2024-11-20T06:20:30.909Z"
   },
   {
    "duration": 57,
    "start_time": "2024-11-20T06:20:32.735Z"
   },
   {
    "duration": 40,
    "start_time": "2024-11-20T06:20:56.854Z"
   },
   {
    "duration": 5,
    "start_time": "2024-11-20T06:35:20.683Z"
   },
   {
    "duration": 6,
    "start_time": "2024-11-20T06:37:45.192Z"
   },
   {
    "duration": 6,
    "start_time": "2024-11-20T06:38:01.001Z"
   },
   {
    "duration": 8,
    "start_time": "2024-11-20T06:38:10.434Z"
   },
   {
    "duration": 23,
    "start_time": "2024-11-20T06:48:29.109Z"
   },
   {
    "duration": 12,
    "start_time": "2024-11-20T06:49:03.946Z"
   },
   {
    "duration": 30,
    "start_time": "2024-11-20T06:49:05.024Z"
   },
   {
    "duration": 17,
    "start_time": "2024-11-20T06:49:41.443Z"
   },
   {
    "duration": 12,
    "start_time": "2024-11-20T06:49:49.954Z"
   },
   {
    "duration": 14,
    "start_time": "2024-11-20T06:50:15.272Z"
   },
   {
    "duration": 15,
    "start_time": "2024-11-20T06:50:17.019Z"
   },
   {
    "duration": 9,
    "start_time": "2024-11-20T06:50:17.567Z"
   },
   {
    "duration": 30,
    "start_time": "2024-11-20T06:50:18.003Z"
   },
   {
    "duration": 23,
    "start_time": "2024-11-20T06:50:37.026Z"
   },
   {
    "duration": 12,
    "start_time": "2024-11-20T06:50:48.059Z"
   },
   {
    "duration": 30,
    "start_time": "2024-11-20T06:50:49.869Z"
   },
   {
    "duration": 82,
    "start_time": "2024-11-20T06:50:55.115Z"
   },
   {
    "duration": 3,
    "start_time": "2024-11-20T06:50:57.213Z"
   },
   {
    "duration": 2,
    "start_time": "2024-11-20T06:50:57.545Z"
   },
   {
    "duration": 126,
    "start_time": "2024-11-20T06:50:57.694Z"
   },
   {
    "duration": 5,
    "start_time": "2024-11-20T06:50:58.588Z"
   },
   {
    "duration": 14,
    "start_time": "2024-11-20T06:51:01.991Z"
   },
   {
    "duration": 1483,
    "start_time": "2024-11-21T05:33:58.357Z"
   },
   {
    "duration": 1000,
    "start_time": "2024-11-21T05:33:59.843Z"
   },
   {
    "duration": 12,
    "start_time": "2024-11-21T05:34:00.844Z"
   },
   {
    "duration": 13,
    "start_time": "2024-11-21T05:34:00.857Z"
   },
   {
    "duration": 21,
    "start_time": "2024-11-21T05:34:00.871Z"
   },
   {
    "duration": 7,
    "start_time": "2024-11-21T05:34:01.385Z"
   },
   {
    "duration": 61,
    "start_time": "2024-11-21T05:34:01.643Z"
   },
   {
    "duration": 19,
    "start_time": "2024-11-21T05:34:02.124Z"
   },
   {
    "duration": 14,
    "start_time": "2024-11-21T05:34:02.498Z"
   },
   {
    "duration": 31,
    "start_time": "2024-11-21T05:34:03.128Z"
   },
   {
    "duration": 9,
    "start_time": "2024-11-21T05:34:03.922Z"
   },
   {
    "duration": 6,
    "start_time": "2024-11-21T05:34:04.474Z"
   },
   {
    "duration": 6,
    "start_time": "2024-11-21T05:34:05.320Z"
   },
   {
    "duration": 51,
    "start_time": "2024-11-21T05:34:05.512Z"
   },
   {
    "duration": 20,
    "start_time": "2024-11-21T05:34:05.712Z"
   },
   {
    "duration": 23,
    "start_time": "2024-11-21T05:34:05.898Z"
   },
   {
    "duration": 31,
    "start_time": "2024-11-21T05:34:06.105Z"
   },
   {
    "duration": 9,
    "start_time": "2024-11-21T05:34:06.297Z"
   },
   {
    "duration": 5,
    "start_time": "2024-11-21T05:34:06.486Z"
   },
   {
    "duration": 6,
    "start_time": "2024-11-21T05:34:06.888Z"
   },
   {
    "duration": 57,
    "start_time": "2024-11-21T05:34:07.087Z"
   },
   {
    "duration": 27,
    "start_time": "2024-11-21T05:34:07.272Z"
   },
   {
    "duration": 14,
    "start_time": "2024-11-21T05:34:07.470Z"
   },
   {
    "duration": 30,
    "start_time": "2024-11-21T05:34:08.152Z"
   },
   {
    "duration": 8,
    "start_time": "2024-11-21T05:34:08.537Z"
   },
   {
    "duration": 6,
    "start_time": "2024-11-21T05:34:08.809Z"
   },
   {
    "duration": 85,
    "start_time": "2024-11-21T05:34:09.670Z"
   },
   {
    "duration": 2,
    "start_time": "2024-11-21T05:34:10.347Z"
   },
   {
    "duration": 2,
    "start_time": "2024-11-21T05:34:10.893Z"
   },
   {
    "duration": 128,
    "start_time": "2024-11-21T05:34:11.282Z"
   },
   {
    "duration": 4,
    "start_time": "2024-11-21T05:34:12.198Z"
   },
   {
    "duration": 21,
    "start_time": "2024-11-21T05:34:13.221Z"
   },
   {
    "duration": 2,
    "start_time": "2024-11-21T05:36:43.083Z"
   },
   {
    "duration": 4,
    "start_time": "2024-11-21T05:37:07.467Z"
   },
   {
    "duration": 3,
    "start_time": "2024-11-21T05:37:17.847Z"
   },
   {
    "duration": 12,
    "start_time": "2024-11-21T05:37:36.513Z"
   },
   {
    "duration": 10074,
    "start_time": "2024-11-21T05:37:57.186Z"
   },
   {
    "duration": 6,
    "start_time": "2024-11-21T05:38:12.420Z"
   },
   {
    "duration": 3,
    "start_time": "2024-11-21T05:39:22.016Z"
   },
   {
    "duration": 460,
    "start_time": "2024-11-21T05:39:22.331Z"
   },
   {
    "duration": 7,
    "start_time": "2024-11-21T05:39:22.793Z"
   },
   {
    "duration": 10,
    "start_time": "2024-11-21T05:39:23.074Z"
   },
   {
    "duration": 57,
    "start_time": "2024-11-21T05:39:23.105Z"
   },
   {
    "duration": 6,
    "start_time": "2024-11-21T05:39:23.213Z"
   },
   {
    "duration": 55,
    "start_time": "2024-11-21T05:39:23.243Z"
   },
   {
    "duration": 15,
    "start_time": "2024-11-21T05:39:23.300Z"
   },
   {
    "duration": 30,
    "start_time": "2024-11-21T05:39:23.316Z"
   },
   {
    "duration": 30,
    "start_time": "2024-11-21T05:39:23.789Z"
   },
   {
    "duration": 8,
    "start_time": "2024-11-21T05:39:24.215Z"
   },
   {
    "duration": 5,
    "start_time": "2024-11-21T05:39:24.589Z"
   },
   {
    "duration": 6,
    "start_time": "2024-11-21T05:39:25.460Z"
   },
   {
    "duration": 49,
    "start_time": "2024-11-21T05:39:25.644Z"
   },
   {
    "duration": 16,
    "start_time": "2024-11-21T05:39:26.154Z"
   },
   {
    "duration": 11,
    "start_time": "2024-11-21T05:39:26.186Z"
   },
   {
    "duration": 29,
    "start_time": "2024-11-21T05:39:26.218Z"
   },
   {
    "duration": 7,
    "start_time": "2024-11-21T05:39:26.250Z"
   },
   {
    "duration": 4,
    "start_time": "2024-11-21T05:39:26.278Z"
   },
   {
    "duration": 5,
    "start_time": "2024-11-21T05:39:26.716Z"
   },
   {
    "duration": 55,
    "start_time": "2024-11-21T05:39:27.025Z"
   },
   {
    "duration": 29,
    "start_time": "2024-11-21T05:39:27.223Z"
   },
   {
    "duration": 12,
    "start_time": "2024-11-21T05:39:27.426Z"
   },
   {
    "duration": 30,
    "start_time": "2024-11-21T05:39:28.058Z"
   },
   {
    "duration": 8,
    "start_time": "2024-11-21T05:39:28.218Z"
   },
   {
    "duration": 7,
    "start_time": "2024-11-21T05:39:29.331Z"
   },
   {
    "duration": 70,
    "start_time": "2024-11-21T05:39:30.157Z"
   },
   {
    "duration": 3,
    "start_time": "2024-11-21T05:39:33.670Z"
   },
   {
    "duration": 2,
    "start_time": "2024-11-21T05:39:35.728Z"
   },
   {
    "duration": 202,
    "start_time": "2024-11-21T05:40:10.405Z"
   },
   {
    "duration": 6,
    "start_time": "2024-11-21T05:40:12.282Z"
   },
   {
    "duration": 14,
    "start_time": "2024-11-21T05:40:14.254Z"
   },
   {
    "duration": 3,
    "start_time": "2024-11-21T05:42:16.611Z"
   },
   {
    "duration": 3,
    "start_time": "2024-11-21T05:42:17.634Z"
   },
   {
    "duration": 293,
    "start_time": "2024-11-21T05:42:22.514Z"
   },
   {
    "duration": 165,
    "start_time": "2024-11-21T05:42:23.343Z"
   },
   {
    "duration": 4,
    "start_time": "2024-11-21T05:42:24.052Z"
   },
   {
    "duration": 6,
    "start_time": "2024-11-21T05:42:25.465Z"
   },
   {
    "duration": 8,
    "start_time": "2024-11-21T05:42:32.394Z"
   },
   {
    "duration": 96,
    "start_time": "2024-11-21T06:31:07.742Z"
   },
   {
    "duration": 2,
    "start_time": "2024-11-21T06:31:10.880Z"
   },
   {
    "duration": 3,
    "start_time": "2024-11-21T06:31:11.905Z"
   },
   {
    "duration": 3,
    "start_time": "2024-11-21T06:31:20.234Z"
   },
   {
    "duration": 3,
    "start_time": "2024-11-21T06:31:57.283Z"
   },
   {
    "duration": 4,
    "start_time": "2024-11-21T06:32:01.518Z"
   },
   {
    "duration": 4,
    "start_time": "2024-11-21T06:32:03.202Z"
   },
   {
    "duration": 75,
    "start_time": "2024-11-21T06:32:37.452Z"
   },
   {
    "duration": 3,
    "start_time": "2024-11-21T06:32:46.835Z"
   },
   {
    "duration": 3,
    "start_time": "2024-11-21T06:32:47.746Z"
   },
   {
    "duration": 4,
    "start_time": "2024-11-21T06:32:49.215Z"
   },
   {
    "duration": 3,
    "start_time": "2024-11-21T06:33:17.785Z"
   },
   {
    "duration": 4,
    "start_time": "2024-11-21T06:33:18.573Z"
   },
   {
    "duration": 3,
    "start_time": "2024-11-21T06:33:20.199Z"
   },
   {
    "duration": 1678,
    "start_time": "2024-11-23T14:30:25.636Z"
   },
   {
    "duration": 1062,
    "start_time": "2024-11-23T14:30:27.317Z"
   },
   {
    "duration": 13,
    "start_time": "2024-11-23T14:30:28.381Z"
   },
   {
    "duration": 8,
    "start_time": "2024-11-23T14:30:28.396Z"
   },
   {
    "duration": 8,
    "start_time": "2024-11-23T14:30:28.406Z"
   },
   {
    "duration": 13,
    "start_time": "2024-11-23T14:30:28.416Z"
   },
   {
    "duration": 83,
    "start_time": "2024-11-23T14:30:28.431Z"
   },
   {
    "duration": 25,
    "start_time": "2024-11-23T14:30:28.639Z"
   },
   {
    "duration": 18,
    "start_time": "2024-11-23T14:30:29.538Z"
   },
   {
    "duration": 39,
    "start_time": "2024-11-23T14:30:30.240Z"
   },
   {
    "duration": 16,
    "start_time": "2024-11-23T14:30:31.007Z"
   },
   {
    "duration": 6,
    "start_time": "2024-11-23T14:30:31.654Z"
   },
   {
    "duration": 7,
    "start_time": "2024-11-23T14:30:35.344Z"
   },
   {
    "duration": 55,
    "start_time": "2024-11-23T14:30:35.658Z"
   },
   {
    "duration": 24,
    "start_time": "2024-11-23T14:30:36.393Z"
   },
   {
    "duration": 18,
    "start_time": "2024-11-23T14:30:36.691Z"
   },
   {
    "duration": 34,
    "start_time": "2024-11-23T14:30:37.006Z"
   },
   {
    "duration": 10,
    "start_time": "2024-11-23T14:30:37.470Z"
   },
   {
    "duration": 6,
    "start_time": "2024-11-23T14:30:38.082Z"
   },
   {
    "duration": 6,
    "start_time": "2024-11-23T14:30:39.959Z"
   },
   {
    "duration": 61,
    "start_time": "2024-11-23T14:30:40.301Z"
   },
   {
    "duration": 24,
    "start_time": "2024-11-23T14:30:40.584Z"
   },
   {
    "duration": 18,
    "start_time": "2024-11-23T14:30:41.021Z"
   },
   {
    "duration": 34,
    "start_time": "2024-11-23T14:30:44.817Z"
   },
   {
    "duration": 11,
    "start_time": "2024-11-23T14:30:45.038Z"
   },
   {
    "duration": 139,
    "start_time": "2024-11-23T14:30:47.999Z"
   },
   {
    "duration": 3,
    "start_time": "2024-11-23T14:30:51.314Z"
   },
   {
    "duration": 315,
    "start_time": "2024-11-23T14:30:52.250Z"
   },
   {
    "duration": 5,
    "start_time": "2024-11-23T14:30:57.519Z"
   },
   {
    "duration": 18,
    "start_time": "2024-11-23T14:31:06.940Z"
   },
   {
    "duration": 2,
    "start_time": "2024-11-23T14:32:21.231Z"
   },
   {
    "duration": 4,
    "start_time": "2024-11-23T14:32:23.683Z"
   },
   {
    "duration": 3,
    "start_time": "2024-11-23T14:34:02.248Z"
   },
   {
    "duration": 3,
    "start_time": "2024-11-23T14:34:03.675Z"
   },
   {
    "duration": 5,
    "start_time": "2024-11-23T14:34:08.389Z"
   },
   {
    "duration": 5,
    "start_time": "2024-11-23T14:35:30.039Z"
   },
   {
    "duration": 4,
    "start_time": "2024-11-23T14:35:31.167Z"
   },
   {
    "duration": 4,
    "start_time": "2024-11-23T14:35:35.746Z"
   },
   {
    "duration": 5,
    "start_time": "2024-11-23T14:35:36.874Z"
   },
   {
    "duration": 4,
    "start_time": "2024-11-23T14:49:48.245Z"
   },
   {
    "duration": 78,
    "start_time": "2024-11-23T15:01:58.301Z"
   },
   {
    "duration": 4,
    "start_time": "2024-11-23T15:08:04.620Z"
   },
   {
    "duration": 11,
    "start_time": "2024-11-23T15:09:17.902Z"
   },
   {
    "duration": 19,
    "start_time": "2024-11-23T15:10:21.795Z"
   },
   {
    "duration": 3,
    "start_time": "2024-11-23T15:11:12.055Z"
   },
   {
    "duration": 4,
    "start_time": "2024-11-23T15:11:15.840Z"
   },
   {
    "duration": 16,
    "start_time": "2024-11-23T15:11:19.751Z"
   },
   {
    "duration": 14,
    "start_time": "2024-11-23T15:11:26.110Z"
   },
   {
    "duration": 15,
    "start_time": "2024-11-23T15:47:04.204Z"
   },
   {
    "duration": 5,
    "start_time": "2024-11-23T15:52:01.912Z"
   },
   {
    "duration": 13,
    "start_time": "2024-11-23T15:52:03.395Z"
   },
   {
    "duration": 5,
    "start_time": "2024-11-23T16:02:34.989Z"
   },
   {
    "duration": 143,
    "start_time": "2024-11-23T16:02:35.360Z"
   },
   {
    "duration": 1991,
    "start_time": "2024-11-24T11:52:54.451Z"
   },
   {
    "duration": 1199,
    "start_time": "2024-11-24T11:52:56.447Z"
   },
   {
    "duration": 16,
    "start_time": "2024-11-24T11:52:57.648Z"
   },
   {
    "duration": 16,
    "start_time": "2024-11-24T11:52:57.669Z"
   },
   {
    "duration": 15,
    "start_time": "2024-11-24T11:52:57.688Z"
   },
   {
    "duration": 19,
    "start_time": "2024-11-24T11:52:57.705Z"
   },
   {
    "duration": 141,
    "start_time": "2024-11-24T11:52:57.726Z"
   },
   {
    "duration": 57,
    "start_time": "2024-11-24T11:52:57.870Z"
   },
   {
    "duration": 46,
    "start_time": "2024-11-24T11:52:57.930Z"
   },
   {
    "duration": 56,
    "start_time": "2024-11-24T11:52:57.980Z"
   },
   {
    "duration": 39,
    "start_time": "2024-11-24T11:52:58.038Z"
   },
   {
    "duration": 9,
    "start_time": "2024-11-24T11:52:58.080Z"
   },
   {
    "duration": 8,
    "start_time": "2024-11-24T11:52:58.091Z"
   },
   {
    "duration": 136,
    "start_time": "2024-11-24T11:52:58.102Z"
   },
   {
    "duration": 40,
    "start_time": "2024-11-24T11:52:58.240Z"
   },
   {
    "duration": 19,
    "start_time": "2024-11-24T11:52:58.734Z"
   },
   {
    "duration": 47,
    "start_time": "2024-11-24T11:52:58.986Z"
   },
   {
    "duration": 12,
    "start_time": "2024-11-24T11:52:59.173Z"
   },
   {
    "duration": 8,
    "start_time": "2024-11-24T11:52:59.675Z"
   },
   {
    "duration": 7,
    "start_time": "2024-11-24T11:52:59.750Z"
   },
   {
    "duration": 124,
    "start_time": "2024-11-24T11:52:59.784Z"
   },
   {
    "duration": 49,
    "start_time": "2024-11-24T11:52:59.912Z"
   },
   {
    "duration": 37,
    "start_time": "2024-11-24T11:52:59.965Z"
   },
   {
    "duration": 49,
    "start_time": "2024-11-24T11:53:00.873Z"
   },
   {
    "duration": 11,
    "start_time": "2024-11-24T11:53:01.091Z"
   },
   {
    "duration": 7,
    "start_time": "2024-11-24T11:53:01.332Z"
   },
   {
    "duration": 224,
    "start_time": "2024-11-24T11:53:02.289Z"
   },
   {
    "duration": 3,
    "start_time": "2024-11-24T11:53:02.834Z"
   },
   {
    "duration": 182,
    "start_time": "2024-11-24T11:53:02.900Z"
   },
   {
    "duration": 81,
    "start_time": "2024-11-24T11:53:03.085Z"
   },
   {
    "duration": 31,
    "start_time": "2024-11-24T11:53:03.804Z"
   },
   {
    "duration": 4,
    "start_time": "2024-11-24T11:53:05.552Z"
   },
   {
    "duration": 6,
    "start_time": "2024-11-24T11:53:06.232Z"
   },
   {
    "duration": 5,
    "start_time": "2024-11-24T11:53:06.448Z"
   },
   {
    "duration": 5,
    "start_time": "2024-11-24T11:53:07.077Z"
   },
   {
    "duration": 6,
    "start_time": "2024-11-24T11:53:08.702Z"
   },
   {
    "duration": 22,
    "start_time": "2024-11-24T11:53:09.573Z"
   },
   {
    "duration": 14193,
    "start_time": "2024-11-24T11:53:14.463Z"
   },
   {
    "duration": 0,
    "start_time": "2024-11-24T11:53:28.658Z"
   },
   {
    "duration": 0,
    "start_time": "2024-11-24T11:53:28.659Z"
   },
   {
    "duration": 0,
    "start_time": "2024-11-24T11:53:28.665Z"
   },
   {
    "duration": 5,
    "start_time": "2024-11-24T11:53:31.727Z"
   },
   {
    "duration": 17,
    "start_time": "2024-11-24T11:53:32.850Z"
   },
   {
    "duration": 12,
    "start_time": "2024-11-24T11:53:50.050Z"
   },
   {
    "duration": 11,
    "start_time": "2024-11-24T11:53:50.514Z"
   },
   {
    "duration": 7,
    "start_time": "2024-11-24T12:06:34.163Z"
   },
   {
    "duration": 3,
    "start_time": "2024-11-24T12:06:41.233Z"
   },
   {
    "duration": 11,
    "start_time": "2024-11-24T12:10:03.062Z"
   },
   {
    "duration": 11,
    "start_time": "2024-11-24T12:10:06.956Z"
   },
   {
    "duration": 14,
    "start_time": "2024-11-24T12:10:11.857Z"
   },
   {
    "duration": 73,
    "start_time": "2024-11-24T12:20:55.709Z"
   },
   {
    "duration": 40,
    "start_time": "2024-11-24T12:21:09.399Z"
   },
   {
    "duration": 5,
    "start_time": "2024-11-24T12:21:12.576Z"
   },
   {
    "duration": 38,
    "start_time": "2024-11-24T12:21:12.925Z"
   },
   {
    "duration": 7,
    "start_time": "2024-11-24T12:21:31.680Z"
   },
   {
    "duration": 25460,
    "start_time": "2024-11-24T12:21:32.083Z"
   },
   {
    "duration": 73413,
    "start_time": "2024-11-24T12:22:44.471Z"
   },
   {
    "duration": 5440,
    "start_time": "2024-11-24T12:31:55.650Z"
   },
   {
    "duration": 5854,
    "start_time": "2024-11-24T12:32:28.496Z"
   },
   {
    "duration": 5243,
    "start_time": "2024-11-24T12:35:41.575Z"
   },
   {
    "duration": 5073,
    "start_time": "2024-11-24T12:36:39.713Z"
   },
   {
    "duration": 5703,
    "start_time": "2024-11-24T12:38:05.571Z"
   },
   {
    "duration": 5209,
    "start_time": "2024-11-24T12:38:24.033Z"
   },
   {
    "duration": 5295,
    "start_time": "2024-11-24T12:39:38.966Z"
   },
   {
    "duration": 4,
    "start_time": "2024-11-24T12:49:32.148Z"
   },
   {
    "duration": 6,
    "start_time": "2024-11-24T12:49:44.369Z"
   },
   {
    "duration": 3,
    "start_time": "2024-11-24T12:50:28.366Z"
   },
   {
    "duration": 4,
    "start_time": "2024-11-24T12:51:45.502Z"
   },
   {
    "duration": 17,
    "start_time": "2024-11-24T12:52:07.734Z"
   },
   {
    "duration": 11,
    "start_time": "2024-11-24T13:00:04.397Z"
   },
   {
    "duration": 15,
    "start_time": "2024-11-24T13:08:05.829Z"
   },
   {
    "duration": 5259,
    "start_time": "2024-11-24T13:16:38.884Z"
   },
   {
    "duration": 5,
    "start_time": "2024-11-24T13:50:24.244Z"
   },
   {
    "duration": 27,
    "start_time": "2024-11-24T13:50:24.872Z"
   },
   {
    "duration": 4,
    "start_time": "2024-11-24T13:50:38.429Z"
   },
   {
    "duration": 13,
    "start_time": "2024-11-24T13:50:39.013Z"
   },
   {
    "duration": 4,
    "start_time": "2024-11-24T13:50:54.686Z"
   },
   {
    "duration": 13,
    "start_time": "2024-11-24T13:50:55.221Z"
   },
   {
    "duration": 4,
    "start_time": "2024-11-24T13:51:08.197Z"
   },
   {
    "duration": 13,
    "start_time": "2024-11-24T13:51:08.528Z"
   },
   {
    "duration": 16,
    "start_time": "2024-11-24T16:54:21.118Z"
   },
   {
    "duration": 20,
    "start_time": "2024-11-24T16:54:32.858Z"
   },
   {
    "duration": 23,
    "start_time": "2024-11-24T16:54:36.865Z"
   },
   {
    "duration": 4104,
    "start_time": "2024-11-24T21:00:36.377Z"
   },
   {
    "duration": 1073,
    "start_time": "2024-11-24T21:00:40.484Z"
   },
   {
    "duration": 14,
    "start_time": "2024-11-24T21:00:41.559Z"
   },
   {
    "duration": 10,
    "start_time": "2024-11-24T21:00:41.575Z"
   },
   {
    "duration": 92,
    "start_time": "2024-11-24T21:00:41.587Z"
   },
   {
    "duration": 17,
    "start_time": "2024-11-24T21:00:41.681Z"
   },
   {
    "duration": 77,
    "start_time": "2024-11-24T21:00:41.700Z"
   },
   {
    "duration": 26,
    "start_time": "2024-11-24T21:00:41.779Z"
   },
   {
    "duration": 115,
    "start_time": "2024-11-24T21:00:41.807Z"
   },
   {
    "duration": 40,
    "start_time": "2024-11-24T21:00:41.925Z"
   },
   {
    "duration": 11,
    "start_time": "2024-11-24T21:00:41.967Z"
   },
   {
    "duration": 7,
    "start_time": "2024-11-24T21:00:41.979Z"
   },
   {
    "duration": 13,
    "start_time": "2024-11-24T21:00:41.988Z"
   },
   {
    "duration": 64,
    "start_time": "2024-11-24T21:00:42.022Z"
   },
   {
    "duration": 35,
    "start_time": "2024-11-24T21:00:42.088Z"
   },
   {
    "duration": 19,
    "start_time": "2024-11-24T21:00:42.124Z"
   },
   {
    "duration": 40,
    "start_time": "2024-11-24T21:00:42.145Z"
   },
   {
    "duration": 10,
    "start_time": "2024-11-24T21:00:42.186Z"
   },
   {
    "duration": 6,
    "start_time": "2024-11-24T21:00:42.221Z"
   },
   {
    "duration": 11,
    "start_time": "2024-11-24T21:00:42.228Z"
   },
   {
    "duration": 94,
    "start_time": "2024-11-24T21:00:42.240Z"
   },
   {
    "duration": 28,
    "start_time": "2024-11-24T21:00:42.336Z"
   },
   {
    "duration": 61,
    "start_time": "2024-11-24T21:00:42.366Z"
   },
   {
    "duration": 56,
    "start_time": "2024-11-24T21:00:42.429Z"
   },
   {
    "duration": 24,
    "start_time": "2024-11-24T21:00:42.487Z"
   },
   {
    "duration": 22,
    "start_time": "2024-11-24T21:00:42.514Z"
   },
   {
    "duration": 140,
    "start_time": "2024-11-24T21:00:42.538Z"
   },
   {
    "duration": 3,
    "start_time": "2024-11-24T21:00:42.682Z"
   },
   {
    "duration": 242,
    "start_time": "2024-11-24T21:00:42.687Z"
   },
   {
    "duration": 7,
    "start_time": "2024-11-24T21:00:43.022Z"
   },
   {
    "duration": 10,
    "start_time": "2024-11-24T21:00:43.121Z"
   },
   {
    "duration": 20,
    "start_time": "2024-11-24T21:00:43.132Z"
   },
   {
    "duration": 8,
    "start_time": "2024-11-24T21:00:43.154Z"
   },
   {
    "duration": 9,
    "start_time": "2024-11-24T21:00:43.164Z"
   },
   {
    "duration": 26,
    "start_time": "2024-11-24T21:00:43.175Z"
   },
   {
    "duration": 23,
    "start_time": "2024-11-24T21:00:43.203Z"
   },
   {
    "duration": 22,
    "start_time": "2024-11-24T21:00:43.228Z"
   },
   {
    "duration": 6135,
    "start_time": "2024-11-24T21:00:43.251Z"
   },
   {
    "duration": 6003,
    "start_time": "2024-11-24T21:00:49.388Z"
   },
   {
    "duration": 123,
    "start_time": "2024-11-24T21:00:55.393Z"
   },
   {
    "duration": 1065,
    "start_time": "2024-11-24T21:04:16.877Z"
   },
   {
    "duration": 1091,
    "start_time": "2024-11-24T21:04:24.475Z"
   },
   {
    "duration": 14,
    "start_time": "2024-11-24T21:04:29.481Z"
   },
   {
    "duration": 1045,
    "start_time": "2024-11-24T21:04:51.585Z"
   },
   {
    "duration": 857,
    "start_time": "2024-11-24T21:04:55.975Z"
   },
   {
    "duration": 6189,
    "start_time": "2024-11-24T21:04:59.863Z"
   },
   {
    "duration": 4,
    "start_time": "2024-11-24T21:05:08.487Z"
   },
   {
    "duration": 11,
    "start_time": "2024-11-24T21:05:24.826Z"
   },
   {
    "duration": 12,
    "start_time": "2024-11-24T21:05:43.081Z"
   },
   {
    "duration": 8,
    "start_time": "2024-11-24T21:05:46.419Z"
   },
   {
    "duration": 9,
    "start_time": "2024-11-24T21:05:59.495Z"
   },
   {
    "duration": 4,
    "start_time": "2024-11-24T21:06:03.799Z"
   },
   {
    "duration": 4,
    "start_time": "2024-11-24T21:06:09.496Z"
   },
   {
    "duration": 5996,
    "start_time": "2024-11-24T21:06:19.528Z"
   },
   {
    "duration": 1049,
    "start_time": "2024-11-24T21:06:29.263Z"
   },
   {
    "duration": 881,
    "start_time": "2024-11-24T21:06:33.339Z"
   },
   {
    "duration": 6,
    "start_time": "2024-11-24T21:06:41.380Z"
   },
   {
    "duration": 8,
    "start_time": "2024-11-24T21:06:55.820Z"
   },
   {
    "duration": 5,
    "start_time": "2024-11-24T21:07:11.028Z"
   },
   {
    "duration": 5997,
    "start_time": "2024-11-24T21:16:52.464Z"
   },
   {
    "duration": 2043,
    "start_time": "2024-11-25T11:53:02.643Z"
   },
   {
    "duration": 1925,
    "start_time": "2024-11-25T11:53:04.691Z"
   },
   {
    "duration": 15,
    "start_time": "2024-11-25T11:53:06.618Z"
   },
   {
    "duration": 38,
    "start_time": "2024-11-25T11:53:06.635Z"
   },
   {
    "duration": 18,
    "start_time": "2024-11-25T11:53:06.675Z"
   },
   {
    "duration": 40,
    "start_time": "2024-11-25T11:53:06.695Z"
   },
   {
    "duration": 93,
    "start_time": "2024-11-25T11:53:06.736Z"
   },
   {
    "duration": 31,
    "start_time": "2024-11-25T11:53:06.831Z"
   },
   {
    "duration": 36,
    "start_time": "2024-11-25T11:53:06.864Z"
   },
   {
    "duration": 74,
    "start_time": "2024-11-25T11:53:06.903Z"
   },
   {
    "duration": 40,
    "start_time": "2024-11-25T11:53:06.978Z"
   },
   {
    "duration": 17,
    "start_time": "2024-11-25T11:53:07.020Z"
   },
   {
    "duration": 33,
    "start_time": "2024-11-25T11:53:07.038Z"
   },
   {
    "duration": 100,
    "start_time": "2024-11-25T11:53:07.073Z"
   },
   {
    "duration": 37,
    "start_time": "2024-11-25T11:53:07.174Z"
   },
   {
    "duration": 25,
    "start_time": "2024-11-25T11:53:07.212Z"
   },
   {
    "duration": 46,
    "start_time": "2024-11-25T11:53:07.239Z"
   },
   {
    "duration": 11,
    "start_time": "2024-11-25T11:53:07.286Z"
   },
   {
    "duration": 17,
    "start_time": "2024-11-25T11:53:07.299Z"
   },
   {
    "duration": 15,
    "start_time": "2024-11-25T11:53:07.318Z"
   },
   {
    "duration": 83,
    "start_time": "2024-11-25T11:53:07.334Z"
   },
   {
    "duration": 38,
    "start_time": "2024-11-25T11:53:07.419Z"
   },
   {
    "duration": 28,
    "start_time": "2024-11-25T11:53:07.458Z"
   },
   {
    "duration": 52,
    "start_time": "2024-11-25T11:53:07.487Z"
   },
   {
    "duration": 15,
    "start_time": "2024-11-25T11:53:07.541Z"
   },
   {
    "duration": 6,
    "start_time": "2024-11-25T11:53:07.558Z"
   },
   {
    "duration": 146,
    "start_time": "2024-11-25T11:53:07.566Z"
   },
   {
    "duration": 3,
    "start_time": "2024-11-25T11:53:07.716Z"
   },
   {
    "duration": 333,
    "start_time": "2024-11-25T11:53:07.720Z"
   },
   {
    "duration": 96,
    "start_time": "2024-11-25T11:53:08.055Z"
   },
   {
    "duration": 103,
    "start_time": "2024-11-25T11:53:08.156Z"
   },
   {
    "duration": 30,
    "start_time": "2024-11-25T11:53:08.261Z"
   },
   {
    "duration": 21,
    "start_time": "2024-11-25T11:53:08.293Z"
   },
   {
    "duration": 23,
    "start_time": "2024-11-25T11:53:08.316Z"
   },
   {
    "duration": 12,
    "start_time": "2024-11-25T11:53:08.341Z"
   },
   {
    "duration": 14,
    "start_time": "2024-11-25T11:53:08.354Z"
   },
   {
    "duration": 49,
    "start_time": "2024-11-25T11:53:08.370Z"
   },
   {
    "duration": 4991,
    "start_time": "2024-11-25T11:53:09.356Z"
   },
   {
    "duration": 991,
    "start_time": "2024-11-25T11:53:36.067Z"
   },
   {
    "duration": 976,
    "start_time": "2024-11-25T11:54:11.070Z"
   },
   {
    "duration": 12,
    "start_time": "2024-11-25T11:54:26.749Z"
   },
   {
    "duration": 1038,
    "start_time": "2024-11-25T11:54:33.461Z"
   }
  ],
  "kernelspec": {
   "display_name": "Python 3 (ipykernel)",
   "language": "python",
   "name": "python3"
  },
  "language_info": {
   "codemirror_mode": {
    "name": "ipython",
    "version": 3
   },
   "file_extension": ".py",
   "mimetype": "text/x-python",
   "name": "python",
   "nbconvert_exporter": "python",
   "pygments_lexer": "ipython3",
   "version": "3.12.7"
  },
  "toc": {
   "base_numbering": 1,
   "nav_menu": {},
   "number_sections": true,
   "sideBar": true,
   "skip_h1_title": true,
   "title_cell": "Table of Contents",
   "title_sidebar": "Contents",
   "toc_cell": false,
   "toc_position": {
    "height": "calc(100% - 180px)",
    "left": "10px",
    "top": "150px",
    "width": "375.797px"
   },
   "toc_section_display": true,
   "toc_window_display": false
  }
 },
 "nbformat": 4,
 "nbformat_minor": 4
}

{
 "cells": [
  {
   "cell_type": "markdown",
   "metadata": {},
   "source": [
    "# Определение стоимости автомобилей"
   ]
  },
  {
   "cell_type": "markdown",
   "metadata": {},
   "source": [
    "Сервис по продаже автомобилей с пробегом «Не бит, не крашен» разрабатывает приложение для привлечения новых клиентов. В нём можно быстро узнать рыночную стоимость своего автомобиля. В вашем распоряжении исторические данные: технические характеристики, комплектации и цены автомобилей. Вам нужно построить модель для определения стоимости. \n",
    "\n",
    "Заказчику важны:\n",
    "\n",
    "- качество предсказания;\n",
    "- скорость предсказания;\n",
    "- время обучения."
   ]
  },
  {
   "cell_type": "markdown",
   "metadata": {},
   "source": [
    "Признаки\n",
    "* DateCrawled — дата скачивания анкеты из базы\n",
    "* VehicleType — тип автомобильного кузова\n",
    "* RegistrationYear — год регистрации автомобиля\n",
    "* Gearbox — тип коробки передач\n",
    "* Power — мощность (л. с.)\n",
    "* Model — модель автомобиля\n",
    "* Kilometer — пробег (км)\n",
    "* RegistrationMonth — месяц регистрации автомобиля\n",
    "* FuelType — тип топлива\n",
    "* Brand — марка автомобиля\n",
    "* Repaired — была машина в ремонте или нет\n",
    "* DateCreated — дата создания анкеты\n",
    "* NumberOfPictures — количество фотографий автомобиля\n",
    "* PostalCode — почтовый индекс владельца анкеты (пользователя)\n",
    "* LastSeen — дата последней активности пользователя\n",
    "\n",
    "\n",
    "Целевой признак\n",
    "* Price — цена (евро)"
   ]
  },
  {
   "cell_type": "markdown",
   "metadata": {},
   "source": [
    "## Подготовка данных"
   ]
  },
  {
   "cell_type": "code",
   "execution_count": null,
   "metadata": {},
   "outputs": [],
   "source": [
    "!pip install phik -q\n",
    "!pip install --upgrade scikit-learn -q\n",
    "!pip install lightgbm --upgrade -q"
   ]
  },
  {
   "cell_type": "code",
   "execution_count": null,
   "metadata": {},
   "outputs": [],
   "source": [
    "import os\n",
    "import pandas as pd\n",
    "import numpy as np\n",
    "import matplotlib.pyplot as plt\n",
    "import seaborn as sns\n",
    "import re\n",
    "from time import time\n",
    "\n",
    "import phik\n",
    "from phik import phik_matrix\n",
    "from phik.report import plot_correlation_matrix\n",
    "\n",
    "from sklearn.model_selection import (\n",
    "    train_test_split,\n",
    "    cross_val_score,\n",
    "    RandomizedSearchCV\n",
    ")\n",
    "\n",
    "from sklearn.pipeline import Pipeline\n",
    "from sklearn.compose import ColumnTransformer\n",
    "from sklearn.impute import SimpleImputer\n",
    "\n",
    "from sklearn.preprocessing import (\n",
    "    OneHotEncoder,\n",
    "    OrdinalEncoder, \n",
    "    StandardScaler, \n",
    "    MinMaxScaler,\n",
    "    RobustScaler,\n",
    ")\n",
    "from sklearn.linear_model import LinearRegression\n",
    "from sklearn.ensemble import RandomForestRegressor\n",
    "from lightgbm import LGBMRegressor\n",
    "\n",
    "from sklearn.metrics import mean_squared_error\n",
    "\n",
    "from sklearn.dummy import DummyRegressor\n",
    "\n",
    "\n",
    "RANDOM_STATE = 42\n",
    "sns.set_style('darkgrid')\n",
    "threshold = 10\n",
    "top_n = 10"
   ]
  },
  {
   "cell_type": "code",
   "execution_count": null,
   "metadata": {},
   "outputs": [],
   "source": [
    "df1 = 'C:/Users/Gpets/Data With Python/datasets/datasets/autos.csv'\n",
    "\n",
    "df_alt = '/datasets/autos.csv'\n",
    "\n",
    "def load_data(primary_path, secondary_path):\n",
    "    if os.path.exists(primary_path):\n",
    "        try:\n",
    "            return pd.read_csv(primary_path, sep=',')\n",
    "        except:\n",
    "            return pd.read_csv(primary_path, sep=';')\n",
    "    elif os.path.exists(secondary_path):\n",
    "        try:\n",
    "            return pd.read_csv(secondary_path, sep=',')\n",
    "        except:\n",
    "            return pd.read_csv(secondary_path, sep=';')\n",
    "    else:\n",
    "        print(f\"Файл не найден: {primary_path} или {secondary_path}\")\n",
    "        return None\n",
    "\n",
    "\n",
    "df = load_data(df1, df_alt)"
   ]
  },
  {
   "cell_type": "code",
   "execution_count": null,
   "metadata": {},
   "outputs": [],
   "source": [
    "df.head()"
   ]
  },
  {
   "cell_type": "markdown",
   "metadata": {},
   "source": [
    "### Приведение названия столбцов к snake_case"
   ]
  },
  {
   "cell_type": "code",
   "execution_count": null,
   "metadata": {},
   "outputs": [],
   "source": [
    "frames = [\n",
    "    df\n",
    "]\n",
    "\n",
    "for i in frames:\n",
    "    i.columns = [re.sub(r'(?<!^)(?=[A-Z])', '_', x).replace(' ', '_').lower() for x in i.columns]"
   ]
  },
  {
   "cell_type": "code",
   "execution_count": null,
   "metadata": {},
   "outputs": [],
   "source": [
    "df.columns"
   ]
  },
  {
   "cell_type": "markdown",
   "metadata": {},
   "source": [
    "Удалим неинформативные признаки для определения стоимости автомобиля. Это:\n",
    "\n",
    "* `date_crawled` - дата скачивания анкеты из базы\n",
    "\n",
    "* `date_created` - дата создания анкеты\n",
    "\n",
    "* `number_of_pictures` - количество фотографий автомобиля\n",
    "\n",
    "* `postal_code` - почтовый индекс владельца анкеты (пользователя)\n",
    "\n",
    "* `last_seen` - дата последней активности пользователя"
   ]
  },
  {
   "cell_type": "markdown",
   "metadata": {},
   "source": [
    "Теперь выводим основную информацию о датафрейме с помощью метода `describe()` и `info()`"
   ]
  },
  {
   "cell_type": "code",
   "execution_count": null,
   "metadata": {},
   "outputs": [],
   "source": [
    "df.info()"
   ]
  },
  {
   "cell_type": "markdown",
   "metadata": {},
   "source": [
    "У нас 354.369 записей пользователей, есть пропущенные значения в столбцах, типы данных в целом, соответствуют ожиданиям."
   ]
  },
  {
   "cell_type": "markdown",
   "metadata": {},
   "source": [
    "Посмотрим подробнее на пропуски в таблице"
   ]
  },
  {
   "cell_type": "code",
   "execution_count": null,
   "metadata": {},
   "outputs": [],
   "source": [
    "df.isnull().sum()"
   ]
  },
  {
   "cell_type": "markdown",
   "metadata": {},
   "source": [
    "В данных имеются пропуски в 5 признаках: `vehicle_type`, `gearbox`, `model`, `fuel_type` и `repaired`\n",
    "\n",
    "Заменить их на медианы или средние значения нежелателоьно, так как каждая запись индивидуальна, и замена пропусков таким способом может сильно исказить нашу модель. Заполним пропуски значением `unknown`"
   ]
  },
  {
   "cell_type": "code",
   "execution_count": null,
   "metadata": {},
   "outputs": [],
   "source": [
    "columns_to_fill = ['vehicle_type', 'gearbox', 'model', 'fuel_type', 'repaired']\n",
    "df[columns_to_fill] = df[columns_to_fill].fillna('unknown')"
   ]
  },
  {
   "cell_type": "code",
   "execution_count": null,
   "metadata": {},
   "outputs": [],
   "source": [
    "df.isnull().sum()"
   ]
  },
  {
   "cell_type": "markdown",
   "metadata": {},
   "source": [
    "Теперь проведем проверку на явные дубликаты"
   ]
  },
  {
   "cell_type": "code",
   "execution_count": null,
   "metadata": {},
   "outputs": [],
   "source": [
    "print('Кол-во строк и столбцов в датасете:',df.shape)\n",
    "print(\"Число анкет:\", df.index.nunique())\n",
    "print('Число дубликатов',df.duplicated().sum())"
   ]
  },
  {
   "cell_type": "markdown",
   "metadata": {},
   "source": [
    "Нашлось немного дубликатов, избавимся от них"
   ]
  },
  {
   "cell_type": "code",
   "execution_count": null,
   "metadata": {},
   "outputs": [],
   "source": [
    "df = df.drop_duplicates()\n",
    "print('Число дубликатов',df.duplicated().sum())"
   ]
  },
  {
   "cell_type": "markdown",
   "metadata": {},
   "source": [
    "Явных дубликатов не наблюдается, теперь проверим на наличие неявных\n",
    "\n",
    "Создадим цикл который пройдется по категориальным признакам и покажет в них уникальные значения"
   ]
  },
  {
   "cell_type": "code",
   "execution_count": null,
   "metadata": {
    "scrolled": true
   },
   "outputs": [],
   "source": [
    "categorical_columns = ['vehicle_type', 'gearbox', 'model', 'fuel_type', 'brand', 'repaired']\n",
    "\n",
    "for column in categorical_columns:\n",
    "    print(f'Проверка столбца: {column}')\n",
    "    # Приводим все значения к нижнему регистру и удаляем пробелы\n",
    "    cleaned_values = df[column].str.strip().str.lower()\n",
    "    # Выводим уникальные значения и их частоту\n",
    "    print(cleaned_values.value_counts())\n",
    "    print()\n"
   ]
  },
  {
   "cell_type": "markdown",
   "metadata": {},
   "source": [
    "Неявных дубликатов нет"
   ]
  },
  {
   "cell_type": "code",
   "execution_count": null,
   "metadata": {},
   "outputs": [],
   "source": [
    "df.describe()"
   ]
  },
  {
   "cell_type": "markdown",
   "metadata": {},
   "source": [
    "У нас много аномалий в данных, например:\n",
    "\n",
    "* Цена автомобиля не может быть равна 0\n",
    "\n",
    "* Год регистрации не может быть равным 1000 или 9999 \n",
    "\n",
    "* Мощность машины не может быть равна 0 или 20,000 л.c\n",
    "\n",
    "* Месяц регистрации не может быть равен 0 \n",
    "\n",
    "Надо провести корректировку признаков"
   ]
  },
  {
   "cell_type": "code",
   "execution_count": null,
   "metadata": {},
   "outputs": [],
   "source": [
    "# Обработка аномалий в столбце Price\n",
    "df = df[df['price'] > 1000]  # Заменяем 0"
   ]
  },
  {
   "cell_type": "code",
   "execution_count": null,
   "metadata": {},
   "outputs": [],
   "source": [
    "# Обработка аномалий в столбце Power\n",
    "df = df[(df['power'] > 80) & (df['power'] <= 1500)]"
   ]
  },
  {
   "cell_type": "markdown",
   "metadata": {},
   "source": [
    "Определим год выгрузки по максимальной дате создания анкеты"
   ]
  },
  {
   "cell_type": "code",
   "execution_count": null,
   "metadata": {},
   "outputs": [],
   "source": [
    "df = df.assign(last_seen=pd.to_datetime(df['date_created'], errors='coerce'))\n",
    "df['date_created'].max()"
   ]
  },
  {
   "cell_type": "code",
   "execution_count": null,
   "metadata": {},
   "outputs": [],
   "source": [
    "current_year = 2016\n",
    "df = df[(df['registration_year'] >= 1970) & (df['registration_year'] <= current_year)]"
   ]
  },
  {
   "cell_type": "code",
   "execution_count": null,
   "metadata": {},
   "outputs": [],
   "source": [
    "df = df[df['registration_month'] > 0]\n",
    "# Проверим, как изменения отразились на данных\n",
    "df.describe()"
   ]
  },
  {
   "cell_type": "markdown",
   "metadata": {},
   "source": [
    "Рассмотрим каждый столбец:\n",
    "\n",
    "* **`Цена (price):`**\n",
    "\n",
    "    * Средняя цена составляет 6621.08, с диапазоном от 1001 до 20000. \n",
    "    \n",
    "    * Разброс значений высокий, что указывает на наличие как дешевых, так и дорогих автомобилей.\n",
    "    \n",
    "\n",
    "* **`Год регистрации (registration_year):`**\n",
    "\n",
    "    * Средний год регистрации — 2004.61, с минимальным значением 1970 и максимальным — 2020.\n",
    "    \n",
    "    * Преобладание автомобилей, зарегистрированных в 2000-х годах (период от 2001 до 2008).\n",
    "    \n",
    "\n",
    "* **`Мощность (power):`**\n",
    "\n",
    "    * Средняя мощность автомобилей — 144.83 л.с., с минимальным значением 81 л.с. и максимальным — 1500 л.с.\n",
    "    \n",
    "    * Есть автомобили с очень высокой мощностью, что может указывать на присутствие спортивных или мощных моделей.\n",
    "    \n",
    "\n",
    "* **`Пробег (kilometer):`**\n",
    "\n",
    "    * Средний пробег автомобилей — 128,127 км, с минимальным значением 5000 км и максимальным — 150,000 км.\n",
    "    \n",
    "    * Большинство автомобилей имеют пробег в пределах 125,000–150,000 км.\n",
    "    \n",
    "\n",
    "* **`Месяц регистрации (registration_month):`**\n",
    "\n",
    "    * Средний месяц регистрации — 6 (июнь), что указывает на равномерное распределение автомобилей по месяцам.\n",
    "    \n",
    "Данные содержат автомобили с разнообразными характеристиками, включая модели с различным пробегом и мощностью, что предполагает широкий спектр в рассматриваемой выборке. Разброс в ценах и мощности также подтверждает наличие как более дешевых, так и более дорогих автомобилей."
   ]
  },
  {
   "cell_type": "markdown",
   "metadata": {},
   "source": [
    "### Исследовательский анализ данных"
   ]
  },
  {
   "cell_type": "markdown",
   "metadata": {},
   "source": [
    "Приступим к анализу каждого признака. Для начала разделим наши данные на колличественные и категориальные признаки"
   ]
  },
  {
   "cell_type": "code",
   "execution_count": null,
   "metadata": {},
   "outputs": [],
   "source": [
    "df.columns"
   ]
  },
  {
   "cell_type": "markdown",
   "metadata": {},
   "source": [
    "Расмотрим только ключевые признаки для модели"
   ]
  },
  {
   "cell_type": "code",
   "execution_count": null,
   "metadata": {},
   "outputs": [],
   "source": [
    "quantitative_features = ['price', 'power', 'kilometer']\n",
    "\n",
    "\n",
    "categorical_features = ['vehicle_type', 'gearbox', 'model','fuel_type',\n",
    "                        'brand', 'repaired','registration_year']"
   ]
  },
  {
   "cell_type": "markdown",
   "metadata": {},
   "source": [
    "#### Колличественные признаки"
   ]
  },
  {
   "cell_type": "markdown",
   "metadata": {},
   "source": [
    "Построим графики для анализа количественных признаков"
   ]
  },
  {
   "cell_type": "code",
   "execution_count": null,
   "metadata": {},
   "outputs": [],
   "source": [
    "plt.figure(figsize=(14, 12))\n",
    "for i, feature in enumerate(quantitative_features, 1):\n",
    "    plt.subplot(4, 2, i)\n",
    "    sns.histplot(data=df, x=feature, kde=True)\n",
    "    plt.title(f'Распределение {feature}')\n",
    "plt.tight_layout()\n",
    "plt.show()"
   ]
  },
  {
   "cell_type": "markdown",
   "metadata": {},
   "source": [
    "* **`Цена (price):`** Распределение цен имеет явный правый скошенный характер, с большей концентрацией значений в нижней части диапазона. Это говорит о том, что большинство автомобилей имеют низкую цену, а меньшая часть попадает в более дорогие сегменты.\n",
    "\n",
    "\n",
    "* **`Мощность (power):`** Распределение мощности также скошено вправо. Основная масса автомобилей имеет мощность около 100–150 л.с., но встречаются и модели с гораздо большей мощностью, что подтверждается присутствием длинного хвоста в правой части распределения.\n",
    "\n",
    "\n",
    "* **`Пробег (kilometer):`** Распределение пробега похожее на нормальное с небольшим скошением вправо. Большинство автомобилей имеют пробег в районе 125,000–150,000 км, что подтверждается пиком в этой области. Однако встречаются автомобили с гораздо меньшим пробегом (первичный рынок), а также с очень высоким пробегом."
   ]
  },
  {
   "cell_type": "markdown",
   "metadata": {},
   "source": [
    "Теперь взглянем на наши данные с помощью боксплота"
   ]
  },
  {
   "cell_type": "code",
   "execution_count": null,
   "metadata": {},
   "outputs": [],
   "source": [
    "for feature in quantitative_features:\n",
    "    plt.figure(figsize=(10, 6))\n",
    "    sns.boxplot(data=df, y=feature)\n",
    "    plt.title(f'Boxplot для {feature}')\n",
    "    plt.show()"
   ]
  },
  {
   "cell_type": "markdown",
   "metadata": {},
   "source": [
    "* **`Цена (price):`** Boxplot показывает значительное количество выбросов с высокими ценами, что подтверждает, что в данных присутствуют дорогие автомобили. Медиана лежит ближе к нижнему диапазону, а большинство автомобилей находятся в ценовом сегменте ниже средней стоимости.\n",
    "\n",
    "\n",
    "* **`Мощность (power):`** Мощность также имеет значительные выбросы с большими значениями (выше 300 л.с.), что соответствует присутствию мощных автомобилей. Медиана мощности находится около 130–150 л.с., что также подтверждается распределением.\n",
    "\n",
    "\n",
    "* **`Пробег (kilometer):`** Для пробега также имеются выбросы, что подтверждает наличие автомобилей с очень низким пробегом (например, новые автомобили) и очень высокими значениями (автомобили с долгим сроком эксплуатации). Медиана расположена ближе к верхнему пределу диапазона."
   ]
  },
  {
   "cell_type": "markdown",
   "metadata": {},
   "source": [
    "#### Категориальные признаки"
   ]
  },
  {
   "cell_type": "code",
   "execution_count": null,
   "metadata": {},
   "outputs": [],
   "source": [
    "for feature in categorical_features:\n",
    "    plt.figure(figsize=(8, 6))\n",
    "    \n",
    "    if df[feature].nunique() > threshold:\n",
    "        top_categories = df[feature].value_counts().head(top_n)\n",
    "        sns.barplot(y=top_categories.index, x=top_categories.values, palette='colorblind')\n",
    "        plt.xlabel('Количество')\n",
    "        plt.ylabel(feature.replace('_', ' ').capitalize())\n",
    "        plt.title(f'Топ-{top_n} значений по {feature.replace(\"_\", \" \").capitalize()}')\n",
    "    else:\n",
    "        sns.countplot(y=feature, data=df, palette='colorblind')\n",
    "        plt.xlabel('Количество')\n",
    "        plt.ylabel(feature.replace('_', ' ').capitalize())\n",
    "        plt.title(f'Распределение по {feature.replace(\"_\", \" \").capitalize()}')\n",
    "    \n",
    "    plt.show()"
   ]
  },
  {
   "cell_type": "markdown",
   "metadata": {},
   "source": [
    "Краткий вывод по категориальным данным:\n",
    "\n",
    "* **`Типы автомобилей (vehicle_type):`** Наибольшее количество автомобилей — это седаны (54,819), за ними следуют универсалы (41,482) и автобусы (19,561). Меньше всего встречаются автомобили категории \"другое\" (1,184) и \"неизвестно\" (7,808). Это показывает, что более популярные типы кузовов, такие как седаны и универсалы, составляют основную массу рынка.\n",
    "\n",
    "\n",
    "* **`Тип коробки передач (gearbox):`** Большинство автомобилей имеют механическую коробку передач (124,977), в то время как автомобили с автоматической коробкой передач встречаются реже (44,772). Количество автомобилей с неизвестным типом коробки передач также незначительно (1,668).\n",
    "\n",
    "\n",
    "* **`Месяц регистрации (registration_month):`** Наибольшее количество автомобилей зарегистрировано в сентябре (18,195), а наименьшее — в январе (12,144). Распределение месяцев регистрации достаточно равномерное, с небольшим пиком в летние месяцы, что может указывать на сезонность регистрации автомобилей.\n",
    "\n",
    "\n",
    "* **`Тип топлива (fuel_type):`** Наиболее популярное топливо — это бензин (91,244), за ним следует газ (69,180). Примечание: существует небольшой процент автомобилей с альтернативными источниками энергии, таких как гибриды (142) и электрические автомобили (17), что подтверждает низкую популярность экологичных технологий в рассматриваемых данных.\n",
    "\n",
    "\n",
    "* **`Марки автомобилей (brand):`** Наиболее популярные марки — Volkswagen, BMW, Mercedes-Benz и Audi. Эти бренды значительно превосходят по количеству другие марки. Меньше всего представлены автомобили марок, таких как Lada, Daewoo и Dacia, что подтверждает небольшое присутствие этих брендов на рынке.\n",
    "\n",
    "\n",
    "* **`Ремонт (repaired):`** Большинство автомобилей не ремонтировались (142,153), а небольшая часть была отремонтирована (10,873). Также имеется категория с неизвестным статусом ремонта (18,391), что может быть связано с отсутствием информации о состоянии автомобиля.\n",
    "\n",
    "\n",
    "* **`Год регистрации (registration_year):`** Наибольшее количество автомобилей зарегистрировано в 2006 году (13,709), за ним следуют 2005 и 2004 годы. Это указывает на значительное количество автомобилей, произведенных в начале 2000-х. Количество автомобилей с годами регистрации 2020 и ранее постепенно снижается, что подтверждает тенденцию к старению автопарка."
   ]
  },
  {
   "cell_type": "markdown",
   "metadata": {},
   "source": [
    "Теперь для нашей модели удалим неинформативные признаки из данных, для лучшей работы модели"
   ]
  },
  {
   "cell_type": "markdown",
   "metadata": {},
   "source": [
    "Это:\n",
    "\n",
    "* `date_crawled` - дата скачивания анкеты из базы\n",
    "\n",
    "* `date_created` - дата создания анкеты\n",
    "\n",
    "* `number_of_pictures` - количество фотографий автомобиля\n",
    "\n",
    "* `postal_code` - почтовый индекс владельца анкеты (пользователя)\n",
    "\n",
    "* `last_seen` - дата последней активности пользователя\n",
    "\n",
    "* `registration_month` - месяц регистрации автомобиля"
   ]
  },
  {
   "cell_type": "code",
   "execution_count": null,
   "metadata": {},
   "outputs": [],
   "source": [
    "df = df.drop(['date_crawled', 'date_created', 'number_of_pictures', 'postal_code', 'last_seen', 'registration_month'], axis=1)"
   ]
  },
  {
   "cell_type": "markdown",
   "metadata": {},
   "source": [
    "Проверим наши данные на наличие дубликатов после удаления ненужных признаков"
   ]
  },
  {
   "cell_type": "code",
   "execution_count": null,
   "metadata": {},
   "outputs": [],
   "source": [
    "print('Кол-во строк и столбцов в датасете:',df.shape)\n",
    "print(\"Число анкет:\", df.index.nunique())\n",
    "print('Число дубликатов',df.duplicated().sum())"
   ]
  },
  {
   "cell_type": "markdown",
   "metadata": {},
   "source": [
    "Удалим дубликаты"
   ]
  },
  {
   "cell_type": "code",
   "execution_count": null,
   "metadata": {},
   "outputs": [],
   "source": [
    "df = df.drop_duplicates()\n",
    "print('Число дубликатов',df.duplicated().sum())"
   ]
  },
  {
   "cell_type": "markdown",
   "metadata": {},
   "source": [
    "### Корреляционный анализ"
   ]
  },
  {
   "cell_type": "markdown",
   "metadata": {},
   "source": [
    "Построим корреляционную матрицу с помощью phik и сделаем некоторые выводы"
   ]
  },
  {
   "cell_type": "code",
   "execution_count": null,
   "metadata": {},
   "outputs": [],
   "source": [
    "# Пересчитываем Phi_K корреляционную матрицу без 'id'\n",
    "corr_matrix = df.phik_matrix(interval_cols=['price', 'power'])\n",
    "plt.figure(figsize=(10, 8))\n",
    "sns.heatmap(corr_matrix, annot=True, cmap='coolwarm')\n",
    "plt.title('Phi_K Корреляционная матрица')\n",
    "plt.show()"
   ]
  },
  {
   "cell_type": "markdown",
   "metadata": {},
   "source": [
    "В корреляционной матрице видно, что `model` имеет очень высокую корреляцию с `vehicle_type` (0.902) и `brand` (1). Это указывает на то, что переменная model сильно зависит от этих переменных и может быть избыточной."
   ]
  },
  {
   "cell_type": "code",
   "execution_count": null,
   "metadata": {},
   "outputs": [],
   "source": [
    "df = df.drop(columns=['model'])\n",
    "df.head()"
   ]
  },
  {
   "cell_type": "code",
   "execution_count": null,
   "metadata": {},
   "outputs": [],
   "source": [
    "corr_matrix = df.phik_matrix(interval_cols=['price', 'power'])\n",
    "plt.figure(figsize=(10, 8))\n",
    "sns.heatmap(corr_matrix, annot=True, cmap='coolwarm')\n",
    "plt.title('Phi_K Корреляционная матрица')\n",
    "plt.show()"
   ]
  },
  {
   "cell_type": "markdown",
   "metadata": {},
   "source": [
    "Из корреляционной матрицы можно сделать следующие выводы:\n",
    "\n",
    "* Высокая корреляция между `registration_year` и `vehicle_type` (0.708): Это говорит о том, что старые автомобили, скорее всего, имеют определенные типы кузовов, например, седаны или универсалы. Такое соотношение важно учитывать, так как более старые автомобили могут быть связаны с другими характеристиками.\n",
    "\n",
    "\n",
    "* `price` имеет сильную корреляцию с `registration_year` (0.654): Цена автомобиля положительно коррелирует с годом регистрации, что подтверждает ожидание, что более новые автомобили стоят дороже.\n",
    "\n",
    "\n",
    "* Корреляция между `price` и `power` (0.287): Это умеренная положительная корреляция, что указывает на то, что автомобили с большей мощностью, как правило, стоят дороже, хотя эта связь не является слишком сильной.\n",
    "\n",
    "\n",
    "* Корреляция между `kilometer` и `registration_year` (0.642): Старые автомобили, как правило, имеют больший пробег, что подтверждается этим соотношением.\n",
    "\n",
    "\n",
    "* `brand` и `vehicle_type` имеют достаточно сильную корреляцию (0.605): Определенные бренды чаще производят автомобили определенных типов кузова, что может быть полезным при анализе предпочтений потребителей.\n",
    "\n",
    "\n",
    "* Низкая корреляция с `registration_month`, `fuel_type`, и `repaired`: Эти переменные имеют слабую или практически отсутствующую корреляцию с другими признаками, что может указывать на их независимость в контексте данного набора данных.\n",
    "\n",
    "\n",
    "В целом, корреляционная матрица показывает, что некоторые переменные, такие как `registration_year`, `price`, и `vehicle_type`, оказывают значительное влияние на другие, и могут быть важными при построении модели."
   ]
  },
  {
   "cell_type": "markdown",
   "metadata": {},
   "source": [
    "### Вывод по подготовке данных"
   ]
  },
  {
   "cell_type": "markdown",
   "metadata": {},
   "source": [
    "После предобработки данных мы очистили датасеты от неявных дубликатов и привели названия столбцов к единому формату. Преобразовали строки с числовыми значениями в нужные числовые типы. Все данные заполнены корректно, пропущенных значений нет. Мы также убедились, что распределение данных адекватное для последующего анализа. Датасет теперь готов для дальнейшего анализа и построения моделей."
   ]
  },
  {
   "cell_type": "markdown",
   "metadata": {},
   "source": [
    "## Обучение моделей"
   ]
  },
  {
   "cell_type": "markdown",
   "metadata": {},
   "source": [
    "Подготовим выборки для обучения моделей."
   ]
  },
  {
   "cell_type": "code",
   "execution_count": null,
   "metadata": {},
   "outputs": [],
   "source": [
    "X = df.drop(columns=['price'])\n",
    "y = df['price']\n",
    "\n",
    "X_train, X_test, y_train, y_test = train_test_split(X, y, test_size=0.4, random_state=RANDOM_STATE)"
   ]
  },
  {
   "cell_type": "markdown",
   "metadata": {},
   "source": [
    "Сначала обозначим, какие данные требуют масштабирования, а какие — кодирования.\n",
    "\n",
    "Введём обозначения для типов исходных данных"
   ]
  },
  {
   "cell_type": "markdown",
   "metadata": {},
   "source": [
    "После предобработки данных мы очистили датасеты от неявных дубликатов и привели названия столбцов к единому формату. Преобразовали строки с числовыми значениями в нужные числовые типы. Все данные заполнены корректно, пропущенных значений нет. Мы также убедились, что распределение данных адекватное для последующего анализа. Датасет теперь готов для дальнейшего анализа и построения моделей."
   ]
  },
  {
   "cell_type": "code",
   "execution_count": null,
   "metadata": {},
   "outputs": [],
   "source": [
    "cols_ordinal = ['gearbox', 'vehicle_type', 'fuel_type', 'brand', 'repaired']\n",
    "cols_to_scale = [ 'power', 'kilometer']"
   ]
  },
  {
   "cell_type": "markdown",
   "metadata": {},
   "source": [
    "### Пайплайн preprocessor"
   ]
  },
  {
   "cell_type": "markdown",
   "metadata": {},
   "source": [
    "Пайплайн для подготовки бинарных признаков."
   ]
  },
  {
   "cell_type": "code",
   "execution_count": null,
   "metadata": {},
   "outputs": [],
   "source": [
    "ordered_pipeline = Pipeline(\n",
    "    [\n",
    "        ('simpleImputer_before_ord',\n",
    "         SimpleImputer(missing_values=np.nan, strategy='most_frequent')),\n",
    "        ('ordered',  OrdinalEncoder(\n",
    "            handle_unknown='use_encoded_value', unknown_value=np.nan)),\n",
    "        ('simpleImputer_after_ord',\n",
    "         SimpleImputer(missing_values=np.nan, strategy='most_frequent'))\n",
    "    ]\n",
    ")\n",
    "print(ordered_pipeline)"
   ]
  },
  {
   "cell_type": "markdown",
   "metadata": {},
   "source": [
    "Создаем общий пайплайн подготовки данных"
   ]
  },
  {
   "cell_type": "code",
   "execution_count": null,
   "metadata": {},
   "outputs": [],
   "source": [
    "data_preprocessor = ColumnTransformer(\n",
    "    [\n",
    "        ('ordered', ordered_pipeline, cols_ordinal),\n",
    "        ('num', StandardScaler(), cols_to_scale),\n",
    "    ], \n",
    "    remainder =  'passthrough'\n",
    ")\n",
    "print(data_preprocessor)"
   ]
  },
  {
   "cell_type": "markdown",
   "metadata": {},
   "source": [
    "### Обучение моделей"
   ]
  },
  {
   "cell_type": "markdown",
   "metadata": {},
   "source": [
    "Создадим пайплайн , который использует `ColumnTransformer` для обработки данных. Это позволяет обрабатывать количественные и категориальные признаки отдельно"
   ]
  },
  {
   "cell_type": "code",
   "execution_count": null,
   "metadata": {},
   "outputs": [],
   "source": [
    "pipe_final = Pipeline([\n",
    "    ('preprocessor', data_preprocessor),\n",
    "    ('models', LinearRegression())\n",
    "])"
   ]
  },
  {
   "cell_type": "markdown",
   "metadata": {},
   "source": [
    "Мы обучим 2 модели: RandomForestRegressor и LGBMRegressor. Для каждой модели мы определим набор гиперпараметров, которые хотели бы оптимизировать с помощью RandomizedSearchCV."
   ]
  },
  {
   "cell_type": "code",
   "execution_count": null,
   "metadata": {},
   "outputs": [],
   "source": [
    "param_grid_rf = [\n",
    "    {\n",
    "        'models': [RandomForestRegressor(random_state=RANDOM_STATE)],\n",
    "        'models__n_estimators': [10, 50, 100],\n",
    "        'models__max_depth': [10, 20, None],\n",
    "        'models__min_samples_split': [2, 5, 10],\n",
    "        'models__min_samples_leaf': [1, 2, 4],\n",
    "        'preprocessor__num': [StandardScaler(), MinMaxScaler(), RobustScaler(), 'passthrough']\n",
    "    }\n",
    "]"
   ]
  },
  {
   "cell_type": "code",
   "execution_count": null,
   "metadata": {},
   "outputs": [],
   "source": [
    "param_grid_lgbm =[\n",
    "        {\n",
    "        'models': [LGBMRegressor(random_state=RANDOM_STATE)],\n",
    "        'models__n_estimators': [10, 50, 100],\n",
    "        'models__max_depth': range(1, 11),\n",
    "        'models__learning_rate': [0.0001, 0.001, 0.01, 0.1, 1.0],\n",
    "        'models__boosting_type': ['gbdt', 'dart', 'goss'],\n",
    "        'preprocessor__num': [StandardScaler(), MinMaxScaler(), RobustScaler(), 'passthrough']\n",
    "    }\n",
    "]"
   ]
  },
  {
   "cell_type": "markdown",
   "metadata": {},
   "source": [
    "Подбор гиперпараметров с использованием `RandomizedSearchCV`"
   ]
  },
  {
   "cell_type": "markdown",
   "metadata": {},
   "source": [
    "### RandomForestRegressor"
   ]
  },
  {
   "cell_type": "code",
   "execution_count": null,
   "metadata": {},
   "outputs": [],
   "source": [
    "randomized_search_rf = RandomizedSearchCV(\n",
    "    pipe_final, \n",
    "    param_grid_rf, \n",
    "    cv=3,\n",
    "    scoring='neg_mean_squared_error',\n",
    "    random_state=RANDOM_STATE,\n",
    "    n_jobs=-1\n",
    ")\n",
    "\n",
    "randomized_search_rf.fit(X_train, y_train)\n",
    "\n",
    "\n",
    "best_model_rf = randomized_search_rf.best_estimator_\n",
    "best_score_rf = randomized_search_rf.best_score_\n",
    "rmse_rf = np.sqrt(-best_score_rf)\n",
    "\n",
    "start_rf_fit = time()\n",
    "best_model_rf.fit(X_train, y_train)\n",
    "end_rf_fit = time()\n",
    "rf_best_train_time = (end_rf_fit - start_rf_fit) / 60\n",
    "\n",
    "\n",
    "start_rf_pred = time()\n",
    "rf_preds = best_model_rf.predict(X_train)\n",
    "end_rf_pred = time()\n",
    "rf_pred_time = (end_rf_pred - start_rf_pred) / 60 \n",
    "\n",
    "print('RandomizedSearchCV_RF - параметры:\\n\\n', best_model_rf)\n",
    "print('RandomizedSearchCV_RF - Метрика лучшей модели на кросс-валидации:', rmse_rf)\n",
    "print('RandomizedSearchCV_RF - Скорость обучения (мин):', rf_best_train_time)\n",
    "print('RandomizedSearchCV_RF - Скорость предсказания (мин):', rf_pred_time)"
   ]
  },
  {
   "cell_type": "markdown",
   "metadata": {},
   "source": [
    "### LGBMRegressor"
   ]
  },
  {
   "cell_type": "code",
   "execution_count": null,
   "metadata": {},
   "outputs": [],
   "source": [
    "start_lgbm = time()\n",
    "randomized_search_lgbm = RandomizedSearchCV(\n",
    "    pipe_final, \n",
    "    param_grid_lgbm, \n",
    "    cv=5,\n",
    "    scoring='neg_mean_squared_error',\n",
    "    random_state=RANDOM_STATE,\n",
    "    n_jobs=-1\n",
    ")\n",
    "\n",
    "randomized_search_lgbm.fit(X_train, y_train)\n",
    "\n",
    "\n",
    "best_model_lgbm = randomized_search_lgbm.best_estimator_\n",
    "best_score_lgbm = randomized_search_lgbm.best_score_\n",
    "rmse_lgbm = np.sqrt(-best_score_lgbm)\n",
    "\n",
    "start_lgbm_fit = time()\n",
    "best_model_lgbm.fit(X_train, y_train)\n",
    "end_lgbm_fit = time()\n",
    "lgbm_best_train_time = (end_lgbm_fit - start_lgbm_fit) / 60\n",
    "\n",
    "start_lgbm_pred = time()\n",
    "lgbm_preds = best_model_lgbm.predict(X_train)\n",
    "end_lgbm_pred = time()\n",
    "lgbm_pred_time = (end_lgbm_pred - start_lgbm_pred) / 60 \n",
    "\n",
    "\n",
    "print('RandomizedSearchCV_LGBM - параметры:\\n\\n', best_model_lgbm)\n",
    "print('RandomizedSearchCV_LGBM - Метрика лучшей модели на кросс-валидации:', rmse_lgbm)\n",
    "print('RandomizedSearchCV_LGBM - Скорость обучения (мин):', lgbm_best_train_time)\n",
    "print('RandomizedSearchCV_LGBM - Скорость предсказания (мин):', lgbm_pred_time)"
   ]
  },
  {
   "cell_type": "markdown",
   "metadata": {},
   "source": [
    "## Анализ моделей"
   ]
  },
  {
   "cell_type": "markdown",
   "metadata": {},
   "source": [
    "Давайте взглянем на наши модели:\n",
    "\n",
    "RandomForestRegressor:\n",
    "\n",
    "* RMSE: 1928.5807779780596\n",
    "\n",
    "\n",
    "* Скорость обучения (мин): 0.12312793334325155\n",
    "\n",
    "\n",
    "* Скорость предсказания (мин): 0.01782900889714559\n",
    "\n",
    "LGBMRegressor:\n",
    "* RMSE: 1941.2658483176444\n",
    "\n",
    "\n",
    "* Скорость обучения (мин): 0.04471121231714884\n",
    "\n",
    "\n",
    "* Скорость предсказания (мин): 0.008946176369984944\n",
    "\n",
    "\n",
    "Random Forest показывает немного лучшее RMSE, чем LGBM (1928.58 против 1941.27). Разница минимальна.\n",
    "\n",
    "LGBM значительно быстрее обучается (3 секунды против 7 секунд у Random Forest).\n",
    "\n",
    "LGBM быстрее делает предсказания (менее 1 секунды против 1 секунды у Random Forest).\n",
    "\n",
    "Лучшая модель по всем признакам это `LGBMRegressor`"
   ]
  },
  {
   "cell_type": "markdown",
   "metadata": {},
   "source": [
    "Проверим работу модели на тестовых данных"
   ]
  },
  {
   "cell_type": "code",
   "execution_count": null,
   "metadata": {},
   "outputs": [],
   "source": [
    "y_pred_lgbm = best_model_lgbm.predict(X_test)\n",
    "\n",
    "lgbm_mse = mean_squared_error(y_test, y_pred_lgbm)\n",
    "\n",
    "lgbm_rmse = np.sqrt(lgbm_mse)\n",
    "\n",
    "print(\"LightGBM RMSE:\", lgbm_rmse)"
   ]
  },
  {
   "cell_type": "markdown",
   "metadata": {},
   "source": [
    "Значение метрики RMSE меньше 2500. Все отлично"
   ]
  },
  {
   "cell_type": "markdown",
   "metadata": {},
   "source": [
    "### Проверка на адекватность"
   ]
  },
  {
   "cell_type": "markdown",
   "metadata": {},
   "source": [
    "Проверим модель на адекватность с помощью `DummyRegressor`"
   ]
  },
  {
   "cell_type": "code",
   "execution_count": null,
   "metadata": {},
   "outputs": [],
   "source": [
    "# Создаем DummyRegressor\n",
    "dummy_regressor = DummyRegressor(strategy=\"mean\")\n",
    "\n",
    "# Обучаем DummyRegressor на тренировочных данных\n",
    "dummy_regressor.fit(X_train, y_train)\n",
    "\n",
    "# Предсказания DummyRegressor\n",
    "y_dummy_pred = dummy_regressor.predict(X_test)\n",
    "\n",
    "# Вычисление RMSE для DummyRegressor вручную\n",
    "dummy_mse = mean_squared_error(y_test, y_dummy_pred)\n",
    "dummy_rmse = np.sqrt(dummy_mse)\n",
    "\n",
    "print(\"DummyRegressor RMSE:\", dummy_rmse)\n",
    "\n",
    "if lgbm_rmse < dummy_rmse:\n",
    "    print(\"LightGBM лучше DummyRegressor\")\n",
    "else:\n",
    "    print(\"LightGBM хуже или равен DummyRegressor\")"
   ]
  },
  {
   "cell_type": "markdown",
   "metadata": {},
   "source": [
    "Проверку на адекватность пройдена."
   ]
  },
  {
   "cell_type": "markdown",
   "metadata": {},
   "source": [
    "## Вывод"
   ]
  },
  {
   "cell_type": "markdown",
   "metadata": {},
   "source": [
    "Tребования заказчика включают:\n",
    "\n",
    "* Скорость обучения\n",
    "\n",
    "* Качество предсказаний\n",
    "\n",
    "* Скорость предсказаний\n",
    "\n",
    "В ходе работы были построены и проанализированы две модели: `RandomForestRegressor` и `LGBMRegressor.` По результатам тестирования и проверки на адекватность можно сделать следующие выводы:\n",
    "\n",
    "\n",
    "* Качество предсказания:\n",
    "\n",
    "    * RMSE модели LGBMRegressor на тестовых данных составило 1928.11, что меньше допустимого порога в 2500, установленного заказчиком.\n",
    "    \n",
    "    * Модель показала лучшие результаты по сравнению с DummyRegressor (RMSE: 4816.16) и успешно прошла проверку на адекватность.\n",
    "    \n",
    "    \n",
    "* Скорость обучения и предсказания:\n",
    "\n",
    "    * LGBMRegressor значительно быстрее обучается (3 секунды) и предсказывает (менее 1 секунды) по сравнению с RandomForestRegressor.\n",
    "    \n",
    "    \n",
    "* Сравнение моделей:\n",
    "\n",
    "    * Несмотря на небольшое превосходство RandomForestRegressor в метрике RMSE на этапе кросс-валидации, LGBMRegressor была выбрана как лучшая модель по всем критериям заказчика: качеству предсказания, скорости обучения, и времени предсказания.\n",
    "    \n",
    "    \n",
    "Наша модель LGBMRegressor полностью удовлетворяет требованиям заказчика."
   ]
  }
 ],
 "metadata": {
  "ExecuteTimeLog": [
   {
    "duration": 1233,
    "start_time": "2024-12-26T20:54:26.507Z"
   },
   {
    "duration": 1065,
    "start_time": "2024-12-26T20:55:35.846Z"
   },
   {
    "duration": 22,
    "start_time": "2024-12-26T20:55:39.912Z"
   },
   {
    "duration": 12,
    "start_time": "2024-12-26T20:55:48.764Z"
   },
   {
    "duration": 107,
    "start_time": "2024-12-26T20:56:32.826Z"
   },
   {
    "duration": 108,
    "start_time": "2024-12-26T21:02:31.133Z"
   },
   {
    "duration": 114,
    "start_time": "2024-12-26T21:05:32.644Z"
   },
   {
    "duration": 92,
    "start_time": "2024-12-26T21:05:34.541Z"
   },
   {
    "duration": 121,
    "start_time": "2024-12-26T21:19:12.259Z"
   },
   {
    "duration": 113,
    "start_time": "2024-12-26T21:19:15.948Z"
   },
   {
    "duration": 13,
    "start_time": "2024-12-26T21:19:26.054Z"
   },
   {
    "duration": 23,
    "start_time": "2024-12-26T21:19:52.086Z"
   },
   {
    "duration": 19,
    "start_time": "2024-12-26T21:19:56.790Z"
   },
   {
    "duration": 12,
    "start_time": "2024-12-26T21:20:00.574Z"
   },
   {
    "duration": 22,
    "start_time": "2024-12-26T21:20:17.276Z"
   },
   {
    "duration": 26,
    "start_time": "2024-12-26T21:20:25.621Z"
   },
   {
    "duration": 6,
    "start_time": "2024-12-26T21:20:48.579Z"
   },
   {
    "duration": 28,
    "start_time": "2024-12-26T21:20:56.202Z"
   },
   {
    "duration": 23,
    "start_time": "2024-12-26T21:21:07.193Z"
   },
   {
    "duration": 26,
    "start_time": "2024-12-26T21:21:44.650Z"
   },
   {
    "duration": 10,
    "start_time": "2024-12-26T21:22:50.550Z"
   },
   {
    "duration": 3,
    "start_time": "2024-12-26T21:23:18.532Z"
   },
   {
    "duration": 19,
    "start_time": "2024-12-26T21:23:20.507Z"
   },
   {
    "duration": 4,
    "start_time": "2024-12-26T21:23:24.318Z"
   },
   {
    "duration": 39,
    "start_time": "2024-12-26T21:25:15.585Z"
   },
   {
    "duration": 15,
    "start_time": "2024-12-26T21:25:23.805Z"
   },
   {
    "duration": 3,
    "start_time": "2024-12-26T21:25:48.065Z"
   },
   {
    "duration": 806,
    "start_time": "2024-12-26T21:25:48.298Z"
   },
   {
    "duration": 12,
    "start_time": "2024-12-26T21:25:49.106Z"
   },
   {
    "duration": 3,
    "start_time": "2024-12-26T21:25:49.202Z"
   },
   {
    "duration": 3,
    "start_time": "2024-12-26T21:25:49.782Z"
   },
   {
    "duration": 17,
    "start_time": "2024-12-26T21:25:50.663Z"
   },
   {
    "duration": 9,
    "start_time": "2024-12-26T21:25:54.267Z"
   },
   {
    "duration": 75,
    "start_time": "2024-12-26T21:26:04.372Z"
   },
   {
    "duration": 79,
    "start_time": "2024-12-26T21:26:06.739Z"
   },
   {
    "duration": 14,
    "start_time": "2024-12-26T21:26:08.867Z"
   },
   {
    "duration": 102,
    "start_time": "2024-12-26T21:26:46.721Z"
   },
   {
    "duration": 72,
    "start_time": "2024-12-26T21:26:48.243Z"
   },
   {
    "duration": 10,
    "start_time": "2024-12-26T21:26:50.363Z"
   },
   {
    "duration": 22,
    "start_time": "2024-12-26T21:26:53.832Z"
   },
   {
    "duration": 3,
    "start_time": "2024-12-26T21:29:28.282Z"
   },
   {
    "duration": 177,
    "start_time": "2024-12-26T21:31:32.412Z"
   },
   {
    "duration": 153,
    "start_time": "2024-12-26T21:32:12.230Z"
   },
   {
    "duration": 155,
    "start_time": "2024-12-26T21:32:24.827Z"
   },
   {
    "duration": 750,
    "start_time": "2024-12-26T21:35:50.842Z"
   },
   {
    "duration": 12,
    "start_time": "2024-12-26T21:35:51.594Z"
   },
   {
    "duration": 6,
    "start_time": "2024-12-26T21:35:51.607Z"
   },
   {
    "duration": 3,
    "start_time": "2024-12-26T21:35:52.134Z"
   },
   {
    "duration": 16,
    "start_time": "2024-12-26T21:35:52.432Z"
   },
   {
    "duration": 9,
    "start_time": "2024-12-26T21:35:52.774Z"
   },
   {
    "duration": 75,
    "start_time": "2024-12-26T21:35:53.098Z"
   },
   {
    "duration": 68,
    "start_time": "2024-12-26T21:35:55.557Z"
   },
   {
    "duration": 123,
    "start_time": "2024-12-26T21:36:02.324Z"
   },
   {
    "duration": 75,
    "start_time": "2024-12-26T21:36:02.546Z"
   },
   {
    "duration": 190,
    "start_time": "2024-12-26T21:36:03.246Z"
   },
   {
    "duration": 16,
    "start_time": "2024-12-26T21:36:28.583Z"
   },
   {
    "duration": 182,
    "start_time": "2024-12-26T21:36:33.083Z"
   },
   {
    "duration": 763,
    "start_time": "2024-12-26T21:39:56.391Z"
   },
   {
    "duration": 12,
    "start_time": "2024-12-26T21:39:57.156Z"
   },
   {
    "duration": 9,
    "start_time": "2024-12-26T21:39:57.169Z"
   },
   {
    "duration": 4,
    "start_time": "2024-12-26T21:39:57.179Z"
   },
   {
    "duration": 16,
    "start_time": "2024-12-26T21:39:57.184Z"
   },
   {
    "duration": 10,
    "start_time": "2024-12-26T21:39:57.319Z"
   },
   {
    "duration": 80,
    "start_time": "2024-12-26T21:39:57.901Z"
   },
   {
    "duration": 74,
    "start_time": "2024-12-26T21:39:58.399Z"
   },
   {
    "duration": 95,
    "start_time": "2024-12-26T21:40:00.596Z"
   },
   {
    "duration": 66,
    "start_time": "2024-12-26T21:40:00.854Z"
   },
   {
    "duration": 185,
    "start_time": "2024-12-26T21:40:05.083Z"
   },
   {
    "duration": 73,
    "start_time": "2024-12-26T21:43:07.691Z"
   },
   {
    "duration": 83,
    "start_time": "2024-12-26T21:43:15.178Z"
   },
   {
    "duration": 93,
    "start_time": "2024-12-26T21:43:27.915Z"
   },
   {
    "duration": 94,
    "start_time": "2024-12-26T21:43:34.204Z"
   },
   {
    "duration": 6,
    "start_time": "2024-12-26T21:43:38.528Z"
   },
   {
    "duration": 9,
    "start_time": "2024-12-26T21:43:41.636Z"
   },
   {
    "duration": 748,
    "start_time": "2024-12-26T21:44:07.234Z"
   },
   {
    "duration": 12,
    "start_time": "2024-12-26T21:44:07.984Z"
   },
   {
    "duration": 3,
    "start_time": "2024-12-26T21:44:09.138Z"
   },
   {
    "duration": 4,
    "start_time": "2024-12-26T21:44:10.458Z"
   },
   {
    "duration": 110,
    "start_time": "2024-12-26T21:44:12.979Z"
   },
   {
    "duration": 105,
    "start_time": "2024-12-26T21:44:15.409Z"
   },
   {
    "duration": 96,
    "start_time": "2024-12-26T21:44:16.533Z"
   },
   {
    "duration": 104,
    "start_time": "2024-12-26T21:44:17.066Z"
   },
   {
    "duration": 94,
    "start_time": "2024-12-26T21:44:20.127Z"
   },
   {
    "duration": 10,
    "start_time": "2024-12-26T21:44:21.166Z"
   },
   {
    "duration": 409,
    "start_time": "2024-12-26T21:46:10.527Z"
   },
   {
    "duration": 77,
    "start_time": "2024-12-26T21:47:50.243Z"
   },
   {
    "duration": 5,
    "start_time": "2024-12-26T21:48:06.829Z"
   },
   {
    "duration": 143,
    "start_time": "2024-12-26T21:50:42.517Z"
   },
   {
    "duration": 723,
    "start_time": "2024-12-26T21:57:47.814Z"
   },
   {
    "duration": 16,
    "start_time": "2024-12-26T21:57:48.539Z"
   },
   {
    "duration": 5,
    "start_time": "2024-12-26T21:57:48.556Z"
   },
   {
    "duration": 3,
    "start_time": "2024-12-26T21:57:48.901Z"
   },
   {
    "duration": 17,
    "start_time": "2024-12-26T21:57:51.820Z"
   },
   {
    "duration": 11,
    "start_time": "2024-12-26T21:57:52.741Z"
   },
   {
    "duration": 72,
    "start_time": "2024-12-26T21:57:53.702Z"
   },
   {
    "duration": 67,
    "start_time": "2024-12-26T21:57:56.799Z"
   },
   {
    "duration": 107,
    "start_time": "2024-12-26T21:57:57.176Z"
   },
   {
    "duration": 67,
    "start_time": "2024-12-26T21:58:02.518Z"
   },
   {
    "duration": 156,
    "start_time": "2024-12-26T21:58:24.152Z"
   },
   {
    "duration": 335,
    "start_time": "2024-12-26T21:59:18.263Z"
   },
   {
    "duration": 61,
    "start_time": "2024-12-26T21:59:32.778Z"
   },
   {
    "duration": 1087,
    "start_time": "2024-12-26T22:07:35.017Z"
   },
   {
    "duration": 209,
    "start_time": "2024-12-26T22:07:51.756Z"
   },
   {
    "duration": 172,
    "start_time": "2024-12-26T22:09:01.515Z"
   },
   {
    "duration": 169,
    "start_time": "2024-12-26T22:09:52.706Z"
   },
   {
    "duration": 135,
    "start_time": "2024-12-26T22:10:01.686Z"
   },
   {
    "duration": 47,
    "start_time": "2024-12-26T22:10:09.800Z"
   },
   {
    "duration": 23,
    "start_time": "2024-12-26T22:10:32.069Z"
   },
   {
    "duration": 21,
    "start_time": "2024-12-26T22:10:35.958Z"
   },
   {
    "duration": 21,
    "start_time": "2024-12-26T22:10:41.335Z"
   },
   {
    "duration": 712,
    "start_time": "2024-12-26T22:10:47.128Z"
   },
   {
    "duration": 11,
    "start_time": "2024-12-26T22:10:48.375Z"
   },
   {
    "duration": 3,
    "start_time": "2024-12-26T22:10:48.875Z"
   },
   {
    "duration": 3,
    "start_time": "2024-12-26T22:10:49.085Z"
   },
   {
    "duration": 24,
    "start_time": "2024-12-26T22:10:49.277Z"
   },
   {
    "duration": 9,
    "start_time": "2024-12-26T22:10:49.484Z"
   },
   {
    "duration": 74,
    "start_time": "2024-12-26T22:10:49.670Z"
   },
   {
    "duration": 65,
    "start_time": "2024-12-26T22:10:49.864Z"
   },
   {
    "duration": 111,
    "start_time": "2024-12-26T22:10:50.057Z"
   },
   {
    "duration": 66,
    "start_time": "2024-12-26T22:10:50.273Z"
   },
   {
    "duration": 157,
    "start_time": "2024-12-26T22:10:50.481Z"
   },
   {
    "duration": 306,
    "start_time": "2024-12-26T22:10:50.727Z"
   },
   {
    "duration": 70,
    "start_time": "2024-12-26T22:10:51.035Z"
   },
   {
    "duration": 25,
    "start_time": "2024-12-26T22:10:51.226Z"
   },
   {
    "duration": 22,
    "start_time": "2024-12-26T22:10:54.920Z"
   },
   {
    "duration": 6,
    "start_time": "2024-12-26T22:11:01.169Z"
   },
   {
    "duration": 722,
    "start_time": "2024-12-26T22:11:08.842Z"
   },
   {
    "duration": 12,
    "start_time": "2024-12-26T22:11:09.566Z"
   },
   {
    "duration": 13,
    "start_time": "2024-12-26T22:11:09.580Z"
   },
   {
    "duration": 9,
    "start_time": "2024-12-26T22:11:09.594Z"
   },
   {
    "duration": 17,
    "start_time": "2024-12-26T22:11:10.141Z"
   },
   {
    "duration": 9,
    "start_time": "2024-12-26T22:11:10.346Z"
   },
   {
    "duration": 73,
    "start_time": "2024-12-26T22:11:10.524Z"
   },
   {
    "duration": 66,
    "start_time": "2024-12-26T22:11:10.692Z"
   },
   {
    "duration": 116,
    "start_time": "2024-12-26T22:11:10.860Z"
   },
   {
    "duration": 66,
    "start_time": "2024-12-26T22:11:11.326Z"
   },
   {
    "duration": 159,
    "start_time": "2024-12-26T22:11:11.730Z"
   },
   {
    "duration": 314,
    "start_time": "2024-12-26T22:11:12.182Z"
   },
   {
    "duration": 73,
    "start_time": "2024-12-26T22:11:12.678Z"
   },
   {
    "duration": 52,
    "start_time": "2024-12-26T22:11:15.243Z"
   },
   {
    "duration": 42,
    "start_time": "2024-12-26T22:11:47.812Z"
   },
   {
    "duration": 44,
    "start_time": "2024-12-26T22:12:07.416Z"
   },
   {
    "duration": 42,
    "start_time": "2024-12-26T22:12:50.735Z"
   },
   {
    "duration": 42,
    "start_time": "2024-12-26T22:12:58.125Z"
   },
   {
    "duration": 42,
    "start_time": "2024-12-26T22:13:01.281Z"
   },
   {
    "duration": 41,
    "start_time": "2024-12-26T22:13:05.614Z"
   },
   {
    "duration": 745,
    "start_time": "2024-12-26T22:13:11.004Z"
   },
   {
    "duration": 12,
    "start_time": "2024-12-26T22:13:11.751Z"
   },
   {
    "duration": 3,
    "start_time": "2024-12-26T22:13:12.116Z"
   },
   {
    "duration": 4,
    "start_time": "2024-12-26T22:13:12.303Z"
   },
   {
    "duration": 17,
    "start_time": "2024-12-26T22:13:12.458Z"
   },
   {
    "duration": 9,
    "start_time": "2024-12-26T22:13:12.610Z"
   },
   {
    "duration": 72,
    "start_time": "2024-12-26T22:13:12.762Z"
   },
   {
    "duration": 67,
    "start_time": "2024-12-26T22:13:12.895Z"
   },
   {
    "duration": 117,
    "start_time": "2024-12-26T22:13:13.033Z"
   },
   {
    "duration": 66,
    "start_time": "2024-12-26T22:13:13.162Z"
   },
   {
    "duration": 166,
    "start_time": "2024-12-26T22:13:13.294Z"
   },
   {
    "duration": 311,
    "start_time": "2024-12-26T22:13:13.462Z"
   },
   {
    "duration": 72,
    "start_time": "2024-12-26T22:13:13.775Z"
   },
   {
    "duration": 141,
    "start_time": "2024-12-26T22:13:13.953Z"
   },
   {
    "duration": 119,
    "start_time": "2024-12-26T22:14:32.117Z"
   },
   {
    "duration": 85,
    "start_time": "2024-12-26T22:16:50.597Z"
   },
   {
    "duration": 77,
    "start_time": "2024-12-26T22:17:23.194Z"
   },
   {
    "duration": 73,
    "start_time": "2024-12-26T22:18:29.919Z"
   },
   {
    "duration": 73,
    "start_time": "2024-12-26T22:18:36.040Z"
   },
   {
    "duration": 74,
    "start_time": "2024-12-26T22:18:44.022Z"
   },
   {
    "duration": 759,
    "start_time": "2024-12-26T22:18:52.149Z"
   },
   {
    "duration": 11,
    "start_time": "2024-12-26T22:18:52.910Z"
   },
   {
    "duration": 5,
    "start_time": "2024-12-26T22:18:52.922Z"
   },
   {
    "duration": 18,
    "start_time": "2024-12-26T22:18:52.928Z"
   },
   {
    "duration": 18,
    "start_time": "2024-12-26T22:18:52.947Z"
   },
   {
    "duration": 9,
    "start_time": "2024-12-26T22:18:52.967Z"
   },
   {
    "duration": 73,
    "start_time": "2024-12-26T22:18:53.109Z"
   },
   {
    "duration": 67,
    "start_time": "2024-12-26T22:18:53.749Z"
   },
   {
    "duration": 117,
    "start_time": "2024-12-26T22:18:54.176Z"
   },
   {
    "duration": 66,
    "start_time": "2024-12-26T22:18:54.675Z"
   },
   {
    "duration": 164,
    "start_time": "2024-12-26T22:18:54.963Z"
   },
   {
    "duration": 311,
    "start_time": "2024-12-26T22:18:55.166Z"
   },
   {
    "duration": 64,
    "start_time": "2024-12-26T22:18:55.720Z"
   },
   {
    "duration": 91,
    "start_time": "2024-12-26T22:18:55.786Z"
   },
   {
    "duration": 83,
    "start_time": "2024-12-26T22:20:26.145Z"
   },
   {
    "duration": 75,
    "start_time": "2024-12-26T22:21:08.226Z"
   },
   {
    "duration": 10,
    "start_time": "2024-12-26T22:21:30.668Z"
   },
   {
    "duration": 4,
    "start_time": "2024-12-26T22:21:52.007Z"
   },
   {
    "duration": 9,
    "start_time": "2024-12-26T22:22:05.071Z"
   },
   {
    "duration": 4,
    "start_time": "2024-12-26T22:22:08.356Z"
   },
   {
    "duration": 9,
    "start_time": "2024-12-26T22:22:19.528Z"
   },
   {
    "duration": 15,
    "start_time": "2024-12-26T22:22:46.669Z"
   },
   {
    "duration": 727,
    "start_time": "2024-12-26T22:31:59.081Z"
   },
   {
    "duration": 12,
    "start_time": "2024-12-26T22:31:59.810Z"
   },
   {
    "duration": 13,
    "start_time": "2024-12-26T22:31:59.823Z"
   },
   {
    "duration": 3,
    "start_time": "2024-12-26T22:32:00.359Z"
   },
   {
    "duration": 16,
    "start_time": "2024-12-26T22:32:00.691Z"
   },
   {
    "duration": 10,
    "start_time": "2024-12-26T22:32:01.256Z"
   },
   {
    "duration": 72,
    "start_time": "2024-12-26T22:32:10.862Z"
   },
   {
    "duration": 66,
    "start_time": "2024-12-26T22:32:11.180Z"
   },
   {
    "duration": 116,
    "start_time": "2024-12-26T22:32:11.689Z"
   },
   {
    "duration": 66,
    "start_time": "2024-12-26T22:32:16.282Z"
   },
   {
    "duration": 164,
    "start_time": "2024-12-26T22:32:21.456Z"
   },
   {
    "duration": 65,
    "start_time": "2024-12-26T22:32:24.562Z"
   },
   {
    "duration": 10,
    "start_time": "2024-12-26T22:34:06.800Z"
   },
   {
    "duration": 9,
    "start_time": "2024-12-26T22:34:26.864Z"
   },
   {
    "duration": 1002,
    "start_time": "2024-12-26T22:34:33.855Z"
   },
   {
    "duration": 989,
    "start_time": "2024-12-26T22:35:43.606Z"
   },
   {
    "duration": 1309,
    "start_time": "2024-12-27T13:04:04.027Z"
   },
   {
    "duration": 1613,
    "start_time": "2024-12-27T13:04:05.338Z"
   },
   {
    "duration": 17,
    "start_time": "2024-12-27T13:04:06.953Z"
   },
   {
    "duration": 9,
    "start_time": "2024-12-27T13:04:06.972Z"
   },
   {
    "duration": 10,
    "start_time": "2024-12-27T13:04:06.982Z"
   },
   {
    "duration": 28,
    "start_time": "2024-12-27T13:04:06.994Z"
   },
   {
    "duration": 17,
    "start_time": "2024-12-27T13:04:07.024Z"
   },
   {
    "duration": 77,
    "start_time": "2024-12-27T13:04:07.042Z"
   },
   {
    "duration": 117,
    "start_time": "2024-12-27T13:04:07.121Z"
   },
   {
    "duration": 138,
    "start_time": "2024-12-27T13:04:07.240Z"
   },
   {
    "duration": 71,
    "start_time": "2024-12-27T13:04:07.380Z"
   },
   {
    "duration": 188,
    "start_time": "2024-12-27T13:04:07.893Z"
   },
   {
    "duration": 1102,
    "start_time": "2024-12-27T13:04:08.492Z"
   },
   {
    "duration": 9,
    "start_time": "2024-12-27T13:04:22.810Z"
   },
   {
    "duration": 363,
    "start_time": "2024-12-27T13:04:23.290Z"
   },
   {
    "duration": 66,
    "start_time": "2024-12-27T13:05:04.009Z"
   },
   {
    "duration": 93,
    "start_time": "2024-12-27T13:05:05.160Z"
   },
   {
    "duration": 10,
    "start_time": "2024-12-27T13:05:06.036Z"
   },
   {
    "duration": 4,
    "start_time": "2024-12-27T13:06:49.650Z"
   },
   {
    "duration": 9,
    "start_time": "2024-12-27T13:07:04.234Z"
   },
   {
    "duration": 3,
    "start_time": "2024-12-27T13:07:50.541Z"
   },
   {
    "duration": 99,
    "start_time": "2024-12-27T13:07:58.839Z"
   },
   {
    "duration": 500,
    "start_time": "2024-12-27T13:08:03.194Z"
   },
   {
    "duration": 4618,
    "start_time": "2024-12-27T13:08:43.022Z"
   },
   {
    "duration": 40,
    "start_time": "2024-12-27T13:09:37.034Z"
   },
   {
    "duration": 4,
    "start_time": "2024-12-27T13:09:37.149Z"
   },
   {
    "duration": 4366,
    "start_time": "2024-12-27T13:11:33.975Z"
   },
   {
    "duration": 9,
    "start_time": "2024-12-27T13:13:44.298Z"
   },
   {
    "duration": 3,
    "start_time": "2024-12-27T13:13:46.332Z"
   },
   {
    "duration": 11,
    "start_time": "2024-12-27T13:14:07.727Z"
   },
   {
    "duration": 28984,
    "start_time": "2024-12-27T13:14:39.937Z"
   },
   {
    "duration": 56,
    "start_time": "2024-12-27T13:15:13.646Z"
   },
   {
    "duration": 4331,
    "start_time": "2024-12-27T13:15:21.221Z"
   },
   {
    "duration": 16,
    "start_time": "2024-12-27T13:18:21.938Z"
   },
   {
    "duration": 5,
    "start_time": "2024-12-27T13:18:42.723Z"
   },
   {
    "duration": 13,
    "start_time": "2024-12-27T13:19:35.022Z"
   },
   {
    "duration": 11,
    "start_time": "2024-12-27T13:20:04.137Z"
   },
   {
    "duration": 12,
    "start_time": "2024-12-27T13:20:19.214Z"
   },
   {
    "duration": 2,
    "start_time": "2024-12-27T13:20:24.806Z"
   },
   {
    "duration": 13,
    "start_time": "2024-12-27T13:20:29.912Z"
   },
   {
    "duration": 12,
    "start_time": "2024-12-27T13:20:45.311Z"
   },
   {
    "duration": 3,
    "start_time": "2024-12-27T13:22:23.018Z"
   },
   {
    "duration": 153,
    "start_time": "2024-12-27T13:22:46.264Z"
   },
   {
    "duration": 22,
    "start_time": "2024-12-27T13:22:50.309Z"
   },
   {
    "duration": 57,
    "start_time": "2024-12-27T13:23:06.742Z"
   },
   {
    "duration": 11,
    "start_time": "2024-12-27T13:23:14.927Z"
   },
   {
    "duration": 3,
    "start_time": "2024-12-27T13:23:33.738Z"
   },
   {
    "duration": 5,
    "start_time": "2024-12-27T13:23:39.963Z"
   },
   {
    "duration": 6,
    "start_time": "2024-12-27T13:24:43.207Z"
   },
   {
    "duration": 16,
    "start_time": "2024-12-27T13:24:59.565Z"
   },
   {
    "duration": 21,
    "start_time": "2024-12-27T13:43:39.425Z"
   },
   {
    "duration": 6,
    "start_time": "2024-12-27T13:44:22.834Z"
   },
   {
    "duration": 57,
    "start_time": "2024-12-27T13:44:26.565Z"
   },
   {
    "duration": 8,
    "start_time": "2024-12-27T13:44:50.243Z"
   },
   {
    "duration": 67,
    "start_time": "2024-12-27T13:45:36.180Z"
   },
   {
    "duration": 3,
    "start_time": "2024-12-27T13:45:39.849Z"
   },
   {
    "duration": 286,
    "start_time": "2024-12-27T13:47:38.448Z"
   },
   {
    "duration": 4,
    "start_time": "2024-12-27T13:50:31.230Z"
   },
   {
    "duration": 75,
    "start_time": "2024-12-27T13:59:19.999Z"
   },
   {
    "duration": 65,
    "start_time": "2024-12-27T13:59:29.896Z"
   },
   {
    "duration": 146,
    "start_time": "2024-12-27T13:59:45.249Z"
   },
   {
    "duration": 68,
    "start_time": "2024-12-27T13:59:53.841Z"
   },
   {
    "duration": 3,
    "start_time": "2024-12-27T14:00:03.623Z"
   },
   {
    "duration": 68,
    "start_time": "2024-12-27T14:00:04.025Z"
   },
   {
    "duration": 4,
    "start_time": "2024-12-27T14:00:08.336Z"
   },
   {
    "duration": 5,
    "start_time": "2024-12-27T14:01:52.191Z"
   },
   {
    "duration": 27,
    "start_time": "2024-12-27T14:03:17.182Z"
   },
   {
    "duration": 30,
    "start_time": "2024-12-27T14:03:27.425Z"
   },
   {
    "duration": 75,
    "start_time": "2024-12-27T14:05:14.504Z"
   },
   {
    "duration": 146,
    "start_time": "2024-12-27T14:05:21.699Z"
   },
   {
    "duration": 4,
    "start_time": "2024-12-27T14:06:06.437Z"
   },
   {
    "duration": 6050,
    "start_time": "2024-12-27T17:16:41.463Z"
   },
   {
    "duration": 5,
    "start_time": "2024-12-27T17:16:47.516Z"
   },
   {
    "duration": 788,
    "start_time": "2024-12-27T17:16:47.523Z"
   },
   {
    "duration": 13,
    "start_time": "2024-12-27T17:16:48.313Z"
   },
   {
    "duration": 6,
    "start_time": "2024-12-27T17:16:48.327Z"
   },
   {
    "duration": 24,
    "start_time": "2024-12-27T17:16:48.334Z"
   },
   {
    "duration": 19,
    "start_time": "2024-12-27T17:16:48.359Z"
   },
   {
    "duration": 10,
    "start_time": "2024-12-27T17:16:48.380Z"
   },
   {
    "duration": 95,
    "start_time": "2024-12-27T17:16:48.392Z"
   },
   {
    "duration": 74,
    "start_time": "2024-12-27T17:16:48.489Z"
   },
   {
    "duration": 124,
    "start_time": "2024-12-27T17:16:48.564Z"
   },
   {
    "duration": 77,
    "start_time": "2024-12-27T17:16:48.689Z"
   },
   {
    "duration": 173,
    "start_time": "2024-12-27T17:16:49.385Z"
   },
   {
    "duration": 340,
    "start_time": "2024-12-27T17:16:49.800Z"
   },
   {
    "duration": 1063,
    "start_time": "2024-12-27T17:16:50.364Z"
   },
   {
    "duration": 338,
    "start_time": "2024-12-27T17:16:52.842Z"
   },
   {
    "duration": 70,
    "start_time": "2024-12-27T17:16:53.671Z"
   },
   {
    "duration": 101,
    "start_time": "2024-12-27T17:16:54.200Z"
   },
   {
    "duration": 11,
    "start_time": "2024-12-27T17:16:54.907Z"
   },
   {
    "duration": 40,
    "start_time": "2024-12-27T17:16:55.705Z"
   },
   {
    "duration": 4,
    "start_time": "2024-12-27T17:16:56.120Z"
   },
   {
    "duration": 61,
    "start_time": "2024-12-27T17:16:56.958Z"
   },
   {
    "duration": 5014,
    "start_time": "2024-12-27T17:16:57.224Z"
   },
   {
    "duration": 672,
    "start_time": "2024-12-27T17:17:02.239Z"
   },
   {
    "duration": 4647,
    "start_time": "2024-12-27T17:17:02.913Z"
   },
   {
    "duration": 4,
    "start_time": "2024-12-27T17:17:07.562Z"
   },
   {
    "duration": 4594,
    "start_time": "2024-12-27T17:17:07.567Z"
   },
   {
    "duration": 48,
    "start_time": "2024-12-27T17:17:16.387Z"
   },
   {
    "duration": 3,
    "start_time": "2024-12-27T17:17:21.932Z"
   },
   {
    "duration": 6,
    "start_time": "2024-12-27T17:17:22.322Z"
   },
   {
    "duration": 6,
    "start_time": "2024-12-27T17:17:22.610Z"
   },
   {
    "duration": 17,
    "start_time": "2024-12-27T17:17:22.858Z"
   },
   {
    "duration": 3,
    "start_time": "2024-12-27T17:17:23.072Z"
   },
   {
    "duration": 4,
    "start_time": "2024-12-27T17:17:23.358Z"
   },
   {
    "duration": 786905,
    "start_time": "2024-12-27T17:17:24.092Z"
   },
   {
    "duration": 97,
    "start_time": "2024-12-27T17:30:46.381Z"
   },
   {
    "duration": 4,
    "start_time": "2024-12-27T17:30:57.765Z"
   },
   {
    "duration": 4,
    "start_time": "2024-12-27T17:30:58.164Z"
   },
   {
    "duration": 9319,
    "start_time": "2024-12-27T17:30:58.666Z"
   },
   {
    "duration": 121528,
    "start_time": "2024-12-27T17:31:51.795Z"
   },
   {
    "duration": 3,
    "start_time": "2024-12-27T17:34:41.253Z"
   },
   {
    "duration": 3,
    "start_time": "2024-12-27T17:34:41.606Z"
   },
   {
    "duration": 1197134,
    "start_time": "2024-12-27T17:34:57.628Z"
   },
   {
    "duration": 45,
    "start_time": "2024-12-27T17:59:09.449Z"
   },
   {
    "duration": 2,
    "start_time": "2024-12-27T17:59:09.790Z"
   },
   {
    "duration": 5,
    "start_time": "2024-12-27T17:59:11.259Z"
   },
   {
    "duration": 15,
    "start_time": "2024-12-27T17:59:13.995Z"
   },
   {
    "duration": 5,
    "start_time": "2024-12-27T17:59:19.775Z"
   },
   {
    "duration": 707,
    "start_time": "2024-12-27T17:59:20.166Z"
   },
   {
    "duration": 12,
    "start_time": "2024-12-27T17:59:20.875Z"
   },
   {
    "duration": 4,
    "start_time": "2024-12-27T17:59:20.888Z"
   },
   {
    "duration": 4,
    "start_time": "2024-12-27T17:59:21.058Z"
   },
   {
    "duration": 17,
    "start_time": "2024-12-27T17:59:21.297Z"
   },
   {
    "duration": 10,
    "start_time": "2024-12-27T17:59:21.808Z"
   },
   {
    "duration": 78,
    "start_time": "2024-12-27T17:59:21.838Z"
   },
   {
    "duration": 78,
    "start_time": "2024-12-27T17:59:21.917Z"
   },
   {
    "duration": 127,
    "start_time": "2024-12-27T17:59:21.997Z"
   },
   {
    "duration": 79,
    "start_time": "2024-12-27T17:59:22.126Z"
   },
   {
    "duration": 173,
    "start_time": "2024-12-27T17:59:22.207Z"
   },
   {
    "duration": 335,
    "start_time": "2024-12-27T17:59:22.381Z"
   },
   {
    "duration": 1040,
    "start_time": "2024-12-27T17:59:22.719Z"
   },
   {
    "duration": 317,
    "start_time": "2024-12-27T17:59:23.760Z"
   },
   {
    "duration": 79,
    "start_time": "2024-12-27T17:59:24.080Z"
   },
   {
    "duration": 94,
    "start_time": "2024-12-27T17:59:24.160Z"
   },
   {
    "duration": 10,
    "start_time": "2024-12-27T17:59:24.259Z"
   },
   {
    "duration": 41,
    "start_time": "2024-12-27T17:59:24.270Z"
   },
   {
    "duration": 3,
    "start_time": "2024-12-27T17:59:24.313Z"
   },
   {
    "duration": 73,
    "start_time": "2024-12-27T17:59:24.317Z"
   },
   {
    "duration": 0,
    "start_time": "2024-12-27T17:59:24.391Z"
   },
   {
    "duration": 0,
    "start_time": "2024-12-27T17:59:24.392Z"
   },
   {
    "duration": 4245,
    "start_time": "2024-12-27T17:59:24.514Z"
   },
   {
    "duration": 5,
    "start_time": "2024-12-27T17:59:28.761Z"
   },
   {
    "duration": 4561,
    "start_time": "2024-12-27T17:59:28.767Z"
   },
   {
    "duration": 58,
    "start_time": "2024-12-27T17:59:33.330Z"
   },
   {
    "duration": 3,
    "start_time": "2024-12-27T17:59:36.036Z"
   },
   {
    "duration": 5,
    "start_time": "2024-12-27T17:59:36.307Z"
   },
   {
    "duration": 24,
    "start_time": "2024-12-27T17:59:39.330Z"
   },
   {
    "duration": 5947,
    "start_time": "2024-12-27T17:59:49.959Z"
   },
   {
    "duration": 1197,
    "start_time": "2024-12-27T17:59:55.908Z"
   },
   {
    "duration": 790,
    "start_time": "2024-12-27T17:59:57.106Z"
   },
   {
    "duration": 14,
    "start_time": "2024-12-27T17:59:57.898Z"
   },
   {
    "duration": 2,
    "start_time": "2024-12-27T17:59:57.914Z"
   },
   {
    "duration": 4,
    "start_time": "2024-12-27T17:59:57.918Z"
   },
   {
    "duration": 47,
    "start_time": "2024-12-27T17:59:57.923Z"
   },
   {
    "duration": 20,
    "start_time": "2024-12-27T17:59:57.972Z"
   },
   {
    "duration": 80,
    "start_time": "2024-12-27T17:59:57.994Z"
   },
   {
    "duration": 79,
    "start_time": "2024-12-27T17:59:58.078Z"
   },
   {
    "duration": 171,
    "start_time": "2024-12-27T17:59:58.161Z"
   },
   {
    "duration": 72,
    "start_time": "2024-12-27T17:59:58.334Z"
   },
   {
    "duration": 208,
    "start_time": "2024-12-27T17:59:58.407Z"
   },
   {
    "duration": 377,
    "start_time": "2024-12-27T17:59:58.616Z"
   },
   {
    "duration": 1085,
    "start_time": "2024-12-27T17:59:58.994Z"
   },
   {
    "duration": 344,
    "start_time": "2024-12-27T18:00:00.081Z"
   },
   {
    "duration": 68,
    "start_time": "2024-12-27T18:00:00.426Z"
   },
   {
    "duration": 105,
    "start_time": "2024-12-27T18:00:00.496Z"
   },
   {
    "duration": 8,
    "start_time": "2024-12-27T18:00:00.603Z"
   },
   {
    "duration": 69,
    "start_time": "2024-12-27T18:00:00.613Z"
   },
   {
    "duration": 4,
    "start_time": "2024-12-27T18:00:00.759Z"
   },
   {
    "duration": 64,
    "start_time": "2024-12-27T18:00:00.935Z"
   },
   {
    "duration": 142,
    "start_time": "2024-12-27T18:00:02.682Z"
   },
   {
    "duration": 81,
    "start_time": "2024-12-27T18:00:05.414Z"
   },
   {
    "duration": 62,
    "start_time": "2024-12-27T18:00:08.999Z"
   },
   {
    "duration": 3,
    "start_time": "2024-12-27T18:00:54.691Z"
   },
   {
    "duration": 3622,
    "start_time": "2024-12-27T18:00:55.162Z"
   },
   {
    "duration": 494,
    "start_time": "2024-12-27T18:01:04.104Z"
   },
   {
    "duration": 5110,
    "start_time": "2024-12-27T18:01:04.787Z"
   },
   {
    "duration": 4,
    "start_time": "2024-12-27T18:01:09.899Z"
   },
   {
    "duration": 4462,
    "start_time": "2024-12-27T18:01:10.210Z"
   },
   {
    "duration": 56,
    "start_time": "2024-12-27T18:01:16.988Z"
   },
   {
    "duration": 3,
    "start_time": "2024-12-27T18:01:28.863Z"
   },
   {
    "duration": 6,
    "start_time": "2024-12-27T18:01:30.135Z"
   },
   {
    "duration": 10,
    "start_time": "2024-12-27T18:01:32.581Z"
   },
   {
    "duration": 19,
    "start_time": "2024-12-27T18:01:41.041Z"
   },
   {
    "duration": 7,
    "start_time": "2024-12-27T18:01:42.751Z"
   },
   {
    "duration": 3,
    "start_time": "2024-12-27T18:01:43.615Z"
   },
   {
    "duration": 3,
    "start_time": "2024-12-27T18:01:44.790Z"
   },
   {
    "duration": 190,
    "start_time": "2024-12-27T18:01:45.341Z"
   },
   {
    "duration": 30778,
    "start_time": "2024-12-27T18:01:53.617Z"
   },
   {
    "duration": 6191,
    "start_time": "2024-12-27T18:04:07.618Z"
   },
   {
    "duration": 1242,
    "start_time": "2024-12-27T18:04:13.811Z"
   },
   {
    "duration": 813,
    "start_time": "2024-12-27T18:04:15.059Z"
   },
   {
    "duration": 15,
    "start_time": "2024-12-27T18:04:15.874Z"
   },
   {
    "duration": 3,
    "start_time": "2024-12-27T18:04:15.890Z"
   },
   {
    "duration": 18,
    "start_time": "2024-12-27T18:04:15.895Z"
   },
   {
    "duration": 42,
    "start_time": "2024-12-27T18:04:15.915Z"
   },
   {
    "duration": 10,
    "start_time": "2024-12-27T18:04:15.959Z"
   },
   {
    "duration": 88,
    "start_time": "2024-12-27T18:04:15.970Z"
   },
   {
    "duration": 69,
    "start_time": "2024-12-27T18:04:16.060Z"
   },
   {
    "duration": 157,
    "start_time": "2024-12-27T18:04:16.131Z"
   },
   {
    "duration": 73,
    "start_time": "2024-12-27T18:04:16.289Z"
   },
   {
    "duration": 194,
    "start_time": "2024-12-27T18:04:16.364Z"
   },
   {
    "duration": 365,
    "start_time": "2024-12-27T18:04:16.559Z"
   },
   {
    "duration": 1113,
    "start_time": "2024-12-27T18:04:16.926Z"
   },
   {
    "duration": 363,
    "start_time": "2024-12-27T18:04:18.047Z"
   },
   {
    "duration": 77,
    "start_time": "2024-12-27T18:04:18.412Z"
   },
   {
    "duration": 96,
    "start_time": "2024-12-27T18:04:18.490Z"
   },
   {
    "duration": 10,
    "start_time": "2024-12-27T18:04:18.587Z"
   },
   {
    "duration": 59,
    "start_time": "2024-12-27T18:04:18.598Z"
   },
   {
    "duration": 4,
    "start_time": "2024-12-27T18:04:18.659Z"
   },
   {
    "duration": 2,
    "start_time": "2024-12-27T18:04:18.665Z"
   },
   {
    "duration": 3696,
    "start_time": "2024-12-27T18:04:18.669Z"
   },
   {
    "duration": 514,
    "start_time": "2024-12-27T18:04:22.366Z"
   },
   {
    "duration": 5079,
    "start_time": "2024-12-27T18:04:22.881Z"
   },
   {
    "duration": 4,
    "start_time": "2024-12-27T18:04:27.962Z"
   },
   {
    "duration": 4423,
    "start_time": "2024-12-27T18:04:27.968Z"
   },
   {
    "duration": 21,
    "start_time": "2024-12-27T18:04:35.259Z"
   },
   {
    "duration": 13,
    "start_time": "2024-12-27T18:04:53.520Z"
   },
   {
    "duration": 2887,
    "start_time": "2024-12-27T18:05:02.930Z"
   },
   {
    "duration": 48,
    "start_time": "2024-12-27T18:05:16.891Z"
   },
   {
    "duration": 3,
    "start_time": "2024-12-27T18:05:17.419Z"
   },
   {
    "duration": 15,
    "start_time": "2024-12-27T18:05:20.743Z"
   },
   {
    "duration": 7,
    "start_time": "2024-12-27T18:05:21.873Z"
   },
   {
    "duration": 13,
    "start_time": "2024-12-27T18:05:22.726Z"
   },
   {
    "duration": 3,
    "start_time": "2024-12-27T18:05:23.033Z"
   },
   {
    "duration": 3,
    "start_time": "2024-12-27T18:05:23.509Z"
   },
   {
    "duration": 3,
    "start_time": "2024-12-27T18:05:23.791Z"
   },
   {
    "duration": 9068,
    "start_time": "2024-12-27T18:23:51.816Z"
   },
   {
    "duration": 4,
    "start_time": "2024-12-27T18:24:02.709Z"
   },
   {
    "duration": 3,
    "start_time": "2024-12-27T18:24:03.081Z"
   },
   {
    "duration": 1531274,
    "start_time": "2024-12-27T18:24:03.501Z"
   },
   {
    "duration": 11339,
    "start_time": "2024-12-28T07:39:08.684Z"
   },
   {
    "duration": 1437,
    "start_time": "2024-12-28T07:39:20.026Z"
   },
   {
    "duration": 1053,
    "start_time": "2024-12-28T07:39:21.465Z"
   },
   {
    "duration": 17,
    "start_time": "2024-12-28T07:39:22.520Z"
   },
   {
    "duration": 6,
    "start_time": "2024-12-28T07:39:22.539Z"
   },
   {
    "duration": 10,
    "start_time": "2024-12-28T07:39:22.547Z"
   },
   {
    "duration": 28,
    "start_time": "2024-12-28T07:39:22.559Z"
   },
   {
    "duration": 11,
    "start_time": "2024-12-28T07:39:22.589Z"
   },
   {
    "duration": 94,
    "start_time": "2024-12-28T07:39:22.601Z"
   },
   {
    "duration": 75,
    "start_time": "2024-12-28T07:39:22.698Z"
   },
   {
    "duration": 148,
    "start_time": "2024-12-28T07:39:22.774Z"
   },
   {
    "duration": 80,
    "start_time": "2024-12-28T07:39:22.924Z"
   },
   {
    "duration": 222,
    "start_time": "2024-12-28T07:39:23.006Z"
   },
   {
    "duration": 376,
    "start_time": "2024-12-28T07:39:23.229Z"
   },
   {
    "duration": 1080,
    "start_time": "2024-12-28T07:39:23.607Z"
   },
   {
    "duration": 367,
    "start_time": "2024-12-28T07:39:24.688Z"
   },
   {
    "duration": 83,
    "start_time": "2024-12-28T07:39:25.056Z"
   },
   {
    "duration": 90,
    "start_time": "2024-12-28T07:39:25.141Z"
   },
   {
    "duration": 10,
    "start_time": "2024-12-28T07:39:25.233Z"
   },
   {
    "duration": 86,
    "start_time": "2024-12-28T07:39:25.244Z"
   },
   {
    "duration": 4,
    "start_time": "2024-12-28T07:39:25.332Z"
   },
   {
    "duration": 9,
    "start_time": "2024-12-28T07:39:25.337Z"
   },
   {
    "duration": 3683,
    "start_time": "2024-12-28T07:39:25.348Z"
   },
   {
    "duration": 513,
    "start_time": "2024-12-28T07:39:29.032Z"
   },
   {
    "duration": 5088,
    "start_time": "2024-12-28T07:39:29.547Z"
   },
   {
    "duration": 4,
    "start_time": "2024-12-28T07:39:34.637Z"
   },
   {
    "duration": 4549,
    "start_time": "2024-12-28T07:39:34.643Z"
   },
   {
    "duration": 21,
    "start_time": "2024-12-28T07:39:39.195Z"
   },
   {
    "duration": 2856,
    "start_time": "2024-12-28T07:39:39.218Z"
   },
   {
    "duration": 59,
    "start_time": "2024-12-28T07:39:42.075Z"
   },
   {
    "duration": 3,
    "start_time": "2024-12-28T07:53:25.044Z"
   },
   {
    "duration": 6,
    "start_time": "2024-12-28T07:53:25.513Z"
   },
   {
    "duration": 7,
    "start_time": "2024-12-28T07:53:26.134Z"
   },
   {
    "duration": 14,
    "start_time": "2024-12-28T07:53:26.526Z"
   },
   {
    "duration": 3,
    "start_time": "2024-12-28T07:53:26.810Z"
   },
   {
    "duration": 6,
    "start_time": "2024-12-28T07:53:27.259Z"
   },
   {
    "duration": 3,
    "start_time": "2024-12-28T07:54:21.004Z"
   },
   {
    "duration": 626105,
    "start_time": "2024-12-28T07:54:22.571Z"
   },
   {
    "duration": 4,
    "start_time": "2024-12-28T08:05:05.671Z"
   },
   {
    "duration": 3,
    "start_time": "2024-12-28T08:05:07.117Z"
   },
   {
    "duration": 849467,
    "start_time": "2024-12-28T08:05:07.360Z"
   },
   {
    "duration": 19,
    "start_time": "2024-12-28T08:25:20.694Z"
   },
   {
    "duration": 26,
    "start_time": "2024-12-28T08:36:04.589Z"
   },
   {
    "duration": 23,
    "start_time": "2024-12-28T08:36:15.562Z"
   },
   {
    "duration": 3,
    "start_time": "2024-12-28T08:38:22.531Z"
   },
   {
    "duration": 4,
    "start_time": "2024-12-28T08:41:34.463Z"
   },
   {
    "duration": 3,
    "start_time": "2024-12-28T08:41:34.822Z"
   },
   {
    "duration": 85896,
    "start_time": "2024-12-28T08:41:35.565Z"
   },
   {
    "duration": 338313,
    "start_time": "2024-12-28T08:43:08.902Z"
   },
   {
    "duration": 4,
    "start_time": "2024-12-28T08:48:51.690Z"
   },
   {
    "duration": 3,
    "start_time": "2024-12-28T08:48:53.042Z"
   },
   {
    "duration": 953554,
    "start_time": "2024-12-28T08:48:53.362Z"
   },
   {
    "duration": 43,
    "start_time": "2024-12-28T09:15:05.323Z"
   },
   {
    "duration": 3,
    "start_time": "2024-12-28T09:15:05.906Z"
   },
   {
    "duration": 5,
    "start_time": "2024-12-28T09:15:08.601Z"
   },
   {
    "duration": 7,
    "start_time": "2024-12-28T09:15:08.811Z"
   },
   {
    "duration": 9,
    "start_time": "2024-12-28T09:15:08.973Z"
   },
   {
    "duration": 3,
    "start_time": "2024-12-28T09:15:09.140Z"
   },
   {
    "duration": 3,
    "start_time": "2024-12-28T09:15:09.953Z"
   },
   {
    "duration": 3,
    "start_time": "2024-12-28T09:15:10.306Z"
   },
   {
    "duration": 174027,
    "start_time": "2024-12-28T09:15:10.727Z"
   },
   {
    "duration": 2452813,
    "start_time": "2024-12-28T09:26:10.087Z"
   },
   {
    "duration": 10073,
    "start_time": "2024-12-28T10:10:15.150Z"
   },
   {
    "duration": 20805,
    "start_time": "2024-12-28T10:10:31.235Z"
   },
   {
    "duration": 5,
    "start_time": "2024-12-28T10:12:23.676Z"
   },
   {
    "duration": 2,
    "start_time": "2024-12-28T10:12:38.902Z"
   },
   {
    "duration": 35,
    "start_time": "2024-12-28T10:13:00.419Z"
   },
   {
    "duration": 444,
    "start_time": "2024-12-28T10:13:24.981Z"
   },
   {
    "duration": 62,
    "start_time": "2024-12-28T10:14:39.885Z"
   },
   {
    "duration": 421,
    "start_time": "2024-12-28T10:14:40.676Z"
   },
   {
    "duration": 2,
    "start_time": "2024-12-28T10:14:52.563Z"
   },
   {
    "duration": 18,
    "start_time": "2024-12-28T10:14:52.840Z"
   },
   {
    "duration": 693,
    "start_time": "2024-12-28T10:14:53.226Z"
   },
   {
    "duration": 6238,
    "start_time": "2024-12-28T10:16:19.917Z"
   },
   {
    "duration": 1402,
    "start_time": "2024-12-28T10:16:26.157Z"
   },
   {
    "duration": 838,
    "start_time": "2024-12-28T10:16:27.560Z"
   },
   {
    "duration": 17,
    "start_time": "2024-12-28T10:16:28.400Z"
   },
   {
    "duration": 4,
    "start_time": "2024-12-28T10:16:28.418Z"
   },
   {
    "duration": 5,
    "start_time": "2024-12-28T10:16:28.423Z"
   },
   {
    "duration": 38,
    "start_time": "2024-12-28T10:16:28.430Z"
   },
   {
    "duration": 27,
    "start_time": "2024-12-28T10:16:28.469Z"
   },
   {
    "duration": 158,
    "start_time": "2024-12-28T10:16:28.497Z"
   },
   {
    "duration": 71,
    "start_time": "2024-12-28T10:16:28.657Z"
   },
   {
    "duration": 142,
    "start_time": "2024-12-28T10:16:28.730Z"
   },
   {
    "duration": 80,
    "start_time": "2024-12-28T10:16:28.874Z"
   },
   {
    "duration": 216,
    "start_time": "2024-12-28T10:16:28.956Z"
   },
   {
    "duration": 418,
    "start_time": "2024-12-28T10:16:29.174Z"
   },
   {
    "duration": 1118,
    "start_time": "2024-12-28T10:16:29.594Z"
   },
   {
    "duration": 378,
    "start_time": "2024-12-28T10:16:30.714Z"
   },
   {
    "duration": 67,
    "start_time": "2024-12-28T10:16:31.094Z"
   },
   {
    "duration": 109,
    "start_time": "2024-12-28T10:16:31.163Z"
   },
   {
    "duration": 18,
    "start_time": "2024-12-28T10:16:31.275Z"
   },
   {
    "duration": 73,
    "start_time": "2024-12-28T10:16:31.295Z"
   },
   {
    "duration": 26,
    "start_time": "2024-12-28T10:16:31.369Z"
   },
   {
    "duration": 31,
    "start_time": "2024-12-28T10:16:31.396Z"
   },
   {
    "duration": 3694,
    "start_time": "2024-12-28T10:16:31.428Z"
   },
   {
    "duration": 516,
    "start_time": "2024-12-28T10:16:35.123Z"
   },
   {
    "duration": 5153,
    "start_time": "2024-12-28T10:16:35.641Z"
   },
   {
    "duration": 4,
    "start_time": "2024-12-28T10:16:40.796Z"
   },
   {
    "duration": 4676,
    "start_time": "2024-12-28T10:16:40.801Z"
   },
   {
    "duration": 20,
    "start_time": "2024-12-28T10:16:45.486Z"
   },
   {
    "duration": 3306,
    "start_time": "2024-12-28T10:16:45.507Z"
   },
   {
    "duration": 73,
    "start_time": "2024-12-28T10:16:48.815Z"
   },
   {
    "duration": 3,
    "start_time": "2024-12-28T10:16:48.890Z"
   },
   {
    "duration": 12,
    "start_time": "2024-12-28T10:16:48.895Z"
   },
   {
    "duration": 17,
    "start_time": "2024-12-28T10:16:48.908Z"
   },
   {
    "duration": 25,
    "start_time": "2024-12-28T10:16:48.926Z"
   },
   {
    "duration": 13,
    "start_time": "2024-12-28T10:16:48.952Z"
   },
   {
    "duration": 84,
    "start_time": "2024-12-28T10:16:48.966Z"
   },
   {
    "duration": 5,
    "start_time": "2024-12-28T10:16:54.700Z"
   },
   {
    "duration": 198768,
    "start_time": "2024-12-28T10:16:55.773Z"
   },
   {
    "duration": 3,
    "start_time": "2024-12-28T10:27:12.774Z"
   },
   {
    "duration": 67,
    "start_time": "2024-12-28T10:27:13.266Z"
   },
   {
    "duration": 452,
    "start_time": "2024-12-28T10:27:13.892Z"
   },
   {
    "duration": 36586,
    "start_time": "2024-12-28T10:27:24.431Z"
   },
   {
    "duration": 10,
    "start_time": "2024-12-28T11:58:29.160Z"
   },
   {
    "duration": 8,
    "start_time": "2024-12-28T11:58:54.602Z"
   },
   {
    "duration": 3,
    "start_time": "2024-12-28T11:59:31.273Z"
   },
   {
    "duration": 467,
    "start_time": "2024-12-28T11:59:48.606Z"
   },
   {
    "duration": 5,
    "start_time": "2024-12-28T12:00:01.838Z"
   },
   {
    "duration": 11,
    "start_time": "2024-12-28T12:00:09.828Z"
   },
   {
    "duration": 5,
    "start_time": "2024-12-28T12:00:25.414Z"
   },
   {
    "duration": 265,
    "start_time": "2024-12-28T12:01:05.709Z"
   },
   {
    "duration": 4,
    "start_time": "2024-12-28T12:01:29.595Z"
   },
   {
    "duration": 286,
    "start_time": "2024-12-28T12:35:24.427Z"
   },
   {
    "duration": 273,
    "start_time": "2024-12-28T12:35:31.141Z"
   },
   {
    "duration": 12970,
    "start_time": "2024-12-28T13:10:06.132Z"
   },
   {
    "duration": 3,
    "start_time": "2024-12-28T13:11:28.548Z"
   },
   {
    "duration": 5733,
    "start_time": "2024-12-28T13:11:29.342Z"
   },
   {
    "duration": 3,
    "start_time": "2024-12-28T13:11:46.953Z"
   },
   {
    "duration": 3697,
    "start_time": "2024-12-28T13:11:47.533Z"
   },
   {
    "duration": 18,
    "start_time": "2024-12-28T13:17:15.213Z"
   },
   {
    "duration": 18,
    "start_time": "2024-12-28T13:17:26.260Z"
   },
   {
    "duration": 1212,
    "start_time": "2024-12-28T13:17:33.858Z"
   },
   {
    "duration": 6,
    "start_time": "2024-12-28T13:17:47.543Z"
   },
   {
    "duration": 18,
    "start_time": "2024-12-28T13:17:56.122Z"
   },
   {
    "duration": 24,
    "start_time": "2024-12-28T13:18:02.584Z"
   },
   {
    "duration": 18,
    "start_time": "2024-12-28T13:18:11.945Z"
   },
   {
    "duration": 6,
    "start_time": "2024-12-28T13:18:21.632Z"
   },
   {
    "duration": 12,
    "start_time": "2024-12-28T13:22:30.480Z"
   },
   {
    "duration": 6240,
    "start_time": "2024-12-28T13:22:49.073Z"
   },
   {
    "duration": 1420,
    "start_time": "2024-12-28T13:22:55.316Z"
   },
   {
    "duration": 838,
    "start_time": "2024-12-28T13:22:56.738Z"
   },
   {
    "duration": 21,
    "start_time": "2024-12-28T13:22:57.578Z"
   },
   {
    "duration": 3,
    "start_time": "2024-12-28T13:22:57.601Z"
   },
   {
    "duration": 6,
    "start_time": "2024-12-28T13:22:57.605Z"
   },
   {
    "duration": 19,
    "start_time": "2024-12-28T13:22:57.613Z"
   },
   {
    "duration": 96,
    "start_time": "2024-12-28T13:22:57.633Z"
   },
   {
    "duration": 82,
    "start_time": "2024-12-28T13:22:57.731Z"
   },
   {
    "duration": 142,
    "start_time": "2024-12-28T13:22:57.815Z"
   },
   {
    "duration": 77,
    "start_time": "2024-12-28T13:22:57.958Z"
   },
   {
    "duration": 220,
    "start_time": "2024-12-28T13:22:58.037Z"
   },
   {
    "duration": 360,
    "start_time": "2024-12-28T13:22:58.259Z"
   },
   {
    "duration": 1115,
    "start_time": "2024-12-28T13:22:58.620Z"
   },
   {
    "duration": 71,
    "start_time": "2024-12-28T13:22:59.737Z"
   },
   {
    "duration": 98,
    "start_time": "2024-12-28T13:22:59.810Z"
   },
   {
    "duration": 2,
    "start_time": "2024-12-28T13:22:59.910Z"
   },
   {
    "duration": 3893,
    "start_time": "2024-12-28T13:22:59.913Z"
   },
   {
    "duration": 499,
    "start_time": "2024-12-28T13:23:03.808Z"
   },
   {
    "duration": 4984,
    "start_time": "2024-12-28T13:23:04.308Z"
   },
   {
    "duration": 4401,
    "start_time": "2024-12-28T13:23:09.293Z"
   },
   {
    "duration": 14,
    "start_time": "2024-12-28T13:23:13.696Z"
   },
   {
    "duration": 25,
    "start_time": "2024-12-28T13:25:28.610Z"
   },
   {
    "duration": 2766,
    "start_time": "2024-12-28T13:25:32.988Z"
   },
   {
    "duration": 12,
    "start_time": "2024-12-28T13:25:38.292Z"
   },
   {
    "duration": 53,
    "start_time": "2024-12-28T13:30:27.869Z"
   },
   {
    "duration": 2,
    "start_time": "2024-12-28T13:30:28.942Z"
   },
   {
    "duration": 6,
    "start_time": "2024-12-28T13:30:29.250Z"
   },
   {
    "duration": 6,
    "start_time": "2024-12-28T13:30:29.560Z"
   },
   {
    "duration": 17,
    "start_time": "2024-12-28T13:30:29.975Z"
   },
   {
    "duration": 3,
    "start_time": "2024-12-28T13:30:30.542Z"
   },
   {
    "duration": 4,
    "start_time": "2024-12-28T13:30:31.713Z"
   },
   {
    "duration": 4,
    "start_time": "2024-12-28T13:30:32.374Z"
   },
   {
    "duration": 181459,
    "start_time": "2024-12-28T13:30:34.984Z"
   },
   {
    "duration": 583,
    "start_time": "2024-12-28T13:33:36.498Z"
   },
   {
    "duration": 39551,
    "start_time": "2024-12-28T13:33:51.899Z"
   },
   {
    "duration": 3,
    "start_time": "2024-12-28T13:34:48.228Z"
   },
   {
    "duration": 1477,
    "start_time": "2024-12-28T13:35:09.677Z"
   },
   {
    "duration": 2054,
    "start_time": "2024-12-28T13:35:56.834Z"
   },
   {
    "duration": 3,
    "start_time": "2024-12-28T13:36:29.704Z"
   },
   {
    "duration": 2023,
    "start_time": "2024-12-28T13:49:06.401Z"
   },
   {
    "duration": 6143,
    "start_time": "2024-12-28T13:50:08.237Z"
   },
   {
    "duration": 1382,
    "start_time": "2024-12-28T13:50:14.382Z"
   },
   {
    "duration": 822,
    "start_time": "2024-12-28T13:50:15.766Z"
   },
   {
    "duration": 17,
    "start_time": "2024-12-28T13:50:16.589Z"
   },
   {
    "duration": 4,
    "start_time": "2024-12-28T13:50:16.608Z"
   },
   {
    "duration": 7,
    "start_time": "2024-12-28T13:50:16.614Z"
   },
   {
    "duration": 70,
    "start_time": "2024-12-28T13:50:16.623Z"
   },
   {
    "duration": 96,
    "start_time": "2024-12-28T13:50:16.694Z"
   },
   {
    "duration": 73,
    "start_time": "2024-12-28T13:50:16.792Z"
   },
   {
    "duration": 140,
    "start_time": "2024-12-28T13:50:16.868Z"
   },
   {
    "duration": 79,
    "start_time": "2024-12-28T13:50:17.010Z"
   },
   {
    "duration": 219,
    "start_time": "2024-12-28T13:50:17.090Z"
   },
   {
    "duration": 384,
    "start_time": "2024-12-28T13:50:17.311Z"
   },
   {
    "duration": 1099,
    "start_time": "2024-12-28T13:50:17.696Z"
   },
   {
    "duration": 69,
    "start_time": "2024-12-28T13:50:18.796Z"
   },
   {
    "duration": 99,
    "start_time": "2024-12-28T13:50:18.867Z"
   },
   {
    "duration": 2,
    "start_time": "2024-12-28T13:50:18.968Z"
   },
   {
    "duration": 3652,
    "start_time": "2024-12-28T13:50:18.972Z"
   },
   {
    "duration": 492,
    "start_time": "2024-12-28T13:50:22.626Z"
   },
   {
    "duration": 5071,
    "start_time": "2024-12-28T13:50:23.120Z"
   },
   {
    "duration": 4481,
    "start_time": "2024-12-28T13:50:28.192Z"
   },
   {
    "duration": 26,
    "start_time": "2024-12-28T13:50:32.674Z"
   },
   {
    "duration": 2822,
    "start_time": "2024-12-28T13:50:32.701Z"
   },
   {
    "duration": 72,
    "start_time": "2024-12-28T13:50:35.525Z"
   },
   {
    "duration": 4,
    "start_time": "2024-12-28T13:50:35.598Z"
   },
   {
    "duration": 54,
    "start_time": "2024-12-28T13:50:35.604Z"
   },
   {
    "duration": 24,
    "start_time": "2024-12-28T13:50:35.660Z"
   },
   {
    "duration": 18,
    "start_time": "2024-12-28T13:50:35.688Z"
   },
   {
    "duration": 3,
    "start_time": "2024-12-28T13:50:35.708Z"
   },
   {
    "duration": 14,
    "start_time": "2024-12-28T13:50:35.713Z"
   },
   {
    "duration": 27,
    "start_time": "2024-12-28T13:50:35.728Z"
   },
   {
    "duration": 189600,
    "start_time": "2024-12-28T13:50:35.757Z"
   },
   {
    "duration": 3,
    "start_time": "2024-12-28T13:53:45.358Z"
   },
   {
    "duration": 39564,
    "start_time": "2024-12-28T13:53:45.362Z"
   },
   {
    "duration": 2,
    "start_time": "2024-12-28T13:54:24.928Z"
   },
   {
    "duration": 2102,
    "start_time": "2024-12-28T13:54:24.932Z"
   },
   {
    "duration": 9043,
    "start_time": "2024-12-28T14:02:07.843Z"
   },
   {
    "duration": 1350,
    "start_time": "2024-12-28T14:02:16.888Z"
   },
   {
    "duration": 817,
    "start_time": "2024-12-28T14:02:18.239Z"
   },
   {
    "duration": 17,
    "start_time": "2024-12-28T14:02:19.058Z"
   },
   {
    "duration": 3,
    "start_time": "2024-12-28T14:02:19.086Z"
   },
   {
    "duration": 23,
    "start_time": "2024-12-28T14:02:19.090Z"
   },
   {
    "duration": 30,
    "start_time": "2024-12-28T14:02:19.114Z"
   },
   {
    "duration": 82,
    "start_time": "2024-12-28T14:02:19.146Z"
   },
   {
    "duration": 72,
    "start_time": "2024-12-28T14:02:19.229Z"
   },
   {
    "duration": 144,
    "start_time": "2024-12-28T14:02:19.303Z"
   },
   {
    "duration": 91,
    "start_time": "2024-12-28T14:02:19.450Z"
   },
   {
    "duration": 216,
    "start_time": "2024-12-28T14:02:19.544Z"
   },
   {
    "duration": 393,
    "start_time": "2024-12-28T14:02:19.764Z"
   },
   {
    "duration": 1100,
    "start_time": "2024-12-28T14:02:20.158Z"
   },
   {
    "duration": 82,
    "start_time": "2024-12-28T14:02:21.260Z"
   },
   {
    "duration": 107,
    "start_time": "2024-12-28T14:02:21.344Z"
   },
   {
    "duration": 3,
    "start_time": "2024-12-28T14:02:21.452Z"
   },
   {
    "duration": 3555,
    "start_time": "2024-12-28T14:02:21.456Z"
   },
   {
    "duration": 491,
    "start_time": "2024-12-28T14:02:25.013Z"
   },
   {
    "duration": 2520,
    "start_time": "2024-12-28T14:02:25.506Z"
   },
   {
    "duration": 0,
    "start_time": "2024-12-28T14:02:28.028Z"
   },
   {
    "duration": 0,
    "start_time": "2024-12-28T14:02:28.029Z"
   },
   {
    "duration": 0,
    "start_time": "2024-12-28T14:02:28.030Z"
   },
   {
    "duration": 0,
    "start_time": "2024-12-28T14:02:28.032Z"
   },
   {
    "duration": 0,
    "start_time": "2024-12-28T14:02:28.033Z"
   },
   {
    "duration": 0,
    "start_time": "2024-12-28T14:02:28.034Z"
   },
   {
    "duration": 0,
    "start_time": "2024-12-28T14:02:28.035Z"
   },
   {
    "duration": 0,
    "start_time": "2024-12-28T14:02:28.036Z"
   },
   {
    "duration": 4616,
    "start_time": "2024-12-28T14:02:31.943Z"
   },
   {
    "duration": 33,
    "start_time": "2024-12-28T14:02:36.561Z"
   },
   {
    "duration": 2733,
    "start_time": "2024-12-28T14:02:36.596Z"
   },
   {
    "duration": 44,
    "start_time": "2024-12-28T14:02:44.012Z"
   },
   {
    "duration": 2,
    "start_time": "2024-12-28T14:02:44.679Z"
   },
   {
    "duration": 8,
    "start_time": "2024-12-28T14:02:45.576Z"
   },
   {
    "duration": 7,
    "start_time": "2024-12-28T14:02:46.329Z"
   },
   {
    "duration": 17,
    "start_time": "2024-12-28T14:02:46.887Z"
   },
   {
    "duration": 2,
    "start_time": "2024-12-28T14:02:48.111Z"
   },
   {
    "duration": 4,
    "start_time": "2024-12-28T14:02:48.618Z"
   },
   {
    "duration": 4,
    "start_time": "2024-12-28T14:02:49.148Z"
   },
   {
    "duration": 376895,
    "start_time": "2024-12-28T14:02:50.282Z"
   },
   {
    "duration": 2,
    "start_time": "2024-12-28T14:09:07.186Z"
   },
   {
    "duration": 61570,
    "start_time": "2024-12-28T14:09:07.190Z"
   },
   {
    "duration": 2,
    "start_time": "2024-12-28T14:10:08.762Z"
   },
   {
    "duration": 2613,
    "start_time": "2024-12-28T14:10:08.766Z"
   },
   {
    "duration": 2544,
    "start_time": "2024-12-28T14:10:40.322Z"
   },
   {
    "duration": 2565,
    "start_time": "2024-12-28T14:10:59.096Z"
   },
   {
    "duration": 5,
    "start_time": "2024-12-28T14:12:36.900Z"
   },
   {
    "duration": 6,
    "start_time": "2024-12-28T14:12:56.386Z"
   },
   {
    "duration": 615,
    "start_time": "2024-12-28T14:13:23.252Z"
   },
   {
    "duration": 15,
    "start_time": "2024-12-28T14:14:09.668Z"
   },
   {
    "duration": 14,
    "start_time": "2024-12-28T14:14:32.143Z"
   },
   {
    "duration": 7,
    "start_time": "2024-12-28T14:15:06.922Z"
   },
   {
    "duration": 620,
    "start_time": "2024-12-28T14:15:22.476Z"
   },
   {
    "duration": 4,
    "start_time": "2024-12-28T14:15:33.751Z"
   },
   {
    "duration": 6,
    "start_time": "2024-12-28T14:16:40.912Z"
   },
   {
    "duration": 598,
    "start_time": "2024-12-28T14:17:14.263Z"
   },
   {
    "duration": 3,
    "start_time": "2024-12-28T14:17:40.470Z"
   },
   {
    "duration": 63,
    "start_time": "2024-12-28T14:18:18.528Z"
   },
   {
    "duration": 2,
    "start_time": "2024-12-28T14:29:49.864Z"
   },
   {
    "duration": 10,
    "start_time": "2024-12-28T14:29:57.074Z"
   },
   {
    "duration": 2537,
    "start_time": "2024-12-28T14:32:59.419Z"
   },
   {
    "duration": 8876,
    "start_time": "2024-12-28T14:33:39.162Z"
   },
   {
    "duration": 1305,
    "start_time": "2024-12-28T14:33:48.041Z"
   },
   {
    "duration": 848,
    "start_time": "2024-12-28T14:33:49.347Z"
   },
   {
    "duration": 17,
    "start_time": "2024-12-28T14:33:50.197Z"
   },
   {
    "duration": 14,
    "start_time": "2024-12-28T14:33:50.216Z"
   },
   {
    "duration": 28,
    "start_time": "2024-12-28T14:33:50.232Z"
   },
   {
    "duration": 28,
    "start_time": "2024-12-28T14:33:50.261Z"
   },
   {
    "duration": 82,
    "start_time": "2024-12-28T14:33:50.291Z"
   },
   {
    "duration": 80,
    "start_time": "2024-12-28T14:33:50.375Z"
   },
   {
    "duration": 145,
    "start_time": "2024-12-28T14:33:50.457Z"
   },
   {
    "duration": 70,
    "start_time": "2024-12-28T14:33:50.604Z"
   },
   {
    "duration": 203,
    "start_time": "2024-12-28T14:33:50.687Z"
   },
   {
    "duration": 380,
    "start_time": "2024-12-28T14:33:50.892Z"
   },
   {
    "duration": 1128,
    "start_time": "2024-12-28T14:33:51.274Z"
   },
   {
    "duration": 68,
    "start_time": "2024-12-28T14:33:52.404Z"
   },
   {
    "duration": 87,
    "start_time": "2024-12-28T14:33:52.486Z"
   },
   {
    "duration": 13,
    "start_time": "2024-12-28T14:33:52.574Z"
   },
   {
    "duration": 3558,
    "start_time": "2024-12-28T14:33:52.588Z"
   },
   {
    "duration": 490,
    "start_time": "2024-12-28T14:33:56.147Z"
   },
   {
    "duration": 5055,
    "start_time": "2024-12-28T14:33:56.638Z"
   },
   {
    "duration": 4580,
    "start_time": "2024-12-28T14:34:01.694Z"
   },
   {
    "duration": 26,
    "start_time": "2024-12-28T14:34:06.276Z"
   },
   {
    "duration": 2860,
    "start_time": "2024-12-28T14:34:06.304Z"
   },
   {
    "duration": 40,
    "start_time": "2024-12-28T14:34:09.166Z"
   },
   {
    "duration": 3,
    "start_time": "2024-12-28T14:34:09.207Z"
   },
   {
    "duration": 7,
    "start_time": "2024-12-28T14:34:09.211Z"
   },
   {
    "duration": 6,
    "start_time": "2024-12-28T14:34:09.220Z"
   },
   {
    "duration": 18,
    "start_time": "2024-12-28T14:34:09.229Z"
   },
   {
    "duration": 3,
    "start_time": "2024-12-28T14:34:09.249Z"
   },
   {
    "duration": 7,
    "start_time": "2024-12-28T14:34:09.253Z"
   },
   {
    "duration": 26,
    "start_time": "2024-12-28T14:34:09.261Z"
   },
   {
    "duration": 364323,
    "start_time": "2024-12-28T14:34:09.288Z"
   },
   {
    "duration": 2,
    "start_time": "2024-12-28T14:40:13.613Z"
   },
   {
    "duration": 60964,
    "start_time": "2024-12-28T14:40:13.616Z"
   },
   {
    "duration": 4,
    "start_time": "2024-12-28T14:41:14.582Z"
   },
   {
    "duration": 13,
    "start_time": "2024-12-28T14:41:14.587Z"
   },
   {
    "duration": 1217,
    "start_time": "2024-12-28T14:41:14.601Z"
   },
   {
    "duration": 4,
    "start_time": "2024-12-28T14:41:15.819Z"
   },
   {
    "duration": 2947,
    "start_time": "2024-12-28T14:41:15.825Z"
   },
   {
    "duration": 9910,
    "start_time": "2024-12-28T14:49:53.197Z"
   },
   {
    "duration": 1400,
    "start_time": "2024-12-28T14:50:03.111Z"
   },
   {
    "duration": 850,
    "start_time": "2024-12-28T14:50:04.512Z"
   },
   {
    "duration": 25,
    "start_time": "2024-12-28T14:50:05.364Z"
   },
   {
    "duration": 41,
    "start_time": "2024-12-28T14:50:05.391Z"
   },
   {
    "duration": 25,
    "start_time": "2024-12-28T14:50:05.434Z"
   },
   {
    "duration": 56,
    "start_time": "2024-12-28T14:50:05.461Z"
   },
   {
    "duration": 134,
    "start_time": "2024-12-28T14:50:05.519Z"
   },
   {
    "duration": 167,
    "start_time": "2024-12-28T14:50:05.654Z"
   },
   {
    "duration": 169,
    "start_time": "2024-12-28T14:50:05.824Z"
   },
   {
    "duration": 69,
    "start_time": "2024-12-28T14:50:05.994Z"
   },
   {
    "duration": 218,
    "start_time": "2024-12-28T14:50:06.064Z"
   },
   {
    "duration": 375,
    "start_time": "2024-12-28T14:50:06.286Z"
   },
   {
    "duration": 1108,
    "start_time": "2024-12-28T14:50:06.662Z"
   },
   {
    "duration": 77,
    "start_time": "2024-12-28T14:50:07.772Z"
   },
   {
    "duration": 98,
    "start_time": "2024-12-28T14:50:07.850Z"
   },
   {
    "duration": 3,
    "start_time": "2024-12-28T14:50:07.949Z"
   },
   {
    "duration": 3681,
    "start_time": "2024-12-28T14:50:07.953Z"
   },
   {
    "duration": 484,
    "start_time": "2024-12-28T14:50:11.636Z"
   },
   {
    "duration": 4959,
    "start_time": "2024-12-28T14:50:12.122Z"
   },
   {
    "duration": 4490,
    "start_time": "2024-12-28T14:50:17.083Z"
   },
   {
    "duration": 31,
    "start_time": "2024-12-28T14:50:21.575Z"
   },
   {
    "duration": 2782,
    "start_time": "2024-12-28T14:50:21.608Z"
   },
   {
    "duration": 35,
    "start_time": "2024-12-28T14:50:24.392Z"
   },
   {
    "duration": 3,
    "start_time": "2024-12-28T14:50:24.429Z"
   },
   {
    "duration": 13,
    "start_time": "2024-12-28T14:50:24.434Z"
   },
   {
    "duration": 8,
    "start_time": "2024-12-28T14:50:24.448Z"
   },
   {
    "duration": 38,
    "start_time": "2024-12-28T14:50:24.460Z"
   },
   {
    "duration": 4,
    "start_time": "2024-12-28T14:50:24.500Z"
   },
   {
    "duration": 6,
    "start_time": "2024-12-28T14:50:24.505Z"
   },
   {
    "duration": 4,
    "start_time": "2024-12-28T14:50:24.512Z"
   },
   {
    "duration": 365264,
    "start_time": "2024-12-28T14:50:24.518Z"
   },
   {
    "duration": 3,
    "start_time": "2024-12-28T14:56:29.787Z"
   },
   {
    "duration": 60935,
    "start_time": "2024-12-28T14:56:29.792Z"
   },
   {
    "duration": 3,
    "start_time": "2024-12-28T14:57:30.728Z"
   },
   {
    "duration": 24,
    "start_time": "2024-12-28T14:57:30.732Z"
   },
   {
    "duration": 1259,
    "start_time": "2024-12-28T14:57:30.758Z"
   },
   {
    "duration": 3,
    "start_time": "2024-12-28T14:57:32.019Z"
   },
   {
    "duration": 2941,
    "start_time": "2024-12-28T14:57:32.023Z"
   },
   {
    "duration": 14333,
    "start_time": "2024-12-29T09:27:34.870Z"
   },
   {
    "duration": 1691,
    "start_time": "2024-12-29T09:27:49.206Z"
   },
   {
    "duration": 1305,
    "start_time": "2024-12-29T09:27:50.899Z"
   },
   {
    "duration": 19,
    "start_time": "2024-12-29T09:27:52.206Z"
   },
   {
    "duration": 3,
    "start_time": "2024-12-29T09:27:52.227Z"
   },
   {
    "duration": 11,
    "start_time": "2024-12-29T09:27:52.232Z"
   },
   {
    "duration": 32,
    "start_time": "2024-12-29T09:27:52.245Z"
   },
   {
    "duration": 75,
    "start_time": "2024-12-29T09:28:04.432Z"
   },
   {
    "duration": 101,
    "start_time": "2024-12-29T09:28:43.702Z"
   },
   {
    "duration": 96,
    "start_time": "2024-12-29T09:28:47.000Z"
   },
   {
    "duration": 140,
    "start_time": "2024-12-29T09:28:50.279Z"
   },
   {
    "duration": 95,
    "start_time": "2024-12-29T09:28:51.411Z"
   },
   {
    "duration": 194,
    "start_time": "2024-12-29T09:28:54.102Z"
   },
   {
    "duration": 4,
    "start_time": "2024-12-29T09:30:16.132Z"
   },
   {
    "duration": 990,
    "start_time": "2024-12-29T09:30:16.662Z"
   },
   {
    "duration": 16,
    "start_time": "2024-12-29T09:30:17.654Z"
   },
   {
    "duration": 4,
    "start_time": "2024-12-29T09:30:18.410Z"
   },
   {
    "duration": 4,
    "start_time": "2024-12-29T09:30:19.084Z"
   },
   {
    "duration": 22,
    "start_time": "2024-12-29T09:30:20.151Z"
   },
   {
    "duration": 5,
    "start_time": "2024-12-29T09:30:27.549Z"
   },
   {
    "duration": 984,
    "start_time": "2024-12-29T09:30:28.408Z"
   },
   {
    "duration": 14,
    "start_time": "2024-12-29T09:30:30.365Z"
   },
   {
    "duration": 4,
    "start_time": "2024-12-29T09:30:31.823Z"
   },
   {
    "duration": 5,
    "start_time": "2024-12-29T09:30:32.040Z"
   },
   {
    "duration": 5,
    "start_time": "2024-12-29T09:30:58.119Z"
   },
   {
    "duration": 959,
    "start_time": "2024-12-29T09:30:58.629Z"
   },
   {
    "duration": 14,
    "start_time": "2024-12-29T09:30:59.590Z"
   },
   {
    "duration": 10,
    "start_time": "2024-12-29T09:30:59.606Z"
   },
   {
    "duration": 4,
    "start_time": "2024-12-29T09:30:59.777Z"
   },
   {
    "duration": 163,
    "start_time": "2024-12-29T09:31:09.774Z"
   },
   {
    "duration": 149,
    "start_time": "2024-12-29T09:31:35.852Z"
   },
   {
    "duration": 111,
    "start_time": "2024-12-29T09:31:58.882Z"
   },
   {
    "duration": 148,
    "start_time": "2024-12-29T09:32:06.859Z"
   },
   {
    "duration": 459,
    "start_time": "2024-12-29T09:32:21.557Z"
   },
   {
    "duration": 956,
    "start_time": "2024-12-29T09:37:31.935Z"
   },
   {
    "duration": 1421,
    "start_time": "2024-12-29T09:37:49.499Z"
   },
   {
    "duration": 108,
    "start_time": "2024-12-29T09:38:10.969Z"
   },
   {
    "duration": 41,
    "start_time": "2024-12-29T09:38:32.836Z"
   },
   {
    "duration": 40,
    "start_time": "2024-12-29T09:38:46.572Z"
   },
   {
    "duration": 6,
    "start_time": "2024-12-29T09:38:59.817Z"
   },
   {
    "duration": 1551,
    "start_time": "2024-12-29T09:42:16.149Z"
   },
   {
    "duration": 8863,
    "start_time": "2024-12-29T09:42:19.064Z"
   },
   {
    "duration": 9,
    "start_time": "2024-12-29T09:42:27.931Z"
   },
   {
    "duration": 1062,
    "start_time": "2024-12-29T09:42:27.943Z"
   },
   {
    "duration": 21,
    "start_time": "2024-12-29T09:42:46.785Z"
   },
   {
    "duration": 4,
    "start_time": "2024-12-29T09:42:47.517Z"
   },
   {
    "duration": 4,
    "start_time": "2024-12-29T09:42:47.717Z"
   },
   {
    "duration": 168,
    "start_time": "2024-12-29T09:42:48.249Z"
   },
   {
    "duration": 152,
    "start_time": "2024-12-29T09:42:48.466Z"
   },
   {
    "duration": 147,
    "start_time": "2024-12-29T09:42:48.638Z"
   },
   {
    "duration": 146,
    "start_time": "2024-12-29T09:42:48.806Z"
   },
   {
    "duration": 526,
    "start_time": "2024-12-29T09:42:49.272Z"
   },
   {
    "duration": 1059,
    "start_time": "2024-12-29T09:42:49.800Z"
   },
   {
    "duration": 1494,
    "start_time": "2024-12-29T09:42:50.861Z"
   },
   {
    "duration": 107,
    "start_time": "2024-12-29T09:42:54.468Z"
   },
   {
    "duration": 47,
    "start_time": "2024-12-29T09:42:57.739Z"
   },
   {
    "duration": 37,
    "start_time": "2024-12-29T09:42:59.980Z"
   },
   {
    "duration": 31,
    "start_time": "2024-12-29T09:43:30.202Z"
   },
   {
    "duration": 90,
    "start_time": "2024-12-29T09:43:57.267Z"
   },
   {
    "duration": 132,
    "start_time": "2024-12-29T09:58:08.657Z"
   },
   {
    "duration": 4,
    "start_time": "2024-12-29T09:58:12.666Z"
   },
   {
    "duration": 3,
    "start_time": "2024-12-29T09:58:32.403Z"
   },
   {
    "duration": 4422,
    "start_time": "2024-12-29T09:58:52.775Z"
   },
   {
    "duration": 638,
    "start_time": "2024-12-29T10:00:13.641Z"
   },
   {
    "duration": 6006,
    "start_time": "2024-12-29T10:00:30.341Z"
   },
   {
    "duration": 6,
    "start_time": "2024-12-29T10:01:18.220Z"
   },
   {
    "duration": 2210,
    "start_time": "2024-12-29T10:01:36.429Z"
   },
   {
    "duration": 27757,
    "start_time": "2024-12-29T10:02:58.214Z"
   },
   {
    "duration": 11,
    "start_time": "2024-12-29T10:03:38.536Z"
   },
   {
    "duration": 4818,
    "start_time": "2024-12-29T10:03:39.970Z"
   },
   {
    "duration": 19,
    "start_time": "2024-12-29T10:14:39.455Z"
   },
   {
    "duration": 2834,
    "start_time": "2024-12-29T10:14:59.759Z"
   },
   {
    "duration": 2760,
    "start_time": "2024-12-29T10:15:03.913Z"
   },
   {
    "duration": 5,
    "start_time": "2024-12-29T10:51:09.293Z"
   },
   {
    "duration": 971,
    "start_time": "2024-12-29T10:51:21.289Z"
   },
   {
    "duration": 15,
    "start_time": "2024-12-29T10:51:22.262Z"
   },
   {
    "duration": 4,
    "start_time": "2024-12-29T10:51:22.514Z"
   },
   {
    "duration": 5,
    "start_time": "2024-12-29T10:51:23.021Z"
   },
   {
    "duration": 144,
    "start_time": "2024-12-29T10:51:25.590Z"
   },
   {
    "duration": 143,
    "start_time": "2024-12-29T10:51:26.817Z"
   },
   {
    "duration": 114,
    "start_time": "2024-12-29T10:51:27.358Z"
   },
   {
    "duration": 141,
    "start_time": "2024-12-29T10:51:27.633Z"
   },
   {
    "duration": 441,
    "start_time": "2024-12-29T10:51:28.599Z"
   },
   {
    "duration": 905,
    "start_time": "2024-12-29T10:51:29.418Z"
   },
   {
    "duration": 1472,
    "start_time": "2024-12-29T10:51:31.526Z"
   },
   {
    "duration": 117,
    "start_time": "2024-12-29T10:51:33.000Z"
   },
   {
    "duration": 48,
    "start_time": "2024-12-29T10:51:33.119Z"
   },
   {
    "duration": 38,
    "start_time": "2024-12-29T10:51:33.233Z"
   },
   {
    "duration": 31,
    "start_time": "2024-12-29T10:51:33.421Z"
   },
   {
    "duration": 89,
    "start_time": "2024-12-29T10:51:33.603Z"
   },
   {
    "duration": 5,
    "start_time": "2024-12-29T10:51:34.844Z"
   },
   {
    "duration": 25,
    "start_time": "2024-12-29T10:58:08.798Z"
   },
   {
    "duration": 16,
    "start_time": "2024-12-29T10:58:11.479Z"
   },
   {
    "duration": 3,
    "start_time": "2024-12-29T10:58:43.329Z"
   },
   {
    "duration": 4346,
    "start_time": "2024-12-29T10:58:44.460Z"
   },
   {
    "duration": 439,
    "start_time": "2024-12-29T10:58:48.808Z"
   },
   {
    "duration": 6,
    "start_time": "2024-12-29T11:03:22.645Z"
   },
   {
    "duration": 1990,
    "start_time": "2024-12-29T11:03:25.984Z"
   },
   {
    "duration": 11,
    "start_time": "2024-12-29T11:07:13.647Z"
   },
   {
    "duration": 4866,
    "start_time": "2024-12-29T11:07:16.333Z"
   },
   {
    "duration": 99,
    "start_time": "2024-12-29T11:10:35.619Z"
   },
   {
    "duration": 168,
    "start_time": "2024-12-29T11:11:32.528Z"
   },
   {
    "duration": 4032,
    "start_time": "2024-12-29T11:11:39.064Z"
   },
   {
    "duration": 18,
    "start_time": "2024-12-29T11:11:49.196Z"
   },
   {
    "duration": 2562,
    "start_time": "2024-12-29T11:11:50.407Z"
   },
   {
    "duration": 64,
    "start_time": "2024-12-29T11:20:56.037Z"
   },
   {
    "duration": 3,
    "start_time": "2024-12-29T11:21:01.155Z"
   },
   {
    "duration": 7,
    "start_time": "2024-12-29T11:22:57.066Z"
   },
   {
    "duration": 13,
    "start_time": "2024-12-29T11:22:59.551Z"
   },
   {
    "duration": 11,
    "start_time": "2024-12-29T11:23:09.063Z"
   },
   {
    "duration": 11,
    "start_time": "2024-12-29T11:23:14.457Z"
   },
   {
    "duration": 3,
    "start_time": "2024-12-29T11:23:27.042Z"
   },
   {
    "duration": 4,
    "start_time": "2024-12-29T11:23:29.504Z"
   },
   {
    "duration": 4,
    "start_time": "2024-12-29T11:23:29.666Z"
   },
   {
    "duration": 84,
    "start_time": "2024-12-29T11:23:32.341Z"
   },
   {
    "duration": 24,
    "start_time": "2024-12-29T11:23:38.048Z"
   },
   {
    "duration": 5,
    "start_time": "2024-12-29T11:23:38.911Z"
   },
   {
    "duration": 1231,
    "start_time": "2024-12-29T11:23:59.335Z"
   },
   {
    "duration": 7,
    "start_time": "2024-12-29T11:24:13.468Z"
   },
   {
    "duration": 7,
    "start_time": "2024-12-29T11:24:15.044Z"
   },
   {
    "duration": 10,
    "start_time": "2024-12-29T11:24:15.738Z"
   },
   {
    "duration": 13,
    "start_time": "2024-12-29T11:26:38.291Z"
   },
   {
    "duration": 3,
    "start_time": "2024-12-29T11:26:39.653Z"
   },
   {
    "duration": 5,
    "start_time": "2024-12-29T11:26:40.038Z"
   },
   {
    "duration": 4,
    "start_time": "2024-12-29T11:26:40.312Z"
   },
   {
    "duration": 105,
    "start_time": "2024-12-29T11:26:42.632Z"
   },
   {
    "duration": 3,
    "start_time": "2024-12-29T11:29:22.211Z"
   },
   {
    "duration": 3,
    "start_time": "2024-12-29T11:31:08.616Z"
   },
   {
    "duration": 3,
    "start_time": "2024-12-29T11:33:02.215Z"
   },
   {
    "duration": 6,
    "start_time": "2024-12-29T11:33:03.783Z"
   },
   {
    "duration": 370,
    "start_time": "2024-12-29T11:33:03.991Z"
   },
   {
    "duration": 11,
    "start_time": "2024-12-29T11:33:12.757Z"
   },
   {
    "duration": 3,
    "start_time": "2024-12-29T11:33:32.312Z"
   },
   {
    "duration": 4,
    "start_time": "2024-12-29T11:33:33.219Z"
   },
   {
    "duration": 105,
    "start_time": "2024-12-29T11:33:38.073Z"
   },
   {
    "duration": 8836,
    "start_time": "2024-12-29T11:33:47.816Z"
   },
   {
    "duration": 1577,
    "start_time": "2024-12-29T11:33:56.655Z"
   },
   {
    "duration": 1032,
    "start_time": "2024-12-29T11:33:58.239Z"
   },
   {
    "duration": 19,
    "start_time": "2024-12-29T11:33:59.273Z"
   },
   {
    "duration": 4,
    "start_time": "2024-12-29T11:33:59.294Z"
   },
   {
    "duration": 8,
    "start_time": "2024-12-29T11:33:59.300Z"
   },
   {
    "duration": 173,
    "start_time": "2024-12-29T11:33:59.309Z"
   },
   {
    "duration": 150,
    "start_time": "2024-12-29T11:33:59.484Z"
   },
   {
    "duration": 147,
    "start_time": "2024-12-29T11:33:59.635Z"
   },
   {
    "duration": 144,
    "start_time": "2024-12-29T11:33:59.784Z"
   },
   {
    "duration": 548,
    "start_time": "2024-12-29T11:33:59.930Z"
   },
   {
    "duration": 1097,
    "start_time": "2024-12-29T11:34:00.481Z"
   },
   {
    "duration": 1507,
    "start_time": "2024-12-29T11:34:01.580Z"
   },
   {
    "duration": 127,
    "start_time": "2024-12-29T11:34:03.089Z"
   },
   {
    "duration": 57,
    "start_time": "2024-12-29T11:34:03.218Z"
   },
   {
    "duration": 43,
    "start_time": "2024-12-29T11:34:03.277Z"
   },
   {
    "duration": 49,
    "start_time": "2024-12-29T11:34:03.322Z"
   },
   {
    "duration": 121,
    "start_time": "2024-12-29T11:34:03.372Z"
   },
   {
    "duration": 4,
    "start_time": "2024-12-29T11:34:03.495Z"
   },
   {
    "duration": 53,
    "start_time": "2024-12-29T11:34:03.501Z"
   },
   {
    "duration": 4896,
    "start_time": "2024-12-29T11:34:03.556Z"
   },
   {
    "duration": 624,
    "start_time": "2024-12-29T11:34:08.454Z"
   },
   {
    "duration": 2070,
    "start_time": "2024-12-29T11:34:09.080Z"
   },
   {
    "duration": 23,
    "start_time": "2024-12-29T11:34:11.163Z"
   },
   {
    "duration": 120,
    "start_time": "2024-12-29T11:34:11.189Z"
   },
   {
    "duration": 198,
    "start_time": "2024-12-29T11:34:11.312Z"
   },
   {
    "duration": 4712,
    "start_time": "2024-12-29T11:34:11.512Z"
   },
   {
    "duration": 34,
    "start_time": "2024-12-29T11:34:16.226Z"
   },
   {
    "duration": 2779,
    "start_time": "2024-12-29T11:34:16.262Z"
   },
   {
    "duration": 48,
    "start_time": "2024-12-29T11:34:19.044Z"
   },
   {
    "duration": 3,
    "start_time": "2024-12-29T11:34:19.094Z"
   },
   {
    "duration": 8,
    "start_time": "2024-12-29T11:34:21.304Z"
   },
   {
    "duration": 136,
    "start_time": "2024-12-29T11:34:21.912Z"
   },
   {
    "duration": 11,
    "start_time": "2024-12-29T11:34:22.844Z"
   },
   {
    "duration": 12,
    "start_time": "2024-12-29T11:34:35.059Z"
   },
   {
    "duration": 2,
    "start_time": "2024-12-29T11:34:36.570Z"
   },
   {
    "duration": 4,
    "start_time": "2024-12-29T11:34:38.334Z"
   },
   {
    "duration": 4,
    "start_time": "2024-12-29T11:34:38.515Z"
   },
   {
    "duration": 113,
    "start_time": "2024-12-29T11:34:39.394Z"
   },
   {
    "duration": 18,
    "start_time": "2024-12-29T11:37:15.922Z"
   },
   {
    "duration": 3,
    "start_time": "2024-12-29T11:37:59.983Z"
   },
   {
    "duration": 6,
    "start_time": "2024-12-29T11:38:01.486Z"
   },
   {
    "duration": 10,
    "start_time": "2024-12-29T11:38:01.884Z"
   },
   {
    "duration": 3,
    "start_time": "2024-12-29T11:38:02.745Z"
   },
   {
    "duration": 4,
    "start_time": "2024-12-29T11:38:03.341Z"
   },
   {
    "duration": 4,
    "start_time": "2024-12-29T11:38:04.391Z"
   },
   {
    "duration": 98,
    "start_time": "2024-12-29T11:38:04.831Z"
   },
   {
    "duration": 3,
    "start_time": "2024-12-29T11:41:36.673Z"
   },
   {
    "duration": 6,
    "start_time": "2024-12-29T11:41:37.561Z"
   },
   {
    "duration": 13,
    "start_time": "2024-12-29T11:41:37.884Z"
   },
   {
    "duration": 3,
    "start_time": "2024-12-29T11:41:38.859Z"
   },
   {
    "duration": 3,
    "start_time": "2024-12-29T11:41:39.460Z"
   },
   {
    "duration": 4,
    "start_time": "2024-12-29T11:41:39.638Z"
   },
   {
    "duration": 16867,
    "start_time": "2024-12-29T11:41:40.404Z"
   },
   {
    "duration": 109523,
    "start_time": "2024-12-29T11:43:47.485Z"
   },
   {
    "duration": 7426,
    "start_time": "2024-12-29T11:45:49.267Z"
   },
   {
    "duration": 109676,
    "start_time": "2024-12-29T11:45:59.299Z"
   },
   {
    "duration": 159891,
    "start_time": "2024-12-29T11:49:06.365Z"
   },
   {
    "duration": 7,
    "start_time": "2024-12-29T11:52:08.836Z"
   },
   {
    "duration": 1176,
    "start_time": "2024-12-29T11:52:41.300Z"
   },
   {
    "duration": 7,
    "start_time": "2024-12-29T11:52:44.460Z"
   },
   {
    "duration": 1168,
    "start_time": "2024-12-29T11:52:44.983Z"
   },
   {
    "duration": 4,
    "start_time": "2024-12-29T11:52:51.302Z"
   },
   {
    "duration": 2972,
    "start_time": "2024-12-29T11:52:54.557Z"
   },
   {
    "duration": 1170,
    "start_time": "2024-12-29T11:56:43.878Z"
   },
   {
    "duration": 4,
    "start_time": "2024-12-29T11:56:48.839Z"
   },
   {
    "duration": 2949,
    "start_time": "2024-12-29T11:57:22.391Z"
   },
   {
    "duration": 6,
    "start_time": "2024-12-29T12:01:25.866Z"
   },
   {
    "duration": 21,
    "start_time": "2024-12-29T12:04:38.170Z"
   },
   {
    "duration": 23,
    "start_time": "2024-12-29T12:05:00.468Z"
   },
   {
    "duration": 6,
    "start_time": "2024-12-29T12:05:21.453Z"
   },
   {
    "duration": 7,
    "start_time": "2024-12-29T12:06:02.701Z"
   },
   {
    "duration": 14504,
    "start_time": "2024-12-29T12:06:16.112Z"
   },
   {
    "duration": 3,
    "start_time": "2024-12-29T12:08:12.218Z"
   },
   {
    "duration": 7,
    "start_time": "2024-12-29T12:08:13.526Z"
   },
   {
    "duration": 12,
    "start_time": "2024-12-29T12:08:14.416Z"
   },
   {
    "duration": 3,
    "start_time": "2024-12-29T12:08:15.914Z"
   },
   {
    "duration": 5,
    "start_time": "2024-12-29T12:08:16.644Z"
   },
   {
    "duration": 4,
    "start_time": "2024-12-29T12:08:16.903Z"
   },
   {
    "duration": 112785,
    "start_time": "2024-12-29T12:08:18.074Z"
   },
   {
    "duration": 8800,
    "start_time": "2024-12-29T12:23:15.377Z"
   },
   {
    "duration": 2145,
    "start_time": "2024-12-29T12:23:24.180Z"
   },
   {
    "duration": 1036,
    "start_time": "2024-12-29T12:23:26.327Z"
   },
   {
    "duration": 20,
    "start_time": "2024-12-29T12:23:27.365Z"
   },
   {
    "duration": 4,
    "start_time": "2024-12-29T12:23:27.387Z"
   },
   {
    "duration": 5,
    "start_time": "2024-12-29T12:23:27.393Z"
   },
   {
    "duration": 192,
    "start_time": "2024-12-29T12:23:27.400Z"
   },
   {
    "duration": 160,
    "start_time": "2024-12-29T12:23:27.594Z"
   },
   {
    "duration": 156,
    "start_time": "2024-12-29T12:23:27.760Z"
   },
   {
    "duration": 232,
    "start_time": "2024-12-29T12:23:27.918Z"
   },
   {
    "duration": 548,
    "start_time": "2024-12-29T12:23:28.159Z"
   },
   {
    "duration": 1089,
    "start_time": "2024-12-29T12:23:28.709Z"
   },
   {
    "duration": 1474,
    "start_time": "2024-12-29T12:23:29.800Z"
   },
   {
    "duration": 115,
    "start_time": "2024-12-29T12:23:31.277Z"
   },
   {
    "duration": 48,
    "start_time": "2024-12-29T12:23:31.393Z"
   },
   {
    "duration": 56,
    "start_time": "2024-12-29T12:23:31.443Z"
   },
   {
    "duration": 32,
    "start_time": "2024-12-29T12:23:31.501Z"
   },
   {
    "duration": 105,
    "start_time": "2024-12-29T12:23:31.535Z"
   },
   {
    "duration": 4,
    "start_time": "2024-12-29T12:23:31.641Z"
   },
   {
    "duration": 31,
    "start_time": "2024-12-29T12:23:31.647Z"
   },
   {
    "duration": 4497,
    "start_time": "2024-12-29T12:23:31.680Z"
   },
   {
    "duration": 613,
    "start_time": "2024-12-29T12:23:36.178Z"
   },
   {
    "duration": 1994,
    "start_time": "2024-12-29T12:23:36.793Z"
   },
   {
    "duration": 17,
    "start_time": "2024-12-29T12:23:38.789Z"
   },
   {
    "duration": 113,
    "start_time": "2024-12-29T12:23:38.808Z"
   },
   {
    "duration": 186,
    "start_time": "2024-12-29T12:23:38.923Z"
   },
   {
    "duration": 5251,
    "start_time": "2024-12-29T12:23:39.111Z"
   },
   {
    "duration": 21,
    "start_time": "2024-12-29T12:23:44.363Z"
   },
   {
    "duration": 2688,
    "start_time": "2024-12-29T12:23:44.386Z"
   },
   {
    "duration": 36,
    "start_time": "2024-12-29T12:23:47.076Z"
   },
   {
    "duration": 3,
    "start_time": "2024-12-29T12:23:47.114Z"
   },
   {
    "duration": 27,
    "start_time": "2024-12-29T12:23:47.118Z"
   },
   {
    "duration": 30,
    "start_time": "2024-12-29T12:23:47.146Z"
   },
   {
    "duration": 11,
    "start_time": "2024-12-29T12:23:47.177Z"
   },
   {
    "duration": 5,
    "start_time": "2024-12-29T12:23:47.190Z"
   },
   {
    "duration": 16,
    "start_time": "2024-12-29T12:23:47.197Z"
   },
   {
    "duration": 112530,
    "start_time": "2024-12-29T12:23:47.215Z"
   },
   {
    "duration": 162855,
    "start_time": "2024-12-29T12:25:39.747Z"
   },
   {
    "duration": 8,
    "start_time": "2024-12-29T12:28:22.603Z"
   },
   {
    "duration": 1197,
    "start_time": "2024-12-29T12:28:22.613Z"
   },
   {
    "duration": 4,
    "start_time": "2024-12-29T12:28:23.815Z"
   },
   {
    "duration": 14471,
    "start_time": "2024-12-29T12:28:23.822Z"
   },
   {
    "duration": 13905,
    "start_time": "2024-12-30T08:47:47.847Z"
   },
   {
    "duration": 1698,
    "start_time": "2024-12-30T08:48:01.754Z"
   },
   {
    "duration": 3222,
    "start_time": "2024-12-30T08:48:03.454Z"
   },
   {
    "duration": 60,
    "start_time": "2024-12-30T08:48:06.679Z"
   },
   {
    "duration": 4,
    "start_time": "2024-12-30T08:48:06.741Z"
   },
   {
    "duration": 25,
    "start_time": "2024-12-30T08:48:06.746Z"
   },
   {
    "duration": 361,
    "start_time": "2024-12-30T08:48:06.773Z"
   },
   {
    "duration": 296,
    "start_time": "2024-12-30T08:48:07.136Z"
   },
   {
    "duration": 214,
    "start_time": "2024-12-30T08:48:07.433Z"
   },
   {
    "duration": 143,
    "start_time": "2024-12-30T08:48:07.649Z"
   },
   {
    "duration": 500,
    "start_time": "2024-12-30T08:48:07.793Z"
   },
   {
    "duration": 0,
    "start_time": "2024-12-30T08:48:08.295Z"
   },
   {
    "duration": 0,
    "start_time": "2024-12-30T08:48:08.297Z"
   },
   {
    "duration": 0,
    "start_time": "2024-12-30T08:48:08.299Z"
   },
   {
    "duration": 0,
    "start_time": "2024-12-30T08:48:08.300Z"
   },
   {
    "duration": 0,
    "start_time": "2024-12-30T08:48:08.302Z"
   },
   {
    "duration": 0,
    "start_time": "2024-12-30T08:48:08.303Z"
   },
   {
    "duration": 444,
    "start_time": "2024-12-30T08:48:12.287Z"
   },
   {
    "duration": 867,
    "start_time": "2024-12-30T08:48:13.664Z"
   },
   {
    "duration": 1337,
    "start_time": "2024-12-30T08:48:14.532Z"
   },
   {
    "duration": 108,
    "start_time": "2024-12-30T08:48:15.871Z"
   },
   {
    "duration": 82,
    "start_time": "2024-12-30T08:48:15.981Z"
   },
   {
    "duration": 40,
    "start_time": "2024-12-30T08:48:19.756Z"
   },
   {
    "duration": 6,
    "start_time": "2024-12-30T08:49:40.484Z"
   },
   {
    "duration": 846,
    "start_time": "2024-12-30T08:49:40.946Z"
   },
   {
    "duration": 13,
    "start_time": "2024-12-30T08:49:41.794Z"
   },
   {
    "duration": 8,
    "start_time": "2024-12-30T08:49:41.808Z"
   },
   {
    "duration": 5,
    "start_time": "2024-12-30T08:49:41.935Z"
   },
   {
    "duration": 146,
    "start_time": "2024-12-30T08:49:44.485Z"
   },
   {
    "duration": 134,
    "start_time": "2024-12-30T08:49:47.109Z"
   },
   {
    "duration": 102,
    "start_time": "2024-12-30T08:49:47.447Z"
   },
   {
    "duration": 131,
    "start_time": "2024-12-30T08:49:47.657Z"
   },
   {
    "duration": 379,
    "start_time": "2024-12-30T08:49:50.160Z"
   },
   {
    "duration": 800,
    "start_time": "2024-12-30T08:49:51.530Z"
   },
   {
    "duration": 1332,
    "start_time": "2024-12-30T08:49:52.332Z"
   },
   {
    "duration": 21,
    "start_time": "2024-12-30T08:50:05.159Z"
   },
   {
    "duration": 5,
    "start_time": "2024-12-30T08:51:04.643Z"
   },
   {
    "duration": 881,
    "start_time": "2024-12-30T08:51:05.507Z"
   },
   {
    "duration": 13,
    "start_time": "2024-12-30T08:51:06.419Z"
   },
   {
    "duration": 3,
    "start_time": "2024-12-30T08:51:07.080Z"
   },
   {
    "duration": 5,
    "start_time": "2024-12-30T08:51:07.364Z"
   },
   {
    "duration": 141,
    "start_time": "2024-12-30T08:51:08.493Z"
   },
   {
    "duration": 137,
    "start_time": "2024-12-30T08:51:09.675Z"
   },
   {
    "duration": 101,
    "start_time": "2024-12-30T08:51:10.295Z"
   },
   {
    "duration": 162,
    "start_time": "2024-12-30T08:51:10.600Z"
   },
   {
    "duration": 393,
    "start_time": "2024-12-30T08:51:12.147Z"
   },
   {
    "duration": 820,
    "start_time": "2024-12-30T08:51:12.912Z"
   },
   {
    "duration": 1356,
    "start_time": "2024-12-30T08:51:13.734Z"
   },
   {
    "duration": 106,
    "start_time": "2024-12-30T08:51:15.092Z"
   },
   {
    "duration": 74,
    "start_time": "2024-12-30T08:51:25.169Z"
   },
   {
    "duration": 153,
    "start_time": "2024-12-30T08:51:33.847Z"
   },
   {
    "duration": 88,
    "start_time": "2024-12-30T08:51:48.872Z"
   },
   {
    "duration": 88,
    "start_time": "2024-12-30T08:52:03.283Z"
   },
   {
    "duration": 210,
    "start_time": "2024-12-30T08:52:03.373Z"
   },
   {
    "duration": 17,
    "start_time": "2024-12-30T08:52:47.953Z"
   },
   {
    "duration": 5,
    "start_time": "2024-12-30T08:52:52.688Z"
   },
   {
    "duration": 892,
    "start_time": "2024-12-30T08:52:53.016Z"
   },
   {
    "duration": 13,
    "start_time": "2024-12-30T08:52:53.909Z"
   },
   {
    "duration": 76,
    "start_time": "2024-12-30T08:52:53.924Z"
   },
   {
    "duration": 17,
    "start_time": "2024-12-30T08:52:54.002Z"
   },
   {
    "duration": 145,
    "start_time": "2024-12-30T08:52:54.444Z"
   },
   {
    "duration": 146,
    "start_time": "2024-12-30T08:52:54.991Z"
   },
   {
    "duration": 105,
    "start_time": "2024-12-30T08:52:55.502Z"
   },
   {
    "duration": 135,
    "start_time": "2024-12-30T08:52:55.696Z"
   },
   {
    "duration": 399,
    "start_time": "2024-12-30T08:52:56.172Z"
   },
   {
    "duration": 826,
    "start_time": "2024-12-30T08:52:56.792Z"
   },
   {
    "duration": 1390,
    "start_time": "2024-12-30T08:52:57.620Z"
   },
   {
    "duration": 96,
    "start_time": "2024-12-30T08:52:59.012Z"
   },
   {
    "duration": 101,
    "start_time": "2024-12-30T08:53:01.489Z"
   },
   {
    "duration": 64,
    "start_time": "2024-12-30T08:53:17.903Z"
   },
   {
    "duration": 134,
    "start_time": "2024-12-30T08:54:42.567Z"
   },
   {
    "duration": 13,
    "start_time": "2024-12-30T08:54:51.056Z"
   },
   {
    "duration": 113,
    "start_time": "2024-12-30T08:55:01.018Z"
   },
   {
    "duration": 89,
    "start_time": "2024-12-30T08:55:24.898Z"
   },
   {
    "duration": 6,
    "start_time": "2024-12-30T08:57:54.819Z"
   },
   {
    "duration": 864,
    "start_time": "2024-12-30T08:57:55.216Z"
   },
   {
    "duration": 13,
    "start_time": "2024-12-30T08:57:56.083Z"
   },
   {
    "duration": 7,
    "start_time": "2024-12-30T08:57:56.097Z"
   },
   {
    "duration": 5,
    "start_time": "2024-12-30T08:57:56.106Z"
   },
   {
    "duration": 139,
    "start_time": "2024-12-30T08:57:56.519Z"
   },
   {
    "duration": 134,
    "start_time": "2024-12-30T08:57:56.930Z"
   },
   {
    "duration": 104,
    "start_time": "2024-12-30T08:57:57.434Z"
   },
   {
    "duration": 133,
    "start_time": "2024-12-30T08:57:57.813Z"
   },
   {
    "duration": 401,
    "start_time": "2024-12-30T08:57:58.402Z"
   },
   {
    "duration": 815,
    "start_time": "2024-12-30T08:57:59.324Z"
   },
   {
    "duration": 1352,
    "start_time": "2024-12-30T08:58:00.140Z"
   },
   {
    "duration": 360,
    "start_time": "2024-12-30T08:58:19.912Z"
   },
   {
    "duration": 32,
    "start_time": "2024-12-30T08:58:48.774Z"
   },
   {
    "duration": 47,
    "start_time": "2024-12-30T08:58:49.315Z"
   },
   {
    "duration": 95,
    "start_time": "2024-12-30T09:00:24.825Z"
   },
   {
    "duration": 25,
    "start_time": "2024-12-30T09:02:19.634Z"
   },
   {
    "duration": 92,
    "start_time": "2024-12-30T09:02:20.342Z"
   },
   {
    "duration": 4,
    "start_time": "2024-12-30T09:02:26.419Z"
   },
   {
    "duration": 4,
    "start_time": "2024-12-30T09:02:26.842Z"
   },
   {
    "duration": 4343,
    "start_time": "2024-12-30T09:02:28.072Z"
   },
   {
    "duration": 415,
    "start_time": "2024-12-30T09:02:32.417Z"
   },
   {
    "duration": 1954,
    "start_time": "2024-12-30T09:02:32.834Z"
   },
   {
    "duration": 14,
    "start_time": "2024-12-30T09:02:34.790Z"
   },
   {
    "duration": 108,
    "start_time": "2024-12-30T09:02:34.805Z"
   },
   {
    "duration": 161,
    "start_time": "2024-12-30T09:02:34.915Z"
   },
   {
    "duration": 4075,
    "start_time": "2024-12-30T09:02:36.380Z"
   },
   {
    "duration": 18,
    "start_time": "2024-12-30T09:02:40.456Z"
   },
   {
    "duration": 2350,
    "start_time": "2024-12-30T09:02:40.476Z"
   },
   {
    "duration": 31,
    "start_time": "2024-12-30T09:02:49.103Z"
   },
   {
    "duration": 3,
    "start_time": "2024-12-30T09:02:49.963Z"
   },
   {
    "duration": 7,
    "start_time": "2024-12-30T09:02:51.418Z"
   },
   {
    "duration": 11,
    "start_time": "2024-12-30T09:02:51.856Z"
   },
   {
    "duration": 2,
    "start_time": "2024-12-30T09:02:52.486Z"
   },
   {
    "duration": 4,
    "start_time": "2024-12-30T09:02:52.903Z"
   },
   {
    "duration": 4,
    "start_time": "2024-12-30T09:02:53.263Z"
   },
   {
    "duration": 100560,
    "start_time": "2024-12-30T09:02:57.684Z"
   },
   {
    "duration": 145476,
    "start_time": "2024-12-30T09:04:38.245Z"
   },
   {
    "duration": 11792,
    "start_time": "2024-12-30T09:07:51.844Z"
   },
   {
    "duration": 94327,
    "start_time": "2024-12-30T09:12:53.249Z"
   },
   {
    "duration": 0,
    "start_time": "2024-12-30T09:14:27.578Z"
   },
   {
    "duration": 102305,
    "start_time": "2024-12-30T09:16:09.860Z"
   },
   {
    "duration": 46589,
    "start_time": "2024-12-30T09:17:52.167Z"
   },
   {
    "duration": 361,
    "start_time": "2024-12-30T09:30:29.371Z"
   },
   {
    "duration": 7,
    "start_time": "2024-12-30T09:31:54.715Z"
   },
   {
    "duration": 388,
    "start_time": "2024-12-30T09:32:05.744Z"
   },
   {
    "duration": 8,
    "start_time": "2024-12-30T09:32:33.964Z"
   },
   {
    "duration": 357,
    "start_time": "2024-12-30T09:41:09.177Z"
   },
   {
    "duration": 7,
    "start_time": "2024-12-30T09:42:06.162Z"
   },
   {
    "duration": 25,
    "start_time": "2024-12-30T09:43:03.846Z"
   },
   {
    "duration": 11022,
    "start_time": "2024-12-30T09:45:12.933Z"
   },
   {
    "duration": 1490,
    "start_time": "2024-12-30T09:45:23.958Z"
   },
   {
    "duration": 966,
    "start_time": "2024-12-30T09:45:25.449Z"
   },
   {
    "duration": 23,
    "start_time": "2024-12-30T09:45:26.417Z"
   },
   {
    "duration": 4,
    "start_time": "2024-12-30T09:45:26.442Z"
   },
   {
    "duration": 7,
    "start_time": "2024-12-30T09:45:26.448Z"
   },
   {
    "duration": 175,
    "start_time": "2024-12-30T09:45:26.457Z"
   },
   {
    "duration": 155,
    "start_time": "2024-12-30T09:45:26.634Z"
   },
   {
    "duration": 148,
    "start_time": "2024-12-30T09:45:26.790Z"
   },
   {
    "duration": 151,
    "start_time": "2024-12-30T09:45:26.941Z"
   },
   {
    "duration": 502,
    "start_time": "2024-12-30T09:45:27.094Z"
   },
   {
    "duration": 11759,
    "start_time": "2024-12-30T09:45:31.146Z"
   },
   {
    "duration": 1523,
    "start_time": "2024-12-30T09:45:42.908Z"
   },
   {
    "duration": 945,
    "start_time": "2024-12-30T09:45:44.432Z"
   },
   {
    "duration": 19,
    "start_time": "2024-12-30T09:45:45.379Z"
   },
   {
    "duration": 8,
    "start_time": "2024-12-30T09:45:45.400Z"
   },
   {
    "duration": 18,
    "start_time": "2024-12-30T09:45:45.410Z"
   },
   {
    "duration": 167,
    "start_time": "2024-12-30T09:45:45.430Z"
   },
   {
    "duration": 148,
    "start_time": "2024-12-30T09:45:45.599Z"
   },
   {
    "duration": 141,
    "start_time": "2024-12-30T09:45:45.748Z"
   },
   {
    "duration": 167,
    "start_time": "2024-12-30T09:45:45.891Z"
   },
   {
    "duration": 509,
    "start_time": "2024-12-30T09:45:46.060Z"
   },
   {
    "duration": 979,
    "start_time": "2024-12-30T09:45:46.571Z"
   },
   {
    "duration": 1384,
    "start_time": "2024-12-30T09:45:47.551Z"
   },
   {
    "duration": 106,
    "start_time": "2024-12-30T09:45:48.937Z"
   },
   {
    "duration": 44,
    "start_time": "2024-12-30T09:45:49.045Z"
   },
   {
    "duration": 55,
    "start_time": "2024-12-30T09:45:49.091Z"
   },
   {
    "duration": 99,
    "start_time": "2024-12-30T09:45:49.147Z"
   },
   {
    "duration": 24,
    "start_time": "2024-12-30T09:45:49.248Z"
   },
   {
    "duration": 125,
    "start_time": "2024-12-30T09:45:49.273Z"
   },
   {
    "duration": 18,
    "start_time": "2024-12-30T09:45:49.399Z"
   },
   {
    "duration": 26,
    "start_time": "2024-12-30T09:45:49.419Z"
   },
   {
    "duration": 4009,
    "start_time": "2024-12-30T09:45:49.447Z"
   },
   {
    "duration": 527,
    "start_time": "2024-12-30T09:45:53.458Z"
   },
   {
    "duration": 1774,
    "start_time": "2024-12-30T09:45:53.986Z"
   },
   {
    "duration": 14,
    "start_time": "2024-12-30T09:45:55.763Z"
   },
   {
    "duration": 103,
    "start_time": "2024-12-30T09:45:55.779Z"
   },
   {
    "duration": 179,
    "start_time": "2024-12-30T09:45:55.884Z"
   },
   {
    "duration": 4851,
    "start_time": "2024-12-30T09:45:56.067Z"
   },
   {
    "duration": 26,
    "start_time": "2024-12-30T09:46:00.920Z"
   },
   {
    "duration": 2485,
    "start_time": "2024-12-30T09:46:00.949Z"
   },
   {
    "duration": 34,
    "start_time": "2024-12-30T09:46:03.436Z"
   },
   {
    "duration": 3,
    "start_time": "2024-12-30T09:46:03.472Z"
   },
   {
    "duration": 14,
    "start_time": "2024-12-30T09:46:03.477Z"
   },
   {
    "duration": 37,
    "start_time": "2024-12-30T09:46:03.493Z"
   },
   {
    "duration": 11,
    "start_time": "2024-12-30T09:46:03.532Z"
   },
   {
    "duration": 11,
    "start_time": "2024-12-30T09:46:03.545Z"
   },
   {
    "duration": 11,
    "start_time": "2024-12-30T09:46:03.558Z"
   },
   {
    "duration": 13480,
    "start_time": "2024-12-31T07:46:11.465Z"
   },
   {
    "duration": 1660,
    "start_time": "2024-12-31T07:46:24.947Z"
   },
   {
    "duration": 3013,
    "start_time": "2024-12-31T07:46:26.608Z"
   },
   {
    "duration": 18,
    "start_time": "2024-12-31T07:46:29.623Z"
   },
   {
    "duration": 3,
    "start_time": "2024-12-31T07:46:29.643Z"
   },
   {
    "duration": 4,
    "start_time": "2024-12-31T07:46:29.648Z"
   },
   {
    "duration": 183,
    "start_time": "2024-12-31T07:46:29.654Z"
   },
   {
    "duration": 208,
    "start_time": "2024-12-31T07:46:29.839Z"
   },
   {
    "duration": 141,
    "start_time": "2024-12-31T07:46:30.049Z"
   },
   {
    "duration": 155,
    "start_time": "2024-12-31T07:46:30.192Z"
   },
   {
    "duration": 564,
    "start_time": "2024-12-31T07:46:30.349Z"
   },
   {
    "duration": 933,
    "start_time": "2024-12-31T07:46:30.915Z"
   },
   {
    "duration": 1407,
    "start_time": "2024-12-31T07:46:31.850Z"
   },
   {
    "duration": 107,
    "start_time": "2024-12-31T07:46:33.258Z"
   },
   {
    "duration": 43,
    "start_time": "2024-12-31T07:46:33.366Z"
   },
   {
    "duration": 53,
    "start_time": "2024-12-31T07:46:33.410Z"
   },
   {
    "duration": 91,
    "start_time": "2024-12-31T07:46:33.464Z"
   },
   {
    "duration": 22,
    "start_time": "2024-12-31T07:46:33.557Z"
   },
   {
    "duration": 91,
    "start_time": "2024-12-31T07:46:33.581Z"
   },
   {
    "duration": 4,
    "start_time": "2024-12-31T07:46:33.674Z"
   },
   {
    "duration": 28,
    "start_time": "2024-12-31T07:46:33.679Z"
   },
   {
    "duration": 4219,
    "start_time": "2024-12-31T07:46:33.709Z"
   },
   {
    "duration": 570,
    "start_time": "2024-12-31T07:46:37.930Z"
   },
   {
    "duration": 1799,
    "start_time": "2024-12-31T07:46:38.501Z"
   },
   {
    "duration": 13,
    "start_time": "2024-12-31T07:46:40.302Z"
   },
   {
    "duration": 109,
    "start_time": "2024-12-31T07:46:40.317Z"
   },
   {
    "duration": 166,
    "start_time": "2024-12-31T07:46:40.427Z"
   },
   {
    "duration": 4062,
    "start_time": "2024-12-31T07:46:40.596Z"
   },
   {
    "duration": 16,
    "start_time": "2024-12-31T07:46:44.659Z"
   },
   {
    "duration": 2378,
    "start_time": "2024-12-31T07:46:44.677Z"
   },
   {
    "duration": 31,
    "start_time": "2024-12-31T07:46:47.057Z"
   },
   {
    "duration": 12,
    "start_time": "2024-12-31T07:46:47.090Z"
   },
   {
    "duration": 9,
    "start_time": "2024-12-31T07:46:47.104Z"
   },
   {
    "duration": 26,
    "start_time": "2024-12-31T07:46:47.115Z"
   },
   {
    "duration": 5,
    "start_time": "2024-12-31T07:46:47.143Z"
   },
   {
    "duration": 11,
    "start_time": "2024-12-31T07:46:47.149Z"
   },
   {
    "duration": 7,
    "start_time": "2024-12-31T07:46:47.162Z"
   },
   {
    "duration": 121,
    "start_time": "2024-12-31T07:48:05.878Z"
   },
   {
    "duration": 11,
    "start_time": "2024-12-31T07:48:34.302Z"
   },
   {
    "duration": 8194,
    "start_time": "2024-12-31T07:48:44.438Z"
   },
   {
    "duration": 6,
    "start_time": "2024-12-31T07:48:52.635Z"
   },
   {
    "duration": 903,
    "start_time": "2024-12-31T07:48:52.643Z"
   },
   {
    "duration": 14,
    "start_time": "2024-12-31T07:48:53.548Z"
   },
   {
    "duration": 12,
    "start_time": "2024-12-31T07:48:53.563Z"
   },
   {
    "duration": 15,
    "start_time": "2024-12-31T07:48:53.577Z"
   },
   {
    "duration": 156,
    "start_time": "2024-12-31T07:48:53.594Z"
   },
   {
    "duration": 139,
    "start_time": "2024-12-31T07:48:53.751Z"
   },
   {
    "duration": 121,
    "start_time": "2024-12-31T07:48:53.892Z"
   },
   {
    "duration": 144,
    "start_time": "2024-12-31T07:48:54.016Z"
   },
   {
    "duration": 419,
    "start_time": "2024-12-31T07:48:54.161Z"
   },
   {
    "duration": 846,
    "start_time": "2024-12-31T07:48:54.582Z"
   },
   {
    "duration": 1362,
    "start_time": "2024-12-31T07:48:55.430Z"
   },
   {
    "duration": 120,
    "start_time": "2024-12-31T07:48:56.793Z"
   },
   {
    "duration": 40,
    "start_time": "2024-12-31T07:48:56.914Z"
   },
   {
    "duration": 36,
    "start_time": "2024-12-31T07:48:56.956Z"
   },
   {
    "duration": 103,
    "start_time": "2024-12-31T07:48:56.994Z"
   },
   {
    "duration": 23,
    "start_time": "2024-12-31T07:48:57.099Z"
   },
   {
    "duration": 88,
    "start_time": "2024-12-31T07:48:57.124Z"
   },
   {
    "duration": 3,
    "start_time": "2024-12-31T07:48:57.214Z"
   },
   {
    "duration": 10,
    "start_time": "2024-12-31T07:48:57.219Z"
   },
   {
    "duration": 4148,
    "start_time": "2024-12-31T07:48:57.238Z"
   },
   {
    "duration": 530,
    "start_time": "2024-12-31T07:49:01.388Z"
   },
   {
    "duration": 1762,
    "start_time": "2024-12-31T07:49:01.920Z"
   },
   {
    "duration": 12,
    "start_time": "2024-12-31T07:49:03.684Z"
   },
   {
    "duration": 102,
    "start_time": "2024-12-31T07:49:03.698Z"
   },
   {
    "duration": 161,
    "start_time": "2024-12-31T07:49:03.802Z"
   },
   {
    "duration": 4044,
    "start_time": "2024-12-31T07:49:03.966Z"
   },
   {
    "duration": 30,
    "start_time": "2024-12-31T07:49:08.013Z"
   },
   {
    "duration": 2407,
    "start_time": "2024-12-31T07:49:08.044Z"
   },
   {
    "duration": 38,
    "start_time": "2024-12-31T07:49:10.453Z"
   },
   {
    "duration": 3,
    "start_time": "2024-12-31T07:49:10.492Z"
   },
   {
    "duration": 21,
    "start_time": "2024-12-31T07:49:10.497Z"
   },
   {
    "duration": 25,
    "start_time": "2024-12-31T07:49:10.519Z"
   },
   {
    "duration": 3,
    "start_time": "2024-12-31T07:49:10.546Z"
   },
   {
    "duration": 5,
    "start_time": "2024-12-31T07:49:10.550Z"
   },
   {
    "duration": 5,
    "start_time": "2024-12-31T07:49:10.556Z"
   },
   {
    "duration": 13,
    "start_time": "2024-12-31T07:49:12.817Z"
   },
   {
    "duration": 108126,
    "start_time": "2024-12-31T07:51:50.496Z"
   },
   {
    "duration": 48383,
    "start_time": "2024-12-31T07:53:38.625Z"
   },
   {
    "duration": 0,
    "start_time": "2024-12-31T07:54:27.010Z"
   },
   {
    "duration": 0,
    "start_time": "2024-12-31T07:54:27.012Z"
   },
   {
    "duration": 48951,
    "start_time": "2024-12-31T07:59:35.954Z"
   }
  ],
  "kernelspec": {
   "display_name": "Python 3 (ipykernel)",
   "language": "python",
   "name": "python3"
  },
  "language_info": {
   "codemirror_mode": {
    "name": "ipython",
    "version": 3
   },
   "file_extension": ".py",
   "mimetype": "text/x-python",
   "name": "python",
   "nbconvert_exporter": "python",
   "pygments_lexer": "ipython3",
   "version": "3.9.20"
  },
  "toc": {
   "base_numbering": 1,
   "nav_menu": {},
   "number_sections": true,
   "sideBar": true,
   "skip_h1_title": true,
   "title_cell": "Table of Contents",
   "title_sidebar": "Contents",
   "toc_cell": false,
   "toc_position": {
    "height": "calc(100% - 180px)",
    "left": "10px",
    "top": "150px",
    "width": "363px"
   },
   "toc_section_display": true,
   "toc_window_display": true
  }
 },
 "nbformat": 4,
 "nbformat_minor": 4
}

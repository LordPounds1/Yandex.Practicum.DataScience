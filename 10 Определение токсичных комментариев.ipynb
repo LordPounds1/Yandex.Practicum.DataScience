{
 "cells": [
  {
   "cell_type": "markdown",
   "metadata": {
    "toc": true
   },
   "source": [
    "<h1>Содержание<span class=\"tocSkip\"></span></h1>\n",
    "<a href=\"#Подготовка\" data-toc-modified-id=\"Подготовка-1\"><span class=\"toc-item-num\">1&nbsp;&nbsp;<x/span>Подготовка</a></span></li><li><span><a href=\"#Обучение\" data-toc-modified-id=\"Обучение-2\"><span class=\"toc-item-num\">2&nbsp;&nbsp;</span>Обучение</a></span><ul class=\"toc-item\"><li><span><a href=\"#LogisticRegression\" data-toc-modified-id=\"LogisticRegression-2.1\"><span class=\"toc-item-num\">2.1&nbsp;&nbsp;</span>LogisticRegression</a></span></li><li><span><a href=\"#DecisionTreeClassifier\" data-toc-modified-id=\"DecisionTreeClassifier-2.2\"><span class=\"toc-item-num\">2.2&nbsp;&nbsp;</span>DecisionTreeClassifier</a></span></li><li><span><a href=\"#Выбираем-лучшую-модель\" data-toc-modified-id=\"Выбираем-лучшую-модель-2.3\"><span class=\"toc-item-num\">2.3&nbsp;&nbsp;</span>Выбираем лучшую модель</a></span></li><li><span><a href=\"#Лучшая-модель-на-тестовых-данных\" data-toc-modified-id=\"Лучшая-модель-на-тестовых-данных-2.4\"><span class=\"toc-item-num\">2.4&nbsp;&nbsp;</span>Лучшая модель на тестовых данных</a></span></li></ul></li><li><span><a href=\"#Выводы\" data-toc-modified-id=\"Выводы-3\"><span class=\"toc-item-num\">3&nbsp;&nbsp;</span>Выводы</a></span></li><li><span><a href=\"#Чек-лист-проверки\" data-toc-modified-id=\"Чек-лист-проверки-4\"><span class=\"toc-item-num\">4&nbsp;&nbsp;</span>Чек-лист проверки</a></span></li></ul></div>"
   ]
  },
  {
   "cell_type": "markdown",
   "metadata": {},
   "source": [
    "# Проект для «Викишоп»"
   ]
  },
  {
   "cell_type": "markdown",
   "metadata": {},
   "source": [
    "Интернет-магазин «Викишоп» запускает новый сервис. Теперь пользователи могут редактировать и дополнять описания товаров, как в вики-сообществах. То есть клиенты предлагают свои правки и комментируют изменения других. Магазину нужен инструмент, который будет искать токсичные комментарии и отправлять их на модерацию. \n",
    "\n",
    "Обучите модель классифицировать комментарии на позитивные и негативные. В вашем распоряжении набор данных с разметкой о токсичности правок.\n",
    "\n",
    "Постройте модель со значением метрики качества *F1* не меньше 0.75. \n",
    "\n",
    "**Инструкция по выполнению проекта**\n",
    "\n",
    "1. Загрузите и подготовьте данные.\n",
    "2. Обучите разные модели. \n",
    "3. Сделайте выводы.\n",
    "\n",
    "Для выполнения проекта применять *BERT* необязательно, но вы можете попробовать.\n",
    "\n",
    "**Описание данных**\n",
    "\n",
    "Данные находятся в файле `toxic_comments.csv`. Столбец *text* в нём содержит текст комментария, а *toxic* — целевой признак."
   ]
  },
  {
   "cell_type": "markdown",
   "metadata": {},
   "source": [
    "## Подготовка"
   ]
  },
  {
   "cell_type": "code",
   "execution_count": 1,
   "metadata": {},
   "outputs": [
    {
     "name": "stderr",
     "output_type": "stream",
     "text": [
      "[nltk_data] Downloading package stopwords to /home/jovyan/nltk_data...\n",
      "[nltk_data]   Package stopwords is already up-to-date!\n"
     ]
    }
   ],
   "source": [
    "import os\n",
    "import pandas as pd\n",
    "import numpy as np\n",
    "import matplotlib.pyplot as plt\n",
    "import seaborn as sns\n",
    "import re\n",
    "from pymystem3 import Mystem\n",
    "\n",
    "import nltk\n",
    "from nltk.corpus import stopwords\n",
    "from nltk.stem import WordNetLemmatizer\n",
    "from nltk import word_tokenize, pos_tag\n",
    "\n",
    "from sklearn.model_selection import (\n",
    "    train_test_split,\n",
    "    cross_val_score,\n",
    "    GridSearchCV\n",
    ")\n",
    "\n",
    "from sklearn.pipeline import Pipeline\n",
    "\n",
    "from sklearn.feature_extraction.text import(\n",
    "    CountVectorizer,\n",
    "    TfidfVectorizer\n",
    ")\n",
    "\n",
    "from sklearn.svm import SVC\n",
    "from sklearn.tree import DecisionTreeClassifier\n",
    "from sklearn.linear_model import LogisticRegression\n",
    "\n",
    "from sklearn.metrics import (\n",
    "    f1_score,\n",
    "    accuracy_score,\n",
    "    precision_score,\n",
    "    recall_score,\n",
    "    confusion_matrix\n",
    ")\n",
    "\n",
    "import warnings\n",
    "warnings.filterwarnings('ignore')\n",
    "\n",
    "RANDOM_STATE = 228\n",
    "wordnet = WordNetLemmatizer()\n",
    "\n",
    "nltk.download('stopwords')\n",
    "\n",
    "stopwords = list(stopwords.words('english'))\n",
    "\n",
    "m = Mystem()"
   ]
  },
  {
   "cell_type": "code",
   "execution_count": 2,
   "metadata": {},
   "outputs": [],
   "source": [
    "df_1 = 'C:/Users/Gpets/Data With Python/toxic_comments.csv'\n",
    "\n",
    "df_2 = '/datasets/toxic_comments.csv'\n",
    "\n",
    "def load_data(primary_path, secondary_path):\n",
    "    if os.path.exists(primary_path):\n",
    "        try:\n",
    "            return pd.read_csv(primary_path, sep=',')\n",
    "        except:\n",
    "            return pd.read_csv(primary_path, sep=';')\n",
    "    elif os.path.exists(secondary_path):\n",
    "        try:\n",
    "            return pd.read_csv(secondary_path, sep=',')\n",
    "        except:\n",
    "            return pd.read_csv(secondary_path, sep=';')\n",
    "    else:\n",
    "        print(f\"Файл не найден: {primary_path} или {secondary_path}\")\n",
    "        return None\n",
    "\n",
    "\n",
    "df = load_data(df_1, df_2)"
   ]
  },
  {
   "cell_type": "code",
   "execution_count": 3,
   "metadata": {},
   "outputs": [
    {
     "data": {
      "text/html": [
       "<div>\n",
       "<style scoped>\n",
       "    .dataframe tbody tr th:only-of-type {\n",
       "        vertical-align: middle;\n",
       "    }\n",
       "\n",
       "    .dataframe tbody tr th {\n",
       "        vertical-align: top;\n",
       "    }\n",
       "\n",
       "    .dataframe thead th {\n",
       "        text-align: right;\n",
       "    }\n",
       "</style>\n",
       "<table border=\"1\" class=\"dataframe\">\n",
       "  <thead>\n",
       "    <tr style=\"text-align: right;\">\n",
       "      <th></th>\n",
       "      <th>Unnamed: 0</th>\n",
       "      <th>text</th>\n",
       "      <th>toxic</th>\n",
       "    </tr>\n",
       "  </thead>\n",
       "  <tbody>\n",
       "    <tr>\n",
       "      <th>0</th>\n",
       "      <td>0</td>\n",
       "      <td>Explanation\\nWhy the edits made under my usern...</td>\n",
       "      <td>0</td>\n",
       "    </tr>\n",
       "    <tr>\n",
       "      <th>1</th>\n",
       "      <td>1</td>\n",
       "      <td>D'aww! He matches this background colour I'm s...</td>\n",
       "      <td>0</td>\n",
       "    </tr>\n",
       "    <tr>\n",
       "      <th>2</th>\n",
       "      <td>2</td>\n",
       "      <td>Hey man, I'm really not trying to edit war. It...</td>\n",
       "      <td>0</td>\n",
       "    </tr>\n",
       "    <tr>\n",
       "      <th>3</th>\n",
       "      <td>3</td>\n",
       "      <td>\"\\nMore\\nI can't make any real suggestions on ...</td>\n",
       "      <td>0</td>\n",
       "    </tr>\n",
       "    <tr>\n",
       "      <th>4</th>\n",
       "      <td>4</td>\n",
       "      <td>You, sir, are my hero. Any chance you remember...</td>\n",
       "      <td>0</td>\n",
       "    </tr>\n",
       "  </tbody>\n",
       "</table>\n",
       "</div>"
      ],
      "text/plain": [
       "   Unnamed: 0                                               text  toxic\n",
       "0           0  Explanation\\nWhy the edits made under my usern...      0\n",
       "1           1  D'aww! He matches this background colour I'm s...      0\n",
       "2           2  Hey man, I'm really not trying to edit war. It...      0\n",
       "3           3  \"\\nMore\\nI can't make any real suggestions on ...      0\n",
       "4           4  You, sir, are my hero. Any chance you remember...      0"
      ]
     },
     "execution_count": 3,
     "metadata": {},
     "output_type": "execute_result"
    }
   ],
   "source": [
    "df.head()"
   ]
  },
  {
   "cell_type": "code",
   "execution_count": 4,
   "metadata": {},
   "outputs": [
    {
     "name": "stdout",
     "output_type": "stream",
     "text": [
      "<class 'pandas.core.frame.DataFrame'>\n",
      "RangeIndex: 159292 entries, 0 to 159291\n",
      "Data columns (total 3 columns):\n",
      " #   Column      Non-Null Count   Dtype \n",
      "---  ------      --------------   ----- \n",
      " 0   Unnamed: 0  159292 non-null  int64 \n",
      " 1   text        159292 non-null  object\n",
      " 2   toxic       159292 non-null  int64 \n",
      "dtypes: int64(2), object(1)\n",
      "memory usage: 3.6+ MB\n"
     ]
    }
   ],
   "source": [
    "df.info()"
   ]
  },
  {
   "cell_type": "markdown",
   "metadata": {},
   "source": [
    "Проверем наши данные на наличие пропусков"
   ]
  },
  {
   "cell_type": "code",
   "execution_count": 5,
   "metadata": {},
   "outputs": [
    {
     "data": {
      "text/plain": [
       "Unnamed: 0    0\n",
       "text          0\n",
       "toxic         0\n",
       "dtype: int64"
      ]
     },
     "execution_count": 5,
     "metadata": {},
     "output_type": "execute_result"
    }
   ],
   "source": [
    "df.isnull().sum()"
   ]
  },
  {
   "cell_type": "markdown",
   "metadata": {},
   "source": [
    "Классы целевого признака несбалансированы. Нужно провести поиск лучшего способа балансировки и сравнить их качество."
   ]
  },
  {
   "cell_type": "code",
   "execution_count": 6,
   "metadata": {},
   "outputs": [
    {
     "data": {
      "text/plain": [
       "0    0.898388\n",
       "1    0.101612\n",
       "Name: toxic, dtype: float64"
      ]
     },
     "execution_count": 6,
     "metadata": {},
     "output_type": "execute_result"
    }
   ],
   "source": [
    "df['toxic'].value_counts(normalize = True)"
   ]
  },
  {
   "cell_type": "markdown",
   "metadata": {},
   "source": [
    "Для начала очистим тексты от символов."
   ]
  },
  {
   "cell_type": "code",
   "execution_count": 7,
   "metadata": {},
   "outputs": [],
   "source": [
    "def lemmatize_text(text):\n",
    "    text = text.lower()\n",
    "    text = re.sub(r'[^a-zA-Z\\s]', '', text)\n",
    "    lemmatized_words = []\n",
    "    \n",
    "    for token, tag in pos_tag(word_tokenize(text)):\n",
    "        pos = tag[0].lower() \n",
    "        if pos not in ['a', 'r', 'n', 'v']:\n",
    "            pos = 'n'\n",
    "        lemmatized_words.append(wordnet.lemmatize(token, pos))\n",
    "    \n",
    "    return \" \".join(lemmatized_words)\n",
    "\n",
    "df['lemm_text'] = df['text'].apply(lemmatize_text)\n",
    "df = df.drop(['text'], axis=1)\n",
    "df = df.drop(['Unnamed: 0'], axis=1)"
   ]
  },
  {
   "cell_type": "code",
   "execution_count": 8,
   "metadata": {},
   "outputs": [
    {
     "data": {
      "text/html": [
       "<div>\n",
       "<style scoped>\n",
       "    .dataframe tbody tr th:only-of-type {\n",
       "        vertical-align: middle;\n",
       "    }\n",
       "\n",
       "    .dataframe tbody tr th {\n",
       "        vertical-align: top;\n",
       "    }\n",
       "\n",
       "    .dataframe thead th {\n",
       "        text-align: right;\n",
       "    }\n",
       "</style>\n",
       "<table border=\"1\" class=\"dataframe\">\n",
       "  <thead>\n",
       "    <tr style=\"text-align: right;\">\n",
       "      <th></th>\n",
       "      <th>toxic</th>\n",
       "      <th>lemm_text</th>\n",
       "    </tr>\n",
       "  </thead>\n",
       "  <tbody>\n",
       "    <tr>\n",
       "      <th>0</th>\n",
       "      <td>0</td>\n",
       "      <td>explanation why the edits make under my userna...</td>\n",
       "    </tr>\n",
       "    <tr>\n",
       "      <th>1</th>\n",
       "      <td>0</td>\n",
       "      <td>daww he match this background colour im seemin...</td>\n",
       "    </tr>\n",
       "    <tr>\n",
       "      <th>2</th>\n",
       "      <td>0</td>\n",
       "      <td>hey man im really not try to edit war it just ...</td>\n",
       "    </tr>\n",
       "    <tr>\n",
       "      <th>3</th>\n",
       "      <td>0</td>\n",
       "      <td>more i cant make any real suggestion on improv...</td>\n",
       "    </tr>\n",
       "    <tr>\n",
       "      <th>4</th>\n",
       "      <td>0</td>\n",
       "      <td>you sir be my hero any chance you remember wha...</td>\n",
       "    </tr>\n",
       "  </tbody>\n",
       "</table>\n",
       "</div>"
      ],
      "text/plain": [
       "   toxic                                          lemm_text\n",
       "0      0  explanation why the edits make under my userna...\n",
       "1      0  daww he match this background colour im seemin...\n",
       "2      0  hey man im really not try to edit war it just ...\n",
       "3      0  more i cant make any real suggestion on improv...\n",
       "4      0  you sir be my hero any chance you remember wha..."
      ]
     },
     "execution_count": 8,
     "metadata": {},
     "output_type": "execute_result"
    }
   ],
   "source": [
    "df.head()"
   ]
  },
  {
   "cell_type": "markdown",
   "metadata": {},
   "source": [
    "Теперь разобьем выборку по отношению 60/20/20."
   ]
  },
  {
   "cell_type": "code",
   "execution_count": 9,
   "metadata": {},
   "outputs": [],
   "source": [
    "X = df.drop(['toxic'], axis=1)\n",
    "y = df['toxic']\n",
    "\n",
    "X_train, X_temp, y_train, y_temp = train_test_split(\n",
    "    X,\n",
    "    y,\n",
    "    test_size=0.4,\n",
    "    random_state=RANDOM_STATE)\n",
    "\n",
    "X_valid, X_test, y_valid, y_test = train_test_split(\n",
    "    X_temp,\n",
    "    y_temp,\n",
    "    test_size=0.5,\n",
    "    random_state=RANDOM_STATE)"
   ]
  },
  {
   "cell_type": "markdown",
   "metadata": {},
   "source": [
    "Создаем матрицу cо значениями `TF-IDF` по лемметезированным текстам."
   ]
  },
  {
   "cell_type": "code",
   "execution_count": 10,
   "metadata": {},
   "outputs": [
    {
     "name": "stdout",
     "output_type": "stream",
     "text": [
      "(95575, 148047) (31858, 148047) (31859, 148047)\n"
     ]
    }
   ],
   "source": [
    "count_tf_idf = TfidfVectorizer(stop_words=stopwords)\n",
    "\n",
    "X_train = count_tf_idf.fit_transform(X_train['lemm_text'])\n",
    "X_valid = count_tf_idf.transform(X_valid['lemm_text'])\n",
    "X_test = count_tf_idf.transform(X_test['lemm_text'])\n",
    "print(X_train.shape, X_valid.shape, X_test.shape)"
   ]
  },
  {
   "cell_type": "markdown",
   "metadata": {},
   "source": [
    "## Обучение"
   ]
  },
  {
   "cell_type": "markdown",
   "metadata": {},
   "source": [
    "### LogisticRegression"
   ]
  },
  {
   "cell_type": "markdown",
   "metadata": {},
   "source": [
    "Попробуем модель LogisticRegression:"
   ]
  },
  {
   "cell_type": "code",
   "execution_count": 11,
   "metadata": {},
   "outputs": [
    {
     "name": "stdout",
     "output_type": "stream",
     "text": [
      "GridSearchCV - Лучшая модель и её параметры:\n",
      "\n",
      " {'C': 10, 'penalty': 'l2'}\n",
      "GridSearchCV - Метрика лучшей модели на кросс-валидации: 0.7539100170985348\n",
      "CPU times: user 1min 18s, sys: 44.8 s, total: 2min 3s\n",
      "Wall time: 2min 3s\n"
     ]
    }
   ],
   "source": [
    "%%time\n",
    "model_lr = LogisticRegression(random_state=RANDOM_STATE, class_weight='balanced', solver='liblinear')\n",
    "\n",
    "param_grid_lr = [\n",
    "    {\n",
    "        'C': [1, 10],\n",
    "        'penalty':['l1', 'l2']\n",
    "    }\n",
    "]\n",
    "\n",
    "gs_lr = GridSearchCV(\n",
    "    model_lr, \n",
    "    param_grid_lr,\n",
    "    cv=3, \n",
    "    scoring='f1')\n",
    "\n",
    "gs_lr.fit(X_train, y_train)\n",
    "\n",
    "\n",
    "# Лучшие параметры\n",
    "print('GridSearchCV - Лучшая модель и её параметры:\\n\\n', gs_lr.best_params_)\n",
    "print('GridSearchCV - Метрика лучшей модели на кросс-валидации:', gs_lr.best_score_)"
   ]
  },
  {
   "cell_type": "markdown",
   "metadata": {},
   "source": [
    "Проверим на валидационной:"
   ]
  },
  {
   "cell_type": "code",
   "execution_count": 12,
   "metadata": {},
   "outputs": [
    {
     "name": "stdout",
     "output_type": "stream",
     "text": [
      "F1 на валидации 0.7624487404803749\n",
      "CPU times: user 13.1 s, sys: 11.1 s, total: 24.2 s\n",
      "Wall time: 24.2 s\n"
     ]
    }
   ],
   "source": [
    "%%time\n",
    "best_lr = gs_lr.best_estimator_\n",
    "best_lr.fit(X_train, y_train)\n",
    "\n",
    "target_predict = best_lr.predict(X_valid)\n",
    "valid_f1_LR = f1_score(y_valid, target_predict)\n",
    "\n",
    "print('F1 на валидации', valid_f1_LR)"
   ]
  },
  {
   "cell_type": "markdown",
   "metadata": {},
   "source": [
    "### DecisionTreeClassifier"
   ]
  },
  {
   "cell_type": "markdown",
   "metadata": {},
   "source": [
    "Теперь проверим DecisionTreeClassifier:"
   ]
  },
  {
   "cell_type": "code",
   "execution_count": 13,
   "metadata": {},
   "outputs": [
    {
     "name": "stdout",
     "output_type": "stream",
     "text": [
      "GridSearchCV - Лучшая модель и её параметры:\n",
      "\n",
      " DecisionTreeClassifier(class_weight='balanced', max_depth=3, max_features=3,\n",
      "                       random_state=228)\n",
      "GridSearchCV - Метрика лучшей модели на кросс-валидации: 0.18366548327325882\n",
      "CPU times: user 3.19 s, sys: 194 ms, total: 3.39 s\n",
      "Wall time: 3.39 s\n"
     ]
    }
   ],
   "source": [
    "%%time\n",
    "model_dt = DecisionTreeClassifier(random_state=RANDOM_STATE, class_weight='balanced', )\n",
    "\n",
    "param_grid_dt = [\n",
    "    {\n",
    "        'max_depth': range(2, 5),\n",
    "        'max_features': range(2, 5)\n",
    "    },\n",
    "]\n",
    "\n",
    "\n",
    "gs_dt = GridSearchCV(\n",
    "    model_dt, \n",
    "    param_grid_dt,\n",
    "    cv=3, \n",
    "    scoring='f1')\n",
    "\n",
    "gs_dt.fit(X_train, y_train)\n",
    "\n",
    "\n",
    "# Лучшие параметры\n",
    "print('GridSearchCV - Лучшая модель и её параметры:\\n\\n', gs_dt.best_estimator_)\n",
    "print('GridSearchCV - Метрика лучшей модели на кросс-валидации:', gs_dt.best_score_)"
   ]
  },
  {
   "cell_type": "markdown",
   "metadata": {},
   "source": [
    "Проверим на валидационной:"
   ]
  },
  {
   "cell_type": "code",
   "execution_count": 14,
   "metadata": {},
   "outputs": [
    {
     "name": "stdout",
     "output_type": "stream",
     "text": [
      "F1 на валидации 0.18198981635104985\n",
      "CPU times: user 119 ms, sys: 3.61 ms, total: 123 ms\n",
      "Wall time: 123 ms\n"
     ]
    }
   ],
   "source": [
    "%%time\n",
    "best_dt = gs_dt.best_estimator_\n",
    "best_dt.fit(X_train, y_train)\n",
    "\n",
    "target_predict_DTC = best_dt.predict(X_valid)\n",
    "valid_f1_DTC = f1_score(y_valid, target_predict_DTC)\n",
    "\n",
    "print('F1 на валидации', valid_f1_DTC)"
   ]
  },
  {
   "cell_type": "markdown",
   "metadata": {},
   "source": [
    "### Выбираем лучшую модель"
   ]
  },
  {
   "cell_type": "markdown",
   "metadata": {},
   "source": [
    "Выведем таблицу валидации лучших моделей."
   ]
  },
  {
   "cell_type": "code",
   "execution_count": 15,
   "metadata": {},
   "outputs": [
    {
     "data": {
      "text/html": [
       "<div>\n",
       "<style scoped>\n",
       "    .dataframe tbody tr th:only-of-type {\n",
       "        vertical-align: middle;\n",
       "    }\n",
       "\n",
       "    .dataframe tbody tr th {\n",
       "        vertical-align: top;\n",
       "    }\n",
       "\n",
       "    .dataframe thead th {\n",
       "        text-align: right;\n",
       "    }\n",
       "</style>\n",
       "<table border=\"1\" class=\"dataframe\">\n",
       "  <thead>\n",
       "    <tr style=\"text-align: right;\">\n",
       "      <th></th>\n",
       "      <th>F1 на CV</th>\n",
       "      <th>F1 на валидации</th>\n",
       "      <th>Выполнение задачи</th>\n",
       "    </tr>\n",
       "  </thead>\n",
       "  <tbody>\n",
       "    <tr>\n",
       "      <th>LogisticRegression</th>\n",
       "      <td>0.753910</td>\n",
       "      <td>0.762449</td>\n",
       "      <td>True</td>\n",
       "    </tr>\n",
       "    <tr>\n",
       "      <th>DecisionTreeClassifier</th>\n",
       "      <td>0.183665</td>\n",
       "      <td>0.181990</td>\n",
       "      <td>False</td>\n",
       "    </tr>\n",
       "  </tbody>\n",
       "</table>\n",
       "</div>"
      ],
      "text/plain": [
       "                        F1 на CV  F1 на валидации  Выполнение задачи\n",
       "LogisticRegression      0.753910         0.762449               True\n",
       "DecisionTreeClassifier  0.183665         0.181990              False"
      ]
     },
     "execution_count": 15,
     "metadata": {},
     "output_type": "execute_result"
    }
   ],
   "source": [
    "index = ['LogisticRegression',\n",
    "         'DecisionTreeClassifier']\n",
    "data = {'F1 на CV':[gs_lr.best_score_,\n",
    "                    gs_dt.best_score_],\n",
    "        'F1 на валидации':[valid_f1_LR,\n",
    "                           valid_f1_DTC]}\n",
    "\n",
    "scores_data = pd.DataFrame(data=data, index=index)\n",
    "scores_data['Выполнение задачи'] = scores_data['F1 на валидации'] > 0.75\n",
    "scores_data"
   ]
  },
  {
   "cell_type": "markdown",
   "metadata": {},
   "source": [
    "### Лучшая модель на тестовых данных"
   ]
  },
  {
   "cell_type": "markdown",
   "metadata": {},
   "source": [
    "Проверим лучшую модель на тестовой выборке:"
   ]
  },
  {
   "cell_type": "code",
   "execution_count": 16,
   "metadata": {},
   "outputs": [
    {
     "data": {
      "text/plain": [
       "0.7569844166783659"
      ]
     },
     "execution_count": 16,
     "metadata": {},
     "output_type": "execute_result"
    }
   ],
   "source": [
    "pred_test = best_lr.predict(X_test)\n",
    "f1_lr = f1_score(y_test, pred_test)     \n",
    "f1_lr"
   ]
  },
  {
   "cell_type": "markdown",
   "metadata": {},
   "source": [
    "Задача выполнена"
   ]
  },
  {
   "cell_type": "markdown",
   "metadata": {},
   "source": [
    "## Выводы"
   ]
  },
  {
   "cell_type": "markdown",
   "metadata": {},
   "source": [
    "Проведем получение F1-меры, precision, recall, accuracyюl. Так же построим матрицу ошибок"
   ]
  },
  {
   "cell_type": "code",
   "execution_count": 17,
   "metadata": {},
   "outputs": [
    {
     "name": "stdout",
     "output_type": "stream",
     "text": [
      "Метрики LogisticRegression\n",
      "F1: 0.757\n",
      "Recall: 0.805\n",
      "Precision: 0.714\n",
      "Accuracy: 0.946\n"
     ]
    },
    {
     "data": {
      "image/png": "[encoded data removed]",
      "text/plain": [
       "<Figure size 432x288 with 1 Axes>"
      ]
     },
     "metadata": {
      "needs_background": "light"
     },
     "output_type": "display_data"
    }
   ],
   "source": [
    "print('Метрики LogisticRegression')\n",
    "accuracy = accuracy_score(y_test, pred_test)\n",
    "recall = recall_score(y_test, pred_test)\n",
    "precision = precision_score(y_test, pred_test)\n",
    "print(f\"F1: {f1_lr:.3f}\")\n",
    "print(f\"Recall: {recall:.3f}\")\n",
    "print(f\"Precision: {precision:.3f}\")\n",
    "print(f\"Accuracy: {accuracy:.3f}\")\n",
    "\n",
    "cm = confusion_matrix(y_test, pred_test)\n",
    "plt.figure(figsize=(6,4))\n",
    "sns.heatmap(cm, annot=True, fmt='d', cmap='Blues', cbar=False)\n",
    "plt.xlabel('Предсказанные значения')\n",
    "plt.ylabel('Истинные значения')\n",
    "plt.title('Матрица ошибок')\n",
    "plt.show()\n"
   ]
  },
  {
   "cell_type": "markdown",
   "metadata": {},
   "source": [
    "В ходе работы над проектом было сделано:\n",
    "\n",
    "* **Подготовленны данные обучения на моделях.**\n",
    "* **Выбран способ баланса классов и поделены данные на обучающую, валидационную и тестовою выборку.**\n",
    "* **Обучены модели и выбраны лучшие из них на валидационной выборке.**\n",
    "\n",
    "Данные обладают большим количеством признаков. Созданных столбцов больше, чем записей. Лучшей моделью стала `LogisticRegression`  с подробранными гиперпараметрами `C = 10`, `penalty = 'l2'`.\n",
    "\n",
    "На тестовой выбоке по метрике `F1` показал 0.756. Данная модель обладает большими показателями `Precision` и `Accuracy`. Это говорит нам, что токсичные комментарии находятся хорошо.\n",
    "\n"
   ]
  }
 ],
 "metadata": {
  "ExecuteTimeLog": [
   {
    "duration": 1604,
    "start_time": "2025-01-21T09:42:49.563Z"
   },
   {
    "duration": 1592,
    "start_time": "2025-01-21T09:43:21.319Z"
   },
   {
    "duration": 13,
    "start_time": "2025-01-21T09:43:29.128Z"
   },
   {
    "duration": 34,
    "start_time": "2025-01-21T09:45:06.427Z"
   },
   {
    "duration": 7,
    "start_time": "2025-01-21T09:47:46.207Z"
   },
   {
    "duration": 2314,
    "start_time": "2025-01-21T09:48:04.544Z"
   },
   {
    "duration": 919,
    "start_time": "2025-01-21T09:48:18.620Z"
   },
   {
    "duration": 6,
    "start_time": "2025-01-21T09:49:37.828Z"
   },
   {
    "duration": 5,
    "start_time": "2025-01-21T09:50:28.617Z"
   },
   {
    "duration": 350,
    "start_time": "2025-01-21T09:52:08.114Z"
   },
   {
    "duration": 1804,
    "start_time": "2025-01-21T09:54:31.094Z"
   },
   {
    "duration": 1439,
    "start_time": "2025-01-21T09:54:32.900Z"
   },
   {
    "duration": 12,
    "start_time": "2025-01-21T09:54:34.340Z"
   },
   {
    "duration": 69,
    "start_time": "2025-01-21T09:54:34.354Z"
   },
   {
    "duration": 2472,
    "start_time": "2025-01-21T09:54:35.276Z"
   },
   {
    "duration": 950,
    "start_time": "2025-01-21T09:54:40.465Z"
   },
   {
    "duration": 5,
    "start_time": "2025-01-21T09:54:44.239Z"
   },
   {
    "duration": 5,
    "start_time": "2025-01-21T09:56:38.035Z"
   },
   {
    "duration": 15646,
    "start_time": "2025-01-21T09:57:15.910Z"
   },
   {
    "duration": 18,
    "start_time": "2025-01-21T09:57:43.796Z"
   },
   {
    "duration": 4,
    "start_time": "2025-01-21T10:01:57.475Z"
   },
   {
    "duration": 1054,
    "start_time": "2025-01-21T10:01:58.696Z"
   },
   {
    "duration": 9,
    "start_time": "2025-01-21T10:01:59.752Z"
   },
   {
    "duration": 35,
    "start_time": "2025-01-21T10:02:00.495Z"
   },
   {
    "duration": 53,
    "start_time": "2025-01-21T10:02:03.486Z"
   },
   {
    "duration": 1821,
    "start_time": "2025-01-21T10:03:11.052Z"
   },
   {
    "duration": 1416,
    "start_time": "2025-01-21T10:03:15.636Z"
   },
   {
    "duration": 11,
    "start_time": "2025-01-21T10:03:17.054Z"
   },
   {
    "duration": 35,
    "start_time": "2025-01-21T10:03:17.067Z"
   },
   {
    "duration": 2241,
    "start_time": "2025-01-21T10:03:17.104Z"
   },
   {
    "duration": 892,
    "start_time": "2025-01-21T10:03:19.347Z"
   },
   {
    "duration": 6,
    "start_time": "2025-01-21T10:03:20.242Z"
   },
   {
    "duration": 14265,
    "start_time": "2025-01-21T10:03:22.227Z"
   },
   {
    "duration": 360,
    "start_time": "2025-01-21T10:04:31.482Z"
   },
   {
    "duration": 2211,
    "start_time": "2025-01-21T10:05:05.962Z"
   },
   {
    "duration": 6,
    "start_time": "2025-01-21T10:05:15.357Z"
   },
   {
    "duration": 1348,
    "start_time": "2025-01-21T10:05:18.812Z"
   },
   {
    "duration": 91,
    "start_time": "2025-01-21T10:05:20.161Z"
   },
   {
    "duration": 33,
    "start_time": "2025-01-21T10:05:20.601Z"
   },
   {
    "duration": 2233,
    "start_time": "2025-01-21T10:05:25.325Z"
   },
   {
    "duration": 854,
    "start_time": "2025-01-21T10:05:32.833Z"
   },
   {
    "duration": 6,
    "start_time": "2025-01-21T10:05:34.633Z"
   },
   {
    "duration": 13853,
    "start_time": "2025-01-21T10:05:35.479Z"
   },
   {
    "duration": 3,
    "start_time": "2025-01-21T10:06:32.784Z"
   },
   {
    "duration": 19,
    "start_time": "2025-01-21T10:07:18.026Z"
   },
   {
    "duration": 32,
    "start_time": "2025-01-21T10:07:24.223Z"
   },
   {
    "duration": 22,
    "start_time": "2025-01-21T10:07:41.134Z"
   },
   {
    "duration": 6,
    "start_time": "2025-01-21T10:09:16.339Z"
   },
   {
    "duration": 1174,
    "start_time": "2025-01-21T10:10:53.085Z"
   },
   {
    "duration": 5,
    "start_time": "2025-01-21T10:11:06.567Z"
   },
   {
    "duration": 4,
    "start_time": "2025-01-21T10:11:13.058Z"
   },
   {
    "duration": 13244,
    "start_time": "2025-01-21T10:11:44.759Z"
   },
   {
    "duration": 6,
    "start_time": "2025-01-21T10:12:33.302Z"
   },
   {
    "duration": 12,
    "start_time": "2025-01-21T10:12:38.216Z"
   },
   {
    "duration": 17,
    "start_time": "2025-01-21T10:12:45.643Z"
   },
   {
    "duration": 15,
    "start_time": "2025-01-21T10:13:06.751Z"
   },
   {
    "duration": 8,
    "start_time": "2025-01-21T10:13:11.923Z"
   },
   {
    "duration": 22,
    "start_time": "2025-01-21T10:14:28.781Z"
   },
   {
    "duration": 6,
    "start_time": "2025-01-21T10:15:45.076Z"
   },
   {
    "duration": 1031,
    "start_time": "2025-01-21T10:15:45.255Z"
   },
   {
    "duration": 8,
    "start_time": "2025-01-21T10:15:46.288Z"
   },
   {
    "duration": 55,
    "start_time": "2025-01-21T10:15:46.297Z"
   },
   {
    "duration": 53,
    "start_time": "2025-01-21T10:15:50.259Z"
   },
   {
    "duration": 0,
    "start_time": "2025-01-21T10:15:50.314Z"
   },
   {
    "duration": 2095,
    "start_time": "2025-01-21T10:15:55.770Z"
   },
   {
    "duration": 1489,
    "start_time": "2025-01-21T10:15:57.867Z"
   },
   {
    "duration": 97,
    "start_time": "2025-01-21T10:15:59.358Z"
   },
   {
    "duration": 36,
    "start_time": "2025-01-21T10:15:59.458Z"
   },
   {
    "duration": 2316,
    "start_time": "2025-01-21T10:15:59.496Z"
   },
   {
    "duration": 937,
    "start_time": "2025-01-21T10:16:01.814Z"
   },
   {
    "duration": 7,
    "start_time": "2025-01-21T10:16:02.754Z"
   },
   {
    "duration": 14934,
    "start_time": "2025-01-21T10:16:03.683Z"
   },
   {
    "duration": 11,
    "start_time": "2025-01-21T10:17:02.079Z"
   },
   {
    "duration": 3,
    "start_time": "2025-01-21T10:17:06.069Z"
   },
   {
    "duration": 36,
    "start_time": "2025-01-21T10:17:10.169Z"
   },
   {
    "duration": 1196,
    "start_time": "2025-01-21T10:17:11.846Z"
   },
   {
    "duration": 4,
    "start_time": "2025-01-21T10:17:13.044Z"
   },
   {
    "duration": 4,
    "start_time": "2025-01-21T10:17:13.707Z"
   },
   {
    "duration": 14387,
    "start_time": "2025-01-21T10:17:15.008Z"
   },
   {
    "duration": 9,
    "start_time": "2025-01-21T10:17:29.397Z"
   },
   {
    "duration": 103,
    "start_time": "2025-01-21T10:17:39.842Z"
   },
   {
    "duration": 44,
    "start_time": "2025-01-21T10:18:26.303Z"
   },
   {
    "duration": 30,
    "start_time": "2025-01-21T10:18:37.493Z"
   },
   {
    "duration": 16,
    "start_time": "2025-01-21T10:20:18.838Z"
   },
   {
    "duration": 1999,
    "start_time": "2025-01-22T10:09:16.980Z"
   },
   {
    "duration": 1317,
    "start_time": "2025-01-22T10:09:18.981Z"
   },
   {
    "duration": 84,
    "start_time": "2025-01-22T10:09:20.300Z"
   },
   {
    "duration": 34,
    "start_time": "2025-01-22T10:09:22.637Z"
   },
   {
    "duration": 2252,
    "start_time": "2025-01-22T10:09:25.343Z"
   },
   {
    "duration": 942,
    "start_time": "2025-01-22T10:09:27.597Z"
   },
   {
    "duration": 6,
    "start_time": "2025-01-22T10:09:29.398Z"
   },
   {
    "duration": 13198,
    "start_time": "2025-01-22T10:09:31.074Z"
   },
   {
    "duration": 11,
    "start_time": "2025-01-22T10:09:47.495Z"
   },
   {
    "duration": 4,
    "start_time": "2025-01-22T10:11:23.424Z"
   },
   {
    "duration": 33,
    "start_time": "2025-01-22T10:11:26.928Z"
   },
   {
    "duration": 1164,
    "start_time": "2025-01-22T10:11:27.260Z"
   },
   {
    "duration": 4,
    "start_time": "2025-01-22T10:11:28.426Z"
   },
   {
    "duration": 5,
    "start_time": "2025-01-22T10:11:30.064Z"
   },
   {
    "duration": 137,
    "start_time": "2025-01-22T10:14:21.261Z"
   },
   {
    "duration": 3,
    "start_time": "2025-01-22T10:14:49.330Z"
   },
   {
    "duration": 73,
    "start_time": "2025-01-22T10:16:05.415Z"
   },
   {
    "duration": 38,
    "start_time": "2025-01-22T10:20:22.800Z"
   },
   {
    "duration": 28,
    "start_time": "2025-01-22T10:20:45.753Z"
   },
   {
    "duration": 28,
    "start_time": "2025-01-22T10:21:06.174Z"
   },
   {
    "duration": 4,
    "start_time": "2025-01-22T10:21:22.306Z"
   },
   {
    "duration": 1969,
    "start_time": "2025-01-22T10:36:52.220Z"
   },
   {
    "duration": 977,
    "start_time": "2025-01-22T10:36:54.191Z"
   },
   {
    "duration": 10,
    "start_time": "2025-01-22T10:36:55.170Z"
   },
   {
    "duration": 40,
    "start_time": "2025-01-22T10:36:55.181Z"
   },
   {
    "duration": 2348,
    "start_time": "2025-01-22T10:36:58.028Z"
   },
   {
    "duration": 966,
    "start_time": "2025-01-22T10:37:00.378Z"
   },
   {
    "duration": 6,
    "start_time": "2025-01-22T10:37:02.285Z"
   },
   {
    "duration": 13692,
    "start_time": "2025-01-22T10:37:04.482Z"
   },
   {
    "duration": 10,
    "start_time": "2025-01-22T10:37:18.176Z"
   },
   {
    "duration": 3,
    "start_time": "2025-01-22T10:37:19.799Z"
   },
   {
    "duration": 32,
    "start_time": "2025-01-22T10:37:20.361Z"
   },
   {
    "duration": 1085,
    "start_time": "2025-01-22T10:37:22.396Z"
   },
   {
    "duration": 4,
    "start_time": "2025-01-22T10:37:24.644Z"
   },
   {
    "duration": 4,
    "start_time": "2025-01-22T10:37:26.261Z"
   },
   {
    "duration": 136,
    "start_time": "2025-01-22T10:38:44.257Z"
   },
   {
    "duration": 3,
    "start_time": "2025-01-22T10:39:01.104Z"
   },
   {
    "duration": 32605,
    "start_time": "2025-01-22T10:39:01.554Z"
   },
   {
    "duration": 11,
    "start_time": "2025-01-22T10:41:50.109Z"
   },
   {
    "duration": 7,
    "start_time": "2025-01-22T10:41:59.871Z"
   },
   {
    "duration": 404587,
    "start_time": "2025-01-22T10:42:04.109Z"
   },
   {
    "duration": 5,
    "start_time": "2025-01-22T10:48:53.716Z"
   },
   {
    "duration": 965,
    "start_time": "2025-01-22T10:48:53.973Z"
   },
   {
    "duration": 8,
    "start_time": "2025-01-22T10:48:54.940Z"
   },
   {
    "duration": 33,
    "start_time": "2025-01-22T10:48:56.101Z"
   },
   {
    "duration": 33,
    "start_time": "2025-01-22T10:52:57.735Z"
   },
   {
    "duration": 9,
    "start_time": "2025-01-22T10:54:47.768Z"
   },
   {
    "duration": 10,
    "start_time": "2025-01-22T10:54:53.579Z"
   },
   {
    "duration": 10,
    "start_time": "2025-01-22T10:55:45.326Z"
   },
   {
    "duration": 10,
    "start_time": "2025-01-22T10:55:58.222Z"
   },
   {
    "duration": 4,
    "start_time": "2025-01-22T10:57:15.195Z"
   },
   {
    "duration": 15,
    "start_time": "2025-01-22T10:57:50.741Z"
   },
   {
    "duration": 918,
    "start_time": "2025-01-22T10:57:51.105Z"
   },
   {
    "duration": 8,
    "start_time": "2025-01-22T10:57:54.136Z"
   },
   {
    "duration": 32,
    "start_time": "2025-01-22T10:57:55.806Z"
   },
   {
    "duration": 34,
    "start_time": "2025-01-22T10:57:58.203Z"
   },
   {
    "duration": 4,
    "start_time": "2025-01-22T10:58:00.641Z"
   },
   {
    "duration": 11,
    "start_time": "2025-01-22T10:58:03.156Z"
   },
   {
    "duration": 1989,
    "start_time": "2025-01-22T10:58:15.544Z"
   },
   {
    "duration": 1349,
    "start_time": "2025-01-22T10:58:17.535Z"
   },
   {
    "duration": 11,
    "start_time": "2025-01-22T10:58:18.886Z"
   },
   {
    "duration": 34,
    "start_time": "2025-01-22T10:58:19.781Z"
   },
   {
    "duration": 30,
    "start_time": "2025-01-22T10:58:20.404Z"
   },
   {
    "duration": 11,
    "start_time": "2025-01-22T10:58:25.708Z"
   },
   {
    "duration": 278,
    "start_time": "2025-01-22T10:58:58.190Z"
   },
   {
    "duration": 209,
    "start_time": "2025-01-22T10:59:05.641Z"
   },
   {
    "duration": 2204,
    "start_time": "2025-01-22T11:09:34.664Z"
   },
   {
    "duration": 904,
    "start_time": "2025-01-22T11:09:37.888Z"
   },
   {
    "duration": 9,
    "start_time": "2025-01-22T11:09:39.401Z"
   },
   {
    "duration": 13057,
    "start_time": "2025-01-22T11:09:41.065Z"
   },
   {
    "duration": 10,
    "start_time": "2025-01-22T11:09:55.668Z"
   },
   {
    "duration": 3,
    "start_time": "2025-01-22T11:09:57.103Z"
   },
   {
    "duration": 32,
    "start_time": "2025-01-22T11:09:57.397Z"
   },
   {
    "duration": 1107,
    "start_time": "2025-01-22T11:10:00.535Z"
   },
   {
    "duration": 4,
    "start_time": "2025-01-22T11:10:01.644Z"
   },
   {
    "duration": 61,
    "start_time": "2025-01-22T11:10:01.649Z"
   },
   {
    "duration": 135,
    "start_time": "2025-01-22T11:19:37.356Z"
   },
   {
    "duration": 3,
    "start_time": "2025-01-22T11:20:34.063Z"
   },
   {
    "duration": 107,
    "start_time": "2025-01-22T11:24:21.960Z"
   },
   {
    "duration": 2223,
    "start_time": "2025-01-23T12:10:45.186Z"
   },
   {
    "duration": 3720,
    "start_time": "2025-01-23T12:10:47.412Z"
   },
   {
    "duration": 11,
    "start_time": "2025-01-23T12:10:51.133Z"
   },
   {
    "duration": 29,
    "start_time": "2025-01-23T12:10:51.146Z"
   },
   {
    "duration": 21,
    "start_time": "2025-01-23T12:10:51.739Z"
   },
   {
    "duration": 9,
    "start_time": "2025-01-23T12:10:52.070Z"
   },
   {
    "duration": 251,
    "start_time": "2025-01-23T12:10:52.316Z"
   },
   {
    "duration": 2151,
    "start_time": "2025-01-23T12:10:53.068Z"
   },
   {
    "duration": 801,
    "start_time": "2025-01-23T12:10:55.222Z"
   },
   {
    "duration": 7,
    "start_time": "2025-01-23T12:10:56.955Z"
   },
   {
    "duration": 13074,
    "start_time": "2025-01-23T12:10:57.346Z"
   },
   {
    "duration": 8,
    "start_time": "2025-01-23T12:11:10.421Z"
   },
   {
    "duration": 3,
    "start_time": "2025-01-23T12:11:12.956Z"
   },
   {
    "duration": 24,
    "start_time": "2025-01-23T12:11:13.455Z"
   },
   {
    "duration": 970,
    "start_time": "2025-01-23T12:11:13.716Z"
   },
   {
    "duration": 4,
    "start_time": "2025-01-23T12:11:14.689Z"
   },
   {
    "duration": 54,
    "start_time": "2025-01-23T12:11:14.694Z"
   },
   {
    "duration": 3,
    "start_time": "2025-01-23T12:11:15.804Z"
   },
   {
    "duration": 63187,
    "start_time": "2025-01-23T12:11:16.807Z"
   },
   {
    "duration": 10,
    "start_time": "2025-01-23T12:13:33.420Z"
   },
   {
    "duration": 6,
    "start_time": "2025-01-23T12:13:56.708Z"
   },
   {
    "duration": 38838,
    "start_time": "2025-01-23T12:14:00.883Z"
   },
   {
    "duration": 568619,
    "start_time": "2025-01-23T12:14:45.817Z"
   },
   {
    "duration": 11,
    "start_time": "2025-01-23T12:24:20.778Z"
   },
   {
    "duration": 6,
    "start_time": "2025-01-23T12:25:20.599Z"
   },
   {
    "duration": 11,
    "start_time": "2025-01-23T12:25:28.644Z"
   },
   {
    "duration": 4,
    "start_time": "2025-01-23T12:25:36.799Z"
   },
   {
    "duration": 3,
    "start_time": "2025-01-23T12:25:49.355Z"
   },
   {
    "duration": 16006,
    "start_time": "2025-01-23T12:26:01.488Z"
   },
   {
    "duration": 153,
    "start_time": "2025-01-23T12:26:57.129Z"
   },
   {
    "duration": 67760,
    "start_time": "2025-01-23T12:27:04.338Z"
   },
   {
    "duration": 86,
    "start_time": "2025-01-23T12:28:46.238Z"
   },
   {
    "duration": 5,
    "start_time": "2025-01-23T12:33:08.348Z"
   },
   {
    "duration": 1001,
    "start_time": "2025-01-23T12:33:08.635Z"
   },
   {
    "duration": 7,
    "start_time": "2025-01-23T12:33:09.638Z"
   },
   {
    "duration": 32,
    "start_time": "2025-01-23T12:33:09.646Z"
   },
   {
    "duration": 30,
    "start_time": "2025-01-23T12:33:09.680Z"
   },
   {
    "duration": 10,
    "start_time": "2025-01-23T12:33:09.806Z"
   },
   {
    "duration": 274,
    "start_time": "2025-01-23T12:33:09.981Z"
   },
   {
    "duration": 1927,
    "start_time": "2025-01-23T12:33:18.942Z"
   },
   {
    "duration": 3961,
    "start_time": "2025-01-23T12:33:20.871Z"
   },
   {
    "duration": 11,
    "start_time": "2025-01-23T12:33:24.833Z"
   },
   {
    "duration": 28,
    "start_time": "2025-01-23T12:33:24.845Z"
   },
   {
    "duration": 22,
    "start_time": "2025-01-23T12:33:24.875Z"
   },
   {
    "duration": 10,
    "start_time": "2025-01-23T12:33:25.097Z"
   },
   {
    "duration": 282,
    "start_time": "2025-01-23T12:33:25.782Z"
   },
   {
    "duration": 2266,
    "start_time": "2025-01-23T12:33:26.669Z"
   },
   {
    "duration": 884,
    "start_time": "2025-01-23T12:33:28.937Z"
   },
   {
    "duration": 5,
    "start_time": "2025-01-23T12:33:29.823Z"
   },
   {
    "duration": 13457,
    "start_time": "2025-01-23T12:33:30.969Z"
   },
   {
    "duration": 8,
    "start_time": "2025-01-23T12:33:47.420Z"
   },
   {
    "duration": 23,
    "start_time": "2025-01-23T12:34:02.903Z"
   },
   {
    "duration": 3,
    "start_time": "2025-01-23T12:34:33.106Z"
   },
   {
    "duration": 13118,
    "start_time": "2025-01-23T12:34:43.511Z"
   },
   {
    "duration": 28,
    "start_time": "2025-01-23T12:35:31.614Z"
   },
   {
    "duration": 12,
    "start_time": "2025-01-23T12:35:32.061Z"
   },
   {
    "duration": 1025,
    "start_time": "2025-01-23T12:36:00.576Z"
   },
   {
    "duration": 10887,
    "start_time": "2025-01-23T12:36:13.106Z"
   },
   {
    "duration": 17,
    "start_time": "2025-01-23T12:36:37.986Z"
   },
   {
    "duration": 854,
    "start_time": "2025-01-23T12:36:38.617Z"
   },
   {
    "duration": 14,
    "start_time": "2025-01-23T12:36:39.474Z"
   },
   {
    "duration": 29,
    "start_time": "2025-01-23T12:36:39.489Z"
   },
   {
    "duration": 20,
    "start_time": "2025-01-23T12:36:39.693Z"
   },
   {
    "duration": 11,
    "start_time": "2025-01-23T12:36:40.068Z"
   },
   {
    "duration": 230,
    "start_time": "2025-01-23T12:36:40.574Z"
   },
   {
    "duration": 48,
    "start_time": "2025-01-23T12:36:43.294Z"
   },
   {
    "duration": 1945,
    "start_time": "2025-01-23T12:36:46.581Z"
   },
   {
    "duration": 3782,
    "start_time": "2025-01-23T12:36:48.528Z"
   },
   {
    "duration": 11,
    "start_time": "2025-01-23T12:36:52.311Z"
   },
   {
    "duration": 28,
    "start_time": "2025-01-23T12:36:52.323Z"
   },
   {
    "duration": 24,
    "start_time": "2025-01-23T12:36:53.223Z"
   },
   {
    "duration": 10,
    "start_time": "2025-01-23T12:36:53.432Z"
   },
   {
    "duration": 274,
    "start_time": "2025-01-23T12:36:53.637Z"
   },
   {
    "duration": 2197,
    "start_time": "2025-01-23T12:36:54.273Z"
   },
   {
    "duration": 776,
    "start_time": "2025-01-23T12:36:56.472Z"
   },
   {
    "duration": 5,
    "start_time": "2025-01-23T12:36:57.251Z"
   },
   {
    "duration": 12913,
    "start_time": "2025-01-23T12:36:58.049Z"
   },
   {
    "duration": 9,
    "start_time": "2025-01-23T12:37:13.815Z"
   },
   {
    "duration": 23,
    "start_time": "2025-01-23T12:37:14.583Z"
   },
   {
    "duration": 997,
    "start_time": "2025-01-23T12:37:15.577Z"
   },
   {
    "duration": 11716,
    "start_time": "2025-01-23T12:37:16.576Z"
   },
   {
    "duration": 21,
    "start_time": "2025-01-23T12:37:50.835Z"
   },
   {
    "duration": 1017,
    "start_time": "2025-01-23T12:37:51.342Z"
   },
   {
    "duration": 10491,
    "start_time": "2025-01-23T12:37:52.796Z"
   },
   {
    "duration": 4,
    "start_time": "2025-01-23T12:38:47.430Z"
   },
   {
    "duration": 757554,
    "start_time": "2025-01-23T12:38:58.943Z"
   },
   {
    "duration": 6,
    "start_time": "2025-01-23T12:53:38.896Z"
   },
   {
    "duration": 23,
    "start_time": "2025-01-23T12:53:45.895Z"
   },
   {
    "duration": 4,
    "start_time": "2025-01-23T12:53:49.765Z"
   },
   {
    "duration": 1006,
    "start_time": "2025-01-23T12:53:57.038Z"
   },
   {
    "duration": 10914,
    "start_time": "2025-01-23T12:54:09.077Z"
   },
   {
    "duration": 1867,
    "start_time": "2025-01-23T12:55:12.861Z"
   },
   {
    "duration": 926,
    "start_time": "2025-01-23T12:55:15.081Z"
   },
   {
    "duration": 10,
    "start_time": "2025-01-23T12:55:16.009Z"
   },
   {
    "duration": 28,
    "start_time": "2025-01-23T12:55:17.003Z"
   },
   {
    "duration": 25,
    "start_time": "2025-01-23T12:55:17.286Z"
   },
   {
    "duration": 10,
    "start_time": "2025-01-23T12:55:17.460Z"
   },
   {
    "duration": 271,
    "start_time": "2025-01-23T12:55:17.646Z"
   },
   {
    "duration": 2225,
    "start_time": "2025-01-23T12:55:18.879Z"
   },
   {
    "duration": 799,
    "start_time": "2025-01-23T12:55:21.106Z"
   },
   {
    "duration": 6,
    "start_time": "2025-01-23T12:55:21.907Z"
   },
   {
    "duration": 13021,
    "start_time": "2025-01-23T12:55:21.916Z"
   },
   {
    "duration": 9,
    "start_time": "2025-01-23T12:55:34.940Z"
   },
   {
    "duration": 25,
    "start_time": "2025-01-23T12:55:38.667Z"
   },
   {
    "duration": 15,
    "start_time": "2025-01-23T12:57:23.638Z"
   },
   {
    "duration": 894,
    "start_time": "2025-01-23T12:57:24.251Z"
   },
   {
    "duration": 2112,
    "start_time": "2025-01-23T12:57:29.275Z"
   },
   {
    "duration": 900,
    "start_time": "2025-01-23T12:57:31.389Z"
   },
   {
    "duration": 11,
    "start_time": "2025-01-23T12:57:32.290Z"
   },
   {
    "duration": 37,
    "start_time": "2025-01-23T12:57:32.302Z"
   },
   {
    "duration": 24,
    "start_time": "2025-01-23T12:57:32.340Z"
   },
   {
    "duration": 21,
    "start_time": "2025-01-23T12:57:32.366Z"
   },
   {
    "duration": 262,
    "start_time": "2025-01-23T12:57:32.388Z"
   },
   {
    "duration": 2203,
    "start_time": "2025-01-23T12:57:32.651Z"
   },
   {
    "duration": 864,
    "start_time": "2025-01-23T12:57:34.856Z"
   },
   {
    "duration": 6,
    "start_time": "2025-01-23T12:57:35.722Z"
   },
   {
    "duration": 12770,
    "start_time": "2025-01-23T12:57:56.956Z"
   },
   {
    "duration": 7,
    "start_time": "2025-01-23T12:58:09.728Z"
   },
   {
    "duration": 1514,
    "start_time": "2025-01-23T12:59:00.316Z"
   },
   {
    "duration": 297,
    "start_time": "2025-01-23T12:59:12.080Z"
   },
   {
    "duration": 15,
    "start_time": "2025-01-23T12:59:32.269Z"
   },
   {
    "duration": 1023,
    "start_time": "2025-01-23T12:59:47.540Z"
   },
   {
    "duration": 4,
    "start_time": "2025-01-23T13:00:03.319Z"
   },
   {
    "duration": 4,
    "start_time": "2025-01-23T13:00:10.295Z"
   },
   {
    "duration": 15,
    "start_time": "2025-01-23T13:01:18.765Z"
   },
   {
    "duration": 11,
    "start_time": "2025-01-23T13:01:27.652Z"
   },
   {
    "duration": 10423,
    "start_time": "2025-01-23T13:01:59.464Z"
   },
   {
    "duration": 13,
    "start_time": "2025-01-23T13:02:28.491Z"
   },
   {
    "duration": 20,
    "start_time": "2025-01-23T13:02:39.618Z"
   },
   {
    "duration": 5,
    "start_time": "2025-01-23T13:02:45.865Z"
   },
   {
    "duration": 10,
    "start_time": "2025-01-23T13:02:59.524Z"
   },
   {
    "duration": 5,
    "start_time": "2025-01-23T13:03:25.412Z"
   },
   {
    "duration": 10,
    "start_time": "2025-01-23T13:03:37.374Z"
   },
   {
    "duration": 201,
    "start_time": "2025-01-23T13:04:08.495Z"
   },
   {
    "duration": 101,
    "start_time": "2025-01-23T13:05:40.374Z"
   },
   {
    "duration": 1260,
    "start_time": "2025-01-23T13:06:10.683Z"
   },
   {
    "duration": 3,
    "start_time": "2025-01-23T13:06:40.433Z"
   },
   {
    "duration": 16,
    "start_time": "2025-01-23T13:06:47.993Z"
   },
   {
    "duration": 13,
    "start_time": "2025-01-23T13:06:57.287Z"
   },
   {
    "duration": 161,
    "start_time": "2025-01-23T13:07:00.841Z"
   },
   {
    "duration": 10,
    "start_time": "2025-01-23T13:07:25.232Z"
   },
   {
    "duration": 6,
    "start_time": "2025-01-23T13:07:46.278Z"
   },
   {
    "duration": 12,
    "start_time": "2025-01-23T13:07:52.984Z"
   },
   {
    "duration": 15,
    "start_time": "2025-01-23T13:08:00.752Z"
   },
   {
    "duration": 6,
    "start_time": "2025-01-23T13:35:03.221Z"
   },
   {
    "duration": 933,
    "start_time": "2025-01-23T13:35:03.598Z"
   },
   {
    "duration": 7,
    "start_time": "2025-01-23T13:35:04.533Z"
   },
   {
    "duration": 45,
    "start_time": "2025-01-23T13:35:04.541Z"
   },
   {
    "duration": 23,
    "start_time": "2025-01-23T13:35:04.589Z"
   },
   {
    "duration": 10,
    "start_time": "2025-01-23T13:35:04.669Z"
   },
   {
    "duration": 248,
    "start_time": "2025-01-23T13:35:04.851Z"
   },
   {
    "duration": 1891,
    "start_time": "2025-01-23T13:35:11.349Z"
   },
   {
    "duration": 3793,
    "start_time": "2025-01-23T13:35:13.242Z"
   },
   {
    "duration": 11,
    "start_time": "2025-01-23T13:35:17.038Z"
   },
   {
    "duration": 133,
    "start_time": "2025-01-23T13:35:17.051Z"
   },
   {
    "duration": 25,
    "start_time": "2025-01-23T13:35:17.185Z"
   },
   {
    "duration": 21,
    "start_time": "2025-01-23T13:35:17.212Z"
   },
   {
    "duration": 272,
    "start_time": "2025-01-23T13:35:17.235Z"
   },
   {
    "duration": 2287,
    "start_time": "2025-01-23T13:35:17.509Z"
   },
   {
    "duration": 847,
    "start_time": "2025-01-23T13:35:19.798Z"
   },
   {
    "duration": 6,
    "start_time": "2025-01-23T13:35:20.647Z"
   },
   {
    "duration": 13711,
    "start_time": "2025-01-23T13:35:20.655Z"
   },
   {
    "duration": 26,
    "start_time": "2025-01-23T13:35:34.368Z"
   },
   {
    "duration": 300,
    "start_time": "2025-01-23T13:35:41.135Z"
   },
   {
    "duration": 1061,
    "start_time": "2025-01-23T13:35:58.374Z"
   },
   {
    "duration": 12,
    "start_time": "2025-01-23T13:36:07.892Z"
   },
   {
    "duration": 10454,
    "start_time": "2025-01-23T13:36:15.133Z"
   },
   {
    "duration": 6,
    "start_time": "2025-01-23T13:36:28.567Z"
   },
   {
    "duration": 11,
    "start_time": "2025-01-23T13:36:55.987Z"
   },
   {
    "duration": 16,
    "start_time": "2025-01-23T13:37:46.087Z"
   },
   {
    "duration": 41479,
    "start_time": "2025-01-23T13:41:17.122Z"
   },
   {
    "duration": 133,
    "start_time": "2025-01-23T13:42:19.144Z"
   },
   {
    "duration": 48864,
    "start_time": "2025-01-23T13:42:29.925Z"
   },
   {
    "duration": 15,
    "start_time": "2025-01-23T13:45:33.534Z"
   },
   {
    "duration": 2276,
    "start_time": "2025-01-23T13:45:33.954Z"
   },
   {
    "duration": 7,
    "start_time": "2025-01-23T13:45:36.232Z"
   },
   {
    "duration": 29,
    "start_time": "2025-01-23T13:45:36.955Z"
   },
   {
    "duration": 24,
    "start_time": "2025-01-23T13:45:37.184Z"
   },
   {
    "duration": 10,
    "start_time": "2025-01-23T13:45:37.353Z"
   },
   {
    "duration": 254,
    "start_time": "2025-01-23T13:45:37.544Z"
   },
   {
    "duration": 48,
    "start_time": "2025-01-23T13:45:41.185Z"
   },
   {
    "duration": 6,
    "start_time": "2025-01-23T13:45:48.419Z"
   },
   {
    "duration": 1860,
    "start_time": "2025-01-23T13:45:58.481Z"
   },
   {
    "duration": 3765,
    "start_time": "2025-01-23T13:46:00.342Z"
   },
   {
    "duration": 11,
    "start_time": "2025-01-23T13:46:04.108Z"
   },
   {
    "duration": 27,
    "start_time": "2025-01-23T13:46:04.121Z"
   },
   {
    "duration": 23,
    "start_time": "2025-01-23T13:46:04.941Z"
   },
   {
    "duration": 10,
    "start_time": "2025-01-23T13:46:05.241Z"
   },
   {
    "duration": 274,
    "start_time": "2025-01-23T13:46:05.495Z"
   },
   {
    "duration": 2249,
    "start_time": "2025-01-23T13:46:07.037Z"
   },
   {
    "duration": 824,
    "start_time": "2025-01-23T13:46:11.398Z"
   },
   {
    "duration": 6,
    "start_time": "2025-01-23T13:46:12.225Z"
   },
   {
    "duration": 13302,
    "start_time": "2025-01-23T13:46:13.117Z"
   },
   {
    "duration": 8,
    "start_time": "2025-01-23T13:46:27.444Z"
   },
   {
    "duration": 3,
    "start_time": "2025-01-23T13:46:48.426Z"
   },
   {
    "duration": 23,
    "start_time": "2025-01-23T13:46:57.784Z"
   },
   {
    "duration": 1003,
    "start_time": "2025-01-23T13:46:59.360Z"
   },
   {
    "duration": 4,
    "start_time": "2025-01-23T13:47:00.365Z"
   },
   {
    "duration": 10,
    "start_time": "2025-01-23T13:47:00.379Z"
   },
   {
    "duration": 10,
    "start_time": "2025-01-23T13:47:56.638Z"
   },
   {
    "duration": 3,
    "start_time": "2025-01-23T13:48:03.153Z"
   },
   {
    "duration": 3612,
    "start_time": "2025-01-23T13:48:03.845Z"
   },
   {
    "duration": 1892581,
    "start_time": "2025-01-23T13:48:22.866Z"
   },
   {
    "duration": 171799,
    "start_time": "2025-01-23T14:20:05.450Z"
   },
   {
    "duration": 3,
    "start_time": "2025-01-23T14:23:28.003Z"
   },
   {
    "duration": 11,
    "start_time": "2025-01-23T14:23:46.809Z"
   },
   {
    "duration": 5,
    "start_time": "2025-01-23T14:24:19.683Z"
   },
   {
    "duration": 650,
    "start_time": "2025-01-23T14:25:02.515Z"
   },
   {
    "duration": 88703,
    "start_time": "2025-01-23T14:25:20.199Z"
   },
   {
    "duration": 12,
    "start_time": "2025-01-23T14:27:08.951Z"
   },
   {
    "duration": 5,
    "start_time": "2025-01-23T14:28:55.268Z"
   },
   {
    "duration": 13531,
    "start_time": "2025-01-23T14:28:55.848Z"
   },
   {
    "duration": 13,
    "start_time": "2025-01-23T14:29:36.527Z"
   },
   {
    "duration": 5,
    "start_time": "2025-01-23T14:29:49.625Z"
   },
   {
    "duration": 313150,
    "start_time": "2025-01-23T14:29:50.229Z"
   },
   {
    "duration": 4,
    "start_time": "2025-01-23T14:38:16.790Z"
   },
   {
    "duration": 18304,
    "start_time": "2025-01-23T14:38:17.239Z"
   },
   {
    "duration": 3,
    "start_time": "2025-01-23T14:38:49.502Z"
   },
   {
    "duration": 5,
    "start_time": "2025-01-23T14:39:01.749Z"
   },
   {
    "duration": 298,
    "start_time": "2025-01-23T14:39:02.803Z"
   },
   {
    "duration": 33,
    "start_time": "2025-01-23T14:39:56.685Z"
   },
   {
    "duration": 10,
    "start_time": "2025-01-23T14:40:10.248Z"
   },
   {
    "duration": 21,
    "start_time": "2025-01-23T14:40:18.550Z"
   },
   {
    "duration": 281,
    "start_time": "2025-01-23T14:40:19.860Z"
   },
   {
    "duration": 3,
    "start_time": "2025-01-23T14:40:45.507Z"
   },
   {
    "duration": 4,
    "start_time": "2025-01-23T14:40:55.705Z"
   },
   {
    "duration": 935451,
    "start_time": "2025-01-23T14:40:56.209Z"
   },
   {
    "duration": 9,
    "start_time": "2025-01-23T14:58:26.824Z"
   },
   {
    "duration": 1967,
    "start_time": "2025-01-23T15:01:13.348Z"
   },
   {
    "duration": 3814,
    "start_time": "2025-01-23T15:01:15.317Z"
   },
   {
    "duration": 11,
    "start_time": "2025-01-23T15:01:19.133Z"
   },
   {
    "duration": 56,
    "start_time": "2025-01-23T15:01:19.145Z"
   },
   {
    "duration": 23,
    "start_time": "2025-01-23T15:01:19.203Z"
   },
   {
    "duration": 19,
    "start_time": "2025-01-23T15:01:19.227Z"
   },
   {
    "duration": 305,
    "start_time": "2025-01-23T15:01:19.248Z"
   },
   {
    "duration": 2302,
    "start_time": "2025-01-23T15:01:19.555Z"
   },
   {
    "duration": 836,
    "start_time": "2025-01-23T15:01:21.858Z"
   },
   {
    "duration": 7,
    "start_time": "2025-01-23T15:01:22.697Z"
   },
   {
    "duration": 14706,
    "start_time": "2025-01-23T15:01:22.706Z"
   },
   {
    "duration": 9,
    "start_time": "2025-01-23T15:01:37.413Z"
   },
   {
    "duration": 9,
    "start_time": "2025-01-23T15:01:44.978Z"
   },
   {
    "duration": 275,
    "start_time": "2025-01-23T15:01:50.183Z"
   },
   {
    "duration": 342,
    "start_time": "2025-01-23T15:01:56.687Z"
   },
   {
    "duration": 13,
    "start_time": "2025-01-23T15:02:42.996Z"
   },
   {
    "duration": 20092,
    "start_time": "2025-01-23T15:04:16.703Z"
   },
   {
    "duration": 1741,
    "start_time": "2025-01-23T15:04:36.798Z"
   },
   {
    "duration": 2523,
    "start_time": "2025-01-23T15:04:38.542Z"
   },
   {
    "duration": 11,
    "start_time": "2025-01-23T15:04:49.862Z"
   },
   {
    "duration": 30,
    "start_time": "2025-01-23T15:04:50.073Z"
   },
   {
    "duration": 25,
    "start_time": "2025-01-23T15:04:50.247Z"
   },
   {
    "duration": 10,
    "start_time": "2025-01-23T15:04:50.392Z"
   },
   {
    "duration": 264,
    "start_time": "2025-01-23T15:04:50.580Z"
   },
   {
    "duration": 2311,
    "start_time": "2025-01-23T15:04:51.122Z"
   },
   {
    "duration": 873,
    "start_time": "2025-01-23T15:04:53.435Z"
   },
   {
    "duration": 6,
    "start_time": "2025-01-23T15:04:54.310Z"
   },
   {
    "duration": 13190,
    "start_time": "2025-01-23T15:04:54.318Z"
   },
   {
    "duration": 8,
    "start_time": "2025-01-23T15:05:07.510Z"
   },
   {
    "duration": 10,
    "start_time": "2025-01-23T15:05:46.861Z"
   },
   {
    "duration": 364,
    "start_time": "2025-01-23T15:06:41.443Z"
   },
   {
    "duration": 179,
    "start_time": "2025-01-23T15:06:56.183Z"
   },
   {
    "duration": 31,
    "start_time": "2025-01-23T15:07:15.056Z"
   },
   {
    "duration": 19,
    "start_time": "2025-01-23T15:07:28.457Z"
   },
   {
    "duration": 3157,
    "start_time": "2025-01-23T15:07:29.256Z"
   },
   {
    "duration": 6,
    "start_time": "2025-01-23T15:07:32.415Z"
   },
   {
    "duration": 58,
    "start_time": "2025-01-23T15:07:32.423Z"
   },
   {
    "duration": 20,
    "start_time": "2025-01-23T15:07:32.483Z"
   },
   {
    "duration": 10,
    "start_time": "2025-01-23T15:07:32.969Z"
   },
   {
    "duration": 246,
    "start_time": "2025-01-23T15:07:33.401Z"
   },
   {
    "duration": 49,
    "start_time": "2025-01-23T15:07:37.655Z"
   },
   {
    "duration": 0,
    "start_time": "2025-01-23T15:07:37.706Z"
   },
   {
    "duration": 2778,
    "start_time": "2025-01-23T15:07:44.545Z"
   },
   {
    "duration": 2982,
    "start_time": "2025-01-23T15:07:47.325Z"
   },
   {
    "duration": 3762,
    "start_time": "2025-01-23T15:07:50.308Z"
   },
   {
    "duration": 11,
    "start_time": "2025-01-23T15:07:54.072Z"
   },
   {
    "duration": 30,
    "start_time": "2025-01-23T15:07:54.084Z"
   },
   {
    "duration": 22,
    "start_time": "2025-01-23T15:07:54.116Z"
   },
   {
    "duration": 14,
    "start_time": "2025-01-23T15:07:54.139Z"
   },
   {
    "duration": 281,
    "start_time": "2025-01-23T15:07:54.154Z"
   },
   {
    "duration": 2227,
    "start_time": "2025-01-23T15:07:54.437Z"
   },
   {
    "duration": 820,
    "start_time": "2025-01-23T15:07:56.666Z"
   },
   {
    "duration": 6,
    "start_time": "2025-01-23T15:07:57.488Z"
   },
   {
    "duration": 13103,
    "start_time": "2025-01-23T15:07:57.495Z"
   },
   {
    "duration": 7,
    "start_time": "2025-01-23T15:08:10.600Z"
   },
   {
    "duration": 9,
    "start_time": "2025-01-23T15:08:59.546Z"
   },
   {
    "duration": 356,
    "start_time": "2025-01-23T15:09:01.588Z"
   },
   {
    "duration": 2815,
    "start_time": "2025-01-23T15:09:35.307Z"
   },
   {
    "duration": 2987,
    "start_time": "2025-01-23T15:09:38.125Z"
   },
   {
    "duration": 3773,
    "start_time": "2025-01-23T15:09:41.114Z"
   },
   {
    "duration": 11,
    "start_time": "2025-01-23T15:09:44.889Z"
   },
   {
    "duration": 34,
    "start_time": "2025-01-23T15:09:44.901Z"
   },
   {
    "duration": 23,
    "start_time": "2025-01-23T15:09:44.936Z"
   },
   {
    "duration": 9,
    "start_time": "2025-01-23T15:09:44.960Z"
   },
   {
    "duration": 296,
    "start_time": "2025-01-23T15:09:44.970Z"
   },
   {
    "duration": 2338,
    "start_time": "2025-01-23T15:09:45.268Z"
   },
   {
    "duration": 842,
    "start_time": "2025-01-23T15:09:47.609Z"
   },
   {
    "duration": 6,
    "start_time": "2025-01-23T15:09:48.453Z"
   },
   {
    "duration": 14329,
    "start_time": "2025-01-23T15:09:48.460Z"
   },
   {
    "duration": 8,
    "start_time": "2025-01-23T15:10:02.791Z"
   },
   {
    "duration": 10,
    "start_time": "2025-01-23T15:10:07.870Z"
   },
   {
    "duration": 363,
    "start_time": "2025-01-23T15:10:09.895Z"
   },
   {
    "duration": 162,
    "start_time": "2025-01-23T15:10:10.840Z"
   },
   {
    "duration": 5,
    "start_time": "2025-01-23T15:12:04.787Z"
   },
   {
    "duration": 60,
    "start_time": "2025-01-23T15:12:47.562Z"
   },
   {
    "duration": 14,
    "start_time": "2025-01-23T15:12:48.067Z"
   },
   {
    "duration": 20,
    "start_time": "2025-01-23T15:15:27.403Z"
   },
   {
    "duration": 3340,
    "start_time": "2025-01-23T15:15:28.300Z"
   },
   {
    "duration": 7,
    "start_time": "2025-01-23T15:15:31.642Z"
   },
   {
    "duration": 27,
    "start_time": "2025-01-23T15:15:31.651Z"
   },
   {
    "duration": 45,
    "start_time": "2025-01-23T15:15:31.680Z"
   },
   {
    "duration": 14,
    "start_time": "2025-01-23T15:15:31.727Z"
   },
   {
    "duration": 275,
    "start_time": "2025-01-23T15:15:31.743Z"
   },
   {
    "duration": 2826,
    "start_time": "2025-01-23T15:15:43.357Z"
   },
   {
    "duration": 2945,
    "start_time": "2025-01-23T15:15:46.185Z"
   },
   {
    "duration": 3844,
    "start_time": "2025-01-23T15:15:49.132Z"
   },
   {
    "duration": 11,
    "start_time": "2025-01-23T15:15:52.977Z"
   },
   {
    "duration": 47,
    "start_time": "2025-01-23T15:15:52.990Z"
   },
   {
    "duration": 23,
    "start_time": "2025-01-23T15:15:53.039Z"
   },
   {
    "duration": 10,
    "start_time": "2025-01-23T15:15:53.063Z"
   },
   {
    "duration": 277,
    "start_time": "2025-01-23T15:15:53.074Z"
   },
   {
    "duration": 2317,
    "start_time": "2025-01-23T15:15:53.353Z"
   },
   {
    "duration": 864,
    "start_time": "2025-01-23T15:15:55.671Z"
   },
   {
    "duration": 6,
    "start_time": "2025-01-23T15:15:56.537Z"
   },
   {
    "duration": 14672,
    "start_time": "2025-01-23T15:15:56.545Z"
   },
   {
    "duration": 9,
    "start_time": "2025-01-23T15:16:11.219Z"
   },
   {
    "duration": 13,
    "start_time": "2025-01-23T15:16:45.581Z"
   },
   {
    "duration": 59,
    "start_time": "2025-01-23T15:17:24.634Z"
   },
   {
    "duration": 993,
    "start_time": "2025-01-23T15:17:30.438Z"
   },
   {
    "duration": 3,
    "start_time": "2025-01-23T15:17:33.932Z"
   },
   {
    "duration": 4,
    "start_time": "2025-01-23T15:17:34.484Z"
   },
   {
    "duration": 165,
    "start_time": "2025-01-23T15:18:02.888Z"
   },
   {
    "duration": 117,
    "start_time": "2025-01-23T15:19:01.747Z"
   },
   {
    "duration": 111,
    "start_time": "2025-01-23T15:19:05.607Z"
   },
   {
    "duration": 98,
    "start_time": "2025-01-23T15:19:12.154Z"
   },
   {
    "duration": 46,
    "start_time": "2025-01-23T15:19:23.356Z"
   },
   {
    "duration": 28,
    "start_time": "2025-01-23T15:22:37.189Z"
   },
   {
    "duration": 57,
    "start_time": "2025-01-23T15:22:48.060Z"
   },
   {
    "duration": 1019,
    "start_time": "2025-01-23T15:22:48.859Z"
   },
   {
    "duration": 5,
    "start_time": "2025-01-23T15:22:51.641Z"
   },
   {
    "duration": 4,
    "start_time": "2025-01-23T15:22:52.068Z"
   },
   {
    "duration": 52,
    "start_time": "2025-01-23T15:23:58.868Z"
   },
   {
    "duration": 17,
    "start_time": "2025-01-23T15:25:26.728Z"
   },
   {
    "duration": 6284,
    "start_time": "2025-01-23T15:25:30.203Z"
   },
   {
    "duration": 2864,
    "start_time": "2025-01-23T15:26:05.036Z"
   },
   {
    "duration": 6,
    "start_time": "2025-01-23T15:26:07.903Z"
   },
   {
    "duration": 922,
    "start_time": "2025-01-23T15:26:07.911Z"
   },
   {
    "duration": 8,
    "start_time": "2025-01-23T15:26:08.835Z"
   },
   {
    "duration": 41,
    "start_time": "2025-01-23T15:26:08.844Z"
   },
   {
    "duration": 21,
    "start_time": "2025-01-23T15:26:08.886Z"
   },
   {
    "duration": 10,
    "start_time": "2025-01-23T15:26:08.909Z"
   },
   {
    "duration": 254,
    "start_time": "2025-01-23T15:26:08.920Z"
   },
   {
    "duration": 2738,
    "start_time": "2025-01-23T15:26:15.013Z"
   },
   {
    "duration": 2684,
    "start_time": "2025-01-23T15:26:18.619Z"
   },
   {
    "duration": 3773,
    "start_time": "2025-01-23T15:26:21.305Z"
   },
   {
    "duration": 11,
    "start_time": "2025-01-23T15:26:25.079Z"
   },
   {
    "duration": 31,
    "start_time": "2025-01-23T15:26:25.956Z"
   },
   {
    "duration": 24,
    "start_time": "2025-01-23T15:26:26.173Z"
   },
   {
    "duration": 9,
    "start_time": "2025-01-23T15:26:26.395Z"
   },
   {
    "duration": 266,
    "start_time": "2025-01-23T15:26:26.611Z"
   },
   {
    "duration": 2341,
    "start_time": "2025-01-23T15:26:27.205Z"
   },
   {
    "duration": 825,
    "start_time": "2025-01-23T15:26:29.548Z"
   },
   {
    "duration": 13,
    "start_time": "2025-01-23T15:26:30.375Z"
   },
   {
    "duration": 13145,
    "start_time": "2025-01-23T15:26:30.390Z"
   },
   {
    "duration": 9,
    "start_time": "2025-01-23T15:26:43.536Z"
   },
   {
    "duration": 11,
    "start_time": "2025-01-23T15:26:47.490Z"
   },
   {
    "duration": 60,
    "start_time": "2025-01-23T15:26:49.230Z"
   },
   {
    "duration": 961,
    "start_time": "2025-01-23T15:26:49.657Z"
   },
   {
    "duration": 60,
    "start_time": "2025-01-23T15:26:53.288Z"
   },
   {
    "duration": 19,
    "start_time": "2025-01-23T15:26:58.041Z"
   },
   {
    "duration": 5938,
    "start_time": "2025-01-23T15:27:23.364Z"
   },
   {
    "duration": 144,
    "start_time": "2025-01-23T15:27:31.226Z"
   },
   {
    "duration": 7,
    "start_time": "2025-01-23T15:27:34.946Z"
   },
   {
    "duration": 234,
    "start_time": "2025-01-23T15:27:35.462Z"
   },
   {
    "duration": 3,
    "start_time": "2025-01-23T15:28:44.984Z"
   },
   {
    "duration": 4,
    "start_time": "2025-01-23T15:28:53.801Z"
   },
   {
    "duration": 866211,
    "start_time": "2025-01-23T15:29:04.683Z"
   },
   {
    "duration": 4,
    "start_time": "2025-01-23T15:44:06.445Z"
   },
   {
    "duration": 66,
    "start_time": "2025-01-23T15:44:09.652Z"
   },
   {
    "duration": 5796,
    "start_time": "2025-01-23T15:44:13.495Z"
   },
   {
    "duration": 7,
    "start_time": "2025-01-23T15:44:30.718Z"
   },
   {
    "duration": 219,
    "start_time": "2025-01-23T15:44:31.668Z"
   },
   {
    "duration": 3,
    "start_time": "2025-01-23T15:44:33.271Z"
   },
   {
    "duration": 5,
    "start_time": "2025-01-23T15:44:34.209Z"
   },
   {
    "duration": 2080882,
    "start_time": "2025-01-23T15:44:34.805Z"
   },
   {
    "duration": 371677,
    "start_time": "2025-01-23T16:19:22.783Z"
   },
   {
    "duration": 317805,
    "start_time": "2025-01-23T16:25:43.333Z"
   },
   {
    "duration": 69,
    "start_time": "2025-01-23T16:31:05.189Z"
   },
   {
    "duration": 1176,
    "start_time": "2025-01-23T16:31:05.537Z"
   },
   {
    "duration": 4,
    "start_time": "2025-01-23T16:31:06.715Z"
   },
   {
    "duration": 4,
    "start_time": "2025-01-23T16:31:07.128Z"
   },
   {
    "duration": 38,
    "start_time": "2025-01-23T16:31:07.425Z"
   },
   {
    "duration": 67,
    "start_time": "2025-01-23T16:31:09.064Z"
   },
   {
    "duration": 5495,
    "start_time": "2025-01-23T16:31:09.414Z"
   },
   {
    "duration": 63,
    "start_time": "2025-01-23T16:32:16.285Z"
   },
   {
    "duration": 6296,
    "start_time": "2025-01-23T16:32:16.593Z"
   },
   {
    "duration": 11,
    "start_time": "2025-01-23T16:32:55.513Z"
   },
   {
    "duration": 144,
    "start_time": "2025-01-23T16:33:09.253Z"
   },
   {
    "duration": 142,
    "start_time": "2025-01-23T16:33:35.211Z"
   },
   {
    "duration": 8,
    "start_time": "2025-01-23T16:37:21.003Z"
   },
   {
    "duration": 884,
    "start_time": "2025-01-23T16:37:21.225Z"
   },
   {
    "duration": 7,
    "start_time": "2025-01-23T16:37:22.110Z"
   },
   {
    "duration": 46,
    "start_time": "2025-01-23T16:37:22.119Z"
   },
   {
    "duration": 42,
    "start_time": "2025-01-23T16:37:22.167Z"
   },
   {
    "duration": 26,
    "start_time": "2025-01-23T16:37:22.211Z"
   },
   {
    "duration": 239,
    "start_time": "2025-01-23T16:37:22.239Z"
   },
   {
    "duration": 49,
    "start_time": "2025-01-23T16:37:25.994Z"
   },
   {
    "duration": 2736,
    "start_time": "2025-01-23T16:37:32.372Z"
   },
   {
    "duration": 2503,
    "start_time": "2025-01-23T16:37:35.111Z"
   },
   {
    "duration": 3877,
    "start_time": "2025-01-23T16:37:37.615Z"
   },
   {
    "duration": 11,
    "start_time": "2025-01-23T16:37:41.494Z"
   },
   {
    "duration": 30,
    "start_time": "2025-01-23T16:37:41.506Z"
   },
   {
    "duration": 24,
    "start_time": "2025-01-23T16:37:41.537Z"
   },
   {
    "duration": 26,
    "start_time": "2025-01-23T16:37:41.562Z"
   },
   {
    "duration": 270,
    "start_time": "2025-01-23T16:37:41.590Z"
   },
   {
    "duration": 2348,
    "start_time": "2025-01-23T16:37:41.862Z"
   },
   {
    "duration": 849,
    "start_time": "2025-01-23T16:37:44.212Z"
   },
   {
    "duration": 6,
    "start_time": "2025-01-23T16:37:45.063Z"
   },
   {
    "duration": 13751,
    "start_time": "2025-01-23T16:37:45.070Z"
   },
   {
    "duration": 8,
    "start_time": "2025-01-23T16:37:58.824Z"
   },
   {
    "duration": 9,
    "start_time": "2025-01-23T16:39:29.177Z"
   },
   {
    "duration": 58,
    "start_time": "2025-01-23T16:39:30.053Z"
   },
   {
    "duration": 989,
    "start_time": "2025-01-23T16:39:32.061Z"
   },
   {
    "duration": 3,
    "start_time": "2025-01-23T16:39:33.052Z"
   },
   {
    "duration": 38,
    "start_time": "2025-01-23T16:39:33.057Z"
   },
   {
    "duration": 2728,
    "start_time": "2025-01-23T16:41:34.305Z"
   },
   {
    "duration": 2405,
    "start_time": "2025-01-23T16:41:37.036Z"
   },
   {
    "duration": 3755,
    "start_time": "2025-01-23T16:41:39.443Z"
   },
   {
    "duration": 10,
    "start_time": "2025-01-23T16:41:43.200Z"
   },
   {
    "duration": 29,
    "start_time": "2025-01-23T16:41:43.211Z"
   },
   {
    "duration": 20,
    "start_time": "2025-01-23T16:41:43.242Z"
   },
   {
    "duration": 10,
    "start_time": "2025-01-23T16:41:43.263Z"
   },
   {
    "duration": 272,
    "start_time": "2025-01-23T16:41:43.274Z"
   },
   {
    "duration": 2298,
    "start_time": "2025-01-23T16:41:43.548Z"
   },
   {
    "duration": 809,
    "start_time": "2025-01-23T16:41:45.849Z"
   },
   {
    "duration": 6,
    "start_time": "2025-01-23T16:41:46.660Z"
   },
   {
    "duration": 13689,
    "start_time": "2025-01-23T16:41:46.668Z"
   },
   {
    "duration": 8,
    "start_time": "2025-01-23T16:42:00.358Z"
   },
   {
    "duration": 57,
    "start_time": "2025-01-23T16:42:14.512Z"
   },
   {
    "duration": 958,
    "start_time": "2025-01-23T16:42:16.515Z"
   },
   {
    "duration": 2757,
    "start_time": "2025-01-23T16:42:39.894Z"
   },
   {
    "duration": 3047,
    "start_time": "2025-01-23T16:42:42.654Z"
   },
   {
    "duration": 3808,
    "start_time": "2025-01-23T16:42:45.704Z"
   },
   {
    "duration": 11,
    "start_time": "2025-01-23T16:42:49.514Z"
   },
   {
    "duration": 40,
    "start_time": "2025-01-23T16:42:49.527Z"
   },
   {
    "duration": 40,
    "start_time": "2025-01-23T16:42:49.568Z"
   },
   {
    "duration": 18,
    "start_time": "2025-01-23T16:42:49.609Z"
   },
   {
    "duration": 280,
    "start_time": "2025-01-23T16:42:49.629Z"
   },
   {
    "duration": 2322,
    "start_time": "2025-01-23T16:42:49.912Z"
   },
   {
    "duration": 866,
    "start_time": "2025-01-23T16:42:52.237Z"
   },
   {
    "duration": 6,
    "start_time": "2025-01-23T16:42:53.105Z"
   },
   {
    "duration": 16023,
    "start_time": "2025-01-23T16:42:53.112Z"
   },
   {
    "duration": 9,
    "start_time": "2025-01-23T16:43:09.137Z"
   },
   {
    "duration": 87,
    "start_time": "2025-01-23T16:43:17.172Z"
   },
   {
    "duration": 962,
    "start_time": "2025-01-23T16:43:17.454Z"
   },
   {
    "duration": 4,
    "start_time": "2025-01-23T16:43:18.901Z"
   },
   {
    "duration": 4,
    "start_time": "2025-01-23T16:43:19.166Z"
   },
   {
    "duration": 61,
    "start_time": "2025-01-23T16:44:06.070Z"
   },
   {
    "duration": 2839,
    "start_time": "2025-01-23T16:44:14.952Z"
   },
   {
    "duration": 2427,
    "start_time": "2025-01-23T16:44:17.793Z"
   },
   {
    "duration": 3772,
    "start_time": "2025-01-23T16:44:20.222Z"
   },
   {
    "duration": 10,
    "start_time": "2025-01-23T16:44:23.996Z"
   },
   {
    "duration": 29,
    "start_time": "2025-01-23T16:44:24.008Z"
   },
   {
    "duration": 24,
    "start_time": "2025-01-23T16:44:24.038Z"
   },
   {
    "duration": 22,
    "start_time": "2025-01-23T16:44:24.065Z"
   },
   {
    "duration": 271,
    "start_time": "2025-01-23T16:44:24.088Z"
   },
   {
    "duration": 2322,
    "start_time": "2025-01-23T16:44:24.361Z"
   },
   {
    "duration": 833,
    "start_time": "2025-01-23T16:44:26.687Z"
   },
   {
    "duration": 6,
    "start_time": "2025-01-23T16:44:27.522Z"
   },
   {
    "duration": 13828,
    "start_time": "2025-01-23T16:44:27.530Z"
   },
   {
    "duration": 8,
    "start_time": "2025-01-23T16:44:41.359Z"
   },
   {
    "duration": 29,
    "start_time": "2025-01-23T16:45:35.615Z"
   },
   {
    "duration": 10,
    "start_time": "2025-01-23T16:45:41.527Z"
   },
   {
    "duration": 58,
    "start_time": "2025-01-23T16:45:42.919Z"
   },
   {
    "duration": 968,
    "start_time": "2025-01-23T16:45:43.533Z"
   },
   {
    "duration": 2804,
    "start_time": "2025-01-23T16:46:48.008Z"
   },
   {
    "duration": 2648,
    "start_time": "2025-01-23T16:46:50.815Z"
   },
   {
    "duration": 3802,
    "start_time": "2025-01-23T16:46:53.465Z"
   },
   {
    "duration": 11,
    "start_time": "2025-01-23T16:46:57.269Z"
   },
   {
    "duration": 33,
    "start_time": "2025-01-23T16:46:57.282Z"
   },
   {
    "duration": 25,
    "start_time": "2025-01-23T16:46:57.317Z"
   },
   {
    "duration": 9,
    "start_time": "2025-01-23T16:46:57.344Z"
   },
   {
    "duration": 293,
    "start_time": "2025-01-23T16:46:57.355Z"
   },
   {
    "duration": 2358,
    "start_time": "2025-01-23T16:46:57.650Z"
   },
   {
    "duration": 864,
    "start_time": "2025-01-23T16:47:00.010Z"
   },
   {
    "duration": 14,
    "start_time": "2025-01-23T16:47:00.876Z"
   },
   {
    "duration": 13923,
    "start_time": "2025-01-23T16:47:00.892Z"
   },
   {
    "duration": 8,
    "start_time": "2025-01-23T16:47:14.817Z"
   },
   {
    "duration": 9,
    "start_time": "2025-01-23T16:47:20.479Z"
   },
   {
    "duration": 59,
    "start_time": "2025-01-23T16:47:21.353Z"
   },
   {
    "duration": 982,
    "start_time": "2025-01-23T16:47:21.529Z"
   },
   {
    "duration": 2832,
    "start_time": "2025-01-23T16:47:33.998Z"
   },
   {
    "duration": 3110,
    "start_time": "2025-01-23T16:47:36.833Z"
   },
   {
    "duration": 3969,
    "start_time": "2025-01-23T16:47:39.945Z"
   },
   {
    "duration": 11,
    "start_time": "2025-01-23T16:47:43.916Z"
   },
   {
    "duration": 48,
    "start_time": "2025-01-23T16:47:43.929Z"
   },
   {
    "duration": 32,
    "start_time": "2025-01-23T16:47:43.978Z"
   },
   {
    "duration": 9,
    "start_time": "2025-01-23T16:47:44.012Z"
   },
   {
    "duration": 312,
    "start_time": "2025-01-23T16:47:44.023Z"
   },
   {
    "duration": 2564,
    "start_time": "2025-01-23T16:47:44.337Z"
   },
   {
    "duration": 908,
    "start_time": "2025-01-23T16:47:46.905Z"
   },
   {
    "duration": 6,
    "start_time": "2025-01-23T16:47:47.814Z"
   },
   {
    "duration": 13668,
    "start_time": "2025-01-23T16:47:47.822Z"
   },
   {
    "duration": 18,
    "start_time": "2025-01-23T16:48:01.492Z"
   },
   {
    "duration": 8,
    "start_time": "2025-01-23T16:48:09.030Z"
   },
   {
    "duration": 57,
    "start_time": "2025-01-23T16:48:25.407Z"
   },
   {
    "duration": 1025,
    "start_time": "2025-01-23T16:48:26.756Z"
   },
   {
    "duration": 1020,
    "start_time": "2025-01-23T16:48:32.048Z"
   },
   {
    "duration": 3,
    "start_time": "2025-01-23T16:48:33.070Z"
   },
   {
    "duration": 3,
    "start_time": "2025-01-23T16:48:35.038Z"
   },
   {
    "duration": 2784,
    "start_time": "2025-01-23T16:48:49.820Z"
   },
   {
    "duration": 2467,
    "start_time": "2025-01-23T16:48:52.606Z"
   },
   {
    "duration": 3943,
    "start_time": "2025-01-23T16:48:55.074Z"
   },
   {
    "duration": 10,
    "start_time": "2025-01-23T16:48:59.019Z"
   },
   {
    "duration": 28,
    "start_time": "2025-01-23T16:48:59.030Z"
   },
   {
    "duration": 38,
    "start_time": "2025-01-23T16:48:59.059Z"
   },
   {
    "duration": 10,
    "start_time": "2025-01-23T16:48:59.099Z"
   },
   {
    "duration": 285,
    "start_time": "2025-01-23T16:48:59.110Z"
   },
   {
    "duration": 2422,
    "start_time": "2025-01-23T16:48:59.399Z"
   },
   {
    "duration": 910,
    "start_time": "2025-01-23T16:49:01.824Z"
   },
   {
    "duration": 6,
    "start_time": "2025-01-23T16:49:02.736Z"
   },
   {
    "duration": 14006,
    "start_time": "2025-01-23T16:49:02.743Z"
   },
   {
    "duration": 7,
    "start_time": "2025-01-23T16:49:16.751Z"
   },
   {
    "duration": 33,
    "start_time": "2025-01-23T16:49:16.760Z"
   },
   {
    "duration": 59,
    "start_time": "2025-01-23T16:49:16.800Z"
   },
   {
    "duration": 1067,
    "start_time": "2025-01-23T16:49:16.860Z"
   },
   {
    "duration": 59,
    "start_time": "2025-01-23T16:49:27.277Z"
   },
   {
    "duration": 66,
    "start_time": "2025-01-23T16:49:43.057Z"
   },
   {
    "duration": 7221,
    "start_time": "2025-01-23T16:49:44.085Z"
   },
   {
    "duration": 152,
    "start_time": "2025-01-23T16:50:03.709Z"
   },
   {
    "duration": 11,
    "start_time": "2025-01-23T16:50:09.453Z"
   },
   {
    "duration": 144,
    "start_time": "2025-01-23T16:50:11.093Z"
   },
   {
    "duration": 3,
    "start_time": "2025-01-23T16:50:29.641Z"
   },
   {
    "duration": 6,
    "start_time": "2025-01-23T16:50:30.099Z"
   },
   {
    "duration": 39109,
    "start_time": "2025-01-23T16:50:30.623Z"
   },
   {
    "duration": 2,
    "start_time": "2025-01-23T16:51:23.746Z"
   },
   {
    "duration": 4,
    "start_time": "2025-01-23T16:51:24.145Z"
   },
   {
    "duration": 303024,
    "start_time": "2025-01-23T16:51:25.475Z"
   },
   {
    "duration": 7,
    "start_time": "2025-01-23T16:57:35.109Z"
   },
   {
    "duration": 953,
    "start_time": "2025-01-23T16:57:35.499Z"
   },
   {
    "duration": 6,
    "start_time": "2025-01-23T16:57:36.454Z"
   },
   {
    "duration": 92,
    "start_time": "2025-01-23T16:57:36.462Z"
   },
   {
    "duration": 23,
    "start_time": "2025-01-23T16:57:36.844Z"
   },
   {
    "duration": 10,
    "start_time": "2025-01-23T16:57:37.362Z"
   },
   {
    "duration": 243,
    "start_time": "2025-01-23T16:57:37.399Z"
   },
   {
    "duration": 2785,
    "start_time": "2025-01-23T16:57:44.057Z"
   },
   {
    "duration": 2605,
    "start_time": "2025-01-23T16:57:46.844Z"
   },
   {
    "duration": 3982,
    "start_time": "2025-01-23T16:57:49.452Z"
   },
   {
    "duration": 10,
    "start_time": "2025-01-23T16:57:53.436Z"
   },
   {
    "duration": 62,
    "start_time": "2025-01-23T16:57:53.447Z"
   },
   {
    "duration": 52,
    "start_time": "2025-01-23T16:57:53.511Z"
   },
   {
    "duration": 9,
    "start_time": "2025-01-23T16:57:53.564Z"
   },
   {
    "duration": 290,
    "start_time": "2025-01-23T16:57:53.575Z"
   },
   {
    "duration": 2428,
    "start_time": "2025-01-23T16:57:53.867Z"
   },
   {
    "duration": 962,
    "start_time": "2025-01-23T16:57:56.298Z"
   },
   {
    "duration": 6,
    "start_time": "2025-01-23T16:57:57.262Z"
   },
   {
    "duration": 13428,
    "start_time": "2025-01-23T16:57:57.270Z"
   },
   {
    "duration": 8,
    "start_time": "2025-01-23T16:58:10.700Z"
   },
   {
    "duration": 8,
    "start_time": "2025-01-23T16:58:15.699Z"
   },
   {
    "duration": 68,
    "start_time": "2025-01-23T16:58:17.765Z"
   },
   {
    "duration": 1041,
    "start_time": "2025-01-23T16:58:20.573Z"
   },
   {
    "duration": 4,
    "start_time": "2025-01-23T16:58:21.616Z"
   },
   {
    "duration": 4,
    "start_time": "2025-01-23T16:58:21.708Z"
   },
   {
    "duration": 43,
    "start_time": "2025-01-23T16:58:38.400Z"
   },
   {
    "duration": 178,
    "start_time": "2025-01-23T16:58:42.205Z"
   },
   {
    "duration": 55,
    "start_time": "2025-01-23T16:58:58.562Z"
   },
   {
    "duration": 4071,
    "start_time": "2025-01-23T16:58:59.027Z"
   },
   {
    "duration": 160,
    "start_time": "2025-01-23T16:59:17.226Z"
   },
   {
    "duration": 10,
    "start_time": "2025-01-23T17:00:52.279Z"
   },
   {
    "duration": 107,
    "start_time": "2025-01-23T17:01:09.963Z"
   },
   {
    "duration": 12,
    "start_time": "2025-01-23T17:01:18.715Z"
   },
   {
    "duration": 33,
    "start_time": "2025-01-23T17:01:35.775Z"
   },
   {
    "duration": 326,
    "start_time": "2025-01-23T17:01:42.113Z"
   },
   {
    "duration": 3,
    "start_time": "2025-01-23T17:02:10.658Z"
   },
   {
    "duration": 191,
    "start_time": "2025-01-23T17:02:29.225Z"
   },
   {
    "duration": 14,
    "start_time": "2025-01-23T17:03:04.065Z"
   },
   {
    "duration": 6,
    "start_time": "2025-01-23T17:05:46.068Z"
   },
   {
    "duration": 6,
    "start_time": "2025-01-23T17:06:24.570Z"
   },
   {
    "duration": 2,
    "start_time": "2025-01-23T17:07:33.500Z"
   },
   {
    "duration": 9,
    "start_time": "2025-01-23T17:07:51.161Z"
   },
   {
    "duration": 4284,
    "start_time": "2025-01-23T17:08:10.425Z"
   },
   {
    "duration": 134,
    "start_time": "2025-01-23T17:08:18.847Z"
   },
   {
    "duration": 23,
    "start_time": "2025-01-23T17:08:19.528Z"
   },
   {
    "duration": 305,
    "start_time": "2025-01-23T17:08:20.156Z"
   },
   {
    "duration": 3,
    "start_time": "2025-01-23T17:08:21.544Z"
   },
   {
    "duration": 185,
    "start_time": "2025-01-23T17:08:23.215Z"
   },
   {
    "duration": 19,
    "start_time": "2025-01-23T17:08:24.880Z"
   },
   {
    "duration": 3,
    "start_time": "2025-01-23T17:08:27.656Z"
   },
   {
    "duration": 3,
    "start_time": "2025-01-23T17:08:28.000Z"
   },
   {
    "duration": 3,
    "start_time": "2025-01-23T17:08:28.573Z"
   },
   {
    "duration": 3,
    "start_time": "2025-01-23T17:08:48.599Z"
   },
   {
    "duration": 7710,
    "start_time": "2025-01-24T15:26:41.899Z"
   },
   {
    "duration": 2272,
    "start_time": "2025-01-24T15:26:49.611Z"
   },
   {
    "duration": 1272,
    "start_time": "2025-01-24T15:26:51.885Z"
   },
   {
    "duration": 11,
    "start_time": "2025-01-24T15:26:53.159Z"
   },
   {
    "duration": 36,
    "start_time": "2025-01-24T15:26:53.172Z"
   },
   {
    "duration": 30,
    "start_time": "2025-01-24T15:26:53.214Z"
   },
   {
    "duration": 12,
    "start_time": "2025-01-24T15:26:53.246Z"
   },
   {
    "duration": 259,
    "start_time": "2025-01-24T15:26:53.259Z"
   },
   {
    "duration": 2136,
    "start_time": "2025-01-24T15:26:53.520Z"
   },
   {
    "duration": 894,
    "start_time": "2025-01-24T15:26:55.659Z"
   },
   {
    "duration": 6,
    "start_time": "2025-01-24T15:26:56.556Z"
   },
   {
    "duration": 12384,
    "start_time": "2025-01-24T15:26:56.564Z"
   },
   {
    "duration": 11,
    "start_time": "2025-01-24T15:27:08.950Z"
   },
   {
    "duration": 8,
    "start_time": "2025-01-24T15:27:24.892Z"
   },
   {
    "duration": 71,
    "start_time": "2025-01-24T15:27:26.289Z"
   },
   {
    "duration": 1087,
    "start_time": "2025-01-24T15:27:26.951Z"
   },
   {
    "duration": 5,
    "start_time": "2025-01-24T15:27:28.040Z"
   },
   {
    "duration": 17,
    "start_time": "2025-01-24T15:27:28.047Z"
   },
   {
    "duration": 49,
    "start_time": "2025-01-24T15:27:34.373Z"
   },
   {
    "duration": 46,
    "start_time": "2025-01-24T15:33:34.202Z"
   },
   {
    "duration": 50,
    "start_time": "2025-01-24T15:33:55.097Z"
   },
   {
    "duration": 4119,
    "start_time": "2025-01-24T15:33:55.403Z"
   },
   {
    "duration": 1696,
    "start_time": "2025-01-24T15:34:02.224Z"
   },
   {
    "duration": 3617,
    "start_time": "2025-01-24T15:34:07.408Z"
   },
   {
    "duration": 3,
    "start_time": "2025-01-24T15:36:00.060Z"
   },
   {
    "duration": 5,
    "start_time": "2025-01-24T15:37:10.684Z"
   },
   {
    "duration": 68366,
    "start_time": "2025-01-24T15:37:23.764Z"
   },
   {
    "duration": 5,
    "start_time": "2025-01-24T15:38:41.091Z"
   },
   {
    "duration": 36,
    "start_time": "2025-01-24T15:38:58.024Z"
   },
   {
    "duration": 33,
    "start_time": "2025-01-24T15:39:14.487Z"
   },
   {
    "duration": 5,
    "start_time": "2025-01-24T15:39:44.300Z"
   },
   {
    "duration": 1144635,
    "start_time": "2025-01-24T15:39:45.967Z"
   },
   {
    "duration": 19,
    "start_time": "2025-01-24T16:14:03.175Z"
   },
   {
    "duration": 7,
    "start_time": "2025-01-24T16:14:16.437Z"
   },
   {
    "duration": 1272,
    "start_time": "2025-01-24T16:14:16.636Z"
   },
   {
    "duration": 8,
    "start_time": "2025-01-24T16:14:17.909Z"
   },
   {
    "duration": 34,
    "start_time": "2025-01-24T16:14:17.918Z"
   },
   {
    "duration": 35,
    "start_time": "2025-01-24T16:14:17.954Z"
   },
   {
    "duration": 26,
    "start_time": "2025-01-24T16:14:17.991Z"
   },
   {
    "duration": 236,
    "start_time": "2025-01-24T16:14:18.019Z"
   },
   {
    "duration": 52,
    "start_time": "2025-01-24T16:14:19.775Z"
   },
   {
    "duration": 2591,
    "start_time": "2025-01-24T16:14:24.614Z"
   },
   {
    "duration": 2927,
    "start_time": "2025-01-24T16:14:27.208Z"
   },
   {
    "duration": 1282,
    "start_time": "2025-01-24T16:14:30.137Z"
   },
   {
    "duration": 11,
    "start_time": "2025-01-24T16:14:31.421Z"
   },
   {
    "duration": 54,
    "start_time": "2025-01-24T16:14:31.433Z"
   },
   {
    "duration": 29,
    "start_time": "2025-01-24T16:14:31.489Z"
   },
   {
    "duration": 13,
    "start_time": "2025-01-24T16:14:31.519Z"
   },
   {
    "duration": 268,
    "start_time": "2025-01-24T16:14:31.534Z"
   },
   {
    "duration": 2211,
    "start_time": "2025-01-24T16:14:31.805Z"
   },
   {
    "duration": 899,
    "start_time": "2025-01-24T16:14:34.018Z"
   },
   {
    "duration": 7,
    "start_time": "2025-01-24T16:14:34.919Z"
   },
   {
    "duration": 12658,
    "start_time": "2025-01-24T16:14:34.928Z"
   },
   {
    "duration": 10,
    "start_time": "2025-01-24T16:14:54.019Z"
   },
   {
    "duration": 9,
    "start_time": "2025-01-24T16:14:56.975Z"
   },
   {
    "duration": 68,
    "start_time": "2025-01-24T16:14:57.916Z"
   },
   {
    "duration": 1052,
    "start_time": "2025-01-24T16:14:58.041Z"
   },
   {
    "duration": 4,
    "start_time": "2025-01-24T16:14:59.264Z"
   },
   {
    "duration": 4,
    "start_time": "2025-01-24T16:14:59.523Z"
   },
   {
    "duration": 66,
    "start_time": "2025-01-24T16:15:00.178Z"
   },
   {
    "duration": 123,
    "start_time": "2025-01-24T16:15:38.224Z"
   },
   {
    "duration": 74,
    "start_time": "2025-01-24T16:16:00.033Z"
   },
   {
    "duration": 4,
    "start_time": "2025-01-24T16:16:02.742Z"
   },
   {
    "duration": 5,
    "start_time": "2025-01-24T16:16:03.093Z"
   },
   {
    "duration": 4425199,
    "start_time": "2025-01-24T16:16:03.428Z"
   },
   {
    "duration": 7085,
    "start_time": "2025-01-24T17:29:48.631Z"
   },
   {
    "duration": 160,
    "start_time": "2025-01-24T17:36:02.518Z"
   },
   {
    "duration": 12,
    "start_time": "2025-01-24T17:36:49.909Z"
   },
   {
    "duration": 20,
    "start_time": "2025-01-24T17:36:56.992Z"
   },
   {
    "duration": 47,
    "start_time": "2025-01-24T17:39:21.007Z"
   },
   {
    "duration": 195,
    "start_time": "2025-01-24T17:40:06.013Z"
   },
   {
    "duration": 34,
    "start_time": "2025-01-24T17:40:31.614Z"
   },
   {
    "duration": 38,
    "start_time": "2025-01-24T17:40:40.255Z"
   },
   {
    "duration": 24,
    "start_time": "2025-01-24T17:48:07.889Z"
   },
   {
    "duration": 41,
    "start_time": "2025-01-24T17:48:13.319Z"
   },
   {
    "duration": 81,
    "start_time": "2025-01-24T17:49:31.760Z"
   },
   {
    "duration": 70,
    "start_time": "2025-01-24T17:51:50.217Z"
   },
   {
    "duration": 1116,
    "start_time": "2025-01-24T17:52:05.932Z"
   },
   {
    "duration": 41,
    "start_time": "2025-01-24T17:52:41.102Z"
   },
   {
    "duration": 72,
    "start_time": "2025-01-24T17:53:38.883Z"
   },
   {
    "duration": 3,
    "start_time": "2025-01-24T17:53:43.691Z"
   },
   {
    "duration": 6,
    "start_time": "2025-01-24T17:53:44.197Z"
   },
   {
    "duration": 21,
    "start_time": "2025-01-24T17:54:51.940Z"
   },
   {
    "duration": 41,
    "start_time": "2025-01-24T17:55:07.989Z"
   },
   {
    "duration": 1050,
    "start_time": "2025-01-24T17:57:52.607Z"
   },
   {
    "duration": 4,
    "start_time": "2025-01-24T17:58:05.236Z"
   },
   {
    "duration": 4,
    "start_time": "2025-01-24T17:58:05.865Z"
   },
   {
    "duration": 24,
    "start_time": "2025-01-24T17:59:03.968Z"
   },
   {
    "duration": 4,
    "start_time": "2025-01-24T17:59:42.556Z"
   },
   {
    "duration": 21,
    "start_time": "2025-01-24T18:00:20.701Z"
   },
   {
    "duration": 19,
    "start_time": "2025-01-24T18:02:06.796Z"
   },
   {
    "duration": 80,
    "start_time": "2025-01-24T18:05:12.171Z"
   },
   {
    "duration": 25,
    "start_time": "2025-01-24T18:05:12.877Z"
   },
   {
    "duration": 1071,
    "start_time": "2025-01-24T18:05:29.952Z"
   },
   {
    "duration": 42,
    "start_time": "2025-01-24T18:05:43.585Z"
   },
   {
    "duration": 3,
    "start_time": "2025-01-24T18:06:23.728Z"
   },
   {
    "duration": 5,
    "start_time": "2025-01-24T18:06:30.607Z"
   },
   {
    "duration": 5069546,
    "start_time": "2025-01-24T18:06:45.671Z"
   },
   {
    "duration": 10,
    "start_time": "2025-01-24T19:36:21.086Z"
   },
   {
    "duration": 11,
    "start_time": "2025-01-24T19:37:11.250Z"
   },
   {
    "duration": 12,
    "start_time": "2025-01-24T19:37:42.736Z"
   },
   {
    "duration": 83,
    "start_time": "2025-01-24T19:38:20.881Z"
   },
   {
    "duration": 1215,
    "start_time": "2025-01-24T19:38:33.718Z"
   },
   {
    "duration": 20,
    "start_time": "2025-01-24T19:38:47.260Z"
   },
   {
    "duration": 18,
    "start_time": "2025-01-24T19:39:02.969Z"
   },
   {
    "duration": 19,
    "start_time": "2025-01-24T19:39:24.472Z"
   },
   {
    "duration": 16,
    "start_time": "2025-01-24T19:39:36.340Z"
   },
   {
    "duration": 20,
    "start_time": "2025-01-24T19:40:32.273Z"
   },
   {
    "duration": 15,
    "start_time": "2025-01-24T19:44:24.003Z"
   },
   {
    "duration": 11,
    "start_time": "2025-01-24T19:44:56.900Z"
   },
   {
    "duration": 15,
    "start_time": "2025-01-24T19:45:55.910Z"
   },
   {
    "duration": 22,
    "start_time": "2025-01-24T19:46:06.704Z"
   },
   {
    "duration": 721,
    "start_time": "2025-01-24T19:47:12.315Z"
   },
   {
    "duration": 1239,
    "start_time": "2025-01-24T19:47:13.038Z"
   },
   {
    "duration": 7,
    "start_time": "2025-01-24T19:47:14.278Z"
   },
   {
    "duration": 35,
    "start_time": "2025-01-24T19:47:14.899Z"
   },
   {
    "duration": 29,
    "start_time": "2025-01-24T19:47:15.129Z"
   },
   {
    "duration": 13,
    "start_time": "2025-01-24T19:47:15.303Z"
   },
   {
    "duration": 228,
    "start_time": "2025-01-24T19:47:15.478Z"
   },
   {
    "duration": 2522,
    "start_time": "2025-01-24T19:47:22.990Z"
   },
   {
    "duration": 3000,
    "start_time": "2025-01-24T19:47:25.515Z"
   },
   {
    "duration": 1270,
    "start_time": "2025-01-24T19:47:28.517Z"
   },
   {
    "duration": 12,
    "start_time": "2025-01-24T19:47:29.789Z"
   },
   {
    "duration": 37,
    "start_time": "2025-01-24T19:47:29.802Z"
   },
   {
    "duration": 29,
    "start_time": "2025-01-24T19:47:29.840Z"
   },
   {
    "duration": 13,
    "start_time": "2025-01-24T19:47:29.870Z"
   },
   {
    "duration": 283,
    "start_time": "2025-01-24T19:47:29.884Z"
   },
   {
    "duration": 2202,
    "start_time": "2025-01-24T19:47:30.169Z"
   },
   {
    "duration": 882,
    "start_time": "2025-01-24T19:47:32.373Z"
   },
   {
    "duration": 7,
    "start_time": "2025-01-24T19:47:33.257Z"
   },
   {
    "duration": 12384,
    "start_time": "2025-01-24T19:47:33.265Z"
   },
   {
    "duration": 13,
    "start_time": "2025-01-24T19:47:45.650Z"
   },
   {
    "duration": 9,
    "start_time": "2025-01-24T19:47:53.579Z"
   },
   {
    "duration": 67,
    "start_time": "2025-01-24T19:47:56.062Z"
   },
   {
    "duration": 1060,
    "start_time": "2025-01-24T19:47:56.540Z"
   },
   {
    "duration": 2521,
    "start_time": "2025-01-24T19:50:01.823Z"
   },
   {
    "duration": 3745,
    "start_time": "2025-01-24T19:50:04.347Z"
   },
   {
    "duration": 1435,
    "start_time": "2025-01-24T19:50:08.094Z"
   },
   {
    "duration": 12,
    "start_time": "2025-01-24T19:50:09.531Z"
   },
   {
    "duration": 36,
    "start_time": "2025-01-24T19:50:09.545Z"
   },
   {
    "duration": 38,
    "start_time": "2025-01-24T19:50:09.583Z"
   },
   {
    "duration": 36,
    "start_time": "2025-01-24T19:50:09.622Z"
   },
   {
    "duration": 263,
    "start_time": "2025-01-24T19:50:09.660Z"
   },
   {
    "duration": 2231,
    "start_time": "2025-01-24T19:50:09.924Z"
   },
   {
    "duration": 918,
    "start_time": "2025-01-24T19:50:12.157Z"
   },
   {
    "duration": 7,
    "start_time": "2025-01-24T19:50:13.077Z"
   },
   {
    "duration": 12602,
    "start_time": "2025-01-24T19:50:13.085Z"
   },
   {
    "duration": 27,
    "start_time": "2025-01-24T19:50:25.689Z"
   },
   {
    "duration": 9,
    "start_time": "2025-01-24T19:50:34.271Z"
   },
   {
    "duration": 68,
    "start_time": "2025-01-24T19:50:35.896Z"
   },
   {
    "duration": 1067,
    "start_time": "2025-01-24T19:50:36.662Z"
   },
   {
    "duration": 2443,
    "start_time": "2025-01-24T19:50:47.049Z"
   },
   {
    "duration": 2830,
    "start_time": "2025-01-24T19:50:49.495Z"
   },
   {
    "duration": 1290,
    "start_time": "2025-01-24T19:50:52.326Z"
   },
   {
    "duration": 11,
    "start_time": "2025-01-24T19:50:53.618Z"
   },
   {
    "duration": 53,
    "start_time": "2025-01-24T19:50:53.631Z"
   },
   {
    "duration": 28,
    "start_time": "2025-01-24T19:50:53.686Z"
   },
   {
    "duration": 13,
    "start_time": "2025-01-24T19:50:53.716Z"
   },
   {
    "duration": 257,
    "start_time": "2025-01-24T19:50:53.730Z"
   },
   {
    "duration": 2212,
    "start_time": "2025-01-24T19:50:53.988Z"
   },
   {
    "duration": 916,
    "start_time": "2025-01-24T19:50:56.201Z"
   },
   {
    "duration": 6,
    "start_time": "2025-01-24T19:50:57.119Z"
   },
   {
    "duration": 12530,
    "start_time": "2025-01-24T19:50:57.126Z"
   },
   {
    "duration": 11,
    "start_time": "2025-01-24T19:51:09.658Z"
   },
   {
    "duration": 9,
    "start_time": "2025-01-24T19:51:09.672Z"
   },
   {
    "duration": 90,
    "start_time": "2025-01-24T19:51:09.683Z"
   },
   {
    "duration": 1075,
    "start_time": "2025-01-24T19:51:09.775Z"
   },
   {
    "duration": 2501,
    "start_time": "2025-01-24T19:51:41.128Z"
   },
   {
    "duration": 2770,
    "start_time": "2025-01-24T19:51:43.631Z"
   },
   {
    "duration": 1282,
    "start_time": "2025-01-24T19:51:46.403Z"
   },
   {
    "duration": 11,
    "start_time": "2025-01-24T19:51:47.687Z"
   },
   {
    "duration": 65,
    "start_time": "2025-01-24T19:51:47.699Z"
   },
   {
    "duration": 29,
    "start_time": "2025-01-24T19:51:47.766Z"
   },
   {
    "duration": 17,
    "start_time": "2025-01-24T19:51:47.796Z"
   },
   {
    "duration": 250,
    "start_time": "2025-01-24T19:51:47.815Z"
   },
   {
    "duration": 2208,
    "start_time": "2025-01-24T19:51:48.067Z"
   },
   {
    "duration": 924,
    "start_time": "2025-01-24T19:51:50.279Z"
   },
   {
    "duration": 12,
    "start_time": "2025-01-24T19:51:51.206Z"
   },
   {
    "duration": 12233,
    "start_time": "2025-01-24T19:51:51.220Z"
   },
   {
    "duration": 11,
    "start_time": "2025-01-24T19:52:03.455Z"
   },
   {
    "duration": 12,
    "start_time": "2025-01-24T19:52:03.467Z"
   },
   {
    "duration": 66,
    "start_time": "2025-01-24T19:52:08.161Z"
   },
   {
    "duration": 1067,
    "start_time": "2025-01-24T19:52:10.448Z"
   },
   {
    "duration": 2460,
    "start_time": "2025-01-24T19:54:27.675Z"
   },
   {
    "duration": 3124,
    "start_time": "2025-01-24T19:54:30.137Z"
   },
   {
    "duration": 1396,
    "start_time": "2025-01-24T19:54:33.263Z"
   },
   {
    "duration": 11,
    "start_time": "2025-01-24T19:54:34.661Z"
   },
   {
    "duration": 70,
    "start_time": "2025-01-24T19:54:34.673Z"
   },
   {
    "duration": 96,
    "start_time": "2025-01-24T19:54:34.745Z"
   },
   {
    "duration": 27,
    "start_time": "2025-01-24T19:54:34.843Z"
   },
   {
    "duration": 403,
    "start_time": "2025-01-24T19:54:34.872Z"
   },
   {
    "duration": 2217,
    "start_time": "2025-01-24T19:54:35.277Z"
   },
   {
    "duration": 926,
    "start_time": "2025-01-24T19:54:37.496Z"
   },
   {
    "duration": 6,
    "start_time": "2025-01-24T19:54:38.425Z"
   },
   {
    "duration": 12232,
    "start_time": "2025-01-24T19:54:38.432Z"
   },
   {
    "duration": 10,
    "start_time": "2025-01-24T19:54:50.666Z"
   },
   {
    "duration": 8,
    "start_time": "2025-01-24T19:54:50.678Z"
   },
   {
    "duration": 96,
    "start_time": "2025-01-24T19:54:50.688Z"
   },
   {
    "duration": 1070,
    "start_time": "2025-01-24T19:54:50.786Z"
   },
   {
    "duration": 172,
    "start_time": "2025-01-24T19:55:59.893Z"
   },
   {
    "duration": 19,
    "start_time": "2025-01-24T19:56:32.403Z"
   },
   {
    "duration": 48,
    "start_time": "2025-01-24T19:58:34.910Z"
   },
   {
    "duration": 2423,
    "start_time": "2025-01-24T19:58:41.152Z"
   },
   {
    "duration": 2979,
    "start_time": "2025-01-24T19:58:43.578Z"
   },
   {
    "duration": 1253,
    "start_time": "2025-01-24T19:58:46.559Z"
   },
   {
    "duration": 12,
    "start_time": "2025-01-24T19:58:47.814Z"
   },
   {
    "duration": 44,
    "start_time": "2025-01-24T19:58:47.827Z"
   },
   {
    "duration": 28,
    "start_time": "2025-01-24T19:58:47.873Z"
   },
   {
    "duration": 22,
    "start_time": "2025-01-24T19:58:47.903Z"
   },
   {
    "duration": 258,
    "start_time": "2025-01-24T19:58:47.926Z"
   },
   {
    "duration": 2147,
    "start_time": "2025-01-24T19:58:48.186Z"
   },
   {
    "duration": 870,
    "start_time": "2025-01-24T19:58:50.336Z"
   },
   {
    "duration": 10,
    "start_time": "2025-01-24T19:58:51.208Z"
   },
   {
    "duration": 12567,
    "start_time": "2025-01-24T19:58:51.220Z"
   },
   {
    "duration": 10,
    "start_time": "2025-01-24T19:59:03.788Z"
   },
   {
    "duration": 9,
    "start_time": "2025-01-24T19:59:03.815Z"
   },
   {
    "duration": 71,
    "start_time": "2025-01-24T19:59:05.911Z"
   },
   {
    "duration": 1092,
    "start_time": "2025-01-24T19:59:06.394Z"
   },
   {
    "duration": 111,
    "start_time": "2025-01-24T19:59:07.488Z"
   },
   {
    "duration": 2570,
    "start_time": "2025-01-24T20:01:22.866Z"
   },
   {
    "duration": 6341,
    "start_time": "2025-01-24T20:01:26.189Z"
   },
   {
    "duration": 1273,
    "start_time": "2025-01-24T20:01:32.532Z"
   },
   {
    "duration": 11,
    "start_time": "2025-01-24T20:01:33.807Z"
   },
   {
    "duration": 49,
    "start_time": "2025-01-24T20:01:33.820Z"
   },
   {
    "duration": 30,
    "start_time": "2025-01-24T20:01:33.870Z"
   },
   {
    "duration": 18,
    "start_time": "2025-01-24T20:01:33.902Z"
   },
   {
    "duration": 257,
    "start_time": "2025-01-24T20:01:33.922Z"
   },
   {
    "duration": 2193,
    "start_time": "2025-01-24T20:01:34.181Z"
   },
   {
    "duration": 906,
    "start_time": "2025-01-24T20:01:36.376Z"
   },
   {
    "duration": 6,
    "start_time": "2025-01-24T20:01:37.285Z"
   },
   {
    "duration": 12310,
    "start_time": "2025-01-24T20:01:37.292Z"
   },
   {
    "duration": 11,
    "start_time": "2025-01-24T20:01:49.615Z"
   },
   {
    "duration": 10,
    "start_time": "2025-01-24T20:02:02.592Z"
   },
   {
    "duration": 71,
    "start_time": "2025-01-24T20:02:03.834Z"
   },
   {
    "duration": 1083,
    "start_time": "2025-01-24T20:02:04.007Z"
   },
   {
    "duration": 2550,
    "start_time": "2025-01-24T20:02:25.997Z"
   },
   {
    "duration": 3277,
    "start_time": "2025-01-24T20:02:28.550Z"
   },
   {
    "duration": 1316,
    "start_time": "2025-01-24T20:02:31.829Z"
   },
   {
    "duration": 12,
    "start_time": "2025-01-24T20:02:33.147Z"
   },
   {
    "duration": 50,
    "start_time": "2025-01-24T20:02:33.160Z"
   },
   {
    "duration": 29,
    "start_time": "2025-01-24T20:02:33.212Z"
   },
   {
    "duration": 34,
    "start_time": "2025-01-24T20:02:33.243Z"
   },
   {
    "duration": 262,
    "start_time": "2025-01-24T20:02:33.279Z"
   },
   {
    "duration": 2387,
    "start_time": "2025-01-24T20:02:33.543Z"
   },
   {
    "duration": 981,
    "start_time": "2025-01-24T20:02:35.933Z"
   },
   {
    "duration": 6,
    "start_time": "2025-01-24T20:02:36.916Z"
   },
   {
    "duration": 12769,
    "start_time": "2025-01-24T20:02:36.924Z"
   },
   {
    "duration": 27,
    "start_time": "2025-01-24T20:02:49.695Z"
   },
   {
    "duration": 10,
    "start_time": "2025-01-24T20:02:52.238Z"
   },
   {
    "duration": 66,
    "start_time": "2025-01-24T20:02:53.277Z"
   },
   {
    "duration": 1087,
    "start_time": "2025-01-24T20:02:54.119Z"
   },
   {
    "duration": 48,
    "start_time": "2025-01-24T20:04:07.932Z"
   },
   {
    "duration": 2540,
    "start_time": "2025-01-24T20:04:12.218Z"
   },
   {
    "duration": 2973,
    "start_time": "2025-01-24T20:04:14.761Z"
   },
   {
    "duration": 1284,
    "start_time": "2025-01-24T20:04:17.736Z"
   },
   {
    "duration": 11,
    "start_time": "2025-01-24T20:04:19.022Z"
   },
   {
    "duration": 37,
    "start_time": "2025-01-24T20:04:19.034Z"
   },
   {
    "duration": 43,
    "start_time": "2025-01-24T20:04:19.073Z"
   },
   {
    "duration": 12,
    "start_time": "2025-01-24T20:04:19.117Z"
   },
   {
    "duration": 263,
    "start_time": "2025-01-24T20:04:19.130Z"
   },
   {
    "duration": 2214,
    "start_time": "2025-01-24T20:04:19.395Z"
   },
   {
    "duration": 894,
    "start_time": "2025-01-24T20:04:21.616Z"
   },
   {
    "duration": 6,
    "start_time": "2025-01-24T20:04:22.515Z"
   },
   {
    "duration": 12412,
    "start_time": "2025-01-24T20:04:22.522Z"
   },
   {
    "duration": 11,
    "start_time": "2025-01-24T20:04:34.935Z"
   },
   {
    "duration": 10,
    "start_time": "2025-01-24T20:06:59.781Z"
   },
   {
    "duration": 67,
    "start_time": "2025-01-24T20:07:01.114Z"
   },
   {
    "duration": 1082,
    "start_time": "2025-01-24T20:07:02.312Z"
   },
   {
    "duration": 58,
    "start_time": "2025-01-24T20:07:03.396Z"
   },
   {
    "duration": 3,
    "start_time": "2025-01-24T20:07:07.440Z"
   },
   {
    "duration": 5,
    "start_time": "2025-01-24T20:07:07.836Z"
   },
   {
    "duration": 1778673,
    "start_time": "2025-01-24T20:07:12.096Z"
   },
   {
    "duration": 5,
    "start_time": "2025-01-24T20:37:46.660Z"
   },
   {
    "duration": 373934,
    "start_time": "2025-01-24T20:37:47.686Z"
   },
   {
    "duration": 5,
    "start_time": "2025-01-24T20:45:12.522Z"
   },
   {
    "duration": 2422,
    "start_time": "2025-01-24T21:20:11.174Z"
   },
   {
    "duration": 1920,
    "start_time": "2025-01-24T21:20:13.598Z"
   },
   {
    "duration": 919,
    "start_time": "2025-01-24T21:20:15.520Z"
   },
   {
    "duration": 11,
    "start_time": "2025-01-24T21:20:16.441Z"
   },
   {
    "duration": 52,
    "start_time": "2025-01-24T21:20:16.453Z"
   },
   {
    "duration": 101,
    "start_time": "2025-01-24T21:20:16.507Z"
   },
   {
    "duration": 16,
    "start_time": "2025-01-24T21:20:16.610Z"
   },
   {
    "duration": 261,
    "start_time": "2025-01-24T21:20:16.628Z"
   },
   {
    "duration": 2286,
    "start_time": "2025-01-24T21:20:16.891Z"
   },
   {
    "duration": 930,
    "start_time": "2025-01-24T21:20:19.180Z"
   },
   {
    "duration": 6,
    "start_time": "2025-01-24T21:20:20.114Z"
   },
   {
    "duration": 12351,
    "start_time": "2025-01-24T21:20:20.121Z"
   },
   {
    "duration": 10,
    "start_time": "2025-01-24T21:20:32.474Z"
   },
   {
    "duration": 9,
    "start_time": "2025-01-24T21:20:32.486Z"
   },
   {
    "duration": 127,
    "start_time": "2025-01-24T21:20:32.515Z"
   },
   {
    "duration": 1095,
    "start_time": "2025-01-24T21:20:32.644Z"
   },
   {
    "duration": 50,
    "start_time": "2025-01-24T21:20:33.741Z"
   },
   {
    "duration": 3,
    "start_time": "2025-01-24T21:20:33.792Z"
   },
   {
    "duration": 21,
    "start_time": "2025-01-24T21:20:33.797Z"
   },
   {
    "duration": 85,
    "start_time": "2025-01-24T21:20:48.559Z"
   },
   {
    "duration": 2422,
    "start_time": "2025-01-24T21:52:17.350Z"
   },
   {
    "duration": 1851,
    "start_time": "2025-01-24T21:52:19.775Z"
   },
   {
    "duration": 963,
    "start_time": "2025-01-24T21:52:21.628Z"
   },
   {
    "duration": 23,
    "start_time": "2025-01-24T21:52:22.593Z"
   },
   {
    "duration": 141,
    "start_time": "2025-01-24T21:52:22.618Z"
   },
   {
    "duration": 31,
    "start_time": "2025-01-24T21:52:22.761Z"
   },
   {
    "duration": 12,
    "start_time": "2025-01-24T21:52:22.793Z"
   },
   {
    "duration": 259,
    "start_time": "2025-01-24T21:52:22.807Z"
   },
   {
    "duration": 2320,
    "start_time": "2025-01-24T21:52:23.069Z"
   },
   {
    "duration": 982,
    "start_time": "2025-01-24T21:52:28.812Z"
   },
   {
    "duration": 18,
    "start_time": "2025-01-24T21:52:29.796Z"
   },
   {
    "duration": 12356,
    "start_time": "2025-01-24T21:52:29.816Z"
   },
   {
    "duration": 11,
    "start_time": "2025-01-24T21:52:42.175Z"
   },
   {
    "duration": 10,
    "start_time": "2025-01-24T21:52:42.785Z"
   },
   {
    "duration": 68,
    "start_time": "2025-01-24T21:52:43.986Z"
   },
   {
    "duration": 1078,
    "start_time": "2025-01-24T21:52:44.202Z"
   },
   {
    "duration": 57,
    "start_time": "2025-01-24T21:52:45.282Z"
   },
   {
    "duration": 3,
    "start_time": "2025-01-24T21:52:45.340Z"
   },
   {
    "duration": 4,
    "start_time": "2025-01-24T21:52:46.208Z"
   },
   {
    "duration": 9121,
    "start_time": "2025-01-25T08:38:56.479Z"
   },
   {
    "duration": 2181,
    "start_time": "2025-01-25T08:39:05.603Z"
   },
   {
    "duration": 1323,
    "start_time": "2025-01-25T08:39:07.786Z"
   },
   {
    "duration": 12,
    "start_time": "2025-01-25T08:39:09.111Z"
   },
   {
    "duration": 34,
    "start_time": "2025-01-25T08:39:09.124Z"
   },
   {
    "duration": 28,
    "start_time": "2025-01-25T08:39:09.160Z"
   },
   {
    "duration": 11,
    "start_time": "2025-01-25T08:39:09.189Z"
   },
   {
    "duration": 275,
    "start_time": "2025-01-25T08:39:09.202Z"
   },
   {
    "duration": 6,
    "start_time": "2025-01-25T08:39:16.888Z"
   },
   {
    "duration": 145,
    "start_time": "2025-01-25T08:39:21.134Z"
   },
   {
    "duration": 2214,
    "start_time": "2025-01-25T08:39:23.891Z"
   },
   {
    "duration": 838,
    "start_time": "2025-01-25T08:39:26.108Z"
   },
   {
    "duration": 6,
    "start_time": "2025-01-25T08:39:27.590Z"
   },
   {
    "duration": 13607,
    "start_time": "2025-01-25T08:39:28.142Z"
   },
   {
    "duration": 12,
    "start_time": "2025-01-25T08:40:03.802Z"
   },
   {
    "duration": 10,
    "start_time": "2025-01-25T08:40:06.658Z"
   },
   {
    "duration": 71,
    "start_time": "2025-01-25T08:40:08.124Z"
   },
   {
    "duration": 1129,
    "start_time": "2025-01-25T08:40:08.656Z"
   },
   {
    "duration": 56,
    "start_time": "2025-01-25T08:40:09.787Z"
   },
   {
    "duration": 3,
    "start_time": "2025-01-25T08:40:10.587Z"
   },
   {
    "duration": 5,
    "start_time": "2025-01-25T08:40:11.367Z"
   },
   {
    "duration": 2705,
    "start_time": "2025-01-25T09:21:12.422Z"
   },
   {
    "duration": 2103,
    "start_time": "2025-01-25T09:21:15.130Z"
   },
   {
    "duration": 1041,
    "start_time": "2025-01-25T09:21:17.236Z"
   },
   {
    "duration": 13,
    "start_time": "2025-01-25T09:21:18.279Z"
   },
   {
    "duration": 64,
    "start_time": "2025-01-25T09:21:18.294Z"
   },
   {
    "duration": 34,
    "start_time": "2025-01-25T09:21:18.359Z"
   },
   {
    "duration": 37,
    "start_time": "2025-01-25T09:21:18.396Z"
   },
   {
    "duration": 298,
    "start_time": "2025-01-25T09:21:18.439Z"
   },
   {
    "duration": 2271,
    "start_time": "2025-01-25T09:21:20.040Z"
   },
   {
    "duration": 895,
    "start_time": "2025-01-25T09:21:22.314Z"
   },
   {
    "duration": 9,
    "start_time": "2025-01-25T09:21:23.212Z"
   },
   {
    "duration": 15231,
    "start_time": "2025-01-25T09:21:23.229Z"
   },
   {
    "duration": 10,
    "start_time": "2025-01-25T09:21:38.461Z"
   },
   {
    "duration": 9,
    "start_time": "2025-01-25T09:21:40.650Z"
   },
   {
    "duration": 69,
    "start_time": "2025-01-25T09:21:42.063Z"
   },
   {
    "duration": 1081,
    "start_time": "2025-01-25T09:21:42.242Z"
   },
   {
    "duration": 48,
    "start_time": "2025-01-25T09:21:43.325Z"
   },
   {
    "duration": 3,
    "start_time": "2025-01-25T09:21:44.055Z"
   },
   {
    "duration": 7,
    "start_time": "2025-01-25T09:21:44.697Z"
   },
   {
    "duration": 2720,
    "start_time": "2025-01-25T11:10:43.393Z"
   },
   {
    "duration": 1883,
    "start_time": "2025-01-25T11:10:46.115Z"
   },
   {
    "duration": 1350,
    "start_time": "2025-01-25T11:10:48.000Z"
   },
   {
    "duration": 11,
    "start_time": "2025-01-25T11:10:49.353Z"
   },
   {
    "duration": 38,
    "start_time": "2025-01-25T11:10:49.366Z"
   },
   {
    "duration": 38,
    "start_time": "2025-01-25T11:10:49.406Z"
   },
   {
    "duration": 12,
    "start_time": "2025-01-25T11:10:49.446Z"
   },
   {
    "duration": 280,
    "start_time": "2025-01-25T11:10:49.459Z"
   },
   {
    "duration": 2239,
    "start_time": "2025-01-25T11:10:49.741Z"
   },
   {
    "duration": 937,
    "start_time": "2025-01-25T11:10:51.982Z"
   },
   {
    "duration": 11,
    "start_time": "2025-01-25T11:10:52.921Z"
   },
   {
    "duration": 13944,
    "start_time": "2025-01-25T11:10:52.934Z"
   },
   {
    "duration": 12,
    "start_time": "2025-01-25T11:11:06.880Z"
   },
   {
    "duration": 16,
    "start_time": "2025-01-25T11:11:06.894Z"
   },
   {
    "duration": 83,
    "start_time": "2025-01-25T11:11:06.912Z"
   },
   {
    "duration": 1219,
    "start_time": "2025-01-25T11:11:17.924Z"
   },
   {
    "duration": 52,
    "start_time": "2025-01-25T11:11:19.145Z"
   },
   {
    "duration": 3,
    "start_time": "2025-01-25T11:11:19.852Z"
   },
   {
    "duration": 5,
    "start_time": "2025-01-25T11:11:20.325Z"
   },
   {
    "duration": 2101767,
    "start_time": "2025-01-25T11:11:20.674Z"
   },
   {
    "duration": 2788,
    "start_time": "2025-01-25T12:03:11.509Z"
   },
   {
    "duration": 9,
    "start_time": "2025-01-25T12:03:14.300Z"
   },
   {
    "duration": 1045,
    "start_time": "2025-01-25T12:03:14.311Z"
   },
   {
    "duration": 10,
    "start_time": "2025-01-25T12:03:15.358Z"
   },
   {
    "duration": 100,
    "start_time": "2025-01-25T12:03:15.369Z"
   },
   {
    "duration": 39,
    "start_time": "2025-01-25T12:03:15.470Z"
   },
   {
    "duration": 16,
    "start_time": "2025-01-25T12:03:15.510Z"
   },
   {
    "duration": 268,
    "start_time": "2025-01-25T12:03:15.527Z"
   },
   {
    "duration": 2706,
    "start_time": "2025-01-25T12:03:27.108Z"
   },
   {
    "duration": 3336,
    "start_time": "2025-01-25T12:03:29.817Z"
   },
   {
    "duration": 1337,
    "start_time": "2025-01-25T12:03:33.155Z"
   },
   {
    "duration": 11,
    "start_time": "2025-01-25T12:03:34.494Z"
   },
   {
    "duration": 50,
    "start_time": "2025-01-25T12:03:34.507Z"
   },
   {
    "duration": 34,
    "start_time": "2025-01-25T12:03:34.559Z"
   },
   {
    "duration": 28,
    "start_time": "2025-01-25T12:03:34.595Z"
   },
   {
    "duration": 301,
    "start_time": "2025-01-25T12:03:34.625Z"
   },
   {
    "duration": 2286,
    "start_time": "2025-01-25T12:03:34.930Z"
   },
   {
    "duration": 882,
    "start_time": "2025-01-25T12:03:37.218Z"
   },
   {
    "duration": 7,
    "start_time": "2025-01-25T12:03:38.102Z"
   },
   {
    "duration": 13771,
    "start_time": "2025-01-25T12:03:38.111Z"
   },
   {
    "duration": 11,
    "start_time": "2025-01-25T12:03:51.883Z"
   },
   {
    "duration": 9,
    "start_time": "2025-01-25T12:04:00.470Z"
   },
   {
    "duration": 69,
    "start_time": "2025-01-25T12:04:01.606Z"
   },
   {
    "duration": 1110,
    "start_time": "2025-01-25T12:04:01.750Z"
   },
   {
    "duration": 63,
    "start_time": "2025-01-25T12:04:02.862Z"
   },
   {
    "duration": 3,
    "start_time": "2025-01-25T12:04:02.927Z"
   },
   {
    "duration": 84,
    "start_time": "2025-01-25T12:04:02.932Z"
   },
   {
    "duration": 2616,
    "start_time": "2025-01-25T12:29:48.549Z"
   },
   {
    "duration": 1807,
    "start_time": "2025-01-25T12:29:53.384Z"
   },
   {
    "duration": 972,
    "start_time": "2025-01-25T12:29:55.194Z"
   },
   {
    "duration": 11,
    "start_time": "2025-01-25T12:29:56.168Z"
   },
   {
    "duration": 57,
    "start_time": "2025-01-25T12:29:56.181Z"
   },
   {
    "duration": 30,
    "start_time": "2025-01-25T12:29:56.240Z"
   },
   {
    "duration": 12,
    "start_time": "2025-01-25T12:29:56.271Z"
   },
   {
    "duration": 282,
    "start_time": "2025-01-25T12:29:56.285Z"
   },
   {
    "duration": 2280,
    "start_time": "2025-01-25T12:29:56.569Z"
   },
   {
    "duration": 901,
    "start_time": "2025-01-25T12:29:58.850Z"
   },
   {
    "duration": 6,
    "start_time": "2025-01-25T12:29:59.754Z"
   },
   {
    "duration": 13538,
    "start_time": "2025-01-25T12:29:59.762Z"
   },
   {
    "duration": 28,
    "start_time": "2025-01-25T12:30:13.302Z"
   },
   {
    "duration": 10,
    "start_time": "2025-01-25T12:30:14.383Z"
   },
   {
    "duration": 69,
    "start_time": "2025-01-25T12:30:16.237Z"
   },
   {
    "duration": 1103,
    "start_time": "2025-01-25T12:30:16.771Z"
   },
   {
    "duration": 3,
    "start_time": "2025-01-25T12:30:34.857Z"
   },
   {
    "duration": 5,
    "start_time": "2025-01-25T12:30:35.325Z"
   },
   {
    "duration": 2620,
    "start_time": "2025-01-25T12:44:14.747Z"
   },
   {
    "duration": 1965,
    "start_time": "2025-01-25T12:44:17.371Z"
   },
   {
    "duration": 1004,
    "start_time": "2025-01-25T12:44:19.338Z"
   },
   {
    "duration": 11,
    "start_time": "2025-01-25T12:44:20.345Z"
   },
   {
    "duration": 42,
    "start_time": "2025-01-25T12:44:20.358Z"
   },
   {
    "duration": 45,
    "start_time": "2025-01-25T12:44:20.405Z"
   },
   {
    "duration": 12,
    "start_time": "2025-01-25T12:44:20.452Z"
   },
   {
    "duration": 289,
    "start_time": "2025-01-25T12:44:20.465Z"
   },
   {
    "duration": 2314,
    "start_time": "2025-01-25T12:44:20.757Z"
   },
   {
    "duration": 923,
    "start_time": "2025-01-25T12:44:23.073Z"
   },
   {
    "duration": 7,
    "start_time": "2025-01-25T12:44:23.998Z"
   },
   {
    "duration": 14428,
    "start_time": "2025-01-25T12:44:38.562Z"
   },
   {
    "duration": 22,
    "start_time": "2025-01-25T12:44:52.992Z"
   },
   {
    "duration": 26,
    "start_time": "2025-01-25T12:44:57.006Z"
   },
   {
    "duration": 71,
    "start_time": "2025-01-25T12:44:58.422Z"
   },
   {
    "duration": 1167,
    "start_time": "2025-01-25T12:44:58.495Z"
   },
   {
    "duration": 49,
    "start_time": "2025-01-25T12:44:59.664Z"
   },
   {
    "duration": 15,
    "start_time": "2025-01-25T12:44:59.715Z"
   },
   {
    "duration": 2747,
    "start_time": "2025-01-25T12:45:14.370Z"
   },
   {
    "duration": 2391,
    "start_time": "2025-01-25T12:45:17.120Z"
   },
   {
    "duration": 1034,
    "start_time": "2025-01-25T12:45:19.513Z"
   },
   {
    "duration": 13,
    "start_time": "2025-01-25T12:45:20.549Z"
   },
   {
    "duration": 39,
    "start_time": "2025-01-25T12:45:20.564Z"
   },
   {
    "duration": 52,
    "start_time": "2025-01-25T12:45:20.605Z"
   },
   {
    "duration": 36,
    "start_time": "2025-01-25T12:45:20.659Z"
   },
   {
    "duration": 269,
    "start_time": "2025-01-25T12:45:20.696Z"
   },
   {
    "duration": 2286,
    "start_time": "2025-01-25T12:45:20.967Z"
   },
   {
    "duration": 907,
    "start_time": "2025-01-25T12:45:23.256Z"
   },
   {
    "duration": 6,
    "start_time": "2025-01-25T12:45:24.165Z"
   },
   {
    "duration": 14676,
    "start_time": "2025-01-25T12:45:24.172Z"
   },
   {
    "duration": 10,
    "start_time": "2025-01-25T12:45:38.849Z"
   },
   {
    "duration": 9,
    "start_time": "2025-01-25T12:45:40.479Z"
   },
   {
    "duration": 68,
    "start_time": "2025-01-25T12:45:42.032Z"
   },
   {
    "duration": 1177,
    "start_time": "2025-01-25T12:45:44.015Z"
   },
   {
    "duration": 3,
    "start_time": "2025-01-25T12:45:57.110Z"
   },
   {
    "duration": 4,
    "start_time": "2025-01-25T12:45:57.747Z"
   },
   {
    "duration": 3896426,
    "start_time": "2025-01-25T12:45:58.870Z"
   },
   {
    "duration": 115,
    "start_time": "2025-01-25T13:51:44.625Z"
   },
   {
    "duration": 1139,
    "start_time": "2025-01-25T13:51:45.263Z"
   },
   {
    "duration": 44,
    "start_time": "2025-01-25T13:51:46.828Z"
   },
   {
    "duration": 3,
    "start_time": "2025-01-25T13:51:47.391Z"
   },
   {
    "duration": 4,
    "start_time": "2025-01-25T13:51:57.582Z"
   },
   {
    "duration": 455526,
    "start_time": "2025-01-25T13:51:58.120Z"
   },
   {
    "duration": 12,
    "start_time": "2025-01-25T13:59:39.884Z"
   },
   {
    "duration": 5,
    "start_time": "2025-01-25T13:59:45.782Z"
   },
   {
    "duration": 994,
    "start_time": "2025-01-25T14:00:46.768Z"
   },
   {
    "duration": 4,
    "start_time": "2025-01-25T14:01:02.683Z"
   },
   {
    "duration": 27,
    "start_time": "2025-01-25T14:01:07.912Z"
   },
   {
    "duration": 3,
    "start_time": "2025-01-25T14:01:15.695Z"
   },
   {
    "duration": 4,
    "start_time": "2025-01-25T14:01:16.071Z"
   },
   {
    "duration": 4,
    "start_time": "2025-01-25T14:01:17.921Z"
   },
   {
    "duration": 15093,
    "start_time": "2025-01-25T14:01:24.006Z"
   },
   {
    "duration": 26,
    "start_time": "2025-01-25T14:02:47.724Z"
   },
   {
    "duration": 4,
    "start_time": "2025-01-25T14:02:48.822Z"
   },
   {
    "duration": 5,
    "start_time": "2025-01-25T14:02:49.043Z"
   },
   {
    "duration": 4,
    "start_time": "2025-01-25T14:02:50.149Z"
   },
   {
    "duration": 2161,
    "start_time": "2025-01-25T14:02:50.671Z"
   },
   {
    "duration": 26485,
    "start_time": "2025-01-25T14:03:08.031Z"
   },
   {
    "duration": 32,
    "start_time": "2025-01-25T14:05:59.842Z"
   },
   {
    "duration": 963,
    "start_time": "2025-01-25T14:06:13.517Z"
   },
   {
    "duration": 303,
    "start_time": "2025-01-25T14:07:17.992Z"
   },
   {
    "duration": 933,
    "start_time": "2025-01-25T14:08:13.345Z"
   },
   {
    "duration": 1019,
    "start_time": "2025-01-25T14:08:23.800Z"
   },
   {
    "duration": 914,
    "start_time": "2025-01-25T14:08:49.844Z"
   },
   {
    "duration": 2012,
    "start_time": "2025-01-25T14:11:00.778Z"
   },
   {
    "duration": 1331,
    "start_time": "2025-01-25T14:16:22.565Z"
   },
   {
    "duration": 321,
    "start_time": "2025-01-25T14:16:31.759Z"
   },
   {
    "duration": 965,
    "start_time": "2025-01-25T14:16:32.082Z"
   },
   {
    "duration": 7,
    "start_time": "2025-01-25T14:16:33.050Z"
   },
   {
    "duration": 41,
    "start_time": "2025-01-25T14:16:33.059Z"
   },
   {
    "duration": 40,
    "start_time": "2025-01-25T14:16:33.102Z"
   },
   {
    "duration": 28,
    "start_time": "2025-01-25T14:16:33.144Z"
   },
   {
    "duration": 254,
    "start_time": "2025-01-25T14:16:33.173Z"
   },
   {
    "duration": 2647,
    "start_time": "2025-01-25T14:16:38.075Z"
   },
   {
    "duration": 2724,
    "start_time": "2025-01-25T14:16:40.725Z"
   },
   {
    "duration": 1360,
    "start_time": "2025-01-25T14:16:43.451Z"
   },
   {
    "duration": 12,
    "start_time": "2025-01-25T14:16:44.813Z"
   },
   {
    "duration": 36,
    "start_time": "2025-01-25T14:16:44.827Z"
   },
   {
    "duration": 31,
    "start_time": "2025-01-25T14:16:44.865Z"
   },
   {
    "duration": 12,
    "start_time": "2025-01-25T14:16:44.898Z"
   },
   {
    "duration": 276,
    "start_time": "2025-01-25T14:16:44.930Z"
   },
   {
    "duration": 2302,
    "start_time": "2025-01-25T14:16:45.208Z"
   },
   {
    "duration": 954,
    "start_time": "2025-01-25T14:16:47.512Z"
   },
   {
    "duration": 6,
    "start_time": "2025-01-25T14:16:48.468Z"
   },
   {
    "duration": 13672,
    "start_time": "2025-01-25T14:16:48.476Z"
   },
   {
    "duration": 10,
    "start_time": "2025-01-25T14:17:02.150Z"
   },
   {
    "duration": 10,
    "start_time": "2025-01-25T14:17:05.450Z"
   },
   {
    "duration": 70,
    "start_time": "2025-01-25T14:17:07.085Z"
   },
   {
    "duration": 988,
    "start_time": "2025-01-25T14:17:23.146Z"
   },
   {
    "duration": 4,
    "start_time": "2025-01-25T14:17:36.267Z"
   },
   {
    "duration": 4,
    "start_time": "2025-01-25T14:17:48.346Z"
   },
   {
    "duration": 13,
    "start_time": "2025-01-25T14:17:57.942Z"
   },
   {
    "duration": 37,
    "start_time": "2025-01-25T14:18:22.427Z"
   },
   {
    "duration": 2,
    "start_time": "2025-01-25T14:18:33.660Z"
   },
   {
    "duration": 5,
    "start_time": "2025-01-25T14:18:33.922Z"
   },
   {
    "duration": 5,
    "start_time": "2025-01-25T14:18:34.603Z"
   },
   {
    "duration": 335493,
    "start_time": "2025-01-25T14:18:39.101Z"
   },
   {
    "duration": 76,
    "start_time": "2025-01-25T14:24:19.092Z"
   },
   {
    "duration": 30,
    "start_time": "2025-01-25T14:24:26.522Z"
   },
   {
    "duration": 7,
    "start_time": "2025-01-25T14:24:55.841Z"
   },
   {
    "duration": 974,
    "start_time": "2025-01-25T14:25:00.989Z"
   },
   {
    "duration": 4,
    "start_time": "2025-01-25T14:25:03.631Z"
   },
   {
    "duration": 5,
    "start_time": "2025-01-25T14:25:06.178Z"
   },
   {
    "duration": 971,
    "start_time": "2025-01-25T14:28:27.203Z"
   },
   {
    "duration": 5,
    "start_time": "2025-01-25T14:28:30.564Z"
   },
   {
    "duration": 4,
    "start_time": "2025-01-25T14:28:31.476Z"
   },
   {
    "duration": 9,
    "start_time": "2025-01-25T14:28:32.018Z"
   },
   {
    "duration": 24,
    "start_time": "2025-01-25T14:28:36.367Z"
   },
   {
    "duration": 3,
    "start_time": "2025-01-25T14:28:39.295Z"
   },
   {
    "duration": 4,
    "start_time": "2025-01-25T14:28:40.233Z"
   },
   {
    "duration": 5,
    "start_time": "2025-01-25T14:28:40.874Z"
   },
   {
    "duration": 21287,
    "start_time": "2025-01-25T14:28:41.739Z"
   },
   {
    "duration": 957,
    "start_time": "2025-01-25T14:29:21.950Z"
   },
   {
    "duration": 251,
    "start_time": "2025-01-25T14:29:26.646Z"
   },
   {
    "duration": 954,
    "start_time": "2025-01-25T14:29:34.971Z"
   },
   {
    "duration": 1946,
    "start_time": "2025-01-25T14:29:41.911Z"
   },
   {
    "duration": 940,
    "start_time": "2025-01-25T14:29:54.733Z"
   },
   {
    "duration": 1393,
    "start_time": "2025-01-25T14:30:17.939Z"
   },
   {
    "duration": 2637,
    "start_time": "2025-01-25T14:30:25.766Z"
   },
   {
    "duration": 1884,
    "start_time": "2025-01-25T14:30:28.406Z"
   },
   {
    "duration": 984,
    "start_time": "2025-01-25T14:30:30.292Z"
   },
   {
    "duration": 11,
    "start_time": "2025-01-25T14:30:31.281Z"
   },
   {
    "duration": 61,
    "start_time": "2025-01-25T14:30:31.294Z"
   },
   {
    "duration": 53,
    "start_time": "2025-01-25T14:30:31.357Z"
   },
   {
    "duration": 18,
    "start_time": "2025-01-25T14:30:31.412Z"
   },
   {
    "duration": 270,
    "start_time": "2025-01-25T14:30:31.432Z"
   },
   {
    "duration": 2269,
    "start_time": "2025-01-25T14:30:31.953Z"
   },
   {
    "duration": 960,
    "start_time": "2025-01-25T14:30:34.231Z"
   },
   {
    "duration": 7,
    "start_time": "2025-01-25T14:30:35.193Z"
   },
   {
    "duration": 13316,
    "start_time": "2025-01-25T14:30:35.202Z"
   },
   {
    "duration": 19,
    "start_time": "2025-01-25T14:30:48.519Z"
   },
   {
    "duration": 9,
    "start_time": "2025-01-25T14:30:52.295Z"
   },
   {
    "duration": 70,
    "start_time": "2025-01-25T14:30:54.588Z"
   },
   {
    "duration": 995,
    "start_time": "2025-01-25T14:31:03.878Z"
   },
   {
    "duration": 5,
    "start_time": "2025-01-25T14:31:06.323Z"
   },
   {
    "duration": 5,
    "start_time": "2025-01-25T14:31:07.201Z"
   },
   {
    "duration": 166,
    "start_time": "2025-01-25T14:31:19.394Z"
   },
   {
    "duration": 12,
    "start_time": "2025-01-25T14:31:42.003Z"
   },
   {
    "duration": 29,
    "start_time": "2025-01-25T14:31:45.536Z"
   },
   {
    "duration": 9,
    "start_time": "2025-01-25T14:31:53.628Z"
   },
   {
    "duration": 4,
    "start_time": "2025-01-25T14:31:59.854Z"
   },
   {
    "duration": 5,
    "start_time": "2025-01-25T14:32:00.863Z"
   },
   {
    "duration": 12292,
    "start_time": "2025-01-25T14:32:13.691Z"
   },
   {
    "duration": 938,
    "start_time": "2025-01-25T14:32:36.149Z"
   },
   {
    "duration": 236,
    "start_time": "2025-01-25T14:32:39.062Z"
   },
   {
    "duration": 2645,
    "start_time": "2025-01-25T14:32:54.447Z"
   },
   {
    "duration": 2094,
    "start_time": "2025-01-25T14:32:57.094Z"
   },
   {
    "duration": 1033,
    "start_time": "2025-01-25T14:32:59.190Z"
   },
   {
    "duration": 12,
    "start_time": "2025-01-25T14:33:00.226Z"
   },
   {
    "duration": 88,
    "start_time": "2025-01-25T14:33:00.239Z"
   },
   {
    "duration": 51,
    "start_time": "2025-01-25T14:33:00.329Z"
   },
   {
    "duration": 39,
    "start_time": "2025-01-25T14:33:00.382Z"
   },
   {
    "duration": 278,
    "start_time": "2025-01-25T14:33:00.422Z"
   },
   {
    "duration": 2339,
    "start_time": "2025-01-25T14:33:00.702Z"
   },
   {
    "duration": 968,
    "start_time": "2025-01-25T14:33:03.044Z"
   },
   {
    "duration": 15,
    "start_time": "2025-01-25T14:33:04.015Z"
   },
   {
    "duration": 13674,
    "start_time": "2025-01-25T14:33:04.905Z"
   },
   {
    "duration": 11,
    "start_time": "2025-01-25T14:33:18.580Z"
   },
   {
    "duration": 9,
    "start_time": "2025-01-25T14:33:20.860Z"
   },
   {
    "duration": 68,
    "start_time": "2025-01-25T14:33:22.629Z"
   },
   {
    "duration": 1025,
    "start_time": "2025-01-25T14:33:23.871Z"
   },
   {
    "duration": 28,
    "start_time": "2025-01-25T14:33:30.154Z"
   },
   {
    "duration": 3,
    "start_time": "2025-01-25T14:33:36.930Z"
   },
   {
    "duration": 4,
    "start_time": "2025-01-25T14:33:37.531Z"
   },
   {
    "duration": 4,
    "start_time": "2025-01-25T14:33:38.480Z"
   },
   {
    "duration": 31306,
    "start_time": "2025-01-25T14:33:47.612Z"
   },
   {
    "duration": 966,
    "start_time": "2025-01-25T14:34:57.516Z"
   },
   {
    "duration": 269,
    "start_time": "2025-01-25T14:35:06.431Z"
   },
   {
    "duration": 1020,
    "start_time": "2025-01-25T14:35:58.202Z"
   },
   {
    "duration": 958,
    "start_time": "2025-01-25T14:36:02.116Z"
   },
   {
    "duration": 5,
    "start_time": "2025-01-25T14:36:11.714Z"
   },
   {
    "duration": 2686,
    "start_time": "2025-01-25T14:39:02.656Z"
   },
   {
    "duration": 1980,
    "start_time": "2025-01-25T14:39:05.345Z"
   },
   {
    "duration": 988,
    "start_time": "2025-01-25T14:39:07.327Z"
   },
   {
    "duration": 18,
    "start_time": "2025-01-25T14:39:08.318Z"
   },
   {
    "duration": 44,
    "start_time": "2025-01-25T14:39:08.338Z"
   },
   {
    "duration": 48,
    "start_time": "2025-01-25T14:39:08.384Z"
   },
   {
    "duration": 41,
    "start_time": "2025-01-25T14:39:08.434Z"
   },
   {
    "duration": 263,
    "start_time": "2025-01-25T14:39:08.476Z"
   },
   {
    "duration": 2458,
    "start_time": "2025-01-25T14:39:08.741Z"
   },
   {
    "duration": 906,
    "start_time": "2025-01-25T14:39:11.202Z"
   },
   {
    "duration": 6,
    "start_time": "2025-01-25T14:39:12.110Z"
   },
   {
    "duration": 13482,
    "start_time": "2025-01-25T14:39:12.117Z"
   },
   {
    "duration": 10,
    "start_time": "2025-01-25T14:39:25.600Z"
   },
   {
    "duration": 9,
    "start_time": "2025-01-25T14:39:27.646Z"
   },
   {
    "duration": 67,
    "start_time": "2025-01-25T14:39:29.844Z"
   },
   {
    "duration": 172,
    "start_time": "2025-01-25T14:39:54.593Z"
   },
   {
    "duration": 114,
    "start_time": "2025-01-25T14:40:04.157Z"
   },
   {
    "duration": 966,
    "start_time": "2025-01-25T14:40:07.092Z"
   },
   {
    "duration": 4,
    "start_time": "2025-01-25T14:40:08.603Z"
   },
   {
    "duration": 3,
    "start_time": "2025-01-25T14:40:09.456Z"
   },
   {
    "duration": 4,
    "start_time": "2025-01-25T14:40:19.237Z"
   },
   {
    "duration": 5,
    "start_time": "2025-01-25T14:40:21.492Z"
   },
   {
    "duration": 2086029,
    "start_time": "2025-01-25T14:40:59.364Z"
   },
   {
    "duration": 80,
    "start_time": "2025-01-25T15:15:50.612Z"
   },
   {
    "duration": 780,
    "start_time": "2025-01-25T15:15:51.217Z"
   },
   {
    "duration": 3,
    "start_time": "2025-01-25T15:15:52.993Z"
   },
   {
    "duration": 5,
    "start_time": "2025-01-25T15:15:54.031Z"
   },
   {
    "duration": 26,
    "start_time": "2025-01-25T15:16:06.402Z"
   },
   {
    "duration": 3,
    "start_time": "2025-01-25T15:16:09.656Z"
   },
   {
    "duration": 64,
    "start_time": "2025-01-25T15:16:16.546Z"
   },
   {
    "duration": 807,
    "start_time": "2025-01-25T15:16:17.155Z"
   },
   {
    "duration": 4,
    "start_time": "2025-01-25T15:16:18.118Z"
   },
   {
    "duration": 4,
    "start_time": "2025-01-25T15:16:18.773Z"
   },
   {
    "duration": 36,
    "start_time": "2025-01-25T15:16:20.319Z"
   },
   {
    "duration": 2,
    "start_time": "2025-01-25T15:16:22.440Z"
   },
   {
    "duration": 5,
    "start_time": "2025-01-25T15:16:23.802Z"
   },
   {
    "duration": 4,
    "start_time": "2025-01-25T15:16:24.974Z"
   },
   {
    "duration": 25443,
    "start_time": "2025-01-25T15:16:27.606Z"
   },
   {
    "duration": 44965,
    "start_time": "2025-01-25T15:17:57.828Z"
   },
   {
    "duration": 834,
    "start_time": "2025-01-25T15:18:56.669Z"
   },
   {
    "duration": 296,
    "start_time": "2025-01-25T15:18:59.903Z"
   },
   {
    "duration": 5,
    "start_time": "2025-01-25T15:19:07.282Z"
   },
   {
    "duration": 861,
    "start_time": "2025-01-25T15:19:09.618Z"
   },
   {
    "duration": 580,
    "start_time": "2025-01-25T15:19:16.509Z"
   },
   {
    "duration": 3,
    "start_time": "2025-01-25T15:20:06.342Z"
   },
   {
    "duration": 15,
    "start_time": "2025-01-25T15:20:14.645Z"
   },
   {
    "duration": 160,
    "start_time": "2025-01-25T15:20:26.802Z"
   },
   {
    "duration": 1594,
    "start_time": "2025-01-25T15:21:18.148Z"
   },
   {
    "duration": 3,
    "start_time": "2025-01-25T15:21:32.425Z"
   },
   {
    "duration": 176,
    "start_time": "2025-01-25T15:21:32.760Z"
   },
   {
    "duration": 2672,
    "start_time": "2025-01-25T15:21:56.787Z"
   },
   {
    "duration": 2039,
    "start_time": "2025-01-25T15:21:59.462Z"
   },
   {
    "duration": 1006,
    "start_time": "2025-01-25T15:22:01.503Z"
   },
   {
    "duration": 19,
    "start_time": "2025-01-25T15:22:02.512Z"
   },
   {
    "duration": 81,
    "start_time": "2025-01-25T15:22:02.533Z"
   },
   {
    "duration": 79,
    "start_time": "2025-01-25T15:22:02.615Z"
   },
   {
    "duration": 21,
    "start_time": "2025-01-25T15:22:02.696Z"
   },
   {
    "duration": 309,
    "start_time": "2025-01-25T15:22:02.718Z"
   },
   {
    "duration": 2425,
    "start_time": "2025-01-25T15:22:03.030Z"
   },
   {
    "duration": 1010,
    "start_time": "2025-01-25T15:22:05.457Z"
   },
   {
    "duration": 7,
    "start_time": "2025-01-25T15:22:06.469Z"
   },
   {
    "duration": 13554,
    "start_time": "2025-01-25T15:22:06.478Z"
   },
   {
    "duration": 10,
    "start_time": "2025-01-25T15:22:20.033Z"
   },
   {
    "duration": 10,
    "start_time": "2025-01-25T15:22:20.890Z"
   },
   {
    "duration": 68,
    "start_time": "2025-01-25T15:22:22.342Z"
   },
   {
    "duration": 854,
    "start_time": "2025-01-25T15:22:24.033Z"
   },
   {
    "duration": 5,
    "start_time": "2025-01-25T15:22:25.126Z"
   },
   {
    "duration": 4,
    "start_time": "2025-01-25T15:22:25.727Z"
   },
   {
    "duration": 3,
    "start_time": "2025-01-25T15:22:29.381Z"
   },
   {
    "duration": 4,
    "start_time": "2025-01-25T15:22:29.760Z"
   },
   {
    "duration": 25512,
    "start_time": "2025-01-25T15:23:02.792Z"
   },
   {
    "duration": 844,
    "start_time": "2025-01-25T15:23:43.733Z"
   },
   {
    "duration": 275,
    "start_time": "2025-01-25T15:23:46.121Z"
   },
   {
    "duration": 5,
    "start_time": "2025-01-25T15:23:55.394Z"
   },
   {
    "duration": 1600,
    "start_time": "2025-01-25T15:24:40.230Z"
   },
   {
    "duration": 2635,
    "start_time": "2025-01-25T15:24:56.064Z"
   },
   {
    "duration": 2417,
    "start_time": "2025-01-25T15:24:58.702Z"
   },
   {
    "duration": 986,
    "start_time": "2025-01-25T15:25:01.122Z"
   },
   {
    "duration": 21,
    "start_time": "2025-01-25T15:25:02.110Z"
   },
   {
    "duration": 71,
    "start_time": "2025-01-25T15:25:02.133Z"
   },
   {
    "duration": 101,
    "start_time": "2025-01-25T15:25:02.205Z"
   },
   {
    "duration": 72,
    "start_time": "2025-01-25T15:25:02.308Z"
   },
   {
    "duration": 280,
    "start_time": "2025-01-25T15:25:02.382Z"
   },
   {
    "duration": 2440,
    "start_time": "2025-01-25T15:25:02.663Z"
   },
   {
    "duration": 1002,
    "start_time": "2025-01-25T15:25:05.105Z"
   },
   {
    "duration": 6,
    "start_time": "2025-01-25T15:25:06.110Z"
   },
   {
    "duration": 14622,
    "start_time": "2025-01-25T15:25:06.825Z"
   },
   {
    "duration": 10,
    "start_time": "2025-01-25T15:25:21.448Z"
   },
   {
    "duration": 18,
    "start_time": "2025-01-25T15:25:21.460Z"
   },
   {
    "duration": 68,
    "start_time": "2025-01-25T15:25:24.094Z"
   },
   {
    "duration": 844,
    "start_time": "2025-01-25T15:25:25.887Z"
   },
   {
    "duration": 3,
    "start_time": "2025-01-25T15:25:26.734Z"
   },
   {
    "duration": 4,
    "start_time": "2025-01-25T15:25:27.119Z"
   },
   {
    "duration": 10,
    "start_time": "2025-01-25T15:25:34.865Z"
   },
   {
    "duration": 3,
    "start_time": "2025-01-25T15:25:37.096Z"
   },
   {
    "duration": 4,
    "start_time": "2025-01-25T15:25:38.143Z"
   },
   {
    "duration": 4,
    "start_time": "2025-01-25T15:25:38.641Z"
   },
   {
    "duration": 19300,
    "start_time": "2025-01-25T15:26:01.940Z"
   },
   {
    "duration": 394,
    "start_time": "2025-01-25T15:27:16.245Z"
   },
   {
    "duration": 224,
    "start_time": "2025-01-25T15:27:27.869Z"
   },
   {
    "duration": 405,
    "start_time": "2025-01-25T15:28:14.009Z"
   },
   {
    "duration": 336,
    "start_time": "2025-01-25T15:28:27.811Z"
   },
   {
    "duration": 3,
    "start_time": "2025-01-25T15:28:57.940Z"
   },
   {
    "duration": 166,
    "start_time": "2025-01-25T15:29:09.591Z"
   },
   {
    "duration": 2662,
    "start_time": "2025-01-25T15:32:09.218Z"
   },
   {
    "duration": 1888,
    "start_time": "2025-01-25T15:32:11.882Z"
   },
   {
    "duration": 1031,
    "start_time": "2025-01-25T15:32:13.772Z"
   },
   {
    "duration": 12,
    "start_time": "2025-01-25T15:32:14.805Z"
   },
   {
    "duration": 45,
    "start_time": "2025-01-25T15:32:14.819Z"
   },
   {
    "duration": 31,
    "start_time": "2025-01-25T15:32:14.867Z"
   },
   {
    "duration": 12,
    "start_time": "2025-01-25T15:32:15.557Z"
   },
   {
    "duration": 262,
    "start_time": "2025-01-25T15:32:24.398Z"
   },
   {
    "duration": 2706,
    "start_time": "2025-01-25T15:33:11.403Z"
   },
   {
    "duration": 34,
    "start_time": "2025-01-25T15:33:25.490Z"
   },
   {
    "duration": 2413,
    "start_time": "2025-01-25T15:33:48.858Z"
   },
   {
    "duration": 972,
    "start_time": "2025-01-25T15:33:51.273Z"
   },
   {
    "duration": 7,
    "start_time": "2025-01-25T15:33:52.247Z"
   },
   {
    "duration": 12257,
    "start_time": "2025-01-25T15:33:57.003Z"
   },
   {
    "duration": 12,
    "start_time": "2025-01-25T15:34:09.262Z"
   },
   {
    "duration": 7,
    "start_time": "2025-01-25T15:35:24.704Z"
   },
   {
    "duration": 10,
    "start_time": "2025-01-25T15:35:43.020Z"
   },
   {
    "duration": 71,
    "start_time": "2025-01-25T15:36:49.819Z"
   },
   {
    "duration": 1127,
    "start_time": "2025-01-25T15:36:58.200Z"
   },
   {
    "duration": 4,
    "start_time": "2025-01-25T15:37:01.294Z"
   },
   {
    "duration": 4,
    "start_time": "2025-01-25T15:37:02.487Z"
   },
   {
    "duration": 13,
    "start_time": "2025-01-25T15:37:11.589Z"
   },
   {
    "duration": 3,
    "start_time": "2025-01-25T15:37:14.330Z"
   },
   {
    "duration": 5,
    "start_time": "2025-01-25T15:37:14.792Z"
   },
   {
    "duration": 4,
    "start_time": "2025-01-25T15:37:16.425Z"
   },
   {
    "duration": 270183,
    "start_time": "2025-01-25T15:37:22.847Z"
   },
   {
    "duration": 7,
    "start_time": "2025-01-25T15:43:02.617Z"
   },
   {
    "duration": 1020,
    "start_time": "2025-01-25T15:43:03.266Z"
   },
   {
    "duration": 7,
    "start_time": "2025-01-25T15:43:04.288Z"
   },
   {
    "duration": 35,
    "start_time": "2025-01-25T15:43:04.367Z"
   },
   {
    "duration": 31,
    "start_time": "2025-01-25T15:43:04.801Z"
   },
   {
    "duration": 12,
    "start_time": "2025-01-25T15:43:05.041Z"
   },
   {
    "duration": 266,
    "start_time": "2025-01-25T15:43:05.273Z"
   },
   {
    "duration": 2790,
    "start_time": "2025-01-25T15:43:05.541Z"
   },
   {
    "duration": 37,
    "start_time": "2025-01-25T15:43:08.927Z"
   },
   {
    "duration": 2545,
    "start_time": "2025-01-25T15:43:17.421Z"
   },
   {
    "duration": 1323,
    "start_time": "2025-01-25T15:43:19.968Z"
   },
   {
    "duration": 11,
    "start_time": "2025-01-25T15:43:21.293Z"
   },
   {
    "duration": 48,
    "start_time": "2025-01-25T15:43:21.306Z"
   },
   {
    "duration": 31,
    "start_time": "2025-01-25T15:43:21.355Z"
   },
   {
    "duration": 13,
    "start_time": "2025-01-25T15:43:21.388Z"
   },
   {
    "duration": 289,
    "start_time": "2025-01-25T15:43:21.403Z"
   },
   {
    "duration": 2756,
    "start_time": "2025-01-25T15:43:21.694Z"
   },
   {
    "duration": 33,
    "start_time": "2025-01-25T15:43:24.452Z"
   },
   {
    "duration": 2454,
    "start_time": "2025-01-25T15:43:24.488Z"
   },
   {
    "duration": 1015,
    "start_time": "2025-01-25T15:43:26.944Z"
   },
   {
    "duration": 6,
    "start_time": "2025-01-25T15:43:27.961Z"
   },
   {
    "duration": 6,
    "start_time": "2025-01-25T15:44:35.519Z"
   },
   {
    "duration": 12329,
    "start_time": "2025-01-25T15:44:36.784Z"
   },
   {
    "duration": 14,
    "start_time": "2025-01-25T15:44:58.246Z"
   },
   {
    "duration": 9,
    "start_time": "2025-01-25T15:45:00.501Z"
   },
   {
    "duration": 73,
    "start_time": "2025-01-25T15:45:02.126Z"
   },
   {
    "duration": 81,
    "start_time": "2025-01-25T15:45:43.375Z"
   },
   {
    "duration": 21,
    "start_time": "2025-01-25T15:46:02.477Z"
   },
   {
    "duration": 2800,
    "start_time": "2025-01-25T15:47:06.226Z"
   },
   {
    "duration": 1442,
    "start_time": "2025-01-25T15:47:09.029Z"
   },
   {
    "duration": 13,
    "start_time": "2025-01-25T15:47:10.472Z"
   },
   {
    "duration": 56,
    "start_time": "2025-01-25T15:47:10.487Z"
   },
   {
    "duration": 31,
    "start_time": "2025-01-25T15:47:10.545Z"
   },
   {
    "duration": 22,
    "start_time": "2025-01-25T15:47:10.578Z"
   },
   {
    "duration": 290,
    "start_time": "2025-01-25T15:47:10.601Z"
   },
   {
    "duration": 42,
    "start_time": "2025-01-25T15:47:10.893Z"
   },
   {
    "duration": 2431,
    "start_time": "2025-01-25T15:47:13.220Z"
   },
   {
    "duration": 978,
    "start_time": "2025-01-25T15:47:15.653Z"
   },
   {
    "duration": 7,
    "start_time": "2025-01-25T15:47:16.633Z"
   },
   {
    "duration": 13549,
    "start_time": "2025-01-25T15:47:16.642Z"
   },
   {
    "duration": 10,
    "start_time": "2025-01-25T15:47:30.193Z"
   },
   {
    "duration": 35,
    "start_time": "2025-01-25T15:47:33.558Z"
   },
   {
    "duration": 70,
    "start_time": "2025-01-25T15:51:08.835Z"
   },
   {
    "duration": 1157,
    "start_time": "2025-01-25T15:51:21.894Z"
   },
   {
    "duration": 73,
    "start_time": "2025-01-25T15:55:01.885Z"
   },
   {
    "duration": 66,
    "start_time": "2025-01-25T15:55:08.201Z"
   },
   {
    "duration": 24,
    "start_time": "2025-01-25T15:57:16.595Z"
   },
   {
    "duration": 1219,
    "start_time": "2025-01-25T16:10:08.261Z"
   },
   {
    "duration": 3,
    "start_time": "2025-01-25T16:10:25.680Z"
   },
   {
    "duration": 5,
    "start_time": "2025-01-25T16:10:46.844Z"
   },
   {
    "duration": 94671,
    "start_time": "2025-01-25T16:11:09.591Z"
   },
   {
    "duration": 43,
    "start_time": "2025-01-25T16:13:29.995Z"
   },
   {
    "duration": 1347,
    "start_time": "2025-01-25T16:13:49.075Z"
   },
   {
    "duration": 12,
    "start_time": "2025-01-25T16:14:20.871Z"
   },
   {
    "duration": 3,
    "start_time": "2025-01-25T16:14:23.281Z"
   },
   {
    "duration": 5,
    "start_time": "2025-01-25T16:14:29.619Z"
   },
   {
    "duration": 5,
    "start_time": "2025-01-25T16:14:49.467Z"
   },
   {
    "duration": 4,
    "start_time": "2025-01-25T16:15:01.569Z"
   },
   {
    "duration": 900047,
    "start_time": "2025-01-25T16:15:21.155Z"
   },
   {
    "duration": 1811,
    "start_time": "2025-01-25T16:35:13.362Z"
   },
   {
    "duration": 1008,
    "start_time": "2025-01-25T16:35:15.175Z"
   },
   {
    "duration": 11,
    "start_time": "2025-01-25T16:35:16.184Z"
   },
   {
    "duration": 44,
    "start_time": "2025-01-25T16:35:16.198Z"
   },
   {
    "duration": 31,
    "start_time": "2025-01-25T16:35:16.244Z"
   },
   {
    "duration": 14,
    "start_time": "2025-01-25T16:35:16.276Z"
   },
   {
    "duration": 291,
    "start_time": "2025-01-25T16:35:16.291Z"
   },
   {
    "duration": 33,
    "start_time": "2025-01-25T16:35:16.583Z"
   },
   {
    "duration": 2445,
    "start_time": "2025-01-25T16:35:16.630Z"
   },
   {
    "duration": 984,
    "start_time": "2025-01-25T16:35:19.077Z"
   },
   {
    "duration": 7,
    "start_time": "2025-01-25T16:35:20.063Z"
   },
   {
    "duration": 13580,
    "start_time": "2025-01-25T16:35:20.072Z"
   },
   {
    "duration": 10,
    "start_time": "2025-01-25T16:35:33.655Z"
   },
   {
    "duration": 10,
    "start_time": "2025-01-25T16:35:49.102Z"
   },
   {
    "duration": 62,
    "start_time": "2025-01-25T16:36:08.956Z"
   },
   {
    "duration": 20,
    "start_time": "2025-01-25T16:37:04.205Z"
   },
   {
    "duration": 52,
    "start_time": "2025-01-25T16:39:42.776Z"
   },
   {
    "duration": 2866,
    "start_time": "2025-01-25T16:39:46.824Z"
   },
   {
    "duration": 1315,
    "start_time": "2025-01-25T16:39:49.692Z"
   },
   {
    "duration": 13,
    "start_time": "2025-01-25T16:39:51.009Z"
   },
   {
    "duration": 55,
    "start_time": "2025-01-25T16:39:51.024Z"
   },
   {
    "duration": 30,
    "start_time": "2025-01-25T16:39:51.081Z"
   },
   {
    "duration": 30,
    "start_time": "2025-01-25T16:39:51.113Z"
   },
   {
    "duration": 291,
    "start_time": "2025-01-25T16:39:51.145Z"
   },
   {
    "duration": 34,
    "start_time": "2025-01-25T16:39:51.437Z"
   },
   {
    "duration": 2459,
    "start_time": "2025-01-25T16:39:51.473Z"
   },
   {
    "duration": 1012,
    "start_time": "2025-01-25T16:39:53.935Z"
   },
   {
    "duration": 6,
    "start_time": "2025-01-25T16:39:54.950Z"
   },
   {
    "duration": 13900,
    "start_time": "2025-01-25T16:39:54.957Z"
   },
   {
    "duration": 10,
    "start_time": "2025-01-25T16:40:08.858Z"
   },
   {
    "duration": 9,
    "start_time": "2025-01-25T16:40:08.870Z"
   },
   {
    "duration": 62,
    "start_time": "2025-01-25T16:40:11.036Z"
   },
   {
    "duration": 296,
    "start_time": "2025-01-25T16:40:51.048Z"
   },
   {
    "duration": 26,
    "start_time": "2025-01-25T16:41:36.124Z"
   },
   {
    "duration": 1464,
    "start_time": "2025-01-25T16:41:42.472Z"
   },
   {
    "duration": 133,
    "start_time": "2025-01-25T16:41:58.293Z"
   },
   {
    "duration": 3,
    "start_time": "2025-01-25T16:42:02.552Z"
   },
   {
    "duration": 5,
    "start_time": "2025-01-25T16:42:07.887Z"
   },
   {
    "duration": 12,
    "start_time": "2025-01-25T16:42:32.889Z"
   },
   {
    "duration": 11,
    "start_time": "2025-01-25T16:42:47.179Z"
   },
   {
    "duration": 44,
    "start_time": "2025-01-25T16:42:50.908Z"
   },
   {
    "duration": 17,
    "start_time": "2025-01-25T16:42:51.387Z"
   },
   {
    "duration": 1464,
    "start_time": "2025-01-25T16:42:51.906Z"
   },
   {
    "duration": 114,
    "start_time": "2025-01-25T16:42:53.372Z"
   },
   {
    "duration": 4,
    "start_time": "2025-01-25T16:42:54.723Z"
   },
   {
    "duration": 5,
    "start_time": "2025-01-25T16:42:54.983Z"
   },
   {
    "duration": 2327,
    "start_time": "2025-01-25T17:04:57.671Z"
   },
   {
    "duration": 1009,
    "start_time": "2025-01-25T17:04:59.999Z"
   },
   {
    "duration": 21,
    "start_time": "2025-01-25T17:05:01.010Z"
   },
   {
    "duration": 78,
    "start_time": "2025-01-25T17:05:01.033Z"
   },
   {
    "duration": 30,
    "start_time": "2025-01-25T17:05:01.112Z"
   },
   {
    "duration": 49,
    "start_time": "2025-01-25T17:05:01.144Z"
   },
   {
    "duration": 282,
    "start_time": "2025-01-25T17:05:01.195Z"
   },
   {
    "duration": 34,
    "start_time": "2025-01-25T17:05:01.478Z"
   },
   {
    "duration": 144,
    "start_time": "2025-01-25T17:05:06.161Z"
   },
   {
    "duration": 2427,
    "start_time": "2025-01-25T17:05:13.617Z"
   },
   {
    "duration": 1017,
    "start_time": "2025-01-25T17:05:16.473Z"
   },
   {
    "duration": 7,
    "start_time": "2025-01-25T17:05:17.493Z"
   },
   {
    "duration": 13485,
    "start_time": "2025-01-25T17:05:17.501Z"
   },
   {
    "duration": 10,
    "start_time": "2025-01-25T17:05:30.988Z"
   },
   {
    "duration": 9,
    "start_time": "2025-01-25T17:05:33.375Z"
   },
   {
    "duration": 18,
    "start_time": "2025-01-25T17:06:50.135Z"
   },
   {
    "duration": 78,
    "start_time": "2025-01-25T17:06:52.994Z"
   },
   {
    "duration": 17,
    "start_time": "2025-01-25T17:07:18.524Z"
   },
   {
    "duration": 27,
    "start_time": "2025-01-25T17:08:31.269Z"
   },
   {
    "duration": 23,
    "start_time": "2025-01-25T17:09:23.851Z"
   },
   {
    "duration": 17,
    "start_time": "2025-01-25T17:10:26.825Z"
   },
   {
    "duration": 1127,
    "start_time": "2025-01-25T17:10:34.567Z"
   },
   {
    "duration": 2740,
    "start_time": "2025-01-25T17:11:11.426Z"
   },
   {
    "duration": 1362,
    "start_time": "2025-01-25T17:11:14.168Z"
   },
   {
    "duration": 12,
    "start_time": "2025-01-25T17:11:15.532Z"
   },
   {
    "duration": 70,
    "start_time": "2025-01-25T17:11:15.546Z"
   },
   {
    "duration": 31,
    "start_time": "2025-01-25T17:11:15.618Z"
   },
   {
    "duration": 33,
    "start_time": "2025-01-25T17:11:15.651Z"
   },
   {
    "duration": 292,
    "start_time": "2025-01-25T17:11:15.685Z"
   },
   {
    "duration": 35,
    "start_time": "2025-01-25T17:11:15.979Z"
   },
   {
    "duration": 2476,
    "start_time": "2025-01-25T17:11:16.016Z"
   },
   {
    "duration": 1044,
    "start_time": "2025-01-25T17:11:18.494Z"
   },
   {
    "duration": 6,
    "start_time": "2025-01-25T17:11:19.541Z"
   },
   {
    "duration": 13446,
    "start_time": "2025-01-25T17:11:19.549Z"
   },
   {
    "duration": 10,
    "start_time": "2025-01-25T17:11:32.997Z"
   },
   {
    "duration": 10,
    "start_time": "2025-01-25T17:11:33.915Z"
   },
   {
    "duration": 82,
    "start_time": "2025-01-25T17:11:40.488Z"
   },
   {
    "duration": 14,
    "start_time": "2025-01-25T17:11:44.420Z"
   },
   {
    "duration": 1101,
    "start_time": "2025-01-25T17:11:49.289Z"
   },
   {
    "duration": 5629,
    "start_time": "2025-01-25T17:12:11.026Z"
   },
   {
    "duration": 1313,
    "start_time": "2025-01-25T17:12:16.657Z"
   },
   {
    "duration": 12,
    "start_time": "2025-01-25T17:12:17.972Z"
   },
   {
    "duration": 35,
    "start_time": "2025-01-25T17:12:17.985Z"
   },
   {
    "duration": 31,
    "start_time": "2025-01-25T17:12:18.029Z"
   },
   {
    "duration": 14,
    "start_time": "2025-01-25T17:12:18.062Z"
   },
   {
    "duration": 308,
    "start_time": "2025-01-25T17:12:18.078Z"
   },
   {
    "duration": 48,
    "start_time": "2025-01-25T17:12:18.388Z"
   },
   {
    "duration": 2437,
    "start_time": "2025-01-25T17:12:18.438Z"
   },
   {
    "duration": 1056,
    "start_time": "2025-01-25T17:12:20.877Z"
   },
   {
    "duration": 6,
    "start_time": "2025-01-25T17:12:21.935Z"
   },
   {
    "duration": 13405,
    "start_time": "2025-01-25T17:12:21.942Z"
   },
   {
    "duration": 10,
    "start_time": "2025-01-25T17:12:35.348Z"
   },
   {
    "duration": 22,
    "start_time": "2025-01-25T17:12:35.360Z"
   },
   {
    "duration": 77,
    "start_time": "2025-01-25T17:12:36.247Z"
   },
   {
    "duration": 20,
    "start_time": "2025-01-25T17:12:36.613Z"
   },
   {
    "duration": 1098,
    "start_time": "2025-01-25T17:12:37.885Z"
   },
   {
    "duration": 52,
    "start_time": "2025-01-25T17:12:43.348Z"
   },
   {
    "duration": 3430,
    "start_time": "2025-01-25T17:13:00.706Z"
   },
   {
    "duration": 1364,
    "start_time": "2025-01-25T17:13:04.138Z"
   },
   {
    "duration": 12,
    "start_time": "2025-01-25T17:13:05.504Z"
   },
   {
    "duration": 67,
    "start_time": "2025-01-25T17:13:05.519Z"
   },
   {
    "duration": 30,
    "start_time": "2025-01-25T17:13:05.588Z"
   },
   {
    "duration": 27,
    "start_time": "2025-01-25T17:13:05.620Z"
   },
   {
    "duration": 272,
    "start_time": "2025-01-25T17:13:05.648Z"
   },
   {
    "duration": 35,
    "start_time": "2025-01-25T17:13:05.922Z"
   },
   {
    "duration": 2434,
    "start_time": "2025-01-25T17:13:05.959Z"
   },
   {
    "duration": 1056,
    "start_time": "2025-01-25T17:13:08.397Z"
   },
   {
    "duration": 6,
    "start_time": "2025-01-25T17:13:09.455Z"
   },
   {
    "duration": 13837,
    "start_time": "2025-01-25T17:13:09.463Z"
   },
   {
    "duration": 10,
    "start_time": "2025-01-25T17:13:23.301Z"
   },
   {
    "duration": 25,
    "start_time": "2025-01-25T17:13:23.313Z"
   },
   {
    "duration": 91,
    "start_time": "2025-01-25T17:13:23.341Z"
   },
   {
    "duration": 13,
    "start_time": "2025-01-25T17:13:23.434Z"
   },
   {
    "duration": 1073,
    "start_time": "2025-01-25T17:13:25.280Z"
   },
   {
    "duration": 227,
    "start_time": "2025-01-25T17:13:26.800Z"
   },
   {
    "duration": 106,
    "start_time": "2025-01-25T17:13:27.595Z"
   },
   {
    "duration": 3,
    "start_time": "2025-01-25T17:13:34.501Z"
   },
   {
    "duration": 5,
    "start_time": "2025-01-25T17:13:34.824Z"
   },
   {
    "duration": 5037,
    "start_time": "2025-01-25T17:13:47.579Z"
   },
   {
    "duration": 29213,
    "start_time": "2025-01-25T17:14:08.126Z"
   },
   {
    "duration": 3,
    "start_time": "2025-01-25T17:15:56.455Z"
   },
   {
    "duration": 8659,
    "start_time": "2025-01-25T17:16:09.497Z"
   },
   {
    "duration": 7,
    "start_time": "2025-01-25T17:17:12.822Z"
   },
   {
    "duration": 12,
    "start_time": "2025-01-25T17:17:17.931Z"
   },
   {
    "duration": 8763,
    "start_time": "2025-01-25T17:17:28.496Z"
   },
   {
    "duration": 12,
    "start_time": "2025-01-25T17:20:16.590Z"
   },
   {
    "duration": 244,
    "start_time": "2025-01-25T17:20:20.699Z"
   },
   {
    "duration": 11,
    "start_time": "2025-01-25T17:20:48.473Z"
   },
   {
    "duration": 3,
    "start_time": "2025-01-25T17:21:34.099Z"
   },
   {
    "duration": 3,
    "start_time": "2025-01-25T17:21:40.575Z"
   },
   {
    "duration": 116393,
    "start_time": "2025-01-25T17:22:20.575Z"
   },
   {
    "duration": 710,
    "start_time": "2025-01-25T17:25:20.851Z"
   },
   {
    "duration": 20,
    "start_time": "2025-01-25T17:25:42.735Z"
   },
   {
    "duration": 4,
    "start_time": "2025-01-25T17:26:15.273Z"
   },
   {
    "duration": 7,
    "start_time": "2025-01-25T17:26:39.213Z"
   },
   {
    "duration": 311739,
    "start_time": "2025-01-25T17:26:53.609Z"
   },
   {
    "duration": 7,
    "start_time": "2025-01-25T17:32:09.396Z"
   },
   {
    "duration": 6076,
    "start_time": "2025-01-25T17:32:16.872Z"
   },
   {
    "duration": 1036,
    "start_time": "2025-01-25T17:32:25.906Z"
   },
   {
    "duration": 12,
    "start_time": "2025-01-25T17:32:26.944Z"
   },
   {
    "duration": 44,
    "start_time": "2025-01-25T17:32:26.957Z"
   },
   {
    "duration": 39,
    "start_time": "2025-01-25T17:32:27.004Z"
   },
   {
    "duration": 20,
    "start_time": "2025-01-25T17:32:27.045Z"
   },
   {
    "duration": 280,
    "start_time": "2025-01-25T17:32:27.066Z"
   },
   {
    "duration": 34,
    "start_time": "2025-01-25T17:32:27.348Z"
   },
   {
    "duration": 2497,
    "start_time": "2025-01-25T17:32:28.294Z"
   },
   {
    "duration": 1048,
    "start_time": "2025-01-25T17:32:30.793Z"
   },
   {
    "duration": 6,
    "start_time": "2025-01-25T17:32:31.844Z"
   },
   {
    "duration": 14144,
    "start_time": "2025-01-25T17:32:31.852Z"
   },
   {
    "duration": 10,
    "start_time": "2025-01-25T17:32:45.997Z"
   },
   {
    "duration": 10,
    "start_time": "2025-01-25T17:32:51.116Z"
   },
   {
    "duration": 82,
    "start_time": "2025-01-25T17:32:51.763Z"
   },
   {
    "duration": 14,
    "start_time": "2025-01-25T17:32:52.507Z"
   },
   {
    "duration": 1104,
    "start_time": "2025-01-25T17:32:56.913Z"
   },
   {
    "duration": 247,
    "start_time": "2025-01-25T17:32:58.018Z"
   },
   {
    "duration": 108,
    "start_time": "2025-01-25T17:32:58.724Z"
   },
   {
    "duration": 3,
    "start_time": "2025-01-25T17:33:03.443Z"
   },
   {
    "duration": 3,
    "start_time": "2025-01-25T17:33:16.307Z"
   },
   {
    "duration": 3,
    "start_time": "2025-01-25T17:33:39.334Z"
   },
   {
    "duration": 7,
    "start_time": "2025-01-25T17:33:41.728Z"
   },
   {
    "duration": 10780,
    "start_time": "2025-01-25T17:33:50.806Z"
   },
   {
    "duration": 273,
    "start_time": "2025-01-25T17:34:08.349Z"
   },
   {
    "duration": 12,
    "start_time": "2025-01-25T17:34:12.825Z"
   },
   {
    "duration": 4,
    "start_time": "2025-01-25T17:34:26.638Z"
   },
   {
    "duration": 94242,
    "start_time": "2025-01-25T17:34:27.500Z"
   },
   {
    "duration": 29,
    "start_time": "2025-01-25T17:36:28.223Z"
   },
   {
    "duration": 683,
    "start_time": "2025-01-25T17:36:37.394Z"
   },
   {
    "duration": 21,
    "start_time": "2025-01-25T17:36:39.220Z"
   },
   {
    "duration": 3,
    "start_time": "2025-01-25T17:36:42.108Z"
   },
   {
    "duration": 1846,
    "start_time": "2025-01-25T17:45:56.306Z"
   },
   {
    "duration": 1385,
    "start_time": "2025-01-25T17:45:58.154Z"
   },
   {
    "duration": 12,
    "start_time": "2025-01-25T17:45:59.542Z"
   },
   {
    "duration": 46,
    "start_time": "2025-01-25T17:45:59.556Z"
   },
   {
    "duration": 35,
    "start_time": "2025-01-25T17:45:59.604Z"
   },
   {
    "duration": 13,
    "start_time": "2025-01-25T17:45:59.641Z"
   },
   {
    "duration": 287,
    "start_time": "2025-01-25T17:45:59.656Z"
   },
   {
    "duration": 34,
    "start_time": "2025-01-25T17:45:59.946Z"
   },
   {
    "duration": 2427,
    "start_time": "2025-01-25T17:45:59.982Z"
   },
   {
    "duration": 1044,
    "start_time": "2025-01-25T17:46:02.412Z"
   },
   {
    "duration": 6,
    "start_time": "2025-01-25T17:46:03.459Z"
   },
   {
    "duration": 13494,
    "start_time": "2025-01-25T17:46:03.466Z"
   },
   {
    "duration": 10,
    "start_time": "2025-01-25T17:46:16.962Z"
   },
   {
    "duration": 11,
    "start_time": "2025-01-25T17:46:18.676Z"
   },
   {
    "duration": 83,
    "start_time": "2025-01-25T17:46:20.127Z"
   },
   {
    "duration": 13,
    "start_time": "2025-01-25T17:46:29.520Z"
   },
   {
    "duration": 898,
    "start_time": "2025-01-25T17:46:52.685Z"
   },
   {
    "duration": 170,
    "start_time": "2025-01-25T17:47:03.383Z"
   },
   {
    "duration": 77,
    "start_time": "2025-01-25T17:47:17.118Z"
   },
   {
    "duration": 3,
    "start_time": "2025-01-25T17:47:18.161Z"
   },
   {
    "duration": 4,
    "start_time": "2025-01-25T17:47:18.616Z"
   },
   {
    "duration": 3,
    "start_time": "2025-01-25T17:47:20.140Z"
   },
   {
    "duration": 8721,
    "start_time": "2025-01-25T17:47:20.451Z"
   },
   {
    "duration": 221,
    "start_time": "2025-01-25T17:47:32.270Z"
   },
   {
    "duration": 12,
    "start_time": "2025-01-25T17:47:33.219Z"
   },
   {
    "duration": 3,
    "start_time": "2025-01-25T17:47:34.463Z"
   },
   {
    "duration": 85523,
    "start_time": "2025-01-25T17:47:36.150Z"
   },
   {
    "duration": 706,
    "start_time": "2025-01-25T17:49:19.265Z"
   },
   {
    "duration": 21,
    "start_time": "2025-01-25T17:49:22.510Z"
   },
   {
    "duration": 2385,
    "start_time": "2025-01-25T17:49:38.278Z"
   },
   {
    "duration": 1002,
    "start_time": "2025-01-25T17:49:40.665Z"
   },
   {
    "duration": 13,
    "start_time": "2025-01-25T17:49:41.668Z"
   },
   {
    "duration": 53,
    "start_time": "2025-01-25T17:49:41.683Z"
   },
   {
    "duration": 30,
    "start_time": "2025-01-25T17:49:41.738Z"
   },
   {
    "duration": 12,
    "start_time": "2025-01-25T17:49:41.770Z"
   },
   {
    "duration": 293,
    "start_time": "2025-01-25T17:49:41.783Z"
   },
   {
    "duration": 36,
    "start_time": "2025-01-25T17:49:42.078Z"
   },
   {
    "duration": 2438,
    "start_time": "2025-01-25T17:49:42.129Z"
   },
   {
    "duration": 994,
    "start_time": "2025-01-25T17:49:44.570Z"
   },
   {
    "duration": 6,
    "start_time": "2025-01-25T17:49:45.566Z"
   },
   {
    "duration": 14302,
    "start_time": "2025-01-25T17:49:45.573Z"
   },
   {
    "duration": 10,
    "start_time": "2025-01-25T17:49:59.877Z"
   },
   {
    "duration": 10,
    "start_time": "2025-01-25T17:50:00.831Z"
   },
   {
    "duration": 85,
    "start_time": "2025-01-25T17:50:07.243Z"
   },
   {
    "duration": 43,
    "start_time": "2025-01-25T17:50:30.582Z"
   },
   {
    "duration": 928,
    "start_time": "2025-01-25T17:50:34.340Z"
   },
   {
    "duration": 177,
    "start_time": "2025-01-25T17:50:39.064Z"
   },
   {
    "duration": 84,
    "start_time": "2025-01-25T17:50:40.020Z"
   },
   {
    "duration": 3,
    "start_time": "2025-01-25T17:50:42.150Z"
   },
   {
    "duration": 4,
    "start_time": "2025-01-25T17:50:46.022Z"
   },
   {
    "duration": 12131,
    "start_time": "2025-01-25T17:50:46.772Z"
   },
   {
    "duration": 238,
    "start_time": "2025-01-25T17:51:35.805Z"
   },
   {
    "duration": 12,
    "start_time": "2025-01-25T17:51:37.020Z"
   },
   {
    "duration": 4,
    "start_time": "2025-01-25T17:51:37.737Z"
   },
   {
    "duration": 85428,
    "start_time": "2025-01-25T17:51:39.043Z"
   },
   {
    "duration": 763,
    "start_time": "2025-01-25T17:53:04.474Z"
   },
   {
    "duration": 20,
    "start_time": "2025-01-25T17:53:07.485Z"
   },
   {
    "duration": 145,
    "start_time": "2025-01-25T17:55:22.058Z"
   },
   {
    "duration": 26,
    "start_time": "2025-01-25T17:55:45.514Z"
   },
   {
    "duration": 3,
    "start_time": "2025-01-25T17:55:56.208Z"
   },
   {
    "duration": 648,
    "start_time": "2025-01-25T17:56:23.687Z"
   },
   {
    "duration": 659,
    "start_time": "2025-01-25T17:56:46.341Z"
   },
   {
    "duration": 3,
    "start_time": "2025-01-25T17:57:27.920Z"
   },
   {
    "duration": 1288,
    "start_time": "2025-01-25T17:57:28.511Z"
   },
   {
    "duration": 7,
    "start_time": "2025-01-25T17:58:33.771Z"
   },
   {
    "duration": 3,
    "start_time": "2025-01-25T17:58:58.057Z"
   },
   {
    "duration": 1815,
    "start_time": "2025-01-25T18:09:11.533Z"
   },
   {
    "duration": 988,
    "start_time": "2025-01-25T18:09:13.350Z"
   },
   {
    "duration": 12,
    "start_time": "2025-01-25T18:09:14.343Z"
   },
   {
    "duration": 39,
    "start_time": "2025-01-25T18:09:14.357Z"
   },
   {
    "duration": 46,
    "start_time": "2025-01-25T18:09:14.398Z"
   },
   {
    "duration": 16,
    "start_time": "2025-01-25T18:09:14.445Z"
   },
   {
    "duration": 297,
    "start_time": "2025-01-25T18:09:14.462Z"
   },
   {
    "duration": 34,
    "start_time": "2025-01-25T18:09:14.760Z"
   },
   {
    "duration": 2455,
    "start_time": "2025-01-25T18:09:14.795Z"
   },
   {
    "duration": 982,
    "start_time": "2025-01-25T18:09:17.252Z"
   },
   {
    "duration": 6,
    "start_time": "2025-01-25T18:09:18.236Z"
   },
   {
    "duration": 4221,
    "start_time": "2025-01-25T18:09:37.360Z"
   },
   {
    "duration": 1323,
    "start_time": "2025-01-25T18:09:41.583Z"
   },
   {
    "duration": 11,
    "start_time": "2025-01-25T18:09:42.907Z"
   },
   {
    "duration": 34,
    "start_time": "2025-01-25T18:09:42.920Z"
   },
   {
    "duration": 29,
    "start_time": "2025-01-25T18:09:42.956Z"
   },
   {
    "duration": 12,
    "start_time": "2025-01-25T18:09:42.987Z"
   },
   {
    "duration": 289,
    "start_time": "2025-01-25T18:09:43.001Z"
   },
   {
    "duration": 42,
    "start_time": "2025-01-25T18:09:43.292Z"
   },
   {
    "duration": 2464,
    "start_time": "2025-01-25T18:09:43.336Z"
   },
   {
    "duration": 1035,
    "start_time": "2025-01-25T18:09:45.802Z"
   },
   {
    "duration": 7,
    "start_time": "2025-01-25T18:09:46.839Z"
   },
   {
    "duration": 13443,
    "start_time": "2025-01-25T18:09:46.847Z"
   },
   {
    "duration": 10,
    "start_time": "2025-01-25T18:10:00.291Z"
   },
   {
    "duration": 27,
    "start_time": "2025-01-25T18:10:00.304Z"
   },
   {
    "duration": 105,
    "start_time": "2025-01-25T18:10:00.333Z"
   },
   {
    "duration": 33,
    "start_time": "2025-01-25T18:10:00.440Z"
   },
   {
    "duration": 894,
    "start_time": "2025-01-25T18:10:00.475Z"
   },
   {
    "duration": 171,
    "start_time": "2025-01-25T18:10:01.371Z"
   },
   {
    "duration": 86,
    "start_time": "2025-01-25T18:10:05.308Z"
   },
   {
    "duration": 3,
    "start_time": "2025-01-25T18:10:05.877Z"
   },
   {
    "duration": 3,
    "start_time": "2025-01-25T18:10:06.619Z"
   },
   {
    "duration": 3,
    "start_time": "2025-01-25T18:10:07.013Z"
   },
   {
    "duration": 8815,
    "start_time": "2025-01-25T18:10:07.246Z"
   },
   {
    "duration": 227,
    "start_time": "2025-01-25T18:10:16.063Z"
   },
   {
    "duration": 227,
    "start_time": "2025-01-25T18:10:18.745Z"
   },
   {
    "duration": 12,
    "start_time": "2025-01-25T18:10:19.815Z"
   },
   {
    "duration": 4,
    "start_time": "2025-01-25T18:10:20.318Z"
   },
   {
    "duration": 85760,
    "start_time": "2025-01-25T18:10:20.709Z"
   },
   {
    "duration": 771,
    "start_time": "2025-01-25T18:11:46.471Z"
   },
   {
    "duration": 88,
    "start_time": "2025-01-25T18:11:47.243Z"
   },
   {
    "duration": 3,
    "start_time": "2025-01-25T18:11:47.333Z"
   },
   {
    "duration": 2753,
    "start_time": "2025-01-25T18:16:16.583Z"
   },
   {
    "duration": 1309,
    "start_time": "2025-01-25T18:16:19.338Z"
   },
   {
    "duration": 12,
    "start_time": "2025-01-25T18:16:20.649Z"
   },
   {
    "duration": 35,
    "start_time": "2025-01-25T18:16:20.663Z"
   },
   {
    "duration": 61,
    "start_time": "2025-01-25T18:16:20.700Z"
   },
   {
    "duration": 13,
    "start_time": "2025-01-25T18:16:20.762Z"
   },
   {
    "duration": 286,
    "start_time": "2025-01-25T18:16:20.776Z"
   },
   {
    "duration": 35,
    "start_time": "2025-01-25T18:16:21.063Z"
   },
   {
    "duration": 2470,
    "start_time": "2025-01-25T18:16:23.626Z"
   },
   {
    "duration": 1003,
    "start_time": "2025-01-25T18:16:26.098Z"
   },
   {
    "duration": 6,
    "start_time": "2025-01-25T18:16:27.104Z"
   },
   {
    "duration": 13527,
    "start_time": "2025-01-25T18:16:27.112Z"
   },
   {
    "duration": 10,
    "start_time": "2025-01-25T18:16:40.641Z"
   },
   {
    "duration": 10,
    "start_time": "2025-01-25T18:16:45.583Z"
   },
   {
    "duration": 265,
    "start_time": "2025-01-25T18:17:58.616Z"
   },
   {
    "duration": 263,
    "start_time": "2025-01-25T18:18:17.391Z"
   },
   {
    "duration": 264,
    "start_time": "2025-01-25T18:19:10.166Z"
   },
   {
    "duration": 254,
    "start_time": "2025-01-25T18:19:21.280Z"
   },
   {
    "duration": 1383,
    "start_time": "2025-01-25T18:19:57.313Z"
   },
   {
    "duration": 5,
    "start_time": "2025-01-25T18:20:04.484Z"
   },
   {
    "duration": 4,
    "start_time": "2025-01-25T18:20:08.666Z"
   },
   {
    "duration": 252,
    "start_time": "2025-01-25T18:20:13.060Z"
   },
   {
    "duration": 1279,
    "start_time": "2025-01-25T18:20:13.910Z"
   },
   {
    "duration": 4,
    "start_time": "2025-01-25T18:20:15.588Z"
   },
   {
    "duration": 4,
    "start_time": "2025-01-25T18:20:16.279Z"
   },
   {
    "duration": 13,
    "start_time": "2025-01-25T18:20:35.481Z"
   },
   {
    "duration": 3,
    "start_time": "2025-01-25T18:20:57.210Z"
   },
   {
    "duration": 3,
    "start_time": "2025-01-25T18:21:04.587Z"
   },
   {
    "duration": 9135,
    "start_time": "2025-01-25T18:21:11.723Z"
   },
   {
    "duration": 5,
    "start_time": "2025-01-25T18:21:57.046Z"
   },
   {
    "duration": 223,
    "start_time": "2025-01-25T18:22:25.560Z"
   },
   {
    "duration": 151,
    "start_time": "2025-01-25T18:22:33.157Z"
   },
   {
    "duration": 7408,
    "start_time": "2025-01-25T18:22:55.521Z"
   },
   {
    "duration": 26,
    "start_time": "2025-01-25T18:23:25.411Z"
   },
   {
    "duration": 1253,
    "start_time": "2025-01-25T18:23:25.661Z"
   },
   {
    "duration": 8,
    "start_time": "2025-01-25T18:23:26.917Z"
   },
   {
    "duration": 49,
    "start_time": "2025-01-25T18:23:26.927Z"
   },
   {
    "duration": 34,
    "start_time": "2025-01-25T18:23:26.978Z"
   },
   {
    "duration": 23,
    "start_time": "2025-01-25T18:23:27.014Z"
   },
   {
    "duration": 1826,
    "start_time": "2025-01-25T18:23:32.462Z"
   },
   {
    "duration": 1046,
    "start_time": "2025-01-25T18:23:34.290Z"
   },
   {
    "duration": 12,
    "start_time": "2025-01-25T18:23:35.338Z"
   },
   {
    "duration": 70,
    "start_time": "2025-01-25T18:23:35.352Z"
   },
   {
    "duration": 46,
    "start_time": "2025-01-25T18:23:35.423Z"
   },
   {
    "duration": 32,
    "start_time": "2025-01-25T18:23:35.471Z"
   },
   {
    "duration": 265,
    "start_time": "2025-01-25T18:23:35.505Z"
   },
   {
    "duration": 33,
    "start_time": "2025-01-25T18:23:35.772Z"
   },
   {
    "duration": 2470,
    "start_time": "2025-01-25T18:23:36.991Z"
   },
   {
    "duration": 991,
    "start_time": "2025-01-25T18:23:39.463Z"
   },
   {
    "duration": 6,
    "start_time": "2025-01-25T18:23:40.456Z"
   },
   {
    "duration": 13414,
    "start_time": "2025-01-25T18:23:40.464Z"
   },
   {
    "duration": 11,
    "start_time": "2025-01-25T18:23:53.880Z"
   },
   {
    "duration": 9,
    "start_time": "2025-01-25T18:23:53.892Z"
   },
   {
    "duration": 257,
    "start_time": "2025-01-25T18:23:56.345Z"
   },
   {
    "duration": 6,
    "start_time": "2025-01-25T18:24:37.162Z"
   },
   {
    "duration": 149,
    "start_time": "2025-01-25T18:24:45.714Z"
   },
   {
    "duration": 11,
    "start_time": "2025-01-25T18:24:48.641Z"
   },
   {
    "duration": 5,
    "start_time": "2025-01-25T18:24:53.457Z"
   },
   {
    "duration": 5,
    "start_time": "2025-01-25T18:24:56.545Z"
   },
   {
    "duration": 4,
    "start_time": "2025-01-25T18:25:00.445Z"
   },
   {
    "duration": 4,
    "start_time": "2025-01-25T18:25:07.913Z"
   },
   {
    "duration": 5,
    "start_time": "2025-01-25T18:25:26.646Z"
   },
   {
    "duration": 4,
    "start_time": "2025-01-25T18:25:34.047Z"
   },
   {
    "duration": 3,
    "start_time": "2025-01-25T18:25:40.526Z"
   },
   {
    "duration": 1201,
    "start_time": "2025-01-25T18:26:21.900Z"
   },
   {
    "duration": 3,
    "start_time": "2025-01-25T18:26:25.107Z"
   },
   {
    "duration": 4,
    "start_time": "2025-01-25T18:26:27.016Z"
   },
   {
    "duration": 12,
    "start_time": "2025-01-25T18:26:41.147Z"
   },
   {
    "duration": 3,
    "start_time": "2025-01-25T18:27:15.659Z"
   },
   {
    "duration": 1241,
    "start_time": "2025-01-25T18:28:51.060Z"
   },
   {
    "duration": 5,
    "start_time": "2025-01-25T18:28:54.617Z"
   },
   {
    "duration": 5,
    "start_time": "2025-01-25T18:28:54.839Z"
   },
   {
    "duration": 13,
    "start_time": "2025-01-25T18:28:55.039Z"
   },
   {
    "duration": 3,
    "start_time": "2025-01-25T18:28:55.229Z"
   },
   {
    "duration": 118,
    "start_time": "2025-01-25T18:29:02.196Z"
   },
   {
    "duration": 6,
    "start_time": "2025-01-25T18:29:06.712Z"
   },
   {
    "duration": 573007,
    "start_time": "2025-01-25T18:29:33.965Z"
   },
   {
    "duration": 90527,
    "start_time": "2025-01-25T18:39:29.910Z"
   },
   {
    "duration": 29,
    "start_time": "2025-01-25T18:42:02.301Z"
   },
   {
    "duration": 296,
    "start_time": "2025-01-25T18:42:22.792Z"
   },
   {
    "duration": 4,
    "start_time": "2025-01-25T18:42:57.088Z"
   },
   {
    "duration": 1211,
    "start_time": "2025-01-25T18:44:53.331Z"
   },
   {
    "duration": 4,
    "start_time": "2025-01-25T18:44:55.202Z"
   },
   {
    "duration": 4,
    "start_time": "2025-01-25T18:44:55.460Z"
   },
   {
    "duration": 13,
    "start_time": "2025-01-25T18:44:56.084Z"
   },
   {
    "duration": 3,
    "start_time": "2025-01-25T18:44:57.013Z"
   },
   {
    "duration": 5,
    "start_time": "2025-01-25T18:44:57.530Z"
   },
   {
    "duration": 1850,
    "start_time": "2025-01-25T19:03:31.203Z"
   },
   {
    "duration": 995,
    "start_time": "2025-01-25T19:03:33.055Z"
   },
   {
    "duration": 12,
    "start_time": "2025-01-25T19:03:34.051Z"
   },
   {
    "duration": 39,
    "start_time": "2025-01-25T19:03:34.065Z"
   },
   {
    "duration": 42,
    "start_time": "2025-01-25T19:03:34.106Z"
   },
   {
    "duration": 20,
    "start_time": "2025-01-25T19:03:34.150Z"
   },
   {
    "duration": 273,
    "start_time": "2025-01-25T19:03:34.172Z"
   },
   {
    "duration": 35,
    "start_time": "2025-01-25T19:03:34.446Z"
   },
   {
    "duration": 2495,
    "start_time": "2025-01-25T19:03:34.482Z"
   },
   {
    "duration": 1052,
    "start_time": "2025-01-25T19:03:36.980Z"
   },
   {
    "duration": 7,
    "start_time": "2025-01-25T19:03:38.034Z"
   },
   {
    "duration": 13418,
    "start_time": "2025-01-25T19:03:38.043Z"
   },
   {
    "duration": 10,
    "start_time": "2025-01-25T19:03:51.462Z"
   },
   {
    "duration": 25,
    "start_time": "2025-01-25T19:03:51.475Z"
   },
   {
    "duration": 78,
    "start_time": "2025-01-25T19:04:14.927Z"
   },
   {
    "duration": 34,
    "start_time": "2025-01-25T19:04:15.819Z"
   },
   {
    "duration": 926,
    "start_time": "2025-01-25T19:04:33.882Z"
   },
   {
    "duration": 169,
    "start_time": "2025-01-25T19:04:38.470Z"
   },
   {
    "duration": 79,
    "start_time": "2025-01-25T19:04:38.843Z"
   },
   {
    "duration": 3,
    "start_time": "2025-01-25T19:04:39.425Z"
   },
   {
    "duration": 4,
    "start_time": "2025-01-25T19:04:43.973Z"
   },
   {
    "duration": 9017,
    "start_time": "2025-01-25T19:04:44.495Z"
   },
   {
    "duration": 220,
    "start_time": "2025-01-25T19:04:57.542Z"
   },
   {
    "duration": 12,
    "start_time": "2025-01-25T19:04:58.587Z"
   },
   {
    "duration": 4,
    "start_time": "2025-01-25T19:05:01.378Z"
   },
   {
    "duration": 73571,
    "start_time": "2025-01-25T19:05:03.638Z"
   },
   {
    "duration": 2885,
    "start_time": "2025-01-25T19:07:31.688Z"
   },
   {
    "duration": 293,
    "start_time": "2025-01-25T19:07:35.246Z"
   },
   {
    "duration": 2594,
    "start_time": "2025-01-25T19:07:40.040Z"
   },
   {
    "duration": 1871,
    "start_time": "2025-01-25T19:07:42.637Z"
   },
   {
    "duration": 1014,
    "start_time": "2025-01-25T19:07:44.510Z"
   },
   {
    "duration": 13,
    "start_time": "2025-01-25T19:07:45.526Z"
   },
   {
    "duration": 38,
    "start_time": "2025-01-25T19:07:45.540Z"
   },
   {
    "duration": 52,
    "start_time": "2025-01-25T19:07:45.579Z"
   },
   {
    "duration": 14,
    "start_time": "2025-01-25T19:07:45.634Z"
   },
   {
    "duration": 286,
    "start_time": "2025-01-25T19:07:45.650Z"
   },
   {
    "duration": 35,
    "start_time": "2025-01-25T19:07:45.937Z"
   },
   {
    "duration": 2475,
    "start_time": "2025-01-25T19:07:45.974Z"
   },
   {
    "duration": 1022,
    "start_time": "2025-01-25T19:07:48.451Z"
   },
   {
    "duration": 6,
    "start_time": "2025-01-25T19:07:49.475Z"
   },
   {
    "duration": 13290,
    "start_time": "2025-01-25T19:07:49.483Z"
   },
   {
    "duration": 11,
    "start_time": "2025-01-25T19:08:02.775Z"
   },
   {
    "duration": 11,
    "start_time": "2025-01-25T19:08:07.628Z"
   },
   {
    "duration": 263,
    "start_time": "2025-01-25T19:08:22.265Z"
   },
   {
    "duration": 1233,
    "start_time": "2025-01-25T19:08:22.530Z"
   },
   {
    "duration": 5,
    "start_time": "2025-01-25T19:08:25.134Z"
   },
   {
    "duration": 4,
    "start_time": "2025-01-25T19:08:25.400Z"
   },
   {
    "duration": 12,
    "start_time": "2025-01-25T19:08:25.935Z"
   },
   {
    "duration": 3,
    "start_time": "2025-01-25T19:08:52.587Z"
   },
   {
    "duration": 2636,
    "start_time": "2025-01-25T19:09:25.036Z"
   },
   {
    "duration": 1776,
    "start_time": "2025-01-25T19:09:27.674Z"
   },
   {
    "duration": 1009,
    "start_time": "2025-01-25T19:09:29.451Z"
   },
   {
    "duration": 12,
    "start_time": "2025-01-25T19:09:30.462Z"
   },
   {
    "duration": 39,
    "start_time": "2025-01-25T19:09:30.475Z"
   },
   {
    "duration": 40,
    "start_time": "2025-01-25T19:09:30.515Z"
   },
   {
    "duration": 22,
    "start_time": "2025-01-25T19:09:30.556Z"
   },
   {
    "duration": 280,
    "start_time": "2025-01-25T19:09:30.580Z"
   },
   {
    "duration": 35,
    "start_time": "2025-01-25T19:09:30.862Z"
   },
   {
    "duration": 2489,
    "start_time": "2025-01-25T19:09:30.900Z"
   },
   {
    "duration": 1041,
    "start_time": "2025-01-25T19:09:33.391Z"
   },
   {
    "duration": 6,
    "start_time": "2025-01-25T19:09:34.434Z"
   },
   {
    "duration": 13768,
    "start_time": "2025-01-25T19:09:34.442Z"
   },
   {
    "duration": 23,
    "start_time": "2025-01-25T19:09:48.212Z"
   },
   {
    "duration": 9,
    "start_time": "2025-01-25T19:09:48.237Z"
   },
   {
    "duration": 85,
    "start_time": "2025-01-25T19:09:53.102Z"
   },
   {
    "duration": 35,
    "start_time": "2025-01-25T19:09:53.611Z"
   },
   {
    "duration": 927,
    "start_time": "2025-01-25T19:09:56.903Z"
   },
   {
    "duration": 171,
    "start_time": "2025-01-25T19:09:57.832Z"
   },
   {
    "duration": 83,
    "start_time": "2025-01-25T19:09:58.005Z"
   },
   {
    "duration": 3,
    "start_time": "2025-01-25T19:10:09.870Z"
   },
   {
    "duration": 3,
    "start_time": "2025-01-25T19:10:28.826Z"
   },
   {
    "duration": 220,
    "start_time": "2025-01-25T19:10:31.885Z"
   },
   {
    "duration": 3,
    "start_time": "2025-01-25T19:11:05.720Z"
   },
   {
    "duration": 79,
    "start_time": "2025-01-25T19:11:07.042Z"
   },
   {
    "duration": 3,
    "start_time": "2025-01-25T19:11:23.709Z"
   },
   {
    "duration": 38,
    "start_time": "2025-01-25T19:11:24.320Z"
   },
   {
    "duration": 4,
    "start_time": "2025-01-25T19:12:45.315Z"
   },
   {
    "duration": 79,
    "start_time": "2025-01-25T19:12:45.917Z"
   },
   {
    "duration": 3,
    "start_time": "2025-01-25T19:13:24.596Z"
   },
   {
    "duration": 2576,
    "start_time": "2025-01-25T19:13:31.049Z"
   },
   {
    "duration": 2170,
    "start_time": "2025-01-25T19:13:33.628Z"
   },
   {
    "duration": 992,
    "start_time": "2025-01-25T19:13:35.800Z"
   },
   {
    "duration": 13,
    "start_time": "2025-01-25T19:13:36.794Z"
   },
   {
    "duration": 60,
    "start_time": "2025-01-25T19:13:36.809Z"
   },
   {
    "duration": 31,
    "start_time": "2025-01-25T19:13:36.870Z"
   },
   {
    "duration": 22,
    "start_time": "2025-01-25T19:13:36.903Z"
   },
   {
    "duration": 276,
    "start_time": "2025-01-25T19:13:36.930Z"
   },
   {
    "duration": 45,
    "start_time": "2025-01-25T19:13:37.207Z"
   },
   {
    "duration": 2498,
    "start_time": "2025-01-25T19:13:37.255Z"
   },
   {
    "duration": 1027,
    "start_time": "2025-01-25T19:13:39.755Z"
   },
   {
    "duration": 6,
    "start_time": "2025-01-25T19:13:40.785Z"
   },
   {
    "duration": 13544,
    "start_time": "2025-01-25T19:13:40.793Z"
   },
   {
    "duration": 12,
    "start_time": "2025-01-25T19:13:54.339Z"
   },
   {
    "duration": 19,
    "start_time": "2025-01-25T19:13:54.353Z"
   },
   {
    "duration": 87,
    "start_time": "2025-01-25T19:15:04.242Z"
   },
   {
    "duration": 38,
    "start_time": "2025-01-25T19:15:05.536Z"
   },
   {
    "duration": 890,
    "start_time": "2025-01-25T19:15:41.511Z"
   },
   {
    "duration": 166,
    "start_time": "2025-01-25T19:15:45.872Z"
   },
   {
    "duration": 76,
    "start_time": "2025-01-25T19:15:46.168Z"
   },
   {
    "duration": 2626,
    "start_time": "2025-01-25T19:18:08.892Z"
   },
   {
    "duration": 2776,
    "start_time": "2025-01-25T19:18:12.707Z"
   },
   {
    "duration": 1323,
    "start_time": "2025-01-25T19:18:15.485Z"
   },
   {
    "duration": 11,
    "start_time": "2025-01-25T19:18:16.810Z"
   },
   {
    "duration": 36,
    "start_time": "2025-01-25T19:18:16.823Z"
   },
   {
    "duration": 30,
    "start_time": "2025-01-25T19:18:16.860Z"
   },
   {
    "duration": 11,
    "start_time": "2025-01-25T19:18:16.891Z"
   },
   {
    "duration": 281,
    "start_time": "2025-01-25T19:18:16.904Z"
   },
   {
    "duration": 47,
    "start_time": "2025-01-25T19:18:17.186Z"
   },
   {
    "duration": 2448,
    "start_time": "2025-01-25T19:18:17.234Z"
   },
   {
    "duration": 1001,
    "start_time": "2025-01-25T19:18:19.685Z"
   },
   {
    "duration": 6,
    "start_time": "2025-01-25T19:18:20.688Z"
   },
   {
    "duration": 13315,
    "start_time": "2025-01-25T19:18:20.696Z"
   },
   {
    "duration": 23,
    "start_time": "2025-01-25T19:18:34.012Z"
   },
   {
    "duration": 45,
    "start_time": "2025-01-25T19:18:34.037Z"
   },
   {
    "duration": 84,
    "start_time": "2025-01-25T19:18:34.085Z"
   },
   {
    "duration": 40,
    "start_time": "2025-01-25T19:18:34.970Z"
   },
   {
    "duration": 906,
    "start_time": "2025-01-25T19:18:35.904Z"
   },
   {
    "duration": 171,
    "start_time": "2025-01-25T19:18:36.813Z"
   },
   {
    "duration": 83,
    "start_time": "2025-01-25T19:18:36.986Z"
   },
   {
    "duration": 166,
    "start_time": "2025-01-25T19:18:48.367Z"
   },
   {
    "duration": 2752,
    "start_time": "2025-01-25T19:24:19.415Z"
   },
   {
    "duration": 1356,
    "start_time": "2025-01-25T19:24:27.046Z"
   },
   {
    "duration": 13,
    "start_time": "2025-01-25T19:24:29.344Z"
   },
   {
    "duration": 40,
    "start_time": "2025-01-25T19:24:38.189Z"
   },
   {
    "duration": 31,
    "start_time": "2025-01-25T19:24:38.834Z"
   },
   {
    "duration": 12,
    "start_time": "2025-01-25T19:24:39.217Z"
   },
   {
    "duration": 266,
    "start_time": "2025-01-25T19:24:39.454Z"
   },
   {
    "duration": 35,
    "start_time": "2025-01-25T19:24:40.367Z"
   },
   {
    "duration": 144,
    "start_time": "2025-01-25T19:24:51.026Z"
   },
   {
    "duration": 8,
    "start_time": "2025-01-25T19:24:53.482Z"
   },
   {
    "duration": 14,
    "start_time": "2025-01-25T19:27:47.029Z"
   },
   {
    "duration": 2988,
    "start_time": "2025-01-25T19:29:17.126Z"
   },
   {
    "duration": 999,
    "start_time": "2025-01-25T19:29:20.116Z"
   },
   {
    "duration": 17,
    "start_time": "2025-01-25T19:29:21.117Z"
   },
   {
    "duration": 43,
    "start_time": "2025-01-25T19:29:21.136Z"
   },
   {
    "duration": 31,
    "start_time": "2025-01-25T19:29:21.181Z"
   },
   {
    "duration": 25,
    "start_time": "2025-01-25T19:29:21.213Z"
   },
   {
    "duration": 276,
    "start_time": "2025-01-25T19:29:21.240Z"
   },
   {
    "duration": 40,
    "start_time": "2025-01-25T19:29:21.517Z"
   },
   {
    "duration": 8,
    "start_time": "2025-01-25T19:29:21.899Z"
   },
   {
    "duration": 93604,
    "start_time": "2025-01-25T19:29:23.695Z"
   },
   {
    "duration": 144,
    "start_time": "2025-01-25T19:32:53.680Z"
   },
   {
    "duration": 47,
    "start_time": "2025-01-25T19:33:00.274Z"
   },
   {
    "duration": 12908,
    "start_time": "2025-01-25T19:35:21.746Z"
   },
   {
    "duration": 46296,
    "start_time": "2025-01-25T19:36:56.242Z"
   },
   {
    "duration": 23642,
    "start_time": "2025-01-25T19:39:20.896Z"
   },
   {
    "duration": 13,
    "start_time": "2025-01-25T19:44:51.813Z"
   },
   {
    "duration": 115261,
    "start_time": "2025-01-25T19:46:32.882Z"
   },
   {
    "duration": 11,
    "start_time": "2025-01-25T19:52:01.095Z"
   },
   {
    "duration": 12,
    "start_time": "2025-01-25T19:53:00.977Z"
   },
   {
    "duration": 23080,
    "start_time": "2025-01-25T19:53:17.371Z"
   },
   {
    "duration": 33,
    "start_time": "2025-01-25T19:55:14.822Z"
   },
   {
    "duration": 89,
    "start_time": "2025-01-25T19:58:07.615Z"
   },
   {
    "duration": 3239,
    "start_time": "2025-01-25T19:58:20.155Z"
   },
   {
    "duration": 3233,
    "start_time": "2025-01-25T19:58:54.236Z"
   },
   {
    "duration": 128,
    "start_time": "2025-01-25T19:59:58.351Z"
   },
   {
    "duration": 24,
    "start_time": "2025-01-25T20:01:04.312Z"
   },
   {
    "duration": 3178,
    "start_time": "2025-01-25T20:02:44.450Z"
   },
   {
    "duration": 45378,
    "start_time": "2025-01-25T20:04:44.576Z"
   },
   {
    "duration": 1815,
    "start_time": "2025-01-25T20:06:08.119Z"
   },
   {
    "duration": 1054,
    "start_time": "2025-01-25T20:06:09.936Z"
   },
   {
    "duration": 13,
    "start_time": "2025-01-25T20:06:10.991Z"
   },
   {
    "duration": 48,
    "start_time": "2025-01-25T20:06:11.006Z"
   },
   {
    "duration": 30,
    "start_time": "2025-01-25T20:06:11.056Z"
   },
   {
    "duration": 17,
    "start_time": "2025-01-25T20:06:11.088Z"
   },
   {
    "duration": 284,
    "start_time": "2025-01-25T20:06:11.107Z"
   },
   {
    "duration": 44,
    "start_time": "2025-01-25T20:06:11.392Z"
   },
   {
    "duration": 8,
    "start_time": "2025-01-25T20:06:11.438Z"
   },
   {
    "duration": 1735,
    "start_time": "2025-01-25T20:07:48.587Z"
   },
   {
    "duration": 979,
    "start_time": "2025-01-25T20:07:50.324Z"
   },
   {
    "duration": 12,
    "start_time": "2025-01-25T20:07:51.305Z"
   },
   {
    "duration": 106,
    "start_time": "2025-01-25T20:07:51.319Z"
   },
   {
    "duration": 31,
    "start_time": "2025-01-25T20:07:52.205Z"
   },
   {
    "duration": 12,
    "start_time": "2025-01-25T20:07:52.463Z"
   },
   {
    "duration": 260,
    "start_time": "2025-01-25T20:07:52.681Z"
   },
   {
    "duration": 34,
    "start_time": "2025-01-25T20:07:52.943Z"
   },
   {
    "duration": 8,
    "start_time": "2025-01-25T20:07:53.191Z"
   },
   {
    "duration": 93759,
    "start_time": "2025-01-25T20:07:53.543Z"
   },
   {
    "duration": 49,
    "start_time": "2025-01-25T20:09:27.304Z"
   },
   {
    "duration": 12739,
    "start_time": "2025-01-25T20:09:27.355Z"
   },
   {
    "duration": 115147,
    "start_time": "2025-01-25T20:09:40.096Z"
   },
   {
    "duration": 22910,
    "start_time": "2025-01-25T20:11:35.245Z"
   },
   {
    "duration": 3559,
    "start_time": "2025-01-25T20:11:58.157Z"
   },
   {
    "duration": 127,
    "start_time": "2025-01-25T20:12:01.718Z"
   },
   {
    "duration": 2055135,
    "start_time": "2025-01-25T20:12:01.847Z"
   },
   {
    "duration": 0,
    "start_time": "2025-01-25T20:46:16.984Z"
   },
   {
    "duration": 13,
    "start_time": "2025-01-25T20:49:45.127Z"
   },
   {
    "duration": 125,
    "start_time": "2025-01-25T20:50:17.865Z"
   },
   {
    "duration": 14,
    "start_time": "2025-01-25T20:50:40.108Z"
   },
   {
    "duration": 12,
    "start_time": "2025-01-25T20:51:17.431Z"
   },
   {
    "duration": 22876,
    "start_time": "2025-01-25T20:51:28.175Z"
   },
   {
    "duration": 11,
    "start_time": "2025-01-25T20:51:57.879Z"
   },
   {
    "duration": 2162,
    "start_time": "2025-01-26T09:41:21.664Z"
   },
   {
    "duration": 994,
    "start_time": "2025-01-26T09:41:23.828Z"
   },
   {
    "duration": 11,
    "start_time": "2025-01-26T09:41:24.823Z"
   },
   {
    "duration": 31,
    "start_time": "2025-01-26T09:41:24.837Z"
   },
   {
    "duration": 39,
    "start_time": "2025-01-26T09:41:24.870Z"
   },
   {
    "duration": 17,
    "start_time": "2025-01-26T09:41:24.911Z"
   },
   {
    "duration": 278,
    "start_time": "2025-01-26T09:41:24.930Z"
   },
   {
    "duration": 30,
    "start_time": "2025-01-26T09:41:25.210Z"
   },
   {
    "duration": 12,
    "start_time": "2025-01-26T09:41:25.241Z"
   },
   {
    "duration": 93447,
    "start_time": "2025-01-26T09:41:25.256Z"
   },
   {
    "duration": 45,
    "start_time": "2025-01-26T09:42:58.704Z"
   },
   {
    "duration": 12873,
    "start_time": "2025-01-26T09:42:58.750Z"
   },
   {
    "duration": 134,
    "start_time": "2025-01-26T09:43:39.433Z"
   },
   {
    "duration": 123444,
    "start_time": "2025-01-26T09:43:42.674Z"
   },
   {
    "duration": 23121,
    "start_time": "2025-01-26T09:45:46.121Z"
   },
   {
    "duration": 3419,
    "start_time": "2025-01-26T09:52:26.085Z"
   },
   {
    "duration": 145,
    "start_time": "2025-01-26T09:52:29.508Z"
   },
   {
    "duration": 123,
    "start_time": "2025-01-26T09:53:09.731Z"
   },
   {
    "duration": 122,
    "start_time": "2025-01-26T09:53:31.016Z"
   },
   {
    "duration": 15,
    "start_time": "2025-01-26T10:00:07.268Z"
   },
   {
    "duration": 24,
    "start_time": "2025-01-26T10:01:49.804Z"
   },
   {
    "duration": 17,
    "start_time": "2025-01-26T10:04:04.472Z"
   },
   {
    "duration": 97809,
    "start_time": "2025-01-26T10:11:06.217Z"
   },
   {
    "duration": 30449,
    "start_time": "2025-01-26T10:29:29.773Z"
   },
   {
    "duration": 994606,
    "start_time": "2025-01-26T10:31:34.066Z"
   },
   {
    "duration": 1163,
    "start_time": "2025-01-26T10:49:39.095Z"
   },
   {
    "duration": 2253,
    "start_time": "2025-01-26T10:50:28.360Z"
   },
   {
    "duration": 1054,
    "start_time": "2025-01-26T10:50:30.615Z"
   },
   {
    "duration": 12,
    "start_time": "2025-01-26T10:50:31.674Z"
   },
   {
    "duration": 55,
    "start_time": "2025-01-26T10:50:31.688Z"
   },
   {
    "duration": 43,
    "start_time": "2025-01-26T10:50:31.745Z"
   },
   {
    "duration": 59,
    "start_time": "2025-01-26T10:50:31.790Z"
   },
   {
    "duration": 324,
    "start_time": "2025-01-26T10:50:31.851Z"
   },
   {
    "duration": 39,
    "start_time": "2025-01-26T10:50:32.177Z"
   },
   {
    "duration": 14,
    "start_time": "2025-01-26T10:50:33.090Z"
   },
   {
    "duration": 117209,
    "start_time": "2025-01-26T10:50:34.123Z"
   },
   {
    "duration": 48,
    "start_time": "2025-01-26T10:52:31.335Z"
   },
   {
    "duration": 12670,
    "start_time": "2025-01-26T10:52:31.385Z"
   },
   {
    "duration": 131166,
    "start_time": "2025-01-26T10:52:44.057Z"
   },
   {
    "duration": 23216,
    "start_time": "2025-01-26T10:54:55.225Z"
   },
   {
    "duration": 3470,
    "start_time": "2025-01-26T10:55:31.559Z"
   },
   {
    "duration": 143,
    "start_time": "2025-01-26T10:55:36.936Z"
   },
   {
    "duration": 339188,
    "start_time": "2025-01-26T10:55:39.152Z"
   },
   {
    "duration": 91626,
    "start_time": "2025-01-26T11:04:06.282Z"
   },
   {
    "duration": 2044,
    "start_time": "2025-01-26T11:15:25.879Z"
   },
   {
    "duration": 999,
    "start_time": "2025-01-26T11:15:27.925Z"
   },
   {
    "duration": 13,
    "start_time": "2025-01-26T11:15:28.926Z"
   },
   {
    "duration": 35,
    "start_time": "2025-01-26T11:15:28.941Z"
   },
   {
    "duration": 58,
    "start_time": "2025-01-26T11:15:28.978Z"
   },
   {
    "duration": 12,
    "start_time": "2025-01-26T11:15:29.038Z"
   },
   {
    "duration": 290,
    "start_time": "2025-01-26T11:15:29.051Z"
   },
   {
    "duration": 35,
    "start_time": "2025-01-26T11:15:29.343Z"
   },
   {
    "duration": 29,
    "start_time": "2025-01-26T11:15:29.380Z"
   },
   {
    "duration": 102147,
    "start_time": "2025-01-26T11:15:29.411Z"
   },
   {
    "duration": 57,
    "start_time": "2025-01-26T11:17:11.560Z"
   },
   {
    "duration": 13113,
    "start_time": "2025-01-26T11:17:11.620Z"
   },
   {
    "duration": 113489,
    "start_time": "2025-01-26T11:17:24.734Z"
   },
   {
    "duration": 20999,
    "start_time": "2025-01-26T11:19:18.225Z"
   },
   {
    "duration": 3714,
    "start_time": "2025-01-26T11:19:39.228Z"
   },
   {
    "duration": 139,
    "start_time": "2025-01-26T11:19:42.945Z"
   },
   {
    "duration": 20,
    "start_time": "2025-01-26T11:19:43.087Z"
   },
   {
    "duration": 20,
    "start_time": "2025-01-26T11:19:43.112Z"
   },
   {
    "duration": 289,
    "start_time": "2025-01-26T11:21:28.642Z"
   },
   {
    "duration": 144,
    "start_time": "2025-01-26T11:22:12.480Z"
   },
   {
    "duration": 261,
    "start_time": "2025-01-26T11:22:32.353Z"
   },
   {
    "duration": 197,
    "start_time": "2025-01-26T11:23:17.540Z"
   },
   {
    "duration": 225,
    "start_time": "2025-01-26T11:26:04.925Z"
   },
   {
    "duration": 240,
    "start_time": "2025-01-26T11:26:22.285Z"
   },
   {
    "duration": 230,
    "start_time": "2025-01-26T11:26:40.792Z"
   },
   {
    "duration": 241,
    "start_time": "2025-01-26T11:26:50.406Z"
   },
   {
    "duration": 2015,
    "start_time": "2025-01-27T07:03:15.284Z"
   },
   {
    "duration": 909,
    "start_time": "2025-01-27T07:03:17.301Z"
   },
   {
    "duration": 11,
    "start_time": "2025-01-27T07:03:18.212Z"
   },
   {
    "duration": 45,
    "start_time": "2025-01-27T07:03:18.224Z"
   },
   {
    "duration": 27,
    "start_time": "2025-01-27T07:03:18.386Z"
   },
   {
    "duration": 11,
    "start_time": "2025-01-27T07:03:18.779Z"
   },
   {
    "duration": 241,
    "start_time": "2025-01-27T07:03:19.236Z"
   },
   {
    "duration": 30,
    "start_time": "2025-01-27T07:03:19.933Z"
   },
   {
    "duration": 8,
    "start_time": "2025-01-27T07:03:20.894Z"
   },
   {
    "duration": 126,
    "start_time": "2025-01-27T07:09:18.766Z"
   },
   {
    "duration": 10,
    "start_time": "2025-01-27T07:09:34.996Z"
   },
   {
    "duration": 11,
    "start_time": "2025-01-27T07:09:49.935Z"
   },
   {
    "duration": 6,
    "start_time": "2025-01-27T07:13:29.610Z"
   },
   {
    "duration": 3,
    "start_time": "2025-01-27T07:14:59.940Z"
   },
   {
    "duration": 358,
    "start_time": "2025-01-27T07:15:55.619Z"
   },
   {
    "duration": 442,
    "start_time": "2025-01-27T07:16:38.083Z"
   },
   {
    "duration": 387,
    "start_time": "2025-01-27T07:16:43.638Z"
   },
   {
    "duration": 54,
    "start_time": "2025-01-27T07:16:55.137Z"
   },
   {
    "duration": 329,
    "start_time": "2025-01-27T07:17:00.830Z"
   },
   {
    "duration": 4,
    "start_time": "2025-01-27T07:17:58.936Z"
   },
   {
    "duration": 601,
    "start_time": "2025-01-27T07:18:00.150Z"
   },
   {
    "duration": 3,
    "start_time": "2025-01-27T07:20:06.853Z"
   },
   {
    "duration": 468,
    "start_time": "2025-01-27T07:20:19.778Z"
   },
   {
    "duration": 6,
    "start_time": "2025-01-27T07:21:34.572Z"
   },
   {
    "duration": 479569,
    "start_time": "2025-01-27T07:22:10.468Z"
   },
   {
    "duration": 38,
    "start_time": "2025-01-27T07:32:18.215Z"
   },
   {
    "duration": 7068,
    "start_time": "2025-01-27T07:32:28.240Z"
   },
   {
    "duration": 116067,
    "start_time": "2025-01-27T07:32:39.008Z"
   },
   {
    "duration": 11,
    "start_time": "2025-01-27T07:37:39.975Z"
   },
   {
    "duration": 8,
    "start_time": "2025-01-27T07:37:55.846Z"
   },
   {
    "duration": 11,
    "start_time": "2025-01-27T07:38:01.303Z"
   },
   {
    "duration": 4,
    "start_time": "2025-01-27T07:42:36.965Z"
   },
   {
    "duration": 15,
    "start_time": "2025-01-27T07:42:49.411Z"
   },
   {
    "duration": 9,
    "start_time": "2025-01-27T07:42:55.341Z"
   },
   {
    "duration": 15,
    "start_time": "2025-01-27T07:42:58.646Z"
   },
   {
    "duration": 4,
    "start_time": "2025-01-27T07:45:58.988Z"
   },
   {
    "duration": 4,
    "start_time": "2025-01-27T07:46:06.407Z"
   },
   {
    "duration": 4,
    "start_time": "2025-01-27T07:56:07.514Z"
   },
   {
    "duration": 103,
    "start_time": "2025-01-27T07:57:06.482Z"
   },
   {
    "duration": 5,
    "start_time": "2025-01-27T07:57:37.163Z"
   },
   {
    "duration": 4,
    "start_time": "2025-01-27T07:57:37.615Z"
   },
   {
    "duration": 117,
    "start_time": "2025-01-27T07:57:38.118Z"
   },
   {
    "duration": 4,
    "start_time": "2025-01-27T07:58:18.276Z"
   },
   {
    "duration": 3,
    "start_time": "2025-01-27T07:58:19.541Z"
   },
   {
    "duration": 131,
    "start_time": "2025-01-27T07:58:20.377Z"
   },
   {
    "duration": 44,
    "start_time": "2025-01-27T08:00:49.783Z"
   },
   {
    "duration": 38,
    "start_time": "2025-01-27T08:00:58.977Z"
   },
   {
    "duration": 99,
    "start_time": "2025-01-27T08:01:58.329Z"
   },
   {
    "duration": 244,
    "start_time": "2025-01-27T08:03:48.275Z"
   },
   {
    "duration": 6,
    "start_time": "2025-01-27T08:04:19.124Z"
   },
   {
    "duration": 7,
    "start_time": "2025-01-27T08:04:37.628Z"
   },
   {
    "duration": 15,
    "start_time": "2025-01-27T08:04:50.297Z"
   },
   {
    "duration": 32,
    "start_time": "2025-01-27T08:05:04.814Z"
   },
   {
    "duration": 7,
    "start_time": "2025-01-27T08:05:13.320Z"
   },
   {
    "duration": 10,
    "start_time": "2025-01-27T08:05:39.932Z"
   },
   {
    "duration": 34,
    "start_time": "2025-01-27T08:05:49.205Z"
   },
   {
    "duration": 18,
    "start_time": "2025-01-27T08:05:54.660Z"
   },
   {
    "duration": 211,
    "start_time": "2025-01-27T08:06:24.924Z"
   },
   {
    "duration": 158,
    "start_time": "2025-01-27T08:06:41.741Z"
   },
   {
    "duration": 853,
    "start_time": "2025-01-27T08:06:42.102Z"
   },
   {
    "duration": 8,
    "start_time": "2025-01-27T08:06:42.958Z"
   },
   {
    "duration": 46,
    "start_time": "2025-01-27T08:06:42.968Z"
   },
   {
    "duration": 34,
    "start_time": "2025-01-27T08:06:43.675Z"
   },
   {
    "duration": 9,
    "start_time": "2025-01-27T08:07:09.910Z"
   },
   {
    "duration": 501148,
    "start_time": "2025-01-27T08:07:22.397Z"
   },
   {
    "duration": 53,
    "start_time": "2025-01-27T08:15:46.795Z"
   },
   {
    "duration": 6457,
    "start_time": "2025-01-27T08:15:48.255Z"
   },
   {
    "duration": 3,
    "start_time": "2025-01-27T08:15:56.507Z"
   },
   {
    "duration": 4,
    "start_time": "2025-01-27T08:15:56.735Z"
   },
   {
    "duration": 245,
    "start_time": "2025-01-27T08:15:59.929Z"
   },
   {
    "duration": 7,
    "start_time": "2025-01-27T08:16:11.995Z"
   },
   {
    "duration": 4,
    "start_time": "2025-01-27T08:16:37.186Z"
   },
   {
    "duration": 4,
    "start_time": "2025-01-27T08:17:25.821Z"
   },
   {
    "duration": 53,
    "start_time": "2025-01-27T08:18:38.730Z"
   },
   {
    "duration": 6970,
    "start_time": "2025-01-27T08:18:39.717Z"
   },
   {
    "duration": 239,
    "start_time": "2025-01-27T08:18:51.204Z"
   },
   {
    "duration": 311,
    "start_time": "2025-01-27T08:19:41.062Z"
   },
   {
    "duration": 95,
    "start_time": "2025-01-27T08:20:00.253Z"
   },
   {
    "duration": 54,
    "start_time": "2025-01-27T08:20:46.745Z"
   },
   {
    "duration": 6415,
    "start_time": "2025-01-27T08:20:47.600Z"
   },
   {
    "duration": 124061,
    "start_time": "2025-01-27T08:21:02.304Z"
   },
   {
    "duration": 22108,
    "start_time": "2025-01-27T08:23:12.474Z"
   },
   {
    "duration": 3299,
    "start_time": "2025-01-27T08:23:37.406Z"
   },
   {
    "duration": 127,
    "start_time": "2025-01-27T08:23:48.115Z"
   },
   {
    "duration": 8,
    "start_time": "2025-01-27T08:24:46.912Z"
   },
   {
    "duration": 82,
    "start_time": "2025-01-27T08:27:55.865Z"
   },
   {
    "duration": 7,
    "start_time": "2025-01-27T08:28:12.990Z"
   },
   {
    "duration": 1786,
    "start_time": "2025-01-27T08:42:43.229Z"
   },
   {
    "duration": 928,
    "start_time": "2025-01-27T08:42:45.016Z"
   },
   {
    "duration": 15,
    "start_time": "2025-01-27T08:42:45.946Z"
   },
   {
    "duration": 37,
    "start_time": "2025-01-27T08:42:45.963Z"
   },
   {
    "duration": 52,
    "start_time": "2025-01-27T08:42:46.002Z"
   },
   {
    "duration": 14,
    "start_time": "2025-01-27T08:42:46.056Z"
   },
   {
    "duration": 1823,
    "start_time": "2025-01-27T08:50:11.212Z"
   },
   {
    "duration": 949,
    "start_time": "2025-01-27T08:50:13.038Z"
   },
   {
    "duration": 11,
    "start_time": "2025-01-27T08:50:13.988Z"
   },
   {
    "duration": 33,
    "start_time": "2025-01-27T08:50:14.598Z"
   },
   {
    "duration": 29,
    "start_time": "2025-01-27T08:50:15.181Z"
   },
   {
    "duration": 8,
    "start_time": "2025-01-27T08:50:16.297Z"
   },
   {
    "duration": 512912,
    "start_time": "2025-01-27T08:50:17.767Z"
   },
   {
    "duration": 7,
    "start_time": "2025-01-27T08:59:15.042Z"
   },
   {
    "duration": 39,
    "start_time": "2025-01-27T08:59:16.293Z"
   },
   {
    "duration": 6320,
    "start_time": "2025-01-27T08:59:17.034Z"
   },
   {
    "duration": 122072,
    "start_time": "2025-01-27T08:59:29.084Z"
   },
   {
    "duration": 23606,
    "start_time": "2025-01-27T09:01:36.664Z"
   },
   {
    "duration": 3353,
    "start_time": "2025-01-27T09:02:03.959Z"
   },
   {
    "duration": 126,
    "start_time": "2025-01-27T09:02:08.798Z"
   },
   {
    "duration": 1836,
    "start_time": "2025-01-27T09:21:15.768Z"
   },
   {
    "duration": 899,
    "start_time": "2025-01-27T09:21:17.606Z"
   },
   {
    "duration": 11,
    "start_time": "2025-01-27T09:21:18.507Z"
   },
   {
    "duration": 71,
    "start_time": "2025-01-27T09:21:18.520Z"
   },
   {
    "duration": 132,
    "start_time": "2025-01-27T09:21:18.593Z"
   },
   {
    "duration": 7,
    "start_time": "2025-01-27T09:21:18.726Z"
   },
   {
    "duration": 520601,
    "start_time": "2025-01-27T09:21:20.625Z"
   },
   {
    "duration": 7,
    "start_time": "2025-01-27T09:30:08.923Z"
   },
   {
    "duration": 42,
    "start_time": "2025-01-27T09:30:09.807Z"
   },
   {
    "duration": 6599,
    "start_time": "2025-01-27T09:30:10.555Z"
   },
   {
    "duration": 123837,
    "start_time": "2025-01-27T09:30:18.418Z"
   },
   {
    "duration": 24253,
    "start_time": "2025-01-27T09:32:26.925Z"
   },
   {
    "duration": 3393,
    "start_time": "2025-01-27T09:32:53.893Z"
   },
   {
    "duration": 128,
    "start_time": "2025-01-27T09:32:58.196Z"
   },
   {
    "duration": 11,
    "start_time": "2025-01-27T09:32:59.495Z"
   },
   {
    "duration": 17,
    "start_time": "2025-01-27T09:33:01.785Z"
   },
   {
    "duration": 258,
    "start_time": "2025-01-27T09:33:16.037Z"
   }
  ],
  "kernelspec": {
   "display_name": "Python 3 (ipykernel)",
   "language": "python",
   "name": "python3"
  },
  "language_info": {
   "codemirror_mode": {
    "name": "ipython",
    "version": 3
   },
   "file_extension": ".py",
   "mimetype": "text/x-python",
   "name": "python",
   "nbconvert_exporter": "python",
   "pygments_lexer": "ipython3",
   "version": "3.12.7"
  },
  "toc": {
   "base_numbering": 1,
   "nav_menu": {},
   "number_sections": true,
   "sideBar": true,
   "skip_h1_title": true,
   "title_cell": "Содержание",
   "title_sidebar": "Contents",
   "toc_cell": true,
   "toc_position": {
    "height": "calc(100% - 180px)",
    "left": "10px",
    "top": "150px",
    "width": "302.391px"
   },
   "toc_section_display": true,
   "toc_window_display": false
  }
 },
 "nbformat": 4,
 "nbformat_minor": 4
}

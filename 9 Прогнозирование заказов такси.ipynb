{
 "cells": [
  {
   "cell_type": "markdown",
   "metadata": {
    "toc": true
   },
   "source": [
    "<h1>Содержание<span class=\"tocSkip\"></span></h1>\n",
    "<div class=\"toc\"><ul class=\"toc-item\"><li><span><a href=\"#Подготовка\" data-toc-modified-id=\"Подготовка-1\"><span class=\"toc-item-num\">1&nbsp;&nbsp;</span>Подготовка</a></span></li><li><span><a href=\"#Анализ\" data-toc-modified-id=\"Анализ-2\"><span class=\"toc-item-num\">2&nbsp;&nbsp;</span>Анализ</a></span><ul class=\"toc-item\"><li><span><a href=\"#Скользящее-среднее\" data-toc-modified-id=\"Скользящее-среднее-2.1\"><span class=\"toc-item-num\">2.1&nbsp;&nbsp;</span>Скользящее среднее</a></span></li><li><span><a href=\"#Тренды-и-сезонность\" data-toc-modified-id=\"Тренды-и-сезонность-2.2\"><span class=\"toc-item-num\">2.2&nbsp;&nbsp;</span>Тренды и сезонность</a></span></li><li><span><a href=\"#Разности-временного-ряда\" data-toc-modified-id=\"Разности-временного-ряда-2.3\"><span class=\"toc-item-num\">2.3&nbsp;&nbsp;</span>Разности временного ряда</a></span></li></ul></li><li><span><a href=\"#Обучение\" data-toc-modified-id=\"Обучение-3\"><span class=\"toc-item-num\">3&nbsp;&nbsp;</span>Обучение</a></span><ul class=\"toc-item\"><li><span><a href=\"#Качество-прогноза\" data-toc-modified-id=\"Качество-прогноза-3.1\"><span class=\"toc-item-num\">3.1&nbsp;&nbsp;</span>Качество прогноза</a></span></li><li><span><a href=\"#Создание-признаков\" data-toc-modified-id=\"Создание-признаков-3.2\"><span class=\"toc-item-num\">3.2&nbsp;&nbsp;</span>Создание признаков</a></span></li><li><span><a href=\"#Обучение-моделей\" data-toc-modified-id=\"Обучение-моделей-3.3\"><span class=\"toc-item-num\">3.3&nbsp;&nbsp;</span>Обучение моделей</a></span></li><li><span><a href=\"#LinearRegression\" data-toc-modified-id=\"LinearRegression-3.4\"><span class=\"toc-item-num\">3.4&nbsp;&nbsp;</span>LinearRegression</a></span></li><li><span><a href=\"#LGBMRegressor\" data-toc-modified-id=\"LGBMRegressor-3.5\"><span class=\"toc-item-num\">3.5&nbsp;&nbsp;</span>LGBMRegressor</a></span></li><li><span><a href=\"#RandomForestRegressor\" data-toc-modified-id=\"RandomForestRegressor-3.6\"><span class=\"toc-item-num\">3.6&nbsp;&nbsp;</span>RandomForestRegressor</a></span></li><li><span><a href=\"#Тест-лучшей-модели\" data-toc-modified-id=\"Тест-лучшей-модели-3.7\"><span class=\"toc-item-num\">3.7&nbsp;&nbsp;</span>Тест лучшей модели</a></span></li></ul></li><li><span><a href=\"#Вывод\" data-toc-modified-id=\"Вывод-4\"><span class=\"toc-item-num\">4&nbsp;&nbsp;</span>Вывод</a></span></li><li><span><a href=\"#Чек-лист-проверки\" data-toc-modified-id=\"Чек-лист-проверки-5\"><span class=\"toc-item-num\">5&nbsp;&nbsp;</span>Чек-лист проверки</a></span></li></ul></div>"
   ]
  },
  {
   "cell_type": "markdown",
   "metadata": {},
   "source": [
    "#  Прогнозирование заказов такси"
   ]
  },
  {
   "cell_type": "markdown",
   "metadata": {},
   "source": [
    "Компания «Чётенькое такси» собрала исторические данные о заказах такси в аэропортах. Чтобы привлекать больше водителей в период пиковой нагрузки, нужно спрогнозировать количество заказов такси на следующий час. Постройте модель для такого предсказания.\n",
    "\n",
    "Значение метрики *RMSE* на тестовой выборке должно быть не больше 48.\n",
    "\n",
    "Вам нужно:\n",
    "\n",
    "1. Загрузить данные и выполнить их ресемплирование по одному часу.\n",
    "2. Проанализировать данные.\n",
    "3. Обучить разные модели с различными гиперпараметрами. Сделать тестовую выборку размером 10% от исходных данных.\n",
    "4. Проверить данные на тестовой выборке и сделать выводы.\n",
    "\n",
    "\n",
    "Данные лежат в файле `taxi.csv`. Количество заказов находится в столбце `num_orders` (от англ. *number of orders*, «число заказов»)."
   ]
  },
  {
   "cell_type": "markdown",
   "metadata": {},
   "source": [
    "## Подготовка"
   ]
  },
  {
   "cell_type": "code",
   "execution_count": 1,
   "metadata": {},
   "outputs": [],
   "source": [
    "!pip install -U scikit-learn -q"
   ]
  },
  {
   "cell_type": "code",
   "execution_count": 22,
   "metadata": {},
   "outputs": [],
   "source": [
    "import os\n",
    "import pandas as pd\n",
    "import numpy as np\n",
    "import matplotlib.pyplot as plt\n",
    "import seaborn as sns\n",
    "import re\n",
    "import sklearn\n",
    "from statsmodels.tsa.seasonal import seasonal_decompose\n",
    "from math import sqrt\n",
    "\n",
    "\n",
    "from sklearn.model_selection import (\n",
    "    train_test_split,\n",
    "    cross_val_score,\n",
    "    TimeSeriesSplit,\n",
    "    GridSearchCV\n",
    ")\n",
    "\n",
    "from sklearn.metrics import mean_squared_error,make_scorer\n",
    "from sklearn.linear_model import LinearRegression\n",
    "from lightgbm import LGBMRegressor\n",
    "from sklearn.ensemble import RandomForestRegressor\n",
    "\n",
    "\n",
    "RANDOM_STATE = 42 \n",
    "tscv = TimeSeriesSplit(n_splits=5)"
   ]
  },
  {
   "cell_type": "code",
   "execution_count": 23,
   "metadata": {},
   "outputs": [],
   "source": [
    "df_1 = 'C:/Users/Gpets/Data With Python/taxi.csv'\n",
    "\n",
    "df_2 = '/datasets/taxi.csv'\n",
    "\n",
    "def load_data(primary_path, secondary_path):\n",
    "    if os.path.exists(primary_path):\n",
    "        try:\n",
    "            return pd.read_csv(primary_path, sep=',')\n",
    "        except:\n",
    "            return pd.read_csv(primary_path, sep=';')\n",
    "    elif os.path.exists(secondary_path):\n",
    "        try:\n",
    "            return pd.read_csv(secondary_path, sep=',')\n",
    "        except:\n",
    "            return pd.read_csv(secondary_path, sep=';')\n",
    "    else:\n",
    "        print(f\"Файл не найден: {primary_path} или {secondary_path}\")\n",
    "        return None\n",
    "\n",
    "\n",
    "df = load_data(df_1, df_2)"
   ]
  },
  {
   "cell_type": "code",
   "execution_count": 24,
   "metadata": {},
   "outputs": [
    {
     "data": {
      "text/html": [
       "<div>\n",
       "<style scoped>\n",
       "    .dataframe tbody tr th:only-of-type {\n",
       "        vertical-align: middle;\n",
       "    }\n",
       "\n",
       "    .dataframe tbody tr th {\n",
       "        vertical-align: top;\n",
       "    }\n",
       "\n",
       "    .dataframe thead th {\n",
       "        text-align: right;\n",
       "    }\n",
       "</style>\n",
       "<table border=\"1\" class=\"dataframe\">\n",
       "  <thead>\n",
       "    <tr style=\"text-align: right;\">\n",
       "      <th></th>\n",
       "      <th>datetime</th>\n",
       "      <th>num_orders</th>\n",
       "    </tr>\n",
       "  </thead>\n",
       "  <tbody>\n",
       "    <tr>\n",
       "      <th>0</th>\n",
       "      <td>2018-03-01 00:00:00</td>\n",
       "      <td>9</td>\n",
       "    </tr>\n",
       "    <tr>\n",
       "      <th>1</th>\n",
       "      <td>2018-03-01 00:10:00</td>\n",
       "      <td>14</td>\n",
       "    </tr>\n",
       "    <tr>\n",
       "      <th>2</th>\n",
       "      <td>2018-03-01 00:20:00</td>\n",
       "      <td>28</td>\n",
       "    </tr>\n",
       "    <tr>\n",
       "      <th>3</th>\n",
       "      <td>2018-03-01 00:30:00</td>\n",
       "      <td>20</td>\n",
       "    </tr>\n",
       "    <tr>\n",
       "      <th>4</th>\n",
       "      <td>2018-03-01 00:40:00</td>\n",
       "      <td>32</td>\n",
       "    </tr>\n",
       "  </tbody>\n",
       "</table>\n",
       "</div>"
      ],
      "text/plain": [
       "              datetime  num_orders\n",
       "0  2018-03-01 00:00:00           9\n",
       "1  2018-03-01 00:10:00          14\n",
       "2  2018-03-01 00:20:00          28\n",
       "3  2018-03-01 00:30:00          20\n",
       "4  2018-03-01 00:40:00          32"
      ]
     },
     "execution_count": 24,
     "metadata": {},
     "output_type": "execute_result"
    }
   ],
   "source": [
    "df.head()"
   ]
  },
  {
   "cell_type": "markdown",
   "metadata": {},
   "source": [
    "Выводим основную информацию о датафрейме с помощью метода `info()`"
   ]
  },
  {
   "cell_type": "code",
   "execution_count": 25,
   "metadata": {},
   "outputs": [
    {
     "name": "stdout",
     "output_type": "stream",
     "text": [
      "<class 'pandas.core.frame.DataFrame'>\n",
      "RangeIndex: 26496 entries, 0 to 26495\n",
      "Data columns (total 2 columns):\n",
      " #   Column      Non-Null Count  Dtype \n",
      "---  ------      --------------  ----- \n",
      " 0   datetime    26496 non-null  object\n",
      " 1   num_orders  26496 non-null  int64 \n",
      "dtypes: int64(1), object(1)\n",
      "memory usage: 414.1+ KB\n"
     ]
    }
   ],
   "source": [
    "df.info()"
   ]
  },
  {
   "cell_type": "markdown",
   "metadata": {},
   "source": [
    "У нас 26496 записей, без пропущенных значений. \n",
    "\n",
    "Приведем данные к удобному формату, для их анализа выделим временной промежуток, а затем построим график временного ряда."
   ]
  },
  {
   "cell_type": "code",
   "execution_count": 26,
   "metadata": {},
   "outputs": [
    {
     "name": "stdout",
     "output_type": "stream",
     "text": [
      "<class 'pandas.core.frame.DataFrame'>\n",
      "RangeIndex: 26496 entries, 0 to 26495\n",
      "Data columns (total 2 columns):\n",
      " #   Column      Non-Null Count  Dtype         \n",
      "---  ------      --------------  -----         \n",
      " 0   datetime    26496 non-null  datetime64[ns]\n",
      " 1   num_orders  26496 non-null  int64         \n",
      "dtypes: datetime64[ns](1), int64(1)\n",
      "memory usage: 414.1 KB\n"
     ]
    }
   ],
   "source": [
    "df['datetime'] = pd.to_datetime(df['datetime'], errors = 'coerce')\n",
    "df.info()"
   ]
  },
  {
   "cell_type": "markdown",
   "metadata": {},
   "source": [
    "Установим индекс таблицы равным столбцу `datetime`"
   ]
  },
  {
   "cell_type": "code",
   "execution_count": 27,
   "metadata": {},
   "outputs": [
    {
     "name": "stdout",
     "output_type": "stream",
     "text": [
      "<class 'pandas.core.frame.DataFrame'>\n",
      "DatetimeIndex: 26496 entries, 2018-03-01 00:00:00 to 2018-08-31 23:50:00\n",
      "Data columns (total 1 columns):\n",
      " #   Column      Non-Null Count  Dtype\n",
      "---  ------      --------------  -----\n",
      " 0   num_orders  26496 non-null  int64\n",
      "dtypes: int64(1)\n",
      "memory usage: 414.0 KB\n"
     ]
    }
   ],
   "source": [
    "df = df.set_index('datetime')\n",
    "df.info()"
   ]
  },
  {
   "cell_type": "markdown",
   "metadata": {},
   "source": [
    "Провреим, в хронологическом ли порядке расположены даты и время с помощью атрибута `is_monotonic`. \n",
    "\n",
    "Если порядок соблюдён, атрибут вернёт `True`, если нет — `False`."
   ]
  },
  {
   "cell_type": "code",
   "execution_count": 28,
   "metadata": {},
   "outputs": [
    {
     "data": {
      "text/plain": [
       "True"
      ]
     },
     "execution_count": 28,
     "metadata": {},
     "output_type": "execute_result"
    }
   ],
   "source": [
    "df.index.is_monotonic"
   ]
  },
  {
   "cell_type": "markdown",
   "metadata": {},
   "source": [
    "Проведем ресемплирование по одному часу."
   ]
  },
  {
   "cell_type": "code",
   "execution_count": 29,
   "metadata": {},
   "outputs": [],
   "source": [
    "df = df.resample('1H').sum()"
   ]
  },
  {
   "cell_type": "markdown",
   "metadata": {},
   "source": [
    "## Анализ"
   ]
  },
  {
   "cell_type": "markdown",
   "metadata": {},
   "source": [
    "### Скользящее среднее"
   ]
  },
  {
   "cell_type": "markdown",
   "metadata": {},
   "source": [
    "Снизим колебания, применив скользящее среднее.\n",
    "\n",
    "Скользящие средние помогают сгладить временной ряд и выделить тренды. Рассчитаем скользящие средние с разными окнами (например, 12 часов и 24 часа):"
   ]
  },
  {
   "cell_type": "code",
   "execution_count": 30,
   "metadata": {},
   "outputs": [
    {
     "data": {
      "text/plain": [
       "<AxesSubplot:xlabel='datetime'>"
      ]
     },
     "execution_count": 30,
     "metadata": {},
     "output_type": "execute_result"
    },
    {
     "data": {
      "image/png": "[encoded data removed]",
      "text/plain": [
       "<Figure size 1500x500 with 1 Axes>"
      ]
     },
     "metadata": {},
     "output_type": "display_data"
    }
   ],
   "source": [
    "df['rolling_mean_12h'] = df['num_orders'].rolling(12).mean()\n",
    "df['rolling_mean_24h'] = df['num_orders'].rolling(24).mean()\n",
    "df.plot(figsize=(15, 5))"
   ]
  },
  {
   "cell_type": "markdown",
   "metadata": {},
   "source": [
    "Судя по графику с двумя скользящими средними (12 и 24 часа):\n",
    "\n",
    "\n",
    "* **`Тренды:`**\n",
    "\n",
    "    * Общий рост: Скользящие средние показывают общий рост числа заказов с марта по август. Это показывает что спрос на такси в аэропортах увеличивается со временем.\n",
    "\n",
    "    * Долгосрочный тренд: Скользящая средняя с окном 24 часа сглаживает данные сильнее, показывая более плавный долгосрочный тренд по сравнению с 12-часовой средней.\n",
    "    \n",
    "    \n",
    "* **`Сезонность:`**\n",
    "\n",
    "    * Краткосрочные колебания: На исходных данных видны регулярные пики и спады, которые, скорее всего, связаны с суточной сезонностью (разные периоды активности в течение дня).\n",
    "\n",
    "    * Колебания вокруг средней: Обе скользящие средние (12 и 24 часа) сглаживают суточные колебания, но пики всё ещё заметны, особенно в диапазоне менее 12 часов."
   ]
  },
  {
   "cell_type": "code",
   "execution_count": 31,
   "metadata": {},
   "outputs": [],
   "source": [
    "df = df.drop(['rolling_mean_12h'], axis = 1)"
   ]
  },
  {
   "cell_type": "markdown",
   "metadata": {},
   "source": [
    "### Тренды и сезонность"
   ]
  },
  {
   "cell_type": "code",
   "execution_count": 32,
   "metadata": {},
   "outputs": [
    {
     "data": {
      "image/png": "[encoded data removed]",
      "text/plain": [
       "<Figure size 600x800 with 3 Axes>"
      ]
     },
     "metadata": {},
     "output_type": "display_data"
    }
   ],
   "source": [
    "decomposed = seasonal_decompose(df['num_orders'])\n",
    "\n",
    "\n",
    "plt.figure(figsize=(6, 8))\n",
    "plt.subplot(311)\n",
    "\n",
    "decomposed.trend.plot(ax=plt.gca())\n",
    "plt.title('Trend')\n",
    "plt.subplot(312)\n",
    "\n",
    "\n",
    "decomposed.seasonal.plot(ax=plt.gca())\n",
    "plt.title('Seasonality')\n",
    "plt.subplot(313)\n",
    "\n",
    "decomposed.resid.plot(ax=plt.gca())\n",
    "plt.title('Residuals')\n",
    "plt.tight_layout()"
   ]
  },
  {
   "cell_type": "markdown",
   "metadata": {},
   "source": [
    "На графике представлены три компоненты временного ряда: тренд, сезонность и остатки. Вот что можно отметить:\n",
    "\n",
    "\n",
    "* Тренд:\n",
    "\n",
    "    * Наблюдается стабильный рост числа заказов с марта по август.\n",
    "\n",
    "\n",
    "* Сезонность: \n",
    "\n",
    "    * Сезонный компонент показывает регулярные циклы, которые повторяются примерно каждые 24 часа. Это может быть связано с суточными пиками активности. Амплитуда сезонности остаётся относительно постоянной на протяжении всего периода.\n",
    "  \n",
    "  \n",
    "  \n",
    "* Остатки: \n",
    "\n",
    "    * Остатки выглядят шумно, но с увеличением значения тренда их амплитуда также возрастает."
   ]
  },
  {
   "cell_type": "markdown",
   "metadata": {},
   "source": [
    "### Разности временного ряда"
   ]
  },
  {
   "cell_type": "markdown",
   "metadata": {},
   "source": [
    "Прогнозировать данные помогут нам стационарные ряды. Чтобы ряд сделать стационарным, найдём разности его значений."
   ]
  },
  {
   "cell_type": "code",
   "execution_count": 33,
   "metadata": {},
   "outputs": [
    {
     "data": {
      "text/plain": [
       "<AxesSubplot:xlabel='datetime'>"
      ]
     },
     "execution_count": 33,
     "metadata": {},
     "output_type": "execute_result"
    },
    {
     "data": {
      "image/png": "[encoded data removed]",
      "text/plain": [
       "<Figure size 1500x500 with 1 Axes>"
      ]
     },
     "metadata": {},
     "output_type": "display_data"
    }
   ],
   "source": [
    "df['rolling_mean_24h'] = df['num_orders'].shift().rolling(24).mean()\n",
    "df['std'] = df['num_orders'].shift().rolling(24).std()\n",
    "df.plot(figsize=(15, 5))"
   ]
  },
  {
   "cell_type": "markdown",
   "metadata": {},
   "source": [
    "Наш график отображает разность временного ряда, скользящее среднее и стандартное отклонение с окном 24 часа:\n",
    "\n",
    "\n",
    "* Синий график показывает разность значений временного ряда (разности между текущим и предыдущим значением). Видны периоды значительных всплесков и падений, что указывает на резкие изменения заказов.\n",
    "\n",
    "\n",
    "* Оранжевый график отображает сглаживание ряда с помощью 24-часового окна. Скользящее среднее остаётся около нуля, что ожидаемо для данных, преобразованных через разность.\n",
    "\n",
    "\n",
    "* Зелёный график показывает изменчивость временного ряда в 24-часовом окне. Чем больше стандартное отклонение, тем сильнее вариативность данных. На графике стандартное отклонение стабильно невысокое, но оно увеличивается в периоды резких всплесков.\n",
    "\n"
   ]
  },
  {
   "cell_type": "code",
   "execution_count": 34,
   "metadata": {},
   "outputs": [],
   "source": [
    "df.drop(['rolling_mean_24h', 'std'], axis=1, inplace=True)"
   ]
  },
  {
   "cell_type": "markdown",
   "metadata": {},
   "source": [
    "## Обучение"
   ]
  },
  {
   "cell_type": "markdown",
   "metadata": {},
   "source": [
    "Подготовим выборки для обучения моделей. Размер тестовой выборки 10% от исходных данных."
   ]
  },
  {
   "cell_type": "code",
   "execution_count": 35,
   "metadata": {},
   "outputs": [
    {
     "name": "stdout",
     "output_type": "stream",
     "text": [
      "2018-03-01 00:00:00 2018-08-13 13:00:00\n",
      "2018-08-13 14:00:00 2018-08-31 23:00:00\n"
     ]
    }
   ],
   "source": [
    "train, test = train_test_split(df, shuffle=False, test_size=0.1)\n",
    "\n",
    "print(train.index.min(), train.index.max())\n",
    "print(test.index.min(), test.index.max())"
   ]
  },
  {
   "cell_type": "markdown",
   "metadata": {},
   "source": [
    "Данные разбиты корректно: обучающая выборка заканчивается 13 августа в 13:00 , а тестовая начинается 13 августа 14:00."
   ]
  },
  {
   "cell_type": "markdown",
   "metadata": {},
   "source": [
    "### Качество прогноза"
   ]
  },
  {
   "cell_type": "markdown",
   "metadata": {},
   "source": [
    "Измерим качество предсказания временных рядов и проверим модели на адекватность. Эти модели пригодятся в автоматизации принятия технических решений.\n",
    "\n",
    "Спрогнозируем временные двумя способами:"
   ]
  },
  {
   "cell_type": "markdown",
   "metadata": {},
   "source": [
    "Первый способ — прогнозом константой. Количество заказов предскажем медианой, сохраним значения в переменной pred_median и найдем для этого прогноза значение RMSE. "
   ]
  },
  {
   "cell_type": "code",
   "execution_count": 36,
   "metadata": {},
   "outputs": [
    {
     "name": "stdout",
     "output_type": "stream",
     "text": [
      "RMSE 87.15277582981295\n"
     ]
    }
   ],
   "source": [
    "median_train = train['num_orders'].median()\n",
    "\n",
    "pred_median = np.full(test.shape[0], median_train)\n",
    "\n",
    "mse = mean_squared_error(test['num_orders'], pred_median)\n",
    "rmse = sqrt(mse)\n",
    "\n",
    "print(f\"RMSE {rmse}\")"
   ]
  },
  {
   "cell_type": "markdown",
   "metadata": {},
   "source": [
    "Второй способ — предыдущим значением ряда. Предскажем количество заказов и найдем для этого прогноза значение RMSE."
   ]
  },
  {
   "cell_type": "code",
   "execution_count": 38,
   "metadata": {},
   "outputs": [
    {
     "name": "stdout",
     "output_type": "stream",
     "text": [
      "RMSE на тестовой выборке: 58.856486242815066\n"
     ]
    }
   ],
   "source": [
    "pred_previous = test['num_orders'].shift()\n",
    "\n",
    "pred_previous.iloc[0] = train['num_orders'].iloc[-1]\n",
    "\n",
    "mse = mean_squared_error(test['num_orders'], pred_previous)\n",
    "rmse = sqrt(mse)\n",
    "\n",
    "print(f\"RMSE на тестовой выборке: {rmse}\")"
   ]
  },
  {
   "cell_type": "markdown",
   "metadata": {},
   "source": [
    "Прогноз предыдущим значением показывает лучшее качество (RMSE ниже), но не использует дополнительных признаков, которые могли бы улучшить точность."
   ]
  },
  {
   "cell_type": "markdown",
   "metadata": {},
   "source": [
    "### Создание признаков"
   ]
  },
  {
   "cell_type": "markdown",
   "metadata": {},
   "source": [
    "Создадим признаки для горизонта прогнозирования в один шаг.\n",
    "\n",
    "Напишем функцию для создания признаков"
   ]
  },
  {
   "cell_type": "code",
   "execution_count": 39,
   "metadata": {},
   "outputs": [],
   "source": [
    "def make_features(df, max_lag, rolling_mean_size):\n",
    "    data = df.copy()\n",
    "    \n",
    "    data['month'] = data.index.month\n",
    "    data['day'] = data.index.day\n",
    "    data['dayofweek'] = data.index.dayofweek\n",
    "\n",
    "    for lag in range(1, max_lag + 1):\n",
    "        data[f'lag_{lag}'] = data['num_orders'].shift(lag)\n",
    "\n",
    "    data['rolling_mean'] = data['num_orders'].shift().rolling(rolling_mean_size).mean()\n",
    "\n",
    "    return data\n",
    "\n",
    "\n",
    "\n",
    "df_features = make_features(df, 24, 24)"
   ]
  },
  {
   "cell_type": "markdown",
   "metadata": {},
   "source": [
    "В нашей функции мы сначала создаем 3 новых календарных признака: это `month`,  `day`, `dayofweek`.\n",
    "\n",
    "Затем вычислим отстающие значения. Добавим новые признаки: `lag_1`, `lag_2` и т.д\n",
    "\n",
    "И добавим Скользящее среднее который задаёт общий тренд временного ряда (`rolling_mean`)."
   ]
  },
  {
   "cell_type": "code",
   "execution_count": 40,
   "metadata": {},
   "outputs": [
    {
     "data": {
      "text/html": [
       "<div>\n",
       "<style scoped>\n",
       "    .dataframe tbody tr th:only-of-type {\n",
       "        vertical-align: middle;\n",
       "    }\n",
       "\n",
       "    .dataframe tbody tr th {\n",
       "        vertical-align: top;\n",
       "    }\n",
       "\n",
       "    .dataframe thead th {\n",
       "        text-align: right;\n",
       "    }\n",
       "</style>\n",
       "<table border=\"1\" class=\"dataframe\">\n",
       "  <thead>\n",
       "    <tr style=\"text-align: right;\">\n",
       "      <th></th>\n",
       "      <th>num_orders</th>\n",
       "      <th>month</th>\n",
       "      <th>day</th>\n",
       "      <th>dayofweek</th>\n",
       "      <th>lag_1</th>\n",
       "      <th>lag_2</th>\n",
       "      <th>lag_3</th>\n",
       "      <th>lag_4</th>\n",
       "      <th>lag_5</th>\n",
       "      <th>lag_6</th>\n",
       "      <th>...</th>\n",
       "      <th>lag_16</th>\n",
       "      <th>lag_17</th>\n",
       "      <th>lag_18</th>\n",
       "      <th>lag_19</th>\n",
       "      <th>lag_20</th>\n",
       "      <th>lag_21</th>\n",
       "      <th>lag_22</th>\n",
       "      <th>lag_23</th>\n",
       "      <th>lag_24</th>\n",
       "      <th>rolling_mean</th>\n",
       "    </tr>\n",
       "    <tr>\n",
       "      <th>datetime</th>\n",
       "      <th></th>\n",
       "      <th></th>\n",
       "      <th></th>\n",
       "      <th></th>\n",
       "      <th></th>\n",
       "      <th></th>\n",
       "      <th></th>\n",
       "      <th></th>\n",
       "      <th></th>\n",
       "      <th></th>\n",
       "      <th></th>\n",
       "      <th></th>\n",
       "      <th></th>\n",
       "      <th></th>\n",
       "      <th></th>\n",
       "      <th></th>\n",
       "      <th></th>\n",
       "      <th></th>\n",
       "      <th></th>\n",
       "      <th></th>\n",
       "      <th></th>\n",
       "    </tr>\n",
       "  </thead>\n",
       "  <tbody>\n",
       "    <tr>\n",
       "      <th>2018-03-01 00:00:00</th>\n",
       "      <td>124</td>\n",
       "      <td>3</td>\n",
       "      <td>1</td>\n",
       "      <td>3</td>\n",
       "      <td>NaN</td>\n",
       "      <td>NaN</td>\n",
       "      <td>NaN</td>\n",
       "      <td>NaN</td>\n",
       "      <td>NaN</td>\n",
       "      <td>NaN</td>\n",
       "      <td>...</td>\n",
       "      <td>NaN</td>\n",
       "      <td>NaN</td>\n",
       "      <td>NaN</td>\n",
       "      <td>NaN</td>\n",
       "      <td>NaN</td>\n",
       "      <td>NaN</td>\n",
       "      <td>NaN</td>\n",
       "      <td>NaN</td>\n",
       "      <td>NaN</td>\n",
       "      <td>NaN</td>\n",
       "    </tr>\n",
       "    <tr>\n",
       "      <th>2018-03-01 01:00:00</th>\n",
       "      <td>85</td>\n",
       "      <td>3</td>\n",
       "      <td>1</td>\n",
       "      <td>3</td>\n",
       "      <td>124.0</td>\n",
       "      <td>NaN</td>\n",
       "      <td>NaN</td>\n",
       "      <td>NaN</td>\n",
       "      <td>NaN</td>\n",
       "      <td>NaN</td>\n",
       "      <td>...</td>\n",
       "      <td>NaN</td>\n",
       "      <td>NaN</td>\n",
       "      <td>NaN</td>\n",
       "      <td>NaN</td>\n",
       "      <td>NaN</td>\n",
       "      <td>NaN</td>\n",
       "      <td>NaN</td>\n",
       "      <td>NaN</td>\n",
       "      <td>NaN</td>\n",
       "      <td>NaN</td>\n",
       "    </tr>\n",
       "    <tr>\n",
       "      <th>2018-03-01 02:00:00</th>\n",
       "      <td>71</td>\n",
       "      <td>3</td>\n",
       "      <td>1</td>\n",
       "      <td>3</td>\n",
       "      <td>85.0</td>\n",
       "      <td>124.0</td>\n",
       "      <td>NaN</td>\n",
       "      <td>NaN</td>\n",
       "      <td>NaN</td>\n",
       "      <td>NaN</td>\n",
       "      <td>...</td>\n",
       "      <td>NaN</td>\n",
       "      <td>NaN</td>\n",
       "      <td>NaN</td>\n",
       "      <td>NaN</td>\n",
       "      <td>NaN</td>\n",
       "      <td>NaN</td>\n",
       "      <td>NaN</td>\n",
       "      <td>NaN</td>\n",
       "      <td>NaN</td>\n",
       "      <td>NaN</td>\n",
       "    </tr>\n",
       "    <tr>\n",
       "      <th>2018-03-01 03:00:00</th>\n",
       "      <td>66</td>\n",
       "      <td>3</td>\n",
       "      <td>1</td>\n",
       "      <td>3</td>\n",
       "      <td>71.0</td>\n",
       "      <td>85.0</td>\n",
       "      <td>124.0</td>\n",
       "      <td>NaN</td>\n",
       "      <td>NaN</td>\n",
       "      <td>NaN</td>\n",
       "      <td>...</td>\n",
       "      <td>NaN</td>\n",
       "      <td>NaN</td>\n",
       "      <td>NaN</td>\n",
       "      <td>NaN</td>\n",
       "      <td>NaN</td>\n",
       "      <td>NaN</td>\n",
       "      <td>NaN</td>\n",
       "      <td>NaN</td>\n",
       "      <td>NaN</td>\n",
       "      <td>NaN</td>\n",
       "    </tr>\n",
       "    <tr>\n",
       "      <th>2018-03-01 04:00:00</th>\n",
       "      <td>43</td>\n",
       "      <td>3</td>\n",
       "      <td>1</td>\n",
       "      <td>3</td>\n",
       "      <td>66.0</td>\n",
       "      <td>71.0</td>\n",
       "      <td>85.0</td>\n",
       "      <td>124.0</td>\n",
       "      <td>NaN</td>\n",
       "      <td>NaN</td>\n",
       "      <td>...</td>\n",
       "      <td>NaN</td>\n",
       "      <td>NaN</td>\n",
       "      <td>NaN</td>\n",
       "      <td>NaN</td>\n",
       "      <td>NaN</td>\n",
       "      <td>NaN</td>\n",
       "      <td>NaN</td>\n",
       "      <td>NaN</td>\n",
       "      <td>NaN</td>\n",
       "      <td>NaN</td>\n",
       "    </tr>\n",
       "  </tbody>\n",
       "</table>\n",
       "<p>5 rows × 29 columns</p>\n",
       "</div>"
      ],
      "text/plain": [
       "                     num_orders  month  day  dayofweek  lag_1  lag_2  lag_3  \\\n",
       "datetime                                                                      \n",
       "2018-03-01 00:00:00         124      3    1          3    NaN    NaN    NaN   \n",
       "2018-03-01 01:00:00          85      3    1          3  124.0    NaN    NaN   \n",
       "2018-03-01 02:00:00          71      3    1          3   85.0  124.0    NaN   \n",
       "2018-03-01 03:00:00          66      3    1          3   71.0   85.0  124.0   \n",
       "2018-03-01 04:00:00          43      3    1          3   66.0   71.0   85.0   \n",
       "\n",
       "                     lag_4  lag_5  lag_6  ...  lag_16  lag_17  lag_18  lag_19  \\\n",
       "datetime                                  ...                                   \n",
       "2018-03-01 00:00:00    NaN    NaN    NaN  ...     NaN     NaN     NaN     NaN   \n",
       "2018-03-01 01:00:00    NaN    NaN    NaN  ...     NaN     NaN     NaN     NaN   \n",
       "2018-03-01 02:00:00    NaN    NaN    NaN  ...     NaN     NaN     NaN     NaN   \n",
       "2018-03-01 03:00:00    NaN    NaN    NaN  ...     NaN     NaN     NaN     NaN   \n",
       "2018-03-01 04:00:00  124.0    NaN    NaN  ...     NaN     NaN     NaN     NaN   \n",
       "\n",
       "                     lag_20  lag_21  lag_22  lag_23  lag_24  rolling_mean  \n",
       "datetime                                                                   \n",
       "2018-03-01 00:00:00     NaN     NaN     NaN     NaN     NaN           NaN  \n",
       "2018-03-01 01:00:00     NaN     NaN     NaN     NaN     NaN           NaN  \n",
       "2018-03-01 02:00:00     NaN     NaN     NaN     NaN     NaN           NaN  \n",
       "2018-03-01 03:00:00     NaN     NaN     NaN     NaN     NaN           NaN  \n",
       "2018-03-01 04:00:00     NaN     NaN     NaN     NaN     NaN           NaN  \n",
       "\n",
       "[5 rows x 29 columns]"
      ]
     },
     "execution_count": 40,
     "metadata": {},
     "output_type": "execute_result"
    }
   ],
   "source": [
    "df_features.head()"
   ]
  },
  {
   "cell_type": "code",
   "execution_count": 41,
   "metadata": {},
   "outputs": [
    {
     "data": {
      "text/plain": [
       "(4416, 29)"
      ]
     },
     "execution_count": 41,
     "metadata": {},
     "output_type": "execute_result"
    }
   ],
   "source": [
    "df_features.shape"
   ]
  },
  {
   "cell_type": "markdown",
   "metadata": {},
   "source": [
    "Удалим пропущенные значения"
   ]
  },
  {
   "cell_type": "code",
   "execution_count": 42,
   "metadata": {},
   "outputs": [
    {
     "data": {
      "text/plain": [
       "(4392, 29)"
      ]
     },
     "execution_count": 42,
     "metadata": {},
     "output_type": "execute_result"
    }
   ],
   "source": [
    "df_features = df_features.dropna()\n",
    "df_features.shape"
   ]
  },
  {
   "cell_type": "markdown",
   "metadata": {},
   "source": [
    "### Обучение моделей"
   ]
  },
  {
   "cell_type": "markdown",
   "metadata": {},
   "source": [
    "Выделем признаки и целевой признак."
   ]
  },
  {
   "cell_type": "code",
   "execution_count": 43,
   "metadata": {},
   "outputs": [],
   "source": [
    "X_train = df_features.drop(['num_orders'], axis = 1)\n",
    "y_train = df_features['num_orders']\n",
    "X_test = df_features.drop(['num_orders'], axis = 1)\n",
    "y_test = df_features['num_orders']"
   ]
  },
  {
   "cell_type": "markdown",
   "metadata": {},
   "source": [
    "### LinearRegression"
   ]
  },
  {
   "cell_type": "markdown",
   "metadata": {},
   "source": [
    "Обучим линейную регрессию"
   ]
  },
  {
   "cell_type": "code",
   "execution_count": 45,
   "metadata": {},
   "outputs": [
    {
     "name": "stdout",
     "output_type": "stream",
     "text": [
      "LinearRegression: Среднее RMSE: 29.85\n"
     ]
    }
   ],
   "source": [
    "def rmse_scorer(estimator, X, y):\n",
    "    y_pred = estimator.predict(X)\n",
    "    return sqrt(mean_squared_error(y, y_pred))\n",
    "\n",
    "model_lr = LinearRegression()\n",
    "\n",
    "cv_scores = cross_val_score(\n",
    "    model_lr,\n",
    "    X_train,\n",
    "    y_train,\n",
    "    cv=tscv,\n",
    "    scoring=rmse_scorer\n",
    ")\n",
    "print(f\"LinearRegression: Среднее RMSE: {np.mean(cv_scores):.2f}\")"
   ]
  },
  {
   "cell_type": "markdown",
   "metadata": {},
   "source": [
    "### LGBMRegressor"
   ]
  },
  {
   "cell_type": "markdown",
   "metadata": {},
   "source": [
    "Обучим модель градиентного бустинга `LGBM`"
   ]
  },
  {
   "cell_type": "code",
   "execution_count": 46,
   "metadata": {},
   "outputs": [],
   "source": [
    "param_grid_lgbm = {\n",
    "    'n_estimators': [10, 50, 100],\n",
    "    'max_depth': range(1, 11),\n",
    "    'learning_rate': [0.0001, 0.001, 0.01, 0.1, 1.0],\n",
    "}"
   ]
  },
  {
   "cell_type": "code",
   "execution_count": 47,
   "metadata": {},
   "outputs": [
    {
     "name": "stdout",
     "output_type": "stream",
     "text": [
      "[LightGBM] [Info] Auto-choosing col-wise multi-threading, the overhead of testing was 0.000665 seconds.\n",
      "You can set `force_col_wise=true` to remove the overhead.\n",
      "[LightGBM] [Info] Total Bins 5455\n",
      "[LightGBM] [Info] Number of data points in the train set: 4392, number of used features: 28\n",
      "[LightGBM] [Info] Start training from score 84.573543\n",
      "[LightGBM] [Warning] No further splits with positive gain, best gain: -inf\n",
      "[LightGBM] [Warning] No further splits with positive gain, best gain: -inf\n",
      "[LightGBM] [Warning] No further splits with positive gain, best gain: -inf\n",
      "[LightGBM] [Warning] No further splits with positive gain, best gain: -inf\n",
      "[LightGBM] [Warning] No further splits with positive gain, best gain: -inf\n",
      "[LightGBM] [Warning] No further splits with positive gain, best gain: -inf\n",
      "[LightGBM] [Warning] No further splits with positive gain, best gain: -inf\n",
      "[LightGBM] [Warning] No further splits with positive gain, best gain: -inf\n",
      "[LightGBM] [Warning] No further splits with positive gain, best gain: -inf\n",
      "[LightGBM] [Warning] No further splits with positive gain, best gain: -inf\n",
      "[LightGBM] [Warning] No further splits with positive gain, best gain: -inf\n",
      "[LightGBM] [Warning] No further splits with positive gain, best gain: -inf\n",
      "[LightGBM] [Warning] No further splits with positive gain, best gain: -inf\n",
      "[LightGBM] [Warning] No further splits with positive gain, best gain: -inf\n",
      "[LightGBM] [Warning] No further splits with positive gain, best gain: -inf\n",
      "[LightGBM] [Warning] No further splits with positive gain, best gain: -inf\n",
      "[LightGBM] [Warning] No further splits with positive gain, best gain: -inf\n",
      "[LightGBM] [Warning] No further splits with positive gain, best gain: -inf\n",
      "[LightGBM] [Warning] No further splits with positive gain, best gain: -inf\n",
      "[LightGBM] [Warning] No further splits with positive gain, best gain: -inf\n",
      "[LightGBM] [Warning] No further splits with positive gain, best gain: -inf\n",
      "[LightGBM] [Warning] No further splits with positive gain, best gain: -inf\n",
      "[LightGBM] [Warning] No further splits with positive gain, best gain: -inf\n",
      "[LightGBM] [Warning] No further splits with positive gain, best gain: -inf\n",
      "[LightGBM] [Warning] No further splits with positive gain, best gain: -inf\n",
      "[LightGBM] [Warning] No further splits with positive gain, best gain: -inf\n",
      "[LightGBM] [Warning] No further splits with positive gain, best gain: -inf\n",
      "[LightGBM] [Warning] No further splits with positive gain, best gain: -inf\n",
      "[LightGBM] [Warning] No further splits with positive gain, best gain: -inf\n",
      "[LightGBM] [Warning] No further splits with positive gain, best gain: -inf\n",
      "[LightGBM] [Warning] No further splits with positive gain, best gain: -inf\n",
      "[LightGBM] [Warning] No further splits with positive gain, best gain: -inf\n",
      "[LightGBM] [Warning] No further splits with positive gain, best gain: -inf\n",
      "[LightGBM] [Warning] No further splits with positive gain, best gain: -inf\n",
      "[LightGBM] [Warning] No further splits with positive gain, best gain: -inf\n",
      "[LightGBM] [Warning] No further splits with positive gain, best gain: -inf\n",
      "[LightGBM] [Warning] No further splits with positive gain, best gain: -inf\n",
      "[LightGBM] [Warning] No further splits with positive gain, best gain: -inf\n",
      "[LightGBM] [Warning] No further splits with positive gain, best gain: -inf\n",
      "[LightGBM] [Warning] No further splits with positive gain, best gain: -inf\n",
      "[LightGBM] [Warning] No further splits with positive gain, best gain: -inf\n",
      "[LightGBM] [Warning] No further splits with positive gain, best gain: -inf\n",
      "[LightGBM] [Warning] No further splits with positive gain, best gain: -inf\n",
      "[LightGBM] [Warning] No further splits with positive gain, best gain: -inf\n",
      "[LightGBM] [Warning] No further splits with positive gain, best gain: -inf\n",
      "[LightGBM] [Warning] No further splits with positive gain, best gain: -inf\n",
      "[LightGBM] [Warning] No further splits with positive gain, best gain: -inf\n",
      "[LightGBM] [Warning] No further splits with positive gain, best gain: -inf\n",
      "[LightGBM] [Warning] No further splits with positive gain, best gain: -inf\n",
      "[LightGBM] [Warning] No further splits with positive gain, best gain: -inf\n",
      "[LightGBM] [Warning] No further splits with positive gain, best gain: -inf\n",
      "[LightGBM] [Warning] No further splits with positive gain, best gain: -inf\n",
      "[LightGBM] [Warning] No further splits with positive gain, best gain: -inf\n",
      "[LightGBM] [Warning] No further splits with positive gain, best gain: -inf\n",
      "[LightGBM] [Warning] No further splits with positive gain, best gain: -inf\n",
      "[LightGBM] [Warning] No further splits with positive gain, best gain: -inf\n",
      "[LightGBM] [Warning] No further splits with positive gain, best gain: -inf\n",
      "[LightGBM] [Warning] No further splits with positive gain, best gain: -inf\n",
      "[LightGBM] [Warning] No further splits with positive gain, best gain: -inf\n",
      "[LightGBM] [Warning] No further splits with positive gain, best gain: -inf\n",
      "[LightGBM] [Warning] No further splits with positive gain, best gain: -inf\n",
      "[LightGBM] [Warning] No further splits with positive gain, best gain: -inf\n",
      "[LightGBM] [Warning] No further splits with positive gain, best gain: -inf\n",
      "[LightGBM] [Warning] No further splits with positive gain, best gain: -inf\n",
      "[LightGBM] [Warning] No further splits with positive gain, best gain: -inf\n",
      "[LightGBM] [Warning] No further splits with positive gain, best gain: -inf\n",
      "[LightGBM] [Warning] No further splits with positive gain, best gain: -inf\n",
      "[LightGBM] [Warning] No further splits with positive gain, best gain: -inf\n",
      "[LightGBM] [Warning] No further splits with positive gain, best gain: -inf\n",
      "[LightGBM] [Warning] No further splits with positive gain, best gain: -inf\n",
      "[LightGBM] [Warning] No further splits with positive gain, best gain: -inf\n",
      "[LightGBM] [Warning] No further splits with positive gain, best gain: -inf\n",
      "[LightGBM] [Warning] No further splits with positive gain, best gain: -inf\n",
      "[LightGBM] [Warning] No further splits with positive gain, best gain: -inf\n",
      "[LightGBM] [Warning] No further splits with positive gain, best gain: -inf\n",
      "[LightGBM] [Warning] No further splits with positive gain, best gain: -inf\n",
      "[LightGBM] [Warning] No further splits with positive gain, best gain: -inf\n",
      "[LightGBM] [Warning] No further splits with positive gain, best gain: -inf\n",
      "[LightGBM] [Warning] No further splits with positive gain, best gain: -inf\n",
      "[LightGBM] [Warning] No further splits with positive gain, best gain: -inf\n",
      "[LightGBM] [Warning] No further splits with positive gain, best gain: -inf\n",
      "[LightGBM] [Warning] No further splits with positive gain, best gain: -inf\n",
      "[LightGBM] [Warning] No further splits with positive gain, best gain: -inf\n",
      "[LightGBM] [Warning] No further splits with positive gain, best gain: -inf\n",
      "[LightGBM] [Warning] No further splits with positive gain, best gain: -inf\n",
      "[LightGBM] [Warning] No further splits with positive gain, best gain: -inf\n",
      "[LightGBM] [Warning] No further splits with positive gain, best gain: -inf\n",
      "[LightGBM] [Warning] No further splits with positive gain, best gain: -inf\n",
      "[LightGBM] [Warning] No further splits with positive gain, best gain: -inf\n",
      "[LightGBM] [Warning] No further splits with positive gain, best gain: -inf\n",
      "[LightGBM] [Warning] No further splits with positive gain, best gain: -inf\n",
      "[LightGBM] [Warning] No further splits with positive gain, best gain: -inf\n",
      "[LightGBM] [Warning] No further splits with positive gain, best gain: -inf\n",
      "[LightGBM] [Warning] No further splits with positive gain, best gain: -inf\n",
      "[LightGBM] [Warning] No further splits with positive gain, best gain: -inf\n",
      "[LightGBM] [Warning] No further splits with positive gain, best gain: -inf\n",
      "[LightGBM] [Warning] No further splits with positive gain, best gain: -inf\n",
      "[LightGBM] [Warning] No further splits with positive gain, best gain: -inf\n",
      "[LightGBM] [Warning] No further splits with positive gain, best gain: -inf\n",
      "[LightGBM] [Warning] No further splits with positive gain, best gain: -inf\n",
      "GridSearchCV_LGBM - параметры:\n",
      "\n",
      " LGBMRegressor(max_depth=4, random_state=42)\n",
      "GridSearchCV_LGBM - Метрика лучшей модели на кросс-валидации: 29.042489953645674\n"
     ]
    }
   ],
   "source": [
    "model_lgbm = LGBMRegressor(random_state=RANDOM_STATE)\n",
    "\n",
    "grid_search_lgbm = GridSearchCV(\n",
    "    model_lgbm, \n",
    "    param_grid_lgbm, \n",
    "    cv=tscv,\n",
    "    scoring='neg_mean_squared_error',\n",
    "    n_jobs=-1\n",
    ")\n",
    "\n",
    "grid_search_lgbm.fit(X_train, y_train)\n",
    "\n",
    "\n",
    "best_model_lgbm = grid_search_lgbm.best_estimator_\n",
    "best_score_lgbm = grid_search_lgbm.best_score_\n",
    "rmse_lgbm = np.sqrt(-best_score_lgbm)\n",
    "\n",
    "print('GridSearchCV_LGBM - параметры:\\n\\n', best_model_lgbm)\n",
    "print('GridSearchCV_LGBM - Метрика лучшей модели на кросс-валидации:', rmse_lgbm)"
   ]
  },
  {
   "cell_type": "markdown",
   "metadata": {},
   "source": [
    "### RandomForestRegressor"
   ]
  },
  {
   "cell_type": "markdown",
   "metadata": {},
   "source": [
    "Обучим модель `RandomForest`"
   ]
  },
  {
   "cell_type": "code",
   "execution_count": 48,
   "metadata": {},
   "outputs": [],
   "source": [
    "param_grid_rf = {\n",
    "    'n_estimators': [10, 50, 100],\n",
    "    'max_depth': [10, 20, None],\n",
    "    'min_samples_leaf': [1, 2, 4],\n",
    "    'min_samples_split': [2, 5, 10]\n",
    "}"
   ]
  },
  {
   "cell_type": "code",
   "execution_count": 49,
   "metadata": {},
   "outputs": [
    {
     "name": "stdout",
     "output_type": "stream",
     "text": [
      "GridSearchCV_RF - параметры:\n",
      "\n",
      " RandomForestRegressor(min_samples_split=5, random_state=42)\n",
      "GridSearchCV_RF - Метрика лучшей модели на кросс-валидации: 29.282107560119382\n"
     ]
    }
   ],
   "source": [
    "model_rf = RandomForestRegressor(random_state=RANDOM_STATE)\n",
    "\n",
    "\n",
    "grid_search_rf = GridSearchCV(\n",
    "    model_rf, \n",
    "    param_grid_rf, \n",
    "    cv=tscv,\n",
    "    scoring='neg_mean_squared_error',\n",
    "    n_jobs=-1\n",
    ")\n",
    "\n",
    "\n",
    "grid_search_rf.fit(X_train, y_train)\n",
    "\n",
    "best_model_rf = grid_search_rf.best_estimator_\n",
    "best_score_rf = grid_search_rf.best_score_\n",
    "rmse_rf = np.sqrt(-best_score_rf)\n",
    "\n",
    "print('GridSearchCV_RF - параметры:\\n\\n', best_model_rf)\n",
    "print('GridSearchCV_RF - Метрика лучшей модели на кросс-валидации:', rmse_rf)"
   ]
  },
  {
   "cell_type": "markdown",
   "metadata": {},
   "source": [
    "Наилучший результат показала модель **LGBM Regressor**."
   ]
  },
  {
   "cell_type": "markdown",
   "metadata": {},
   "source": [
    "### Тест лучшей модели"
   ]
  },
  {
   "cell_type": "code",
   "execution_count": 50,
   "metadata": {},
   "outputs": [
    {
     "name": "stdout",
     "output_type": "stream",
     "text": [
      "LightGBM RMSE: 20.199492508522226\n"
     ]
    }
   ],
   "source": [
    "y_pred = best_model_lgbm.predict(X_test)\n",
    "\n",
    "lgbm_mse = mean_squared_error(y_test, y_pred)\n",
    "\n",
    "lgbm_rmse = np.sqrt(lgbm_mse)\n",
    "\n",
    "print(\"LightGBM RMSE:\", lgbm_rmse)"
   ]
  },
  {
   "cell_type": "markdown",
   "metadata": {},
   "source": [
    "На тестовой выборке RMSE составило **20.19**."
   ]
  },
  {
   "cell_type": "markdown",
   "metadata": {},
   "source": [
    "## Вывод"
   ]
  },
  {
   "cell_type": "markdown",
   "metadata": {},
   "source": [
    "В рамках проекта для компании \"Чётенькое такси\" была выполнена задача прогнозирования количества заказов такси на следующий час. Основная цель состояла в том, чтобы построить модель, обеспечивающую значение метрики RMSE на тестовой выборке не более 48.\n",
    "\n",
    "1. Данные о заказах были агрегированы и ресемплированы до часового интервала.\n",
    "2. Созданы дополнительные признаки.\n",
    "3. Были обучены три модели: Linear Regression, LGBMRegressor, RandomForestRegressor.\n",
    "\n",
    "Наилучший результат показала модель LGBMRegressor с параметрами:\n",
    "\n",
    "```\n",
    "LGBMRegressor(max_depth=4, random_state=42)\n",
    "```\n",
    "\n",
    "Метрика RMSE для данной модели на кросс-валидации составила 29.04, что является наилучшим результатом среди всех рассмотренных моделей. Для сравнения:\n",
    "- Linear Regression: Среднее RMSE: 29.85\n",
    "- RandomForestRegressor: Среднее RMSE: 29.28\n",
    "\n",
    "Для визуализации результатов построен график временных рядов, отображающий предсказанные значения лучшей модели (LGBMRegressor) и реальные значения из тестовой выборки."
   ]
  },
  {
   "cell_type": "code",
   "execution_count": 51,
   "metadata": {},
   "outputs": [
    {
     "data": {
      "image/png": "[encoded data removed]",
      "text/plain": [
       "<Figure size 1200x600 with 1 Axes>"
      ]
     },
     "metadata": {},
     "output_type": "display_data"
    }
   ],
   "source": [
    "plt.figure(figsize=(12, 6))\n",
    "plt.plot(y_test.index, y_test, label='Реальные значения', color='blue')\n",
    "plt.plot(y_test.index, y_pred, label='Прогноз LGBM Regressor', color='orange')\n",
    "plt.xlabel('Дата')\n",
    "plt.ylabel('Количество заказов')\n",
    "plt.title('Сравнение реальных данных и прогноза LGBM Regressor')\n",
    "plt.legend()\n",
    "plt.grid()\n",
    "plt.show()"
   ]
  }
 ],
 "metadata": {
  "ExecuteTimeLog": [
   {
    "duration": 1425,
    "start_time": "2025-01-06T12:51:48.693Z"
   },
   {
    "duration": 194,
    "start_time": "2025-01-06T12:52:46.684Z"
   },
   {
    "duration": 13,
    "start_time": "2025-01-06T12:52:50.816Z"
   },
   {
    "duration": 14,
    "start_time": "2025-01-06T12:53:02.462Z"
   },
   {
    "duration": 15,
    "start_time": "2025-01-06T12:53:12.788Z"
   },
   {
    "duration": 16,
    "start_time": "2025-01-06T12:54:47.611Z"
   },
   {
    "duration": 11,
    "start_time": "2025-01-06T12:55:11.863Z"
   },
   {
    "duration": 4,
    "start_time": "2025-01-06T12:55:33.254Z"
   },
   {
    "duration": 77,
    "start_time": "2025-01-06T12:55:48.286Z"
   },
   {
    "duration": 8,
    "start_time": "2025-01-06T12:55:48.468Z"
   },
   {
    "duration": 13,
    "start_time": "2025-01-06T12:55:48.613Z"
   },
   {
    "duration": 13,
    "start_time": "2025-01-06T12:55:49.071Z"
   },
   {
    "duration": 8,
    "start_time": "2025-01-06T12:56:08.721Z"
   },
   {
    "duration": 17,
    "start_time": "2025-01-06T12:56:14.138Z"
   },
   {
    "duration": 14,
    "start_time": "2025-01-06T12:56:14.788Z"
   },
   {
    "duration": 3,
    "start_time": "2025-01-06T12:56:16.572Z"
   },
   {
    "duration": 8,
    "start_time": "2025-01-06T12:56:17.971Z"
   },
   {
    "duration": 105,
    "start_time": "2025-01-06T12:57:20.434Z"
   },
   {
    "duration": 6,
    "start_time": "2025-01-06T12:57:23.564Z"
   },
   {
    "duration": 146930,
    "start_time": "2025-01-06T12:57:27.420Z"
   },
   {
    "duration": 13,
    "start_time": "2025-01-06T12:59:56.396Z"
   },
   {
    "duration": 70,
    "start_time": "2025-01-06T13:00:17.057Z"
   },
   {
    "duration": 7,
    "start_time": "2025-01-06T13:00:17.867Z"
   },
   {
    "duration": 31,
    "start_time": "2025-01-06T13:00:17.876Z"
   },
   {
    "duration": 17,
    "start_time": "2025-01-06T13:00:17.965Z"
   },
   {
    "duration": 8,
    "start_time": "2025-01-06T13:00:18.124Z"
   },
   {
    "duration": 17,
    "start_time": "2025-01-06T13:00:18.259Z"
   },
   {
    "duration": 13,
    "start_time": "2025-01-06T13:00:18.395Z"
   },
   {
    "duration": 5,
    "start_time": "2025-01-06T13:00:18.533Z"
   },
   {
    "duration": 7,
    "start_time": "2025-01-06T13:00:18.670Z"
   },
   {
    "duration": 265,
    "start_time": "2025-01-06T13:00:20.240Z"
   },
   {
    "duration": 6,
    "start_time": "2025-01-06T13:01:04.709Z"
   },
   {
    "duration": 286,
    "start_time": "2025-01-06T13:01:11.628Z"
   },
   {
    "duration": 167,
    "start_time": "2025-01-06T13:01:41.962Z"
   },
   {
    "duration": 17,
    "start_time": "2025-01-06T13:02:30.225Z"
   },
   {
    "duration": 10,
    "start_time": "2025-01-06T13:03:12.123Z"
   },
   {
    "duration": 3,
    "start_time": "2025-01-06T13:03:22.725Z"
   },
   {
    "duration": 11,
    "start_time": "2025-01-06T13:03:26.132Z"
   },
   {
    "duration": 383,
    "start_time": "2025-01-06T13:04:20.030Z"
   },
   {
    "duration": 3,
    "start_time": "2025-01-06T13:08:29.115Z"
   },
   {
    "duration": 79,
    "start_time": "2025-01-06T13:08:29.264Z"
   },
   {
    "duration": 8,
    "start_time": "2025-01-06T13:08:29.409Z"
   },
   {
    "duration": 13,
    "start_time": "2025-01-06T13:08:29.558Z"
   },
   {
    "duration": 12,
    "start_time": "2025-01-06T13:08:29.695Z"
   },
   {
    "duration": 8,
    "start_time": "2025-01-06T13:08:29.831Z"
   },
   {
    "duration": 18,
    "start_time": "2025-01-06T13:08:29.968Z"
   },
   {
    "duration": 11,
    "start_time": "2025-01-06T13:08:30.099Z"
   },
   {
    "duration": 5,
    "start_time": "2025-01-06T13:08:30.228Z"
   },
   {
    "duration": 7,
    "start_time": "2025-01-06T13:08:30.363Z"
   },
   {
    "duration": 317,
    "start_time": "2025-01-06T13:08:52.730Z"
   },
   {
    "duration": 365,
    "start_time": "2025-01-06T13:09:14.271Z"
   },
   {
    "duration": 1067,
    "start_time": "2025-01-06T13:10:50.926Z"
   },
   {
    "duration": 12,
    "start_time": "2025-01-06T13:11:21.072Z"
   },
   {
    "duration": 11,
    "start_time": "2025-01-06T13:12:09.043Z"
   },
   {
    "duration": 12,
    "start_time": "2025-01-06T13:12:19.943Z"
   },
   {
    "duration": 274,
    "start_time": "2025-01-06T13:12:23.288Z"
   },
   {
    "duration": 12,
    "start_time": "2025-01-06T13:13:58.357Z"
   },
   {
    "duration": 12,
    "start_time": "2025-01-06T13:14:24.508Z"
   },
   {
    "duration": 629,
    "start_time": "2025-01-06T13:14:33.497Z"
   },
   {
    "duration": 11,
    "start_time": "2025-01-06T13:15:21.844Z"
   },
   {
    "duration": 13,
    "start_time": "2025-01-06T13:15:34.559Z"
   },
   {
    "duration": 13,
    "start_time": "2025-01-06T13:15:54.149Z"
   },
   {
    "duration": 792,
    "start_time": "2025-01-06T13:16:29.102Z"
   },
   {
    "duration": 16,
    "start_time": "2025-01-06T13:18:13.003Z"
   },
   {
    "duration": 399,
    "start_time": "2025-01-06T13:18:15.535Z"
   },
   {
    "duration": 558,
    "start_time": "2025-01-06T13:18:33.207Z"
   },
   {
    "duration": 3,
    "start_time": "2025-01-06T13:20:07.897Z"
   },
   {
    "duration": 75,
    "start_time": "2025-01-06T13:20:08.198Z"
   },
   {
    "duration": 9,
    "start_time": "2025-01-06T13:20:08.371Z"
   },
   {
    "duration": 15,
    "start_time": "2025-01-06T13:20:08.523Z"
   },
   {
    "duration": 14,
    "start_time": "2025-01-06T13:20:08.680Z"
   },
   {
    "duration": 9,
    "start_time": "2025-01-06T13:20:08.816Z"
   },
   {
    "duration": 20,
    "start_time": "2025-01-06T13:20:08.934Z"
   },
   {
    "duration": 12,
    "start_time": "2025-01-06T13:20:09.064Z"
   },
   {
    "duration": 4,
    "start_time": "2025-01-06T13:20:09.190Z"
   },
   {
    "duration": 7,
    "start_time": "2025-01-06T13:20:09.321Z"
   },
   {
    "duration": 358,
    "start_time": "2025-01-06T13:20:09.754Z"
   },
   {
    "duration": 772,
    "start_time": "2025-01-06T13:20:10.114Z"
   },
   {
    "duration": 367,
    "start_time": "2025-01-06T13:20:11.631Z"
   },
   {
    "duration": 478,
    "start_time": "2025-01-06T13:20:36.910Z"
   },
   {
    "duration": 284,
    "start_time": "2025-01-06T13:29:02.435Z"
   },
   {
    "duration": 20,
    "start_time": "2025-01-06T13:29:06.779Z"
   },
   {
    "duration": 6,
    "start_time": "2025-01-06T13:29:12.949Z"
   },
   {
    "duration": 4,
    "start_time": "2025-01-06T13:30:00.956Z"
   },
   {
    "duration": 14,
    "start_time": "2025-01-06T13:33:31.386Z"
   },
   {
    "duration": 3,
    "start_time": "2025-01-06T13:33:39.174Z"
   },
   {
    "duration": 6,
    "start_time": "2025-01-06T13:33:42.332Z"
   },
   {
    "duration": 6,
    "start_time": "2025-01-06T13:36:23.676Z"
   },
   {
    "duration": 6,
    "start_time": "2025-01-06T13:36:29.048Z"
   },
   {
    "duration": 4,
    "start_time": "2025-01-06T13:36:32.942Z"
   },
   {
    "duration": 95,
    "start_time": "2025-01-06T13:36:33.053Z"
   },
   {
    "duration": 8,
    "start_time": "2025-01-06T13:36:33.216Z"
   },
   {
    "duration": 16,
    "start_time": "2025-01-06T13:36:33.344Z"
   },
   {
    "duration": 19,
    "start_time": "2025-01-06T13:36:33.852Z"
   },
   {
    "duration": 9,
    "start_time": "2025-01-06T13:36:33.881Z"
   },
   {
    "duration": 25,
    "start_time": "2025-01-06T13:36:33.912Z"
   },
   {
    "duration": 24,
    "start_time": "2025-01-06T13:36:33.943Z"
   },
   {
    "duration": 6,
    "start_time": "2025-01-06T13:36:33.974Z"
   },
   {
    "duration": 8,
    "start_time": "2025-01-06T13:36:34.022Z"
   },
   {
    "duration": 379,
    "start_time": "2025-01-06T13:36:34.084Z"
   },
   {
    "duration": 802,
    "start_time": "2025-01-06T13:36:34.473Z"
   },
   {
    "duration": 363,
    "start_time": "2025-01-06T13:36:35.277Z"
   },
   {
    "duration": 28,
    "start_time": "2025-01-06T13:36:35.643Z"
   },
   {
    "duration": 7,
    "start_time": "2025-01-06T13:36:35.989Z"
   },
   {
    "duration": 8,
    "start_time": "2025-01-06T13:39:45.919Z"
   },
   {
    "duration": 5,
    "start_time": "2025-01-06T13:39:47.020Z"
   },
   {
    "duration": 8,
    "start_time": "2025-01-06T13:41:13.573Z"
   },
   {
    "duration": 7,
    "start_time": "2025-01-06T13:42:15.059Z"
   },
   {
    "duration": 6,
    "start_time": "2025-01-06T13:42:26.619Z"
   },
   {
    "duration": 6,
    "start_time": "2025-01-06T13:42:50.243Z"
   },
   {
    "duration": 1661,
    "start_time": "2025-01-07T07:35:12.838Z"
   },
   {
    "duration": 149,
    "start_time": "2025-01-07T07:35:14.501Z"
   },
   {
    "duration": 11,
    "start_time": "2025-01-07T07:35:14.652Z"
   },
   {
    "duration": 13,
    "start_time": "2025-01-07T07:35:14.665Z"
   },
   {
    "duration": 11,
    "start_time": "2025-01-07T07:35:14.680Z"
   },
   {
    "duration": 13,
    "start_time": "2025-01-07T07:35:14.693Z"
   },
   {
    "duration": 26,
    "start_time": "2025-01-07T07:35:14.707Z"
   },
   {
    "duration": 10,
    "start_time": "2025-01-07T07:35:14.735Z"
   },
   {
    "duration": 15,
    "start_time": "2025-01-07T07:35:14.747Z"
   },
   {
    "duration": 9,
    "start_time": "2025-01-07T07:35:14.771Z"
   },
   {
    "duration": 391,
    "start_time": "2025-01-07T07:35:14.781Z"
   },
   {
    "duration": 868,
    "start_time": "2025-01-07T07:35:15.174Z"
   },
   {
    "duration": 337,
    "start_time": "2025-01-07T07:35:16.044Z"
   },
   {
    "duration": 7,
    "start_time": "2025-01-07T07:35:21.364Z"
   },
   {
    "duration": 7,
    "start_time": "2025-01-07T07:35:21.522Z"
   },
   {
    "duration": 5,
    "start_time": "2025-01-07T07:35:21.950Z"
   },
   {
    "duration": 11,
    "start_time": "2025-01-07T07:41:07.970Z"
   },
   {
    "duration": 14,
    "start_time": "2025-01-07T07:41:15.104Z"
   },
   {
    "duration": 7,
    "start_time": "2025-01-07T07:42:00.719Z"
   },
   {
    "duration": 128,
    "start_time": "2025-01-07T07:42:08.305Z"
   },
   {
    "duration": 5,
    "start_time": "2025-01-07T07:42:13.756Z"
   },
   {
    "duration": 10,
    "start_time": "2025-01-07T07:42:22.981Z"
   },
   {
    "duration": 22,
    "start_time": "2025-01-07T07:42:38.214Z"
   },
   {
    "duration": 21,
    "start_time": "2025-01-07T07:42:41.701Z"
   },
   {
    "duration": 7,
    "start_time": "2025-01-07T07:44:11.426Z"
   },
   {
    "duration": 6,
    "start_time": "2025-01-07T07:44:30.473Z"
   },
   {
    "duration": 7,
    "start_time": "2025-01-07T07:45:10.443Z"
   },
   {
    "duration": 8,
    "start_time": "2025-01-07T07:45:10.874Z"
   },
   {
    "duration": 206,
    "start_time": "2025-01-07T07:45:13.177Z"
   },
   {
    "duration": 5,
    "start_time": "2025-01-07T07:45:58.186Z"
   },
   {
    "duration": 168,
    "start_time": "2025-01-07T07:46:02.107Z"
   },
   {
    "duration": 7,
    "start_time": "2025-01-07T07:46:49.487Z"
   },
   {
    "duration": 10,
    "start_time": "2025-01-07T07:47:14.371Z"
   },
   {
    "duration": 16,
    "start_time": "2025-01-07T07:47:16.111Z"
   },
   {
    "duration": 3,
    "start_time": "2025-01-07T07:48:18.996Z"
   },
   {
    "duration": 15,
    "start_time": "2025-01-07T07:50:27.750Z"
   },
   {
    "duration": 4,
    "start_time": "2025-01-07T07:50:48.151Z"
   },
   {
    "duration": 83,
    "start_time": "2025-01-07T07:50:48.494Z"
   },
   {
    "duration": 7,
    "start_time": "2025-01-07T07:50:48.668Z"
   },
   {
    "duration": 13,
    "start_time": "2025-01-07T07:50:49.181Z"
   },
   {
    "duration": 12,
    "start_time": "2025-01-07T07:50:49.211Z"
   },
   {
    "duration": 7,
    "start_time": "2025-01-07T07:50:49.244Z"
   },
   {
    "duration": 16,
    "start_time": "2025-01-07T07:50:49.274Z"
   },
   {
    "duration": 11,
    "start_time": "2025-01-07T07:50:49.305Z"
   },
   {
    "duration": 4,
    "start_time": "2025-01-07T07:50:49.337Z"
   },
   {
    "duration": 7,
    "start_time": "2025-01-07T07:50:49.368Z"
   },
   {
    "duration": 345,
    "start_time": "2025-01-07T07:50:49.447Z"
   },
   {
    "duration": 805,
    "start_time": "2025-01-07T07:50:49.868Z"
   },
   {
    "duration": 338,
    "start_time": "2025-01-07T07:50:50.675Z"
   },
   {
    "duration": 6,
    "start_time": "2025-01-07T07:50:52.104Z"
   },
   {
    "duration": 8,
    "start_time": "2025-01-07T07:50:52.755Z"
   },
   {
    "duration": 6,
    "start_time": "2025-01-07T07:50:53.045Z"
   },
   {
    "duration": 12,
    "start_time": "2025-01-07T07:50:54.488Z"
   },
   {
    "duration": 14,
    "start_time": "2025-01-07T07:50:55.870Z"
   },
   {
    "duration": 7,
    "start_time": "2025-01-07T07:51:07.316Z"
   },
   {
    "duration": 4,
    "start_time": "2025-01-07T07:51:10.358Z"
   },
   {
    "duration": 5,
    "start_time": "2025-01-07T07:51:11.526Z"
   },
   {
    "duration": 5,
    "start_time": "2025-01-07T07:51:14.922Z"
   },
   {
    "duration": 6,
    "start_time": "2025-01-07T07:51:16.555Z"
   },
   {
    "duration": 4,
    "start_time": "2025-01-07T07:51:23.096Z"
   },
   {
    "duration": 15,
    "start_time": "2025-01-07T07:51:25.304Z"
   },
   {
    "duration": 6,
    "start_time": "2025-01-07T07:51:25.910Z"
   },
   {
    "duration": 19,
    "start_time": "2025-01-07T07:52:42.896Z"
   },
   {
    "duration": 762,
    "start_time": "2025-01-07T08:13:53.013Z"
   },
   {
    "duration": 4,
    "start_time": "2025-01-07T08:14:00.834Z"
   },
   {
    "duration": 90,
    "start_time": "2025-01-07T08:14:01.039Z"
   },
   {
    "duration": 7,
    "start_time": "2025-01-07T08:14:01.190Z"
   },
   {
    "duration": 13,
    "start_time": "2025-01-07T08:14:01.512Z"
   },
   {
    "duration": 16,
    "start_time": "2025-01-07T08:14:01.934Z"
   },
   {
    "duration": 12,
    "start_time": "2025-01-07T08:14:02.235Z"
   },
   {
    "duration": 4,
    "start_time": "2025-01-07T08:14:02.524Z"
   },
   {
    "duration": 6,
    "start_time": "2025-01-07T08:14:02.928Z"
   },
   {
    "duration": 336,
    "start_time": "2025-01-07T08:14:03.753Z"
   },
   {
    "duration": 724,
    "start_time": "2025-01-07T08:14:06.752Z"
   },
   {
    "duration": 446,
    "start_time": "2025-01-07T08:14:10.775Z"
   },
   {
    "duration": 4,
    "start_time": "2025-01-07T08:15:13.039Z"
   },
   {
    "duration": 12,
    "start_time": "2025-01-07T08:15:13.740Z"
   },
   {
    "duration": 4,
    "start_time": "2025-01-07T08:15:35.516Z"
   },
   {
    "duration": 90,
    "start_time": "2025-01-07T08:15:35.684Z"
   },
   {
    "duration": 7,
    "start_time": "2025-01-07T08:15:35.835Z"
   },
   {
    "duration": 13,
    "start_time": "2025-01-07T08:15:36.122Z"
   },
   {
    "duration": 17,
    "start_time": "2025-01-07T08:15:36.395Z"
   },
   {
    "duration": 12,
    "start_time": "2025-01-07T08:15:36.664Z"
   },
   {
    "duration": 4,
    "start_time": "2025-01-07T08:15:36.934Z"
   },
   {
    "duration": 7,
    "start_time": "2025-01-07T08:15:37.198Z"
   },
   {
    "duration": 341,
    "start_time": "2025-01-07T08:15:37.646Z"
   },
   {
    "duration": 5,
    "start_time": "2025-01-07T08:15:38.113Z"
   },
   {
    "duration": 680,
    "start_time": "2025-01-07T08:15:38.417Z"
   },
   {
    "duration": 292,
    "start_time": "2025-01-07T08:15:43.226Z"
   },
   {
    "duration": 335,
    "start_time": "2025-01-07T08:19:04.935Z"
   },
   {
    "duration": 5,
    "start_time": "2025-01-07T08:25:56.716Z"
   },
   {
    "duration": 454,
    "start_time": "2025-01-07T08:26:03.901Z"
   },
   {
    "duration": 8,
    "start_time": "2025-01-07T08:31:14.095Z"
   },
   {
    "duration": 7,
    "start_time": "2025-01-07T08:39:16.144Z"
   },
   {
    "duration": 5,
    "start_time": "2025-01-07T08:39:34.181Z"
   },
   {
    "duration": 5,
    "start_time": "2025-01-07T08:40:28.548Z"
   },
   {
    "duration": 4,
    "start_time": "2025-01-07T08:42:15.907Z"
   },
   {
    "duration": 98,
    "start_time": "2025-01-07T08:42:16.399Z"
   },
   {
    "duration": 7,
    "start_time": "2025-01-07T08:42:16.500Z"
   },
   {
    "duration": 16,
    "start_time": "2025-01-07T08:42:16.509Z"
   },
   {
    "duration": 16,
    "start_time": "2025-01-07T08:42:16.569Z"
   },
   {
    "duration": 10,
    "start_time": "2025-01-07T08:42:16.631Z"
   },
   {
    "duration": 5,
    "start_time": "2025-01-07T08:42:16.692Z"
   },
   {
    "duration": 7,
    "start_time": "2025-01-07T08:42:16.756Z"
   },
   {
    "duration": 334,
    "start_time": "2025-01-07T08:42:16.895Z"
   },
   {
    "duration": 5,
    "start_time": "2025-01-07T08:42:17.231Z"
   },
   {
    "duration": 757,
    "start_time": "2025-01-07T08:42:17.237Z"
   },
   {
    "duration": 334,
    "start_time": "2025-01-07T08:42:17.996Z"
   },
   {
    "duration": 6,
    "start_time": "2025-01-07T08:42:18.489Z"
   },
   {
    "duration": 1376,
    "start_time": "2025-01-07T08:42:27.468Z"
   },
   {
    "duration": 6,
    "start_time": "2025-01-07T08:42:44.994Z"
   },
   {
    "duration": 6,
    "start_time": "2025-01-07T08:43:25.582Z"
   },
   {
    "duration": 6,
    "start_time": "2025-01-07T08:47:48.184Z"
   },
   {
    "duration": 5,
    "start_time": "2025-01-07T08:48:04.624Z"
   },
   {
    "duration": 11,
    "start_time": "2025-01-07T09:00:31.030Z"
   },
   {
    "duration": 14,
    "start_time": "2025-01-07T09:00:31.844Z"
   },
   {
    "duration": 7,
    "start_time": "2025-01-07T09:00:32.746Z"
   },
   {
    "duration": 5,
    "start_time": "2025-01-07T09:00:33.911Z"
   },
   {
    "duration": 14,
    "start_time": "2025-01-07T09:00:37.206Z"
   },
   {
    "duration": 6,
    "start_time": "2025-01-07T09:01:17.899Z"
   },
   {
    "duration": 29,
    "start_time": "2025-01-07T09:02:47.734Z"
   },
   {
    "duration": 28,
    "start_time": "2025-01-07T09:04:10.256Z"
   },
   {
    "duration": 3,
    "start_time": "2025-01-07T09:05:04.260Z"
   },
   {
    "duration": 887,
    "start_time": "2025-01-07T09:06:04.993Z"
   },
   {
    "duration": 10,
    "start_time": "2025-01-07T09:06:40.031Z"
   },
   {
    "duration": 7,
    "start_time": "2025-01-07T09:06:40.697Z"
   },
   {
    "duration": 62,
    "start_time": "2025-01-07T09:06:51.514Z"
   },
   {
    "duration": 5,
    "start_time": "2025-01-07T09:07:39.753Z"
   },
   {
    "duration": 62,
    "start_time": "2025-01-07T09:08:13.210Z"
   },
   {
    "duration": 12,
    "start_time": "2025-01-07T09:08:18.347Z"
   },
   {
    "duration": 6,
    "start_time": "2025-01-07T09:08:18.690Z"
   },
   {
    "duration": 750,
    "start_time": "2025-01-07T09:08:22.331Z"
   },
   {
    "duration": 103,
    "start_time": "2025-01-07T09:08:23.171Z"
   },
   {
    "duration": 6,
    "start_time": "2025-01-07T09:09:11.910Z"
   },
   {
    "duration": 6,
    "start_time": "2025-01-07T09:09:22.090Z"
   },
   {
    "duration": 7,
    "start_time": "2025-01-07T09:10:45.128Z"
   },
   {
    "duration": 4,
    "start_time": "2025-01-07T09:10:55.874Z"
   },
   {
    "duration": 85,
    "start_time": "2025-01-07T09:10:56.257Z"
   },
   {
    "duration": 7,
    "start_time": "2025-01-07T09:10:56.462Z"
   },
   {
    "duration": 11,
    "start_time": "2025-01-07T09:10:56.922Z"
   },
   {
    "duration": 16,
    "start_time": "2025-01-07T09:10:57.467Z"
   },
   {
    "duration": 11,
    "start_time": "2025-01-07T09:10:57.530Z"
   },
   {
    "duration": 4,
    "start_time": "2025-01-07T09:10:57.592Z"
   },
   {
    "duration": 7,
    "start_time": "2025-01-07T09:10:57.654Z"
   },
   {
    "duration": 332,
    "start_time": "2025-01-07T09:10:57.792Z"
   },
   {
    "duration": 4,
    "start_time": "2025-01-07T09:10:58.228Z"
   },
   {
    "duration": 864,
    "start_time": "2025-01-07T09:10:58.906Z"
   },
   {
    "duration": 338,
    "start_time": "2025-01-07T09:10:59.772Z"
   },
   {
    "duration": 6,
    "start_time": "2025-01-07T09:11:00.113Z"
   },
   {
    "duration": 5,
    "start_time": "2025-01-07T09:11:00.833Z"
   },
   {
    "duration": 6,
    "start_time": "2025-01-07T09:11:01.175Z"
   },
   {
    "duration": 12,
    "start_time": "2025-01-07T09:11:02.401Z"
   },
   {
    "duration": 14,
    "start_time": "2025-01-07T09:11:04.050Z"
   },
   {
    "duration": 5,
    "start_time": "2025-01-07T09:11:10.744Z"
   },
   {
    "duration": 3,
    "start_time": "2025-01-07T09:11:30.438Z"
   },
   {
    "duration": 115,
    "start_time": "2025-01-07T09:11:30.619Z"
   },
   {
    "duration": 8,
    "start_time": "2025-01-07T09:11:30.778Z"
   },
   {
    "duration": 12,
    "start_time": "2025-01-07T09:11:31.677Z"
   },
   {
    "duration": 18,
    "start_time": "2025-01-07T09:11:32.215Z"
   },
   {
    "duration": 12,
    "start_time": "2025-01-07T09:11:33.015Z"
   },
   {
    "duration": 4,
    "start_time": "2025-01-07T09:11:35.466Z"
   },
   {
    "duration": 7,
    "start_time": "2025-01-07T09:11:36.087Z"
   },
   {
    "duration": 4,
    "start_time": "2025-01-07T09:11:41.704Z"
   },
   {
    "duration": 4,
    "start_time": "2025-01-07T09:14:22.161Z"
   },
   {
    "duration": 1487,
    "start_time": "2025-01-07T09:15:50.154Z"
   },
   {
    "duration": 108,
    "start_time": "2025-01-07T09:16:11.847Z"
   },
   {
    "duration": 6,
    "start_time": "2025-01-07T09:16:49.897Z"
   },
   {
    "duration": 1572,
    "start_time": "2025-01-07T09:25:23.295Z"
   },
   {
    "duration": 83,
    "start_time": "2025-01-07T09:25:24.869Z"
   },
   {
    "duration": 11,
    "start_time": "2025-01-07T09:25:24.954Z"
   },
   {
    "duration": 13,
    "start_time": "2025-01-07T09:25:24.967Z"
   },
   {
    "duration": 16,
    "start_time": "2025-01-07T09:25:24.982Z"
   },
   {
    "duration": 11,
    "start_time": "2025-01-07T09:25:25.000Z"
   },
   {
    "duration": 4,
    "start_time": "2025-01-07T09:25:25.012Z"
   },
   {
    "duration": 10,
    "start_time": "2025-01-07T09:25:25.017Z"
   },
   {
    "duration": 599,
    "start_time": "2025-01-07T09:25:25.028Z"
   },
   {
    "duration": 4,
    "start_time": "2025-01-07T09:25:25.670Z"
   },
   {
    "duration": 1469,
    "start_time": "2025-01-07T09:25:25.676Z"
   },
   {
    "duration": 350,
    "start_time": "2025-01-07T09:25:27.146Z"
   },
   {
    "duration": 8,
    "start_time": "2025-01-07T09:25:27.498Z"
   },
   {
    "duration": 10,
    "start_time": "2025-01-07T09:25:27.508Z"
   },
   {
    "duration": 7,
    "start_time": "2025-01-07T09:25:27.520Z"
   },
   {
    "duration": 45,
    "start_time": "2025-01-07T09:25:27.529Z"
   },
   {
    "duration": 21,
    "start_time": "2025-01-07T09:25:27.576Z"
   },
   {
    "duration": 4,
    "start_time": "2025-01-07T09:25:27.600Z"
   },
   {
    "duration": 10,
    "start_time": "2025-01-07T09:25:27.607Z"
   },
   {
    "duration": 6,
    "start_time": "2025-01-07T09:25:27.619Z"
   },
   {
    "duration": 152,
    "start_time": "2025-01-07T09:25:27.626Z"
   },
   {
    "duration": 92,
    "start_time": "2025-01-07T09:25:27.780Z"
   },
   {
    "duration": 18703,
    "start_time": "2025-01-07T09:25:27.874Z"
   },
   {
    "duration": 192,
    "start_time": "2025-01-07T09:25:46.579Z"
   },
   {
    "duration": 6,
    "start_time": "2025-01-07T09:25:46.773Z"
   },
   {
    "duration": 1513,
    "start_time": "2025-01-07T09:25:46.780Z"
   },
   {
    "duration": 110,
    "start_time": "2025-01-07T09:25:48.295Z"
   },
   {
    "duration": 5,
    "start_time": "2025-01-07T09:25:48.408Z"
   },
   {
    "duration": 1764,
    "start_time": "2025-01-08T14:41:38.601Z"
   },
   {
    "duration": 186,
    "start_time": "2025-01-08T14:41:40.367Z"
   },
   {
    "duration": 11,
    "start_time": "2025-01-08T14:41:40.555Z"
   },
   {
    "duration": 16,
    "start_time": "2025-01-08T14:41:40.568Z"
   },
   {
    "duration": 17,
    "start_time": "2025-01-08T14:41:40.722Z"
   },
   {
    "duration": 11,
    "start_time": "2025-01-08T14:41:41.511Z"
   },
   {
    "duration": 4,
    "start_time": "2025-01-08T14:41:52.840Z"
   },
   {
    "duration": 9,
    "start_time": "2025-01-08T14:41:57.989Z"
   },
   {
    "duration": 469,
    "start_time": "2025-01-08T14:42:03.975Z"
   },
   {
    "duration": 5,
    "start_time": "2025-01-08T14:42:26.632Z"
   },
   {
    "duration": 758,
    "start_time": "2025-01-08T14:42:29.354Z"
   },
   {
    "duration": 324,
    "start_time": "2025-01-08T14:45:01.051Z"
   },
   {
    "duration": 319,
    "start_time": "2025-01-08T14:46:31.116Z"
   },
   {
    "duration": 5,
    "start_time": "2025-01-08T14:46:43.035Z"
   },
   {
    "duration": 6,
    "start_time": "2025-01-08T14:46:45.286Z"
   },
   {
    "duration": 7,
    "start_time": "2025-01-08T14:46:48.558Z"
   },
   {
    "duration": 6,
    "start_time": "2025-01-08T14:46:52.369Z"
   },
   {
    "duration": 116,
    "start_time": "2025-01-08T14:48:25.398Z"
   },
   {
    "duration": 17,
    "start_time": "2025-01-08T14:48:28.840Z"
   },
   {
    "duration": 7,
    "start_time": "2025-01-08T14:48:42.084Z"
   },
   {
    "duration": 24,
    "start_time": "2025-01-08T14:48:51.108Z"
   },
   {
    "duration": 27,
    "start_time": "2025-01-08T14:49:21.713Z"
   },
   {
    "duration": 4,
    "start_time": "2025-01-08T14:49:33.966Z"
   },
   {
    "duration": 13,
    "start_time": "2025-01-08T14:49:41.736Z"
   },
   {
    "duration": 6,
    "start_time": "2025-01-08T14:49:51.079Z"
   },
   {
    "duration": 202,
    "start_time": "2025-01-08T14:49:54.961Z"
   },
   {
    "duration": 5,
    "start_time": "2025-01-08T14:49:57.035Z"
   },
   {
    "duration": 1233,
    "start_time": "2025-01-08T14:50:24.127Z"
   },
   {
    "duration": 102,
    "start_time": "2025-01-08T14:50:25.362Z"
   },
   {
    "duration": 6,
    "start_time": "2025-01-08T14:50:27.254Z"
   },
   {
    "duration": 4188,
    "start_time": "2025-01-08T14:50:29.520Z"
   },
   {
    "duration": 127,
    "start_time": "2025-01-08T14:50:33.710Z"
   },
   {
    "duration": 6,
    "start_time": "2025-01-08T14:50:36.893Z"
   },
   {
    "duration": 4,
    "start_time": "2025-01-08T14:51:14.624Z"
   },
   {
    "duration": 77,
    "start_time": "2025-01-08T14:51:14.814Z"
   },
   {
    "duration": 7,
    "start_time": "2025-01-08T14:51:14.990Z"
   },
   {
    "duration": 13,
    "start_time": "2025-01-08T14:51:15.298Z"
   },
   {
    "duration": 16,
    "start_time": "2025-01-08T14:51:15.681Z"
   },
   {
    "duration": 11,
    "start_time": "2025-01-08T14:51:16.014Z"
   },
   {
    "duration": 4,
    "start_time": "2025-01-08T14:51:16.368Z"
   },
   {
    "duration": 4,
    "start_time": "2025-01-08T15:02:11.771Z"
   },
   {
    "duration": 74,
    "start_time": "2025-01-08T15:02:12.192Z"
   },
   {
    "duration": 8,
    "start_time": "2025-01-08T15:02:12.268Z"
   },
   {
    "duration": 13,
    "start_time": "2025-01-08T15:02:12.291Z"
   },
   {
    "duration": 16,
    "start_time": "2025-01-08T15:02:12.348Z"
   },
   {
    "duration": 12,
    "start_time": "2025-01-08T15:02:12.428Z"
   },
   {
    "duration": 5,
    "start_time": "2025-01-08T15:02:12.486Z"
   },
   {
    "duration": 8,
    "start_time": "2025-01-08T15:02:12.586Z"
   },
   {
    "duration": 332,
    "start_time": "2025-01-08T15:02:12.755Z"
   },
   {
    "duration": 4,
    "start_time": "2025-01-08T15:02:13.910Z"
   },
   {
    "duration": 719,
    "start_time": "2025-01-08T15:02:15.860Z"
   },
   {
    "duration": 358,
    "start_time": "2025-01-08T15:02:17.776Z"
   },
   {
    "duration": 5,
    "start_time": "2025-01-08T15:02:20.887Z"
   },
   {
    "duration": 6,
    "start_time": "2025-01-08T15:02:35.102Z"
   },
   {
    "duration": 6,
    "start_time": "2025-01-08T15:02:36.589Z"
   },
   {
    "duration": 5,
    "start_time": "2025-01-08T15:02:38.166Z"
   },
   {
    "duration": 26,
    "start_time": "2025-01-08T15:04:21.506Z"
   },
   {
    "duration": 26,
    "start_time": "2025-01-08T15:04:25.849Z"
   },
   {
    "duration": 26,
    "start_time": "2025-01-08T15:04:38.857Z"
   },
   {
    "duration": 4,
    "start_time": "2025-01-08T15:08:27.001Z"
   },
   {
    "duration": 12,
    "start_time": "2025-01-08T15:08:27.788Z"
   },
   {
    "duration": 6,
    "start_time": "2025-01-08T15:08:31.268Z"
   },
   {
    "duration": 10,
    "start_time": "2025-01-08T15:09:11.955Z"
   },
   {
    "duration": 5,
    "start_time": "2025-01-08T15:13:22.940Z"
   },
   {
    "duration": 127,
    "start_time": "2025-01-08T15:14:13.929Z"
   },
   {
    "duration": 148,
    "start_time": "2025-01-08T15:15:07.814Z"
   },
   {
    "duration": 6,
    "start_time": "2025-01-08T15:15:10.621Z"
   },
   {
    "duration": 4,
    "start_time": "2025-01-08T15:20:50.875Z"
   },
   {
    "duration": 173,
    "start_time": "2025-01-08T15:22:41.689Z"
   },
   {
    "duration": 6,
    "start_time": "2025-01-08T15:22:42.920Z"
   },
   {
    "duration": 69,
    "start_time": "2025-01-08T15:24:52.900Z"
   },
   {
    "duration": 4,
    "start_time": "2025-01-08T15:25:01.477Z"
   },
   {
    "duration": 13,
    "start_time": "2025-01-08T15:28:14.827Z"
   },
   {
    "duration": 434065,
    "start_time": "2025-01-08T15:28:24.794Z"
   },
   {
    "duration": 4,
    "start_time": "2025-01-08T15:35:38.861Z"
   },
   {
    "duration": 12,
    "start_time": "2025-01-08T15:36:48.761Z"
   },
   {
    "duration": 3,
    "start_time": "2025-01-08T15:36:58.083Z"
   },
   {
    "duration": 443613,
    "start_time": "2025-01-08T15:36:58.504Z"
   },
   {
    "duration": 850292,
    "start_time": "2025-01-08T15:44:24.514Z"
   },
   {
    "duration": 5,
    "start_time": "2025-01-08T15:59:26.157Z"
   },
   {
    "duration": 145940,
    "start_time": "2025-01-08T15:59:57.146Z"
   },
   {
    "duration": 5,
    "start_time": "2025-01-08T16:02:49.901Z"
   },
   {
    "duration": 3,
    "start_time": "2025-01-08T16:02:54.602Z"
   },
   {
    "duration": 13,
    "start_time": "2025-01-08T16:03:11.929Z"
   },
   {
    "duration": 5,
    "start_time": "2025-01-08T16:03:20.806Z"
   },
   {
    "duration": 3,
    "start_time": "2025-01-08T16:03:30.180Z"
   },
   {
    "duration": 966372,
    "start_time": "2025-01-08T16:03:45.601Z"
   },
   {
    "duration": 3,
    "start_time": "2025-01-08T16:19:52.059Z"
   },
   {
    "duration": 515318,
    "start_time": "2025-01-08T16:19:52.064Z"
   },
   {
    "duration": 13,
    "start_time": "2025-01-08T16:41:24.391Z"
   },
   {
    "duration": 74,
    "start_time": "2025-01-08T16:42:32.400Z"
   },
   {
    "duration": 11,
    "start_time": "2025-01-08T16:42:38.622Z"
   },
   {
    "duration": 5,
    "start_time": "2025-01-08T16:42:58.502Z"
   },
   {
    "duration": 1032,
    "start_time": "2025-01-08T16:43:01.230Z"
   },
   {
    "duration": 89,
    "start_time": "2025-01-08T16:49:47.478Z"
   },
   {
    "duration": 66,
    "start_time": "2025-01-08T16:49:52.894Z"
   },
   {
    "duration": 285,
    "start_time": "2025-01-08T16:53:32.579Z"
   },
   {
    "duration": 249,
    "start_time": "2025-01-08T16:54:01.561Z"
   },
   {
    "duration": 304,
    "start_time": "2025-01-08T16:55:26.326Z"
   },
   {
    "duration": 268,
    "start_time": "2025-01-08T16:56:08.947Z"
   },
   {
    "duration": 177,
    "start_time": "2025-01-08T16:56:23.793Z"
   },
   {
    "duration": 173,
    "start_time": "2025-01-08T16:56:46.806Z"
   },
   {
    "duration": 264,
    "start_time": "2025-01-08T16:57:03.546Z"
   },
   {
    "duration": 265,
    "start_time": "2025-01-08T16:58:21.038Z"
   },
   {
    "duration": 2036,
    "start_time": "2025-01-08T16:58:44.153Z"
   },
   {
    "duration": 89,
    "start_time": "2025-01-08T16:58:46.192Z"
   },
   {
    "duration": 12,
    "start_time": "2025-01-08T16:58:46.283Z"
   },
   {
    "duration": 66,
    "start_time": "2025-01-08T16:58:46.298Z"
   },
   {
    "duration": 19,
    "start_time": "2025-01-08T16:58:46.366Z"
   },
   {
    "duration": 15,
    "start_time": "2025-01-08T16:58:46.387Z"
   },
   {
    "duration": 7,
    "start_time": "2025-01-08T16:58:46.460Z"
   },
   {
    "duration": 16,
    "start_time": "2025-01-08T16:58:46.469Z"
   },
   {
    "duration": 816,
    "start_time": "2025-01-08T16:58:46.488Z"
   },
   {
    "duration": 4,
    "start_time": "2025-01-08T16:58:47.308Z"
   },
   {
    "duration": 1464,
    "start_time": "2025-01-08T16:58:47.360Z"
   },
   {
    "duration": 343,
    "start_time": "2025-01-08T16:58:48.826Z"
   },
   {
    "duration": 5,
    "start_time": "2025-01-08T16:58:49.171Z"
   },
   {
    "duration": 7,
    "start_time": "2025-01-08T16:58:49.177Z"
   },
   {
    "duration": 7,
    "start_time": "2025-01-08T16:58:49.185Z"
   },
   {
    "duration": 11,
    "start_time": "2025-01-08T16:58:49.194Z"
   },
   {
    "duration": 58,
    "start_time": "2025-01-08T16:58:49.207Z"
   },
   {
    "duration": 26,
    "start_time": "2025-01-08T16:58:49.267Z"
   },
   {
    "duration": 4,
    "start_time": "2025-01-08T16:58:49.295Z"
   },
   {
    "duration": 12,
    "start_time": "2025-01-08T16:58:49.301Z"
   },
   {
    "duration": 7,
    "start_time": "2025-01-08T16:58:49.315Z"
   },
   {
    "duration": 156,
    "start_time": "2025-01-08T16:58:49.324Z"
   },
   {
    "duration": 0,
    "start_time": "2025-01-08T16:58:49.482Z"
   },
   {
    "duration": 0,
    "start_time": "2025-01-08T16:58:49.484Z"
   },
   {
    "duration": 0,
    "start_time": "2025-01-08T16:58:49.485Z"
   },
   {
    "duration": 0,
    "start_time": "2025-01-08T16:58:49.486Z"
   },
   {
    "duration": 0,
    "start_time": "2025-01-08T16:58:49.488Z"
   },
   {
    "duration": 0,
    "start_time": "2025-01-08T16:58:49.488Z"
   },
   {
    "duration": 1716,
    "start_time": "2025-01-08T16:59:25.847Z"
   },
   {
    "duration": 115,
    "start_time": "2025-01-08T16:59:27.565Z"
   },
   {
    "duration": 16,
    "start_time": "2025-01-08T16:59:27.682Z"
   },
   {
    "duration": 72,
    "start_time": "2025-01-08T16:59:27.701Z"
   },
   {
    "duration": 23,
    "start_time": "2025-01-08T16:59:27.775Z"
   },
   {
    "duration": 66,
    "start_time": "2025-01-08T16:59:27.799Z"
   },
   {
    "duration": 5,
    "start_time": "2025-01-08T16:59:27.867Z"
   },
   {
    "duration": 16,
    "start_time": "2025-01-08T16:59:27.874Z"
   },
   {
    "duration": 868,
    "start_time": "2025-01-08T16:59:27.892Z"
   },
   {
    "duration": 6,
    "start_time": "2025-01-08T16:59:28.766Z"
   },
   {
    "duration": 986,
    "start_time": "2025-01-08T16:59:28.774Z"
   },
   {
    "duration": 354,
    "start_time": "2025-01-08T16:59:29.762Z"
   },
   {
    "duration": 5,
    "start_time": "2025-01-08T16:59:30.118Z"
   },
   {
    "duration": 28,
    "start_time": "2025-01-08T16:59:30.125Z"
   },
   {
    "duration": 37,
    "start_time": "2025-01-08T16:59:30.155Z"
   },
   {
    "duration": 16,
    "start_time": "2025-01-08T16:59:30.194Z"
   },
   {
    "duration": 43,
    "start_time": "2025-01-08T16:59:30.212Z"
   },
   {
    "duration": 31,
    "start_time": "2025-01-08T16:59:30.256Z"
   },
   {
    "duration": 33,
    "start_time": "2025-01-08T16:59:30.289Z"
   },
   {
    "duration": 25,
    "start_time": "2025-01-08T16:59:30.325Z"
   },
   {
    "duration": 24,
    "start_time": "2025-01-08T16:59:30.352Z"
   },
   {
    "duration": 987,
    "start_time": "2025-01-08T16:59:30.378Z"
   },
   {
    "duration": 92,
    "start_time": "2025-01-08T16:59:31.368Z"
   },
   {
    "duration": 1686,
    "start_time": "2025-01-08T18:24:30.700Z"
   },
   {
    "duration": 92,
    "start_time": "2025-01-08T18:24:32.389Z"
   },
   {
    "duration": 12,
    "start_time": "2025-01-08T18:24:32.484Z"
   },
   {
    "duration": 15,
    "start_time": "2025-01-08T18:24:32.498Z"
   },
   {
    "duration": 17,
    "start_time": "2025-01-08T18:24:32.515Z"
   },
   {
    "duration": 44,
    "start_time": "2025-01-08T18:24:32.534Z"
   },
   {
    "duration": 4,
    "start_time": "2025-01-08T18:24:32.580Z"
   },
   {
    "duration": 11,
    "start_time": "2025-01-08T18:24:32.586Z"
   },
   {
    "duration": 474,
    "start_time": "2025-01-08T18:24:32.599Z"
   },
   {
    "duration": 6,
    "start_time": "2025-01-08T18:24:33.079Z"
   },
   {
    "duration": 879,
    "start_time": "2025-01-08T18:24:33.087Z"
   },
   {
    "duration": 417,
    "start_time": "2025-01-08T18:24:33.968Z"
   },
   {
    "duration": 5,
    "start_time": "2025-01-08T18:24:34.387Z"
   },
   {
    "duration": 27,
    "start_time": "2025-01-08T18:24:34.394Z"
   },
   {
    "duration": 34,
    "start_time": "2025-01-08T18:24:34.423Z"
   },
   {
    "duration": 21,
    "start_time": "2025-01-08T18:24:34.459Z"
   },
   {
    "duration": 48,
    "start_time": "2025-01-08T18:24:34.482Z"
   },
   {
    "duration": 26,
    "start_time": "2025-01-08T18:24:34.532Z"
   },
   {
    "duration": 6,
    "start_time": "2025-01-08T18:24:34.560Z"
   },
   {
    "duration": 15,
    "start_time": "2025-01-08T18:24:34.568Z"
   },
   {
    "duration": 7,
    "start_time": "2025-01-08T18:24:34.584Z"
   },
   {
    "duration": 1072,
    "start_time": "2025-01-08T18:24:34.593Z"
   },
   {
    "duration": 4,
    "start_time": "2025-01-08T18:24:35.669Z"
   },
   {
    "duration": 1006188,
    "start_time": "2025-01-08T18:24:35.677Z"
   },
   {
    "duration": 3,
    "start_time": "2025-01-08T18:41:21.867Z"
   },
   {
    "duration": 2365,
    "start_time": "2025-01-09T16:03:49.130Z"
   },
   {
    "duration": 193,
    "start_time": "2025-01-09T16:03:51.497Z"
   },
   {
    "duration": 14,
    "start_time": "2025-01-09T16:03:51.693Z"
   },
   {
    "duration": 18,
    "start_time": "2025-01-09T16:03:51.709Z"
   },
   {
    "duration": 30,
    "start_time": "2025-01-09T16:03:51.730Z"
   },
   {
    "duration": 12,
    "start_time": "2025-01-09T16:03:51.763Z"
   },
   {
    "duration": 11,
    "start_time": "2025-01-09T16:03:51.777Z"
   },
   {
    "duration": 14,
    "start_time": "2025-01-09T16:03:51.789Z"
   },
   {
    "duration": 426,
    "start_time": "2025-01-09T16:03:51.806Z"
   },
   {
    "duration": 5,
    "start_time": "2025-01-09T16:03:52.234Z"
   },
   {
    "duration": 885,
    "start_time": "2025-01-09T16:03:52.241Z"
   },
   {
    "duration": 354,
    "start_time": "2025-01-09T16:03:53.129Z"
   },
   {
    "duration": 5,
    "start_time": "2025-01-09T16:03:53.485Z"
   },
   {
    "duration": 9,
    "start_time": "2025-01-09T16:03:53.492Z"
   },
   {
    "duration": 6,
    "start_time": "2025-01-09T16:03:53.503Z"
   },
   {
    "duration": 6,
    "start_time": "2025-01-09T16:03:53.511Z"
   },
   {
    "duration": 55,
    "start_time": "2025-01-09T16:03:53.519Z"
   },
   {
    "duration": 25,
    "start_time": "2025-01-09T16:03:53.575Z"
   },
   {
    "duration": 17,
    "start_time": "2025-01-09T16:03:53.602Z"
   },
   {
    "duration": 41,
    "start_time": "2025-01-09T16:03:53.621Z"
   },
   {
    "duration": 12,
    "start_time": "2025-01-09T16:03:53.663Z"
   },
   {
    "duration": 586,
    "start_time": "2025-01-09T16:03:53.677Z"
   },
   {
    "duration": 3,
    "start_time": "2025-01-09T16:03:54.265Z"
   }
  ],
  "kernelspec": {
   "display_name": "Python 3 (ipykernel)",
   "language": "python",
   "name": "python3"
  },
  "language_info": {
   "codemirror_mode": {
    "name": "ipython",
    "version": 3
   },
   "file_extension": ".py",
   "mimetype": "text/x-python",
   "name": "python",
   "nbconvert_exporter": "python",
   "pygments_lexer": "ipython3",
   "version": "3.9.20"
  },
  "toc": {
   "base_numbering": 1,
   "nav_menu": {},
   "number_sections": true,
   "sideBar": true,
   "skip_h1_title": true,
   "title_cell": "Содержание",
   "title_sidebar": "Contents",
   "toc_cell": true,
   "toc_position": {
    "height": "calc(100% - 180px)",
    "left": "10px",
    "top": "150px",
    "width": "363px"
   },
   "toc_section_display": true,
   "toc_window_display": true
  }
 },
 "nbformat": 4,
 "nbformat_minor": 4
}
